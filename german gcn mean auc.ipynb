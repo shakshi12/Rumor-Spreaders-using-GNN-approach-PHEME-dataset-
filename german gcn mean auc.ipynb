{
  "nbformat": 4,
  "nbformat_minor": 0,
  "metadata": {
    "colab": {
      "name": "Charliehebdo_gcn_Copy1_spektral_german.ipynb",
      "provenance": [],
      "collapsed_sections": []
    },
    "kernelspec": {
      "display_name": "Python 3",
      "language": "python",
      "name": "python3"
    },
    "language_info": {
      "codemirror_mode": {
        "name": "ipython",
        "version": 3
      },
      "file_extension": ".py",
      "mimetype": "text/x-python",
      "name": "python",
      "nbconvert_exporter": "python",
      "pygments_lexer": "ipython3",
      "version": "3.6.8"
    }
  },
  "cells": [
    {
      "cell_type": "code",
      "metadata": {
        "colab_type": "code",
        "id": "fgVJT7PRV0UR",
        "outputId": "efe3b080-24a1-47ea-e568-7cc18b5e6c2f",
        "colab": {
          "base_uri": "https://localhost:8080/",
          "height": 692
        }
      },
      "source": [
        "!sudo apt install graphviz libgraphviz-dev libcgraph6"
      ],
      "execution_count": 1,
      "outputs": [
        {
          "output_type": "stream",
          "text": [
            "Reading package lists... Done\n",
            "Building dependency tree       \n",
            "Reading state information... Done\n",
            "graphviz is already the newest version (2.40.1-2).\n",
            "libcgraph6 is already the newest version (2.40.1-2).\n",
            "libcgraph6 set to manually installed.\n",
            "The following NEW packages will be installed:\n",
            "  libgraphviz-dev libgvc6-plugins-gtk libxdot4\n",
            "0 upgraded, 3 newly installed, 0 to remove and 25 not upgraded.\n",
            "Need to get 91.3 kB of archives.\n",
            "After this operation, 425 kB of additional disk space will be used.\n",
            "Get:1 http://archive.ubuntu.com/ubuntu bionic/universe amd64 libxdot4 amd64 2.40.1-2 [15.7 kB]\n",
            "Get:2 http://archive.ubuntu.com/ubuntu bionic/universe amd64 libgvc6-plugins-gtk amd64 2.40.1-2 [18.2 kB]\n",
            "Get:3 http://archive.ubuntu.com/ubuntu bionic/universe amd64 libgraphviz-dev amd64 2.40.1-2 [57.3 kB]\n",
            "Fetched 91.3 kB in 2s (52.7 kB/s)\n",
            "debconf: unable to initialize frontend: Dialog\n",
            "debconf: (No usable dialog-like program is installed, so the dialog based frontend cannot be used. at /usr/share/perl5/Debconf/FrontEnd/Dialog.pm line 76, <> line 3.)\n",
            "debconf: falling back to frontend: Readline\n",
            "debconf: unable to initialize frontend: Readline\n",
            "debconf: (This frontend requires a controlling tty.)\n",
            "debconf: falling back to frontend: Teletype\n",
            "dpkg-preconfigure: unable to re-open stdin: \n",
            "Selecting previously unselected package libxdot4.\n",
            "(Reading database ... 144568 files and directories currently installed.)\n",
            "Preparing to unpack .../libxdot4_2.40.1-2_amd64.deb ...\n",
            "Unpacking libxdot4 (2.40.1-2) ...\n",
            "Selecting previously unselected package libgvc6-plugins-gtk.\n",
            "Preparing to unpack .../libgvc6-plugins-gtk_2.40.1-2_amd64.deb ...\n",
            "Unpacking libgvc6-plugins-gtk (2.40.1-2) ...\n",
            "Selecting previously unselected package libgraphviz-dev.\n",
            "Preparing to unpack .../libgraphviz-dev_2.40.1-2_amd64.deb ...\n",
            "Unpacking libgraphviz-dev (2.40.1-2) ...\n",
            "Setting up libxdot4 (2.40.1-2) ...\n",
            "Setting up libgvc6-plugins-gtk (2.40.1-2) ...\n",
            "Setting up libgraphviz-dev (2.40.1-2) ...\n",
            "Processing triggers for man-db (2.8.3-2ubuntu0.1) ...\n",
            "Processing triggers for libc-bin (2.27-3ubuntu1) ...\n",
            "/sbin/ldconfig.real: /usr/local/lib/python3.6/dist-packages/ideep4py/lib/libmkldnn.so.0 is not a symbolic link\n",
            "\n"
          ],
          "name": "stdout"
        }
      ]
    },
    {
      "cell_type": "code",
      "metadata": {
        "colab_type": "code",
        "id": "3vRQG-yaV3Qz",
        "outputId": "614110f7-7e68-4cbd-991a-484c73edff55",
        "colab": {
          "base_uri": "https://localhost:8080/",
          "height": 978
        }
      },
      "source": [
        "!pip install spektral"
      ],
      "execution_count": 2,
      "outputs": [
        {
          "output_type": "stream",
          "text": [
            "Collecting spektral\n",
            "\u001b[?25l  Downloading https://files.pythonhosted.org/packages/5c/1e/ff672abdf656c40e17bbec876f4c6c417777f36411b0046855a9562a6e40/spektral-0.4.0-py3-none-any.whl (78kB)\n",
            "\r\u001b[K     |████▏                           | 10kB 17.5MB/s eta 0:00:01\r\u001b[K     |████████▍                       | 20kB 1.8MB/s eta 0:00:01\r\u001b[K     |████████████▌                   | 30kB 2.3MB/s eta 0:00:01\r\u001b[K     |████████████████▊               | 40kB 2.5MB/s eta 0:00:01\r\u001b[K     |████████████████████▉           | 51kB 2.0MB/s eta 0:00:01\r\u001b[K     |█████████████████████████       | 61kB 2.3MB/s eta 0:00:01\r\u001b[K     |█████████████████████████████▎  | 71kB 2.5MB/s eta 0:00:01\r\u001b[K     |████████████████████████████████| 81kB 2.3MB/s \n",
            "\u001b[?25hRequirement already satisfied: numpy in /usr/local/lib/python3.6/dist-packages (from spektral) (1.18.2)\n",
            "Requirement already satisfied: pandas in /usr/local/lib/python3.6/dist-packages (from spektral) (1.0.3)\n",
            "Requirement already satisfied: tensorflow>=2.1.0 in /usr/local/lib/python3.6/dist-packages (from spektral) (2.2.0rc3)\n",
            "Requirement already satisfied: lxml in /usr/local/lib/python3.6/dist-packages (from spektral) (4.2.6)\n",
            "Requirement already satisfied: networkx in /usr/local/lib/python3.6/dist-packages (from spektral) (2.4)\n",
            "Requirement already satisfied: scipy in /usr/local/lib/python3.6/dist-packages (from spektral) (1.4.1)\n",
            "Requirement already satisfied: scikit-learn in /usr/local/lib/python3.6/dist-packages (from spektral) (0.22.2.post1)\n",
            "Collecting pygraphviz\n",
            "\u001b[?25l  Downloading https://files.pythonhosted.org/packages/7e/b1/d6d849ddaf6f11036f9980d433f383d4c13d1ebcfc3cd09bc845bda7e433/pygraphviz-1.5.zip (117kB)\n",
            "\r\u001b[K     |██▉                             | 10kB 20.2MB/s eta 0:00:01\r\u001b[K     |█████▋                          | 20kB 27.9MB/s eta 0:00:01\r\u001b[K     |████████▍                       | 30kB 26.1MB/s eta 0:00:01\r\u001b[K     |███████████▏                    | 40kB 19.7MB/s eta 0:00:01\r\u001b[K     |██████████████                  | 51kB 13.3MB/s eta 0:00:01\r\u001b[K     |████████████████▊               | 61kB 12.7MB/s eta 0:00:01\r\u001b[K     |███████████████████▌            | 71kB 12.6MB/s eta 0:00:01\r\u001b[K     |██████████████████████▎         | 81kB 12.1MB/s eta 0:00:01\r\u001b[K     |█████████████████████████       | 92kB 7.9MB/s eta 0:00:01\r\u001b[K     |███████████████████████████▉    | 102kB 8.4MB/s eta 0:00:01\r\u001b[K     |██████████████████████████████▋ | 112kB 8.4MB/s eta 0:00:01\r\u001b[K     |████████████████████████████████| 122kB 8.4MB/s \n",
            "\u001b[?25hRequirement already satisfied: requests in /usr/local/lib/python3.6/dist-packages (from spektral) (2.21.0)\n",
            "Requirement already satisfied: joblib in /usr/local/lib/python3.6/dist-packages (from spektral) (0.14.1)\n",
            "Requirement already satisfied: python-dateutil>=2.6.1 in /usr/local/lib/python3.6/dist-packages (from pandas->spektral) (2.8.1)\n",
            "Requirement already satisfied: pytz>=2017.2 in /usr/local/lib/python3.6/dist-packages (from pandas->spektral) (2018.9)\n",
            "Requirement already satisfied: gast==0.3.3 in /usr/local/lib/python3.6/dist-packages (from tensorflow>=2.1.0->spektral) (0.3.3)\n",
            "Requirement already satisfied: tensorflow-estimator<2.3.0,>=2.2.0rc0 in /usr/local/lib/python3.6/dist-packages (from tensorflow>=2.1.0->spektral) (2.2.0rc0)\n",
            "Requirement already satisfied: astunparse==1.6.3 in /usr/local/lib/python3.6/dist-packages (from tensorflow>=2.1.0->spektral) (1.6.3)\n",
            "Requirement already satisfied: wheel>=0.26; python_version >= \"3\" in /usr/local/lib/python3.6/dist-packages (from tensorflow>=2.1.0->spektral) (0.34.2)\n",
            "Requirement already satisfied: grpcio>=1.8.6 in /usr/local/lib/python3.6/dist-packages (from tensorflow>=2.1.0->spektral) (1.28.1)\n",
            "Requirement already satisfied: opt-einsum>=2.3.2 in /usr/local/lib/python3.6/dist-packages (from tensorflow>=2.1.0->spektral) (3.2.0)\n",
            "Requirement already satisfied: protobuf>=3.8.0 in /usr/local/lib/python3.6/dist-packages (from tensorflow>=2.1.0->spektral) (3.10.0)\n",
            "Requirement already satisfied: tensorboard<2.3.0,>=2.2.0 in /usr/local/lib/python3.6/dist-packages (from tensorflow>=2.1.0->spektral) (2.2.0)\n",
            "Requirement already satisfied: termcolor>=1.1.0 in /usr/local/lib/python3.6/dist-packages (from tensorflow>=2.1.0->spektral) (1.1.0)\n",
            "Requirement already satisfied: wrapt>=1.11.1 in /usr/local/lib/python3.6/dist-packages (from tensorflow>=2.1.0->spektral) (1.12.1)\n",
            "Requirement already satisfied: absl-py>=0.7.0 in /usr/local/lib/python3.6/dist-packages (from tensorflow>=2.1.0->spektral) (0.9.0)\n",
            "Requirement already satisfied: h5py<2.11.0,>=2.10.0 in /usr/local/lib/python3.6/dist-packages (from tensorflow>=2.1.0->spektral) (2.10.0)\n",
            "Requirement already satisfied: google-pasta>=0.1.8 in /usr/local/lib/python3.6/dist-packages (from tensorflow>=2.1.0->spektral) (0.2.0)\n",
            "Requirement already satisfied: keras-preprocessing>=1.1.0 in /usr/local/lib/python3.6/dist-packages (from tensorflow>=2.1.0->spektral) (1.1.0)\n",
            "Requirement already satisfied: six>=1.12.0 in /usr/local/lib/python3.6/dist-packages (from tensorflow>=2.1.0->spektral) (1.12.0)\n",
            "Requirement already satisfied: decorator>=4.3.0 in /usr/local/lib/python3.6/dist-packages (from networkx->spektral) (4.4.2)\n",
            "Requirement already satisfied: certifi>=2017.4.17 in /usr/local/lib/python3.6/dist-packages (from requests->spektral) (2020.4.5.1)\n",
            "Requirement already satisfied: urllib3<1.25,>=1.21.1 in /usr/local/lib/python3.6/dist-packages (from requests->spektral) (1.24.3)\n",
            "Requirement already satisfied: chardet<3.1.0,>=3.0.2 in /usr/local/lib/python3.6/dist-packages (from requests->spektral) (3.0.4)\n",
            "Requirement already satisfied: idna<2.9,>=2.5 in /usr/local/lib/python3.6/dist-packages (from requests->spektral) (2.8)\n",
            "Requirement already satisfied: setuptools in /usr/local/lib/python3.6/dist-packages (from protobuf>=3.8.0->tensorflow>=2.1.0->spektral) (46.1.3)\n",
            "Requirement already satisfied: werkzeug>=0.11.15 in /usr/local/lib/python3.6/dist-packages (from tensorboard<2.3.0,>=2.2.0->tensorflow>=2.1.0->spektral) (1.0.1)\n",
            "Requirement already satisfied: markdown>=2.6.8 in /usr/local/lib/python3.6/dist-packages (from tensorboard<2.3.0,>=2.2.0->tensorflow>=2.1.0->spektral) (3.2.1)\n",
            "Requirement already satisfied: tensorboard-plugin-wit>=1.6.0 in /usr/local/lib/python3.6/dist-packages (from tensorboard<2.3.0,>=2.2.0->tensorflow>=2.1.0->spektral) (1.6.0.post3)\n",
            "Requirement already satisfied: google-auth<2,>=1.6.3 in /usr/local/lib/python3.6/dist-packages (from tensorboard<2.3.0,>=2.2.0->tensorflow>=2.1.0->spektral) (1.7.2)\n",
            "Requirement already satisfied: google-auth-oauthlib<0.5,>=0.4.1 in /usr/local/lib/python3.6/dist-packages (from tensorboard<2.3.0,>=2.2.0->tensorflow>=2.1.0->spektral) (0.4.1)\n",
            "Requirement already satisfied: pyasn1-modules>=0.2.1 in /usr/local/lib/python3.6/dist-packages (from google-auth<2,>=1.6.3->tensorboard<2.3.0,>=2.2.0->tensorflow>=2.1.0->spektral) (0.2.8)\n",
            "Requirement already satisfied: cachetools<3.2,>=2.0.0 in /usr/local/lib/python3.6/dist-packages (from google-auth<2,>=1.6.3->tensorboard<2.3.0,>=2.2.0->tensorflow>=2.1.0->spektral) (3.1.1)\n",
            "Requirement already satisfied: rsa<4.1,>=3.1.4 in /usr/local/lib/python3.6/dist-packages (from google-auth<2,>=1.6.3->tensorboard<2.3.0,>=2.2.0->tensorflow>=2.1.0->spektral) (4.0)\n",
            "Requirement already satisfied: requests-oauthlib>=0.7.0 in /usr/local/lib/python3.6/dist-packages (from google-auth-oauthlib<0.5,>=0.4.1->tensorboard<2.3.0,>=2.2.0->tensorflow>=2.1.0->spektral) (1.3.0)\n",
            "Requirement already satisfied: pyasn1<0.5.0,>=0.4.6 in /usr/local/lib/python3.6/dist-packages (from pyasn1-modules>=0.2.1->google-auth<2,>=1.6.3->tensorboard<2.3.0,>=2.2.0->tensorflow>=2.1.0->spektral) (0.4.8)\n",
            "Requirement already satisfied: oauthlib>=3.0.0 in /usr/local/lib/python3.6/dist-packages (from requests-oauthlib>=0.7.0->google-auth-oauthlib<0.5,>=0.4.1->tensorboard<2.3.0,>=2.2.0->tensorflow>=2.1.0->spektral) (3.1.0)\n",
            "Building wheels for collected packages: pygraphviz\n",
            "  Building wheel for pygraphviz (setup.py) ... \u001b[?25l\u001b[?25hdone\n",
            "  Created wheel for pygraphviz: filename=pygraphviz-1.5-cp36-cp36m-linux_x86_64.whl size=157586 sha256=d1a8ac336b51f837c69fe7cf4fface806a317715f6967b3b23227dd2a385f58c\n",
            "  Stored in directory: /root/.cache/pip/wheels/65/54/69/1aee9e66ab19916293208d4c9de0d3898adebe6b2eeff6476b\n",
            "Successfully built pygraphviz\n",
            "Installing collected packages: pygraphviz, spektral\n",
            "Successfully installed pygraphviz-1.5 spektral-0.4.0\n"
          ],
          "name": "stdout"
        }
      ]
    },
    {
      "cell_type": "code",
      "metadata": {
        "colab_type": "code",
        "id": "uAXc1JypWGlj",
        "outputId": "0612f168-832f-4526-c4f9-33384a505eea",
        "colab": {
          "base_uri": "https://localhost:8080/",
          "height": 134
        }
      },
      "source": [
        "!git clone https://github.com/danielegrattarola/spektral.git"
      ],
      "execution_count": 3,
      "outputs": [
        {
          "output_type": "stream",
          "text": [
            "Cloning into 'spektral'...\n",
            "remote: Enumerating objects: 532, done.\u001b[K\n",
            "remote: Counting objects: 100% (532/532), done.\u001b[K\n",
            "remote: Compressing objects: 100% (291/291), done.\u001b[K\n",
            "remote: Total 3483 (delta 308), reused 383 (delta 188), pack-reused 2951\u001b[K\n",
            "Receiving objects: 100% (3483/3483), 5.65 MiB | 4.28 MiB/s, done.\n",
            "Resolving deltas: 100% (2132/2132), done.\n"
          ],
          "name": "stdout"
        }
      ]
    },
    {
      "cell_type": "code",
      "metadata": {
        "colab_type": "code",
        "id": "DtHvfsmXWQ68",
        "outputId": "4244a6dd-c7a4-4b70-d13e-d03e68f0c789",
        "colab": {
          "base_uri": "https://localhost:8080/",
          "height": 34
        }
      },
      "source": [
        "cd spektral"
      ],
      "execution_count": 4,
      "outputs": [
        {
          "output_type": "stream",
          "text": [
            "/content/spektral\n"
          ],
          "name": "stdout"
        }
      ]
    },
    {
      "cell_type": "code",
      "metadata": {
        "colab_type": "code",
        "id": "fhvT_HvbWTil",
        "outputId": "b1daac09-23fe-4358-fe2a-42b2cebcdbd7",
        "colab": {
          "base_uri": "https://localhost:8080/",
          "height": 1000
        }
      },
      "source": [
        "!python setup.py install"
      ],
      "execution_count": 5,
      "outputs": [
        {
          "output_type": "stream",
          "text": [
            "running install\n",
            "running bdist_egg\n",
            "running egg_info\n",
            "creating spektral.egg-info\n",
            "writing spektral.egg-info/PKG-INFO\n",
            "writing dependency_links to spektral.egg-info/dependency_links.txt\n",
            "writing requirements to spektral.egg-info/requires.txt\n",
            "writing top-level names to spektral.egg-info/top_level.txt\n",
            "writing manifest file 'spektral.egg-info/SOURCES.txt'\n",
            "writing manifest file 'spektral.egg-info/SOURCES.txt'\n",
            "installing library code to build/bdist.linux-x86_64/egg\n",
            "running install_lib\n",
            "running build_py\n",
            "creating build\n",
            "creating build/lib\n",
            "creating build/lib/tests\n",
            "copying tests/__init__.py -> build/lib/tests\n",
            "copying tests/test_datasets.py -> build/lib/tests\n",
            "creating build/lib/spektral\n",
            "copying spektral/__init__.py -> build/lib/spektral\n",
            "copying spektral/chem.py -> build/lib/spektral\n",
            "creating build/lib/tests/test_layers\n",
            "copying tests/test_layers/__init__.py -> build/lib/tests/test_layers\n",
            "copying tests/test_layers/test_global_pooling.py -> build/lib/tests/test_layers\n",
            "copying tests/test_layers/test_ops.py -> build/lib/tests/test_layers\n",
            "copying tests/test_layers/test_pooling.py -> build/lib/tests/test_layers\n",
            "copying tests/test_layers/test_convolutional.py -> build/lib/tests/test_layers\n",
            "creating build/lib/spektral/utils\n",
            "copying spektral/utils/__init__.py -> build/lib/spektral/utils\n",
            "copying spektral/utils/logging.py -> build/lib/spektral/utils\n",
            "copying spektral/utils/conversion.py -> build/lib/spektral/utils\n",
            "copying spektral/utils/data.py -> build/lib/spektral/utils\n",
            "copying spektral/utils/convolution.py -> build/lib/spektral/utils\n",
            "copying spektral/utils/io.py -> build/lib/spektral/utils\n",
            "copying spektral/utils/plotting.py -> build/lib/spektral/utils\n",
            "copying spektral/utils/misc.py -> build/lib/spektral/utils\n",
            "creating build/lib/spektral/datasets\n",
            "copying spektral/datasets/qm9.py -> build/lib/spektral/datasets\n",
            "copying spektral/datasets/__init__.py -> build/lib/spektral/datasets\n",
            "copying spektral/datasets/mnist.py -> build/lib/spektral/datasets\n",
            "copying spektral/datasets/graphsage.py -> build/lib/spektral/datasets\n",
            "copying spektral/datasets/delaunay.py -> build/lib/spektral/datasets\n",
            "copying spektral/datasets/citation.py -> build/lib/spektral/datasets\n",
            "copying spektral/datasets/ogb.py -> build/lib/spektral/datasets\n",
            "copying spektral/datasets/tud.py -> build/lib/spektral/datasets\n",
            "creating build/lib/spektral/layers\n",
            "copying spektral/layers/__init__.py -> build/lib/spektral/layers\n",
            "copying spektral/layers/base.py -> build/lib/spektral/layers\n",
            "creating build/lib/spektral/layers/ops\n",
            "copying spektral/layers/ops/__init__.py -> build/lib/spektral/layers/ops\n",
            "copying spektral/layers/ops/graph.py -> build/lib/spektral/layers/ops\n",
            "copying spektral/layers/ops/modes.py -> build/lib/spektral/layers/ops\n",
            "copying spektral/layers/ops/scatter.py -> build/lib/spektral/layers/ops\n",
            "copying spektral/layers/ops/matmul.py -> build/lib/spektral/layers/ops\n",
            "copying spektral/layers/ops/sparse.py -> build/lib/spektral/layers/ops\n",
            "copying spektral/layers/ops/ops.py -> build/lib/spektral/layers/ops\n",
            "creating build/lib/spektral/layers/convolutional\n",
            "copying spektral/layers/convolutional/__init__.py -> build/lib/spektral/layers/convolutional\n",
            "copying spektral/layers/convolutional/cheby.py -> build/lib/spektral/layers/convolutional\n",
            "copying spektral/layers/convolutional/gcn.py -> build/lib/spektral/layers/convolutional\n",
            "copying spektral/layers/convolutional/appnp.py -> build/lib/spektral/layers/convolutional\n",
            "copying spektral/layers/convolutional/gcs.py -> build/lib/spektral/layers/convolutional\n",
            "copying spektral/layers/convolutional/graphsage.py -> build/lib/spektral/layers/convolutional\n",
            "copying spektral/layers/convolutional/gat.py -> build/lib/spektral/layers/convolutional\n",
            "copying spektral/layers/convolutional/ecc.py -> build/lib/spektral/layers/convolutional\n",
            "copying spektral/layers/convolutional/arma.py -> build/lib/spektral/layers/convolutional\n",
            "copying spektral/layers/convolutional/gin.py -> build/lib/spektral/layers/convolutional\n",
            "creating build/lib/spektral/layers/pooling\n",
            "copying spektral/layers/pooling/__init__.py -> build/lib/spektral/layers/pooling\n",
            "copying spektral/layers/pooling/sagpool.py -> build/lib/spektral/layers/pooling\n",
            "copying spektral/layers/pooling/globalpool.py -> build/lib/spektral/layers/pooling\n",
            "copying spektral/layers/pooling/mincut.py -> build/lib/spektral/layers/pooling\n",
            "copying spektral/layers/pooling/topk.py -> build/lib/spektral/layers/pooling\n",
            "copying spektral/layers/pooling/diffpool.py -> build/lib/spektral/layers/pooling\n",
            "creating build/bdist.linux-x86_64\n",
            "creating build/bdist.linux-x86_64/egg\n",
            "creating build/bdist.linux-x86_64/egg/tests\n",
            "copying build/lib/tests/__init__.py -> build/bdist.linux-x86_64/egg/tests\n",
            "creating build/bdist.linux-x86_64/egg/tests/test_layers\n",
            "copying build/lib/tests/test_layers/__init__.py -> build/bdist.linux-x86_64/egg/tests/test_layers\n",
            "copying build/lib/tests/test_layers/test_global_pooling.py -> build/bdist.linux-x86_64/egg/tests/test_layers\n",
            "copying build/lib/tests/test_layers/test_ops.py -> build/bdist.linux-x86_64/egg/tests/test_layers\n",
            "copying build/lib/tests/test_layers/test_pooling.py -> build/bdist.linux-x86_64/egg/tests/test_layers\n",
            "copying build/lib/tests/test_layers/test_convolutional.py -> build/bdist.linux-x86_64/egg/tests/test_layers\n",
            "copying build/lib/tests/test_datasets.py -> build/bdist.linux-x86_64/egg/tests\n",
            "creating build/bdist.linux-x86_64/egg/spektral\n",
            "copying build/lib/spektral/__init__.py -> build/bdist.linux-x86_64/egg/spektral\n",
            "creating build/bdist.linux-x86_64/egg/spektral/utils\n",
            "copying build/lib/spektral/utils/__init__.py -> build/bdist.linux-x86_64/egg/spektral/utils\n",
            "copying build/lib/spektral/utils/logging.py -> build/bdist.linux-x86_64/egg/spektral/utils\n",
            "copying build/lib/spektral/utils/conversion.py -> build/bdist.linux-x86_64/egg/spektral/utils\n",
            "copying build/lib/spektral/utils/data.py -> build/bdist.linux-x86_64/egg/spektral/utils\n",
            "copying build/lib/spektral/utils/convolution.py -> build/bdist.linux-x86_64/egg/spektral/utils\n",
            "copying build/lib/spektral/utils/io.py -> build/bdist.linux-x86_64/egg/spektral/utils\n",
            "copying build/lib/spektral/utils/plotting.py -> build/bdist.linux-x86_64/egg/spektral/utils\n",
            "copying build/lib/spektral/utils/misc.py -> build/bdist.linux-x86_64/egg/spektral/utils\n",
            "copying build/lib/spektral/chem.py -> build/bdist.linux-x86_64/egg/spektral\n",
            "creating build/bdist.linux-x86_64/egg/spektral/datasets\n",
            "copying build/lib/spektral/datasets/qm9.py -> build/bdist.linux-x86_64/egg/spektral/datasets\n",
            "copying build/lib/spektral/datasets/__init__.py -> build/bdist.linux-x86_64/egg/spektral/datasets\n",
            "copying build/lib/spektral/datasets/mnist.py -> build/bdist.linux-x86_64/egg/spektral/datasets\n",
            "copying build/lib/spektral/datasets/graphsage.py -> build/bdist.linux-x86_64/egg/spektral/datasets\n",
            "copying build/lib/spektral/datasets/delaunay.py -> build/bdist.linux-x86_64/egg/spektral/datasets\n",
            "copying build/lib/spektral/datasets/citation.py -> build/bdist.linux-x86_64/egg/spektral/datasets\n",
            "copying build/lib/spektral/datasets/ogb.py -> build/bdist.linux-x86_64/egg/spektral/datasets\n",
            "copying build/lib/spektral/datasets/tud.py -> build/bdist.linux-x86_64/egg/spektral/datasets\n",
            "creating build/bdist.linux-x86_64/egg/spektral/layers\n",
            "copying build/lib/spektral/layers/__init__.py -> build/bdist.linux-x86_64/egg/spektral/layers\n",
            "creating build/bdist.linux-x86_64/egg/spektral/layers/ops\n",
            "copying build/lib/spektral/layers/ops/__init__.py -> build/bdist.linux-x86_64/egg/spektral/layers/ops\n",
            "copying build/lib/spektral/layers/ops/graph.py -> build/bdist.linux-x86_64/egg/spektral/layers/ops\n",
            "copying build/lib/spektral/layers/ops/modes.py -> build/bdist.linux-x86_64/egg/spektral/layers/ops\n",
            "copying build/lib/spektral/layers/ops/scatter.py -> build/bdist.linux-x86_64/egg/spektral/layers/ops\n",
            "copying build/lib/spektral/layers/ops/matmul.py -> build/bdist.linux-x86_64/egg/spektral/layers/ops\n",
            "copying build/lib/spektral/layers/ops/sparse.py -> build/bdist.linux-x86_64/egg/spektral/layers/ops\n",
            "copying build/lib/spektral/layers/ops/ops.py -> build/bdist.linux-x86_64/egg/spektral/layers/ops\n",
            "copying build/lib/spektral/layers/base.py -> build/bdist.linux-x86_64/egg/spektral/layers\n",
            "creating build/bdist.linux-x86_64/egg/spektral/layers/convolutional\n",
            "copying build/lib/spektral/layers/convolutional/__init__.py -> build/bdist.linux-x86_64/egg/spektral/layers/convolutional\n",
            "copying build/lib/spektral/layers/convolutional/cheby.py -> build/bdist.linux-x86_64/egg/spektral/layers/convolutional\n",
            "copying build/lib/spektral/layers/convolutional/gcn.py -> build/bdist.linux-x86_64/egg/spektral/layers/convolutional\n",
            "copying build/lib/spektral/layers/convolutional/appnp.py -> build/bdist.linux-x86_64/egg/spektral/layers/convolutional\n",
            "copying build/lib/spektral/layers/convolutional/gcs.py -> build/bdist.linux-x86_64/egg/spektral/layers/convolutional\n",
            "copying build/lib/spektral/layers/convolutional/graphsage.py -> build/bdist.linux-x86_64/egg/spektral/layers/convolutional\n",
            "copying build/lib/spektral/layers/convolutional/gat.py -> build/bdist.linux-x86_64/egg/spektral/layers/convolutional\n",
            "copying build/lib/spektral/layers/convolutional/ecc.py -> build/bdist.linux-x86_64/egg/spektral/layers/convolutional\n",
            "copying build/lib/spektral/layers/convolutional/arma.py -> build/bdist.linux-x86_64/egg/spektral/layers/convolutional\n",
            "copying build/lib/spektral/layers/convolutional/gin.py -> build/bdist.linux-x86_64/egg/spektral/layers/convolutional\n",
            "creating build/bdist.linux-x86_64/egg/spektral/layers/pooling\n",
            "copying build/lib/spektral/layers/pooling/__init__.py -> build/bdist.linux-x86_64/egg/spektral/layers/pooling\n",
            "copying build/lib/spektral/layers/pooling/sagpool.py -> build/bdist.linux-x86_64/egg/spektral/layers/pooling\n",
            "copying build/lib/spektral/layers/pooling/globalpool.py -> build/bdist.linux-x86_64/egg/spektral/layers/pooling\n",
            "copying build/lib/spektral/layers/pooling/mincut.py -> build/bdist.linux-x86_64/egg/spektral/layers/pooling\n",
            "copying build/lib/spektral/layers/pooling/topk.py -> build/bdist.linux-x86_64/egg/spektral/layers/pooling\n",
            "copying build/lib/spektral/layers/pooling/diffpool.py -> build/bdist.linux-x86_64/egg/spektral/layers/pooling\n",
            "byte-compiling build/bdist.linux-x86_64/egg/tests/__init__.py to __init__.cpython-36.pyc\n",
            "byte-compiling build/bdist.linux-x86_64/egg/tests/test_layers/__init__.py to __init__.cpython-36.pyc\n",
            "byte-compiling build/bdist.linux-x86_64/egg/tests/test_layers/test_global_pooling.py to test_global_pooling.cpython-36.pyc\n",
            "byte-compiling build/bdist.linux-x86_64/egg/tests/test_layers/test_ops.py to test_ops.cpython-36.pyc\n",
            "byte-compiling build/bdist.linux-x86_64/egg/tests/test_layers/test_pooling.py to test_pooling.cpython-36.pyc\n",
            "byte-compiling build/bdist.linux-x86_64/egg/tests/test_layers/test_convolutional.py to test_convolutional.cpython-36.pyc\n",
            "byte-compiling build/bdist.linux-x86_64/egg/tests/test_datasets.py to test_datasets.cpython-36.pyc\n",
            "byte-compiling build/bdist.linux-x86_64/egg/spektral/__init__.py to __init__.cpython-36.pyc\n",
            "byte-compiling build/bdist.linux-x86_64/egg/spektral/utils/__init__.py to __init__.cpython-36.pyc\n",
            "byte-compiling build/bdist.linux-x86_64/egg/spektral/utils/logging.py to logging.cpython-36.pyc\n",
            "byte-compiling build/bdist.linux-x86_64/egg/spektral/utils/conversion.py to conversion.cpython-36.pyc\n",
            "byte-compiling build/bdist.linux-x86_64/egg/spektral/utils/data.py to data.cpython-36.pyc\n",
            "byte-compiling build/bdist.linux-x86_64/egg/spektral/utils/convolution.py to convolution.cpython-36.pyc\n",
            "byte-compiling build/bdist.linux-x86_64/egg/spektral/utils/io.py to io.cpython-36.pyc\n",
            "byte-compiling build/bdist.linux-x86_64/egg/spektral/utils/plotting.py to plotting.cpython-36.pyc\n",
            "byte-compiling build/bdist.linux-x86_64/egg/spektral/utils/misc.py to misc.cpython-36.pyc\n",
            "byte-compiling build/bdist.linux-x86_64/egg/spektral/chem.py to chem.cpython-36.pyc\n",
            "byte-compiling build/bdist.linux-x86_64/egg/spektral/datasets/qm9.py to qm9.cpython-36.pyc\n",
            "byte-compiling build/bdist.linux-x86_64/egg/spektral/datasets/__init__.py to __init__.cpython-36.pyc\n",
            "byte-compiling build/bdist.linux-x86_64/egg/spektral/datasets/mnist.py to mnist.cpython-36.pyc\n",
            "byte-compiling build/bdist.linux-x86_64/egg/spektral/datasets/graphsage.py to graphsage.cpython-36.pyc\n",
            "byte-compiling build/bdist.linux-x86_64/egg/spektral/datasets/delaunay.py to delaunay.cpython-36.pyc\n",
            "byte-compiling build/bdist.linux-x86_64/egg/spektral/datasets/citation.py to citation.cpython-36.pyc\n",
            "byte-compiling build/bdist.linux-x86_64/egg/spektral/datasets/ogb.py to ogb.cpython-36.pyc\n",
            "byte-compiling build/bdist.linux-x86_64/egg/spektral/datasets/tud.py to tud.cpython-36.pyc\n",
            "byte-compiling build/bdist.linux-x86_64/egg/spektral/layers/__init__.py to __init__.cpython-36.pyc\n",
            "byte-compiling build/bdist.linux-x86_64/egg/spektral/layers/ops/__init__.py to __init__.cpython-36.pyc\n",
            "byte-compiling build/bdist.linux-x86_64/egg/spektral/layers/ops/graph.py to graph.cpython-36.pyc\n",
            "byte-compiling build/bdist.linux-x86_64/egg/spektral/layers/ops/modes.py to modes.cpython-36.pyc\n",
            "byte-compiling build/bdist.linux-x86_64/egg/spektral/layers/ops/scatter.py to scatter.cpython-36.pyc\n",
            "byte-compiling build/bdist.linux-x86_64/egg/spektral/layers/ops/matmul.py to matmul.cpython-36.pyc\n",
            "byte-compiling build/bdist.linux-x86_64/egg/spektral/layers/ops/sparse.py to sparse.cpython-36.pyc\n",
            "byte-compiling build/bdist.linux-x86_64/egg/spektral/layers/ops/ops.py to ops.cpython-36.pyc\n",
            "byte-compiling build/bdist.linux-x86_64/egg/spektral/layers/base.py to base.cpython-36.pyc\n",
            "byte-compiling build/bdist.linux-x86_64/egg/spektral/layers/convolutional/__init__.py to __init__.cpython-36.pyc\n",
            "byte-compiling build/bdist.linux-x86_64/egg/spektral/layers/convolutional/cheby.py to cheby.cpython-36.pyc\n",
            "byte-compiling build/bdist.linux-x86_64/egg/spektral/layers/convolutional/gcn.py to gcn.cpython-36.pyc\n",
            "byte-compiling build/bdist.linux-x86_64/egg/spektral/layers/convolutional/appnp.py to appnp.cpython-36.pyc\n",
            "byte-compiling build/bdist.linux-x86_64/egg/spektral/layers/convolutional/gcs.py to gcs.cpython-36.pyc\n",
            "byte-compiling build/bdist.linux-x86_64/egg/spektral/layers/convolutional/graphsage.py to graphsage.cpython-36.pyc\n",
            "byte-compiling build/bdist.linux-x86_64/egg/spektral/layers/convolutional/gat.py to gat.cpython-36.pyc\n",
            "byte-compiling build/bdist.linux-x86_64/egg/spektral/layers/convolutional/ecc.py to ecc.cpython-36.pyc\n",
            "byte-compiling build/bdist.linux-x86_64/egg/spektral/layers/convolutional/arma.py to arma.cpython-36.pyc\n",
            "byte-compiling build/bdist.linux-x86_64/egg/spektral/layers/convolutional/gin.py to gin.cpython-36.pyc\n",
            "byte-compiling build/bdist.linux-x86_64/egg/spektral/layers/pooling/__init__.py to __init__.cpython-36.pyc\n",
            "byte-compiling build/bdist.linux-x86_64/egg/spektral/layers/pooling/sagpool.py to sagpool.cpython-36.pyc\n",
            "byte-compiling build/bdist.linux-x86_64/egg/spektral/layers/pooling/globalpool.py to globalpool.cpython-36.pyc\n",
            "byte-compiling build/bdist.linux-x86_64/egg/spektral/layers/pooling/mincut.py to mincut.cpython-36.pyc\n",
            "byte-compiling build/bdist.linux-x86_64/egg/spektral/layers/pooling/topk.py to topk.cpython-36.pyc\n",
            "byte-compiling build/bdist.linux-x86_64/egg/spektral/layers/pooling/diffpool.py to diffpool.cpython-36.pyc\n",
            "creating build/bdist.linux-x86_64/egg/EGG-INFO\n",
            "copying spektral.egg-info/PKG-INFO -> build/bdist.linux-x86_64/egg/EGG-INFO\n",
            "copying spektral.egg-info/SOURCES.txt -> build/bdist.linux-x86_64/egg/EGG-INFO\n",
            "copying spektral.egg-info/dependency_links.txt -> build/bdist.linux-x86_64/egg/EGG-INFO\n",
            "copying spektral.egg-info/requires.txt -> build/bdist.linux-x86_64/egg/EGG-INFO\n",
            "copying spektral.egg-info/top_level.txt -> build/bdist.linux-x86_64/egg/EGG-INFO\n",
            "zip_safe flag not set; analyzing archive contents...\n",
            "creating dist\n",
            "creating 'dist/spektral-0.4.0-py3.6.egg' and adding 'build/bdist.linux-x86_64/egg' to it\n",
            "removing 'build/bdist.linux-x86_64/egg' (and everything under it)\n",
            "Processing spektral-0.4.0-py3.6.egg\n",
            "Copying spektral-0.4.0-py3.6.egg to /usr/local/lib/python3.6/dist-packages\n",
            "Adding spektral 0.4.0 to easy-install.pth file\n",
            "\n",
            "Installed /usr/local/lib/python3.6/dist-packages/spektral-0.4.0-py3.6.egg\n",
            "Processing dependencies for spektral==0.4.0\n",
            "Searching for scikit-learn==0.22.2.post1\n",
            "Best match: scikit-learn 0.22.2.post1\n",
            "Adding scikit-learn 0.22.2.post1 to easy-install.pth file\n",
            "\n",
            "Using /usr/local/lib/python3.6/dist-packages\n",
            "Searching for requests==2.21.0\n",
            "Best match: requests 2.21.0\n",
            "Adding requests 2.21.0 to easy-install.pth file\n",
            "\n",
            "Using /usr/local/lib/python3.6/dist-packages\n",
            "Searching for scipy==1.4.1\n",
            "Best match: scipy 1.4.1\n",
            "Adding scipy 1.4.1 to easy-install.pth file\n",
            "\n",
            "Using /usr/local/lib/python3.6/dist-packages\n",
            "Searching for numpy==1.18.2\n",
            "Best match: numpy 1.18.2\n",
            "Adding numpy 1.18.2 to easy-install.pth file\n",
            "Installing f2py script to /usr/local/bin\n",
            "Installing f2py3 script to /usr/local/bin\n",
            "Installing f2py3.6 script to /usr/local/bin\n",
            "\n",
            "Using /usr/local/lib/python3.6/dist-packages\n",
            "Searching for pygraphviz==1.5\n",
            "Best match: pygraphviz 1.5\n",
            "Adding pygraphviz 1.5 to easy-install.pth file\n",
            "\n",
            "Using /usr/local/lib/python3.6/dist-packages\n",
            "Searching for joblib==0.14.1\n",
            "Best match: joblib 0.14.1\n",
            "Adding joblib 0.14.1 to easy-install.pth file\n",
            "\n",
            "Using /usr/local/lib/python3.6/dist-packages\n",
            "Searching for lxml==4.2.6\n",
            "Best match: lxml 4.2.6\n",
            "Adding lxml 4.2.6 to easy-install.pth file\n",
            "\n",
            "Using /usr/local/lib/python3.6/dist-packages\n",
            "Searching for pandas==1.0.3\n",
            "Best match: pandas 1.0.3\n",
            "Adding pandas 1.0.3 to easy-install.pth file\n",
            "\n",
            "Using /usr/local/lib/python3.6/dist-packages\n",
            "Searching for networkx==2.4\n",
            "Best match: networkx 2.4\n",
            "Adding networkx 2.4 to easy-install.pth file\n",
            "\n",
            "Using /usr/local/lib/python3.6/dist-packages\n",
            "Searching for tensorflow==2.2.0rc3\n",
            "Best match: tensorflow 2.2.0rc3\n",
            "Adding tensorflow 2.2.0rc3 to easy-install.pth file\n",
            "Installing estimator_ckpt_converter script to /usr/local/bin\n",
            "Installing saved_model_cli script to /usr/local/bin\n",
            "Installing tensorboard script to /usr/local/bin\n",
            "Installing tf_upgrade_v2 script to /usr/local/bin\n",
            "Installing tflite_convert script to /usr/local/bin\n",
            "Installing toco script to /usr/local/bin\n",
            "Installing toco_from_protos script to /usr/local/bin\n",
            "\n",
            "Using /usr/local/lib/python3.6/dist-packages\n",
            "Searching for urllib3==1.24.3\n",
            "Best match: urllib3 1.24.3\n",
            "Adding urllib3 1.24.3 to easy-install.pth file\n",
            "\n",
            "Using /usr/local/lib/python3.6/dist-packages\n",
            "Searching for certifi==2020.4.5.1\n",
            "Best match: certifi 2020.4.5.1\n",
            "Adding certifi 2020.4.5.1 to easy-install.pth file\n",
            "\n",
            "Using /usr/local/lib/python3.6/dist-packages\n",
            "Searching for idna==2.8\n",
            "Best match: idna 2.8\n",
            "Adding idna 2.8 to easy-install.pth file\n",
            "\n",
            "Using /usr/local/lib/python3.6/dist-packages\n",
            "Searching for chardet==3.0.4\n",
            "Best match: chardet 3.0.4\n",
            "Adding chardet 3.0.4 to easy-install.pth file\n",
            "Installing chardetect script to /usr/local/bin\n",
            "\n",
            "Using /usr/local/lib/python3.6/dist-packages\n",
            "Searching for pytz==2018.9\n",
            "Best match: pytz 2018.9\n",
            "Adding pytz 2018.9 to easy-install.pth file\n",
            "\n",
            "Using /usr/local/lib/python3.6/dist-packages\n",
            "Searching for python-dateutil==2.8.1\n",
            "Best match: python-dateutil 2.8.1\n",
            "Adding python-dateutil 2.8.1 to easy-install.pth file\n",
            "\n",
            "Using /usr/local/lib/python3.6/dist-packages\n",
            "Searching for decorator==4.4.2\n",
            "Best match: decorator 4.4.2\n",
            "Adding decorator 4.4.2 to easy-install.pth file\n",
            "\n",
            "Using /usr/local/lib/python3.6/dist-packages\n",
            "Searching for termcolor==1.1.0\n",
            "Best match: termcolor 1.1.0\n",
            "Adding termcolor 1.1.0 to easy-install.pth file\n",
            "\n",
            "Using /usr/local/lib/python3.6/dist-packages\n",
            "Searching for astunparse==1.6.3\n",
            "Best match: astunparse 1.6.3\n",
            "Adding astunparse 1.6.3 to easy-install.pth file\n",
            "\n",
            "Using /usr/local/lib/python3.6/dist-packages\n",
            "Searching for google-pasta==0.2.0\n",
            "Best match: google-pasta 0.2.0\n",
            "Adding google-pasta 0.2.0 to easy-install.pth file\n",
            "\n",
            "Using /usr/local/lib/python3.6/dist-packages\n",
            "Searching for tensorflow-estimator==2.2.0rc0\n",
            "Best match: tensorflow-estimator 2.2.0rc0\n",
            "Adding tensorflow-estimator 2.2.0rc0 to easy-install.pth file\n",
            "\n",
            "Using /usr/local/lib/python3.6/dist-packages\n",
            "Searching for protobuf==3.10.0\n",
            "Best match: protobuf 3.10.0\n",
            "Adding protobuf 3.10.0 to easy-install.pth file\n",
            "\n",
            "Using /usr/local/lib/python3.6/dist-packages\n",
            "Searching for wheel==0.34.2\n",
            "Best match: wheel 0.34.2\n",
            "Adding wheel 0.34.2 to easy-install.pth file\n",
            "Installing wheel script to /usr/local/bin\n",
            "\n",
            "Using /usr/local/lib/python3.6/dist-packages\n",
            "Searching for absl-py==0.9.0\n",
            "Best match: absl-py 0.9.0\n",
            "Adding absl-py 0.9.0 to easy-install.pth file\n",
            "\n",
            "Using /usr/local/lib/python3.6/dist-packages\n",
            "Searching for Keras-Preprocessing==1.1.0\n",
            "Best match: Keras-Preprocessing 1.1.0\n",
            "Adding Keras-Preprocessing 1.1.0 to easy-install.pth file\n",
            "\n",
            "Using /usr/local/lib/python3.6/dist-packages\n",
            "Searching for gast==0.3.3\n",
            "Best match: gast 0.3.3\n",
            "Adding gast 0.3.3 to easy-install.pth file\n",
            "\n",
            "Using /usr/local/lib/python3.6/dist-packages\n",
            "Searching for tensorboard==2.2.0\n",
            "Best match: tensorboard 2.2.0\n",
            "Adding tensorboard 2.2.0 to easy-install.pth file\n",
            "Installing tensorboard script to /usr/local/bin\n",
            "\n",
            "Using /usr/local/lib/python3.6/dist-packages\n",
            "Searching for grpcio==1.28.1\n",
            "Best match: grpcio 1.28.1\n",
            "Adding grpcio 1.28.1 to easy-install.pth file\n",
            "\n",
            "Using /usr/local/lib/python3.6/dist-packages\n",
            "Searching for h5py==2.10.0\n",
            "Best match: h5py 2.10.0\n",
            "Adding h5py 2.10.0 to easy-install.pth file\n",
            "\n",
            "Using /usr/local/lib/python3.6/dist-packages\n",
            "Searching for six==1.12.0\n",
            "Best match: six 1.12.0\n",
            "Adding six 1.12.0 to easy-install.pth file\n",
            "\n",
            "Using /usr/local/lib/python3.6/dist-packages\n",
            "Searching for wrapt==1.12.1\n",
            "Best match: wrapt 1.12.1\n",
            "Adding wrapt 1.12.1 to easy-install.pth file\n",
            "\n",
            "Using /usr/local/lib/python3.6/dist-packages\n",
            "Searching for opt-einsum==3.2.0\n",
            "Best match: opt-einsum 3.2.0\n",
            "Adding opt-einsum 3.2.0 to easy-install.pth file\n",
            "\n",
            "Using /usr/local/lib/python3.6/dist-packages\n",
            "Searching for setuptools==46.1.3\n",
            "Best match: setuptools 46.1.3\n",
            "Adding setuptools 46.1.3 to easy-install.pth file\n",
            "Installing easy_install script to /usr/local/bin\n",
            "Installing easy_install-3.8 script to /usr/local/bin\n",
            "\n",
            "Using /usr/local/lib/python3.6/dist-packages\n",
            "Searching for Markdown==3.2.1\n",
            "Best match: Markdown 3.2.1\n",
            "Adding Markdown 3.2.1 to easy-install.pth file\n",
            "Installing markdown_py script to /usr/local/bin\n",
            "\n",
            "Using /usr/local/lib/python3.6/dist-packages\n",
            "Searching for Werkzeug==1.0.1\n",
            "Best match: Werkzeug 1.0.1\n",
            "Adding Werkzeug 1.0.1 to easy-install.pth file\n",
            "\n",
            "Using /usr/local/lib/python3.6/dist-packages\n",
            "Searching for tensorboard-plugin-wit==1.6.0.post3\n",
            "Best match: tensorboard-plugin-wit 1.6.0.post3\n",
            "Adding tensorboard-plugin-wit 1.6.0.post3 to easy-install.pth file\n",
            "\n",
            "Using /usr/local/lib/python3.6/dist-packages\n",
            "Searching for google-auth-oauthlib==0.4.1\n",
            "Best match: google-auth-oauthlib 0.4.1\n",
            "Adding google-auth-oauthlib 0.4.1 to easy-install.pth file\n",
            "Installing google-oauthlib-tool script to /usr/local/bin\n",
            "\n",
            "Using /usr/local/lib/python3.6/dist-packages\n",
            "Searching for google-auth==1.7.2\n",
            "Best match: google-auth 1.7.2\n",
            "Adding google-auth 1.7.2 to easy-install.pth file\n",
            "\n",
            "Using /usr/local/lib/python3.6/dist-packages\n",
            "Searching for requests-oauthlib==1.3.0\n",
            "Best match: requests-oauthlib 1.3.0\n",
            "Adding requests-oauthlib 1.3.0 to easy-install.pth file\n",
            "\n",
            "Using /usr/local/lib/python3.6/dist-packages\n",
            "Searching for rsa==4.0\n",
            "Best match: rsa 4.0\n",
            "Adding rsa 4.0 to easy-install.pth file\n",
            "Installing pyrsa-decrypt script to /usr/local/bin\n",
            "Installing pyrsa-encrypt script to /usr/local/bin\n",
            "Installing pyrsa-keygen script to /usr/local/bin\n",
            "Installing pyrsa-priv2pub script to /usr/local/bin\n",
            "Installing pyrsa-sign script to /usr/local/bin\n",
            "Installing pyrsa-verify script to /usr/local/bin\n",
            "\n",
            "Using /usr/local/lib/python3.6/dist-packages\n",
            "Searching for pyasn1-modules==0.2.8\n",
            "Best match: pyasn1-modules 0.2.8\n",
            "Adding pyasn1-modules 0.2.8 to easy-install.pth file\n",
            "\n",
            "Using /usr/local/lib/python3.6/dist-packages\n",
            "Searching for cachetools==3.1.1\n",
            "Best match: cachetools 3.1.1\n",
            "Adding cachetools 3.1.1 to easy-install.pth file\n",
            "\n",
            "Using /usr/local/lib/python3.6/dist-packages\n",
            "Searching for oauthlib==3.1.0\n",
            "Best match: oauthlib 3.1.0\n",
            "Adding oauthlib 3.1.0 to easy-install.pth file\n",
            "\n",
            "Using /usr/local/lib/python3.6/dist-packages\n",
            "Searching for pyasn1==0.4.8\n",
            "Best match: pyasn1 0.4.8\n",
            "Adding pyasn1 0.4.8 to easy-install.pth file\n",
            "\n",
            "Using /usr/local/lib/python3.6/dist-packages\n",
            "Finished processing dependencies for spektral==0.4.0\n"
          ],
          "name": "stdout"
        }
      ]
    },
    {
      "cell_type": "code",
      "metadata": {
        "id": "5_Ruy5uKeEth",
        "colab_type": "code",
        "outputId": "11997165-d293-4bd2-e0a0-72f2f7033eca",
        "colab": {
          "base_uri": "https://localhost:8080/",
          "height": 121
        }
      },
      "source": [
        "from google.colab import drive\n",
        "drive.mount('/content/drive')"
      ],
      "execution_count": 6,
      "outputs": [
        {
          "output_type": "stream",
          "text": [
            "Go to this URL in a browser: https://accounts.google.com/o/oauth2/auth?client_id=947318989803-6bn6qk8qdgf4n4g3pfee6491hc0brc4i.apps.googleusercontent.com&redirect_uri=urn%3aietf%3awg%3aoauth%3a2.0%3aoob&response_type=code&scope=email%20https%3a%2f%2fwww.googleapis.com%2fauth%2fdocs.test%20https%3a%2f%2fwww.googleapis.com%2fauth%2fdrive%20https%3a%2f%2fwww.googleapis.com%2fauth%2fdrive.photos.readonly%20https%3a%2f%2fwww.googleapis.com%2fauth%2fpeopleapi.readonly\n",
            "\n",
            "Enter your authorization code:\n",
            "··········\n",
            "Mounted at /content/drive\n"
          ],
          "name": "stdout"
        }
      ]
    },
    {
      "cell_type": "code",
      "metadata": {
        "colab_type": "code",
        "id": "yiKS7cpuYUm2",
        "colab": {}
      },
      "source": [
        "import numpy as np\n",
        "import pandas as pd\n",
        "df = pd.read_csv('/content/drive/My Drive/features_user_imp_added_german.csv')"
      ],
      "execution_count": 0,
      "outputs": []
    },
    {
      "cell_type": "code",
      "metadata": {
        "id": "DwSP8eDVhjJU",
        "colab_type": "code",
        "colab": {}
      },
      "source": [
        "from sklearn.metrics import precision_score\n",
        "from sklearn.metrics import recall_score\n",
        "from sklearn.metrics import f1_score\n",
        "from sklearn.metrics import accuracy_score\n",
        "import matplotlib.pyplot as plt\n",
        "from itertools import cycle\n",
        "from sklearn.metrics import roc_curve, auc\n",
        "from scipy import interp\n",
        "from sklearn.metrics import roc_auc_score\n",
        "from sklearn import metrics"
      ],
      "execution_count": 0,
      "outputs": []
    },
    {
      "cell_type": "code",
      "metadata": {
        "id": "Eu3I3gCgdYV4",
        "colab_type": "code",
        "outputId": "0e036a1e-962c-4a42-842c-fde2ab174a44",
        "colab": {
          "base_uri": "https://localhost:8080/",
          "height": 261
        }
      },
      "source": [
        "df.head()"
      ],
      "execution_count": 47,
      "outputs": [
        {
          "output_type": "execute_result",
          "data": {
            "text/html": [
              "<div>\n",
              "<style scoped>\n",
              "    .dataframe tbody tr th:only-of-type {\n",
              "        vertical-align: middle;\n",
              "    }\n",
              "\n",
              "    .dataframe tbody tr th {\n",
              "        vertical-align: top;\n",
              "    }\n",
              "\n",
              "    .dataframe thead th {\n",
              "        text-align: right;\n",
              "    }\n",
              "</style>\n",
              "<table border=\"1\" class=\"dataframe\">\n",
              "  <thead>\n",
              "    <tr style=\"text-align: right;\">\n",
              "      <th></th>\n",
              "      <th>Unnamed: 0</th>\n",
              "      <th>abl</th>\n",
              "      <th>aboard</th>\n",
              "      <th>abov</th>\n",
              "      <th>absolut</th>\n",
              "      <th>accid</th>\n",
              "      <th>accord</th>\n",
              "      <th>account</th>\n",
              "      <th>action</th>\n",
              "      <th>actual</th>\n",
              "      <th>affect</th>\n",
              "      <th>agre</th>\n",
              "      <th>ahead</th>\n",
              "      <th>aipx</th>\n",
              "      <th>airbu</th>\n",
              "      <th>airbusa</th>\n",
              "      <th>aircraft</th>\n",
              "      <th>airlin</th>\n",
              "      <th>airplan</th>\n",
              "      <th>airport</th>\n",
              "      <th>allah</th>\n",
              "      <th>allen</th>\n",
              "      <th>allow</th>\n",
              "      <th>almost</th>\n",
              "      <th>alp</th>\n",
              "      <th>alreadi</th>\n",
              "      <th>also</th>\n",
              "      <th>altitud</th>\n",
              "      <th>alway</th>\n",
              "      <th>american</th>\n",
              "      <th>among</th>\n",
              "      <th>andrea</th>\n",
              "      <th>andreaslubitz</th>\n",
              "      <th>angeh</th>\n",
              "      <th>angela</th>\n",
              "      <th>anoth</th>\n",
              "      <th>answer</th>\n",
              "      <th>anymor</th>\n",
              "      <th>anyon</th>\n",
              "      <th>anyth</th>\n",
              "      <th>...</th>\n",
              "      <th>vuelo</th>\n",
              "      <th>wait</th>\n",
              "      <th>wake</th>\n",
              "      <th>wakeupamerica</th>\n",
              "      <th>want</th>\n",
              "      <th>watch</th>\n",
              "      <th>weather</th>\n",
              "      <th>websit</th>\n",
              "      <th>week</th>\n",
              "      <th>weird</th>\n",
              "      <th>well</th>\n",
              "      <th>went</th>\n",
              "      <th>whether</th>\n",
              "      <th>white</th>\n",
              "      <th>whole</th>\n",
              "      <th>wind</th>\n",
              "      <th>wing</th>\n",
              "      <th>wish</th>\n",
              "      <th>within</th>\n",
              "      <th>without</th>\n",
              "      <th>wonder</th>\n",
              "      <th>word</th>\n",
              "      <th>work</th>\n",
              "      <th>worker</th>\n",
              "      <th>world</th>\n",
              "      <th>wors</th>\n",
              "      <th>worst</th>\n",
              "      <th>would</th>\n",
              "      <th>write</th>\n",
              "      <th>wrong</th>\n",
              "      <th>yeah</th>\n",
              "      <th>year</th>\n",
              "      <th>yesterday</th>\n",
              "      <th>young</th>\n",
              "      <th>user_id</th>\n",
              "      <th>favorites_count</th>\n",
              "      <th>verified</th>\n",
              "      <th>followers_count</th>\n",
              "      <th>user_imp</th>\n",
              "      <th>target_variables</th>\n",
              "    </tr>\n",
              "  </thead>\n",
              "  <tbody>\n",
              "    <tr>\n",
              "      <th>0</th>\n",
              "      <td>0</td>\n",
              "      <td>0.0</td>\n",
              "      <td>0.0</td>\n",
              "      <td>0.0</td>\n",
              "      <td>0.0</td>\n",
              "      <td>0.0</td>\n",
              "      <td>0.0</td>\n",
              "      <td>0.0</td>\n",
              "      <td>0.0</td>\n",
              "      <td>0.0</td>\n",
              "      <td>0.0</td>\n",
              "      <td>0.0</td>\n",
              "      <td>0.0</td>\n",
              "      <td>0.0</td>\n",
              "      <td>0.000000</td>\n",
              "      <td>0.0</td>\n",
              "      <td>0.0</td>\n",
              "      <td>0.0</td>\n",
              "      <td>0.0</td>\n",
              "      <td>0.0</td>\n",
              "      <td>0.0</td>\n",
              "      <td>0.0</td>\n",
              "      <td>0.0</td>\n",
              "      <td>0.0</td>\n",
              "      <td>0.0</td>\n",
              "      <td>0.0</td>\n",
              "      <td>0.0</td>\n",
              "      <td>0.0</td>\n",
              "      <td>0.0</td>\n",
              "      <td>0.0</td>\n",
              "      <td>0.0</td>\n",
              "      <td>0.0</td>\n",
              "      <td>0.0</td>\n",
              "      <td>0.0</td>\n",
              "      <td>0.0</td>\n",
              "      <td>0.0</td>\n",
              "      <td>0.0</td>\n",
              "      <td>0.0</td>\n",
              "      <td>0.0</td>\n",
              "      <td>0.0</td>\n",
              "      <td>...</td>\n",
              "      <td>0.0</td>\n",
              "      <td>0.0</td>\n",
              "      <td>0.0</td>\n",
              "      <td>0.0</td>\n",
              "      <td>0.0</td>\n",
              "      <td>0.0</td>\n",
              "      <td>0.0</td>\n",
              "      <td>0.0</td>\n",
              "      <td>0.0</td>\n",
              "      <td>0.0</td>\n",
              "      <td>0.0</td>\n",
              "      <td>0.0</td>\n",
              "      <td>0.0</td>\n",
              "      <td>0.0</td>\n",
              "      <td>0.0</td>\n",
              "      <td>0.0</td>\n",
              "      <td>0.0</td>\n",
              "      <td>0.0</td>\n",
              "      <td>0.0</td>\n",
              "      <td>0.0</td>\n",
              "      <td>0.0</td>\n",
              "      <td>0.0</td>\n",
              "      <td>0.0</td>\n",
              "      <td>0.0</td>\n",
              "      <td>0.0</td>\n",
              "      <td>0.0</td>\n",
              "      <td>0.0</td>\n",
              "      <td>0.0</td>\n",
              "      <td>0.0</td>\n",
              "      <td>0.0</td>\n",
              "      <td>0.0</td>\n",
              "      <td>0.0</td>\n",
              "      <td>0.0</td>\n",
              "      <td>0.0</td>\n",
              "      <td>8.330472e+06</td>\n",
              "      <td>15.0</td>\n",
              "      <td>1.0</td>\n",
              "      <td>179430.0</td>\n",
              "      <td>0.0007</td>\n",
              "      <td>0</td>\n",
              "    </tr>\n",
              "    <tr>\n",
              "      <th>1</th>\n",
              "      <td>1</td>\n",
              "      <td>0.0</td>\n",
              "      <td>0.0</td>\n",
              "      <td>0.0</td>\n",
              "      <td>0.0</td>\n",
              "      <td>0.0</td>\n",
              "      <td>0.0</td>\n",
              "      <td>0.0</td>\n",
              "      <td>0.0</td>\n",
              "      <td>0.0</td>\n",
              "      <td>0.0</td>\n",
              "      <td>0.0</td>\n",
              "      <td>0.0</td>\n",
              "      <td>0.0</td>\n",
              "      <td>0.000000</td>\n",
              "      <td>0.0</td>\n",
              "      <td>0.0</td>\n",
              "      <td>0.0</td>\n",
              "      <td>0.0</td>\n",
              "      <td>0.0</td>\n",
              "      <td>0.0</td>\n",
              "      <td>0.0</td>\n",
              "      <td>0.0</td>\n",
              "      <td>0.0</td>\n",
              "      <td>0.0</td>\n",
              "      <td>0.0</td>\n",
              "      <td>0.0</td>\n",
              "      <td>0.0</td>\n",
              "      <td>0.0</td>\n",
              "      <td>0.0</td>\n",
              "      <td>0.0</td>\n",
              "      <td>0.0</td>\n",
              "      <td>0.0</td>\n",
              "      <td>0.0</td>\n",
              "      <td>0.0</td>\n",
              "      <td>0.0</td>\n",
              "      <td>0.0</td>\n",
              "      <td>0.0</td>\n",
              "      <td>0.0</td>\n",
              "      <td>0.0</td>\n",
              "      <td>...</td>\n",
              "      <td>0.0</td>\n",
              "      <td>0.0</td>\n",
              "      <td>0.0</td>\n",
              "      <td>0.0</td>\n",
              "      <td>0.0</td>\n",
              "      <td>0.0</td>\n",
              "      <td>0.0</td>\n",
              "      <td>0.0</td>\n",
              "      <td>0.0</td>\n",
              "      <td>0.0</td>\n",
              "      <td>0.0</td>\n",
              "      <td>0.0</td>\n",
              "      <td>0.0</td>\n",
              "      <td>0.0</td>\n",
              "      <td>0.0</td>\n",
              "      <td>0.0</td>\n",
              "      <td>0.0</td>\n",
              "      <td>0.0</td>\n",
              "      <td>0.0</td>\n",
              "      <td>0.0</td>\n",
              "      <td>0.0</td>\n",
              "      <td>0.0</td>\n",
              "      <td>0.0</td>\n",
              "      <td>0.0</td>\n",
              "      <td>0.0</td>\n",
              "      <td>0.0</td>\n",
              "      <td>0.0</td>\n",
              "      <td>0.0</td>\n",
              "      <td>0.0</td>\n",
              "      <td>0.0</td>\n",
              "      <td>0.0</td>\n",
              "      <td>0.0</td>\n",
              "      <td>0.0</td>\n",
              "      <td>0.0</td>\n",
              "      <td>9.277131e+07</td>\n",
              "      <td>22.0</td>\n",
              "      <td>1.0</td>\n",
              "      <td>20839.0</td>\n",
              "      <td>0.0033</td>\n",
              "      <td>0</td>\n",
              "    </tr>\n",
              "    <tr>\n",
              "      <th>2</th>\n",
              "      <td>2</td>\n",
              "      <td>0.0</td>\n",
              "      <td>0.0</td>\n",
              "      <td>0.0</td>\n",
              "      <td>0.0</td>\n",
              "      <td>0.0</td>\n",
              "      <td>0.0</td>\n",
              "      <td>0.0</td>\n",
              "      <td>0.0</td>\n",
              "      <td>0.0</td>\n",
              "      <td>0.0</td>\n",
              "      <td>0.0</td>\n",
              "      <td>0.0</td>\n",
              "      <td>0.0</td>\n",
              "      <td>0.000000</td>\n",
              "      <td>0.0</td>\n",
              "      <td>0.0</td>\n",
              "      <td>0.0</td>\n",
              "      <td>0.0</td>\n",
              "      <td>0.0</td>\n",
              "      <td>0.0</td>\n",
              "      <td>0.0</td>\n",
              "      <td>0.0</td>\n",
              "      <td>0.0</td>\n",
              "      <td>0.0</td>\n",
              "      <td>0.0</td>\n",
              "      <td>0.0</td>\n",
              "      <td>0.0</td>\n",
              "      <td>0.0</td>\n",
              "      <td>0.0</td>\n",
              "      <td>0.0</td>\n",
              "      <td>0.0</td>\n",
              "      <td>0.0</td>\n",
              "      <td>0.0</td>\n",
              "      <td>0.0</td>\n",
              "      <td>0.0</td>\n",
              "      <td>0.0</td>\n",
              "      <td>0.0</td>\n",
              "      <td>0.0</td>\n",
              "      <td>0.0</td>\n",
              "      <td>...</td>\n",
              "      <td>0.0</td>\n",
              "      <td>0.0</td>\n",
              "      <td>0.0</td>\n",
              "      <td>0.0</td>\n",
              "      <td>0.0</td>\n",
              "      <td>0.0</td>\n",
              "      <td>0.0</td>\n",
              "      <td>0.0</td>\n",
              "      <td>0.0</td>\n",
              "      <td>0.0</td>\n",
              "      <td>0.0</td>\n",
              "      <td>0.0</td>\n",
              "      <td>0.0</td>\n",
              "      <td>0.0</td>\n",
              "      <td>0.0</td>\n",
              "      <td>0.0</td>\n",
              "      <td>0.0</td>\n",
              "      <td>0.0</td>\n",
              "      <td>0.0</td>\n",
              "      <td>0.0</td>\n",
              "      <td>0.0</td>\n",
              "      <td>0.0</td>\n",
              "      <td>0.0</td>\n",
              "      <td>0.0</td>\n",
              "      <td>0.0</td>\n",
              "      <td>0.0</td>\n",
              "      <td>0.0</td>\n",
              "      <td>0.0</td>\n",
              "      <td>0.0</td>\n",
              "      <td>0.0</td>\n",
              "      <td>0.0</td>\n",
              "      <td>0.0</td>\n",
              "      <td>0.0</td>\n",
              "      <td>0.0</td>\n",
              "      <td>3.660893e+08</td>\n",
              "      <td>2619.0</td>\n",
              "      <td>1.0</td>\n",
              "      <td>3237.0</td>\n",
              "      <td>0.0004</td>\n",
              "      <td>0</td>\n",
              "    </tr>\n",
              "    <tr>\n",
              "      <th>3</th>\n",
              "      <td>3</td>\n",
              "      <td>0.0</td>\n",
              "      <td>0.0</td>\n",
              "      <td>0.0</td>\n",
              "      <td>0.0</td>\n",
              "      <td>0.0</td>\n",
              "      <td>0.0</td>\n",
              "      <td>0.0</td>\n",
              "      <td>0.0</td>\n",
              "      <td>0.0</td>\n",
              "      <td>0.0</td>\n",
              "      <td>0.0</td>\n",
              "      <td>0.0</td>\n",
              "      <td>0.0</td>\n",
              "      <td>-0.014178</td>\n",
              "      <td>0.0</td>\n",
              "      <td>0.0</td>\n",
              "      <td>0.0</td>\n",
              "      <td>0.0</td>\n",
              "      <td>0.0</td>\n",
              "      <td>0.0</td>\n",
              "      <td>0.0</td>\n",
              "      <td>0.0</td>\n",
              "      <td>0.0</td>\n",
              "      <td>0.0</td>\n",
              "      <td>0.0</td>\n",
              "      <td>0.0</td>\n",
              "      <td>0.0</td>\n",
              "      <td>0.0</td>\n",
              "      <td>0.0</td>\n",
              "      <td>0.0</td>\n",
              "      <td>0.0</td>\n",
              "      <td>0.0</td>\n",
              "      <td>0.0</td>\n",
              "      <td>0.0</td>\n",
              "      <td>0.0</td>\n",
              "      <td>0.0</td>\n",
              "      <td>0.0</td>\n",
              "      <td>0.0</td>\n",
              "      <td>0.0</td>\n",
              "      <td>...</td>\n",
              "      <td>0.0</td>\n",
              "      <td>0.0</td>\n",
              "      <td>0.0</td>\n",
              "      <td>0.0</td>\n",
              "      <td>0.0</td>\n",
              "      <td>0.0</td>\n",
              "      <td>0.0</td>\n",
              "      <td>0.0</td>\n",
              "      <td>0.0</td>\n",
              "      <td>0.0</td>\n",
              "      <td>0.0</td>\n",
              "      <td>0.0</td>\n",
              "      <td>0.0</td>\n",
              "      <td>0.0</td>\n",
              "      <td>0.0</td>\n",
              "      <td>0.0</td>\n",
              "      <td>0.0</td>\n",
              "      <td>0.0</td>\n",
              "      <td>0.0</td>\n",
              "      <td>0.0</td>\n",
              "      <td>0.0</td>\n",
              "      <td>0.0</td>\n",
              "      <td>0.0</td>\n",
              "      <td>0.0</td>\n",
              "      <td>0.0</td>\n",
              "      <td>0.0</td>\n",
              "      <td>0.0</td>\n",
              "      <td>0.0</td>\n",
              "      <td>0.0</td>\n",
              "      <td>0.0</td>\n",
              "      <td>0.0</td>\n",
              "      <td>0.0</td>\n",
              "      <td>0.0</td>\n",
              "      <td>0.0</td>\n",
              "      <td>1.621157e+07</td>\n",
              "      <td>61700.0</td>\n",
              "      <td>1.0</td>\n",
              "      <td>11982.0</td>\n",
              "      <td>0.0011</td>\n",
              "      <td>0</td>\n",
              "    </tr>\n",
              "    <tr>\n",
              "      <th>4</th>\n",
              "      <td>4</td>\n",
              "      <td>0.0</td>\n",
              "      <td>0.0</td>\n",
              "      <td>0.0</td>\n",
              "      <td>0.0</td>\n",
              "      <td>0.0</td>\n",
              "      <td>0.0</td>\n",
              "      <td>0.0</td>\n",
              "      <td>0.0</td>\n",
              "      <td>0.0</td>\n",
              "      <td>0.0</td>\n",
              "      <td>0.0</td>\n",
              "      <td>0.0</td>\n",
              "      <td>0.0</td>\n",
              "      <td>0.000000</td>\n",
              "      <td>0.0</td>\n",
              "      <td>0.0</td>\n",
              "      <td>0.0</td>\n",
              "      <td>0.0</td>\n",
              "      <td>0.0</td>\n",
              "      <td>0.0</td>\n",
              "      <td>0.0</td>\n",
              "      <td>0.0</td>\n",
              "      <td>0.0</td>\n",
              "      <td>0.0</td>\n",
              "      <td>0.0</td>\n",
              "      <td>0.0</td>\n",
              "      <td>0.0</td>\n",
              "      <td>0.0</td>\n",
              "      <td>0.0</td>\n",
              "      <td>0.0</td>\n",
              "      <td>0.0</td>\n",
              "      <td>0.0</td>\n",
              "      <td>0.0</td>\n",
              "      <td>0.0</td>\n",
              "      <td>0.0</td>\n",
              "      <td>0.0</td>\n",
              "      <td>0.0</td>\n",
              "      <td>0.0</td>\n",
              "      <td>0.0</td>\n",
              "      <td>...</td>\n",
              "      <td>0.0</td>\n",
              "      <td>0.0</td>\n",
              "      <td>0.0</td>\n",
              "      <td>0.0</td>\n",
              "      <td>0.0</td>\n",
              "      <td>0.0</td>\n",
              "      <td>0.0</td>\n",
              "      <td>0.0</td>\n",
              "      <td>0.0</td>\n",
              "      <td>0.0</td>\n",
              "      <td>0.0</td>\n",
              "      <td>0.0</td>\n",
              "      <td>0.0</td>\n",
              "      <td>0.0</td>\n",
              "      <td>0.0</td>\n",
              "      <td>0.0</td>\n",
              "      <td>0.0</td>\n",
              "      <td>0.0</td>\n",
              "      <td>0.0</td>\n",
              "      <td>0.0</td>\n",
              "      <td>0.0</td>\n",
              "      <td>0.0</td>\n",
              "      <td>0.0</td>\n",
              "      <td>0.0</td>\n",
              "      <td>0.0</td>\n",
              "      <td>0.0</td>\n",
              "      <td>0.0</td>\n",
              "      <td>0.0</td>\n",
              "      <td>0.0</td>\n",
              "      <td>0.0</td>\n",
              "      <td>0.0</td>\n",
              "      <td>0.0</td>\n",
              "      <td>0.0</td>\n",
              "      <td>0.0</td>\n",
              "      <td>2.566535e+09</td>\n",
              "      <td>6204.0</td>\n",
              "      <td>1.0</td>\n",
              "      <td>35880.0</td>\n",
              "      <td>0.0091</td>\n",
              "      <td>1</td>\n",
              "    </tr>\n",
              "  </tbody>\n",
              "</table>\n",
              "<p>5 rows × 768 columns</p>\n",
              "</div>"
            ],
            "text/plain": [
              "   Unnamed: 0  abl  aboard  ...  followers_count  user_imp  target_variables\n",
              "0           0  0.0     0.0  ...         179430.0    0.0007                 0\n",
              "1           1  0.0     0.0  ...          20839.0    0.0033                 0\n",
              "2           2  0.0     0.0  ...           3237.0    0.0004                 0\n",
              "3           3  0.0     0.0  ...          11982.0    0.0011                 0\n",
              "4           4  0.0     0.0  ...          35880.0    0.0091                 1\n",
              "\n",
              "[5 rows x 768 columns]"
            ]
          },
          "metadata": {
            "tags": []
          },
          "execution_count": 47
        }
      ]
    },
    {
      "cell_type": "code",
      "metadata": {
        "id": "o4XIT3ZPbTs3",
        "colab_type": "code",
        "colab": {}
      },
      "source": [
        "df.drop('Unnamed: 0', axis = 1, inplace = True)"
      ],
      "execution_count": 0,
      "outputs": []
    },
    {
      "cell_type": "code",
      "metadata": {
        "id": "6U0fqCsZbTs6",
        "colab_type": "code",
        "outputId": "6d222ecb-b4c5-41bb-cc5e-74de5ae3953d",
        "colab": {
          "base_uri": "https://localhost:8080/",
          "height": 34
        }
      },
      "source": [
        "df.shape"
      ],
      "execution_count": 49,
      "outputs": [
        {
          "output_type": "execute_result",
          "data": {
            "text/plain": [
              "(2906, 767)"
            ]
          },
          "metadata": {
            "tags": []
          },
          "execution_count": 49
        }
      ]
    },
    {
      "cell_type": "code",
      "metadata": {
        "id": "X6R0aYNUufNB",
        "colab_type": "code",
        "outputId": "b46e8dd9-03dc-4dd9-a19f-77fe00b0bf8e",
        "colab": {
          "base_uri": "https://localhost:8080/",
          "height": 34
        }
      },
      "source": [
        "df.target_variables.nunique()"
      ],
      "execution_count": 50,
      "outputs": [
        {
          "output_type": "execute_result",
          "data": {
            "text/plain": [
              "2"
            ]
          },
          "metadata": {
            "tags": []
          },
          "execution_count": 50
        }
      ]
    },
    {
      "cell_type": "code",
      "metadata": {
        "id": "g3pZCHeCbTs9",
        "colab_type": "code",
        "colab": {}
      },
      "source": [
        "X = df.iloc[:, :-1].values #Take all the columns except last one\n",
        "y = df.iloc[:, -1].values #Take the last column as the result\n",
        "from scipy import sparse\n",
        "#X_csr = sparse.csr_matrix(X)"
      ],
      "execution_count": 0,
      "outputs": []
    },
    {
      "cell_type": "code",
      "metadata": {
        "id": "iefK_CgSbTs_",
        "colab_type": "code",
        "outputId": "0babf7f5-5c44-4b9b-fa4a-c7ccfc018b08",
        "colab": {
          "base_uri": "https://localhost:8080/",
          "height": 34
        }
      },
      "source": [
        "y.shape"
      ],
      "execution_count": 52,
      "outputs": [
        {
          "output_type": "execute_result",
          "data": {
            "text/plain": [
              "(2906,)"
            ]
          },
          "metadata": {
            "tags": []
          },
          "execution_count": 52
        }
      ]
    },
    {
      "cell_type": "code",
      "metadata": {
        "id": "vUxE1X_DbTtI",
        "colab_type": "code",
        "colab": {}
      },
      "source": [
        "import networkx as nx"
      ],
      "execution_count": 0,
      "outputs": []
    },
    {
      "cell_type": "code",
      "metadata": {
        "id": "7y0EpO_ebTtK",
        "colab_type": "code",
        "outputId": "ddd8b54a-a2cc-4bee-a1a7-1bbf8ed5966d",
        "colab": {
          "base_uri": "https://localhost:8080/",
          "height": 34
        }
      },
      "source": [
        "G = nx.read_multiline_adjlist(\"/content/drive/My Drive/test_german.adjlist\")\n",
        "A = nx.adjacency_matrix(G)\n",
        "A.shape"
      ],
      "execution_count": 54,
      "outputs": [
        {
          "output_type": "execute_result",
          "data": {
            "text/plain": [
              "(2906, 2906)"
            ]
          },
          "metadata": {
            "tags": []
          },
          "execution_count": 54
        }
      ]
    },
    {
      "cell_type": "code",
      "metadata": {
        "id": "yKIh3Q9JbTtP",
        "colab_type": "code",
        "colab": {}
      },
      "source": [
        "n1 = df['target_variables']\n",
        "classes = 2\n",
        "y = np.zeros((len(df),classes))\n",
        "#labels\n",
        "n = list(n1)\n",
        "for i in range(len(df)):\n",
        "    if (n[i] == 1):\n",
        "        y[i,1] = 1\n",
        "    elif (n[i] == 0):\n",
        "        y[i,0] = 1\n",
        "\n"
      ],
      "execution_count": 0,
      "outputs": []
    },
    {
      "cell_type": "code",
      "metadata": {
        "id": "blZo1aT8bTtR",
        "colab_type": "code",
        "colab": {}
      },
      "source": [
        "N = A.shape[0]\n",
        "F = X.shape[-1]\n",
        "n_classes = y.shape[-1]"
      ],
      "execution_count": 0,
      "outputs": []
    },
    {
      "cell_type": "code",
      "metadata": {
        "id": "k408JMXXgNOt",
        "colab_type": "code",
        "outputId": "048f6c2b-99bf-41a6-edaa-adb6d5ac570a",
        "colab": {
          "base_uri": "https://localhost:8080/",
          "height": 34
        }
      },
      "source": [
        "type(X)"
      ],
      "execution_count": 57,
      "outputs": [
        {
          "output_type": "execute_result",
          "data": {
            "text/plain": [
              "numpy.ndarray"
            ]
          },
          "metadata": {
            "tags": []
          },
          "execution_count": 57
        }
      ]
    },
    {
      "cell_type": "code",
      "metadata": {
        "id": "DBwFHQirg4S0",
        "colab_type": "code",
        "outputId": "7df0e3e6-3841-4358-a85d-9f6dab37baf4",
        "colab": {
          "base_uri": "https://localhost:8080/",
          "height": 34
        }
      },
      "source": [
        "y.shape"
      ],
      "execution_count": 58,
      "outputs": [
        {
          "output_type": "execute_result",
          "data": {
            "text/plain": [
              "(2906, 2)"
            ]
          },
          "metadata": {
            "tags": []
          },
          "execution_count": 58
        }
      ]
    },
    {
      "cell_type": "code",
      "metadata": {
        "colab_type": "code",
        "id": "TsZSQiXaamMT",
        "colab": {}
      },
      "source": [
        "from spektral.layers import GraphConv\n",
        "from tensorflow.keras.models import Model\n",
        "from tensorflow.keras.layers import Input, Dropout\n",
        "#import tensorflow as tf\n",
        "from tensorflow.keras.models import Model\n",
        "from tensorflow.keras.layers import Input, Dropout\n",
        "from sklearn.metrics import confusion_matrix\n",
        "from sklearn.model_selection import KFold"
      ],
      "execution_count": 0,
      "outputs": []
    },
    {
      "cell_type": "code",
      "metadata": {
        "id": "mWacBW8BleXY",
        "colab_type": "code",
        "colab": {}
      },
      "source": [
        "y1 = df['target_variables']"
      ],
      "execution_count": 0,
      "outputs": []
    },
    {
      "cell_type": "code",
      "metadata": {
        "id": "8DRnaRgql6el",
        "colab_type": "code",
        "colab": {}
      },
      "source": [
        "from sklearn.preprocessing import StandardScaler"
      ],
      "execution_count": 0,
      "outputs": []
    },
    {
      "cell_type": "code",
      "metadata": {
        "id": "KcUDGRPcAe2s",
        "colab_type": "code",
        "colab": {}
      },
      "source": [
        "import matplotlib.pyplot as plt\n",
        "from itertools import cycle\n",
        "from sklearn.metrics import roc_curve, auc\n",
        "from sklearn.preprocessing import label_binarize\n",
        "from scipy import interp\n",
        "from sklearn.metrics import roc_auc_score\n",
        "from tensorflow.keras import regularizers"
      ],
      "execution_count": 0,
      "outputs": []
    },
    {
      "cell_type": "code",
      "metadata": {
        "id": "B-OAHWAcdo6O",
        "colab_type": "code",
        "colab": {}
      },
      "source": [
        "from tensorflow.keras.callbacks import EarlyStopping\n",
        "from tensorflow.keras.layers import Input, Dropout\n",
        "from tensorflow.keras.models import Model\n",
        "from tensorflow.keras.optimizers import Adam\n",
        "from tensorflow.keras.regularizers import l2\n",
        "\n",
        "from spektral.datasets import citation\n",
        "from spektral.layers import GraphConv"
      ],
      "execution_count": 0,
      "outputs": []
    },
    {
      "cell_type": "code",
      "metadata": {
        "id": "Zy0BXnXudtgP",
        "colab_type": "code",
        "colab": {}
      },
      "source": [
        "# Parameters\n",
        "channels = 32           # Number of channels in the first layer\n",
        "#N = X.shape[0]          # Number of nodes in the graph\n",
        "#F = X.shape[1]          # Original size of node features\n",
        "#n_classes = y.shape[1]  # Number of classes\n",
        "dropout = 0.5           # Dropout rate for the features\n",
        "l2_reg = 5e-4 / 2       # L2 regularization rate\n",
        "learning_rate = 1e-2    # Learning rate\n",
        "epochs = 300            # Number of training epochs\n",
        "es_patience = 10        # Patience for early stopping\n"
      ],
      "execution_count": 0,
      "outputs": []
    },
    {
      "cell_type": "code",
      "metadata": {
        "id": "9F6xZdFod1OR",
        "colab_type": "code",
        "outputId": "33ccada8-c26c-4587-b2df-8d4fc4f8a119",
        "colab": {
          "base_uri": "https://localhost:8080/",
          "height": 386
        }
      },
      "source": [
        "# Preprocessing operations\n",
        "fltr = GraphConv.preprocess(A).astype('f4')\n",
        "#X = X.toarray()\n",
        "# Model definition\n",
        "X_in = Input(shape=(F, ))\n",
        "fltr_in = Input((N, ), sparse=True)\n",
        "\n",
        "\n",
        "dropout_1 = Dropout(dropout)(X_in)\n",
        "graph_conv_1 = GraphConv(channels,\n",
        "                        activation='relu',\n",
        "                        kernel_regularizer=l2(l2_reg),\n",
        "                        use_bias=False)([dropout_1, fltr_in])\n",
        "dropout_2 = Dropout(dropout)(graph_conv_1)\n",
        "graph_conv_2 = GraphConv(n_classes,\n",
        "                        activation='sigmoid',\n",
        "                        use_bias=False)([dropout_2, fltr_in])\n",
        "\n",
        "# Build model\n",
        "model = Model(inputs=[X_in, fltr_in], outputs=graph_conv_2)\n",
        "optimizer = Adam(lr=learning_rate)\n",
        "model.compile(optimizer=optimizer,\n",
        "              loss='binary_crossentropy',\n",
        "              weighted_metrics=['acc'])\n",
        "model.summary()"
      ],
      "execution_count": 65,
      "outputs": [
        {
          "output_type": "stream",
          "text": [
            "Model: \"model_1\"\n",
            "__________________________________________________________________________________________________\n",
            "Layer (type)                    Output Shape         Param #     Connected to                     \n",
            "==================================================================================================\n",
            "input_3 (InputLayer)            [(None, 766)]        0                                            \n",
            "__________________________________________________________________________________________________\n",
            "dropout_2 (Dropout)             (None, 766)          0           input_3[0][0]                    \n",
            "__________________________________________________________________________________________________\n",
            "input_4 (InputLayer)            [(None, 2906)]       0                                            \n",
            "__________________________________________________________________________________________________\n",
            "graph_conv_2 (GraphConv)        (None, 32)           24512       dropout_2[0][0]                  \n",
            "                                                                 input_4[0][0]                    \n",
            "__________________________________________________________________________________________________\n",
            "dropout_3 (Dropout)             (None, 32)           0           graph_conv_2[0][0]               \n",
            "__________________________________________________________________________________________________\n",
            "graph_conv_3 (GraphConv)        (None, 2)            64          dropout_3[0][0]                  \n",
            "                                                                 input_4[0][0]                    \n",
            "==================================================================================================\n",
            "Total params: 24,576\n",
            "Trainable params: 24,576\n",
            "Non-trainable params: 0\n",
            "__________________________________________________________________________________________________\n"
          ],
          "name": "stdout"
        }
      ]
    },
    {
      "cell_type": "code",
      "metadata": {
        "id": "5CRSgPebbTtZ",
        "colab_type": "code",
        "outputId": "18870baa-55e2-4e22-fb15-b47c05e00f6a",
        "colab": {
          "base_uri": "https://localhost:8080/",
          "height": 1000
        }
      },
      "source": [
        "# define 5-fold cross validation test harness\n",
        "\n",
        "kfold = KFold(n_splits=5, shuffle=True, random_state=0)\n",
        "tp = []\n",
        "tn = []\n",
        "fp = []\n",
        "fn = []\n",
        "\n",
        "metrics_acc = []\n",
        "metrics_precision = []\n",
        "metrics_recall = []\n",
        "metrics_f1 = []\n",
        "pmacro = []\n",
        "pmicro = []\n",
        "pbinary = []\n",
        "rmacro = []\n",
        "rmicro = []\n",
        "rbi = []\n",
        "a = []\n",
        "f = []\n",
        "\n",
        "tprs = []\n",
        "aucs = []\n",
        "mean_fpr = np.linspace(0, 1, 100)\n",
        "fig, ax = plt.subplots()\n",
        "\n",
        "for k, (train, test) in enumerate(kfold.split(X, y1)):\n",
        "  \n",
        "    #plotter = tfdocs.plots.HistoryPlotter(metric = 'binary_crossentropy', smoothing_std=10)\n",
        "    #regularizer_histories = {}\n",
        "    print(\"k : \", k)\n",
        "  #standardize\n",
        "    sc_X = StandardScaler() \n",
        "    X[train] = sc_X.fit_transform(X[train]) \n",
        "    X[test] = sc_X.transform(X[test])\n",
        "    #X_csr = sparse.csr_matrix(X)\n",
        "    print(\"done scaling\")\n",
        "    \n",
        "    l = []\n",
        "    for i in range(0, len(df)):\n",
        "        l.append(False)\n",
        "    #train indices\n",
        "    train_indices = list(train)    \n",
        "    for i in train_indices:\n",
        "        l[i] = True\n",
        "\n",
        "    print(\"train mask processing: \")\n",
        "    train_mask = np.array(l)\n",
        "\n",
        "    l = []\n",
        "    for i in range(0, len(df)):\n",
        "      l.append(False)\n",
        "     #test indices           \n",
        "    test_indices = list(test)  \n",
        "    for i in test_indices:\n",
        "      l[i] = True\n",
        "    print(\"test mask processing: \")\n",
        "    test_mask = np.array(l)\n",
        "    \n",
        "    #validation indices (taken at random)\n",
        "    val = np.random.choice(2906, 300, replace = False)            \n",
        "    val_indices = list(val)    \n",
        "    l = []\n",
        "    for i in range(0, len(df)):\n",
        "      l.append(False)\n",
        "    for i in val_indices:\n",
        "      l[i] = True\n",
        "    val_mask = np.array(l)\n",
        "    print(\"val mask processing: \")\n",
        "   \n",
        "\n",
        "    # Model definition\n",
        "    #X_in = Input(shape=(F, ))  # Input layer for X\n",
        "    #A_in = Input((N, ), sparse=True)  # Input layer for A\n",
        "\n",
        "    #graph_conv_1 = GraphConv(32, activation='relu')([X_in, A_in])\n",
        "    print(\"graph conv1\")\n",
        "    #dropout = Dropout(0.5)(graph_conv_1)\n",
        "    #graph_conv_2 = GraphConv(n_classes, activation='sigmoid', \n",
        "     #                        kernel_regularizer=regularizers.l2(0.5))([dropout, A_in])\n",
        "\n",
        "    # Build model\n",
        "    #model = Model(inputs=[X_in, A_in], outputs=graph_conv_2)\n",
        "    #from spektral import utils\n",
        "    #A = utils.localpooling_filter(A)\n",
        "    #model.compile(optimizer='adam',\n",
        "     #             loss='binary_crossentropy',\n",
        "      #            weighted_metrics=['acc'])\n",
        "    # Train model\n",
        "    validation_data = ([X, fltr], y, val_mask)\n",
        "    history = model.fit([X, fltr],\n",
        "              y,\n",
        "              sample_weight=train_mask,\n",
        "              epochs=epochs,\n",
        "              batch_size=N,\n",
        "              validation_data=validation_data,\n",
        "              shuffle=False,\n",
        "              callbacks=[\n",
        "              EarlyStopping(patience=es_patience,  restore_best_weights=True)\n",
        "          ])  # Shuffling data means shuffling the whole graph\n",
        "\n",
        "    # Evaluate model\n",
        "    eval_results = model.evaluate([X, fltr],\n",
        "                                  y,\n",
        "                                  sample_weight=test_mask,\n",
        "                                  batch_size=N)\n",
        "    print('Done.\\n'\n",
        "          'Test loss: {}\\n'\n",
        "          'Test accuracy: {}'.format(*eval_results))\n",
        "    \n",
        "    import scipy\n",
        "    A1 = scipy.sparse.csr_matrix.todense(fltr)\n",
        "    A1 = pd.DataFrame(A1)\n",
        "    A1 = A1.loc[test_indices,test_indices]\n",
        "    A2 = sparse.csr_matrix(A1)\n",
        "    #A2.shape\n",
        "  \n",
        "    #google\n",
        "    y_pred = model.predict(\n",
        "        [X[test], A2], batch_size=N, verbose=0, steps=None, callbacks=None, max_queue_size=10,\n",
        "        workers=1, use_multiprocessing=False\n",
        "    )\n",
        "\n",
        "    \n",
        "    \n",
        "    predict_class = np.argmax(y_pred, axis=1)\n",
        "    y2 = np.zeros((len(test),classes))\n",
        "    for i in range(len(test)):\n",
        "        if (predict_class[i] == 1):\n",
        "            y2[i,1] = 1\n",
        "        elif (predict_class[i] == 0):\n",
        "            y2[i,0] = 1\n",
        "\n",
        "    \n",
        "    fpr, tpr, t = roc_curve(y1[test], predict_class)\n",
        "    tprs.append(interp(mean_fpr, fpr, tpr))\n",
        "    roc_auc = auc(fpr, tpr)\n",
        "    aucs.append(roc_auc)\n",
        "    plt.plot(fpr, tpr, lw=2, alpha=0.3, label='ROC fold %d (AUC = %0.2f)' % (k, roc_auc))\n",
        "      \n",
        "    '''viz = metrics.plot_roc_curve(history, X[test], y1[test],\n",
        "                             name='ROC fold {}'.format(i),\n",
        "                             alpha=0.3, lw=1, ax=ax)\n",
        "    interp_tpr = interp(mean_fpr, viz.fpr, viz.tpr)\n",
        "    interp_tpr[0] = 0.0\n",
        "    tprs.append(interp_tpr)\n",
        "    aucs.append(viz.roc_auc)\n",
        "    \n",
        "'''\n",
        "    fpr = dict()\n",
        "    tpr = dict()\n",
        "    roc_auc = dict()\n",
        "    for i in range(n_classes):\n",
        "        fpr[i], tpr[i], _ = roc_curve(y[test, i], y2[:, i])\n",
        "        roc_auc[i] = auc(fpr[i], tpr[i])\n",
        "\n",
        "    # Compute micro-average ROC curve and ROC area\n",
        "    fpr[\"micro\"], tpr[\"micro\"], _ = roc_curve(y[test].ravel(), y2.ravel())\n",
        "    roc_auc[\"micro\"] = auc(fpr[\"micro\"], tpr[\"micro\"])\n",
        "\n",
        "    # First aggregate all false positive rates\n",
        "    all_fpr = np.unique(np.concatenate([fpr[i] for i in range(n_classes)]))\n",
        "\n",
        "    # Then interpolate all ROC curves at this points\n",
        "    mean_tpr = np.zeros_like(all_fpr)\n",
        "    for i in range(n_classes):\n",
        "        mean_tpr += interp(all_fpr, fpr[i], tpr[i])\n",
        "\n",
        "    # Finally average it and compute AUC\n",
        "    mean_tpr /= n_classes\n",
        "    lw = 2\n",
        "    fpr[\"macro\"] = all_fpr\n",
        "    tpr[\"macro\"] = mean_tpr\n",
        "    roc_auc[\"macro\"] = auc(fpr[\"macro\"], tpr[\"macro\"])\n",
        "\n",
        "    # Plot all ROC curves\n",
        "    plt.figure()\n",
        "    plt.plot(fpr[\"micro\"], tpr[\"micro\"],\n",
        "            label='micro-average ROC curve (area = {0:0.2f})'\n",
        "                  ''.format(roc_auc[\"micro\"]),\n",
        "            color='deeppink', linestyle=':', linewidth=4)\n",
        "\n",
        "    plt.plot([0, 1], [0, 1], 'k--', lw=lw)\n",
        "    plt.xlim([0.0, 1.0])\n",
        "    plt.ylim([0.0, 1.05])\n",
        "    plt.xlabel('False Positive Rate')\n",
        "    plt.ylabel('True Positive Rate')\n",
        "    plt.title('Receiver operating characteristic')\n",
        "    plt.legend(loc=\"lower right\")\n",
        "    plt.show()\n",
        "  \n",
        "    #print(predict_class)\n",
        "    conf_mat = confusion_matrix(y1[test], predict_class)\n",
        "    \n",
        "    print(conf_mat)\n",
        "    \n",
        "    #Evaluation Measures\n",
        "    TP = np.diag(conf_mat)\n",
        "    print(\"True Positive: \", TP)\n",
        "    FP = np.sum(conf_mat, axis=0) - TP\n",
        "    print(\"False Positive: \", FP)\n",
        "    FN = np.sum(conf_mat, axis=1) - TP\n",
        "    print(\"False Negative\", FN)\n",
        "    num_classes = classes\n",
        "    TN = []\n",
        "    for i in range(num_classes):\n",
        "        temp = np.delete(conf_mat, i, 0)    # delete ith row\n",
        "        temp = np.delete(temp, i, 1)  # delete ith column\n",
        "        TN.append(sum(sum(temp)))\n",
        "    print(\"True negative: \", TN)\n",
        "\n",
        "    acc = (TP+TN)/(TP+TN+FP+FN)\n",
        "    precision = TP/(TP+FP)\n",
        "    recall = TP/(TP+FN)\n",
        "    \n",
        "    print(\"Accuracy: \", acc)\n",
        "\n",
        "    print(\"precision: \", precision)\n",
        "    print(\"recall: \", recall)\n",
        "    F1 = 2 * ((precision * recall)/(precision + recall))\n",
        "    tp.append(TP)\n",
        "    tn.append(TN)\n",
        "    fp.append(FP)\n",
        "    fn.append(FN)\n",
        "    \n",
        "    \n",
        "    metrics_acc.append(acc)\n",
        "    metrics_precision.append(precision)\n",
        "    metrics_recall.append(recall)\n",
        "    metrics_f1.append(F1)\n",
        "    print (\"F1 measure: \", F1)\n",
        "\n",
        "\n",
        "\n",
        "  \n",
        "    #print(predict_class)\n",
        "    conf_mat = confusion_matrix(y1[test], predict_class)\n",
        "    \n",
        "    print(conf_mat)\n",
        "    p = precision_score(y1[test], predict_class, average='binary')\n",
        "    print('Precision binary: %.3f' % p)\n",
        "    pbinary.append(p)\n",
        "    p1 = precision_score(y1[test], predict_class, average='micro')\n",
        "    print('Precision micro: %.3f' % p1)\n",
        "    pmicro.append(p1)\n",
        "    p2 = precision_score(y1[test], predict_class, average='macro')\n",
        "    print('Precision macro: %.3f' % p2)\n",
        "    pmacro.append(p2)\n",
        "    r = recall_score(y1[test], predict_class, average='binary')\n",
        "    print('Recall binary: %.3f' % r)\n",
        "    rbi.append(r)\n",
        "    r1 = recall_score(y1[test], predict_class, average='micro')\n",
        "    print('Recall micro: %.3f' % r1)\n",
        "    rmicro.append(r1)\n",
        "    r2 = recall_score(y1[test], predict_class, average='macro')\n",
        "    print('Recall macro: %.3f' % r2)\n",
        "    rmacro.append(r2)\n",
        "    s = f1_score(y1[test], predict_class, average='binary')\n",
        "    print('F-Measure: %.3f' % s)\n",
        "    f.append(s)\n",
        "\n",
        "    ac = accuracy_score(y1[test], predict_class)\n",
        "    a.append(ac)\n",
        "    #Evaluation Measures\n",
        "    TP = np.diag(conf_mat)\n",
        "    print(\"True Positive: \", TP)\n",
        "    FP = np.sum(conf_mat, axis=0) - TP\n",
        "    print(\"False Positive: \", FP)\n",
        "    FN = np.sum(conf_mat, axis=1) - TP\n",
        "    print(\"False Negative\", FN)\n",
        "    num_classes = classes\n",
        "    TN = []\n",
        "    for i in range(num_classes):\n",
        "        temp = np.delete(conf_mat, i, 0)    # delete ith row\n",
        "        temp = np.delete(temp, i, 1)  # delete ith column\n",
        "        TN.append(sum(sum(temp)))\n",
        "    print(\"True negative: \", TN)\n",
        "\n",
        "    acc = (TP+TN)/(TP+TN+FP+FN)\n",
        "    precision = TP/(TP+FP)\n",
        "    recall = TP/(TP+FN)\n",
        "    \n",
        "    print(\"Accuracy: \", acc)\n",
        "\n",
        "    print(\"precision: \", precision)\n",
        "    print(\"recall: \", recall)\n",
        "    F1 = 2 * ((precision * recall)/(precision + recall))\n",
        "    tp.append(TP)\n",
        "    tn.append(TN)\n",
        "    fp.append(FP)\n",
        "    fn.append(FN)\n",
        "    \n",
        "    \n",
        "    metrics_acc.append(acc)\n",
        "    metrics_precision.append(precision)\n",
        "    metrics_recall.append(recall)\n",
        "    metrics_f1.append(F1)\n",
        "    print (\"F1 measure: \", F1)\n",
        "\n",
        "plt.plot([0,1],[0,1],linestyle = '--',lw = 2,color = 'black')\n",
        "mean_tpr = np.mean(tprs, axis=0)\n",
        "mean_auc = auc(mean_fpr, mean_tpr)\n",
        "plt.plot(mean_fpr, mean_tpr, color='blue',\n",
        "        label=r'Mean ROC (AUC = %0.2f )' % (mean_auc),lw=2, alpha=1)\n",
        "\n",
        "plt.xlabel('False Positive Rate')\n",
        "plt.ylabel('True Positive Rate')\n",
        "plt.title('ROC')\n",
        "plt.legend(loc=\"lower right\")\n",
        "plt.show()\n",
        "\n",
        "\n",
        "    "
      ],
      "execution_count": 66,
      "outputs": [
        {
          "output_type": "stream",
          "text": [
            "k :  0\n",
            "done scaling\n",
            "train mask processing: \n",
            "test mask processing: \n",
            "val mask processing: \n",
            "graph conv1\n",
            "Epoch 1/300\n",
            "1/1 [==============================] - 0s 396ms/step - loss: 0.6463 - acc: 0.4957 - val_loss: 0.0850 - val_acc: 0.6533\n",
            "Epoch 2/300\n",
            "1/1 [==============================] - 0s 246ms/step - loss: 0.5939 - acc: 0.5740 - val_loss: 0.0802 - val_acc: 0.6733\n",
            "Epoch 3/300\n",
            "1/1 [==============================] - 0s 231ms/step - loss: 0.5535 - acc: 0.6497 - val_loss: 0.0771 - val_acc: 0.7133\n",
            "Epoch 4/300\n",
            "1/1 [==============================] - 0s 244ms/step - loss: 0.5210 - acc: 0.7044 - val_loss: 0.0747 - val_acc: 0.7500\n",
            "Epoch 5/300\n",
            "1/1 [==============================] - 0s 266ms/step - loss: 0.4932 - acc: 0.7328 - val_loss: 0.0729 - val_acc: 0.7667\n",
            "Epoch 6/300\n",
            "1/1 [==============================] - 0s 241ms/step - loss: 0.4692 - acc: 0.7517 - val_loss: 0.0713 - val_acc: 0.7900\n",
            "Epoch 7/300\n",
            "1/1 [==============================] - 0s 247ms/step - loss: 0.4591 - acc: 0.7737 - val_loss: 0.0701 - val_acc: 0.8033\n",
            "Epoch 8/300\n",
            "1/1 [==============================] - 0s 237ms/step - loss: 0.4552 - acc: 0.7577 - val_loss: 0.0691 - val_acc: 0.8167\n",
            "Epoch 9/300\n",
            "1/1 [==============================] - 0s 240ms/step - loss: 0.4452 - acc: 0.7685 - val_loss: 0.0682 - val_acc: 0.8167\n",
            "Epoch 10/300\n",
            "1/1 [==============================] - 0s 247ms/step - loss: 0.4278 - acc: 0.7780 - val_loss: 0.0675 - val_acc: 0.8200\n",
            "Epoch 11/300\n",
            "1/1 [==============================] - 0s 249ms/step - loss: 0.4176 - acc: 0.7892 - val_loss: 0.0670 - val_acc: 0.8200\n",
            "Epoch 12/300\n",
            "1/1 [==============================] - 0s 240ms/step - loss: 0.4119 - acc: 0.7887 - val_loss: 0.0666 - val_acc: 0.8167\n",
            "Epoch 13/300\n",
            "1/1 [==============================] - 0s 243ms/step - loss: 0.4030 - acc: 0.7913 - val_loss: 0.0664 - val_acc: 0.8267\n",
            "Epoch 14/300\n",
            "1/1 [==============================] - 0s 247ms/step - loss: 0.4115 - acc: 0.7909 - val_loss: 0.0663 - val_acc: 0.8300\n",
            "Epoch 15/300\n",
            "1/1 [==============================] - 0s 233ms/step - loss: 0.3978 - acc: 0.8077 - val_loss: 0.0663 - val_acc: 0.8300\n",
            "Epoch 16/300\n",
            "1/1 [==============================] - 0s 235ms/step - loss: 0.3991 - acc: 0.7917 - val_loss: 0.0665 - val_acc: 0.8300\n",
            "Epoch 17/300\n",
            "1/1 [==============================] - 0s 240ms/step - loss: 0.4084 - acc: 0.7818 - val_loss: 0.0666 - val_acc: 0.8300\n",
            "Epoch 18/300\n",
            "1/1 [==============================] - 0s 240ms/step - loss: 0.3896 - acc: 0.8034 - val_loss: 0.0668 - val_acc: 0.8300\n",
            "Epoch 19/300\n",
            "1/1 [==============================] - 0s 237ms/step - loss: 0.3913 - acc: 0.7978 - val_loss: 0.0669 - val_acc: 0.8433\n",
            "Epoch 20/300\n",
            "1/1 [==============================] - 0s 232ms/step - loss: 0.3965 - acc: 0.7991 - val_loss: 0.0670 - val_acc: 0.8500\n",
            "Epoch 21/300\n",
            "1/1 [==============================] - 0s 233ms/step - loss: 0.3908 - acc: 0.8029 - val_loss: 0.0672 - val_acc: 0.8500\n",
            "Epoch 22/300\n",
            "1/1 [==============================] - 0s 232ms/step - loss: 0.3835 - acc: 0.8077 - val_loss: 0.0672 - val_acc: 0.8467\n",
            "Epoch 23/300\n",
            "1/1 [==============================] - 0s 238ms/step - loss: 0.3889 - acc: 0.8102 - val_loss: 0.0673 - val_acc: 0.8500\n",
            "Epoch 24/300\n",
            "1/1 [==============================] - 0s 238ms/step - loss: 0.3802 - acc: 0.8042 - val_loss: 0.0674 - val_acc: 0.8533\n",
            "1/1 [==============================] - 0s 1ms/step - loss: 0.1302 - acc: 0.7749\n",
            "Done.\n",
            "Test loss: 0.13017529249191284\n",
            "Test accuracy: 0.7749140858650208\n"
          ],
          "name": "stdout"
        },
        {
          "output_type": "stream",
          "text": [
            "/usr/local/lib/python3.6/dist-packages/ipykernel_launcher.py:135: DeprecationWarning: scipy.interp is deprecated and will be removed in SciPy 2.0.0, use numpy.interp instead\n",
            "/usr/local/lib/python3.6/dist-packages/ipykernel_launcher.py:166: DeprecationWarning: scipy.interp is deprecated and will be removed in SciPy 2.0.0, use numpy.interp instead\n"
          ],
          "name": "stderr"
        },
        {
          "output_type": "display_data",
          "data": {
            "image/png": "[encoded data removed]",
            "text/plain": [
              "<Figure size 432x288 with 1 Axes>"
            ]
          },
          "metadata": {
            "tags": [],
            "needs_background": "light"
          }
        },
        {
          "output_type": "display_data",
          "data": {
            "image/png": "[encoded data removed]",
            "text/plain": [
              "<Figure size 432x288 with 1 Axes>"
            ]
          },
          "metadata": {
            "tags": [],
            "needs_background": "light"
          }
        },
        {
          "output_type": "stream",
          "text": [
            "[[177 104]\n",
            " [113 188]]\n",
            "True Positive:  [177 188]\n",
            "False Positive:  [113 104]\n",
            "False Negative [104 113]\n",
            "True negative:  [188, 177]\n",
            "Accuracy:  [0.62714777 0.62714777]\n",
            "precision:  [0.61034483 0.64383562]\n",
            "recall:  [0.62989324 0.62458472]\n",
            "F1 measure:  [0.61996497 0.63406408]\n",
            "[[177 104]\n",
            " [113 188]]\n",
            "Precision binary: 0.644\n",
            "Precision micro: 0.627\n",
            "Precision macro: 0.627\n",
            "Recall binary: 0.625\n",
            "Recall micro: 0.627\n",
            "Recall macro: 0.627\n",
            "F-Measure: 0.634\n",
            "True Positive:  [177 188]\n",
            "False Positive:  [113 104]\n",
            "False Negative [104 113]\n",
            "True negative:  [188, 177]\n",
            "Accuracy:  [0.62714777 0.62714777]\n",
            "precision:  [0.61034483 0.64383562]\n",
            "recall:  [0.62989324 0.62458472]\n",
            "F1 measure:  [0.61996497 0.63406408]\n",
            "k :  1\n",
            "done scaling\n",
            "train mask processing: \n",
            "test mask processing: \n",
            "val mask processing: \n",
            "graph conv1\n",
            "Epoch 1/300\n",
            "1/1 [==============================] - 0s 238ms/step - loss: 0.4368 - acc: 0.7673 - val_loss: 0.0635 - val_acc: 0.8633\n",
            "Epoch 2/300\n",
            "1/1 [==============================] - 0s 235ms/step - loss: 0.4281 - acc: 0.7798 - val_loss: 0.0630 - val_acc: 0.8733\n",
            "Epoch 3/300\n",
            "1/1 [==============================] - 0s 237ms/step - loss: 0.4334 - acc: 0.7712 - val_loss: 0.0626 - val_acc: 0.8733\n",
            "Epoch 4/300\n",
            "1/1 [==============================] - 0s 263ms/step - loss: 0.4187 - acc: 0.7910 - val_loss: 0.0621 - val_acc: 0.8733\n",
            "Epoch 5/300\n",
            "1/1 [==============================] - 0s 241ms/step - loss: 0.4025 - acc: 0.7953 - val_loss: 0.0617 - val_acc: 0.8667\n",
            "Epoch 6/300\n",
            "1/1 [==============================] - 0s 240ms/step - loss: 0.4159 - acc: 0.7892 - val_loss: 0.0613 - val_acc: 0.8733\n",
            "Epoch 7/300\n",
            "1/1 [==============================] - 0s 245ms/step - loss: 0.4028 - acc: 0.8043 - val_loss: 0.0609 - val_acc: 0.8700\n",
            "Epoch 8/300\n",
            "1/1 [==============================] - 0s 240ms/step - loss: 0.3875 - acc: 0.8142 - val_loss: 0.0607 - val_acc: 0.8767\n",
            "Epoch 9/300\n",
            "1/1 [==============================] - 0s 252ms/step - loss: 0.3871 - acc: 0.8159 - val_loss: 0.0605 - val_acc: 0.8733\n",
            "Epoch 10/300\n",
            "1/1 [==============================] - 0s 242ms/step - loss: 0.3844 - acc: 0.8138 - val_loss: 0.0603 - val_acc: 0.8800\n",
            "Epoch 11/300\n",
            "1/1 [==============================] - 0s 251ms/step - loss: 0.3768 - acc: 0.8129 - val_loss: 0.0603 - val_acc: 0.8767\n",
            "Epoch 12/300\n",
            "1/1 [==============================] - 0s 238ms/step - loss: 0.3896 - acc: 0.8142 - val_loss: 0.0603 - val_acc: 0.8700\n",
            "Epoch 13/300\n",
            "1/1 [==============================] - 0s 242ms/step - loss: 0.3752 - acc: 0.8099 - val_loss: 0.0604 - val_acc: 0.8667\n",
            "Epoch 14/300\n",
            "1/1 [==============================] - 0s 260ms/step - loss: 0.3783 - acc: 0.8125 - val_loss: 0.0604 - val_acc: 0.8700\n",
            "Epoch 15/300\n",
            "1/1 [==============================] - 0s 251ms/step - loss: 0.3792 - acc: 0.8176 - val_loss: 0.0604 - val_acc: 0.8733\n",
            "Epoch 16/300\n",
            "1/1 [==============================] - 0s 234ms/step - loss: 0.3709 - acc: 0.8189 - val_loss: 0.0605 - val_acc: 0.8767\n",
            "Epoch 17/300\n",
            "1/1 [==============================] - 0s 245ms/step - loss: 0.3696 - acc: 0.8194 - val_loss: 0.0606 - val_acc: 0.8800\n",
            "Epoch 18/300\n",
            "1/1 [==============================] - 0s 241ms/step - loss: 0.3850 - acc: 0.8039 - val_loss: 0.0607 - val_acc: 0.8767\n",
            "Epoch 19/300\n",
            "1/1 [==============================] - 0s 236ms/step - loss: 0.3702 - acc: 0.8215 - val_loss: 0.0608 - val_acc: 0.8733\n",
            "Epoch 20/300\n",
            "1/1 [==============================] - 0s 248ms/step - loss: 0.3638 - acc: 0.8198 - val_loss: 0.0610 - val_acc: 0.8733\n",
            "Epoch 21/300\n",
            "1/1 [==============================] - 0s 258ms/step - loss: 0.3723 - acc: 0.8185 - val_loss: 0.0611 - val_acc: 0.8767\n",
            "1/1 [==============================] - 0s 1ms/step - loss: 0.1063 - acc: 0.8313\n",
            "Done.\n",
            "Test loss: 0.10627718269824982\n",
            "Test accuracy: 0.8313252925872803\n"
          ],
          "name": "stdout"
        },
        {
          "output_type": "stream",
          "text": [
            "/usr/local/lib/python3.6/dist-packages/ipykernel_launcher.py:135: DeprecationWarning: scipy.interp is deprecated and will be removed in SciPy 2.0.0, use numpy.interp instead\n",
            "/usr/local/lib/python3.6/dist-packages/ipykernel_launcher.py:166: DeprecationWarning: scipy.interp is deprecated and will be removed in SciPy 2.0.0, use numpy.interp instead\n"
          ],
          "name": "stderr"
        },
        {
          "output_type": "display_data",
          "data": {
            "image/png": "[encoded data removed]",
            "text/plain": [
              "<Figure size 432x288 with 1 Axes>"
            ]
          },
          "metadata": {
            "tags": [],
            "needs_background": "light"
          }
        },
        {
          "output_type": "display_data",
          "data": {
            "image/png": "[encoded data removed]",
            "text/plain": [
              "<Figure size 432x288 with 1 Axes>"
            ]
          },
          "metadata": {
            "tags": [],
            "needs_background": "light"
          }
        },
        {
          "output_type": "stream",
          "text": [
            "[[213  69]\n",
            " [117 182]]\n",
            "True Positive:  [213 182]\n",
            "False Positive:  [117  69]\n",
            "False Negative [ 69 117]\n",
            "True negative:  [182, 213]\n",
            "Accuracy:  [0.67986231 0.67986231]\n",
            "precision:  [0.64545455 0.7250996 ]\n",
            "recall:  [0.75531915 0.60869565]\n",
            "F1 measure:  [0.69607843 0.66181818]\n",
            "[[213  69]\n",
            " [117 182]]\n",
            "Precision binary: 0.725\n",
            "Precision micro: 0.680\n",
            "Precision macro: 0.685\n",
            "Recall binary: 0.609\n",
            "Recall micro: 0.680\n",
            "Recall macro: 0.682\n",
            "F-Measure: 0.662\n",
            "True Positive:  [213 182]\n",
            "False Positive:  [117  69]\n",
            "False Negative [ 69 117]\n",
            "True negative:  [182, 213]\n",
            "Accuracy:  [0.67986231 0.67986231]\n",
            "precision:  [0.64545455 0.7250996 ]\n",
            "recall:  [0.75531915 0.60869565]\n",
            "F1 measure:  [0.69607843 0.66181818]\n",
            "k :  2\n",
            "done scaling\n",
            "train mask processing: \n",
            "test mask processing: \n",
            "val mask processing: \n",
            "graph conv1\n",
            "Epoch 1/300\n",
            "1/1 [==============================] - 0s 237ms/step - loss: 0.3823 - acc: 0.8086 - val_loss: 0.0635 - val_acc: 0.8200\n",
            "Epoch 2/300\n",
            "1/1 [==============================] - 0s 239ms/step - loss: 0.3890 - acc: 0.8013 - val_loss: 0.0631 - val_acc: 0.8200\n",
            "Epoch 3/300\n",
            "1/1 [==============================] - 0s 243ms/step - loss: 202336141312.0000 - acc: 0.8047 - val_loss: 0.0630 - val_acc: 0.8233\n",
            "Epoch 4/300\n",
            "1/1 [==============================] - 0s 242ms/step - loss: 194082668544.0000 - acc: 0.8030 - val_loss: 0.0629 - val_acc: 0.8300\n",
            "Epoch 5/300\n",
            "1/1 [==============================] - 0s 245ms/step - loss: 108095356928.0000 - acc: 0.8004 - val_loss: 0.0629 - val_acc: 0.8400\n",
            "Epoch 6/300\n",
            "1/1 [==============================] - 0s 243ms/step - loss: 0.3870 - acc: 0.8090 - val_loss: 0.0630 - val_acc: 0.8433\n",
            "Epoch 7/300\n",
            "1/1 [==============================] - 0s 240ms/step - loss: 0.3687 - acc: 0.8181 - val_loss: 0.0632 - val_acc: 0.8400\n",
            "Epoch 8/300\n",
            "1/1 [==============================] - 0s 243ms/step - loss: 0.3841 - acc: 0.8146 - val_loss: 1283629824.0000 - val_acc: 0.8500\n",
            "Epoch 9/300\n",
            "1/1 [==============================] - 0s 250ms/step - loss: 41237479424.0000 - acc: 0.8172 - val_loss: 0.0636 - val_acc: 0.8500\n",
            "Epoch 10/300\n",
            "1/1 [==============================] - 0s 244ms/step - loss: 92358524928.0000 - acc: 0.8206 - val_loss: 0.0638 - val_acc: 0.8467\n",
            "Epoch 11/300\n",
            "1/1 [==============================] - 0s 242ms/step - loss: 81760608256.0000 - acc: 0.8241 - val_loss: 0.0640 - val_acc: 0.8400\n",
            "Epoch 12/300\n",
            "1/1 [==============================] - 0s 244ms/step - loss: 0.3730 - acc: 0.8232 - val_loss: 0.0644 - val_acc: 0.8400\n",
            "Epoch 13/300\n",
            "1/1 [==============================] - 0s 243ms/step - loss: 88017027072.0000 - acc: 0.8206 - val_loss: 0.0649 - val_acc: 0.8467\n",
            "Epoch 14/300\n",
            "1/1 [==============================] - 0s 243ms/step - loss: 0.3778 - acc: 0.8159 - val_loss: 0.0654 - val_acc: 0.8467\n",
            "1/1 [==============================] - 0s 1ms/step - loss: 206598078464.0000 - acc: 0.8623\n",
            "Done.\n",
            "Test loss: 206598078464.0\n",
            "Test accuracy: 0.8623063564300537\n"
          ],
          "name": "stdout"
        },
        {
          "output_type": "stream",
          "text": [
            "/usr/local/lib/python3.6/dist-packages/ipykernel_launcher.py:135: DeprecationWarning: scipy.interp is deprecated and will be removed in SciPy 2.0.0, use numpy.interp instead\n",
            "/usr/local/lib/python3.6/dist-packages/ipykernel_launcher.py:166: DeprecationWarning: scipy.interp is deprecated and will be removed in SciPy 2.0.0, use numpy.interp instead\n"
          ],
          "name": "stderr"
        },
        {
          "output_type": "display_data",
          "data": {
            "image/png": "[encoded data removed]",
            "text/plain": [
              "<Figure size 432x288 with 1 Axes>"
            ]
          },
          "metadata": {
            "tags": [],
            "needs_background": "light"
          }
        },
        {
          "output_type": "display_data",
          "data": {
            "image/png": "[encoded data removed]",
            "text/plain": [
              "<Figure size 432x288 with 1 Axes>"
            ]
          },
          "metadata": {
            "tags": [],
            "needs_background": "light"
          }
        },
        {
          "output_type": "stream",
          "text": [
            "[[236  59]\n",
            " [ 92 194]]\n",
            "True Positive:  [236 194]\n",
            "False Positive:  [92 59]\n",
            "False Negative [59 92]\n",
            "True negative:  [194, 236]\n",
            "Accuracy:  [0.74010327 0.74010327]\n",
            "precision:  [0.7195122  0.76679842]\n",
            "recall:  [0.8        0.67832168]\n",
            "F1 measure:  [0.7576244  0.71985158]\n",
            "[[236  59]\n",
            " [ 92 194]]\n",
            "Precision binary: 0.767\n",
            "Precision micro: 0.740\n",
            "Precision macro: 0.743\n",
            "Recall binary: 0.678\n",
            "Recall micro: 0.740\n",
            "Recall macro: 0.739\n",
            "F-Measure: 0.720\n",
            "True Positive:  [236 194]\n",
            "False Positive:  [92 59]\n",
            "False Negative [59 92]\n",
            "True negative:  [194, 236]\n",
            "Accuracy:  [0.74010327 0.74010327]\n",
            "precision:  [0.7195122  0.76679842]\n",
            "recall:  [0.8        0.67832168]\n",
            "F1 measure:  [0.7576244  0.71985158]\n",
            "k :  3\n",
            "done scaling\n",
            "train mask processing: \n",
            "test mask processing: \n",
            "val mask processing: \n",
            "graph conv1\n",
            "Epoch 1/300\n",
            "1/1 [==============================] - 0s 251ms/step - loss: 0.3806 - acc: 0.8112 - val_loss: 0.0640 - val_acc: 0.8667\n",
            "Epoch 2/300\n",
            "1/1 [==============================] - 0s 235ms/step - loss: 0.3793 - acc: 0.8189 - val_loss: 0.0638 - val_acc: 0.8700\n",
            "Epoch 3/300\n",
            "1/1 [==============================] - 0s 245ms/step - loss: 0.3870 - acc: 0.7983 - val_loss: 0.0636 - val_acc: 0.8700\n",
            "Epoch 4/300\n",
            "1/1 [==============================] - 0s 239ms/step - loss: 0.3692 - acc: 0.8241 - val_loss: 0.0636 - val_acc: 0.8733\n",
            "Epoch 5/300\n",
            "1/1 [==============================] - 0s 245ms/step - loss: 0.3735 - acc: 0.8198 - val_loss: 0.0637 - val_acc: 0.8700\n",
            "Epoch 6/300\n",
            "1/1 [==============================] - 0s 246ms/step - loss: 0.3694 - acc: 0.8211 - val_loss: 0.0638 - val_acc: 0.8667\n",
            "Epoch 7/300\n",
            "1/1 [==============================] - 0s 242ms/step - loss: 0.3652 - acc: 0.8314 - val_loss: 0.0640 - val_acc: 0.8733\n",
            "Epoch 8/300\n",
            "1/1 [==============================] - 0s 239ms/step - loss: 0.3756 - acc: 0.8065 - val_loss: 0.0642 - val_acc: 0.8700\n",
            "Epoch 9/300\n",
            "1/1 [==============================] - 0s 237ms/step - loss: 0.3617 - acc: 0.8331 - val_loss: 0.0645 - val_acc: 0.8700\n",
            "Epoch 10/300\n",
            "1/1 [==============================] - 0s 272ms/step - loss: 0.3679 - acc: 0.8275 - val_loss: 0.0648 - val_acc: 0.8700\n",
            "Epoch 11/300\n",
            "1/1 [==============================] - 0s 250ms/step - loss: 0.3678 - acc: 0.8219 - val_loss: 0.0652 - val_acc: 0.8733\n",
            "Epoch 12/300\n",
            "1/1 [==============================] - 0s 237ms/step - loss: 0.3642 - acc: 0.8168 - val_loss: 0.0655 - val_acc: 0.8733\n",
            "Epoch 13/300\n",
            "1/1 [==============================] - 0s 258ms/step - loss: 0.3670 - acc: 0.8211 - val_loss: 0.0658 - val_acc: 0.8733\n",
            "Epoch 14/300\n",
            "1/1 [==============================] - 0s 242ms/step - loss: 0.3553 - acc: 0.8340 - val_loss: 0.0659 - val_acc: 0.8733\n",
            "1/1 [==============================] - 0s 1ms/step - loss: 0.0990 - acc: 0.8485\n",
            "Done.\n",
            "Test loss: 0.09896200895309448\n",
            "Test accuracy: 0.848537027835846\n"
          ],
          "name": "stdout"
        },
        {
          "output_type": "stream",
          "text": [
            "/usr/local/lib/python3.6/dist-packages/ipykernel_launcher.py:135: DeprecationWarning: scipy.interp is deprecated and will be removed in SciPy 2.0.0, use numpy.interp instead\n",
            "/usr/local/lib/python3.6/dist-packages/ipykernel_launcher.py:166: DeprecationWarning: scipy.interp is deprecated and will be removed in SciPy 2.0.0, use numpy.interp instead\n"
          ],
          "name": "stderr"
        },
        {
          "output_type": "display_data",
          "data": {
            "image/png": "[encoded data removed]",
            "text/plain": [
              "<Figure size 432x288 with 1 Axes>"
            ]
          },
          "metadata": {
            "tags": [],
            "needs_background": "light"
          }
        },
        {
          "output_type": "display_data",
          "data": {
            "image/png": "[encoded data removed]",
            "text/plain": [
              "<Figure size 432x288 with 1 Axes>"
            ]
          },
          "metadata": {
            "tags": [],
            "needs_background": "light"
          }
        },
        {
          "output_type": "stream",
          "text": [
            "[[231  71]\n",
            " [ 75 204]]\n",
            "True Positive:  [231 204]\n",
            "False Positive:  [75 71]\n",
            "False Negative [71 75]\n",
            "True negative:  [204, 231]\n",
            "Accuracy:  [0.74870912 0.74870912]\n",
            "precision:  [0.75490196 0.74181818]\n",
            "recall:  [0.76490066 0.7311828 ]\n",
            "F1 measure:  [0.75986842 0.73646209]\n",
            "[[231  71]\n",
            " [ 75 204]]\n",
            "Precision binary: 0.742\n",
            "Precision micro: 0.749\n",
            "Precision macro: 0.748\n",
            "Recall binary: 0.731\n",
            "Recall micro: 0.749\n",
            "Recall macro: 0.748\n",
            "F-Measure: 0.736\n",
            "True Positive:  [231 204]\n",
            "False Positive:  [75 71]\n",
            "False Negative [71 75]\n",
            "True negative:  [204, 231]\n",
            "Accuracy:  [0.74870912 0.74870912]\n",
            "precision:  [0.75490196 0.74181818]\n",
            "recall:  [0.76490066 0.7311828 ]\n",
            "F1 measure:  [0.75986842 0.73646209]\n",
            "k :  4\n",
            "done scaling\n",
            "train mask processing: \n",
            "test mask processing: \n",
            "val mask processing: \n",
            "graph conv1\n",
            "Epoch 1/300\n",
            "1/1 [==============================] - 0s 244ms/step - loss: 0.3804 - acc: 0.8108 - val_loss: 0.0599 - val_acc: 0.8733\n",
            "Epoch 2/300\n",
            "1/1 [==============================] - 0s 240ms/step - loss: 0.3825 - acc: 0.8086 - val_loss: 0.0596 - val_acc: 0.8800\n",
            "Epoch 3/300\n",
            "1/1 [==============================] - 0s 260ms/step - loss: 0.3781 - acc: 0.8120 - val_loss: 0.0594 - val_acc: 0.8867\n",
            "Epoch 4/300\n",
            "1/1 [==============================] - 0s 236ms/step - loss: 0.3796 - acc: 0.8090 - val_loss: 0.0593 - val_acc: 0.8833\n",
            "Epoch 5/300\n",
            "1/1 [==============================] - 0s 250ms/step - loss: 0.3767 - acc: 0.8073 - val_loss: 0.0591 - val_acc: 0.8833\n",
            "Epoch 6/300\n",
            "1/1 [==============================] - 0s 239ms/step - loss: 0.3687 - acc: 0.8194 - val_loss: 0.0591 - val_acc: 0.8800\n",
            "Epoch 7/300\n",
            "1/1 [==============================] - 0s 238ms/step - loss: 0.3701 - acc: 0.8163 - val_loss: 0.0591 - val_acc: 0.8767\n",
            "Epoch 8/300\n",
            "1/1 [==============================] - 0s 244ms/step - loss: 0.3767 - acc: 0.8133 - val_loss: 0.0591 - val_acc: 0.8767\n",
            "Epoch 9/300\n",
            "1/1 [==============================] - 0s 245ms/step - loss: 0.3699 - acc: 0.8168 - val_loss: 0.0591 - val_acc: 0.8767\n",
            "Epoch 10/300\n",
            "1/1 [==============================] - 0s 244ms/step - loss: 0.3692 - acc: 0.8155 - val_loss: 0.0592 - val_acc: 0.8767\n",
            "Epoch 11/300\n",
            "1/1 [==============================] - 0s 244ms/step - loss: 0.3758 - acc: 0.8043 - val_loss: 0.0593 - val_acc: 0.8800\n",
            "Epoch 12/300\n",
            "1/1 [==============================] - 0s 250ms/step - loss: 0.3702 - acc: 0.8181 - val_loss: 0.0593 - val_acc: 0.8767\n",
            "Epoch 13/300\n",
            "1/1 [==============================] - 0s 238ms/step - loss: 0.3665 - acc: 0.8163 - val_loss: 0.0594 - val_acc: 0.8767\n",
            "Epoch 14/300\n",
            "1/1 [==============================] - 0s 238ms/step - loss: 0.3670 - acc: 0.8194 - val_loss: 0.0595 - val_acc: 0.8733\n",
            "Epoch 15/300\n",
            "1/1 [==============================] - 0s 247ms/step - loss: 0.3634 - acc: 0.8116 - val_loss: 0.0596 - val_acc: 0.8733\n",
            "Epoch 16/300\n",
            "1/1 [==============================] - 0s 242ms/step - loss: 0.3581 - acc: 0.8241 - val_loss: 0.0597 - val_acc: 0.8733\n",
            "1/1 [==============================] - 0s 1ms/step - loss: 0.0940 - acc: 0.8795\n",
            "Done.\n",
            "Test loss: 0.09401803463697433\n",
            "Test accuracy: 0.8795180916786194\n"
          ],
          "name": "stdout"
        },
        {
          "output_type": "stream",
          "text": [
            "/usr/local/lib/python3.6/dist-packages/ipykernel_launcher.py:135: DeprecationWarning: scipy.interp is deprecated and will be removed in SciPy 2.0.0, use numpy.interp instead\n",
            "/usr/local/lib/python3.6/dist-packages/ipykernel_launcher.py:166: DeprecationWarning: scipy.interp is deprecated and will be removed in SciPy 2.0.0, use numpy.interp instead\n"
          ],
          "name": "stderr"
        },
        {
          "output_type": "display_data",
          "data": {
            "image/png": "[encoded data removed]",
            "text/plain": [
              "<Figure size 432x288 with 1 Axes>"
            ]
          },
          "metadata": {
            "tags": [],
            "needs_background": "light"
          }
        },
        {
          "output_type": "display_data",
          "data": {
            "image/png": "[encoded data removed]",
            "text/plain": [
              "<Figure size 432x288 with 1 Axes>"
            ]
          },
          "metadata": {
            "tags": [],
            "needs_background": "light"
          }
        },
        {
          "output_type": "stream",
          "text": [
            "[[224  58]\n",
            " [ 77 222]]\n",
            "True Positive:  [224 222]\n",
            "False Positive:  [77 58]\n",
            "False Negative [58 77]\n",
            "True negative:  [222, 224]\n",
            "Accuracy:  [0.767642 0.767642]\n",
            "precision:  [0.74418605 0.79285714]\n",
            "recall:  [0.79432624 0.74247492]\n",
            "F1 measure:  [0.76843911 0.76683938]\n",
            "[[224  58]\n",
            " [ 77 222]]\n",
            "Precision binary: 0.793\n",
            "Precision micro: 0.768\n",
            "Precision macro: 0.769\n",
            "Recall binary: 0.742\n",
            "Recall micro: 0.768\n",
            "Recall macro: 0.768\n",
            "F-Measure: 0.767\n",
            "True Positive:  [224 222]\n",
            "False Positive:  [77 58]\n",
            "False Negative [58 77]\n",
            "True negative:  [222, 224]\n",
            "Accuracy:  [0.767642 0.767642]\n",
            "precision:  [0.74418605 0.79285714]\n",
            "recall:  [0.79432624 0.74247492]\n",
            "F1 measure:  [0.76843911 0.76683938]\n"
          ],
          "name": "stdout"
        },
        {
          "output_type": "display_data",
          "data": {
            "image/png": "[encoded data removed]",
            "text/plain": [
              "<Figure size 432x288 with 1 Axes>"
            ]
          },
          "metadata": {
            "tags": [],
            "needs_background": "light"
          }
        }
      ]
    },
    {
      "cell_type": "code",
      "metadata": {
        "id": "fsF-XLhAq4aW",
        "colab_type": "code",
        "colab": {
          "base_uri": "https://localhost:8080/",
          "height": 34
        },
        "outputId": "4d0f4782-10c8-489a-9aa6-d38aa5e000fd"
      },
      "source": [
        "y.shape"
      ],
      "execution_count": 39,
      "outputs": [
        {
          "output_type": "execute_result",
          "data": {
            "text/plain": [
              "(2906, 2)"
            ]
          },
          "metadata": {
            "tags": []
          },
          "execution_count": 39
        }
      ]
    },
    {
      "cell_type": "code",
      "metadata": {
        "id": "ZTafXCD0C-qa",
        "colab_type": "code",
        "colab": {
          "base_uri": "https://localhost:8080/",
          "height": 151
        },
        "outputId": "e4eff0f7-1f72-420f-f72f-877654da0829"
      },
      "source": [
        "print(\"precision macro: \", np.array(pmacro).mean())\n",
        "print(\"precision micro: \", np.array(pmicro).mean())\n",
        "print(\"precision binary macro: \", np.array(pbinary).mean())\n",
        "print(\"accuracy: \", np.array(a).mean())\n",
        "print(\"recall macro: \", np.array(rmacro).mean())\n",
        "print(\"recall micro: \", np.array(rmicro).mean())\n",
        "print(\"recall binary macro: \", np.array(rbi).mean())\n",
        "print(\"f1: \", np.array(f).mean())"
      ],
      "execution_count": 67,
      "outputs": [
        {
          "output_type": "stream",
          "text": [
            "precision macro:  0.7144808537138283\n",
            "precision micro:  0.7126928923351727\n",
            "precision binary macro:  0.7340817923359276\n",
            "accuracy:  0.7126928923351727\n",
            "recall macro:  0.7129699050947191\n",
            "recall micro:  0.7126928923351727\n",
            "recall binary macro:  0.67705195203809\n",
            "f1:  0.7038070623716249\n"
          ],
          "name": "stdout"
        }
      ]
    },
    {
      "cell_type": "code",
      "metadata": {
        "id": "Fo4Lz6x395A3",
        "colab_type": "code",
        "colab": {}
      },
      "source": [
        "''' viz = metrics.plot_roc_curve(model, X[test], predict_class,\n",
        "                             name='ROC fold {}'.format(i),\n",
        "                             alpha=0.3, lw=1, ax=ax)\n",
        "    interp_tpr = interp(mean_fpr, viz.fpr, viz.tpr)\n",
        "    interp_tpr[0] = 0.0\n",
        "    tprs.append(interp_tpr)\n",
        "    aucs.append(viz.roc_auc)\n",
        "    '''\n",
        "    '''ax.plot([0, 1], [0, 1], linestyle='--', lw=2, color='r',\n",
        "            label='Chance', alpha=.8)\n",
        "\n",
        "mean_tpr = np.mean(tprs, axis=0)\n",
        "mean_tpr[-1] = 1.0\n",
        "mean_auc = auc(mean_fpr, mean_tpr)\n",
        "std_auc = np.std(aucs)\n",
        "ax.plot(mean_fpr, mean_tpr, color='b',\n",
        "        label=r'Mean ROC (AUC = %0.2f $\\pm$ %0.2f)' % (mean_auc, std_auc),\n",
        "        lw=2, alpha=.8)\n",
        "\n",
        "std_tpr = np.std(tprs, axis=0)\n",
        "tprs_upper = np.minimum(mean_tpr + std_tpr, 1)\n",
        "tprs_lower = np.maximum(mean_tpr - std_tpr, 0)\n",
        "ax.fill_between(mean_fpr, tprs_lower, tprs_upper, color='grey', alpha=.2,\n",
        "                label=r'$\\pm$ 1 std. dev.')\n",
        "\n",
        "ax.set(xlim=[-0.05, 1.05], ylim=[-0.05, 1.05],\n",
        "       title=\"Receiver operating characteristic example\")\n",
        "ax.legend(loc=\"lower right\")\n",
        "plt.show()\n"
      ],
      "execution_count": 0,
      "outputs": []
    },
    {
      "cell_type": "code",
      "metadata": {
        "id": "MsgPKlfWuJQN",
        "colab_type": "code",
        "colab": {}
      },
      "source": [
        "import pickle\n",
        "with open('/content/drive/My Drive/tp_spektral_german', 'wb') as filehandle:\n",
        "    # store the data as binary data stream\n",
        "    pickle.dump(tp, filehandle)"
      ],
      "execution_count": 0,
      "outputs": []
    },
    {
      "cell_type": "code",
      "metadata": {
        "id": "vjLk5kx-938B",
        "colab_type": "code",
        "colab": {}
      },
      "source": [
        ""
      ],
      "execution_count": 0,
      "outputs": []
    },
    {
      "cell_type": "code",
      "metadata": {
        "id": "jFAE_kwTKSbf",
        "colab_type": "code",
        "colab": {}
      },
      "source": [
        "with open('/content/drive/My Drive/tn_spektral_german', 'wb') as filehandle:\n",
        "    # store the data as binary data stream\n",
        "    pickle.dump(tn, filehandle)"
      ],
      "execution_count": 0,
      "outputs": []
    },
    {
      "cell_type": "code",
      "metadata": {
        "id": "Bve-XrChKJDs",
        "colab_type": "code",
        "colab": {}
      },
      "source": [
        "\n",
        "with open('/content/drive/My Drive/fp__spektral_german', 'wb') as filehandle:\n",
        "    # store the data as binary data stream\n",
        "    pickle.dump(fp, filehandle)"
      ],
      "execution_count": 0,
      "outputs": []
    },
    {
      "cell_type": "code",
      "metadata": {
        "id": "Dpeyfn_aJ7vu",
        "colab_type": "code",
        "colab": {}
      },
      "source": [
        "with open('/content/drive/My Drive/fn__spektral_german', 'wb') as filehandle:\n",
        "    # store the data as binary data stream\n",
        "    pickle.dump(fn, filehandle)"
      ],
      "execution_count": 0,
      "outputs": []
    },
    {
      "cell_type": "code",
      "metadata": {
        "id": "JysfYQzizDL9",
        "colab_type": "code",
        "colab": {}
      },
      "source": [
        "with open('/content/drive/My Drive/precision__spektral_german', 'wb') as filehandle:\n",
        "    # store the data as binary data stream\n",
        "    pickle.dump(metrics_precision, filehandle)"
      ],
      "execution_count": 0,
      "outputs": []
    },
    {
      "cell_type": "code",
      "metadata": {
        "id": "PlJer7t-JoyB",
        "colab_type": "code",
        "colab": {}
      },
      "source": [
        "\n",
        "with open('/content/drive/My Drive/accuracy__spektral_german', 'wb') as filehandle:\n",
        "    # store the data as binary data stream\n",
        "    pickle.dump(metrics_acc, filehandle)"
      ],
      "execution_count": 0,
      "outputs": []
    },
    {
      "cell_type": "code",
      "metadata": {
        "id": "in7_dwIhJCp0",
        "colab_type": "code",
        "colab": {}
      },
      "source": [
        "with open('/content/drive/My Drive/F1_measure__spektral_german', 'wb') as filehandle:\n",
        "    # store the data as binary data stream\n",
        "    pickle.dump(metrics_f1, filehandle)"
      ],
      "execution_count": 0,
      "outputs": []
    },
    {
      "cell_type": "code",
      "metadata": {
        "id": "jw07iYlQJZbR",
        "colab_type": "code",
        "colab": {}
      },
      "source": [
        "with open('/content/drive/My Drive/recall__spektral', 'wb') as filehandle:\n",
        "    # store the data as binary data stream\n",
        "    pickle.dump(metrics_recall, filehandle)"
      ],
      "execution_count": 0,
      "outputs": []
    },
    {
      "cell_type": "code",
      "metadata": {
        "id": "Zk8cDZObuTlQ",
        "colab_type": "code",
        "colab": {}
      },
      "source": [
        "with open('tp', 'rb') as filehandle:\n",
        "    # read the data as binary data stream\n",
        "    placesList = pickle.load(filehandle)"
      ],
      "execution_count": 0,
      "outputs": []
    },
    {
      "cell_type": "code",
      "metadata": {
        "id": "BqjqQQ-lufi0",
        "colab_type": "code",
        "outputId": "a89cb031-31df-486b-c8fc-85e6125ea7fa",
        "colab": {
          "base_uri": "https://localhost:8080/",
          "height": 101
        }
      },
      "source": [
        "tp"
      ],
      "execution_count": 0,
      "outputs": [
        {
          "output_type": "execute_result",
          "data": {
            "text/plain": [
              "[array([   0, 2775]),\n",
              " array([  23, 2737]),\n",
              " array([ 452, 1712]),\n",
              " array([   0, 2776]),\n",
              " array([   0, 2776])]"
            ]
          },
          "metadata": {
            "tags": []
          },
          "execution_count": 46
        }
      ]
    },
    {
      "cell_type": "code",
      "metadata": {
        "id": "HvtDoqFobTtc",
        "colab_type": "code",
        "colab": {}
      },
      "source": [
        "#micro-average classwise\n",
        "micro_precision_group_0 = (tp[0][0] + tp[1][0] + tp[2][0] + tp[3][0] + tp[4][0])/(tp[0][0] + tp[1][0] + tp[2][0] + tp[3][0] + \n",
        "                           tp[4][0] + fp[0][0] + fp[1][0] + fp[2][0] + fp[3][0] + fp[4][0])\n",
        "\n",
        "micro_precision_group_1 = (tp[0][1] + tp[1][1] + tp[2][1] + tp[3][1] + tp[4][1])/(tp[0][1] + tp[1][1] + tp[2][1] + tp[3][1] + \n",
        "                           tp[4][1] + fp[0][1] + fp[1][1] + fp[2][1] + fp[3][1] + fp[4][1])\n",
        "\n",
        "#micro_precision_group_2 = (tp[0][2] + tp[1][2] + tp[2][2] + tp[3][2] + tp[4][2])/(tp[0][2] + tp[1][2] + tp[2][2] + tp[3][2] + \n",
        "#                           tp[4][2] + fp[0][2] + fp[1][2] + fp[2][2] + fp[3][2] + fp[4][2])\n",
        "\n",
        "#micro_precision_group_3 = (tp[0][3] + tp[1][3] + tp[2][3] + tp[3][3] + tp[4][3])/(tp[0][3] + tp[1][3] + tp[2][3] + tp[3][3] + \n",
        "#                           tp[4][3] + fp[0][3] + fp[1][3] + fp[2][3] + fp[3][3] + fp[4][3])\n",
        "\n",
        "micro_recall_group_0 = (tp[0][0] + tp[1][0] + tp[2][0] + tp[3][0] + tp[4][0])/(tp[0][0] + tp[1][0] \n",
        "                        + tp[2][0] + tp[3][0] + tp[4][0] + fn[0][0] + fn[1][0] + fn[2][0] + fn[3][0] + fn[4][0])\n",
        "\n",
        "micro_recall_group_1 = (tp[0][1] + tp[1][1] + tp[2][1] + tp[3][1] + tp[4][1])/(tp[0][1] + tp[1][1] \n",
        "                        + tp[2][1] + tp[3][1] + tp[4][1] + fn[0][1] + fn[1][1] + fn[2][1] + fn[3][1] + fn[4][1])\n",
        "\n",
        "#micro_recall_group_2 = (tp[0][2] + tp[1][2] + tp[2][2] + tp[3][2] + tp[4][2])/(tp[0][2] + tp[1][2] \n",
        "#                        + tp[2][2] + tp[3][2] + tp[4][2] + fn[0][2] + fn[1][2] + fn[2][2] + fn[3][2] + fn[4][2])\n",
        "\n",
        "#micro_recall_group_3 = (tp[0][3] + tp[1][3] + tp[2][3] + tp[3][3] + tp[4][3])/(tp[0][3] + tp[1][3] \n",
        "#                        + tp[2][3] + tp[3][3] + tp[4][3] + fn[0][3] + fn[1][3] + fn[2][3] + fn[3][3] + fn[4][3])"
      ],
      "execution_count": 0,
      "outputs": []
    },
    {
      "cell_type": "code",
      "metadata": {
        "id": "oyjn-0SQaXMM",
        "colab_type": "code",
        "outputId": "e2d91452-84b5-48c3-8c1c-164d25d1d8c0",
        "colab": {
          "base_uri": "https://localhost:8080/",
          "height": 50
        }
      },
      "source": [
        "print(micro_recall_group_0)\n",
        "print(micro_recall_group_1)\n",
        "#print(micro_recall_group_2)\n",
        "#print(micro_recall_group_3)\n"
      ],
      "execution_count": 0,
      "outputs": [
        {
          "output_type": "stream",
          "text": [
            "0.7427184466019418\n",
            "0.6721311475409836\n"
          ],
          "name": "stdout"
        }
      ]
    },
    {
      "cell_type": "code",
      "metadata": {
        "id": "aaQRSW4OsCJB",
        "colab_type": "code",
        "outputId": "75a2d703-3cae-42b7-a028-20b5ffb72116",
        "colab": {
          "base_uri": "https://localhost:8080/",
          "height": 50
        }
      },
      "source": [
        "print(micro_precision_group_0)\n",
        "print(micro_precision_group_1)\n",
        "#print(micro_precision_group_2)\n",
        "#print(micro_precision_group_3)"
      ],
      "execution_count": 0,
      "outputs": [
        {
          "output_type": "stream",
          "text": [
            "0.690522243713733\n",
            "0.72619926199262\n"
          ],
          "name": "stdout"
        }
      ]
    },
    {
      "cell_type": "code",
      "metadata": {
        "colab_type": "code",
        "id": "_Z8XS1PHxOjo",
        "colab": {}
      },
      "source": [
        "micro_precision = []\n",
        "micro_precision.append(micro_precision_group_0)\n",
        "micro_precision.append(micro_precision_group_1)\n",
        "#micro_precision.append(micro_precision_group_2)\n",
        "#micro_precision.append(micro_precision_group_3)\n",
        "\n",
        "micro_recall = []\n",
        "micro_recall.append(micro_recall_group_0)\n",
        "micro_recall.append(micro_recall_group_1)\n",
        "#micro_recall.append(micro_recall_group_2)\n",
        "#micro_recall.append(micro_recall_group_3)\n",
        "\n"
      ],
      "execution_count": 0,
      "outputs": []
    },
    {
      "cell_type": "code",
      "metadata": {
        "id": "1KASKQccacPJ",
        "colab_type": "code",
        "colab": {}
      },
      "source": [
        " mirco_f1_group = []\n",
        "\n",
        "mirco_f1_group.append(2 * ((micro_precision_group_0 * micro_recall_group_0)/(micro_precision_group_0 \n",
        "                                                                                 + micro_recall_group_0)))\n",
        "mirco_f1_group.append(2 * ((micro_precision_group_1 * micro_recall_group_1)/(micro_precision_group_1 \n",
        "                                                                                 + micro_recall_group_1)))\n",
        "#mirco_f1_group.append(2 * ((micro_precision_group_2 * micro_recall_group_2)/(micro_precision_group_2 \n",
        "                                          #                                       + micro_recall_group_2)))\n",
        "#mirco_f1_group.append(2 * ((micro_precision_group_3 * micro_recall_group_3)/(micro_precision_group_3 \n",
        "                                           #                                      + micro_recall_group_3)))\n",
        "\n",
        "#f1_score = 2 * ((micro_precision * micro_recall)/(micro_precision + micro_recall))"
      ],
      "execution_count": 0,
      "outputs": []
    },
    {
      "cell_type": "code",
      "metadata": {
        "id": "q_4GI5vwsf6C",
        "colab_type": "code",
        "outputId": "cd1bbb47-3280-487f-9d12-0195349b0448",
        "colab": {
          "base_uri": "https://localhost:8080/",
          "height": 67
        }
      },
      "source": [
        "print(micro_precision)\n",
        "print(micro_recall)\n",
        "print(mirco_f1_group)"
      ],
      "execution_count": 0,
      "outputs": [
        {
          "output_type": "stream",
          "text": [
            "[0.690522243713733, 0.72619926199262]\n",
            "[0.7427184466019418, 0.6721311475409836]\n",
            "[0.7156698964249915, 0.6981199006739979]\n"
          ],
          "name": "stdout"
        }
      ]
    },
    {
      "cell_type": "code",
      "metadata": {
        "id": "zFw96xAksmvg",
        "colab_type": "code",
        "colab": {}
      },
      "source": [
        "# mean accuracy classwise\n",
        "mean_accuracy = []\n",
        "for i in range(0, classes):\n",
        "    a = []\n",
        "    for j in range(0, 5): #row\n",
        "        a.append(metrics_acc[j][i])\n",
        "        n = np.array(a)\n",
        "    mean_accuracy.append(n.mean())"
      ],
      "execution_count": 0,
      "outputs": []
    },
    {
      "cell_type": "code",
      "metadata": {
        "id": "oEJ6K6wlsphl",
        "colab_type": "code",
        "outputId": "6696db30-4f04-4c68-81b6-f9d7eee1fd1f",
        "colab": {
          "base_uri": "https://localhost:8080/",
          "height": 34
        }
      },
      "source": [
        "mean_accuracy"
      ],
      "execution_count": 0,
      "outputs": [
        {
          "output_type": "execute_result",
          "data": {
            "text/plain": [
              "[0.7071780494585116, 0.7071780494585116]"
            ]
          },
          "metadata": {
            "tags": []
          },
          "execution_count": 45
        }
      ]
    },
    {
      "cell_type": "code",
      "metadata": {
        "id": "R4gR8tkGsat1",
        "colab_type": "code",
        "outputId": "1c6643d2-1f73-4c3a-b3c9-99f93107bcfa",
        "colab": {
          "base_uri": "https://localhost:8080/",
          "height": 229
        }
      },
      "source": [
        "#macro-average classwise\n",
        "macro_precision_group_0 = (metrics_precision[0][0] + metrics_precision[1][0] + metrics_precision[2][0] + \n",
        "                           metrics_precision[3][0] + metrics_precision[4][0])/5\n",
        "macro_precision_group_1 = (metrics_precision[0][1] + metrics_precision[1][1] + metrics_precision[2][1] + \n",
        "                           metrics_precision[3][1] + metrics_precision[4][1])/5\n",
        "macro_precision_group_2 = (metrics_precision[0][2] + metrics_precision[1][2] + metrics_precision[2][2] + \n",
        "                           metrics_precision[3][2] + metrics_precision[4][2])/5\n",
        "macro_precision_group_3 = (metrics_precision[0][3] + metrics_precision[1][3] + metrics_precision[2][3] + \n",
        "                           metrics_precision[3][3] + metrics_precision[4][3])/5\n",
        "\n",
        "macro_recall_group_0 = (metrics_recall[0][0] + metrics_recall[1][0] + metrics_recall[2][0] + \n",
        "                           metrics_recall[3][0] + metrics_recall[4][0])/5\n",
        "macro_recall_group_1 = (metrics_recall[0][1] + metrics_recall[1][1] + metrics_recall[2][1] + \n",
        "                           metrics_recall[3][1] + metrics_recall[4][1])/5\n",
        "macro_recall_group_2 = (metrics_recall[0][2] + metrics_recall[1][2] + metrics_recall[2][2] + \n",
        "                           metrics_recall[3][2] + metrics_recall[4][2])/5\n",
        "macro_recall_group_3 = (metrics_recall[0][3] + metrics_recall[1][3] + metrics_recall[2][3] + \n",
        "                           metrics_recall[3][3] + metrics_recall[4][3])/5\n",
        "\n",
        "macro_f1_group_0 = 2 * ((macro_precision_group_0 * macro_recall_group_0)/(macro_precision_group_0 + macro_recall_group_0))\n",
        "\n",
        "macro_f1_group_1 = 2 * ((macro_precision_group_1 * macro_recall_group_1)/(macro_precision_group_1 + macro_recall_group_1))\n",
        "\n",
        "macro_f1_group_2 = 2 * ((macro_precision_group_2 * macro_recall_group_2)/(macro_precision_group_2 + macro_recall_group_2))\n",
        "\n",
        "macro_f1_group_3 = 2 * ((macro_precision_group_3 * macro_recall_group_3)/(macro_precision_group_3 + macro_recall_group_3))"
      ],
      "execution_count": 0,
      "outputs": [
        {
          "output_type": "error",
          "ename": "IndexError",
          "evalue": "ignored",
          "traceback": [
            "\u001b[0;31m---------------------------------------------------------------------------\u001b[0m",
            "\u001b[0;31mIndexError\u001b[0m                                Traceback (most recent call last)",
            "\u001b[0;32m<ipython-input-39-e36803e66a03>\u001b[0m in \u001b[0;36m<module>\u001b[0;34m()\u001b[0m\n\u001b[1;32m      4\u001b[0m                            metrics_precision[3][1] + metrics_precision[4][1])/5\n\u001b[1;32m      5\u001b[0m macro_precision_group_2 = (metrics_precision[0][2] + metrics_precision[1][2] + metrics_precision[2][2] + \n\u001b[0;32m----> 6\u001b[0;31m                            metrics_precision[3][2] + metrics_precision[4][2])/5\n\u001b[0m\u001b[1;32m      7\u001b[0m macro_precision_group_3 = (metrics_precision[0][3] + metrics_precision[1][3] + metrics_precision[2][3] + \n\u001b[1;32m      8\u001b[0m                            metrics_precision[3][3] + metrics_precision[4][3])/5\n",
            "\u001b[0;31mIndexError\u001b[0m: index 2 is out of bounds for axis 0 with size 2"
          ]
        }
      ]
    },
    {
      "cell_type": "code",
      "metadata": {
        "id": "SsaKJZPrsj9V",
        "colab_type": "code",
        "outputId": "393ee7ba-94d9-4c7a-8f2e-bcf8495bbc60",
        "colab": {
          "base_uri": "https://localhost:8080/",
          "height": 67
        }
      },
      "source": [
        "macro_precision = []\n",
        "macro_precision.append(macro_precision_group_0)\n",
        "macro_precision.append(macro_precision_group_1)\n",
        "macro_precision.append(macro_precision_group_2)\n",
        "macro_precision.append(macro_precision_group_3)\n",
        "\n",
        "macro_recall = []\n",
        "macro_recall.append(macro_recall_group_0)\n",
        "macro_recall.append(macro_recall_group_0)\n",
        "macro_recall.append(macro_recall_group_0)\n",
        "macro_recall.append(macro_recall_group_0)\n",
        "\n",
        "marco_f1_group = []\n",
        "\n",
        "marco_f1_group.append(2 * ((macro_precision_group_0 * macro_recall_group_0)/(macro_precision_group_0 \n",
        "                                                                                 + macro_recall_group_0)))\n",
        "marco_f1_group.append(2 * ((macro_precision_group_1 * macro_recall_group_1)/(macro_precision_group_1 \n",
        "                                                                                 + macro_recall_group_1)))\n",
        "marco_f1_group.append(2 * ((macro_precision_group_2 * macro_recall_group_2)/(macro_precision_group_2 \n",
        "                                                                                 + macro_recall_group_2)))\n",
        "marco_f1_group.append(2 * ((macro_precision_group_3 * macro_recall_group_3)/(macro_precision_group_3 \n",
        "                                                                                 + macro_recall_group_3)))\n",
        "\n",
        "#f1_score = 2 * ((micro_precision * micro_recall)/(micro_precision + micro_recall))\n",
        "\n",
        "print(macro_precision)\n",
        "print(macro_recall)\n",
        "print(marco_f1_group)"
      ],
      "execution_count": 0,
      "outputs": [
        {
          "output_type": "stream",
          "text": [
            "[0.3523932173849107, nan, 0.05173160173160174, 0.7304954151861225]\n",
            "[0.27968968065019295, 0.27968968065019295, 0.27968968065019295, 0.27968968065019295]\n",
            "[0.31186019030119677, nan, 0.02277112164447515, 0.7714543547210584]\n"
          ],
          "name": "stdout"
        }
      ]
    },
    {
      "cell_type": "code",
      "metadata": {
        "id": "aKQhMRKFsrIn",
        "colab_type": "code",
        "outputId": "3f96bceb-d75c-41b0-e4a1-a45730cdce2f",
        "colab": {
          "base_uri": "https://localhost:8080/",
          "height": 101
        }
      },
      "source": [
        "metrics_acc # verify"
      ],
      "execution_count": 0,
      "outputs": [
        {
          "output_type": "execute_result",
          "data": {
            "text/plain": [
              "[array([0.69759358, 0.99171123, 0.95695187, 0.66497326]),\n",
              " array([0.68957219, 0.99278075, 0.95748663, 0.65802139]),\n",
              " array([0.6828877 , 0.98930481, 0.94786096, 0.65      ]),\n",
              " array([0.70454545, 0.99224599, 0.95561497, 0.6684492 ]),\n",
              " array([0.67967914, 0.98796791, 0.95614973, 0.64893048])]"
            ]
          },
          "metadata": {
            "tags": []
          },
          "execution_count": 84
        }
      ]
    },
    {
      "cell_type": "code",
      "metadata": {
        "id": "Cem1r1Vcssu1",
        "colab_type": "code",
        "colab": {}
      },
      "source": [
        ""
      ],
      "execution_count": 0,
      "outputs": []
    }
  ]
}