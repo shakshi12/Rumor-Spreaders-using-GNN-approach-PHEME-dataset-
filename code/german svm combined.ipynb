{
 "cells": [
  {
   "cell_type": "code",
   "execution_count": null,
   "metadata": {
    "colab": {
     "base_uri": "https://localhost:8080/",
     "height": 104
    },
    "colab_type": "code",
    "id": "CPJDJJOrXccJ",
    "outputId": "442e6528-79b2-4388-9727-0f0b9eac4b48"
   },
   "outputs": [],
   "source": [
    "import numpy as np\n",
    "import pandas as pd\n",
    "# to display full text\n",
    "pd.set_option('display.max_colwidth', -1)\n",
    "import seaborn as sns"
   ]
  },
  {
   "cell_type": "code",
   "execution_count": null,
   "metadata": {
    "colab": {
     "base_uri": "https://localhost:8080/",
     "height": 121
    },
    "colab_type": "code",
    "id": "yefhUm-XXkv-",
    "outputId": "145bb083-7a06-4dda-db07-f39de0c1db87"
   },
   "outputs": [],
   "source": [
    "from google.colab import drive\n",
    "drive.mount('/content/drive')"
   ]
  },
  {
   "cell_type": "code",
   "execution_count": null,
   "metadata": {
    "colab": {
     "base_uri": "https://localhost:8080/",
     "height": 34
    },
    "colab_type": "code",
    "id": "yN5gSxmsX6D0",
    "outputId": "b7b3e3a7-859f-4316-9ebc-a2740ff69c32"
   },
   "outputs": [],
   "source": [
    "cd drive"
   ]
  },
  {
   "cell_type": "code",
   "execution_count": null,
   "metadata": {
    "colab": {
     "base_uri": "https://localhost:8080/",
     "height": 34
    },
    "colab_type": "code",
    "id": "AmPCs3inYByg",
    "outputId": "733472fb-df51-4634-e168-7647b70573c4"
   },
   "outputs": [],
   "source": [
    "pwd"
   ]
  },
  {
   "cell_type": "code",
   "execution_count": null,
   "metadata": {
    "colab": {},
    "colab_type": "code",
    "id": "uSWy4Yx5XccO"
   },
   "outputs": [],
   "source": [
    "df = pd.read_csv('My Drive/Features_for_gcn_after_removing_duplicates_german.csv')"
   ]
  },
  {
   "cell_type": "markdown",
   "metadata": {
    "colab_type": "text",
    "id": "6RSq6yKlXccV"
   },
   "source": [
    "### label.1 is target variable"
   ]
  },
  {
   "cell_type": "code",
   "execution_count": null,
   "metadata": {
    "colab": {},
    "colab_type": "code",
    "id": "j-ybywlGXccW"
   },
   "outputs": [],
   "source": [
    "df.drop('Unnamed: 0', axis = 1, inplace = True)"
   ]
  },
  {
   "cell_type": "code",
   "execution_count": null,
   "metadata": {
    "colab": {
     "base_uri": "https://localhost:8080/",
     "height": 244
    },
    "colab_type": "code",
    "id": "7ggQ-ZxDXccZ",
    "outputId": "56a5f79c-08da-4a41-af21-96e48b60345c"
   },
   "outputs": [],
   "source": [
    "df.head()"
   ]
  },
  {
   "cell_type": "code",
   "execution_count": null,
   "metadata": {
    "colab": {},
    "colab_type": "code",
    "id": "wXCgB8ncXccd",
    "outputId": "7d46162b-93df-4f0c-f5e4-270cd902ce52"
   },
   "outputs": [],
   "source": [
    "r = df['zelf'].to_numpy().nonzero()\n",
    "len(r[0])"
   ]
  },
  {
   "cell_type": "code",
   "execution_count": null,
   "metadata": {
    "colab": {},
    "colab_type": "code",
    "id": "M3GAn1ZcXcci",
    "outputId": "b43bdb0a-5b5b-4e59-8dc1-d0198d80a58f"
   },
   "outputs": [],
   "source": [
    "#removing <=4 non zero columns\n",
    "l = list(df.columns)\n",
    "for i in range(0, len(l)):\n",
    "    print(i)\n",
    "    r = df[l[i]].to_numpy().nonzero()\n",
    "    if (len(r[0]) <= 4 ):\n",
    "        print('dropping')\n",
    "        df.drop(l[i], axis = 1, inplace = True)"
   ]
  },
  {
   "cell_type": "code",
   "execution_count": null,
   "metadata": {
    "colab": {},
    "colab_type": "code",
    "id": "tzt-Z5PyXccm",
    "outputId": "def01df7-0b71-4112-bdbc-485134341a12"
   },
   "outputs": [],
   "source": [
    "df.shape"
   ]
  },
  {
   "cell_type": "code",
   "execution_count": null,
   "metadata": {
    "colab": {},
    "colab_type": "code",
    "id": "yNFPblY4Xccs",
    "outputId": "8abab676-6466-400b-eb4e-8a4898a26f22"
   },
   "outputs": [],
   "source": [
    "df['label.1'].nunique()"
   ]
  },
  {
   "cell_type": "code",
   "execution_count": null,
   "metadata": {
    "colab": {},
    "colab_type": "code",
    "id": "bolC65s9Xccv",
    "outputId": "a3862cba-88f7-41ae-b610-7c8e34be2d21"
   },
   "outputs": [],
   "source": [
    "df.head()"
   ]
  },
  {
   "cell_type": "markdown",
   "metadata": {
    "colab_type": "text",
    "id": "axEp-2yJXccy"
   },
   "source": [
    "## not to be executed"
   ]
  },
  {
   "cell_type": "markdown",
   "metadata": {
    "colab_type": "text",
    "id": "oWXWbKGrXccz"
   },
   "source": [
    "df.to_csv('removed_unwanted_features.csv')"
   ]
  },
  {
   "cell_type": "code",
   "execution_count": null,
   "metadata": {
    "colab": {},
    "colab_type": "code",
    "id": "iAspWCrFXcc0"
   },
   "outputs": [],
   "source": [
    "#df = pd.read_csv('removed_unwanted_features.csv')\n",
    "df = pd.read_csv('Features_for_gcn_after_removing_duplicates_german.csv')"
   ]
  },
  {
   "cell_type": "code",
   "execution_count": null,
   "metadata": {
    "colab": {
     "base_uri": "https://localhost:8080/",
     "height": 303
    },
    "colab_type": "code",
    "id": "MD6yQjHDXcc3",
    "outputId": "7a2d41ee-a5c3-4a89-e7a3-a5f742ea0c41"
   },
   "outputs": [],
   "source": [
    "df.drop('Unnamed: 0', axis = 1, inplace = True)"
   ]
  },
  {
   "cell_type": "code",
   "execution_count": null,
   "metadata": {
    "colab": {},
    "colab_type": "code",
    "id": "VZgFIr4HXcc8",
    "outputId": "cf88972b-7c7e-4f73-d407-35fba443c4b3"
   },
   "outputs": [],
   "source": [
    "df.head()"
   ]
  },
  {
   "cell_type": "code",
   "execution_count": null,
   "metadata": {
    "colab": {
     "base_uri": "https://localhost:8080/",
     "height": 34
    },
    "colab_type": "code",
    "id": "OkuKxDpaXcdA",
    "outputId": "c01e6b0d-0abb-4021-9274-57ab53771ff8"
   },
   "outputs": [],
   "source": [
    "df.shape"
   ]
  },
  {
   "cell_type": "code",
   "execution_count": null,
   "metadata": {
    "colab": {
     "base_uri": "https://localhost:8080/",
     "height": 34
    },
    "colab_type": "code",
    "id": "rUt3a0OBXcdC",
    "outputId": "88549e0e-c911-42d8-f52e-17b4aec436cd"
   },
   "outputs": [],
   "source": [
    "df.loc[207, 'user_id']"
   ]
  },
  {
   "cell_type": "code",
   "execution_count": null,
   "metadata": {
    "colab": {},
    "colab_type": "code",
    "id": "VZF_qh8xXcdF"
   },
   "outputs": [],
   "source": [
    "df.drop(207, axis = 0, inplace = True)"
   ]
  },
  {
   "cell_type": "code",
   "execution_count": null,
   "metadata": {
    "colab": {
     "base_uri": "https://localhost:8080/",
     "height": 34
    },
    "colab_type": "code",
    "id": "p1P-JnmUXcdI",
    "outputId": "dfd53d15-e7c1-4c98-e5df-4e4fa3e990af"
   },
   "outputs": [],
   "source": [
    "df.shape"
   ]
  },
  {
   "cell_type": "code",
   "execution_count": null,
   "metadata": {
    "colab": {
     "base_uri": "https://localhost:8080/",
     "height": 34
    },
    "colab_type": "code",
    "id": "VGqRffW0XcdL",
    "outputId": "8449af23-76f6-4872-95a7-c4b95d1c40b8"
   },
   "outputs": [],
   "source": [
    "df['target_variable'].unique()"
   ]
  },
  {
   "cell_type": "markdown",
   "metadata": {
    "colab_type": "text",
    "id": "cwFU9OEyXcdP"
   },
   "source": [
    "df.to_csv('Features_for_SVM_and_LSTM.csv')"
   ]
  },
  {
   "cell_type": "code",
   "execution_count": null,
   "metadata": {
    "colab": {
     "base_uri": "https://localhost:8080/",
     "height": 50
    },
    "colab_type": "code",
    "id": "DvF-aPkaXcdP",
    "outputId": "7774a0b0-2cb3-48e6-c267-0c842d772053"
   },
   "outputs": [],
   "source": [
    "print(\"Class 0 percentage: \", round((sum(df['target_variable'] == 0))/len(df), 2))\n",
    "print(\"Class 1 percentage: \", round((sum(df['target_variable'] == 1))/len(df), 2))"
   ]
  },
  {
   "cell_type": "code",
   "execution_count": null,
   "metadata": {
    "colab": {},
    "colab_type": "code",
    "id": "fiBsuJCzXcdS"
   },
   "outputs": [],
   "source": [
    "X = df.iloc[:, :-1].values #Take all the columns except last one\n",
    "y = df.iloc[:, -1].values #Take the last column as the result"
   ]
  },
  {
   "cell_type": "code",
   "execution_count": null,
   "metadata": {
    "colab": {},
    "colab_type": "code",
    "id": "WNaLPAYJXcdX"
   },
   "outputs": [],
   "source": [
    "# cross validation\n",
    "from sklearn.model_selection import cross_val_score\n",
    "#accuracies = cross_val_score(estimator=regressor, X=X, y=y, cv=10)\n",
    "#accuracies.mean()"
   ]
  },
  {
   "cell_type": "code",
   "execution_count": null,
   "metadata": {
    "colab": {
     "base_uri": "https://localhost:8080/",
     "height": 34
    },
    "colab_type": "code",
    "id": "SZQekUyNXcdZ",
    "outputId": "a2b465bc-771d-4494-dd54-cad4f1f137fe"
   },
   "outputs": [],
   "source": [
    "type(X)"
   ]
  },
  {
   "cell_type": "markdown",
   "metadata": {
    "colab_type": "text",
    "id": "PQUaN8bjXcdc"
   },
   "source": [
    "'''# Taking care of missing data\n",
    "from sklearn.impute import SimpleImputer\n",
    "\n",
    "imputer = SimpleImputer(missing_values=np.nan, strategy='mean')\n",
    "imputer = imputer.fit(X.iloc[:, 1:])\n",
    "X.iloc[:, 1:] = imputer.transform(X.iloc[:, 1:])'''"
   ]
  },
  {
   "cell_type": "markdown",
   "metadata": {
    "colab_type": "text",
    "id": "IwqBsOE-Xcdc"
   },
   "source": [
    "## Encoding categorical data\n",
    "## Encoding the Independent Variable\n",
    "from sklearn.preprocessing import LabelEncoder, OneHotEncoder\n",
    "labelencoder_X = LabelEncoder()\n",
    "X.iloc[:, 3] = labelencoder_X.fit_transform(X.iloc[:, 3])\n",
    "\n",
    "#Make dummy variables\n",
    "onehotencoder = OneHotEncoder(categorical_features = [3])\n",
    "X = onehotencoder.fit_transform(X).toarray()\n",
    "\n",
    "#Avoiding the Dummy Variable Trap\n",
    "X = X[:, 1:]\n",
    "\n",
    "'''# Encoding the Dependent Variable\n",
    "labelencoder_y = LabelEncoder()\n",
    "y = labelencoder_y.fit_transform(y)'''\n",
    "\n",
    "\n",
    "\n",
    "## Splitting the dataset into the Training set and Test set\n",
    "from sklearn.model_selection import train_test_split\n",
    "X_train, X_test, y_train, y_test = train_test_split(X, y, test_size = 0.2)\n",
    "\n",
    "'''# Library will do this automatically\n",
    "## Feature Scaling\n",
    "from sklearn.preprocessing import StandardScaler\n",
    "sc_X = StandardScaler()\n",
    "X_train[:, 3:] = sc_X.fit_transform(X_train[:, 3:])\n",
    "X_test[:, 3:] = sc_X.transform(X_test[:, 3:])\n",
    "\n",
    "#sc_y = StandardScaler()\n",
    "#y_train = sc_y.fit_transform(y_train.reshape(-1, 1))'''"
   ]
  },
  {
   "cell_type": "code",
   "execution_count": null,
   "metadata": {
    "colab": {},
    "colab_type": "code",
    "id": "uWZ8GX3FXcdd"
   },
   "outputs": [],
   "source": [
    "from sklearn.pipeline import Pipeline\n",
    "from sklearn.svm import SVC\n",
    "from sklearn.preprocessing import StandardScaler\n",
    "from sklearn.model_selection import KFold"
   ]
  },
  {
   "cell_type": "code",
   "execution_count": null,
   "metadata": {
    "colab": {},
    "colab_type": "code",
    "id": "bJRK4RzsXcdg"
   },
   "outputs": [],
   "source": [
    "from sklearn.metrics import confusion_matrix"
   ]
  },
  {
   "cell_type": "code",
   "execution_count": null,
   "metadata": {
    "colab": {},
    "colab_type": "code",
    "id": "nXKmKXwUXcdj"
   },
   "outputs": [],
   "source": [
    "folds = KFold(5,shuffle = True, random_state=0)\n",
    "classifier = SVC()\n",
    "n_classes = 2"
   ]
  },
  {
   "cell_type": "code",
   "execution_count": null,
   "metadata": {
    "colab": {
     "base_uri": "https://localhost:8080/",
     "height": 34
    },
    "colab_type": "code",
    "id": "TkNgfr9gXcdn",
    "outputId": "eb1554b5-bbff-48cc-ade3-db082aa162bc"
   },
   "outputs": [],
   "source": [
    "X.shape"
   ]
  },
  {
   "cell_type": "code",
   "execution_count": null,
   "metadata": {
    "colab": {},
    "colab_type": "code",
    "id": "C-EILVShXcds"
   },
   "outputs": [],
   "source": [
    "from sklearn.metrics import roc_auc_score\n",
    "from sklearn.metrics import roc_curve, auc\n",
    "#y = label_binarize(y, classes=[0, 1, 2, 3])"
   ]
  },
  {
   "cell_type": "code",
   "execution_count": null,
   "metadata": {
    "colab": {
     "base_uri": "https://localhost:8080/",
     "height": 34
    },
    "colab_type": "code",
    "id": "r95R6FcoXcdw",
    "outputId": "998522a0-eaad-4aef-e4a1-ec3ab9c5a9fb"
   },
   "outputs": [],
   "source": [
    "y.shape"
   ]
  },
  {
   "cell_type": "code",
   "execution_count": null,
   "metadata": {
    "colab": {},
    "colab_type": "code",
    "id": "TFPqlQe-Xcd0"
   },
   "outputs": [],
   "source": [
    "n1 = df['target_variable']\n",
    "classes = 2\n",
    "y1 = np.zeros((len(df),classes))\n",
    "#labels\n",
    "n = list(n1)\n",
    "for i in range(len(df)):\n",
    "    if (n[i] == 1):\n",
    "        y1[i,1] = 1\n",
    "    elif (n[i] == 0):\n",
    "        y1[i,0] = 1"
   ]
  },
  {
   "cell_type": "code",
   "execution_count": null,
   "metadata": {
    "colab": {
     "base_uri": "https://localhost:8080/",
     "height": 34
    },
    "colab_type": "code",
    "id": "bVHFFpiCXcd3",
    "outputId": "1b9cea8a-ac75-476f-f901-f1a56c9610e5"
   },
   "outputs": [],
   "source": [
    "y1.shape"
   ]
  },
  {
   "cell_type": "code",
   "execution_count": null,
   "metadata": {
    "colab": {},
    "colab_type": "code",
    "id": "SuH74eNTXcd7"
   },
   "outputs": [],
   "source": [
    "n_classes = y1.shape[1]"
   ]
  },
  {
   "cell_type": "code",
   "execution_count": null,
   "metadata": {
    "colab": {},
    "colab_type": "code",
    "id": "EVOA5v_0Xcd9"
   },
   "outputs": [],
   "source": [
    "import matplotlib.pyplot as plt\n",
    "from itertools import cycle\n",
    "from sklearn.metrics import roc_curve, auc\n",
    "from scipy import interp\n",
    "from sklearn.metrics import roc_auc_score\n",
    "from sklearn import metrics"
   ]
  },
  {
   "cell_type": "code",
   "execution_count": null,
   "metadata": {
    "colab": {},
    "colab_type": "code",
    "id": "mxVh7gxlXceD"
   },
   "outputs": [],
   "source": [
    "from sklearn.metrics import precision_score\n",
    "from sklearn.metrics import recall_score\n",
    "from sklearn.metrics import f1_score\n",
    "from sklearn.metrics import accuracy_score"
   ]
  },
  {
   "cell_type": "code",
   "execution_count": null,
   "metadata": {
    "colab": {
     "base_uri": "https://localhost:8080/",
     "height": 1000
    },
    "colab_type": "code",
    "id": "iIyUM8n_XceF",
    "outputId": "c108fd71-55d6-4928-81a3-84918bdde480"
   },
   "outputs": [],
   "source": [
    "scores=[]\n",
    "accuracy = []\n",
    "metrics_acc = []\n",
    "metrics_precision = []\n",
    "metrics_recall = []\n",
    "metrics_f1 = []\n",
    "tp = []\n",
    "tn = []\n",
    "fp = []\n",
    "fn = []\n",
    "\n",
    "\n",
    "tprs = []\n",
    "aucs = []\n",
    "mean_fpr = np.linspace(0, 1, 100)\n",
    "fig, ax = plt.subplots()\n",
    "\n",
    "for i, (train, test) in enumerate(folds.split(X, y)):\n",
    "    #X_train,X_test = X.iloc[training_index], X[testing_index]\n",
    "    #y_train,y_test = y[training_index], y[testing_index]\n",
    "    #standardization\n",
    "    sc_X = StandardScaler() \n",
    "    X[train] = sc_X.fit_transform(X[train]) \n",
    "    X[test] = sc_X.transform(X[test])\n",
    "\n",
    "    classifier.fit(X[train], y[train])\n",
    "    viz = metrics.plot_roc_curve(classifier, X[test], y[test],\n",
    "                             name='ROC fold {}'.format(i),\n",
    "                             alpha=0.3, lw=1, ax=ax)\n",
    "    interp_tpr = interp(mean_fpr, viz.fpr, viz.tpr)\n",
    "    interp_tpr[0] = 0.0\n",
    "    tprs.append(interp_tpr)\n",
    "    aucs.append(viz.roc_auc)\n",
    "    \n",
    "    y_pred = classifier.predict(X[test])\n",
    "    \n",
    "    \n",
    "    y2 = np.zeros((len(test),n_classes))\n",
    "    for i in range(len(test)):\n",
    "        if (y_pred[i] == 1):\n",
    "            y2[i,1] = 1\n",
    "        elif (y_pred[i] == 0):\n",
    "            y2[i,0] = 1\n",
    "            \n",
    "    conf_mat = confusion_matrix(y[test], y_pred)\n",
    "    print (conf_mat)\n",
    "\n",
    "    precision = precision_score(y[test], y_pred, average='binary')\n",
    "    print('Precision binary: %.3f' % precision)\n",
    "    precision = precision_score(y[test], y_pred, average='micro')\n",
    "    print('Precision micro: %.3f' % precision)\n",
    "    precision = precision_score(y[test], y_pred, average='macro')\n",
    "    print('Precision macro: %.3f' % precision)\n",
    "\n",
    "    recall = recall_score(y[test], y_pred, average='binary')\n",
    "    print('Recall binary: %.3f' % recall)\n",
    "    recall = recall_score(y[test], y_pred, average='micro')\n",
    "    print('Recall micro: %.3f' % recall)\n",
    "    recall = recall_score(y[test], y_pred, average='macro')\n",
    "    print('Recall macro: %.3f' % recall)\n",
    "    score = f1_score(y[test], y_pred, average='binary')\n",
    "    print('F-Measure: %.3f' % score)\n",
    "\n",
    "    print(accuracy_score(y[test], y_pred))\n",
    "\n",
    "\n",
    "\n",
    "\n",
    "    TP = np.diag(conf_mat)\n",
    "    print(TP)\n",
    "    FP = np.sum(conf_mat, axis=0) - TP\n",
    "    print(FP)\n",
    "    FN = np.sum(conf_mat, axis=1) - TP\n",
    "    print(FN)\n",
    "    num_classes = 2\n",
    "    TN = []\n",
    "    for i in range(num_classes):\n",
    "        temp = np.delete(conf_mat, i, 0)    # delete ith row\n",
    "        temp = np.delete(temp, i, 1)  # delete ith column\n",
    "        TN.append(sum(sum(temp)))\n",
    "    print(TN)\n",
    "    \n",
    "    acc = (TP+TN)/(TP+TN+FP+FN)\n",
    "    precision = TP/(TP+FP)\n",
    "    recall = TP/(TP+FN)\n",
    "    print(\"Accuracy: \", acc)\n",
    "    \n",
    "    print(\"precision: \", precision)\n",
    "    \n",
    "    print(\"recall: \", recall)\n",
    "    F1 = 2 * ((precision * recall)/(precision + recall))\n",
    "    print (\"F1 measure: \", F1)\n",
    "    \n",
    "    tp.append(TP)\n",
    "    tn.append(TN)\n",
    "    fp.append(FP)\n",
    "    fn.append(FN)\n",
    "    \n",
    "    \n",
    "    metrics_acc.append(acc)\n",
    "    metrics_precision.append(precision)\n",
    "    metrics_recall.append(recall)\n",
    "    metrics_f1.append(F1)\n",
    "\n",
    "    \n",
    "ax.plot([0, 1], [0, 1], linestyle='--', lw=2, color='r',\n",
    "            label='Chance', alpha=.8)\n",
    "\n",
    "mean_tpr = np.mean(tprs, axis=0)\n",
    "mean_tpr[-1] = 1.0\n",
    "mean_auc = auc(mean_fpr, mean_tpr)\n",
    "std_auc = np.std(aucs)\n",
    "ax.plot(mean_fpr, mean_tpr, color='b',\n",
    "        label=r'Mean ROC (AUC = %0.2f $\\pm$ %0.2f)' % (mean_auc, std_auc),\n",
    "        lw=2, alpha=.8)\n",
    "\n",
    "std_tpr = np.std(tprs, axis=0)\n",
    "tprs_upper = np.minimum(mean_tpr + std_tpr, 1)\n",
    "tprs_lower = np.maximum(mean_tpr - std_tpr, 0)\n",
    "ax.fill_between(mean_fpr, tprs_lower, tprs_upper, color='grey', alpha=.2,\n",
    "                label=r'$\\pm$ 1 std. dev.')\n",
    "\n",
    "ax.set(xlim=[-0.05, 1.05], ylim=[-0.05, 1.05],\n",
    "       title=\"Receiver operating characteristic example\")\n",
    "ax.legend(loc=\"lower right\")\n",
    "plt.show()\n",
    "\n",
    "    \n",
    "#auc roc curve\n",
    "'''    fpr = dict()\n",
    "    tpr = dict()\n",
    "    roc_auc = dict()\n",
    "    for i in range(n_classes):\n",
    "        fpr[i], tpr[i], _ = roc_curve(y1[test, i], y2[:, i])\n",
    "        roc_auc[i] = auc(fpr[i], tpr[i])\n",
    "\n",
    "    # Compute micro-average ROC curve and ROC area\n",
    "    fpr[\"micro\"], tpr[\"micro\"], _ = roc_curve(y1[test].ravel(), y2.ravel())\n",
    "    roc_auc[\"micro\"] = auc(fpr[\"micro\"], tpr[\"micro\"])\n",
    "    \n",
    "    plt.figure()\n",
    "    lw = 2\n",
    "    plt.plot(fpr[2], tpr[2], color='darkorange',\n",
    "             lw=lw, label='ROC curve (area = %0.2f)' % roc_auc[2])\n",
    "    plt.plot([0, 1], [0, 1], color='navy', lw=lw, linestyle='--')\n",
    "    plt.xlim([0.0, 1.0])\n",
    "    plt.ylim([0.0, 1.05])\n",
    "    plt.xlabel('False Positive Rate')\n",
    "    plt.ylabel('True Positive Rate')\n",
    "    plt.title('Receiver operating characteristic example')\n",
    "    plt.legend(loc=\"lower right\")\n",
    "    plt.show()\n",
    "\n",
    "    # First aggregate all false positive rates\n",
    "    all_fpr = np.unique(np.concatenate([fpr[i] for i in range(n_classes)]))\n",
    "\n",
    "    # Then interpolate all ROC curves at this points\n",
    "    mean_tpr = np.zeros_like(all_fpr)\n",
    "    for i in range(n_classes):\n",
    "        mean_tpr += interp(all_fpr, fpr[i], tpr[i])\n",
    "\n",
    "    # Finally average it and compute AUC\n",
    "    mean_tpr /= n_classes\n",
    "    lw = 2\n",
    "    fpr[\"macro\"] = all_fpr\n",
    "    tpr[\"macro\"] = mean_tpr\n",
    "    roc_auc[\"macro\"] = auc(fpr[\"macro\"], tpr[\"macro\"])\n",
    "\n",
    "    # Plot all ROC curves\n",
    "    plt.figure()\n",
    "    plt.plot(fpr[\"micro\"], tpr[\"micro\"],\n",
    "            label='micro-average ROC curve (area = {0:0.2f})'\n",
    "                  ''.format(roc_auc[\"micro\"]),\n",
    "            color='deeppink', linestyle=':', linewidth=4)\n",
    "\n",
    "    plt.plot(fpr[\"macro\"], tpr[\"macro\"],\n",
    "            label='macro-average ROC curve (area = {0:0.2f})'\n",
    "                  ''.format(roc_auc[\"macro\"]),\n",
    "            color='navy', linestyle=':', linewidth=4)\n",
    "\n",
    "    colors = cycle(['aqua', 'darkorange', 'cornflowerblue'])\n",
    "    for i, color in zip(range(n_classes), colors):\n",
    "        plt.plot(fpr[i], tpr[i], color=color, lw=2,\n",
    "                label='ROC curve of class {0} (area = {1:0.2f})'\n",
    "                ''.format(i, roc_auc[i]))\n",
    "\n",
    "    plt.plot([0, 1], [0, 1], 'k--', lw=lw)\n",
    "    plt.xlim([0.0, 1.0])\n",
    "    plt.ylim([0.0, 1.05])\n",
    "    plt.xlabel('False Positive Rate')\n",
    "    plt.ylabel('True Positive Rate')\n",
    "    plt.title('Receiver operating characteristic to binary-class')\n",
    "    plt.legend(loc=\"lower right\")\n",
    "    plt.show()\n",
    "  \n",
    "\n",
    "   ''' \n",
    "    \n",
    "    "
   ]
  },
  {
   "cell_type": "code",
   "execution_count": null,
   "metadata": {
    "colab": {
     "base_uri": "https://localhost:8080/",
     "height": 34
    },
    "colab_type": "code",
    "id": "3yTcHBp4XceH",
    "outputId": "70ef33a1-e78a-4765-fdb0-aba2761a9c57"
   },
   "outputs": [],
   "source": [
    "y2.shape"
   ]
  },
  {
   "cell_type": "code",
   "execution_count": null,
   "metadata": {
    "colab": {},
    "colab_type": "code",
    "id": "iuBsbB0QXceK"
   },
   "outputs": [],
   "source": []
  },
  {
   "cell_type": "code",
   "execution_count": null,
   "metadata": {
    "colab": {},
    "colab_type": "code",
    "id": "PGViwQgMXceM"
   },
   "outputs": [],
   "source": [
    "import pickle\n",
    "with open('/content/drive/My Drive/tp', 'wb') as filehandle:\n",
    "    # store the data as binary data stream\n",
    "    pickle.dump(tp, filehandle)\n",
    "\n",
    "with open('/content/drive/My Drive/tn', 'wb') as filehandle:\n",
    "    # store the data as binary data stream\n",
    "    pickle.dump(tn, filehandle)\n",
    "\n",
    "with open('/content/drive/My Drive/fp', 'wb') as filehandle:\n",
    "    # store the data as binary data stream\n",
    "    pickle.dump(fp, filehandle)\n",
    "\n",
    "with open('/content/drive/My Drive/fn', 'wb') as filehandle:\n",
    "    # store the data as binary data stream\n",
    "    pickle.dump(fn, filehandle)\n",
    "\n",
    "\n",
    "\n",
    "with open('/content/drive/My Drive/accuracy', 'wb') as filehandle:\n",
    "    # store the data as binary data stream\n",
    "    pickle.dump(metrics_acc, filehandle)\n",
    "\n",
    "\n",
    "with open('/content/drive/My Drive/recall', 'wb') as filehandle:\n",
    "    # store the data as binary data stream\n",
    "    pickle.dump(metrics_recall, filehandle)\n",
    "\n",
    "with open('/content/drive/My Drive/F1_measure', 'wb') as filehandle:\n",
    "    # store the data as binary data stream\n",
    "    pickle.dump(metrics_f1, filehandle)\n",
    "with open('/content/drive/My Drive/precision', 'wb') as filehandle:\n",
    "    # store the data as binary data stream\n",
    "    pickle.dump(metrics_precision, filehandle)\n"
   ]
  },
  {
   "cell_type": "code",
   "execution_count": null,
   "metadata": {
    "colab": {},
    "colab_type": "code",
    "id": "JI4Tc3hwXceR"
   },
   "outputs": [],
   "source": [
    "with open('tp', 'rb') as filehandle:\n",
    "    # read the data as binary data stream\n",
    "    placesList = pickle.load(filehandle)"
   ]
  },
  {
   "cell_type": "code",
   "execution_count": null,
   "metadata": {
    "colab": {},
    "colab_type": "code",
    "id": "WUTv1mwqXceU"
   },
   "outputs": [],
   "source": [
    "#micro-average classwise\n",
    "micro_precision_group_0 = (tp[0][0] + tp[1][0] + tp[2][0] + tp[3][0] + tp[4][0])/(tp[0][0] + tp[1][0] + tp[2][0] + tp[3][0] + \n",
    "                           tp[4][0] + fp[0][0] + fp[1][0] + fp[2][0] + fp[3][0] + fp[4][0])\n",
    "\n",
    "micro_precision_group_1 = (tp[0][1] + tp[1][1] + tp[2][1] + tp[3][1] + tp[4][1])/(tp[0][1] + tp[1][1] + tp[2][1] + tp[3][1] + \n",
    "                           tp[4][1] + fp[0][1] + fp[1][1] + fp[2][1] + fp[3][1] + fp[4][1])\n",
    "\n",
    "#micro_precision_group_2 = (tp[0][2] + tp[1][2] + tp[2][2] + tp[3][2] + tp[4][2])/(tp[0][2] + tp[1][2] + tp[2][2] + tp[3][2] + \n",
    "#                           tp[4][2] + fp[0][2] + fp[1][2] + fp[2][2] + fp[3][2] + fp[4][2])\n",
    "\n",
    "#micro_precision_group_3 = (tp[0][3] + tp[1][3] + tp[2][3] + tp[3][3] + tp[4][3])/(tp[0][3] + tp[1][3] + tp[2][3] + tp[3][3] + \n",
    "#                           tp[4][3] + fp[0][3] + fp[1][3] + fp[2][3] + fp[3][3] + fp[4][3])\n",
    "\n",
    "micro_recall_group_0 = (tp[0][0] + tp[1][0] + tp[2][0] + tp[3][0] + tp[4][0])/(tp[0][0] + tp[1][0] \n",
    "                        + tp[2][0] + tp[3][0] + tp[4][0] + fn[0][0] + fn[1][0] + fn[2][0] + fn[3][0] + fn[4][0])\n",
    "\n",
    "micro_recall_group_1 = (tp[0][1] + tp[1][1] + tp[2][1] + tp[3][1] + tp[4][1])/(tp[0][1] + tp[1][1] \n",
    "                        + tp[2][1] + tp[3][1] + tp[4][1] + fn[0][1] + fn[1][1] + fn[2][1] + fn[3][1] + fn[4][1])\n",
    "\n",
    "#micro_recall_group_2 = (tp[0][2] + tp[1][2] + tp[2][2] + tp[3][2] + tp[4][2])/(tp[0][2] + tp[1][2] \n",
    "#                        + tp[2][2] + tp[3][2] + tp[4][2] + fn[0][2] + fn[1][2] + fn[2][2] + fn[3][2] + fn[4][2])\n",
    "\n",
    "#micro_recall_group_3 = (tp[0][3] + tp[1][3] + tp[2][3] + tp[3][3] + tp[4][3])/(tp[0][3] + tp[1][3] \n",
    "#                        + tp[2][3] + tp[3][3] + tp[4][3] + fn[0][3] + fn[1][3] + fn[2][3] + fn[3][3] + fn[4][3])"
   ]
  },
  {
   "cell_type": "code",
   "execution_count": null,
   "metadata": {
    "colab": {
     "base_uri": "https://localhost:8080/",
     "height": 84
    },
    "colab_type": "code",
    "id": "amefM35jXcea",
    "outputId": "b11326af-48ea-4d74-a8ff-9ad6a77188de"
   },
   "outputs": [],
   "source": [
    "print(micro_recall_group_0)\n",
    "print(micro_recall_group_1)\n",
    "#print(micro_recall_group_2)\n",
    "#print(micro_recall_group_3)\n",
    "print(micro_precision_group_0)\n",
    "print(micro_precision_group_1)\n",
    "#print(micro_precision_group_2)\n",
    "#print(micro_precision_group_3)"
   ]
  },
  {
   "cell_type": "code",
   "execution_count": null,
   "metadata": {
    "colab": {},
    "colab_type": "code",
    "id": "E9VORUq5Xcef"
   },
   "outputs": [],
   "source": [
    "micro_precision = []\n",
    "micro_precision.append(micro_precision_group_0)\n",
    "micro_precision.append(micro_precision_group_1)\n",
    "#micro_precision.append(micro_precision_group_2)\n",
    "#micro_precision.append(micro_precision_group_3)\n",
    "\n",
    "micro_recall = []\n",
    "micro_recall.append(micro_recall_group_0)\n",
    "micro_recall.append(micro_recall_group_1)\n",
    "#micro_recall.append(micro_recall_group_2)\n",
    "#micro_recall.append(micro_recall_group_3)"
   ]
  },
  {
   "cell_type": "code",
   "execution_count": null,
   "metadata": {
    "colab": {},
    "colab_type": "code",
    "id": "oEVMFT45Xcep"
   },
   "outputs": [],
   "source": [
    " mirco_f1_group = []\n",
    "\n",
    "mirco_f1_group.append(2 * ((micro_precision_group_0 * micro_recall_group_0)/(micro_precision_group_0 \n",
    "                                                                                 + micro_recall_group_0)))\n",
    "mirco_f1_group.append(2 * ((micro_precision_group_1 * micro_recall_group_1)/(micro_precision_group_1 \n",
    "                                                                                 + micro_recall_group_1)))\n",
    "#mirco_f1_group.append(2 * ((micro_precision_group_2 * micro_recall_group_2)/(micro_precision_group_2 \n",
    "                                              #                                   + micro_recall_group_2)))\n",
    "#mirco_f1_group.append(2 * ((micro_precision_group_3 * micro_recall_group_3)/(micro_precision_group_3 \n",
    "                                               #                                  + micro_recall_group_3)))\n",
    "\n",
    "#f1_score = 2 * ((micro_precision * micro_recall)/(micro_precision + micro_recall))"
   ]
  },
  {
   "cell_type": "code",
   "execution_count": null,
   "metadata": {
    "colab": {
     "base_uri": "https://localhost:8080/",
     "height": 67
    },
    "colab_type": "code",
    "id": "wJnuYNKZXcet",
    "outputId": "b1aa2b9e-051f-4048-d4aa-65ab4ce1c0d8"
   },
   "outputs": [],
   "source": [
    "print(micro_precision)\n",
    "print(micro_recall)\n",
    "print(mirco_f1_group)"
   ]
  },
  {
   "cell_type": "code",
   "execution_count": null,
   "metadata": {
    "colab": {},
    "colab_type": "code",
    "id": "MLMmT1mlXcew"
   },
   "outputs": [],
   "source": [
    "# mean accuracy classwise\n",
    "mean_accuracy = []\n",
    "for i in range(0, 2):\n",
    "    a = []\n",
    "    for j in range(0, 5): #row\n",
    "        a.append(metrics_acc[j][i])\n",
    "        n = np.array(a)\n",
    "    mean_accuracy.append(n.mean())"
   ]
  },
  {
   "cell_type": "code",
   "execution_count": null,
   "metadata": {
    "colab": {
     "base_uri": "https://localhost:8080/",
     "height": 34
    },
    "colab_type": "code",
    "id": "L-RkuEO-Xcez",
    "outputId": "bf161534-f1db-47bd-bf38-40f246f1662a"
   },
   "outputs": [],
   "source": [
    "mean_accuracy"
   ]
  },
  {
   "cell_type": "code",
   "execution_count": null,
   "metadata": {
    "colab": {},
    "colab_type": "code",
    "id": "GsvkNL4VXce7"
   },
   "outputs": [],
   "source": []
  },
  {
   "cell_type": "code",
   "execution_count": null,
   "metadata": {
    "colab": {},
    "colab_type": "code",
    "id": "QMF0Uxx5Xce_"
   },
   "outputs": [],
   "source": []
  },
  {
   "cell_type": "code",
   "execution_count": null,
   "metadata": {
    "colab": {},
    "colab_type": "code",
    "id": "h0qWugXKXcfD",
    "outputId": "ce42abab-477f-4d55-8e08-432c115cca7f"
   },
   "outputs": [],
   "source": [
    "conf_mat = confusion_matrix(y, y_pred)\n",
    "print (conf_mat)"
   ]
  },
  {
   "cell_type": "code",
   "execution_count": null,
   "metadata": {
    "colab": {},
    "colab_type": "code",
    "id": "B_TcPPmbXcfG"
   },
   "outputs": [],
   "source": [
    "accuracy = cross_val_score(estimator=SVC(), X=X, y=y, scoring='accuracy', cv=10)\n",
    "print (\"Accuracy: \" , str(round(100*accuracy.mean(), 2)) , \"%\")\n",
    "f1 = cross_val_score(estimator=SVC(), X=X, y=y, scoring='f1_weighted', cv=10)\n",
    "print (\"F1: \" , str(round(100*f1.mean(), 2)) , \"%\")\n",
    "precision = cross_val_score(estimator=SVC(), X=X, y=y, scoring='precision_weighted', cv=10)\n",
    "print (\"Precision: \" , str(round(100*precision.mean(), 2)) , \"%\")\n",
    "recall = cross_val_score(estimator=SVC(), X=X, y=y, scoring='recall_weighted', cv=10)\n",
    "print (\"Recall: \" , str(round(100*recall.mean(), 2)) , \"%\")"
   ]
  },
  {
   "cell_type": "code",
   "execution_count": null,
   "metadata": {
    "colab": {},
    "colab_type": "code",
    "id": "XqdL8TpPXcfJ",
    "outputId": "7a4269ff-4ea6-4b9f-e679-29fc7adeaaa9"
   },
   "outputs": [],
   "source": [
    "y_pred.shape"
   ]
  },
  {
   "cell_type": "code",
   "execution_count": null,
   "metadata": {
    "colab": {},
    "colab_type": "code",
    "id": "SHYI8sTpXcfN"
   },
   "outputs": [],
   "source": []
  }
 ],
 "metadata": {
  "colab": {
   "name": "twitter_charlie_SVM-Copy1.ipynb",
   "provenance": [],
   "toc_visible": true
  },
  "kernelspec": {
   "display_name": "Python 3",
   "language": "python",
   "name": "python3"
  },
  "language_info": {
   "codemirror_mode": {
    "name": "ipython",
    "version": 3
   },
   "file_extension": ".py",
   "mimetype": "text/x-python",
   "name": "python",
   "nbconvert_exporter": "python",
   "pygments_lexer": "ipython3",
   "version": "3.8.10"
  }
 },
 "nbformat": 4,
 "nbformat_minor": 1
}
