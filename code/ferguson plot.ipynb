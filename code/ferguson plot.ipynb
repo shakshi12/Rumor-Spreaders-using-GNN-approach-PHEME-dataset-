{
 "cells": [
  {
   "cell_type": "code",
   "execution_count": null,
   "metadata": {},
   "outputs": [],
   "source": [
    "import numpy as np\n",
    "import pandas as pd\n",
    "# to display full text\n",
    "pd.set_option('display.max_colwidth', -1)\n",
    "import seaborn as sns\n",
    "import matplotlib.pyplot as plt\n",
    "fig, ax = plt.subplots()"
   ]
  },
  {
   "cell_type": "code",
   "execution_count": null,
   "metadata": {},
   "outputs": [],
   "source": [
    "tpr_svm = pd.read_csv(r'ferguson_df_mean_tpr_svm.csv')\n",
    "fpr_svm = pd.read_csv(r'ferguson_df_mean_fpr_svm.csv')\n",
    "tpr_gcn = pd.read_csv(r'ferguson_df_mean_tpr_gcn.csv')\n",
    "fpr_gcn = pd.read_csv(r'ferguson_df_mean_fpr_gcn.csv')\n",
    "\n",
    "tpr_lstm = pd.read_csv(r'ferguson_df_mean_tpr.csv')\n",
    "fpr_lstm = pd.read_csv(r'ferguson_df_mean_fpr.csv')"
   ]
  },
  {
   "cell_type": "code",
   "execution_count": null,
   "metadata": {},
   "outputs": [],
   "source": [
    "tpr_svm.drop('Unnamed: 0', axis = 1, inplace = True)\n",
    "fpr_svm.drop('Unnamed: 0', axis = 1, inplace = True)\n",
    "tpr_gcn.drop('Unnamed: 0', axis = 1, inplace = True)\n",
    "fpr_gcn.drop('Unnamed: 0', axis = 1, inplace = True)\n",
    "\n",
    "tpr_lstm.drop('Unnamed: 0', axis = 1, inplace = True)\n",
    "fpr_lstm.drop('Unnamed: 0', axis = 1, inplace = True)"
   ]
  },
  {
   "cell_type": "code",
   "execution_count": null,
   "metadata": {},
   "outputs": [],
   "source": [
    "plt.figure()\n",
    "plt.plot([0,1],[0,1],linestyle = '--',lw = 2,color = 'black')\n",
    "#mean_tpr = np.mean(tprs, axis=0)\n",
    "#mean_auc = auc(mean_fpr, mean_tpr)\n",
    "#plt.plot(fpr, tpr, color='blue',\n",
    " #       label=r'Mean ROC (AUC = %0.2f )' % (mean_auc),lw=2, alpha=1)\n",
    "\n",
    "plt.plot(fpr_svm, tpr_svm, color='blue', label= 'SVM', linestyle = '-.',\n",
    "         lw=2, alpha=1)\n",
    "plt.plot(fpr_lstm, tpr_lstm, color='green',label = 'LSTM', linestyle = ':',\n",
    "         lw=2, alpha=1)\n",
    "plt.plot(fpr_gcn, tpr_gcn, color='red',label = 'GCN',\n",
    "         lw=2, alpha=1)\n",
    "\n",
    "\n",
    "plt.xlabel('False Positive Rate', fontsize = 16)\n",
    "plt.ylabel('True Positive Rate', fontsize = 16)\n",
    "#plt.title('ROC')\n",
    "plt.legend(loc=\"lower right\", fontsize = 'large')\n",
    "plt.show()"
   ]
  },
  {
   "cell_type": "code",
   "execution_count": null,
   "metadata": {},
   "outputs": [],
   "source": []
  }
 ],
 "metadata": {
  "kernelspec": {
   "display_name": "Python 3",
   "language": "python",
   "name": "python3"
  },
  "language_info": {
   "codemirror_mode": {
    "name": "ipython",
    "version": 3
   },
   "file_extension": ".py",
   "mimetype": "text/x-python",
   "name": "python",
   "nbconvert_exporter": "python",
   "pygments_lexer": "ipython3",
   "version": "3.8.10"
  }
 },
 "nbformat": 4,
 "nbformat_minor": 2
}
