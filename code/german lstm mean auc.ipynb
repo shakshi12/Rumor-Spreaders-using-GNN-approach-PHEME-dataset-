{
 "cells": [
  {
   "cell_type": "code",
   "execution_count": null,
   "metadata": {
    "colab": {},
    "colab_type": "code",
    "id": "KTyHMNmW1XZF"
   },
   "outputs": [],
   "source": [
    "import numpy as np\n",
    "import pandas as pd"
   ]
  },
  {
   "cell_type": "code",
   "execution_count": null,
   "metadata": {
    "colab": {
     "base_uri": "https://localhost:8080/",
     "height": 70
    },
    "colab_type": "code",
    "id": "EY52kMb81XZQ",
    "outputId": "9661d6ee-e2d6-48e9-de46-426fc022c774"
   },
   "outputs": [],
   "source": [
    "# to display full text\n",
    "pd.set_option('display.max_colwidth', -1)"
   ]
  },
  {
   "cell_type": "code",
   "execution_count": null,
   "metadata": {
    "colab": {
     "base_uri": "https://localhost:8080/",
     "height": 121
    },
    "colab_type": "code",
    "id": "9BZm-GkF4T_l",
    "outputId": "19889eac-1cc8-40c5-d3c4-c37753ca6ad5"
   },
   "outputs": [],
   "source": [
    "from google.colab import drive\n",
    "drive.mount('/content/drive')"
   ]
  },
  {
   "cell_type": "code",
   "execution_count": null,
   "metadata": {
    "colab": {},
    "colab_type": "code",
    "id": "jSJ16PmG1XZd"
   },
   "outputs": [],
   "source": [
    "df = pd.read_csv('/content/drive/My Drive/Features_for_gcn_after_removing_duplicates_german.csv')"
   ]
  },
  {
   "cell_type": "code",
   "execution_count": null,
   "metadata": {
    "colab": {},
    "colab_type": "code",
    "id": "Kfn3NumD1XZh"
   },
   "outputs": [],
   "source": [
    "df.drop('Unnamed: 0', axis = 1, inplace = True)"
   ]
  },
  {
   "cell_type": "code",
   "execution_count": null,
   "metadata": {
    "colab": {
     "base_uri": "https://localhost:8080/",
     "height": 34
    },
    "colab_type": "code",
    "id": "D-vHfo5c1XZk",
    "outputId": "c71c4b01-6680-4353-a605-35bf382e9c71"
   },
   "outputs": [],
   "source": [
    "df.shape"
   ]
  },
  {
   "cell_type": "code",
   "execution_count": null,
   "metadata": {
    "colab": {},
    "colab_type": "code",
    "id": "gtSxZhNl8Bnc"
   },
   "outputs": [],
   "source": [
    "df.drop(207, axis = 0, inplace = True)"
   ]
  },
  {
   "cell_type": "code",
   "execution_count": null,
   "metadata": {
    "colab": {
     "base_uri": "https://localhost:8080/",
     "height": 34
    },
    "colab_type": "code",
    "id": "SM2HhrP-8E9W",
    "outputId": "acfd68b2-3fac-4441-d7a4-e80fc0b85533"
   },
   "outputs": [],
   "source": [
    "df.shape"
   ]
  },
  {
   "cell_type": "code",
   "execution_count": null,
   "metadata": {
    "colab": {},
    "colab_type": "code",
    "id": "blN1jRwP1XZm"
   },
   "outputs": [],
   "source": [
    "X = df.iloc[:, :-1].values #Take all the columns except last one\n",
    "y = df.iloc[:, -1].values #Take the last column as the result"
   ]
  },
  {
   "cell_type": "code",
   "execution_count": null,
   "metadata": {
    "colab": {},
    "colab_type": "code",
    "id": "UsOAO3oV1XZs"
   },
   "outputs": [],
   "source": [
    "from sklearn.preprocessing import StandardScaler\n",
    "from sklearn.model_selection import KFold"
   ]
  },
  {
   "cell_type": "code",
   "execution_count": null,
   "metadata": {
    "colab": {},
    "colab_type": "code",
    "id": "G-6f4cUA1XZ3"
   },
   "outputs": [],
   "source": [
    "import tensorflow as tf"
   ]
  },
  {
   "cell_type": "code",
   "execution_count": null,
   "metadata": {
    "colab": {},
    "colab_type": "code",
    "id": "Cl_kXnPb1XZ8"
   },
   "outputs": [],
   "source": [
    "from sklearn.metrics import confusion_matrix"
   ]
  },
  {
   "cell_type": "code",
   "execution_count": null,
   "metadata": {
    "colab": {},
    "colab_type": "code",
    "id": "3UHPYDWU54_k"
   },
   "outputs": [],
   "source": [
    "n1 = df['target_variable']\n",
    "classes = 2\n",
    "y1 = np.zeros((len(df),classes))\n",
    "#labels\n",
    "n = list(n1)\n",
    "for i in range(len(df)):\n",
    "    if (n[i] == 1):\n",
    "        y1[i,1] = 1\n",
    "    elif (n[i] == 0):\n",
    "        y1[i,0] = 1"
   ]
  },
  {
   "cell_type": "code",
   "execution_count": null,
   "metadata": {
    "colab": {
     "base_uri": "https://localhost:8080/",
     "height": 34
    },
    "colab_type": "code",
    "id": "DfObZHps5YF9",
    "outputId": "d435f2a0-9afd-4d0f-c151-bf914ef5f40f"
   },
   "outputs": [],
   "source": [
    "y1.shape"
   ]
  },
  {
   "cell_type": "code",
   "execution_count": null,
   "metadata": {
    "colab": {},
    "colab_type": "code",
    "id": "RunWrNZ6SGyv"
   },
   "outputs": [],
   "source": [
    "import matplotlib.pyplot as plt\n",
    "from itertools import cycle\n",
    "from sklearn.metrics import roc_curve, auc\n",
    "from sklearn.preprocessing import label_binarize\n",
    "from scipy import interp\n",
    "from sklearn.metrics import roc_auc_score\n",
    "from tensorflow.keras import regularizers\n",
    "from sklearn.metrics import precision_score\n",
    "from sklearn.metrics import recall_score\n",
    "from sklearn.metrics import f1_score\n",
    "from sklearn.metrics import accuracy_score\n",
    "import matplotlib.pyplot as plt\n",
    "from itertools import cycle\n",
    "from sklearn.metrics import roc_curve, auc\n",
    "from scipy import interp\n",
    "from sklearn import metrics"
   ]
  },
  {
   "cell_type": "code",
   "execution_count": null,
   "metadata": {
    "colab": {
     "base_uri": "https://localhost:8080/",
     "height": 1000
    },
    "colab_type": "code",
    "id": "qPBYl4kl1XaC",
    "outputId": "663472ea-b46d-4180-dc0c-fe24e45f174a"
   },
   "outputs": [],
   "source": [
    "# define 10-fold cross validation test harness\n",
    "kfold = KFold(n_splits=5, shuffle=True, random_state=0)\n",
    "tp = []\n",
    "tn = []\n",
    "fp = []\n",
    "fn = []\n",
    "\n",
    "metrics_acc = []\n",
    "metrics_precision = []\n",
    "metrics_recall = []\n",
    "metrics_f1 = []\n",
    "pmacro = []\n",
    "pmicro = []\n",
    "pbinary = []\n",
    "rmacro = []\n",
    "rmicro = []\n",
    "rbi = []\n",
    "a = []\n",
    "f = []\n",
    "\n",
    "tprs = []\n",
    "aucs = []\n",
    "mean_fpr = np.linspace(0, 1, 100)\n",
    "fig, ax = plt.subplots()\n",
    "for i, (train, test) in enumerate(kfold.split(X, y)):\n",
    "    print(\"i : \", i)\n",
    "  #standardize\n",
    "    sc_X = StandardScaler() \n",
    "    X[train] = sc_X.fit_transform(X[train]) \n",
    "    X[test] = sc_X.transform(X[test])\n",
    "\n",
    "    X_train = np.reshape(X[train], (X[train].shape[0], 1, X[train].shape[1]))\n",
    "    X_test = np.reshape(X[test], (X[test].shape[0], 1, X[test].shape[1]))\n",
    "    # create model\n",
    "    model = tf.keras.models.Sequential()\n",
    "    model.add(tf.keras.layers.LSTM(32, return_sequences = True))\n",
    "    model.add(tf.keras.layers.Flatten())\n",
    "    model.add(tf.keras.layers.Dense(2,activation = 'sigmoid'))\n",
    "    model.compile(loss='binary_crossentropy', optimizer='adam', metrics=['accuracy'])\n",
    "    history = model.fit(X_train, y1[train], epochs=300)\n",
    "\n",
    "    classes = 2\n",
    "    n_classes = 2\n",
    "    #scores = model.evaluate(X_test, y[test], verbose=0)\n",
    "    y_pred = model.predict(X_test)\n",
    "    predict_class = np.argmax(y_pred, axis=1)\n",
    "\n",
    "    y2 = np.zeros((len(test),classes))\n",
    "    for i in range(len(test)):\n",
    "        if (predict_class[i] == 1):\n",
    "            y2[i,1] = 1\n",
    "        elif (predict_class[i] == 0):\n",
    "            y2[i,0] = 1\n",
    "\n",
    "    fpr, tpr, t = roc_curve(y[test], predict_class)\n",
    "    tprs.append(interp(mean_fpr, fpr, tpr))\n",
    "    roc_auc = auc(fpr, tpr)\n",
    "    aucs.append(roc_auc)\n",
    "    plt.plot(fpr, tpr, lw=2, alpha=0.3, label='ROC fold %d (AUC = %0.2f)' % (i, roc_auc))\n",
    "\n",
    "    \n",
    "#auc roc curve\n",
    "    fpr = dict()\n",
    "    tpr = dict()\n",
    "    roc_auc = dict()\n",
    "    for i in range(n_classes):\n",
    "        fpr[i], tpr[i], _ = roc_curve(y1[test, i], y2[:, i])\n",
    "        roc_auc[i] = auc(fpr[i], tpr[i])\n",
    "\n",
    "    # Compute micro-average ROC curve and ROC area\n",
    "    fpr[\"micro\"], tpr[\"micro\"], _ = roc_curve(y1[test].ravel(), y2.ravel())\n",
    "    roc_auc[\"micro\"] = auc(fpr[\"micro\"], tpr[\"micro\"])\n",
    "\n",
    "    # First aggregate all false positive rates\n",
    "    all_fpr = np.unique(np.concatenate([fpr[i] for i in range(classes)]))\n",
    "\n",
    "    # Then interpolate all ROC curves at this points\n",
    "    mean_tpr = np.zeros_like(all_fpr)\n",
    "    for i in range(n_classes):\n",
    "        mean_tpr += interp(all_fpr, fpr[i], tpr[i])\n",
    "\n",
    "    # Finally average it and compute AUC\n",
    "    mean_tpr /= n_classes\n",
    "    lw = 2\n",
    "    fpr[\"macro\"] = all_fpr\n",
    "    tpr[\"macro\"] = mean_tpr\n",
    "    roc_auc[\"macro\"] = auc(fpr[\"macro\"], tpr[\"macro\"])\n",
    "\n",
    "    # Plot all ROC curves\n",
    "    plt.figure()\n",
    "    plt.plot(fpr[\"micro\"], tpr[\"micro\"],\n",
    "            label='micro-average ROC curve (area = {0:0.2f})'\n",
    "                  ''.format(roc_auc[\"micro\"]),\n",
    "            color='deeppink', linestyle=':', linewidth=4)\n",
    "\n",
    "    plt.plot(fpr[\"macro\"], tpr[\"macro\"],\n",
    "            label='macro-average ROC curve (area = {0:0.2f})'\n",
    "                  ''.format(roc_auc[\"macro\"]),\n",
    "            color='navy', linestyle=':', linewidth=4)\n",
    "\n",
    "    colors = cycle(['aqua', 'darkorange', 'cornflowerblue'])\n",
    "    for i, color in zip(range(n_classes), colors):\n",
    "        plt.plot(fpr[i], tpr[i], color=color, lw=2,\n",
    "                label='ROC curve of class {0} (area = {1:0.2f})'\n",
    "                ''.format(i, roc_auc[i]))\n",
    "\n",
    "    plt.plot([0, 1], [0, 1], 'k--', lw=lw)\n",
    "    plt.xlim([0.0, 1.0])\n",
    "    plt.ylim([0.0, 1.05])\n",
    "    plt.xlabel('False Positive Rate')\n",
    "    plt.ylabel('True Positive Rate')\n",
    "    plt.title('Some extension of Receiver operating characteristic to multi-class')\n",
    "    plt.legend(loc=\"lower right\")\n",
    "    plt.show()\n",
    "    \n",
    "    print(predict_class)\n",
    "    conf_mat = confusion_matrix(y[test], predict_class)\n",
    "    \n",
    "    print(conf_mat)\n",
    "\n",
    "    p = precision_score(y[test], predict_class, average='binary')\n",
    "    print('Precision binary: %.3f' % p)\n",
    "    pbinary.append(p)\n",
    "    p1 = precision_score(y[test], predict_class, average='micro')\n",
    "    print('Precision micro: %.3f' % p1)\n",
    "    pmicro.append(p1)\n",
    "    p2 = precision_score(y[test], predict_class, average='macro')\n",
    "    print('Precision macro: %.3f' % p2)\n",
    "    pmacro.append(p2)\n",
    "    r = recall_score(y[test], predict_class, average='binary')\n",
    "    print('Recall binary: %.3f' % r)\n",
    "    rbi.append(r)\n",
    "    r1 = recall_score(y[test], predict_class, average='micro')\n",
    "    print('Recall micro: %.3f' % r1)\n",
    "    rmicro.append(r1)\n",
    "    r2 = recall_score(y[test], predict_class, average='macro')\n",
    "    print('Recall macro: %.3f' % r2)\n",
    "    rmacro.append(r2)\n",
    "    s = f1_score(y[test], predict_class, average='binary')\n",
    "    print('F-Measure: %.3f' % s)\n",
    "    f.append(s)\n",
    "\n",
    "    ac = accuracy_score(y[test], predict_class)\n",
    "    a.append(ac)\n",
    "    \n",
    "    \n",
    "    #Evaluation Measures\n",
    "    TP = np.diag(conf_mat)\n",
    "    print(\"True Positive: \", TP)\n",
    "    FP = np.sum(conf_mat, axis=0) - TP\n",
    "    print(\"False Positive: \", FP)\n",
    "    FN = np.sum(conf_mat, axis=1) - TP\n",
    "    print(\"False Negative\", FN)\n",
    "    num_classes = 2\n",
    "    TN = []\n",
    "    for i in range(num_classes):\n",
    "        temp = np.delete(conf_mat, i, 0)    # delete ith row\n",
    "        temp = np.delete(temp, i, 1)  # delete ith column\n",
    "        TN.append(sum(sum(temp)))\n",
    "    print(\"True negative: \", TN)\n",
    "\n",
    "    acc = (TP+TN)/(TP+TN+FP+FN)\n",
    "    precision = TP/(TP+FP)\n",
    "    recall = TP/(TP+FN)\n",
    "    \n",
    "    print(\"Accuracy: \", acc)\n",
    "\n",
    "    print(\"precision: \", precision)\n",
    "    print(\"recall: \", recall)\n",
    "    F1 = 2 * ((precision * recall)/(precision + recall))\n",
    "    tp.append(TP)\n",
    "    tn.append(TN)\n",
    "    fp.append(FP)\n",
    "    fn.append(FN)\n",
    "    \n",
    "    \n",
    "    metrics_acc.append(acc)\n",
    "    metrics_precision.append(precision)\n",
    "    metrics_recall.append(recall)\n",
    "    metrics_f1.append(F1)\n",
    "    print (\"F1 measure: \", F1)\n",
    "\n",
    "plt.plot([0,1],[0,1],linestyle = '--',lw = 2,color = 'black')\n",
    "mean_tpr = np.mean(tprs, axis=0)\n",
    "mean_auc = auc(mean_fpr, mean_tpr)\n",
    "plt.plot(mean_fpr, mean_tpr, color='blue',\n",
    "        label=r'Mean ROC (AUC = %0.2f )' % (mean_auc),lw=2, alpha=1)\n",
    "\n",
    "plt.xlabel('False Positive Rate')\n",
    "plt.ylabel('True Positive Rate')\n",
    "plt.title('ROC')\n",
    "plt.legend(loc=\"lower right\")\n",
    "plt.show()\n",
    "\n"
   ]
  },
  {
   "cell_type": "code",
   "execution_count": null,
   "metadata": {
    "colab": {
     "base_uri": "https://localhost:8080/",
     "height": 151
    },
    "colab_type": "code",
    "id": "NX8v8O1UILPM",
    "outputId": "f58192a9-1543-44ba-ab78-d2df178f1c1b"
   },
   "outputs": [],
   "source": [
    "print(\"precision macro: \", np.array(pmacro).mean())\n",
    "print(\"precision micro: \", np.array(pmicro).mean())\n",
    "print(\"precision binary macro: \", np.array(pbinary).mean())\n",
    "print(\"accuracy: \", np.array(a).mean())\n",
    "print(\"recall macro: \", np.array(rmacro).mean())\n",
    "print(\"recall micro: \", np.array(rmicro).mean())\n",
    "print(\"recall binary macro: \", np.array(rbi).mean())\n",
    "print(\"f1: \", np.array(f).mean())"
   ]
  },
  {
   "cell_type": "code",
   "execution_count": null,
   "metadata": {
    "colab": {
     "base_uri": "https://localhost:8080/",
     "height": 54
    },
    "colab_type": "code",
    "id": "MUWS6j9Z1XaM",
    "outputId": "df9ec91b-3d18-47ab-8889-99c14cacb480"
   },
   "outputs": [],
   "source": [
    "#micro-average classwise\n",
    "micro_precision_group_0 = (tp[0][0] + tp[1][0] + tp[2][0] + tp[3][0] + tp[4][0])/(tp[0][0] + tp[1][0] + tp[2][0] + tp[3][0] + \n",
    "                           tp[4][0] + fp[0][0] + fp[1][0] + fp[2][0] + fp[3][0] + fp[4][0])\n",
    "\n",
    "micro_precision_group_1 = (tp[0][1] + tp[1][1] + tp[2][1] + tp[3][1] + tp[4][1])/(tp[0][1] + tp[1][1] + tp[2][1] + tp[3][1] + \n",
    "                           tp[4][1] + fp[0][1] + fp[1][1] + fp[2][1] + fp[3][1] + fp[4][1])\n",
    "\n",
    "'''micro_precision_group_2 = (tp[0][2] + tp[1][2] + tp[2][2] + tp[3][2] + tp[4][2])/(tp[0][2] + tp[1][2] + tp[2][2] + tp[3][2] + \n",
    "                           tp[4][2] + fp[0][2] + fp[1][2] + fp[2][2] + fp[3][2] + fp[4][2])\n",
    "\n",
    "micro_precision_group_3 = (tp[0][3] + tp[1][3] + tp[2][3] + tp[3][3] + tp[4][3])/(tp[0][3] + tp[1][3] + tp[2][3] + tp[3][3] + \n",
    "                           tp[4][3] + fp[0][3] + fp[1][3] + fp[2][3] + fp[3][3] + fp[4][3])\n",
    "'''\n",
    "micro_recall_group_0 = (tp[0][0] + tp[1][0] + tp[2][0] + tp[3][0] + tp[4][0])/(tp[0][0] + tp[1][0] \n",
    "                        + tp[2][0] + tp[3][0] + tp[4][0] + fn[0][0] + fn[1][0] + fn[2][0] + fn[3][0] + fn[4][0])\n",
    "\n",
    "micro_recall_group_1 = (tp[0][1] + tp[1][1] + tp[2][1] + tp[3][1] + tp[4][1])/(tp[0][1] + tp[1][1] \n",
    "                        + tp[2][1] + tp[3][1] + tp[4][1] + fn[0][1] + fn[1][1] + fn[2][1] + fn[3][1] + fn[4][1])\n",
    "'''\n",
    "micro_recall_group_2 = (tp[0][2] + tp[1][2] + tp[2][2] + tp[3][2] + tp[4][2])/(tp[0][2] + tp[1][2] \n",
    "                        + tp[2][2] + tp[3][2] + tp[4][2] + fn[0][2] + fn[1][2] + fn[2][2] + fn[3][2] + fn[4][2])\n",
    "\n",
    "micro_recall_group_3 = (tp[0][3] + tp[1][3] + tp[2][3] + tp[3][3] + tp[4][3])/(tp[0][3] + tp[1][3] \n",
    "                        + tp[2][3] + tp[3][3] + tp[4][3] + fn[0][3] + fn[1][3] + fn[2][3] + fn[3][3] + fn[4][3])'''"
   ]
  },
  {
   "cell_type": "code",
   "execution_count": null,
   "metadata": {
    "colab": {},
    "colab_type": "code",
    "id": "823_P9tt1XaR"
   },
   "outputs": [],
   "source": [
    "micro_precision = []\n",
    "micro_precision.append(micro_precision_group_0)\n",
    "micro_precision.append(micro_precision_group_1)\n",
    "#micro_precision.append(micro_precision_group_2)\n",
    "#micro_precision.append(micro_precision_group_3)\n",
    "\n",
    "micro_recall = []\n",
    "micro_recall.append(micro_recall_group_0)\n",
    "micro_recall.append(micro_recall_group_1)\n",
    "#micro_recall.append(micro_recall_group_2)\n",
    "#micro_recall.append(micro_recall_group_3)\n",
    "\n"
   ]
  },
  {
   "cell_type": "code",
   "execution_count": null,
   "metadata": {
    "colab": {
     "base_uri": "https://localhost:8080/",
     "height": 54
    },
    "colab_type": "code",
    "id": "cZTQKTg31XaU",
    "outputId": "09afa49c-eedc-4273-a9b7-aa6d93a3165d"
   },
   "outputs": [],
   "source": [
    "mirco_f1_group = []\n",
    "\n",
    "mirco_f1_group.append(2 * ((micro_precision_group_0 * micro_recall_group_0)/(micro_precision_group_0 \n",
    "                                                                                 + micro_recall_group_0)))\n",
    "mirco_f1_group.append(2 * ((micro_precision_group_1 * micro_recall_group_1)/(micro_precision_group_1 \n",
    "                                                                                 + micro_recall_group_1)))\n",
    "'''mirco_f1_group.append(2 * ((micro_precision_group_2 * micro_recall_group_2)/(micro_precision_group_2 \n",
    "                                                                                 + micro_recall_group_2)))\n",
    "mirco_f1_group.append(2 * ((micro_precision_group_3 * micro_recall_group_3)/(micro_precision_group_3 \n",
    "                                                                                 + micro_recall_group_3)))\n",
    "\n",
    "#f1_score = 2 * ((micro_precision * micro_recall)/(micro_precision + micro_recall))'''"
   ]
  },
  {
   "cell_type": "code",
   "execution_count": null,
   "metadata": {
    "colab": {
     "base_uri": "https://localhost:8080/",
     "height": 67
    },
    "colab_type": "code",
    "id": "P0qLXlKw1XaW",
    "outputId": "0824dd59-548e-480b-c836-3e186c603926"
   },
   "outputs": [],
   "source": [
    "print(micro_precision)\n",
    "print(micro_recall)\n",
    "print(mirco_f1_group)"
   ]
  },
  {
   "cell_type": "code",
   "execution_count": null,
   "metadata": {
    "colab": {
     "base_uri": "https://localhost:8080/",
     "height": 145
    },
    "colab_type": "code",
    "id": "tQH6R0jS1XaY",
    "outputId": "a3f5b91c-de21-4061-ce7b-4f19f0be35e9"
   },
   "outputs": [],
   "source": [
    "#macro-average classwise\n",
    "macro_precision_group_0 = (metrics_precision[0][0] + metrics_precision[1][0] + metrics_precision[2][0] + \n",
    "                           metrics_precision[3][0] + metrics_precision[4][0])/5\n",
    "macro_precision_group_1 = (metrics_precision[0][1] + metrics_precision[1][1] + metrics_precision[2][1] + \n",
    "                           metrics_precision[3][1] + metrics_precision[4][1])/5\n",
    "'''macro_precision_group_2 = (metrics_precision[0][2] + metrics_precision[1][2] + metrics_precision[2][2] + \n",
    "                           metrics_precision[3][2] + metrics_precision[4][2])/5\n",
    "macro_precision_group_3 = (metrics_precision[0][3] + metrics_precision[1][3] + metrics_precision[2][3] + \n",
    "                           metrics_precision[3][3] + metrics_precision[4][3])/5\n",
    "\n",
    "macro_recall_group_0 = (metrics_recall[0][0] + metrics_recall[1][0] + metrics_recall[2][0] + \n",
    "                           metrics_recall[3][0] + metrics_recall[4][0])/5\n",
    "macro_recall_group_1 = (metrics_recall[0][1] + metrics_recall[1][1] + metrics_recall[2][1] + \n",
    "                           metrics_recall[3][1] + metrics_recall[4][1])/5\n",
    "macro_recall_group_2 = (metrics_recall[0][2] + metrics_recall[1][2] + metrics_recall[2][2] + \n",
    "                           metrics_recall[3][2] + metrics_recall[4][2])/5\n",
    "macro_recall_group_3 = (metrics_recall[0][3] + metrics_recall[1][3] + metrics_recall[2][3] + \n",
    "                           metrics_recall[3][3] + metrics_recall[4][3])/5\n",
    "\n",
    "macro_f1_group_0 = 2 * ((macro_precision_group_0 * macro_recall_group_0)/(macro_precision_group_0 + macro_recall_group_0))\n",
    "\n",
    "macro_f1_group_1 = 2 * ((macro_precision_group_1 * macro_recall_group_1)/(macro_precision_group_1 + macro_recall_group_1))\n",
    "\n",
    "macro_f1_group_2 = 2 * ((macro_precision_group_2 * macro_recall_group_2)/(macro_precision_group_2 + macro_recall_group_2))\n",
    "\n",
    "macro_f1_group_3 = 2 * ((macro_precision_group_3 * macro_recall_group_3)/(macro_precision_group_3 + macro_recall_group_3))"
   ]
  },
  {
   "cell_type": "code",
   "execution_count": null,
   "metadata": {
    "colab": {},
    "colab_type": "code",
    "id": "M8tcF8cR1Xab",
    "outputId": "7cd0ed04-db1a-4822-c579-c6003cc433ac"
   },
   "outputs": [],
   "source": [
    "macro_precision = []\n",
    "macro_precision.append(macro_precision_group_0)\n",
    "macro_precision.append(macro_precision_group_1)\n",
    "macro_precision.append(macro_precision_group_2)\n",
    "macro_precision.append(macro_precision_group_3)\n",
    "\n",
    "macro_recall = []\n",
    "macro_recall.append(macro_recall_group_0)\n",
    "macro_recall.append(macro_recall_group_0)\n",
    "macro_recall.append(macro_recall_group_0)\n",
    "macro_recall.append(macro_recall_group_0)\n",
    "\n",
    "marco_f1_group = []\n",
    "\n",
    "marco_f1_group.append(2 * ((macro_precision_group_0 * macro_recall_group_0)/(macro_precision_group_0 \n",
    "                                                                                 + macro_recall_group_0)))\n",
    "marco_f1_group.append(2 * ((macro_precision_group_1 * macro_recall_group_1)/(macro_precision_group_1 \n",
    "                                                                                 + macro_recall_group_1)))\n",
    "marco_f1_group.append(2 * ((macro_precision_group_2 * macro_recall_group_2)/(macro_precision_group_2 \n",
    "                                                                                 + macro_recall_group_2)))\n",
    "marco_f1_group.append(2 * ((macro_precision_group_3 * macro_recall_group_3)/(macro_precision_group_3 \n",
    "                                                                                 + macro_recall_group_3)))\n",
    "\n",
    "#f1_score = 2 * ((micro_precision * micro_recall)/(micro_precision + micro_recall))\n",
    "\n",
    "print(macro_precision)\n",
    "print(macro_recall)\n",
    "print(marco_f1_group)"
   ]
  },
  {
   "cell_type": "code",
   "execution_count": null,
   "metadata": {
    "colab": {
     "base_uri": "https://localhost:8080/",
     "height": 34
    },
    "colab_type": "code",
    "id": "FJ7AjD6A1Xae",
    "outputId": "f76d83bc-2ee8-4757-d07a-9e438f585463"
   },
   "outputs": [],
   "source": [
    "# mean accuracy classwise\n",
    "mean_accuracy = []\n",
    "for i in range(0, classes):\n",
    "    a = []\n",
    "    for j in range(0, 5): #row\n",
    "        a.append(metrics_acc[j][i])\n",
    "        n = np.array(a)\n",
    "    mean_accuracy.append(n.mean())"
   ]
  },
  {
   "cell_type": "code",
   "execution_count": null,
   "metadata": {
    "colab": {
     "base_uri": "https://localhost:8080/",
     "height": 34
    },
    "colab_type": "code",
    "id": "b9ilpJLg1Xag",
    "outputId": "80501ab9-0447-43e6-efb7-3581b53aefd6"
   },
   "outputs": [],
   "source": [
    "mean_accuracy"
   ]
  },
  {
   "cell_type": "code",
   "execution_count": null,
   "metadata": {
    "colab": {},
    "colab_type": "code",
    "id": "OSEfKVIy1Xai",
    "outputId": "363f0148-9c8b-4687-9dcc-1eea8b4257a4"
   },
   "outputs": [],
   "source": [
    "metrics_acc"
   ]
  },
  {
   "cell_type": "code",
   "execution_count": null,
   "metadata": {
    "colab": {},
    "colab_type": "code",
    "id": "83Fk0Y_B1Xal"
   },
   "outputs": [],
   "source": []
  }
 ],
 "metadata": {
  "colab": {
   "name": "twitter_charlie_LSTM_german.ipynb",
   "provenance": []
  },
  "kernelspec": {
   "display_name": "Python 3",
   "language": "python",
   "name": "python3"
  },
  "language_info": {
   "codemirror_mode": {
    "name": "ipython",
    "version": 3
   },
   "file_extension": ".py",
   "mimetype": "text/x-python",
   "name": "python",
   "nbconvert_exporter": "python",
   "pygments_lexer": "ipython3",
   "version": "3.8.10"
  }
 },
 "nbformat": 4,
 "nbformat_minor": 1
}
