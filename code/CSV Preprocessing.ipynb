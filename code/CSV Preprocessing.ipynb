{
 "cells": [
  {
   "cell_type": "code",
   "execution_count": null,
   "metadata": {},
   "outputs": [],
   "source": [
    "import numpy as np\n",
    "import pandas as pd"
   ]
  },
  {
   "cell_type": "code",
   "execution_count": null,
   "metadata": {},
   "outputs": [],
   "source": [
    "# to display full text\n",
    "pd.set_option('display.max_colwidth', -1)"
   ]
  },
  {
   "cell_type": "code",
   "execution_count": null,
   "metadata": {},
   "outputs": [],
   "source": [
    "exact_data = pd.read_csv(r'F:\\Stats\\Estonia\\New folder\\phemernrdataset\\pheme-rnr-dataset\\charliehebdo\\dump_ferguson.csv', encoding = 'utf-8', header = None)"
   ]
  },
  {
   "cell_type": "code",
   "execution_count": null,
   "metadata": {},
   "outputs": [],
   "source": [
    "exact_data.head()"
   ]
  },
  {
   "cell_type": "code",
   "execution_count": null,
   "metadata": {},
   "outputs": [],
   "source": [
    "remove_column = exact_data.drop([0,2,3,8,9,11,12,13], axis = 1)"
   ]
  },
  {
   "cell_type": "code",
   "execution_count": null,
   "metadata": {},
   "outputs": [],
   "source": [
    "remove_column.head()"
   ]
  },
  {
   "cell_type": "code",
   "execution_count": null,
   "metadata": {},
   "outputs": [],
   "source": [
    "remove_column.columns = ['src_text', 'src_user_id', 'src_favorites_count', 'src_verified_user', 'src_followers_count','reply_text', 'reply_followers_count', 'reply_favorites_count', 'reply_user_id', 'reply_verified_user', 'label']"
   ]
  },
  {
   "cell_type": "code",
   "execution_count": null,
   "metadata": {},
   "outputs": [],
   "source": [
    "remove_column"
   ]
  },
  {
   "cell_type": "code",
   "execution_count": null,
   "metadata": {},
   "outputs": [],
   "source": [
    "remove_column.shape"
   ]
  },
  {
   "cell_type": "code",
   "execution_count": null,
   "metadata": {},
   "outputs": [],
   "source": [
    "remove_column.isnull().sum()"
   ]
  },
  {
   "cell_type": "code",
   "execution_count": null,
   "metadata": {},
   "outputs": [],
   "source": [
    "graph_eligible_data = pd.DataFrame(index = np.zeros((len(remove_column))), columns = ['weight', 'src_user_id', 'src_text', 'src_favorites_count', 'src_followers_count', 'src_verified_user', 'reply_user_id', 'reply_user_text', 'reply_favorites_count', 'reply_followers_count', 'reply_verified_user', 'label'])"
   ]
  },
  {
   "cell_type": "code",
   "execution_count": null,
   "metadata": {},
   "outputs": [],
   "source": [
    "graph_eligible_data.head()"
   ]
  },
  {
   "cell_type": "code",
   "execution_count": null,
   "metadata": {},
   "outputs": [],
   "source": [
    "len(graph_eligible_data)"
   ]
  },
  {
   "cell_type": "code",
   "execution_count": null,
   "metadata": {},
   "outputs": [],
   "source": [
    "remove_column['src_user_id'].nunique()"
   ]
  },
  {
   "cell_type": "code",
   "execution_count": null,
   "metadata": {},
   "outputs": [],
   "source": [
    "remove_column['reply_user_id'].nunique()"
   ]
  },
  {
   "cell_type": "code",
   "execution_count": null,
   "metadata": {},
   "outputs": [],
   "source": [
    "def addingWeight():\n",
    "    for i in range(0, len(graph_eligible_data)): \n",
    "        print(i)\n",
    "        if (i>0):\n",
    "            if ((remove_column.iloc[i-1]['src_user_id'] == remove_column.iloc[i]['src_user_id']) and (remove_column.iloc[i-1]['reply_user_id'] == remove_column.iloc[i]['reply_user_id'])):\n",
    "                continue\n",
    "        weight = 1\n",
    "        a = remove_column.iloc[i]['src_user_id']\n",
    "        b = remove_column.iloc[i]['reply_user_id']\n",
    "        \n",
    "        merged_replies = remove_column.iloc[i]['reply_text']\n",
    "        for j in range(i+1, len(graph_eligible_data)):\n",
    "            if ((a == remove_column.iloc[j]['src_user_id']) and (b == remove_column.iloc[j]['reply_user_id'])):\n",
    "                weight = weight + 1\n",
    "                merged_replies = str(merged_replies) + \" \" + str(remove_column.iloc[j]['reply_text'])\n",
    "            elif (remove_column.iloc[j]['src_user_id'] != remove_column.iloc[j-1]['src_user_id']):\n",
    "                break\n",
    "                \n",
    "        graph_eligible_data.iloc[i]['weight'] = weight\n",
    "        graph_eligible_data.iloc[i]['src_user_id'] = remove_column.iloc[i]['src_user_id']\n",
    "        graph_eligible_data.iloc[i]['reply_user_id'] = remove_column.iloc[i]['reply_user_id']\n",
    "        graph_eligible_data.iloc[i]['src_text'] = remove_column.iloc[i]['src_text']\n",
    "        graph_eligible_data.iloc[i]['reply_user_text'] = merged_replies\n",
    "        graph_eligible_data.iloc[i]['src_favorites_count'] = remove_column.iloc[i]['src_favorites_count']\n",
    "        graph_eligible_data.iloc[i]['src_followers_count'] = remove_column.iloc[i]['src_followers_count']\n",
    "        graph_eligible_data.iloc[i]['src_verified_user'] = remove_column.iloc[i]['src_verified_user']\n",
    "        graph_eligible_data.iloc[i]['reply_favorites_count'] = remove_column.iloc[i]['reply_favorites_count']\n",
    "        graph_eligible_data.iloc[i]['reply_followers_count'] = remove_column.iloc[i]['reply_followers_count']\n",
    "        graph_eligible_data.iloc[i]['reply_verified_user'] = remove_column.iloc[i]['reply_verified_user']\n",
    "        graph_eligible_data.iloc[i]['label'] = remove_column.iloc[i]['label']\n",
    "\n",
    "        "
   ]
  },
  {
   "cell_type": "code",
   "execution_count": null,
   "metadata": {},
   "outputs": [],
   "source": [
    "addingWeight()"
   ]
  },
  {
   "cell_type": "code",
   "execution_count": null,
   "metadata": {},
   "outputs": [],
   "source": [
    "graph_eligible_data"
   ]
  },
  {
   "cell_type": "code",
   "execution_count": null,
   "metadata": {},
   "outputs": [],
   "source": [
    "graph_eligible_data_v2 = graph_eligible_data.copy()"
   ]
  },
  {
   "cell_type": "code",
   "execution_count": null,
   "metadata": {},
   "outputs": [],
   "source": [
    "graph_eligible_data.to_csv('graph_eligible_data.csv')"
   ]
  },
  {
   "cell_type": "code",
   "execution_count": null,
   "metadata": {},
   "outputs": [],
   "source": [
    "graph_eligible_data_v2.isnull().sum()"
   ]
  },
  {
   "cell_type": "code",
   "execution_count": null,
   "metadata": {},
   "outputs": [],
   "source": [
    "graph_eligible_data_v2 = graph_eligible_data_v2.dropna(axis = 0)"
   ]
  },
  {
   "cell_type": "code",
   "execution_count": null,
   "metadata": {},
   "outputs": [],
   "source": [
    "graph_eligible_data_v2.shape"
   ]
  },
  {
   "cell_type": "code",
   "execution_count": null,
   "metadata": {},
   "outputs": [],
   "source": [
    "graph_eligible_data_v2"
   ]
  },
  {
   "cell_type": "code",
   "execution_count": null,
   "metadata": {},
   "outputs": [],
   "source": [
    "graph_eligible_data_v2.reset_index(drop = True, inplace = True)"
   ]
  },
  {
   "cell_type": "code",
   "execution_count": null,
   "metadata": {},
   "outputs": [],
   "source": [
    "graph_eligible_data_v2"
   ]
  },
  {
   "cell_type": "code",
   "execution_count": null,
   "metadata": {},
   "outputs": [],
   "source": [
    "def removingDuplicates():\n",
    "    for i in range (0, len(graph_eligible_data_v2)):\n",
    "        c = graph_eligible_data_v2.iloc[i]['src_user_id']\n",
    "        d = graph_eligible_data_v2.iloc[i]['reply_user_id']\n",
    "        \n",
    "        #graph_eligible_data_v2.reset_index(drop = True, inplace = True)\n",
    "        for j in range(i+1, len(graph_eligible_data_v2)):\n",
    "            if ((i>0) and (graph_eligible_data_v2.iloc[j]['src_user_id'] != graph_eligible_data_v2.iloc[j-1]['src_user_id'])):\n",
    "                break\n",
    "            if ((c == graph_eligible_data_v2.iloc[j]['src_user_id']) and (d == graph_eligible_data_v2.iloc[j]['reply_user_id'])):\n",
    "                #print(j)\n",
    "                print(\"adding nan \" , graph_eligible_data_v2.iloc[j]['src_user_id'] , graph_eligible_data_v2.iloc[j]['reply_user_id'], graph_eligible_data_v2.iloc[j]['weight'])\n",
    "                graph_eligible_data_v2.iloc[j]['reply_user_id'] = np.nan\n",
    "                #graph_eligible_data_v2.reset_index(drop = True, inplace = True)\n",
    "                #graph_eligible_data_v2.dropna(inplace = True)"
   ]
  },
  {
   "cell_type": "code",
   "execution_count": null,
   "metadata": {},
   "outputs": [],
   "source": [
    "removingDuplicates()"
   ]
  },
  {
   "cell_type": "code",
   "execution_count": null,
   "metadata": {},
   "outputs": [],
   "source": [
    "graph_eligible_data_v2"
   ]
  },
  {
   "cell_type": "code",
   "execution_count": null,
   "metadata": {},
   "outputs": [],
   "source": [
    "len(graph_eligible_data_v2)"
   ]
  },
  {
   "cell_type": "code",
   "execution_count": null,
   "metadata": {},
   "outputs": [],
   "source": [
    "graph_eligible_data_v2.dropna(axis = 0, inplace = True)"
   ]
  },
  {
   "cell_type": "code",
   "execution_count": null,
   "metadata": {},
   "outputs": [],
   "source": [
    "len(graph_eligible_data_v2)"
   ]
  },
  {
   "cell_type": "code",
   "execution_count": null,
   "metadata": {},
   "outputs": [],
   "source": [
    "graph_eligible_data_v2.reset_index(drop = True, inplace = True)"
   ]
  },
  {
   "cell_type": "code",
   "execution_count": null,
   "metadata": {},
   "outputs": [],
   "source": [
    "graph_eligible_data_v2"
   ]
  },
  {
   "cell_type": "code",
   "execution_count": null,
   "metadata": {},
   "outputs": [],
   "source": [
    "graph_eligible_data_v2.to_csv('graph_eligible_data_v2.csv')"
   ]
  },
  {
   "cell_type": "code",
   "execution_count": null,
   "metadata": {},
   "outputs": [],
   "source": []
  }
 ],
 "metadata": {
  "kernelspec": {
   "display_name": "Python 3",
   "language": "python",
   "name": "python3"
  },
  "language_info": {
   "codemirror_mode": {
    "name": "ipython",
    "version": 3
   },
   "file_extension": ".py",
   "mimetype": "text/x-python",
   "name": "python",
   "nbconvert_exporter": "python",
   "pygments_lexer": "ipython3",
   "version": "3.8.10"
  }
 },
 "nbformat": 4,
 "nbformat_minor": 2
}
