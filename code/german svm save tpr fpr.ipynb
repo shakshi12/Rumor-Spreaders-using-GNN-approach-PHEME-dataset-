{
 "cells": [
  {
   "cell_type": "code",
   "execution_count": null,
   "metadata": {
    "colab": {
     "base_uri": "https://localhost:8080/",
     "height": 104
    },
    "colab_type": "code",
    "id": "CPJDJJOrXccJ",
    "outputId": "c04c692c-d54c-4fff-b5fb-a0677920b407"
   },
   "outputs": [],
   "source": [
    "import numpy as np\n",
    "import pandas as pd\n",
    "# to display full text\n",
    "pd.set_option('display.max_colwidth', -1)\n",
    "import seaborn as sns"
   ]
  },
  {
   "cell_type": "code",
   "execution_count": null,
   "metadata": {
    "colab": {
     "base_uri": "https://localhost:8080/",
     "height": 121
    },
    "colab_type": "code",
    "id": "yefhUm-XXkv-",
    "outputId": "ed1f1265-1038-4868-8bb8-5ae7645f2014"
   },
   "outputs": [],
   "source": [
    "from google.colab import drive\n",
    "drive.mount('/content/drive')"
   ]
  },
  {
   "cell_type": "code",
   "execution_count": null,
   "metadata": {
    "colab": {
     "base_uri": "https://localhost:8080/",
     "height": 34
    },
    "colab_type": "code",
    "id": "yN5gSxmsX6D0",
    "outputId": "394d9e83-fc58-46b2-b5bf-ac97e27e29cc"
   },
   "outputs": [],
   "source": [
    "cd drive"
   ]
  },
  {
   "cell_type": "code",
   "execution_count": null,
   "metadata": {
    "colab": {
     "base_uri": "https://localhost:8080/",
     "height": 34
    },
    "colab_type": "code",
    "id": "AmPCs3inYByg",
    "outputId": "d5508a97-a4f7-44a7-cfb4-e750e318aa31"
   },
   "outputs": [],
   "source": [
    "pwd"
   ]
  },
  {
   "cell_type": "code",
   "execution_count": null,
   "metadata": {
    "colab": {},
    "colab_type": "code",
    "id": "uSWy4Yx5XccO"
   },
   "outputs": [],
   "source": [
    "df = pd.read_csv('My Drive/Features_for_gcn_after_removing_duplicates_german.csv')"
   ]
  },
  {
   "cell_type": "markdown",
   "metadata": {
    "colab_type": "text",
    "id": "6RSq6yKlXccV"
   },
   "source": [
    "### label.1 is target variable"
   ]
  },
  {
   "cell_type": "code",
   "execution_count": null,
   "metadata": {
    "colab": {},
    "colab_type": "code",
    "id": "j-ybywlGXccW"
   },
   "outputs": [],
   "source": [
    "df.drop('Unnamed: 0', axis = 1, inplace = True)"
   ]
  },
  {
   "cell_type": "code",
   "execution_count": null,
   "metadata": {
    "colab": {
     "base_uri": "https://localhost:8080/",
     "height": 244
    },
    "colab_type": "code",
    "id": "7ggQ-ZxDXccZ",
    "outputId": "f278aa64-99a6-407a-98d6-380488d9cfea"
   },
   "outputs": [],
   "source": [
    "df.head()"
   ]
  },
  {
   "cell_type": "code",
   "execution_count": null,
   "metadata": {
    "colab": {
     "base_uri": "https://localhost:8080/",
     "height": 34
    },
    "colab_type": "code",
    "id": "tzt-Z5PyXccm",
    "outputId": "f8e2b1c5-f792-4958-d2ac-e49c1c9cfa96"
   },
   "outputs": [],
   "source": [
    "df.shape"
   ]
  },
  {
   "cell_type": "markdown",
   "metadata": {
    "colab_type": "text",
    "id": "axEp-2yJXccy"
   },
   "source": [
    "## not to be executed"
   ]
  },
  {
   "cell_type": "markdown",
   "metadata": {
    "colab_type": "text",
    "id": "oWXWbKGrXccz"
   },
   "source": [
    "df.to_csv('removed_unwanted_features.csv')"
   ]
  },
  {
   "cell_type": "code",
   "execution_count": null,
   "metadata": {
    "colab": {
     "base_uri": "https://localhost:8080/",
     "height": 303
    },
    "colab_type": "code",
    "id": "MD6yQjHDXcc3",
    "outputId": "f8a250c0-69eb-4e7a-9992-2fc2fe2c4375"
   },
   "outputs": [],
   "source": [
    "df.drop('Unnamed: 0', axis = 1, inplace = True)"
   ]
  },
  {
   "cell_type": "code",
   "execution_count": null,
   "metadata": {
    "colab": {
     "base_uri": "https://localhost:8080/",
     "height": 244
    },
    "colab_type": "code",
    "id": "VZgFIr4HXcc8",
    "outputId": "704aed02-ff6e-4deb-f806-4accdb696e67"
   },
   "outputs": [],
   "source": [
    "df.head()"
   ]
  },
  {
   "cell_type": "code",
   "execution_count": null,
   "metadata": {
    "colab": {
     "base_uri": "https://localhost:8080/",
     "height": 34
    },
    "colab_type": "code",
    "id": "OkuKxDpaXcdA",
    "outputId": "a58a182a-48cf-4874-bb05-786dfbdc8b9f"
   },
   "outputs": [],
   "source": [
    "df.shape"
   ]
  },
  {
   "cell_type": "code",
   "execution_count": null,
   "metadata": {
    "colab": {
     "base_uri": "https://localhost:8080/",
     "height": 34
    },
    "colab_type": "code",
    "id": "rUt3a0OBXcdC",
    "outputId": "a9ac9c78-7e57-487e-84ee-3d32fb458f85"
   },
   "outputs": [],
   "source": [
    "df.loc[207, 'user_id']"
   ]
  },
  {
   "cell_type": "code",
   "execution_count": null,
   "metadata": {
    "colab": {},
    "colab_type": "code",
    "id": "VZF_qh8xXcdF"
   },
   "outputs": [],
   "source": [
    "df.drop(207, axis = 0, inplace = True)"
   ]
  },
  {
   "cell_type": "code",
   "execution_count": null,
   "metadata": {
    "colab": {
     "base_uri": "https://localhost:8080/",
     "height": 34
    },
    "colab_type": "code",
    "id": "p1P-JnmUXcdI",
    "outputId": "0e4024f3-9512-4d41-86fd-cda5e9d67964"
   },
   "outputs": [],
   "source": [
    "df.shape"
   ]
  },
  {
   "cell_type": "code",
   "execution_count": null,
   "metadata": {
    "colab": {
     "base_uri": "https://localhost:8080/",
     "height": 34
    },
    "colab_type": "code",
    "id": "VGqRffW0XcdL",
    "outputId": "fc71d05e-77d3-48f1-e128-922462cce868"
   },
   "outputs": [],
   "source": [
    "df['target_variable'].unique()"
   ]
  },
  {
   "cell_type": "code",
   "execution_count": null,
   "metadata": {
    "colab": {
     "base_uri": "https://localhost:8080/",
     "height": 50
    },
    "colab_type": "code",
    "id": "DvF-aPkaXcdP",
    "outputId": "a6a08a75-511f-49d3-aff3-f34fb2cd4d83"
   },
   "outputs": [],
   "source": [
    "print(\"Class 0 percentage: \", round((sum(df['target_variable'] == 0))/len(df), 2))\n",
    "print(\"Class 1 percentage: \", round((sum(df['target_variable'] == 1))/len(df), 2))"
   ]
  },
  {
   "cell_type": "code",
   "execution_count": null,
   "metadata": {
    "colab": {},
    "colab_type": "code",
    "id": "fiBsuJCzXcdS"
   },
   "outputs": [],
   "source": [
    "X = df.iloc[:, :-1].values #Take all the columns except last one\n",
    "y = df.iloc[:, -1].values #Take the last column as the result"
   ]
  },
  {
   "cell_type": "code",
   "execution_count": null,
   "metadata": {
    "colab": {},
    "colab_type": "code",
    "id": "WNaLPAYJXcdX"
   },
   "outputs": [],
   "source": [
    "# cross validation\n",
    "from sklearn.model_selection import cross_val_score\n",
    "#accuracies = cross_val_score(estimator=regressor, X=X, y=y, cv=10)\n",
    "#accuracies.mean()"
   ]
  },
  {
   "cell_type": "code",
   "execution_count": null,
   "metadata": {
    "colab": {
     "base_uri": "https://localhost:8080/",
     "height": 34
    },
    "colab_type": "code",
    "id": "SZQekUyNXcdZ",
    "outputId": "b9ed3b20-66f2-4d17-e4aa-4cec46420819"
   },
   "outputs": [],
   "source": [
    "type(X)"
   ]
  },
  {
   "cell_type": "markdown",
   "metadata": {
    "colab_type": "text",
    "id": "PQUaN8bjXcdc"
   },
   "source": [
    "'''# Taking care of missing data\n",
    "from sklearn.impute import SimpleImputer\n",
    "\n",
    "imputer = SimpleImputer(missing_values=np.nan, strategy='mean')\n",
    "imputer = imputer.fit(X.iloc[:, 1:])\n",
    "X.iloc[:, 1:] = imputer.transform(X.iloc[:, 1:])'''"
   ]
  },
  {
   "cell_type": "markdown",
   "metadata": {
    "colab_type": "text",
    "id": "IwqBsOE-Xcdc"
   },
   "source": [
    "## Encoding categorical data\n",
    "## Encoding the Independent Variable\n",
    "from sklearn.preprocessing import LabelEncoder, OneHotEncoder\n",
    "labelencoder_X = LabelEncoder()\n",
    "X.iloc[:, 3] = labelencoder_X.fit_transform(X.iloc[:, 3])\n",
    "\n",
    "#Make dummy variables\n",
    "onehotencoder = OneHotEncoder(categorical_features = [3])\n",
    "X = onehotencoder.fit_transform(X).toarray()\n",
    "\n",
    "#Avoiding the Dummy Variable Trap\n",
    "X = X[:, 1:]\n",
    "\n",
    "'''# Encoding the Dependent Variable\n",
    "labelencoder_y = LabelEncoder()\n",
    "y = labelencoder_y.fit_transform(y)'''\n",
    "\n",
    "\n",
    "\n",
    "## Splitting the dataset into the Training set and Test set\n",
    "from sklearn.model_selection import train_test_split\n",
    "X_train, X_test, y_train, y_test = train_test_split(X, y, test_size = 0.2)\n",
    "\n",
    "'''# Library will do this automatically\n",
    "## Feature Scaling\n",
    "from sklearn.preprocessing import StandardScaler\n",
    "sc_X = StandardScaler()\n",
    "X_train[:, 3:] = sc_X.fit_transform(X_train[:, 3:])\n",
    "X_test[:, 3:] = sc_X.transform(X_test[:, 3:])\n",
    "\n",
    "#sc_y = StandardScaler()\n",
    "#y_train = sc_y.fit_transform(y_train.reshape(-1, 1))'''"
   ]
  },
  {
   "cell_type": "code",
   "execution_count": null,
   "metadata": {
    "colab": {},
    "colab_type": "code",
    "id": "uWZ8GX3FXcdd"
   },
   "outputs": [],
   "source": [
    "from sklearn.pipeline import Pipeline\n",
    "from sklearn.svm import SVC\n",
    "from sklearn.preprocessing import StandardScaler\n",
    "from sklearn.model_selection import KFold"
   ]
  },
  {
   "cell_type": "code",
   "execution_count": null,
   "metadata": {
    "colab": {},
    "colab_type": "code",
    "id": "bJRK4RzsXcdg"
   },
   "outputs": [],
   "source": [
    "from sklearn.metrics import confusion_matrix"
   ]
  },
  {
   "cell_type": "code",
   "execution_count": null,
   "metadata": {
    "colab": {},
    "colab_type": "code",
    "id": "nXKmKXwUXcdj"
   },
   "outputs": [],
   "source": [
    "folds = KFold(5,shuffle = True, random_state=0)\n",
    "classifier = SVC()\n",
    "n_classes = 2"
   ]
  },
  {
   "cell_type": "code",
   "execution_count": null,
   "metadata": {
    "colab": {
     "base_uri": "https://localhost:8080/",
     "height": 34
    },
    "colab_type": "code",
    "id": "TkNgfr9gXcdn",
    "outputId": "057cc6da-a1f2-48e8-cbbf-b3e976b0b381"
   },
   "outputs": [],
   "source": [
    "X.shape"
   ]
  },
  {
   "cell_type": "code",
   "execution_count": null,
   "metadata": {
    "colab": {},
    "colab_type": "code",
    "id": "C-EILVShXcds"
   },
   "outputs": [],
   "source": [
    "from sklearn.metrics import roc_auc_score\n",
    "from sklearn.metrics import roc_curve, auc\n",
    "#y = label_binarize(y, classes=[0, 1, 2, 3])"
   ]
  },
  {
   "cell_type": "code",
   "execution_count": null,
   "metadata": {
    "colab": {
     "base_uri": "https://localhost:8080/",
     "height": 34
    },
    "colab_type": "code",
    "id": "r95R6FcoXcdw",
    "outputId": "1b309b04-c3d9-4482-ed3e-5b9bcd48cb64"
   },
   "outputs": [],
   "source": [
    "y.shape"
   ]
  },
  {
   "cell_type": "code",
   "execution_count": null,
   "metadata": {
    "colab": {},
    "colab_type": "code",
    "id": "TFPqlQe-Xcd0"
   },
   "outputs": [],
   "source": [
    "n1 = df['target_variable']\n",
    "classes = 2\n",
    "y1 = np.zeros((len(df),classes))\n",
    "#labels\n",
    "n = list(n1)\n",
    "for i in range(len(df)):\n",
    "    if (n[i] == 1):\n",
    "        y1[i,1] = 1\n",
    "    elif (n[i] == 0):\n",
    "        y1[i,0] = 1"
   ]
  },
  {
   "cell_type": "code",
   "execution_count": null,
   "metadata": {
    "colab": {
     "base_uri": "https://localhost:8080/",
     "height": 34
    },
    "colab_type": "code",
    "id": "bVHFFpiCXcd3",
    "outputId": "53be6251-5fcb-4951-fa50-2fe7d404f88f"
   },
   "outputs": [],
   "source": [
    "y1.shape"
   ]
  },
  {
   "cell_type": "code",
   "execution_count": null,
   "metadata": {
    "colab": {},
    "colab_type": "code",
    "id": "SuH74eNTXcd7"
   },
   "outputs": [],
   "source": [
    "n_classes = y1.shape[1]"
   ]
  },
  {
   "cell_type": "code",
   "execution_count": null,
   "metadata": {
    "colab": {},
    "colab_type": "code",
    "id": "EVOA5v_0Xcd9"
   },
   "outputs": [],
   "source": [
    "import matplotlib.pyplot as plt\n",
    "from itertools import cycle\n",
    "from sklearn.metrics import roc_curve, auc\n",
    "from scipy import interp\n",
    "from sklearn.metrics import roc_auc_score\n",
    "from sklearn import metrics"
   ]
  },
  {
   "cell_type": "code",
   "execution_count": null,
   "metadata": {
    "colab": {},
    "colab_type": "code",
    "id": "mxVh7gxlXceD"
   },
   "outputs": [],
   "source": [
    "from sklearn.metrics import precision_score\n",
    "from sklearn.metrics import recall_score\n",
    "from sklearn.metrics import f1_score\n",
    "from sklearn.metrics import accuracy_score"
   ]
  },
  {
   "cell_type": "code",
   "execution_count": null,
   "metadata": {
    "colab": {
     "base_uri": "https://localhost:8080/",
     "height": 1000
    },
    "colab_type": "code",
    "id": "iIyUM8n_XceF",
    "outputId": "818d760e-d242-40ea-bc44-6fea5f1193e8"
   },
   "outputs": [],
   "source": [
    "scores=[]\n",
    "accuracy = []\n",
    "metrics_acc = []\n",
    "metrics_precision = []\n",
    "metrics_recall = []\n",
    "metrics_f1 = []\n",
    "tp = []\n",
    "tn = []\n",
    "fp = []\n",
    "fn = []\n",
    "pmacro = []\n",
    "pmicro = []\n",
    "pbinary = []\n",
    "rmacro = []\n",
    "rmicro = []\n",
    "rbi = []\n",
    "a = []\n",
    "f = []\n",
    "\n",
    "tprs = []\n",
    "aucs = []\n",
    "mean_fpr = np.linspace(0, 1, 100)\n",
    "fig, ax = plt.subplots()\n",
    "\n",
    "\n",
    "for i, (train, test) in enumerate(folds.split(X, y)):\n",
    "    #X_train,X_test = X.iloc[training_index], X[testing_index]\n",
    "    #y_train,y_test = y[training_index], y[testing_index]\n",
    "    #standardization\n",
    "    sc_X = StandardScaler() \n",
    "    X[train] = sc_X.fit_transform(X[train]) \n",
    "    X[test] = sc_X.transform(X[test])\n",
    "\n",
    "    classifier.fit(X[train], y[train])\n",
    "    viz = metrics.plot_roc_curve(classifier, X[test], y[test],\n",
    "                             name='ROC fold {}'.format(i),\n",
    "                             alpha=0.3, lw=1, ax=ax)\n",
    "    interp_tpr = interp(mean_fpr, viz.fpr, viz.tpr)\n",
    "    interp_tpr[0] = 0.0\n",
    "    tprs.append(interp_tpr)\n",
    "    aucs.append(viz.roc_auc)\n",
    "    \n",
    "    y_pred = classifier.predict(X[test])\n",
    "\n",
    "    y2 = np.zeros((len(test),n_classes))\n",
    "    for i in range(len(test)):\n",
    "        if (y_pred[i] == 1):\n",
    "            y2[i,1] = 1\n",
    "        elif (y_pred[i] == 0):\n",
    "            y2[i,0] = 1\n",
    "            \n",
    "\n",
    "    fpr = dict()\n",
    "    tpr = dict()\n",
    "    roc_auc = dict()\n",
    "    for i in range(n_classes):\n",
    "        fpr[i], tpr[i], _ = roc_curve(y1[test, i], y2[:, i])\n",
    "        roc_auc[i] = auc(fpr[i], tpr[i])\n",
    "\n",
    "    # Compute micro-average ROC curve and ROC area\n",
    "    fpr[\"micro\"], tpr[\"micro\"], _ = roc_curve(y1[test].ravel(), y2.ravel())\n",
    "    roc_auc[\"micro\"] = auc(fpr[\"micro\"], tpr[\"micro\"])\n",
    "\n",
    "    # First aggregate all false positive rates\n",
    "    all_fpr = np.unique(np.concatenate([fpr[i] for i in range(n_classes)]))\n",
    "\n",
    "    # Then interpolate all ROC curves at this points\n",
    "    mean_tpr = np.zeros_like(all_fpr)\n",
    "    for i in range(n_classes):\n",
    "        mean_tpr += interp(all_fpr, fpr[i], tpr[i])\n",
    "\n",
    "    # Finally average it and compute AUC\n",
    "    mean_tpr /= n_classes\n",
    "    lw = 2\n",
    "    fpr[\"macro\"] = all_fpr\n",
    "    tpr[\"macro\"] = mean_tpr\n",
    "    roc_auc[\"macro\"] = auc(fpr[\"macro\"], tpr[\"macro\"])\n",
    "\n",
    "    # Plot all ROC curves\n",
    "    plt.figure()\n",
    "    plt.plot(fpr[\"micro\"], tpr[\"micro\"],\n",
    "            label='micro-average ROC curve (area = {0:0.2f})'\n",
    "                  ''.format(roc_auc[\"micro\"]),\n",
    "            color='deeppink', linestyle=':', linewidth=4)\n",
    "\n",
    "    plt.plot([0, 1], [0, 1], 'k--', lw=lw)\n",
    "    plt.xlim([0.0, 1.0])\n",
    "    plt.ylim([0.0, 1.05])\n",
    "    plt.xlabel('False Positive Rate')\n",
    "    plt.ylabel('True Positive Rate')\n",
    "    plt.title('Receiver operating characteristic')\n",
    "    plt.legend(loc=\"lower right\")\n",
    "    plt.show()\n",
    "  \n",
    "    \n",
    "    \n",
    "    \n",
    "    conf_mat = confusion_matrix(y[test], y_pred)\n",
    "    print (conf_mat)\n",
    "    p = precision_score(y[test], y_pred, average='binary')\n",
    "    print('Precision binary: %.3f' % p)\n",
    "    pbinary.append(p)\n",
    "    p1 = precision_score(y[test], y_pred, average='micro')\n",
    "    print('Precision micro: %.3f' % p1)\n",
    "    pmicro.append(p1)\n",
    "    p2 = precision_score(y[test], y_pred, average='macro')\n",
    "    print('Precision macro: %.3f' % p2)\n",
    "    pmacro.append(p2)\n",
    "    r = recall_score(y[test], y_pred, average='binary')\n",
    "    print('Recall binary: %.3f' % r)\n",
    "    rbi.append(r)\n",
    "    r1 = recall_score(y[test], y_pred, average='micro')\n",
    "    print('Recall micro: %.3f' % r1)\n",
    "    rmicro.append(r1)\n",
    "    r2 = recall_score(y[test], y_pred, average='macro')\n",
    "    print('Recall macro: %.3f' % r2)\n",
    "    rmacro.append(r2)\n",
    "    s = f1_score(y[test], y_pred, average='binary')\n",
    "    print('F-Measure: %.3f' % s)\n",
    "    f.append(s)\n",
    "\n",
    "    ac = accuracy_score(y[test], y_pred)\n",
    "    a.append(ac)\n",
    "    \n",
    "\n",
    "    print(accuracy_score(y[test], y_pred))\n",
    "\n",
    "\n",
    "\n",
    "\n",
    "    TP = np.diag(conf_mat)\n",
    "    print(TP)\n",
    "    FP = np.sum(conf_mat, axis=0) - TP\n",
    "    print(FP)\n",
    "    FN = np.sum(conf_mat, axis=1) - TP\n",
    "    print(FN)\n",
    "    num_classes = 2\n",
    "    TN = []\n",
    "    for i in range(num_classes):\n",
    "        temp = np.delete(conf_mat, i, 0)    # delete ith row\n",
    "        temp = np.delete(temp, i, 1)  # delete ith column\n",
    "        TN.append(sum(sum(temp)))\n",
    "    print(TN)\n",
    "    \n",
    "    acc = (TP+TN)/(TP+TN+FP+FN)\n",
    "    precision = TP/(TP+FP)\n",
    "    recall = TP/(TP+FN)\n",
    "    print(\"Accuracy: \", acc)\n",
    "    \n",
    "    print(\"precision: \", precision)\n",
    "    \n",
    "    print(\"recall: \", recall)\n",
    "    F1 = 2 * ((precision * recall)/(precision + recall))\n",
    "    print (\"F1 measure: \", F1)\n",
    "    \n",
    "    tp.append(TP)\n",
    "    tn.append(TN)\n",
    "    fp.append(FP)\n",
    "    fn.append(FN)\n",
    "    \n",
    "    \n",
    "    metrics_acc.append(acc)\n",
    "    metrics_precision.append(precision)\n",
    "    metrics_recall.append(recall)\n",
    "    metrics_f1.append(F1)\n",
    "\n",
    "ax.plot([0, 1], [0, 1], linestyle='--', lw=2, color='r',\n",
    "            label='Chance', alpha=.8)\n",
    "\n",
    "mean_tpr = np.mean(tprs, axis=0)\n",
    "mean_tpr[-1] = 1.0\n",
    "mean_auc = auc(mean_fpr, mean_tpr)\n",
    "std_auc = np.std(aucs)\n",
    "ax.plot(mean_fpr, mean_tpr, color='b',\n",
    "        label=r'Mean ROC (AUC = %0.2f $\\pm$ %0.2f)' % (mean_auc, std_auc),\n",
    "        lw=2, alpha=.8)\n",
    "\n",
    "std_tpr = np.std(tprs, axis=0)\n",
    "tprs_upper = np.minimum(mean_tpr + std_tpr, 1)\n",
    "tprs_lower = np.maximum(mean_tpr - std_tpr, 0)\n",
    "ax.fill_between(mean_fpr, tprs_lower, tprs_upper, color='grey', alpha=.2,\n",
    "                label=r'$\\pm$ 1 std. dev.')\n",
    "\n",
    "ax.set(xlim=[-0.05, 1.05], ylim=[-0.05, 1.05],\n",
    "       title=\"Receiver operating characteristic example\")\n",
    "ax.legend(loc=\"lower right\")\n",
    "plt.show()\n",
    "\n",
    "\n",
    "    "
   ]
  },
  {
   "cell_type": "code",
   "execution_count": null,
   "metadata": {
    "colab": {
     "base_uri": "https://localhost:8080/",
     "height": 151
    },
    "colab_type": "code",
    "id": "3yTcHBp4XceH",
    "outputId": "03cb7a82-24c5-4974-f6b6-df3943b71ecf"
   },
   "outputs": [],
   "source": [
    "print(\"precision macro: \", np.array(pmacro).mean())\n",
    "print(\"precision micro: \", np.array(pmicro).mean())\n",
    "print(\"precision binary macro: \", np.array(pbinary).mean())\n",
    "print(\"accuracy: \", np.array(a).mean())\n",
    "print(\"recall macro: \", np.array(rmacro).mean())\n",
    "print(\"recall micro: \", np.array(rmicro).mean())\n",
    "print(\"recall binary macro: \", np.array(rbi).mean())\n",
    "print(\"f1: \", np.array(f).mean())"
   ]
  },
  {
   "cell_type": "code",
   "execution_count": null,
   "metadata": {
    "colab": {},
    "colab_type": "code",
    "id": "iuBsbB0QXceK"
   },
   "outputs": [],
   "source": [
    "import numpy\n",
    "numpy.savetxt(\"/content/drive/My Drive/german_svm_fpr_mean.csv\", mean_fpr, delimiter=\",\")\n",
    "numpy.savetxt(\"/content/drive/My Drive/german_svm_tpr_mean.csv\", mean_tpr, delimiter=\",\")\n",
    "\n",
    "df_mean_fpr = pd.DataFrame(mean_fpr)\n",
    "df_mean_fpr.to_csv('/content/drive/My Drive/df_mean_fpr_svm.csv')\n",
    "df_mean_tpr = pd.DataFrame(mean_tpr)\n",
    "df_mean_tpr.to_csv('/content/drive/My Drive/df_mean_tpr_svm.csv')"
   ]
  },
  {
   "cell_type": "code",
   "execution_count": null,
   "metadata": {
    "colab": {},
    "colab_type": "code",
    "id": "WUTv1mwqXceU"
   },
   "outputs": [],
   "source": [
    "#micro-average classwise\n",
    "micro_precision_group_0 = (tp[0][0] + tp[1][0] + tp[2][0] + tp[3][0] + tp[4][0])/(tp[0][0] + tp[1][0] + tp[2][0] + tp[3][0] + \n",
    "                           tp[4][0] + fp[0][0] + fp[1][0] + fp[2][0] + fp[3][0] + fp[4][0])\n",
    "\n",
    "micro_precision_group_1 = (tp[0][1] + tp[1][1] + tp[2][1] + tp[3][1] + tp[4][1])/(tp[0][1] + tp[1][1] + tp[2][1] + tp[3][1] + \n",
    "                           tp[4][1] + fp[0][1] + fp[1][1] + fp[2][1] + fp[3][1] + fp[4][1])\n",
    "\n",
    "#micro_precision_group_2 = (tp[0][2] + tp[1][2] + tp[2][2] + tp[3][2] + tp[4][2])/(tp[0][2] + tp[1][2] + tp[2][2] + tp[3][2] + \n",
    "#                           tp[4][2] + fp[0][2] + fp[1][2] + fp[2][2] + fp[3][2] + fp[4][2])\n",
    "\n",
    "#micro_precision_group_3 = (tp[0][3] + tp[1][3] + tp[2][3] + tp[3][3] + tp[4][3])/(tp[0][3] + tp[1][3] + tp[2][3] + tp[3][3] + \n",
    "#                           tp[4][3] + fp[0][3] + fp[1][3] + fp[2][3] + fp[3][3] + fp[4][3])\n",
    "\n",
    "micro_recall_group_0 = (tp[0][0] + tp[1][0] + tp[2][0] + tp[3][0] + tp[4][0])/(tp[0][0] + tp[1][0] \n",
    "                        + tp[2][0] + tp[3][0] + tp[4][0] + fn[0][0] + fn[1][0] + fn[2][0] + fn[3][0] + fn[4][0])\n",
    "\n",
    "micro_recall_group_1 = (tp[0][1] + tp[1][1] + tp[2][1] + tp[3][1] + tp[4][1])/(tp[0][1] + tp[1][1] \n",
    "                        + tp[2][1] + tp[3][1] + tp[4][1] + fn[0][1] + fn[1][1] + fn[2][1] + fn[3][1] + fn[4][1])\n",
    "\n",
    "#micro_recall_group_2 = (tp[0][2] + tp[1][2] + tp[2][2] + tp[3][2] + tp[4][2])/(tp[0][2] + tp[1][2] \n",
    "#                        + tp[2][2] + tp[3][2] + tp[4][2] + fn[0][2] + fn[1][2] + fn[2][2] + fn[3][2] + fn[4][2])\n",
    "\n",
    "#micro_recall_group_3 = (tp[0][3] + tp[1][3] + tp[2][3] + tp[3][3] + tp[4][3])/(tp[0][3] + tp[1][3] \n",
    "#                        + tp[2][3] + tp[3][3] + tp[4][3] + fn[0][3] + fn[1][3] + fn[2][3] + fn[3][3] + fn[4][3])"
   ]
  },
  {
   "cell_type": "code",
   "execution_count": null,
   "metadata": {
    "colab": {
     "base_uri": "https://localhost:8080/",
     "height": 84
    },
    "colab_type": "code",
    "id": "amefM35jXcea",
    "outputId": "cff5c98a-f3e1-442d-a57e-f2ae917dfe86"
   },
   "outputs": [],
   "source": [
    "print(micro_recall_group_0)\n",
    "print(micro_recall_group_1)\n",
    "#print(micro_recall_group_2)\n",
    "#print(micro_recall_group_3)\n",
    "print(micro_precision_group_0)\n",
    "print(micro_precision_group_1)\n",
    "#print(micro_precision_group_2)\n",
    "#print(micro_precision_group_3)"
   ]
  },
  {
   "cell_type": "code",
   "execution_count": null,
   "metadata": {
    "colab": {},
    "colab_type": "code",
    "id": "E9VORUq5Xcef"
   },
   "outputs": [],
   "source": [
    "micro_precision = []\n",
    "micro_precision.append(micro_precision_group_0)\n",
    "micro_precision.append(micro_precision_group_1)\n",
    "#micro_precision.append(micro_precision_group_2)\n",
    "#micro_precision.append(micro_precision_group_3)\n",
    "\n",
    "micro_recall = []\n",
    "micro_recall.append(micro_recall_group_0)\n",
    "micro_recall.append(micro_recall_group_1)\n",
    "#micro_recall.append(micro_recall_group_2)\n",
    "#micro_recall.append(micro_recall_group_3)"
   ]
  },
  {
   "cell_type": "code",
   "execution_count": null,
   "metadata": {
    "colab": {},
    "colab_type": "code",
    "id": "oEVMFT45Xcep"
   },
   "outputs": [],
   "source": [
    " mirco_f1_group = []\n",
    "\n",
    "mirco_f1_group.append(2 * ((micro_precision_group_0 * micro_recall_group_0)/(micro_precision_group_0 \n",
    "                                                                                 + micro_recall_group_0)))\n",
    "mirco_f1_group.append(2 * ((micro_precision_group_1 * micro_recall_group_1)/(micro_precision_group_1 \n",
    "                                                                                 + micro_recall_group_1)))\n",
    "#mirco_f1_group.append(2 * ((micro_precision_group_2 * micro_recall_group_2)/(micro_precision_group_2 \n",
    "                                              #                                   + micro_recall_group_2)))\n",
    "#mirco_f1_group.append(2 * ((micro_precision_group_3 * micro_recall_group_3)/(micro_precision_group_3 \n",
    "                                               #                                  + micro_recall_group_3)))\n",
    "\n",
    "#f1_score = 2 * ((micro_precision * micro_recall)/(micro_precision + micro_recall))"
   ]
  },
  {
   "cell_type": "code",
   "execution_count": null,
   "metadata": {
    "colab": {
     "base_uri": "https://localhost:8080/",
     "height": 67
    },
    "colab_type": "code",
    "id": "wJnuYNKZXcet",
    "outputId": "39b626c4-646c-4ad1-f8d0-d079f0838c24"
   },
   "outputs": [],
   "source": [
    "print(micro_precision)\n",
    "print(micro_recall)\n",
    "print(mirco_f1_group)"
   ]
  },
  {
   "cell_type": "code",
   "execution_count": null,
   "metadata": {
    "colab": {},
    "colab_type": "code",
    "id": "MLMmT1mlXcew"
   },
   "outputs": [],
   "source": [
    "# mean accuracy classwise\n",
    "mean_accuracy = []\n",
    "for i in range(0, 2):\n",
    "    a = []\n",
    "    for j in range(0, 5): #row\n",
    "        a.append(metrics_acc[j][i])\n",
    "        n = np.array(a)\n",
    "    mean_accuracy.append(n.mean())"
   ]
  },
  {
   "cell_type": "code",
   "execution_count": null,
   "metadata": {
    "colab": {
     "base_uri": "https://localhost:8080/",
     "height": 34
    },
    "colab_type": "code",
    "id": "L-RkuEO-Xcez",
    "outputId": "7aec9bcf-6d9d-4b8f-a896-c52b86cdac99"
   },
   "outputs": [],
   "source": [
    "mean_accuracy"
   ]
  }
 ],
 "metadata": {
  "colab": {
   "name": "twitter_charlie_SVM-Copy1.ipynb",
   "provenance": [],
   "toc_visible": true
  },
  "kernelspec": {
   "display_name": "Python 3",
   "language": "python",
   "name": "python3"
  },
  "language_info": {
   "codemirror_mode": {
    "name": "ipython",
    "version": 3
   },
   "file_extension": ".py",
   "mimetype": "text/x-python",
   "name": "python",
   "nbconvert_exporter": "python",
   "pygments_lexer": "ipython3",
   "version": "3.8.10"
  }
 },
 "nbformat": 4,
 "nbformat_minor": 1
}
