{
 "cells": [
  {
   "cell_type": "code",
   "execution_count": null,
   "metadata": {},
   "outputs": [],
   "source": [
    "import numpy as np\n",
    "import pandas as pd\n",
    "# to display full text\n",
    "pd.set_option('display.max_colwidth', -1)\n",
    "import seaborn as sns\n",
    "import matplotlib.pyplot as plt\n",
    "fig, ax = plt.subplots()"
   ]
  },
  {
   "cell_type": "code",
   "execution_count": null,
   "metadata": {},
   "outputs": [],
   "source": [
    "#accuracy\n",
    "from matplotlib.backends.backend_pdf import PdfPages\n",
    "\n",
    "#SVM, LSTM, GCN\n",
    "acc = [[0.639, 0.678, 0.642, 0.653, 0.648],\n",
    "[0.594, 0.588, 0.586, 0.577, 0.579],\n",
    "[0.617, 0.714, 0.70, 0.742, 0.751]]\n",
    "X = np.arange(1, 6)\n",
    "with PdfPages('sydney_accuracy_plot.pdf') as pdf:\n",
    "    fig = plt.figure()\n",
    "    ax = fig.add_axes([0,0,0.4,0.4])\n",
    "    ax.set_ylim([0,0.8])\n",
    "    ax.set_xlabel('Fold', fontsize = 15)\n",
    "    ax.set_ylabel('Accuracy', fontsize = 15)\n",
    "    ax.bar(X + 0.00, acc[0], color = 'grey', width = 0.1)\n",
    "    ax.bar(X + 0.1, acc[1], color = 'orange', width = 0.1)\n",
    "    ax.bar(X + 0.2, acc[2], color = 'darkred', width = 0.1)\n",
    "    ax.legend(loc=4, labels=['SVM', 'LSTM', 'GCN'], fontsize = 8)\n",
    "    #ax.margins(x=0)\n",
    "    pdf.savefig() "
   ]
  },
  {
   "cell_type": "code",
   "execution_count": null,
   "metadata": {},
   "outputs": [],
   "source": [
    "#Precision\n",
    "from matplotlib.backends.backend_pdf import PdfPages\n",
    "\n",
    "#SVM, LSTM, GCN\n",
    "p = [[0.613, 0.611, 0.582, 0.602, 0.584],\n",
    "[0.563, 0.552, 0.554, 0.536, 0.54],\n",
    "[0.556, 0.669, 0.676, 0.717, 0.729]]\n",
    "X = np.arange(1, 6)\n",
    "with PdfPages('sydney_precision_plot.pdf') as pdf:\n",
    "    fig = plt.figure()\n",
    "    ax = fig.add_axes([0,0,0.4,0.4])\n",
    "    ax.set_ylim([0,0.8])\n",
    "    ax.set_xlabel('Fold', fontsize = 15)\n",
    "    ax.set_ylabel('Precision', fontsize = 15)\n",
    "    ax.bar(X + 0.00, acc[0], color = 'grey', width = 0.1)\n",
    "    ax.bar(X + 0.1, acc[1], color = 'orange', width = 0.1)\n",
    "    ax.bar(X + 0.2, acc[2], color = 'darkred', width = 0.1)\n",
    "    ax.legend(loc=4, labels=['SVM', 'LSTM', 'GCN'], fontsize = 8)\n",
    "    pdf.savefig() "
   ]
  },
  {
   "cell_type": "code",
   "execution_count": null,
   "metadata": {},
   "outputs": [],
   "source": [
    "#Recall\n",
    "from matplotlib.backends.backend_pdf import PdfPages\n",
    "\n",
    "#SVM, LSTM, GCN\n",
    "r = [[0.522, 0.525, 0.514, 0.517, 0.519],\n",
    "[0.562, 0.556, 0.554, 0.536, 0.541],\n",
    "[0.55, 0.646, 0.675, 0.709, 0.715]]\n",
    "X = np.arange(1, 6)\n",
    "with PdfPages('sydney_recall_plot.pdf') as pdf:\n",
    "    fig = plt.figure()\n",
    "    ax = fig.add_axes([0,0,0.4,0.4])\n",
    "    ax.set_ylim([0,0.8])\n",
    "    ax.set_xlabel('Fold', fontsize = 15)\n",
    "    ax.set_ylabel('Recall', fontsize = 15)\n",
    "    ax.bar(X + 0.00, acc[0], color = 'grey', width = 0.1)\n",
    "    ax.bar(X + 0.1, acc[1], color = 'orange', width = 0.1)\n",
    "    ax.bar(X + 0.2, acc[2], color = 'darkred', width = 0.1)\n",
    "    ax.legend(loc=4, labels=['SVM', 'LSTM', 'GCN'], fontsize = 8)\n",
    "    pdf.savefig() "
   ]
  },
  {
   "cell_type": "code",
   "execution_count": null,
   "metadata": {},
   "outputs": [],
   "source": [
    "#F measure\n",
    "from matplotlib.backends.backend_pdf import PdfPages\n",
    "\n",
    "#SVM, LSTM, GCN\n",
    "f = [[0.772, 0.801, 0.777, 0.785, 0.779],\n",
    "[0.681, 0.68, 0.674, 0.675, 0.674],\n",
    "[0.727, 0.799, 0.769, 0.806, 0.814]]\n",
    "X = np.arange(1, 6)\n",
    "with PdfPages('sydney_f_plot.pdf') as pdf:\n",
    "    fig = plt.figure()\n",
    "    ax = fig.add_axes([0,0,0.4,0.4])\n",
    "    ax.set_ylim([0,0.8])\n",
    "    ax.set_xlabel('Fold', fontsize = 15)\n",
    "    ax.set_ylabel('F1 Score', fontsize = 15)\n",
    "    ax.bar(X + 0.00, acc[0], color = 'grey', width = 0.1)\n",
    "    ax.bar(X + 0.1, acc[1], color = 'orange', width = 0.1)\n",
    "    ax.bar(X + 0.2, acc[2], color = 'darkred', width = 0.1)\n",
    "    ax.legend(loc=4, labels=['SVM', 'LSTM', 'GCN'], fontsize = 8)\n",
    "    pdf.savefig() "
   ]
  },
  {
   "cell_type": "code",
   "execution_count": null,
   "metadata": {},
   "outputs": [],
   "source": [
    "#AUC\n",
    "from matplotlib.backends.backend_pdf import PdfPages\n",
    "\n",
    "#SVM, LSTM, GCN\n",
    "auc = [[0.64, 0.68, 0.64, 0.65, 0.65],\n",
    "[0.59, 0.59, 0.59, 0.58, 0.58],\n",
    "[0.62, 0.71, 0.70, 0.74, 0.75]]\n",
    "X = np.arange(1, 6)\n",
    "with PdfPages('sydney_auc.pdf') as pdf:\n",
    "    fig = plt.figure()\n",
    "    ax = fig.add_axes([0,0,0.4,0.4])\n",
    "    ax.set_ylim([0,0.8])\n",
    "    ax.set_xlabel('Fold', fontsize = 15)\n",
    "    ax.set_ylabel('AUC', fontsize = 15)\n",
    "    ax.bar(X + 0.00, acc[0], color = 'grey', width = 0.1)\n",
    "    ax.bar(X + 0.1, acc[1], color = 'orange', width = 0.1)\n",
    "    ax.bar(X + 0.2, acc[2], color = 'darkred', width = 0.1)\n",
    "    ax.legend(loc=4, labels=['SVM', 'LSTM', 'GCN'], fontsize = 8)\n",
    "    pdf.savefig() "
   ]
  },
  {
   "cell_type": "code",
   "execution_count": null,
   "metadata": {},
   "outputs": [],
   "source": []
  }
 ],
 "metadata": {
  "kernelspec": {
   "display_name": "Python 3",
   "language": "python",
   "name": "python3"
  },
  "language_info": {
   "codemirror_mode": {
    "name": "ipython",
    "version": 3
   },
   "file_extension": ".py",
   "mimetype": "text/x-python",
   "name": "python",
   "nbconvert_exporter": "python",
   "pygments_lexer": "ipython3",
   "version": "3.8.10"
  }
 },
 "nbformat": 4,
 "nbformat_minor": 2
}
