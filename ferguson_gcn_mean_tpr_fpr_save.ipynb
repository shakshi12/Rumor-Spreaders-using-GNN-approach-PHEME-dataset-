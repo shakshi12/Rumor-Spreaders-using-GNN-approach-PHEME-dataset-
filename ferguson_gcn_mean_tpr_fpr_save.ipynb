{
  "nbformat": 4,
  "nbformat_minor": 0,
  "metadata": {
    "colab": {
      "name": "ferguson gcn mean tpr fpr save.ipynb",
      "provenance": [],
      "collapsed_sections": []
    },
    "kernelspec": {
      "display_name": "Python 3",
      "language": "python",
      "name": "python3"
    },
    "language_info": {
      "codemirror_mode": {
        "name": "ipython",
        "version": 3
      },
      "file_extension": ".py",
      "mimetype": "text/x-python",
      "name": "python",
      "nbconvert_exporter": "python",
      "pygments_lexer": "ipython3",
      "version": "3.6.8"
    }
  },
  "cells": [
    {
      "cell_type": "code",
      "metadata": {
        "colab_type": "code",
        "id": "fgVJT7PRV0UR",
        "outputId": "e8ba190f-565e-463b-c53b-48df27d32569",
        "colab": {
          "base_uri": "https://localhost:8080/",
          "height": 672
        }
      },
      "source": [
        "!sudo apt install graphviz libgraphviz-dev libcgraph6"
      ],
      "execution_count": 1,
      "outputs": [
        {
          "output_type": "stream",
          "text": [
            "Reading package lists... Done\n",
            "Building dependency tree       \n",
            "Reading state information... Done\n",
            "graphviz is already the newest version (2.40.1-2).\n",
            "libcgraph6 is already the newest version (2.40.1-2).\n",
            "libcgraph6 set to manually installed.\n",
            "The following NEW packages will be installed:\n",
            "  libgraphviz-dev libgvc6-plugins-gtk libxdot4\n",
            "0 upgraded, 3 newly installed, 0 to remove and 29 not upgraded.\n",
            "Need to get 91.3 kB of archives.\n",
            "After this operation, 425 kB of additional disk space will be used.\n",
            "Get:1 http://archive.ubuntu.com/ubuntu bionic/universe amd64 libxdot4 amd64 2.40.1-2 [15.7 kB]\n",
            "Get:2 http://archive.ubuntu.com/ubuntu bionic/universe amd64 libgvc6-plugins-gtk amd64 2.40.1-2 [18.2 kB]\n",
            "Get:3 http://archive.ubuntu.com/ubuntu bionic/universe amd64 libgraphviz-dev amd64 2.40.1-2 [57.3 kB]\n",
            "Fetched 91.3 kB in 1s (174 kB/s)\n",
            "debconf: unable to initialize frontend: Dialog\n",
            "debconf: (No usable dialog-like program is installed, so the dialog based frontend cannot be used. at /usr/share/perl5/Debconf/FrontEnd/Dialog.pm line 76, <> line 3.)\n",
            "debconf: falling back to frontend: Readline\n",
            "debconf: unable to initialize frontend: Readline\n",
            "debconf: (This frontend requires a controlling tty.)\n",
            "debconf: falling back to frontend: Teletype\n",
            "dpkg-preconfigure: unable to re-open stdin: \n",
            "Selecting previously unselected package libxdot4.\n",
            "(Reading database ... 144429 files and directories currently installed.)\n",
            "Preparing to unpack .../libxdot4_2.40.1-2_amd64.deb ...\n",
            "Unpacking libxdot4 (2.40.1-2) ...\n",
            "Selecting previously unselected package libgvc6-plugins-gtk.\n",
            "Preparing to unpack .../libgvc6-plugins-gtk_2.40.1-2_amd64.deb ...\n",
            "Unpacking libgvc6-plugins-gtk (2.40.1-2) ...\n",
            "Selecting previously unselected package libgraphviz-dev.\n",
            "Preparing to unpack .../libgraphviz-dev_2.40.1-2_amd64.deb ...\n",
            "Unpacking libgraphviz-dev (2.40.1-2) ...\n",
            "Setting up libxdot4 (2.40.1-2) ...\n",
            "Setting up libgvc6-plugins-gtk (2.40.1-2) ...\n",
            "Setting up libgraphviz-dev (2.40.1-2) ...\n",
            "Processing triggers for man-db (2.8.3-2ubuntu0.1) ...\n",
            "Processing triggers for libc-bin (2.27-3ubuntu1) ...\n",
            "/sbin/ldconfig.real: /usr/local/lib/python3.6/dist-packages/ideep4py/lib/libmkldnn.so.0 is not a symbolic link\n",
            "\n"
          ],
          "name": "stdout"
        }
      ]
    },
    {
      "cell_type": "code",
      "metadata": {
        "colab_type": "code",
        "id": "3vRQG-yaV3Qz",
        "outputId": "2374dcc5-5a80-4264-fc74-5ab491d49d39",
        "colab": {
          "base_uri": "https://localhost:8080/",
          "height": 843
        }
      },
      "source": [
        "!pip install spektral"
      ],
      "execution_count": 2,
      "outputs": [
        {
          "output_type": "stream",
          "text": [
            "Collecting spektral\n",
            "\u001b[?25l  Downloading https://files.pythonhosted.org/packages/28/d6/e0ec6c6eff220ba89ec189043dd37012014d7b54b86750677859c8a3cab0/spektral-0.5.1-py3-none-any.whl (93kB)\n",
            "\r\u001b[K     |███▌                            | 10kB 15.3MB/s eta 0:00:01\r\u001b[K     |███████                         | 20kB 1.9MB/s eta 0:00:01\r\u001b[K     |██████████▋                     | 30kB 2.4MB/s eta 0:00:01\r\u001b[K     |██████████████                  | 40kB 2.7MB/s eta 0:00:01\r\u001b[K     |█████████████████▋              | 51kB 2.1MB/s eta 0:00:01\r\u001b[K     |█████████████████████▏          | 61kB 2.3MB/s eta 0:00:01\r\u001b[K     |████████████████████████▋       | 71kB 2.6MB/s eta 0:00:01\r\u001b[K     |████████████████████████████▏   | 81kB 2.8MB/s eta 0:00:01\r\u001b[K     |███████████████████████████████▊| 92kB 3.0MB/s eta 0:00:01\r\u001b[K     |████████████████████████████████| 102kB 2.6MB/s \n",
            "\u001b[?25hRequirement already satisfied: tensorflow>=2.1.0 in /usr/local/lib/python3.6/dist-packages (from spektral) (2.2.0rc4)\n",
            "Requirement already satisfied: requests in /usr/local/lib/python3.6/dist-packages (from spektral) (2.23.0)\n",
            "Requirement already satisfied: joblib in /usr/local/lib/python3.6/dist-packages (from spektral) (0.14.1)\n",
            "Requirement already satisfied: lxml in /usr/local/lib/python3.6/dist-packages (from spektral) (4.2.6)\n",
            "Requirement already satisfied: scikit-learn in /usr/local/lib/python3.6/dist-packages (from spektral) (0.22.2.post1)\n",
            "Requirement already satisfied: pandas in /usr/local/lib/python3.6/dist-packages (from spektral) (1.0.3)\n",
            "Requirement already satisfied: networkx in /usr/local/lib/python3.6/dist-packages (from spektral) (2.4)\n",
            "Requirement already satisfied: numpy in /usr/local/lib/python3.6/dist-packages (from spektral) (1.18.4)\n",
            "Requirement already satisfied: scipy in /usr/local/lib/python3.6/dist-packages (from spektral) (1.4.1)\n",
            "Requirement already satisfied: termcolor>=1.1.0 in /usr/local/lib/python3.6/dist-packages (from tensorflow>=2.1.0->spektral) (1.1.0)\n",
            "Requirement already satisfied: astunparse==1.6.3 in /usr/local/lib/python3.6/dist-packages (from tensorflow>=2.1.0->spektral) (1.6.3)\n",
            "Requirement already satisfied: six>=1.12.0 in /usr/local/lib/python3.6/dist-packages (from tensorflow>=2.1.0->spektral) (1.12.0)\n",
            "Requirement already satisfied: gast==0.3.3 in /usr/local/lib/python3.6/dist-packages (from tensorflow>=2.1.0->spektral) (0.3.3)\n",
            "Requirement already satisfied: wheel>=0.26; python_version >= \"3\" in /usr/local/lib/python3.6/dist-packages (from tensorflow>=2.1.0->spektral) (0.34.2)\n",
            "Requirement already satisfied: h5py<2.11.0,>=2.10.0 in /usr/local/lib/python3.6/dist-packages (from tensorflow>=2.1.0->spektral) (2.10.0)\n",
            "Requirement already satisfied: keras-preprocessing>=1.1.0 in /usr/local/lib/python3.6/dist-packages (from tensorflow>=2.1.0->spektral) (1.1.0)\n",
            "Requirement already satisfied: opt-einsum>=2.3.2 in /usr/local/lib/python3.6/dist-packages (from tensorflow>=2.1.0->spektral) (3.2.1)\n",
            "Requirement already satisfied: wrapt>=1.11.1 in /usr/local/lib/python3.6/dist-packages (from tensorflow>=2.1.0->spektral) (1.12.1)\n",
            "Requirement already satisfied: grpcio>=1.8.6 in /usr/local/lib/python3.6/dist-packages (from tensorflow>=2.1.0->spektral) (1.28.1)\n",
            "Requirement already satisfied: tensorflow-estimator<2.3.0,>=2.2.0 in /usr/local/lib/python3.6/dist-packages (from tensorflow>=2.1.0->spektral) (2.2.0)\n",
            "Requirement already satisfied: tensorboard<2.3.0,>=2.2.0 in /usr/local/lib/python3.6/dist-packages (from tensorflow>=2.1.0->spektral) (2.2.1)\n",
            "Requirement already satisfied: protobuf>=3.8.0 in /usr/local/lib/python3.6/dist-packages (from tensorflow>=2.1.0->spektral) (3.10.0)\n",
            "Requirement already satisfied: google-pasta>=0.1.8 in /usr/local/lib/python3.6/dist-packages (from tensorflow>=2.1.0->spektral) (0.2.0)\n",
            "Requirement already satisfied: absl-py>=0.7.0 in /usr/local/lib/python3.6/dist-packages (from tensorflow>=2.1.0->spektral) (0.9.0)\n",
            "Requirement already satisfied: chardet<4,>=3.0.2 in /usr/local/lib/python3.6/dist-packages (from requests->spektral) (3.0.4)\n",
            "Requirement already satisfied: idna<3,>=2.5 in /usr/local/lib/python3.6/dist-packages (from requests->spektral) (2.9)\n",
            "Requirement already satisfied: certifi>=2017.4.17 in /usr/local/lib/python3.6/dist-packages (from requests->spektral) (2020.4.5.1)\n",
            "Requirement already satisfied: urllib3!=1.25.0,!=1.25.1,<1.26,>=1.21.1 in /usr/local/lib/python3.6/dist-packages (from requests->spektral) (1.24.3)\n",
            "Requirement already satisfied: python-dateutil>=2.6.1 in /usr/local/lib/python3.6/dist-packages (from pandas->spektral) (2.8.1)\n",
            "Requirement already satisfied: pytz>=2017.2 in /usr/local/lib/python3.6/dist-packages (from pandas->spektral) (2018.9)\n",
            "Requirement already satisfied: decorator>=4.3.0 in /usr/local/lib/python3.6/dist-packages (from networkx->spektral) (4.4.2)\n",
            "Requirement already satisfied: google-auth-oauthlib<0.5,>=0.4.1 in /usr/local/lib/python3.6/dist-packages (from tensorboard<2.3.0,>=2.2.0->tensorflow>=2.1.0->spektral) (0.4.1)\n",
            "Requirement already satisfied: setuptools>=41.0.0 in /usr/local/lib/python3.6/dist-packages (from tensorboard<2.3.0,>=2.2.0->tensorflow>=2.1.0->spektral) (46.1.3)\n",
            "Requirement already satisfied: tensorboard-plugin-wit>=1.6.0 in /usr/local/lib/python3.6/dist-packages (from tensorboard<2.3.0,>=2.2.0->tensorflow>=2.1.0->spektral) (1.6.0.post3)\n",
            "Requirement already satisfied: werkzeug>=0.11.15 in /usr/local/lib/python3.6/dist-packages (from tensorboard<2.3.0,>=2.2.0->tensorflow>=2.1.0->spektral) (1.0.1)\n",
            "Requirement already satisfied: google-auth<2,>=1.6.3 in /usr/local/lib/python3.6/dist-packages (from tensorboard<2.3.0,>=2.2.0->tensorflow>=2.1.0->spektral) (1.7.2)\n",
            "Requirement already satisfied: markdown>=2.6.8 in /usr/local/lib/python3.6/dist-packages (from tensorboard<2.3.0,>=2.2.0->tensorflow>=2.1.0->spektral) (3.2.1)\n",
            "Requirement already satisfied: requests-oauthlib>=0.7.0 in /usr/local/lib/python3.6/dist-packages (from google-auth-oauthlib<0.5,>=0.4.1->tensorboard<2.3.0,>=2.2.0->tensorflow>=2.1.0->spektral) (1.3.0)\n",
            "Requirement already satisfied: pyasn1-modules>=0.2.1 in /usr/local/lib/python3.6/dist-packages (from google-auth<2,>=1.6.3->tensorboard<2.3.0,>=2.2.0->tensorflow>=2.1.0->spektral) (0.2.8)\n",
            "Requirement already satisfied: cachetools<3.2,>=2.0.0 in /usr/local/lib/python3.6/dist-packages (from google-auth<2,>=1.6.3->tensorboard<2.3.0,>=2.2.0->tensorflow>=2.1.0->spektral) (3.1.1)\n",
            "Requirement already satisfied: rsa<4.1,>=3.1.4 in /usr/local/lib/python3.6/dist-packages (from google-auth<2,>=1.6.3->tensorboard<2.3.0,>=2.2.0->tensorflow>=2.1.0->spektral) (4.0)\n",
            "Requirement already satisfied: oauthlib>=3.0.0 in /usr/local/lib/python3.6/dist-packages (from requests-oauthlib>=0.7.0->google-auth-oauthlib<0.5,>=0.4.1->tensorboard<2.3.0,>=2.2.0->tensorflow>=2.1.0->spektral) (3.1.0)\n",
            "Requirement already satisfied: pyasn1<0.5.0,>=0.4.6 in /usr/local/lib/python3.6/dist-packages (from pyasn1-modules>=0.2.1->google-auth<2,>=1.6.3->tensorboard<2.3.0,>=2.2.0->tensorflow>=2.1.0->spektral) (0.4.8)\n",
            "Installing collected packages: spektral\n",
            "Successfully installed spektral-0.5.1\n"
          ],
          "name": "stdout"
        }
      ]
    },
    {
      "cell_type": "code",
      "metadata": {
        "colab_type": "code",
        "id": "uAXc1JypWGlj",
        "outputId": "796d60ec-0503-4610-ec1b-755c2663f46f",
        "colab": {
          "base_uri": "https://localhost:8080/",
          "height": 134
        }
      },
      "source": [
        "!git clone https://github.com/danielegrattarola/spektral.git"
      ],
      "execution_count": 3,
      "outputs": [
        {
          "output_type": "stream",
          "text": [
            "Cloning into 'spektral'...\n",
            "remote: Enumerating objects: 289, done.\u001b[K\n",
            "remote: Counting objects:   0% (1/289)\u001b[K\rremote: Counting objects:   1% (3/289)\u001b[K\rremote: Counting objects:   2% (6/289)\u001b[K\rremote: Counting objects:   3% (9/289)\u001b[K\rremote: Counting objects:   4% (12/289)\u001b[K\rremote: Counting objects:   5% (15/289)\u001b[K\rremote: Counting objects:   6% (18/289)\u001b[K\rremote: Counting objects:   7% (21/289)\u001b[K\rremote: Counting objects:   8% (24/289)\u001b[K\rremote: Counting objects:   9% (27/289)\u001b[K\rremote: Counting objects:  10% (29/289)\u001b[K\rremote: Counting objects:  11% (32/289)\u001b[K\rremote: Counting objects:  12% (35/289)\u001b[K\rremote: Counting objects:  13% (38/289)\u001b[K\rremote: Counting objects:  14% (41/289)\u001b[K\rremote: Counting objects:  15% (44/289)\u001b[K\rremote: Counting objects:  16% (47/289)\u001b[K\rremote: Counting objects:  17% (50/289)\u001b[K\rremote: Counting objects:  18% (53/289)\u001b[K\rremote: Counting objects:  19% (55/289)\u001b[K\rremote: Counting objects:  20% (58/289)\u001b[K\rremote: Counting objects:  21% (61/289)\u001b[K\rremote: Counting objects:  22% (64/289)\u001b[K\rremote: Counting objects:  23% (67/289)\u001b[K\rremote: Counting objects:  24% (70/289)\u001b[K\rremote: Counting objects:  25% (73/289)\u001b[K\rremote: Counting objects:  26% (76/289)\u001b[K\rremote: Counting objects:  27% (79/289)\u001b[K\rremote: Counting objects:  28% (81/289)\u001b[K\rremote: Counting objects:  29% (84/289)\u001b[K\rremote: Counting objects:  30% (87/289)\u001b[K\rremote: Counting objects:  31% (90/289)\u001b[K\rremote: Counting objects:  32% (93/289)\u001b[K\rremote: Counting objects:  33% (96/289)\u001b[K\rremote: Counting objects:  34% (99/289)\u001b[K\rremote: Counting objects:  35% (102/289)\u001b[K\rremote: Counting objects:  36% (105/289)\u001b[K\rremote: Counting objects:  37% (107/289)\u001b[K\rremote: Counting objects:  38% (110/289)\u001b[K\rremote: Counting objects:  39% (113/289)\u001b[K\rremote: Counting objects:  40% (116/289)\u001b[K\rremote: Counting objects:  41% (119/289)\u001b[K\rremote: Counting objects:  42% (122/289)\u001b[K\rremote: Counting objects:  43% (125/289)\u001b[K\rremote: Counting objects:  44% (128/289)\u001b[K\rremote: Counting objects:  45% (131/289)\u001b[K\rremote: Counting objects:  46% (133/289)\u001b[K\rremote: Counting objects:  47% (136/289)\u001b[K\rremote: Counting objects:  48% (139/289)\u001b[K\rremote: Counting objects:  49% (142/289)\u001b[K\rremote: Counting objects:  50% (145/289)\u001b[K\rremote: Counting objects:  51% (148/289)\u001b[K\rremote: Counting objects:  52% (151/289)\u001b[K\rremote: Counting objects:  53% (154/289)\u001b[K\rremote: Counting objects:  54% (157/289)\u001b[K\rremote: Counting objects:  55% (159/289)\u001b[K\rremote: Counting objects:  56% (162/289)\u001b[K\rremote: Counting objects:  57% (165/289)\u001b[K\rremote: Counting objects:  58% (168/289)\u001b[K\rremote: Counting objects:  59% (171/289)\u001b[K\rremote: Counting objects:  60% (174/289)\u001b[K\rremote: Counting objects:  61% (177/289)\u001b[K\rremote: Counting objects:  62% (180/289)\u001b[K\rremote: Counting objects:  63% (183/289)\u001b[K\rremote: Counting objects:  64% (185/289)\u001b[K\rremote: Counting objects:  65% (188/289)\u001b[K\rremote: Counting objects:  66% (191/289)\u001b[K\rremote: Counting objects:  67% (194/289)\u001b[K\rremote: Counting objects:  68% (197/289)\u001b[K\rremote: Counting objects:  69% (200/289)\u001b[K\rremote: Counting objects:  70% (203/289)\u001b[K\rremote: Counting objects:  71% (206/289)\u001b[K\rremote: Counting objects:  72% (209/289)\u001b[K\rremote: Counting objects:  73% (211/289)\u001b[K\rremote: Counting objects:  74% (214/289)\u001b[K\rremote: Counting objects:  75% (217/289)\u001b[K\rremote: Counting objects:  76% (220/289)\u001b[K\rremote: Counting objects:  77% (223/289)\u001b[K\rremote: Counting objects:  78% (226/289)\u001b[K\rremote: Counting objects:  79% (229/289)\u001b[K\rremote: Counting objects:  80% (232/289)\u001b[K\rremote: Counting objects:  81% (235/289)\u001b[K\rremote: Counting objects:  82% (237/289)\u001b[K\rremote: Counting objects:  83% (240/289)\u001b[K\rremote: Counting objects:  84% (243/289)\u001b[K\rremote: Counting objects:  85% (246/289)\u001b[K\rremote: Counting objects:  86% (249/289)\u001b[K\rremote: Counting objects:  87% (252/289)\u001b[K\rremote: Counting objects:  88% (255/289)\u001b[K\rremote: Counting objects:  89% (258/289)\u001b[K\rremote: Counting objects:  90% (261/289)\u001b[K\rremote: Counting objects:  91% (263/289)\u001b[K\rremote: Counting objects:  92% (266/289)\u001b[K\rremote: Counting objects:  93% (269/289)\u001b[K\rremote: Counting objects:  94% (272/289)\u001b[K\rremote: Counting objects:  95% (275/289)\u001b[K\rremote: Counting objects:  96% (278/289)\u001b[K\rremote: Counting objects:  97% (281/289)\u001b[K\rremote: Counting objects:  98% (284/289)\u001b[K\rremote: Counting objects:  99% (287/289)\u001b[K\rremote: Counting objects: 100% (289/289)\u001b[K\rremote: Counting objects: 100% (289/289), done.\u001b[K\n",
            "remote: Compressing objects:   0% (1/156)\u001b[K\rremote: Compressing objects:   1% (2/156)\u001b[K\rremote: Compressing objects:   2% (4/156)\u001b[K\rremote: Compressing objects:   3% (5/156)\u001b[K\rremote: Compressing objects:   4% (7/156)\u001b[K\rremote: Compressing objects:   5% (8/156)\u001b[K\rremote: Compressing objects:   6% (10/156)\u001b[K\rremote: Compressing objects:   7% (11/156)\u001b[K\rremote: Compressing objects:   8% (13/156)\u001b[K\rremote: Compressing objects:   9% (15/156)\u001b[K\rremote: Compressing objects:  10% (16/156)\u001b[K\rremote: Compressing objects:  11% (18/156)\u001b[K\rremote: Compressing objects:  12% (19/156)\u001b[K\rremote: Compressing objects:  13% (21/156)\u001b[K\rremote: Compressing objects:  14% (22/156)\u001b[K\rremote: Compressing objects:  15% (24/156)\u001b[K\rremote: Compressing objects:  16% (25/156)\u001b[K\rremote: Compressing objects:  17% (27/156)\u001b[K\rremote: Compressing objects:  18% (29/156)\u001b[K\rremote: Compressing objects:  19% (30/156)\u001b[K\rremote: Compressing objects:  20% (32/156)\u001b[K\rremote: Compressing objects:  21% (33/156)\u001b[K\rremote: Compressing objects:  22% (35/156)\u001b[K\rremote: Compressing objects:  23% (36/156)\u001b[K\rremote: Compressing objects:  24% (38/156)\u001b[K\rremote: Compressing objects:  25% (39/156)\u001b[K\rremote: Compressing objects:  26% (41/156)\u001b[K\rremote: Compressing objects:  27% (43/156)\u001b[K\rremote: Compressing objects:  28% (44/156)\u001b[K\rremote: Compressing objects:  29% (46/156)\u001b[K\rremote: Compressing objects:  30% (47/156)\u001b[K\rremote: Compressing objects:  31% (49/156)\u001b[K\rremote: Compressing objects:  32% (50/156)\u001b[K\rremote: Compressing objects:  33% (52/156)\u001b[K\rremote: Compressing objects:  34% (54/156)\u001b[K\rremote: Compressing objects:  35% (55/156)\u001b[K\rremote: Compressing objects:  36% (57/156)\u001b[K\rremote: Compressing objects:  37% (58/156)\u001b[K\rremote: Compressing objects:  38% (60/156)\u001b[K\rremote: Compressing objects:  39% (61/156)\u001b[K\rremote: Compressing objects:  40% (63/156)\u001b[K\rremote: Compressing objects:  41% (64/156)\u001b[K\rremote: Compressing objects:  42% (66/156)\u001b[K\rremote: Compressing objects:  43% (68/156)\u001b[K\rremote: Compressing objects:  44% (69/156)\u001b[K\rremote: Compressing objects:  45% (71/156)\u001b[K\rremote: Compressing objects:  46% (72/156)\u001b[K\rremote: Compressing objects:  47% (74/156)\u001b[K\rremote: Compressing objects:  48% (75/156)\u001b[K\rremote: Compressing objects:  49% (77/156)\u001b[K\rremote: Compressing objects:  50% (78/156)\u001b[K\rremote: Compressing objects:  51% (80/156)\u001b[K\rremote: Compressing objects:  52% (82/156)\u001b[K\rremote: Compressing objects:  53% (83/156)\u001b[K\rremote: Compressing objects:  54% (85/156)\u001b[K\rremote: Compressing objects:  55% (86/156)\u001b[K\rremote: Compressing objects:  56% (88/156)\u001b[K\rremote: Compressing objects:  57% (89/156)\u001b[K\rremote: Compressing objects:  58% (91/156)\u001b[K\rremote: Compressing objects:  59% (93/156)\u001b[K\rremote: Compressing objects:  60% (94/156)\u001b[K\rremote: Compressing objects:  61% (96/156)\u001b[K\rremote: Compressing objects:  62% (97/156)\u001b[K\rremote: Compressing objects:  63% (99/156)\u001b[K\rremote: Compressing objects:  64% (100/156)\u001b[K\rremote: Compressing objects:  65% (102/156)\u001b[K\rremote: Compressing objects:  66% (103/156)\u001b[K\rremote: Compressing objects:  67% (105/156)\u001b[K\rremote: Compressing objects:  68% (107/156)\u001b[K\rremote: Compressing objects:  69% (108/156)\u001b[K\rremote: Compressing objects:  70% (110/156)\u001b[K\rremote: Compressing objects:  71% (111/156)\u001b[K\rremote: Compressing objects:  72% (113/156)\u001b[K\rremote: Compressing objects:  73% (114/156)\u001b[K\rremote: Compressing objects:  74% (116/156)\u001b[K\rremote: Compressing objects:  75% (117/156)\u001b[K\rremote: Compressing objects:  76% (119/156)\u001b[K\rremote: Compressing objects:  77% (121/156)\u001b[K\rremote: Compressing objects:  78% (122/156)\u001b[K\rremote: Compressing objects:  79% (124/156)\u001b[K\rremote: Compressing objects:  80% (125/156)\u001b[K\rremote: Compressing objects:  81% (127/156)\u001b[K\rremote: Compressing objects:  82% (128/156)\u001b[K\rremote: Compressing objects:  83% (130/156)\u001b[K\rremote: Compressing objects:  84% (132/156)\u001b[K\rremote: Compressing objects:  85% (133/156)\u001b[K\rremote: Compressing objects:  86% (135/156)\u001b[K\rremote: Compressing objects:  87% (136/156)\u001b[K\rremote: Compressing objects:  88% (138/156)\u001b[K\rremote: Compressing objects:  89% (139/156)\u001b[K\rremote: Compressing objects:  90% (141/156)\u001b[K\rremote: Compressing objects:  91% (142/156)\u001b[K\rremote: Compressing objects:  92% (144/156)\u001b[K\rremote: Compressing objects:  93% (146/156)\u001b[K\rremote: Compressing objects:  94% (147/156)\u001b[K\rremote: Compressing objects:  95% (149/156)\u001b[K\rremote: Compressing objects:  96% (150/156)\u001b[K\rremote: Compressing objects:  97% (152/156)\u001b[K\rremote: Compressing objects:  98% (153/156)\u001b[K\rremote: Compressing objects:  99% (155/156)\u001b[K\rremote: Compressing objects: 100% (156/156)\u001b[K\rremote: Compressing objects: 100% (156/156), done.\u001b[K\n",
            "Receiving objects:   0% (1/4033)   \rReceiving objects:   1% (41/4033)   \rReceiving objects:   2% (81/4033)   \rReceiving objects:   3% (121/4033)   \rReceiving objects:   4% (162/4033)   \rReceiving objects:   5% (202/4033)   \rReceiving objects:   6% (242/4033)   \rReceiving objects:   7% (283/4033)   \rReceiving objects:   8% (323/4033)   \rReceiving objects:   9% (363/4033)   \rReceiving objects:  10% (404/4033)   \rReceiving objects:  11% (444/4033)   \rReceiving objects:  12% (484/4033)   \rReceiving objects:  13% (525/4033)   \rReceiving objects:  14% (565/4033)   \rReceiving objects:  15% (605/4033)   \rReceiving objects:  16% (646/4033)   \rReceiving objects:  17% (686/4033)   \rReceiving objects:  18% (726/4033)   \rReceiving objects:  19% (767/4033)   \rReceiving objects:  20% (807/4033)   \rReceiving objects:  21% (847/4033)   \rReceiving objects:  22% (888/4033)   \rReceiving objects:  23% (928/4033)   \rReceiving objects:  24% (968/4033)   \rReceiving objects:  25% (1009/4033)   \rReceiving objects:  26% (1049/4033)   \rReceiving objects:  27% (1089/4033)   \rReceiving objects:  28% (1130/4033)   \rReceiving objects:  29% (1170/4033)   \rReceiving objects:  30% (1210/4033)   \rReceiving objects:  31% (1251/4033)   \rReceiving objects:  32% (1291/4033)   \rReceiving objects:  33% (1331/4033)   \rReceiving objects:  34% (1372/4033)   \rReceiving objects:  35% (1412/4033)   \rReceiving objects:  36% (1452/4033)   \rReceiving objects:  37% (1493/4033)   \rReceiving objects:  38% (1533/4033)   \rReceiving objects:  39% (1573/4033)   \rReceiving objects:  40% (1614/4033)   \rReceiving objects:  41% (1654/4033)   \rReceiving objects:  42% (1694/4033)   \rReceiving objects:  43% (1735/4033)   \rReceiving objects:  44% (1775/4033)   \rReceiving objects:  45% (1815/4033)   \rReceiving objects:  46% (1856/4033)   \rReceiving objects:  47% (1896/4033)   \rReceiving objects:  48% (1936/4033)   \rReceiving objects:  49% (1977/4033)   \rReceiving objects:  50% (2017/4033)   \rReceiving objects:  51% (2057/4033)   \rReceiving objects:  52% (2098/4033)   \rReceiving objects:  53% (2138/4033)   \rReceiving objects:  54% (2178/4033)   \rReceiving objects:  55% (2219/4033)   \rReceiving objects:  56% (2259/4033)   \rReceiving objects:  57% (2299/4033)   \rReceiving objects:  58% (2340/4033)   \rReceiving objects:  59% (2380/4033)   \rReceiving objects:  60% (2420/4033)   \rReceiving objects:  61% (2461/4033)   \rReceiving objects:  62% (2501/4033)   \rReceiving objects:  63% (2541/4033)   \rReceiving objects:  64% (2582/4033)   \rReceiving objects:  65% (2622/4033)   \rReceiving objects:  66% (2662/4033)   \rReceiving objects:  67% (2703/4033), 10.10 MiB | 20.19 MiB/s   \rReceiving objects:  68% (2743/4033), 10.10 MiB | 20.19 MiB/s   \rReceiving objects:  69% (2783/4033), 10.10 MiB | 20.19 MiB/s   \rReceiving objects:  70% (2824/4033), 10.10 MiB | 20.19 MiB/s   \rReceiving objects:  71% (2864/4033), 10.10 MiB | 20.19 MiB/s   \rReceiving objects:  72% (2904/4033), 10.10 MiB | 20.19 MiB/s   \rReceiving objects:  73% (2945/4033), 10.10 MiB | 20.19 MiB/s   \rReceiving objects:  74% (2985/4033), 10.10 MiB | 20.19 MiB/s   \rReceiving objects:  75% (3025/4033), 10.10 MiB | 20.19 MiB/s   \rReceiving objects:  76% (3066/4033), 10.10 MiB | 20.19 MiB/s   \rReceiving objects:  77% (3106/4033), 10.10 MiB | 20.19 MiB/s   \rReceiving objects:  78% (3146/4033), 10.10 MiB | 20.19 MiB/s   \rReceiving objects:  79% (3187/4033), 10.10 MiB | 20.19 MiB/s   \rReceiving objects:  80% (3227/4033), 10.10 MiB | 20.19 MiB/s   \rReceiving objects:  81% (3267/4033), 10.10 MiB | 20.19 MiB/s   \rReceiving objects:  82% (3308/4033), 10.10 MiB | 20.19 MiB/s   \rReceiving objects:  83% (3348/4033), 10.10 MiB | 20.19 MiB/s   \rReceiving objects:  84% (3388/4033), 10.10 MiB | 20.19 MiB/s   \rReceiving objects:  85% (3429/4033), 10.10 MiB | 20.19 MiB/s   \rReceiving objects:  86% (3469/4033), 10.10 MiB | 20.19 MiB/s   \rReceiving objects:  87% (3509/4033), 10.10 MiB | 20.19 MiB/s   \rReceiving objects:  88% (3550/4033), 10.10 MiB | 20.19 MiB/s   \rReceiving objects:  89% (3590/4033), 10.10 MiB | 20.19 MiB/s   \rReceiving objects:  90% (3630/4033), 10.10 MiB | 20.19 MiB/s   \rReceiving objects:  91% (3671/4033), 10.10 MiB | 20.19 MiB/s   \rReceiving objects:  92% (3711/4033), 10.10 MiB | 20.19 MiB/s   \rReceiving objects:  93% (3751/4033), 10.10 MiB | 20.19 MiB/s   \rReceiving objects:  94% (3792/4033), 10.10 MiB | 20.19 MiB/s   \rReceiving objects:  95% (3832/4033), 10.10 MiB | 20.19 MiB/s   \rReceiving objects:  96% (3872/4033), 10.10 MiB | 20.19 MiB/s   \rReceiving objects:  97% (3913/4033), 10.10 MiB | 20.19 MiB/s   \rReceiving objects:  98% (3953/4033), 10.10 MiB | 20.19 MiB/s   \rremote: Total 4033 (delta 169), reused 206 (delta 111), pack-reused 3744\u001b[K\n",
            "Receiving objects: 100% (4033/4033), 10.96 MiB | 19.87 MiB/s, done.\n",
            "Resolving deltas: 100% (2514/2514), done.\n"
          ],
          "name": "stdout"
        }
      ]
    },
    {
      "cell_type": "code",
      "metadata": {
        "colab_type": "code",
        "id": "DtHvfsmXWQ68",
        "outputId": "7ff6d9f8-cfc2-49c5-9541-c88bcafb78f0",
        "colab": {
          "base_uri": "https://localhost:8080/",
          "height": 34
        }
      },
      "source": [
        "cd spektral"
      ],
      "execution_count": 4,
      "outputs": [
        {
          "output_type": "stream",
          "text": [
            "/content/spektral\n"
          ],
          "name": "stdout"
        }
      ]
    },
    {
      "cell_type": "code",
      "metadata": {
        "colab_type": "code",
        "id": "fhvT_HvbWTil",
        "outputId": "026c931d-3f8c-4ce3-be71-dbec780df963",
        "colab": {
          "base_uri": "https://localhost:8080/",
          "height": 1000
        }
      },
      "source": [
        "!python setup.py install"
      ],
      "execution_count": 5,
      "outputs": [
        {
          "output_type": "stream",
          "text": [
            "running install\n",
            "running bdist_egg\n",
            "running egg_info\n",
            "creating spektral.egg-info\n",
            "writing spektral.egg-info/PKG-INFO\n",
            "writing dependency_links to spektral.egg-info/dependency_links.txt\n",
            "writing requirements to spektral.egg-info/requires.txt\n",
            "writing top-level names to spektral.egg-info/top_level.txt\n",
            "writing manifest file 'spektral.egg-info/SOURCES.txt'\n",
            "writing manifest file 'spektral.egg-info/SOURCES.txt'\n",
            "installing library code to build/bdist.linux-x86_64/egg\n",
            "running install_lib\n",
            "running build_py\n",
            "creating build\n",
            "creating build/lib\n",
            "creating build/lib/tests\n",
            "copying tests/test_datasets.py -> build/lib/tests\n",
            "copying tests/__init__.py -> build/lib/tests\n",
            "copying tests/test_utils.py -> build/lib/tests\n",
            "creating build/lib/spektral\n",
            "copying spektral/__init__.py -> build/lib/spektral\n",
            "copying spektral/chem.py -> build/lib/spektral\n",
            "creating build/lib/tests/test_layers\n",
            "copying tests/test_layers/test_convolutional.py -> build/lib/tests/test_layers\n",
            "copying tests/test_layers/test_ops.py -> build/lib/tests/test_layers\n",
            "copying tests/test_layers/__init__.py -> build/lib/tests/test_layers\n",
            "copying tests/test_layers/test_pooling.py -> build/lib/tests/test_layers\n",
            "copying tests/test_layers/test_global_pooling.py -> build/lib/tests/test_layers\n",
            "creating build/lib/spektral/utils\n",
            "copying spektral/utils/keras.py -> build/lib/spektral/utils\n",
            "copying spektral/utils/misc.py -> build/lib/spektral/utils\n",
            "copying spektral/utils/logging.py -> build/lib/spektral/utils\n",
            "copying spektral/utils/convolution.py -> build/lib/spektral/utils\n",
            "copying spektral/utils/io.py -> build/lib/spektral/utils\n",
            "copying spektral/utils/data.py -> build/lib/spektral/utils\n",
            "copying spektral/utils/__init__.py -> build/lib/spektral/utils\n",
            "copying spektral/utils/conversion.py -> build/lib/spektral/utils\n",
            "creating build/lib/spektral/layers\n",
            "copying spektral/layers/base.py -> build/lib/spektral/layers\n",
            "copying spektral/layers/__init__.py -> build/lib/spektral/layers\n",
            "creating build/lib/spektral/datasets\n",
            "copying spektral/datasets/mnist.py -> build/lib/spektral/datasets\n",
            "copying spektral/datasets/tud.py -> build/lib/spektral/datasets\n",
            "copying spektral/datasets/graphsage.py -> build/lib/spektral/datasets\n",
            "copying spektral/datasets/delaunay.py -> build/lib/spektral/datasets\n",
            "copying spektral/datasets/__init__.py -> build/lib/spektral/datasets\n",
            "copying spektral/datasets/citation.py -> build/lib/spektral/datasets\n",
            "copying spektral/datasets/ogb.py -> build/lib/spektral/datasets\n",
            "copying spektral/datasets/qm9.py -> build/lib/spektral/datasets\n",
            "creating build/lib/spektral/layers/pooling\n",
            "copying spektral/layers/pooling/global_pool.py -> build/lib/spektral/layers/pooling\n",
            "copying spektral/layers/pooling/sag_pool.py -> build/lib/spektral/layers/pooling\n",
            "copying spektral/layers/pooling/__init__.py -> build/lib/spektral/layers/pooling\n",
            "copying spektral/layers/pooling/mincut_pool.py -> build/lib/spektral/layers/pooling\n",
            "copying spektral/layers/pooling/diff_pool.py -> build/lib/spektral/layers/pooling\n",
            "copying spektral/layers/pooling/topk_pool.py -> build/lib/spektral/layers/pooling\n",
            "creating build/lib/spektral/layers/convolutional\n",
            "copying spektral/layers/convolutional/agnn_conv.py -> build/lib/spektral/layers/convolutional\n",
            "copying spektral/layers/convolutional/message_passing.py -> build/lib/spektral/layers/convolutional\n",
            "copying spektral/layers/convolutional/gin_conv.py -> build/lib/spektral/layers/convolutional\n",
            "copying spektral/layers/convolutional/graphsage_conv.py -> build/lib/spektral/layers/convolutional\n",
            "copying spektral/layers/convolutional/diffusion_conv.py -> build/lib/spektral/layers/convolutional\n",
            "copying spektral/layers/convolutional/tag_conv.py -> build/lib/spektral/layers/convolutional\n",
            "copying spektral/layers/convolutional/ecc_conv.py -> build/lib/spektral/layers/convolutional\n",
            "copying spektral/layers/convolutional/graph_conv_skip.py -> build/lib/spektral/layers/convolutional\n",
            "copying spektral/layers/convolutional/__init__.py -> build/lib/spektral/layers/convolutional\n",
            "copying spektral/layers/convolutional/crystal_conv.py -> build/lib/spektral/layers/convolutional\n",
            "copying spektral/layers/convolutional/graph_attention.py -> build/lib/spektral/layers/convolutional\n",
            "copying spektral/layers/convolutional/appnp.py -> build/lib/spektral/layers/convolutional\n",
            "copying spektral/layers/convolutional/cheb_conv.py -> build/lib/spektral/layers/convolutional\n",
            "copying spektral/layers/convolutional/gated_graph_conv.py -> build/lib/spektral/layers/convolutional\n",
            "copying spektral/layers/convolutional/edge_conv.py -> build/lib/spektral/layers/convolutional\n",
            "copying spektral/layers/convolutional/graph_conv.py -> build/lib/spektral/layers/convolutional\n",
            "copying spektral/layers/convolutional/arma_conv.py -> build/lib/spektral/layers/convolutional\n",
            "creating build/lib/spektral/layers/ops\n",
            "copying spektral/layers/ops/scatter.py -> build/lib/spektral/layers/ops\n",
            "copying spektral/layers/ops/modes.py -> build/lib/spektral/layers/ops\n",
            "copying spektral/layers/ops/ops.py -> build/lib/spektral/layers/ops\n",
            "copying spektral/layers/ops/sparse.py -> build/lib/spektral/layers/ops\n",
            "copying spektral/layers/ops/__init__.py -> build/lib/spektral/layers/ops\n",
            "copying spektral/layers/ops/matmul.py -> build/lib/spektral/layers/ops\n",
            "copying spektral/layers/ops/graph.py -> build/lib/spektral/layers/ops\n",
            "creating build/bdist.linux-x86_64\n",
            "creating build/bdist.linux-x86_64/egg\n",
            "creating build/bdist.linux-x86_64/egg/tests\n",
            "copying build/lib/tests/test_datasets.py -> build/bdist.linux-x86_64/egg/tests\n",
            "copying build/lib/tests/__init__.py -> build/bdist.linux-x86_64/egg/tests\n",
            "copying build/lib/tests/test_utils.py -> build/bdist.linux-x86_64/egg/tests\n",
            "creating build/bdist.linux-x86_64/egg/tests/test_layers\n",
            "copying build/lib/tests/test_layers/test_convolutional.py -> build/bdist.linux-x86_64/egg/tests/test_layers\n",
            "copying build/lib/tests/test_layers/test_ops.py -> build/bdist.linux-x86_64/egg/tests/test_layers\n",
            "copying build/lib/tests/test_layers/__init__.py -> build/bdist.linux-x86_64/egg/tests/test_layers\n",
            "copying build/lib/tests/test_layers/test_pooling.py -> build/bdist.linux-x86_64/egg/tests/test_layers\n",
            "copying build/lib/tests/test_layers/test_global_pooling.py -> build/bdist.linux-x86_64/egg/tests/test_layers\n",
            "creating build/bdist.linux-x86_64/egg/spektral\n",
            "creating build/bdist.linux-x86_64/egg/spektral/utils\n",
            "copying build/lib/spektral/utils/keras.py -> build/bdist.linux-x86_64/egg/spektral/utils\n",
            "copying build/lib/spektral/utils/misc.py -> build/bdist.linux-x86_64/egg/spektral/utils\n",
            "copying build/lib/spektral/utils/logging.py -> build/bdist.linux-x86_64/egg/spektral/utils\n",
            "copying build/lib/spektral/utils/convolution.py -> build/bdist.linux-x86_64/egg/spektral/utils\n",
            "copying build/lib/spektral/utils/io.py -> build/bdist.linux-x86_64/egg/spektral/utils\n",
            "copying build/lib/spektral/utils/data.py -> build/bdist.linux-x86_64/egg/spektral/utils\n",
            "copying build/lib/spektral/utils/__init__.py -> build/bdist.linux-x86_64/egg/spektral/utils\n",
            "copying build/lib/spektral/utils/conversion.py -> build/bdist.linux-x86_64/egg/spektral/utils\n",
            "copying build/lib/spektral/__init__.py -> build/bdist.linux-x86_64/egg/spektral\n",
            "copying build/lib/spektral/chem.py -> build/bdist.linux-x86_64/egg/spektral\n",
            "creating build/bdist.linux-x86_64/egg/spektral/layers\n",
            "creating build/bdist.linux-x86_64/egg/spektral/layers/pooling\n",
            "copying build/lib/spektral/layers/pooling/global_pool.py -> build/bdist.linux-x86_64/egg/spektral/layers/pooling\n",
            "copying build/lib/spektral/layers/pooling/sag_pool.py -> build/bdist.linux-x86_64/egg/spektral/layers/pooling\n",
            "copying build/lib/spektral/layers/pooling/__init__.py -> build/bdist.linux-x86_64/egg/spektral/layers/pooling\n",
            "copying build/lib/spektral/layers/pooling/mincut_pool.py -> build/bdist.linux-x86_64/egg/spektral/layers/pooling\n",
            "copying build/lib/spektral/layers/pooling/diff_pool.py -> build/bdist.linux-x86_64/egg/spektral/layers/pooling\n",
            "copying build/lib/spektral/layers/pooling/topk_pool.py -> build/bdist.linux-x86_64/egg/spektral/layers/pooling\n",
            "copying build/lib/spektral/layers/base.py -> build/bdist.linux-x86_64/egg/spektral/layers\n",
            "copying build/lib/spektral/layers/__init__.py -> build/bdist.linux-x86_64/egg/spektral/layers\n",
            "creating build/bdist.linux-x86_64/egg/spektral/layers/convolutional\n",
            "copying build/lib/spektral/layers/convolutional/agnn_conv.py -> build/bdist.linux-x86_64/egg/spektral/layers/convolutional\n",
            "copying build/lib/spektral/layers/convolutional/message_passing.py -> build/bdist.linux-x86_64/egg/spektral/layers/convolutional\n",
            "copying build/lib/spektral/layers/convolutional/gin_conv.py -> build/bdist.linux-x86_64/egg/spektral/layers/convolutional\n",
            "copying build/lib/spektral/layers/convolutional/graphsage_conv.py -> build/bdist.linux-x86_64/egg/spektral/layers/convolutional\n",
            "copying build/lib/spektral/layers/convolutional/diffusion_conv.py -> build/bdist.linux-x86_64/egg/spektral/layers/convolutional\n",
            "copying build/lib/spektral/layers/convolutional/tag_conv.py -> build/bdist.linux-x86_64/egg/spektral/layers/convolutional\n",
            "copying build/lib/spektral/layers/convolutional/ecc_conv.py -> build/bdist.linux-x86_64/egg/spektral/layers/convolutional\n",
            "copying build/lib/spektral/layers/convolutional/graph_conv_skip.py -> build/bdist.linux-x86_64/egg/spektral/layers/convolutional\n",
            "copying build/lib/spektral/layers/convolutional/__init__.py -> build/bdist.linux-x86_64/egg/spektral/layers/convolutional\n",
            "copying build/lib/spektral/layers/convolutional/crystal_conv.py -> build/bdist.linux-x86_64/egg/spektral/layers/convolutional\n",
            "copying build/lib/spektral/layers/convolutional/graph_attention.py -> build/bdist.linux-x86_64/egg/spektral/layers/convolutional\n",
            "copying build/lib/spektral/layers/convolutional/appnp.py -> build/bdist.linux-x86_64/egg/spektral/layers/convolutional\n",
            "copying build/lib/spektral/layers/convolutional/cheb_conv.py -> build/bdist.linux-x86_64/egg/spektral/layers/convolutional\n",
            "copying build/lib/spektral/layers/convolutional/gated_graph_conv.py -> build/bdist.linux-x86_64/egg/spektral/layers/convolutional\n",
            "copying build/lib/spektral/layers/convolutional/edge_conv.py -> build/bdist.linux-x86_64/egg/spektral/layers/convolutional\n",
            "copying build/lib/spektral/layers/convolutional/graph_conv.py -> build/bdist.linux-x86_64/egg/spektral/layers/convolutional\n",
            "copying build/lib/spektral/layers/convolutional/arma_conv.py -> build/bdist.linux-x86_64/egg/spektral/layers/convolutional\n",
            "creating build/bdist.linux-x86_64/egg/spektral/layers/ops\n",
            "copying build/lib/spektral/layers/ops/scatter.py -> build/bdist.linux-x86_64/egg/spektral/layers/ops\n",
            "copying build/lib/spektral/layers/ops/modes.py -> build/bdist.linux-x86_64/egg/spektral/layers/ops\n",
            "copying build/lib/spektral/layers/ops/ops.py -> build/bdist.linux-x86_64/egg/spektral/layers/ops\n",
            "copying build/lib/spektral/layers/ops/sparse.py -> build/bdist.linux-x86_64/egg/spektral/layers/ops\n",
            "copying build/lib/spektral/layers/ops/__init__.py -> build/bdist.linux-x86_64/egg/spektral/layers/ops\n",
            "copying build/lib/spektral/layers/ops/matmul.py -> build/bdist.linux-x86_64/egg/spektral/layers/ops\n",
            "copying build/lib/spektral/layers/ops/graph.py -> build/bdist.linux-x86_64/egg/spektral/layers/ops\n",
            "creating build/bdist.linux-x86_64/egg/spektral/datasets\n",
            "copying build/lib/spektral/datasets/mnist.py -> build/bdist.linux-x86_64/egg/spektral/datasets\n",
            "copying build/lib/spektral/datasets/tud.py -> build/bdist.linux-x86_64/egg/spektral/datasets\n",
            "copying build/lib/spektral/datasets/graphsage.py -> build/bdist.linux-x86_64/egg/spektral/datasets\n",
            "copying build/lib/spektral/datasets/delaunay.py -> build/bdist.linux-x86_64/egg/spektral/datasets\n",
            "copying build/lib/spektral/datasets/__init__.py -> build/bdist.linux-x86_64/egg/spektral/datasets\n",
            "copying build/lib/spektral/datasets/citation.py -> build/bdist.linux-x86_64/egg/spektral/datasets\n",
            "copying build/lib/spektral/datasets/ogb.py -> build/bdist.linux-x86_64/egg/spektral/datasets\n",
            "copying build/lib/spektral/datasets/qm9.py -> build/bdist.linux-x86_64/egg/spektral/datasets\n",
            "byte-compiling build/bdist.linux-x86_64/egg/tests/test_datasets.py to test_datasets.cpython-36.pyc\n",
            "byte-compiling build/bdist.linux-x86_64/egg/tests/__init__.py to __init__.cpython-36.pyc\n",
            "byte-compiling build/bdist.linux-x86_64/egg/tests/test_utils.py to test_utils.cpython-36.pyc\n",
            "byte-compiling build/bdist.linux-x86_64/egg/tests/test_layers/test_convolutional.py to test_convolutional.cpython-36.pyc\n",
            "byte-compiling build/bdist.linux-x86_64/egg/tests/test_layers/test_ops.py to test_ops.cpython-36.pyc\n",
            "byte-compiling build/bdist.linux-x86_64/egg/tests/test_layers/__init__.py to __init__.cpython-36.pyc\n",
            "byte-compiling build/bdist.linux-x86_64/egg/tests/test_layers/test_pooling.py to test_pooling.cpython-36.pyc\n",
            "byte-compiling build/bdist.linux-x86_64/egg/tests/test_layers/test_global_pooling.py to test_global_pooling.cpython-36.pyc\n",
            "byte-compiling build/bdist.linux-x86_64/egg/spektral/utils/keras.py to keras.cpython-36.pyc\n",
            "byte-compiling build/bdist.linux-x86_64/egg/spektral/utils/misc.py to misc.cpython-36.pyc\n",
            "byte-compiling build/bdist.linux-x86_64/egg/spektral/utils/logging.py to logging.cpython-36.pyc\n",
            "byte-compiling build/bdist.linux-x86_64/egg/spektral/utils/convolution.py to convolution.cpython-36.pyc\n",
            "byte-compiling build/bdist.linux-x86_64/egg/spektral/utils/io.py to io.cpython-36.pyc\n",
            "byte-compiling build/bdist.linux-x86_64/egg/spektral/utils/data.py to data.cpython-36.pyc\n",
            "byte-compiling build/bdist.linux-x86_64/egg/spektral/utils/__init__.py to __init__.cpython-36.pyc\n",
            "byte-compiling build/bdist.linux-x86_64/egg/spektral/utils/conversion.py to conversion.cpython-36.pyc\n",
            "byte-compiling build/bdist.linux-x86_64/egg/spektral/__init__.py to __init__.cpython-36.pyc\n",
            "byte-compiling build/bdist.linux-x86_64/egg/spektral/chem.py to chem.cpython-36.pyc\n",
            "byte-compiling build/bdist.linux-x86_64/egg/spektral/layers/pooling/global_pool.py to global_pool.cpython-36.pyc\n",
            "byte-compiling build/bdist.linux-x86_64/egg/spektral/layers/pooling/sag_pool.py to sag_pool.cpython-36.pyc\n",
            "byte-compiling build/bdist.linux-x86_64/egg/spektral/layers/pooling/__init__.py to __init__.cpython-36.pyc\n",
            "byte-compiling build/bdist.linux-x86_64/egg/spektral/layers/pooling/mincut_pool.py to mincut_pool.cpython-36.pyc\n",
            "byte-compiling build/bdist.linux-x86_64/egg/spektral/layers/pooling/diff_pool.py to diff_pool.cpython-36.pyc\n",
            "byte-compiling build/bdist.linux-x86_64/egg/spektral/layers/pooling/topk_pool.py to topk_pool.cpython-36.pyc\n",
            "byte-compiling build/bdist.linux-x86_64/egg/spektral/layers/base.py to base.cpython-36.pyc\n",
            "byte-compiling build/bdist.linux-x86_64/egg/spektral/layers/__init__.py to __init__.cpython-36.pyc\n",
            "byte-compiling build/bdist.linux-x86_64/egg/spektral/layers/convolutional/agnn_conv.py to agnn_conv.cpython-36.pyc\n",
            "byte-compiling build/bdist.linux-x86_64/egg/spektral/layers/convolutional/message_passing.py to message_passing.cpython-36.pyc\n",
            "byte-compiling build/bdist.linux-x86_64/egg/spektral/layers/convolutional/gin_conv.py to gin_conv.cpython-36.pyc\n",
            "byte-compiling build/bdist.linux-x86_64/egg/spektral/layers/convolutional/graphsage_conv.py to graphsage_conv.cpython-36.pyc\n",
            "byte-compiling build/bdist.linux-x86_64/egg/spektral/layers/convolutional/diffusion_conv.py to diffusion_conv.cpython-36.pyc\n",
            "byte-compiling build/bdist.linux-x86_64/egg/spektral/layers/convolutional/tag_conv.py to tag_conv.cpython-36.pyc\n",
            "byte-compiling build/bdist.linux-x86_64/egg/spektral/layers/convolutional/ecc_conv.py to ecc_conv.cpython-36.pyc\n",
            "byte-compiling build/bdist.linux-x86_64/egg/spektral/layers/convolutional/graph_conv_skip.py to graph_conv_skip.cpython-36.pyc\n",
            "byte-compiling build/bdist.linux-x86_64/egg/spektral/layers/convolutional/__init__.py to __init__.cpython-36.pyc\n",
            "byte-compiling build/bdist.linux-x86_64/egg/spektral/layers/convolutional/crystal_conv.py to crystal_conv.cpython-36.pyc\n",
            "byte-compiling build/bdist.linux-x86_64/egg/spektral/layers/convolutional/graph_attention.py to graph_attention.cpython-36.pyc\n",
            "byte-compiling build/bdist.linux-x86_64/egg/spektral/layers/convolutional/appnp.py to appnp.cpython-36.pyc\n",
            "byte-compiling build/bdist.linux-x86_64/egg/spektral/layers/convolutional/cheb_conv.py to cheb_conv.cpython-36.pyc\n",
            "byte-compiling build/bdist.linux-x86_64/egg/spektral/layers/convolutional/gated_graph_conv.py to gated_graph_conv.cpython-36.pyc\n",
            "byte-compiling build/bdist.linux-x86_64/egg/spektral/layers/convolutional/edge_conv.py to edge_conv.cpython-36.pyc\n",
            "byte-compiling build/bdist.linux-x86_64/egg/spektral/layers/convolutional/graph_conv.py to graph_conv.cpython-36.pyc\n",
            "byte-compiling build/bdist.linux-x86_64/egg/spektral/layers/convolutional/arma_conv.py to arma_conv.cpython-36.pyc\n",
            "byte-compiling build/bdist.linux-x86_64/egg/spektral/layers/ops/scatter.py to scatter.cpython-36.pyc\n",
            "byte-compiling build/bdist.linux-x86_64/egg/spektral/layers/ops/modes.py to modes.cpython-36.pyc\n",
            "byte-compiling build/bdist.linux-x86_64/egg/spektral/layers/ops/ops.py to ops.cpython-36.pyc\n",
            "byte-compiling build/bdist.linux-x86_64/egg/spektral/layers/ops/sparse.py to sparse.cpython-36.pyc\n",
            "byte-compiling build/bdist.linux-x86_64/egg/spektral/layers/ops/__init__.py to __init__.cpython-36.pyc\n",
            "byte-compiling build/bdist.linux-x86_64/egg/spektral/layers/ops/matmul.py to matmul.cpython-36.pyc\n",
            "byte-compiling build/bdist.linux-x86_64/egg/spektral/layers/ops/graph.py to graph.cpython-36.pyc\n",
            "byte-compiling build/bdist.linux-x86_64/egg/spektral/datasets/mnist.py to mnist.cpython-36.pyc\n",
            "byte-compiling build/bdist.linux-x86_64/egg/spektral/datasets/tud.py to tud.cpython-36.pyc\n",
            "byte-compiling build/bdist.linux-x86_64/egg/spektral/datasets/graphsage.py to graphsage.cpython-36.pyc\n",
            "byte-compiling build/bdist.linux-x86_64/egg/spektral/datasets/delaunay.py to delaunay.cpython-36.pyc\n",
            "byte-compiling build/bdist.linux-x86_64/egg/spektral/datasets/__init__.py to __init__.cpython-36.pyc\n",
            "byte-compiling build/bdist.linux-x86_64/egg/spektral/datasets/citation.py to citation.cpython-36.pyc\n",
            "byte-compiling build/bdist.linux-x86_64/egg/spektral/datasets/ogb.py to ogb.cpython-36.pyc\n",
            "byte-compiling build/bdist.linux-x86_64/egg/spektral/datasets/qm9.py to qm9.cpython-36.pyc\n",
            "creating build/bdist.linux-x86_64/egg/EGG-INFO\n",
            "copying spektral.egg-info/PKG-INFO -> build/bdist.linux-x86_64/egg/EGG-INFO\n",
            "copying spektral.egg-info/SOURCES.txt -> build/bdist.linux-x86_64/egg/EGG-INFO\n",
            "copying spektral.egg-info/dependency_links.txt -> build/bdist.linux-x86_64/egg/EGG-INFO\n",
            "copying spektral.egg-info/requires.txt -> build/bdist.linux-x86_64/egg/EGG-INFO\n",
            "copying spektral.egg-info/top_level.txt -> build/bdist.linux-x86_64/egg/EGG-INFO\n",
            "zip_safe flag not set; analyzing archive contents...\n",
            "creating dist\n",
            "creating 'dist/spektral-0.5.1-py3.6.egg' and adding 'build/bdist.linux-x86_64/egg' to it\n",
            "removing 'build/bdist.linux-x86_64/egg' (and everything under it)\n",
            "Processing spektral-0.5.1-py3.6.egg\n",
            "Copying spektral-0.5.1-py3.6.egg to /usr/local/lib/python3.6/dist-packages\n",
            "Adding spektral 0.5.1 to easy-install.pth file\n",
            "\n",
            "Installed /usr/local/lib/python3.6/dist-packages/spektral-0.5.1-py3.6.egg\n",
            "Processing dependencies for spektral==0.5.1\n",
            "Searching for scikit-learn==0.22.2.post1\n",
            "Best match: scikit-learn 0.22.2.post1\n",
            "Adding scikit-learn 0.22.2.post1 to easy-install.pth file\n",
            "\n",
            "Using /usr/local/lib/python3.6/dist-packages\n",
            "Searching for requests==2.23.0\n",
            "Best match: requests 2.23.0\n",
            "Adding requests 2.23.0 to easy-install.pth file\n",
            "\n",
            "Using /usr/local/lib/python3.6/dist-packages\n",
            "Searching for scipy==1.4.1\n",
            "Best match: scipy 1.4.1\n",
            "Adding scipy 1.4.1 to easy-install.pth file\n",
            "\n",
            "Using /usr/local/lib/python3.6/dist-packages\n",
            "Searching for numpy==1.18.4\n",
            "Best match: numpy 1.18.4\n",
            "Adding numpy 1.18.4 to easy-install.pth file\n",
            "Installing f2py script to /usr/local/bin\n",
            "Installing f2py3 script to /usr/local/bin\n",
            "Installing f2py3.6 script to /usr/local/bin\n",
            "\n",
            "Using /usr/local/lib/python3.6/dist-packages\n",
            "Searching for joblib==0.14.1\n",
            "Best match: joblib 0.14.1\n",
            "Adding joblib 0.14.1 to easy-install.pth file\n",
            "\n",
            "Using /usr/local/lib/python3.6/dist-packages\n",
            "Searching for lxml==4.2.6\n",
            "Best match: lxml 4.2.6\n",
            "Adding lxml 4.2.6 to easy-install.pth file\n",
            "\n",
            "Using /usr/local/lib/python3.6/dist-packages\n",
            "Searching for pandas==1.0.3\n",
            "Best match: pandas 1.0.3\n",
            "Adding pandas 1.0.3 to easy-install.pth file\n",
            "\n",
            "Using /usr/local/lib/python3.6/dist-packages\n",
            "Searching for networkx==2.4\n",
            "Best match: networkx 2.4\n",
            "Adding networkx 2.4 to easy-install.pth file\n",
            "\n",
            "Using /usr/local/lib/python3.6/dist-packages\n",
            "Searching for tensorflow==2.2.0rc4\n",
            "Best match: tensorflow 2.2.0rc4\n",
            "Adding tensorflow 2.2.0rc4 to easy-install.pth file\n",
            "Installing estimator_ckpt_converter script to /usr/local/bin\n",
            "Installing saved_model_cli script to /usr/local/bin\n",
            "Installing tensorboard script to /usr/local/bin\n",
            "Installing tf_upgrade_v2 script to /usr/local/bin\n",
            "Installing tflite_convert script to /usr/local/bin\n",
            "Installing toco script to /usr/local/bin\n",
            "Installing toco_from_protos script to /usr/local/bin\n",
            "\n",
            "Using /usr/local/lib/python3.6/dist-packages\n",
            "Searching for chardet==3.0.4\n",
            "Best match: chardet 3.0.4\n",
            "Adding chardet 3.0.4 to easy-install.pth file\n",
            "Installing chardetect script to /usr/local/bin\n",
            "\n",
            "Using /usr/local/lib/python3.6/dist-packages\n",
            "Searching for idna==2.9\n",
            "Best match: idna 2.9\n",
            "Adding idna 2.9 to easy-install.pth file\n",
            "\n",
            "Using /usr/local/lib/python3.6/dist-packages\n",
            "Searching for certifi==2020.4.5.1\n",
            "Best match: certifi 2020.4.5.1\n",
            "Adding certifi 2020.4.5.1 to easy-install.pth file\n",
            "\n",
            "Using /usr/local/lib/python3.6/dist-packages\n",
            "Searching for urllib3==1.24.3\n",
            "Best match: urllib3 1.24.3\n",
            "Adding urllib3 1.24.3 to easy-install.pth file\n",
            "\n",
            "Using /usr/local/lib/python3.6/dist-packages\n",
            "Searching for python-dateutil==2.8.1\n",
            "Best match: python-dateutil 2.8.1\n",
            "Adding python-dateutil 2.8.1 to easy-install.pth file\n",
            "\n",
            "Using /usr/local/lib/python3.6/dist-packages\n",
            "Searching for pytz==2018.9\n",
            "Best match: pytz 2018.9\n",
            "Adding pytz 2018.9 to easy-install.pth file\n",
            "\n",
            "Using /usr/local/lib/python3.6/dist-packages\n",
            "Searching for decorator==4.4.2\n",
            "Best match: decorator 4.4.2\n",
            "Adding decorator 4.4.2 to easy-install.pth file\n",
            "\n",
            "Using /usr/local/lib/python3.6/dist-packages\n",
            "Searching for termcolor==1.1.0\n",
            "Best match: termcolor 1.1.0\n",
            "Adding termcolor 1.1.0 to easy-install.pth file\n",
            "\n",
            "Using /usr/local/lib/python3.6/dist-packages\n",
            "Searching for gast==0.3.3\n",
            "Best match: gast 0.3.3\n",
            "Adding gast 0.3.3 to easy-install.pth file\n",
            "\n",
            "Using /usr/local/lib/python3.6/dist-packages\n",
            "Searching for Keras-Preprocessing==1.1.0\n",
            "Best match: Keras-Preprocessing 1.1.0\n",
            "Adding Keras-Preprocessing 1.1.0 to easy-install.pth file\n",
            "\n",
            "Using /usr/local/lib/python3.6/dist-packages\n",
            "Searching for wheel==0.34.2\n",
            "Best match: wheel 0.34.2\n",
            "Adding wheel 0.34.2 to easy-install.pth file\n",
            "Installing wheel script to /usr/local/bin\n",
            "\n",
            "Using /usr/local/lib/python3.6/dist-packages\n",
            "Searching for grpcio==1.28.1\n",
            "Best match: grpcio 1.28.1\n",
            "Adding grpcio 1.28.1 to easy-install.pth file\n",
            "\n",
            "Using /usr/local/lib/python3.6/dist-packages\n",
            "Searching for protobuf==3.10.0\n",
            "Best match: protobuf 3.10.0\n",
            "Adding protobuf 3.10.0 to easy-install.pth file\n",
            "\n",
            "Using /usr/local/lib/python3.6/dist-packages\n",
            "Searching for tensorboard==2.2.1\n",
            "Best match: tensorboard 2.2.1\n",
            "Adding tensorboard 2.2.1 to easy-install.pth file\n",
            "Installing tensorboard script to /usr/local/bin\n",
            "\n",
            "Using /usr/local/lib/python3.6/dist-packages\n",
            "Searching for opt-einsum==3.2.1\n",
            "Best match: opt-einsum 3.2.1\n",
            "Adding opt-einsum 3.2.1 to easy-install.pth file\n",
            "\n",
            "Using /usr/local/lib/python3.6/dist-packages\n",
            "Searching for google-pasta==0.2.0\n",
            "Best match: google-pasta 0.2.0\n",
            "Adding google-pasta 0.2.0 to easy-install.pth file\n",
            "\n",
            "Using /usr/local/lib/python3.6/dist-packages\n",
            "Searching for absl-py==0.9.0\n",
            "Best match: absl-py 0.9.0\n",
            "Adding absl-py 0.9.0 to easy-install.pth file\n",
            "\n",
            "Using /usr/local/lib/python3.6/dist-packages\n",
            "Searching for h5py==2.10.0\n",
            "Best match: h5py 2.10.0\n",
            "Adding h5py 2.10.0 to easy-install.pth file\n",
            "\n",
            "Using /usr/local/lib/python3.6/dist-packages\n",
            "Searching for tensorflow-estimator==2.2.0\n",
            "Best match: tensorflow-estimator 2.2.0\n",
            "Adding tensorflow-estimator 2.2.0 to easy-install.pth file\n",
            "\n",
            "Using /usr/local/lib/python3.6/dist-packages\n",
            "Searching for six==1.12.0\n",
            "Best match: six 1.12.0\n",
            "Adding six 1.12.0 to easy-install.pth file\n",
            "\n",
            "Using /usr/local/lib/python3.6/dist-packages\n",
            "Searching for wrapt==1.12.1\n",
            "Best match: wrapt 1.12.1\n",
            "Adding wrapt 1.12.1 to easy-install.pth file\n",
            "\n",
            "Using /usr/local/lib/python3.6/dist-packages\n",
            "Searching for astunparse==1.6.3\n",
            "Best match: astunparse 1.6.3\n",
            "Adding astunparse 1.6.3 to easy-install.pth file\n",
            "\n",
            "Using /usr/local/lib/python3.6/dist-packages\n",
            "Searching for setuptools==46.1.3\n",
            "Best match: setuptools 46.1.3\n",
            "Adding setuptools 46.1.3 to easy-install.pth file\n",
            "Installing easy_install script to /usr/local/bin\n",
            "Installing easy_install-3.8 script to /usr/local/bin\n",
            "\n",
            "Using /usr/local/lib/python3.6/dist-packages\n",
            "Searching for google-auth-oauthlib==0.4.1\n",
            "Best match: google-auth-oauthlib 0.4.1\n",
            "Adding google-auth-oauthlib 0.4.1 to easy-install.pth file\n",
            "Installing google-oauthlib-tool script to /usr/local/bin\n",
            "\n",
            "Using /usr/local/lib/python3.6/dist-packages\n",
            "Searching for tensorboard-plugin-wit==1.6.0.post3\n",
            "Best match: tensorboard-plugin-wit 1.6.0.post3\n",
            "Adding tensorboard-plugin-wit 1.6.0.post3 to easy-install.pth file\n",
            "\n",
            "Using /usr/local/lib/python3.6/dist-packages\n",
            "Searching for Markdown==3.2.1\n",
            "Best match: Markdown 3.2.1\n",
            "Adding Markdown 3.2.1 to easy-install.pth file\n",
            "Installing markdown_py script to /usr/local/bin\n",
            "\n",
            "Using /usr/local/lib/python3.6/dist-packages\n",
            "Searching for Werkzeug==1.0.1\n",
            "Best match: Werkzeug 1.0.1\n",
            "Adding Werkzeug 1.0.1 to easy-install.pth file\n",
            "\n",
            "Using /usr/local/lib/python3.6/dist-packages\n",
            "Searching for google-auth==1.7.2\n",
            "Best match: google-auth 1.7.2\n",
            "Adding google-auth 1.7.2 to easy-install.pth file\n",
            "\n",
            "Using /usr/local/lib/python3.6/dist-packages\n",
            "Searching for requests-oauthlib==1.3.0\n",
            "Best match: requests-oauthlib 1.3.0\n",
            "Adding requests-oauthlib 1.3.0 to easy-install.pth file\n",
            "\n",
            "Using /usr/local/lib/python3.6/dist-packages\n",
            "Searching for cachetools==3.1.1\n",
            "Best match: cachetools 3.1.1\n",
            "Adding cachetools 3.1.1 to easy-install.pth file\n",
            "\n",
            "Using /usr/local/lib/python3.6/dist-packages\n",
            "Searching for rsa==4.0\n",
            "Best match: rsa 4.0\n",
            "Adding rsa 4.0 to easy-install.pth file\n",
            "Installing pyrsa-decrypt script to /usr/local/bin\n",
            "Installing pyrsa-encrypt script to /usr/local/bin\n",
            "Installing pyrsa-keygen script to /usr/local/bin\n",
            "Installing pyrsa-priv2pub script to /usr/local/bin\n",
            "Installing pyrsa-sign script to /usr/local/bin\n",
            "Installing pyrsa-verify script to /usr/local/bin\n",
            "\n",
            "Using /usr/local/lib/python3.6/dist-packages\n",
            "Searching for pyasn1-modules==0.2.8\n",
            "Best match: pyasn1-modules 0.2.8\n",
            "Adding pyasn1-modules 0.2.8 to easy-install.pth file\n",
            "\n",
            "Using /usr/local/lib/python3.6/dist-packages\n",
            "Searching for oauthlib==3.1.0\n",
            "Best match: oauthlib 3.1.0\n",
            "Adding oauthlib 3.1.0 to easy-install.pth file\n",
            "\n",
            "Using /usr/local/lib/python3.6/dist-packages\n",
            "Searching for pyasn1==0.4.8\n",
            "Best match: pyasn1 0.4.8\n",
            "Adding pyasn1 0.4.8 to easy-install.pth file\n",
            "\n",
            "Using /usr/local/lib/python3.6/dist-packages\n",
            "Finished processing dependencies for spektral==0.5.1\n"
          ],
          "name": "stdout"
        }
      ]
    },
    {
      "cell_type": "code",
      "metadata": {
        "colab_type": "code",
        "id": "5_Ruy5uKeEth",
        "outputId": "b1a184f1-3562-48bc-aaa9-24305d2bbe05",
        "colab": {
          "base_uri": "https://localhost:8080/",
          "height": 121
        }
      },
      "source": [
        "from google.colab import drive\n",
        "drive.mount('/content/drive')"
      ],
      "execution_count": 6,
      "outputs": [
        {
          "output_type": "stream",
          "text": [
            "Go to this URL in a browser: https://accounts.google.com/o/oauth2/auth?client_id=947318989803-6bn6qk8qdgf4n4g3pfee6491hc0brc4i.apps.googleusercontent.com&redirect_uri=urn%3aietf%3awg%3aoauth%3a2.0%3aoob&response_type=code&scope=email%20https%3a%2f%2fwww.googleapis.com%2fauth%2fdocs.test%20https%3a%2f%2fwww.googleapis.com%2fauth%2fdrive%20https%3a%2f%2fwww.googleapis.com%2fauth%2fdrive.photos.readonly%20https%3a%2f%2fwww.googleapis.com%2fauth%2fpeopleapi.readonly\n",
            "\n",
            "Enter your authorization code:\n",
            "··········\n",
            "Mounted at /content/drive\n"
          ],
          "name": "stdout"
        }
      ]
    },
    {
      "cell_type": "code",
      "metadata": {
        "colab_type": "code",
        "id": "yiKS7cpuYUm2",
        "colab": {}
      },
      "source": [
        "import numpy as np\n",
        "import pandas as pd\n",
        "df = pd.read_csv('/content/drive/My Drive/ferguson_features_user_imp_added.csv')"
      ],
      "execution_count": 0,
      "outputs": []
    },
    {
      "cell_type": "code",
      "metadata": {
        "id": "Rs_vea03NF_C",
        "colab_type": "code",
        "colab": {}
      },
      "source": [
        "import numpy as np\n",
        "import pandas as pd\n",
        "df = pd.read_csv('data/features_user_imp_added_german.csv')"
      ],
      "execution_count": 0,
      "outputs": []
    },
    {
      "cell_type": "code",
      "metadata": {
        "id": "_KfEpTnINF_F",
        "colab_type": "code",
        "colab": {
          "base_uri": "https://localhost:8080/",
          "height": 34
        },
        "outputId": "8c57ec4c-5573-465b-c5d0-6afbd1218e35"
      },
      "source": [
        "df[df.target_variables == 0].count()['target_variables']"
      ],
      "execution_count": 8,
      "outputs": [
        {
          "output_type": "execute_result",
          "data": {
            "text/plain": [
              "3792"
            ]
          },
          "metadata": {
            "tags": []
          },
          "execution_count": 8
        }
      ]
    },
    {
      "cell_type": "code",
      "metadata": {
        "id": "LbtpqTLcNF_M",
        "colab_type": "code",
        "colab": {
          "base_uri": "https://localhost:8080/",
          "height": 34
        },
        "outputId": "ce1b0f1f-ab1b-45b5-f630-29cb1dc01bbb"
      },
      "source": [
        "df[df.target_variables == 1].count()['target_variables']"
      ],
      "execution_count": 9,
      "outputs": [
        {
          "output_type": "execute_result",
          "data": {
            "text/plain": [
              "7001"
            ]
          },
          "metadata": {
            "tags": []
          },
          "execution_count": 9
        }
      ]
    },
    {
      "cell_type": "code",
      "metadata": {
        "colab_type": "code",
        "id": "DwSP8eDVhjJU",
        "colab": {}
      },
      "source": [
        "from sklearn.metrics import precision_score\n",
        "from sklearn.metrics import recall_score\n",
        "from sklearn.metrics import f1_score\n",
        "from sklearn.metrics import accuracy_score\n",
        "import matplotlib.pyplot as plt\n",
        "from itertools import cycle\n",
        "from sklearn.metrics import roc_curve, auc\n",
        "from scipy import interp\n",
        "from sklearn.metrics import roc_auc_score\n",
        "from sklearn import metrics"
      ],
      "execution_count": 0,
      "outputs": []
    },
    {
      "cell_type": "code",
      "metadata": {
        "colab_type": "code",
        "id": "Eu3I3gCgdYV4",
        "outputId": "98f41f16-af75-4d3b-da1c-a35b04713d78",
        "colab": {
          "base_uri": "https://localhost:8080/",
          "height": 261
        }
      },
      "source": [
        "df.head()"
      ],
      "execution_count": 11,
      "outputs": [
        {
          "output_type": "execute_result",
          "data": {
            "text/html": [
              "<div>\n",
              "<style scoped>\n",
              "    .dataframe tbody tr th:only-of-type {\n",
              "        vertical-align: middle;\n",
              "    }\n",
              "\n",
              "    .dataframe tbody tr th {\n",
              "        vertical-align: top;\n",
              "    }\n",
              "\n",
              "    .dataframe thead th {\n",
              "        text-align: right;\n",
              "    }\n",
              "</style>\n",
              "<table border=\"1\" class=\"dataframe\">\n",
              "  <thead>\n",
              "    <tr style=\"text-align: right;\">\n",
              "      <th></th>\n",
              "      <th>Unnamed: 0</th>\n",
              "      <th>abandon</th>\n",
              "      <th>abid</th>\n",
              "      <th>abil</th>\n",
              "      <th>abl</th>\n",
              "      <th>abov</th>\n",
              "      <th>absolut</th>\n",
              "      <th>absurd</th>\n",
              "      <th>abus</th>\n",
              "      <th>acab</th>\n",
              "      <th>academi</th>\n",
              "      <th>accept</th>\n",
              "      <th>access</th>\n",
              "      <th>accomplic</th>\n",
              "      <th>accomplish</th>\n",
              "      <th>accord</th>\n",
              "      <th>account</th>\n",
              "      <th>acct</th>\n",
              "      <th>accur</th>\n",
              "      <th>accus</th>\n",
              "      <th>acknowledg</th>\n",
              "      <th>aclu</th>\n",
              "      <th>across</th>\n",
              "      <th>act</th>\n",
              "      <th>action</th>\n",
              "      <th>activ</th>\n",
              "      <th>activist</th>\n",
              "      <th>actor</th>\n",
              "      <th>actual</th>\n",
              "      <th>ad</th>\n",
              "      <th>address</th>\n",
              "      <th>administr</th>\n",
              "      <th>admir</th>\n",
              "      <th>admiss</th>\n",
              "      <th>admit</th>\n",
              "      <th>adult</th>\n",
              "      <th>advanc</th>\n",
              "      <th>advantag</th>\n",
              "      <th>advertis</th>\n",
              "      <th>advic</th>\n",
              "      <th>...</th>\n",
              "      <th>worthless</th>\n",
              "      <th>would</th>\n",
              "      <th>wouldnt</th>\n",
              "      <th>wound</th>\n",
              "      <th>wrap</th>\n",
              "      <th>wreck</th>\n",
              "      <th>wrestl</th>\n",
              "      <th>write</th>\n",
              "      <th>written</th>\n",
              "      <th>wrong</th>\n",
              "      <th>wrongdo</th>\n",
              "      <th>wrote</th>\n",
              "      <th>wtf</th>\n",
              "      <th>yall</th>\n",
              "      <th>yard</th>\n",
              "      <th>yawn</th>\n",
              "      <th>yeah</th>\n",
              "      <th>year</th>\n",
              "      <th>yell</th>\n",
              "      <th>yellow</th>\n",
              "      <th>yesterday</th>\n",
              "      <th>yike</th>\n",
              "      <th>york</th>\n",
              "      <th>yorker</th>\n",
              "      <th>youll</th>\n",
              "      <th>young</th>\n",
              "      <th>younger</th>\n",
              "      <th>yourselv</th>\n",
              "      <th>youth</th>\n",
              "      <th>youtub</th>\n",
              "      <th>zero</th>\n",
              "      <th>zimmerman</th>\n",
              "      <th>zionist</th>\n",
              "      <th>zone</th>\n",
              "      <th>user_id</th>\n",
              "      <th>favorites_count</th>\n",
              "      <th>verified</th>\n",
              "      <th>followers_count</th>\n",
              "      <th>user_imp</th>\n",
              "      <th>target_variables</th>\n",
              "    </tr>\n",
              "  </thead>\n",
              "  <tbody>\n",
              "    <tr>\n",
              "      <th>0</th>\n",
              "      <td>0</td>\n",
              "      <td>0.0</td>\n",
              "      <td>0.0</td>\n",
              "      <td>0.0</td>\n",
              "      <td>0.0</td>\n",
              "      <td>0.0</td>\n",
              "      <td>0.0</td>\n",
              "      <td>0.0</td>\n",
              "      <td>0.0</td>\n",
              "      <td>0.0</td>\n",
              "      <td>0.0</td>\n",
              "      <td>0.0</td>\n",
              "      <td>0.0</td>\n",
              "      <td>0.0</td>\n",
              "      <td>0.0</td>\n",
              "      <td>0.0</td>\n",
              "      <td>0.0</td>\n",
              "      <td>0.0</td>\n",
              "      <td>0.0</td>\n",
              "      <td>0.0</td>\n",
              "      <td>0.0</td>\n",
              "      <td>0.0</td>\n",
              "      <td>0.0</td>\n",
              "      <td>0.0</td>\n",
              "      <td>0.0</td>\n",
              "      <td>0.0</td>\n",
              "      <td>0.0</td>\n",
              "      <td>0.0</td>\n",
              "      <td>0.0</td>\n",
              "      <td>0.0</td>\n",
              "      <td>0.0</td>\n",
              "      <td>0.0</td>\n",
              "      <td>0.0</td>\n",
              "      <td>0.0</td>\n",
              "      <td>0.0</td>\n",
              "      <td>0.0</td>\n",
              "      <td>0.0</td>\n",
              "      <td>0.0</td>\n",
              "      <td>0.0</td>\n",
              "      <td>0.0</td>\n",
              "      <td>...</td>\n",
              "      <td>0.0</td>\n",
              "      <td>0.0</td>\n",
              "      <td>0.0</td>\n",
              "      <td>0.0</td>\n",
              "      <td>0.0</td>\n",
              "      <td>0.0</td>\n",
              "      <td>0.0</td>\n",
              "      <td>0.0</td>\n",
              "      <td>0.0</td>\n",
              "      <td>0.0</td>\n",
              "      <td>0.0</td>\n",
              "      <td>0.0</td>\n",
              "      <td>0.0</td>\n",
              "      <td>0.0</td>\n",
              "      <td>0.0</td>\n",
              "      <td>0.0</td>\n",
              "      <td>0.0</td>\n",
              "      <td>0.053392</td>\n",
              "      <td>0.0</td>\n",
              "      <td>0.0</td>\n",
              "      <td>0.0</td>\n",
              "      <td>0.0</td>\n",
              "      <td>0.0</td>\n",
              "      <td>0.0</td>\n",
              "      <td>0.0</td>\n",
              "      <td>0.0</td>\n",
              "      <td>0.0</td>\n",
              "      <td>0.0</td>\n",
              "      <td>0.0</td>\n",
              "      <td>0.0</td>\n",
              "      <td>0.0</td>\n",
              "      <td>0.0</td>\n",
              "      <td>0.0</td>\n",
              "      <td>0.0</td>\n",
              "      <td>1.539100e+09</td>\n",
              "      <td>413.0</td>\n",
              "      <td>1.0</td>\n",
              "      <td>59.0</td>\n",
              "      <td>0.0016</td>\n",
              "      <td>0</td>\n",
              "    </tr>\n",
              "    <tr>\n",
              "      <th>1</th>\n",
              "      <td>1</td>\n",
              "      <td>0.0</td>\n",
              "      <td>0.0</td>\n",
              "      <td>0.0</td>\n",
              "      <td>0.0</td>\n",
              "      <td>0.0</td>\n",
              "      <td>0.0</td>\n",
              "      <td>0.0</td>\n",
              "      <td>0.0</td>\n",
              "      <td>0.0</td>\n",
              "      <td>0.0</td>\n",
              "      <td>0.0</td>\n",
              "      <td>0.0</td>\n",
              "      <td>0.0</td>\n",
              "      <td>0.0</td>\n",
              "      <td>0.0</td>\n",
              "      <td>0.0</td>\n",
              "      <td>0.0</td>\n",
              "      <td>0.0</td>\n",
              "      <td>0.0</td>\n",
              "      <td>0.0</td>\n",
              "      <td>0.0</td>\n",
              "      <td>0.0</td>\n",
              "      <td>0.0</td>\n",
              "      <td>0.0</td>\n",
              "      <td>0.0</td>\n",
              "      <td>0.0</td>\n",
              "      <td>0.0</td>\n",
              "      <td>0.0</td>\n",
              "      <td>0.0</td>\n",
              "      <td>0.0</td>\n",
              "      <td>0.0</td>\n",
              "      <td>0.0</td>\n",
              "      <td>0.0</td>\n",
              "      <td>0.0</td>\n",
              "      <td>0.0</td>\n",
              "      <td>0.0</td>\n",
              "      <td>0.0</td>\n",
              "      <td>0.0</td>\n",
              "      <td>0.0</td>\n",
              "      <td>...</td>\n",
              "      <td>0.0</td>\n",
              "      <td>0.0</td>\n",
              "      <td>0.0</td>\n",
              "      <td>0.0</td>\n",
              "      <td>0.0</td>\n",
              "      <td>0.0</td>\n",
              "      <td>0.0</td>\n",
              "      <td>0.0</td>\n",
              "      <td>0.0</td>\n",
              "      <td>0.0</td>\n",
              "      <td>0.0</td>\n",
              "      <td>0.0</td>\n",
              "      <td>0.0</td>\n",
              "      <td>0.0</td>\n",
              "      <td>0.0</td>\n",
              "      <td>0.0</td>\n",
              "      <td>0.0</td>\n",
              "      <td>0.000000</td>\n",
              "      <td>0.0</td>\n",
              "      <td>0.0</td>\n",
              "      <td>0.0</td>\n",
              "      <td>0.0</td>\n",
              "      <td>0.0</td>\n",
              "      <td>0.0</td>\n",
              "      <td>0.0</td>\n",
              "      <td>0.0</td>\n",
              "      <td>0.0</td>\n",
              "      <td>0.0</td>\n",
              "      <td>0.0</td>\n",
              "      <td>0.0</td>\n",
              "      <td>0.0</td>\n",
              "      <td>0.0</td>\n",
              "      <td>0.0</td>\n",
              "      <td>0.0</td>\n",
              "      <td>1.409095e+07</td>\n",
              "      <td>1283.0</td>\n",
              "      <td>1.0</td>\n",
              "      <td>100400.0</td>\n",
              "      <td>0.2410</td>\n",
              "      <td>0</td>\n",
              "    </tr>\n",
              "    <tr>\n",
              "      <th>2</th>\n",
              "      <td>2</td>\n",
              "      <td>0.0</td>\n",
              "      <td>0.0</td>\n",
              "      <td>0.0</td>\n",
              "      <td>0.0</td>\n",
              "      <td>0.0</td>\n",
              "      <td>0.0</td>\n",
              "      <td>0.0</td>\n",
              "      <td>0.0</td>\n",
              "      <td>0.0</td>\n",
              "      <td>0.0</td>\n",
              "      <td>0.0</td>\n",
              "      <td>0.0</td>\n",
              "      <td>0.0</td>\n",
              "      <td>0.0</td>\n",
              "      <td>0.0</td>\n",
              "      <td>0.0</td>\n",
              "      <td>0.0</td>\n",
              "      <td>0.0</td>\n",
              "      <td>0.0</td>\n",
              "      <td>0.0</td>\n",
              "      <td>0.0</td>\n",
              "      <td>0.0</td>\n",
              "      <td>0.0</td>\n",
              "      <td>0.0</td>\n",
              "      <td>0.0</td>\n",
              "      <td>0.0</td>\n",
              "      <td>0.0</td>\n",
              "      <td>0.0</td>\n",
              "      <td>0.0</td>\n",
              "      <td>0.0</td>\n",
              "      <td>0.0</td>\n",
              "      <td>0.0</td>\n",
              "      <td>0.0</td>\n",
              "      <td>0.0</td>\n",
              "      <td>0.0</td>\n",
              "      <td>0.0</td>\n",
              "      <td>0.0</td>\n",
              "      <td>0.0</td>\n",
              "      <td>0.0</td>\n",
              "      <td>...</td>\n",
              "      <td>0.0</td>\n",
              "      <td>0.0</td>\n",
              "      <td>0.0</td>\n",
              "      <td>0.0</td>\n",
              "      <td>0.0</td>\n",
              "      <td>0.0</td>\n",
              "      <td>0.0</td>\n",
              "      <td>0.0</td>\n",
              "      <td>0.0</td>\n",
              "      <td>0.0</td>\n",
              "      <td>0.0</td>\n",
              "      <td>0.0</td>\n",
              "      <td>0.0</td>\n",
              "      <td>0.0</td>\n",
              "      <td>0.0</td>\n",
              "      <td>0.0</td>\n",
              "      <td>0.0</td>\n",
              "      <td>0.000000</td>\n",
              "      <td>0.0</td>\n",
              "      <td>0.0</td>\n",
              "      <td>0.0</td>\n",
              "      <td>0.0</td>\n",
              "      <td>0.0</td>\n",
              "      <td>0.0</td>\n",
              "      <td>0.0</td>\n",
              "      <td>0.0</td>\n",
              "      <td>0.0</td>\n",
              "      <td>0.0</td>\n",
              "      <td>0.0</td>\n",
              "      <td>0.0</td>\n",
              "      <td>0.0</td>\n",
              "      <td>0.0</td>\n",
              "      <td>0.0</td>\n",
              "      <td>0.0</td>\n",
              "      <td>1.921518e+09</td>\n",
              "      <td>151.0</td>\n",
              "      <td>1.0</td>\n",
              "      <td>384.0</td>\n",
              "      <td>0.0006</td>\n",
              "      <td>0</td>\n",
              "    </tr>\n",
              "    <tr>\n",
              "      <th>3</th>\n",
              "      <td>3</td>\n",
              "      <td>0.0</td>\n",
              "      <td>0.0</td>\n",
              "      <td>0.0</td>\n",
              "      <td>0.0</td>\n",
              "      <td>0.0</td>\n",
              "      <td>0.0</td>\n",
              "      <td>0.0</td>\n",
              "      <td>0.0</td>\n",
              "      <td>0.0</td>\n",
              "      <td>0.0</td>\n",
              "      <td>0.0</td>\n",
              "      <td>0.0</td>\n",
              "      <td>0.0</td>\n",
              "      <td>0.0</td>\n",
              "      <td>0.0</td>\n",
              "      <td>0.0</td>\n",
              "      <td>0.0</td>\n",
              "      <td>0.0</td>\n",
              "      <td>0.0</td>\n",
              "      <td>0.0</td>\n",
              "      <td>0.0</td>\n",
              "      <td>0.0</td>\n",
              "      <td>0.0</td>\n",
              "      <td>0.0</td>\n",
              "      <td>0.0</td>\n",
              "      <td>0.0</td>\n",
              "      <td>0.0</td>\n",
              "      <td>0.0</td>\n",
              "      <td>0.0</td>\n",
              "      <td>0.0</td>\n",
              "      <td>0.0</td>\n",
              "      <td>0.0</td>\n",
              "      <td>0.0</td>\n",
              "      <td>0.0</td>\n",
              "      <td>0.0</td>\n",
              "      <td>0.0</td>\n",
              "      <td>0.0</td>\n",
              "      <td>0.0</td>\n",
              "      <td>0.0</td>\n",
              "      <td>...</td>\n",
              "      <td>0.0</td>\n",
              "      <td>0.0</td>\n",
              "      <td>0.0</td>\n",
              "      <td>0.0</td>\n",
              "      <td>0.0</td>\n",
              "      <td>0.0</td>\n",
              "      <td>0.0</td>\n",
              "      <td>0.0</td>\n",
              "      <td>0.0</td>\n",
              "      <td>0.0</td>\n",
              "      <td>0.0</td>\n",
              "      <td>0.0</td>\n",
              "      <td>0.0</td>\n",
              "      <td>0.0</td>\n",
              "      <td>0.0</td>\n",
              "      <td>0.0</td>\n",
              "      <td>0.0</td>\n",
              "      <td>0.000000</td>\n",
              "      <td>0.0</td>\n",
              "      <td>0.0</td>\n",
              "      <td>0.0</td>\n",
              "      <td>0.0</td>\n",
              "      <td>0.0</td>\n",
              "      <td>0.0</td>\n",
              "      <td>0.0</td>\n",
              "      <td>0.0</td>\n",
              "      <td>0.0</td>\n",
              "      <td>0.0</td>\n",
              "      <td>0.0</td>\n",
              "      <td>0.0</td>\n",
              "      <td>0.0</td>\n",
              "      <td>0.0</td>\n",
              "      <td>0.0</td>\n",
              "      <td>0.0</td>\n",
              "      <td>2.281204e+08</td>\n",
              "      <td>2218.0</td>\n",
              "      <td>1.0</td>\n",
              "      <td>1685.0</td>\n",
              "      <td>0.0019</td>\n",
              "      <td>0</td>\n",
              "    </tr>\n",
              "    <tr>\n",
              "      <th>4</th>\n",
              "      <td>4</td>\n",
              "      <td>0.0</td>\n",
              "      <td>0.0</td>\n",
              "      <td>0.0</td>\n",
              "      <td>0.0</td>\n",
              "      <td>0.0</td>\n",
              "      <td>0.0</td>\n",
              "      <td>0.0</td>\n",
              "      <td>0.0</td>\n",
              "      <td>0.0</td>\n",
              "      <td>0.0</td>\n",
              "      <td>0.0</td>\n",
              "      <td>0.0</td>\n",
              "      <td>0.0</td>\n",
              "      <td>0.0</td>\n",
              "      <td>0.0</td>\n",
              "      <td>0.0</td>\n",
              "      <td>0.0</td>\n",
              "      <td>0.0</td>\n",
              "      <td>0.0</td>\n",
              "      <td>0.0</td>\n",
              "      <td>0.0</td>\n",
              "      <td>0.0</td>\n",
              "      <td>0.0</td>\n",
              "      <td>0.0</td>\n",
              "      <td>0.0</td>\n",
              "      <td>0.0</td>\n",
              "      <td>0.0</td>\n",
              "      <td>0.0</td>\n",
              "      <td>0.0</td>\n",
              "      <td>0.0</td>\n",
              "      <td>0.0</td>\n",
              "      <td>0.0</td>\n",
              "      <td>0.0</td>\n",
              "      <td>0.0</td>\n",
              "      <td>0.0</td>\n",
              "      <td>0.0</td>\n",
              "      <td>0.0</td>\n",
              "      <td>0.0</td>\n",
              "      <td>0.0</td>\n",
              "      <td>...</td>\n",
              "      <td>0.0</td>\n",
              "      <td>0.0</td>\n",
              "      <td>0.0</td>\n",
              "      <td>0.0</td>\n",
              "      <td>0.0</td>\n",
              "      <td>0.0</td>\n",
              "      <td>0.0</td>\n",
              "      <td>0.0</td>\n",
              "      <td>0.0</td>\n",
              "      <td>0.0</td>\n",
              "      <td>0.0</td>\n",
              "      <td>0.0</td>\n",
              "      <td>0.0</td>\n",
              "      <td>0.0</td>\n",
              "      <td>0.0</td>\n",
              "      <td>0.0</td>\n",
              "      <td>0.0</td>\n",
              "      <td>0.000000</td>\n",
              "      <td>0.0</td>\n",
              "      <td>0.0</td>\n",
              "      <td>0.0</td>\n",
              "      <td>0.0</td>\n",
              "      <td>0.0</td>\n",
              "      <td>0.0</td>\n",
              "      <td>0.0</td>\n",
              "      <td>0.0</td>\n",
              "      <td>0.0</td>\n",
              "      <td>0.0</td>\n",
              "      <td>0.0</td>\n",
              "      <td>0.0</td>\n",
              "      <td>0.0</td>\n",
              "      <td>0.0</td>\n",
              "      <td>0.0</td>\n",
              "      <td>0.0</td>\n",
              "      <td>7.607852e+06</td>\n",
              "      <td>2426.0</td>\n",
              "      <td>1.0</td>\n",
              "      <td>3475.0</td>\n",
              "      <td>0.0015</td>\n",
              "      <td>0</td>\n",
              "    </tr>\n",
              "  </tbody>\n",
              "</table>\n",
              "<p>5 rows × 2796 columns</p>\n",
              "</div>"
            ],
            "text/plain": [
              "   Unnamed: 0  abandon  abid  ...  followers_count  user_imp  target_variables\n",
              "0           0      0.0   0.0  ...             59.0    0.0016                 0\n",
              "1           1      0.0   0.0  ...         100400.0    0.2410                 0\n",
              "2           2      0.0   0.0  ...            384.0    0.0006                 0\n",
              "3           3      0.0   0.0  ...           1685.0    0.0019                 0\n",
              "4           4      0.0   0.0  ...           3475.0    0.0015                 0\n",
              "\n",
              "[5 rows x 2796 columns]"
            ]
          },
          "metadata": {
            "tags": []
          },
          "execution_count": 11
        }
      ]
    },
    {
      "cell_type": "code",
      "metadata": {
        "colab_type": "code",
        "id": "o4XIT3ZPbTs3",
        "colab": {}
      },
      "source": [
        "df.drop('Unnamed: 0', axis = 1, inplace = True)"
      ],
      "execution_count": 0,
      "outputs": []
    },
    {
      "cell_type": "code",
      "metadata": {
        "colab_type": "code",
        "id": "6U0fqCsZbTs6",
        "outputId": "8de1b980-9a5f-4ef8-a548-f8102cbf0c29",
        "colab": {
          "base_uri": "https://localhost:8080/",
          "height": 34
        }
      },
      "source": [
        "df.shape"
      ],
      "execution_count": 13,
      "outputs": [
        {
          "output_type": "execute_result",
          "data": {
            "text/plain": [
              "(10793, 2795)"
            ]
          },
          "metadata": {
            "tags": []
          },
          "execution_count": 13
        }
      ]
    },
    {
      "cell_type": "code",
      "metadata": {
        "colab_type": "code",
        "id": "X6R0aYNUufNB",
        "outputId": "ff24a499-1ea7-4547-c686-221025cf93d6",
        "colab": {
          "base_uri": "https://localhost:8080/",
          "height": 34
        }
      },
      "source": [
        "df.target_variables.nunique()"
      ],
      "execution_count": 14,
      "outputs": [
        {
          "output_type": "execute_result",
          "data": {
            "text/plain": [
              "2"
            ]
          },
          "metadata": {
            "tags": []
          },
          "execution_count": 14
        }
      ]
    },
    {
      "cell_type": "code",
      "metadata": {
        "colab_type": "code",
        "id": "g3pZCHeCbTs9",
        "colab": {}
      },
      "source": [
        "X = df.iloc[:, :-1].values #Take all the columns except last one\n",
        "y = df.iloc[:, -1].values #Take the last column as the result\n",
        "from scipy import sparse\n",
        "#X_csr = sparse.csr_matrix(X)"
      ],
      "execution_count": 0,
      "outputs": []
    },
    {
      "cell_type": "code",
      "metadata": {
        "colab_type": "code",
        "id": "iefK_CgSbTs_",
        "outputId": "c32ac52c-4ca4-49f2-87b5-d043764db368",
        "colab": {
          "base_uri": "https://localhost:8080/",
          "height": 34
        }
      },
      "source": [
        "y.shape"
      ],
      "execution_count": 16,
      "outputs": [
        {
          "output_type": "execute_result",
          "data": {
            "text/plain": [
              "(10793,)"
            ]
          },
          "metadata": {
            "tags": []
          },
          "execution_count": 16
        }
      ]
    },
    {
      "cell_type": "code",
      "metadata": {
        "colab_type": "code",
        "id": "vUxE1X_DbTtI",
        "colab": {}
      },
      "source": [
        "import networkx as nx"
      ],
      "execution_count": 0,
      "outputs": []
    },
    {
      "cell_type": "code",
      "metadata": {
        "colab_type": "code",
        "id": "7y0EpO_ebTtK",
        "outputId": "aa3696ed-a3ca-4ccd-fcca-c07c7614d04c",
        "colab": {
          "base_uri": "https://localhost:8080/",
          "height": 34
        }
      },
      "source": [
        "G = nx.read_multiline_adjlist(\"/content/drive/My Drive/ferguson.adjlist\")\n",
        "A = nx.adjacency_matrix(G)\n",
        "A.shape"
      ],
      "execution_count": 18,
      "outputs": [
        {
          "output_type": "execute_result",
          "data": {
            "text/plain": [
              "(10793, 10793)"
            ]
          },
          "metadata": {
            "tags": []
          },
          "execution_count": 18
        }
      ]
    },
    {
      "cell_type": "code",
      "metadata": {
        "colab_type": "code",
        "id": "yKIh3Q9JbTtP",
        "colab": {}
      },
      "source": [
        "n1 = df['target_variables']\n",
        "classes = 2\n",
        "y = np.zeros((len(df),classes))\n",
        "#labels\n",
        "n = list(n1)\n",
        "for i in range(len(df)):\n",
        "    if (n[i] == 1):\n",
        "        y[i,1] = 1\n",
        "    elif (n[i] == 0):\n",
        "        y[i,0] = 1\n",
        "\n"
      ],
      "execution_count": 0,
      "outputs": []
    },
    {
      "cell_type": "code",
      "metadata": {
        "colab_type": "code",
        "id": "blZo1aT8bTtR",
        "colab": {}
      },
      "source": [
        "N = A.shape[0]\n",
        "F = X.shape[-1]\n",
        "n_classes = y.shape[-1]"
      ],
      "execution_count": 0,
      "outputs": []
    },
    {
      "cell_type": "code",
      "metadata": {
        "colab_type": "code",
        "id": "k408JMXXgNOt",
        "outputId": "70cbd3df-80f0-4277-c295-53b5fe179f10",
        "colab": {
          "base_uri": "https://localhost:8080/",
          "height": 34
        }
      },
      "source": [
        "type(X)"
      ],
      "execution_count": 21,
      "outputs": [
        {
          "output_type": "execute_result",
          "data": {
            "text/plain": [
              "numpy.ndarray"
            ]
          },
          "metadata": {
            "tags": []
          },
          "execution_count": 21
        }
      ]
    },
    {
      "cell_type": "code",
      "metadata": {
        "colab_type": "code",
        "id": "DBwFHQirg4S0",
        "outputId": "80b98337-b373-40a1-f84e-b5b16b679801",
        "colab": {
          "base_uri": "https://localhost:8080/",
          "height": 34
        }
      },
      "source": [
        "y.shape"
      ],
      "execution_count": 22,
      "outputs": [
        {
          "output_type": "execute_result",
          "data": {
            "text/plain": [
              "(10793, 2)"
            ]
          },
          "metadata": {
            "tags": []
          },
          "execution_count": 22
        }
      ]
    },
    {
      "cell_type": "code",
      "metadata": {
        "colab_type": "code",
        "id": "TsZSQiXaamMT",
        "colab": {}
      },
      "source": [
        "from spektral.layers import GraphConv\n",
        "from tensorflow.keras.models import Model\n",
        "from tensorflow.keras.layers import Input, Dropout\n",
        "#import tensorflow as tf\n",
        "from tensorflow.keras.models import Model\n",
        "from tensorflow.keras.layers import Input, Dropout\n",
        "from sklearn.metrics import confusion_matrix\n",
        "from sklearn.model_selection import KFold"
      ],
      "execution_count": 0,
      "outputs": []
    },
    {
      "cell_type": "code",
      "metadata": {
        "colab_type": "code",
        "id": "mWacBW8BleXY",
        "colab": {}
      },
      "source": [
        "y1 = df['target_variables']"
      ],
      "execution_count": 0,
      "outputs": []
    },
    {
      "cell_type": "code",
      "metadata": {
        "colab_type": "code",
        "id": "8DRnaRgql6el",
        "colab": {}
      },
      "source": [
        "from sklearn.preprocessing import StandardScaler"
      ],
      "execution_count": 0,
      "outputs": []
    },
    {
      "cell_type": "code",
      "metadata": {
        "colab_type": "code",
        "id": "KcUDGRPcAe2s",
        "colab": {}
      },
      "source": [
        "import matplotlib.pyplot as plt\n",
        "from itertools import cycle\n",
        "from sklearn.metrics import roc_curve, auc\n",
        "from sklearn.preprocessing import label_binarize\n",
        "from scipy import interp\n",
        "from sklearn.metrics import roc_auc_score\n",
        "from tensorflow.keras import regularizers"
      ],
      "execution_count": 0,
      "outputs": []
    },
    {
      "cell_type": "code",
      "metadata": {
        "colab_type": "code",
        "id": "B-OAHWAcdo6O",
        "colab": {}
      },
      "source": [
        "from tensorflow.keras.callbacks import EarlyStopping\n",
        "from tensorflow.keras.layers import Input, Dropout\n",
        "from tensorflow.keras.models import Model\n",
        "from tensorflow.keras.optimizers import Adam\n",
        "from tensorflow.keras.regularizers import l2\n",
        "\n",
        "from spektral.datasets import citation\n",
        "from spektral.layers import GraphConv"
      ],
      "execution_count": 0,
      "outputs": []
    },
    {
      "cell_type": "code",
      "metadata": {
        "colab_type": "code",
        "id": "Zy0BXnXudtgP",
        "colab": {}
      },
      "source": [
        "# Parameters\n",
        "channels = 32           # Number of channels in the first layer\n",
        "#N = X.shape[0]          # Number of nodes in the graph\n",
        "#F = X.shape[1]          # Original size of node features\n",
        "#n_classes = y.shape[1]  # Number of classes\n",
        "dropout = 0.5           # Dropout rate for the features\n",
        "l2_reg = 5e-4 / 2       # L2 regularization rate\n",
        "learning_rate = 1e-2    # Learning rate\n",
        "epochs = 300            # Number of training epochs\n",
        "es_patience = 10        # Patience for early stopping\n"
      ],
      "execution_count": 0,
      "outputs": []
    },
    {
      "cell_type": "code",
      "metadata": {
        "colab_type": "code",
        "id": "9F6xZdFod1OR",
        "outputId": "f6d61ce5-53fc-445a-cb26-d8d6142c6a16",
        "colab": {
          "base_uri": "https://localhost:8080/",
          "height": 386
        }
      },
      "source": [
        "# Preprocessing operations\n",
        "fltr = GraphConv.preprocess(A).astype('f4')\n",
        "#X = X.toarray()\n",
        "# Model definition\n",
        "X_in = Input(shape=(F, ))\n",
        "fltr_in = Input((N, ), sparse=True)\n",
        "\n",
        "\n",
        "dropout_1 = Dropout(dropout)(X_in)\n",
        "graph_conv_1 = GraphConv(channels,\n",
        "                        activation='relu',\n",
        "                        kernel_regularizer=l2(l2_reg),\n",
        "                        use_bias=False)([dropout_1, fltr_in])\n",
        "dropout_2 = Dropout(dropout)(graph_conv_1)\n",
        "graph_conv_2 = GraphConv(n_classes,\n",
        "                        activation='sigmoid',\n",
        "                        use_bias=False)([dropout_2, fltr_in])\n",
        "\n",
        "# Build model\n",
        "model = Model(inputs=[X_in, fltr_in], outputs=graph_conv_2)\n",
        "optimizer = Adam(lr=learning_rate)\n",
        "model.compile(optimizer=optimizer,\n",
        "              loss='binary_crossentropy',\n",
        "              weighted_metrics=['acc'])\n",
        "model.summary()"
      ],
      "execution_count": 29,
      "outputs": [
        {
          "output_type": "stream",
          "text": [
            "Model: \"model\"\n",
            "__________________________________________________________________________________________________\n",
            "Layer (type)                    Output Shape         Param #     Connected to                     \n",
            "==================================================================================================\n",
            "input_1 (InputLayer)            [(None, 2794)]       0                                            \n",
            "__________________________________________________________________________________________________\n",
            "dropout (Dropout)               (None, 2794)         0           input_1[0][0]                    \n",
            "__________________________________________________________________________________________________\n",
            "input_2 (InputLayer)            [(None, 10793)]      0                                            \n",
            "__________________________________________________________________________________________________\n",
            "graph_conv (GraphConv)          (None, 32)           89408       dropout[0][0]                    \n",
            "                                                                 input_2[0][0]                    \n",
            "__________________________________________________________________________________________________\n",
            "dropout_1 (Dropout)             (None, 32)           0           graph_conv[0][0]                 \n",
            "__________________________________________________________________________________________________\n",
            "graph_conv_1 (GraphConv)        (None, 2)            64          dropout_1[0][0]                  \n",
            "                                                                 input_2[0][0]                    \n",
            "==================================================================================================\n",
            "Total params: 89,472\n",
            "Trainable params: 89,472\n",
            "Non-trainable params: 0\n",
            "__________________________________________________________________________________________________\n"
          ],
          "name": "stdout"
        }
      ]
    },
    {
      "cell_type": "code",
      "metadata": {
        "colab_type": "code",
        "id": "5CRSgPebbTtZ",
        "outputId": "93d9f5d5-d7cb-492c-aed4-6042168f239c",
        "colab": {
          "base_uri": "https://localhost:8080/",
          "height": 1000
        }
      },
      "source": [
        "# define 5-fold cross validation test harness\n",
        "\n",
        "kfold = KFold(n_splits=5, shuffle=True, random_state=0)\n",
        "tp = []\n",
        "tn = []\n",
        "fp = []\n",
        "fn = []\n",
        "\n",
        "metrics_acc = []\n",
        "metrics_precision = []\n",
        "metrics_recall = []\n",
        "metrics_f1 = []\n",
        "pmacro = []\n",
        "pmicro = []\n",
        "pbinary = []\n",
        "rmacro = []\n",
        "rmicro = []\n",
        "rbi = []\n",
        "a = []\n",
        "f = []\n",
        "\n",
        "tprs = []\n",
        "aucs = []\n",
        "mean_fpr = np.linspace(0, 1, 100)\n",
        "fig, ax = plt.subplots()\n",
        "\n",
        "for k, (train, test) in enumerate(kfold.split(X, y1)):\n",
        "  \n",
        "    #plotter = tfdocs.plots.HistoryPlotter(metric = 'binary_crossentropy', smoothing_std=10)\n",
        "    #regularizer_histories = {}\n",
        "    print(\"k : \", k)\n",
        "  #standardize\n",
        "    sc_X = StandardScaler() \n",
        "    X[train] = sc_X.fit_transform(X[train]) \n",
        "    X[test] = sc_X.transform(X[test])\n",
        "    #X_csr = sparse.csr_matrix(X)\n",
        "    print(\"done scaling\")\n",
        "    \n",
        "    l = []\n",
        "    for i in range(0, len(df)):\n",
        "        l.append(False)\n",
        "    #train indices\n",
        "    train_indices = list(train)    \n",
        "    for i in train_indices:\n",
        "        l[i] = True\n",
        "\n",
        "    print(\"train mask processing: \")\n",
        "    train_mask = np.array(l)\n",
        "\n",
        "    l = []\n",
        "    for i in range(0, len(df)):\n",
        "      l.append(False)\n",
        "     #test indices           \n",
        "    test_indices = list(test)  \n",
        "    for i in test_indices:\n",
        "      l[i] = True\n",
        "    print(\"test mask processing: \")\n",
        "    test_mask = np.array(l)\n",
        "    \n",
        "    #validation indices (taken at random)\n",
        "    val = np.random.choice(2906, 300, replace = False)            \n",
        "    val_indices = list(val)    \n",
        "    l = []\n",
        "    for i in range(0, len(df)):\n",
        "      l.append(False)\n",
        "    for i in val_indices:\n",
        "      l[i] = True\n",
        "    val_mask = np.array(l)\n",
        "    print(\"val mask processing: \")\n",
        "   \n",
        "\n",
        "    # Model definition\n",
        "    #X_in = Input(shape=(F, ))  # Input layer for X\n",
        "    #A_in = Input((N, ), sparse=True)  # Input layer for A\n",
        "\n",
        "    #graph_conv_1 = GraphConv(32, activation='relu')([X_in, A_in])\n",
        "    print(\"graph conv1\")\n",
        "    #dropout = Dropout(0.5)(graph_conv_1)\n",
        "    #graph_conv_2 = GraphConv(n_classes, activation='sigmoid', \n",
        "     #                        kernel_regularizer=regularizers.l2(0.5))([dropout, A_in])\n",
        "\n",
        "    # Build model\n",
        "    #model = Model(inputs=[X_in, A_in], outputs=graph_conv_2)\n",
        "    #from spektral import utils\n",
        "    #A = utils.localpooling_filter(A)\n",
        "    #model.compile(optimizer='adam',\n",
        "     #             loss='binary_crossentropy',\n",
        "      #            weighted_metrics=['acc'])\n",
        "    # Train model\n",
        "    validation_data = ([X, fltr], y, val_mask)\n",
        "    history = model.fit([X, fltr],\n",
        "              y,\n",
        "              sample_weight=train_mask,\n",
        "              epochs=epochs,\n",
        "              batch_size=N,\n",
        "              validation_data=validation_data,\n",
        "              shuffle=False,\n",
        "              callbacks=[\n",
        "              EarlyStopping(patience=es_patience,  restore_best_weights=True)\n",
        "          ])  # Shuffling data means shuffling the whole graph\n",
        "\n",
        "    # Evaluate model\n",
        "    eval_results = model.evaluate([X, fltr],\n",
        "                                  y,\n",
        "                                  sample_weight=test_mask,\n",
        "                                  batch_size=N)\n",
        "    print('Done.\\n'\n",
        "          'Test loss: {}\\n'\n",
        "          'Test accuracy: {}'.format(*eval_results))\n",
        "    \n",
        "    import scipy\n",
        "    A1 = scipy.sparse.csr_matrix.todense(fltr)\n",
        "    A1 = pd.DataFrame(A1)\n",
        "    A1 = A1.loc[test_indices,test_indices]\n",
        "    A2 = sparse.csr_matrix(A1)\n",
        "    #A2.shape\n",
        "  \n",
        "    #google\n",
        "    y_pred = model.predict(\n",
        "        [X[test], A2], batch_size=N, verbose=0, steps=None, callbacks=None, max_queue_size=10,\n",
        "        workers=1, use_multiprocessing=False\n",
        "    )\n",
        "\n",
        "    \n",
        "    \n",
        "    predict_class = np.argmax(y_pred, axis=1)\n",
        "    y2 = np.zeros((len(test),classes))\n",
        "    for i in range(len(test)):\n",
        "        if (predict_class[i] == 1):\n",
        "            y2[i,1] = 1\n",
        "        elif (predict_class[i] == 0):\n",
        "            y2[i,0] = 1\n",
        "\n",
        "    \n",
        "    fpr, tpr, t = roc_curve(y1[test], predict_class)\n",
        "    tprs.append(interp(mean_fpr, fpr, tpr))\n",
        "    roc_auc = auc(fpr, tpr)\n",
        "    aucs.append(roc_auc)\n",
        "    plt.plot(fpr, tpr, lw=2, alpha=0.3, label='ROC fold %d (AUC = %0.2f)' % (k, roc_auc))\n",
        "      \n",
        "    '''viz = metrics.plot_roc_curve(history, X[test], y1[test],\n",
        "                             name='ROC fold {}'.format(i),\n",
        "                             alpha=0.3, lw=1, ax=ax)\n",
        "    interp_tpr = interp(mean_fpr, viz.fpr, viz.tpr)\n",
        "    interp_tpr[0] = 0.0\n",
        "    tprs.append(interp_tpr)\n",
        "    aucs.append(viz.roc_auc)\n",
        "    \n",
        "'''\n",
        "    fpr = dict()\n",
        "    tpr = dict()\n",
        "    roc_auc = dict()\n",
        "    for i in range(n_classes):\n",
        "        fpr[i], tpr[i], _ = roc_curve(y[test, i], y2[:, i])\n",
        "        roc_auc[i] = auc(fpr[i], tpr[i])\n",
        "\n",
        "    # Compute micro-average ROC curve and ROC area\n",
        "    fpr[\"micro\"], tpr[\"micro\"], _ = roc_curve(y[test].ravel(), y2.ravel())\n",
        "    roc_auc[\"micro\"] = auc(fpr[\"micro\"], tpr[\"micro\"])\n",
        "\n",
        "    # First aggregate all false positive rates\n",
        "    all_fpr = np.unique(np.concatenate([fpr[i] for i in range(n_classes)]))\n",
        "\n",
        "    # Then interpolate all ROC curves at this points\n",
        "    mean_tpr = np.zeros_like(all_fpr)\n",
        "    for i in range(n_classes):\n",
        "        mean_tpr += interp(all_fpr, fpr[i], tpr[i])\n",
        "\n",
        "    # Finally average it and compute AUC\n",
        "    mean_tpr /= n_classes\n",
        "    lw = 2\n",
        "    fpr[\"macro\"] = all_fpr\n",
        "    tpr[\"macro\"] = mean_tpr\n",
        "    roc_auc[\"macro\"] = auc(fpr[\"macro\"], tpr[\"macro\"])\n",
        "\n",
        "    # Plot all ROC curves\n",
        "    plt.figure()\n",
        "    plt.plot(fpr[\"micro\"], tpr[\"micro\"],\n",
        "            label='micro-average ROC curve (area = {0:0.2f})'\n",
        "                  ''.format(roc_auc[\"micro\"]),\n",
        "            color='deeppink', linestyle=':', linewidth=4)\n",
        "\n",
        "    plt.plot([0, 1], [0, 1], 'k--', lw=lw)\n",
        "    plt.xlim([0.0, 1.0])\n",
        "    plt.ylim([0.0, 1.05])\n",
        "    plt.xlabel('False Positive Rate')\n",
        "    plt.ylabel('True Positive Rate')\n",
        "    plt.title('Receiver operating characteristic')\n",
        "    plt.legend(loc=\"lower right\")\n",
        "    plt.show()\n",
        "  \n",
        "    #print(predict_class)\n",
        "    conf_mat = confusion_matrix(y1[test], predict_class)\n",
        "    \n",
        "    print(conf_mat)\n",
        "    \n",
        "    #Evaluation Measures\n",
        "    TP = np.diag(conf_mat)\n",
        "    print(\"True Positive: \", TP)\n",
        "    FP = np.sum(conf_mat, axis=0) - TP\n",
        "    print(\"False Positive: \", FP)\n",
        "    FN = np.sum(conf_mat, axis=1) - TP\n",
        "    print(\"False Negative\", FN)\n",
        "    num_classes = classes\n",
        "    TN = []\n",
        "    for i in range(num_classes):\n",
        "        temp = np.delete(conf_mat, i, 0)    # delete ith row\n",
        "        temp = np.delete(temp, i, 1)  # delete ith column\n",
        "        TN.append(sum(sum(temp)))\n",
        "    print(\"True negative: \", TN)\n",
        "\n",
        "    acc = (TP+TN)/(TP+TN+FP+FN)\n",
        "    precision = TP/(TP+FP)\n",
        "    recall = TP/(TP+FN)\n",
        "    \n",
        "    print(\"Accuracy: \", acc)\n",
        "\n",
        "    print(\"precision: \", precision)\n",
        "    print(\"recall: \", recall)\n",
        "    F1 = 2 * ((precision * recall)/(precision + recall))\n",
        "    tp.append(TP)\n",
        "    tn.append(TN)\n",
        "    fp.append(FP)\n",
        "    fn.append(FN)\n",
        "    \n",
        "    \n",
        "    metrics_acc.append(acc)\n",
        "    metrics_precision.append(precision)\n",
        "    metrics_recall.append(recall)\n",
        "    metrics_f1.append(F1)\n",
        "    print (\"F1 measure: \", F1)\n",
        "\n",
        "\n",
        "\n",
        "  \n",
        "    #print(predict_class)\n",
        "    conf_mat = confusion_matrix(y1[test], predict_class)\n",
        "    \n",
        "    print(conf_mat)\n",
        "    p = precision_score(y1[test], predict_class, average='binary')\n",
        "    print('Precision binary: %.3f' % p)\n",
        "    pbinary.append(p)\n",
        "    p1 = precision_score(y1[test], predict_class, average='micro')\n",
        "    print('Precision micro: %.3f' % p1)\n",
        "    pmicro.append(p1)\n",
        "    p2 = precision_score(y1[test], predict_class, average='macro')\n",
        "    print('Precision macro: %.3f' % p2)\n",
        "    pmacro.append(p2)\n",
        "    r = recall_score(y1[test], predict_class, average='binary')\n",
        "    print('Recall binary: %.3f' % r)\n",
        "    rbi.append(r)\n",
        "    r1 = recall_score(y1[test], predict_class, average='micro')\n",
        "    print('Recall micro: %.3f' % r1)\n",
        "    rmicro.append(r1)\n",
        "    r2 = recall_score(y1[test], predict_class, average='macro')\n",
        "    print('Recall macro: %.3f' % r2)\n",
        "    rmacro.append(r2)\n",
        "    s = f1_score(y1[test], predict_class, average='binary')\n",
        "    print('F-Measure: %.3f' % s)\n",
        "    f.append(s)\n",
        "\n",
        "    ac = accuracy_score(y1[test], predict_class)\n",
        "    a.append(ac)\n",
        "    #Evaluation Measures\n",
        "    TP = np.diag(conf_mat)\n",
        "    print(\"True Positive: \", TP)\n",
        "    FP = np.sum(conf_mat, axis=0) - TP\n",
        "    print(\"False Positive: \", FP)\n",
        "    FN = np.sum(conf_mat, axis=1) - TP\n",
        "    print(\"False Negative\", FN)\n",
        "    num_classes = classes\n",
        "    TN = []\n",
        "    for i in range(num_classes):\n",
        "        temp = np.delete(conf_mat, i, 0)    # delete ith row\n",
        "        temp = np.delete(temp, i, 1)  # delete ith column\n",
        "        TN.append(sum(sum(temp)))\n",
        "    print(\"True negative: \", TN)\n",
        "\n",
        "    acc = (TP+TN)/(TP+TN+FP+FN)\n",
        "    precision = TP/(TP+FP)\n",
        "    recall = TP/(TP+FN)\n",
        "    \n",
        "    print(\"Accuracy: \", acc)\n",
        "\n",
        "    print(\"precision: \", precision)\n",
        "    print(\"recall: \", recall)\n",
        "    F1 = 2 * ((precision * recall)/(precision + recall))\n",
        "    tp.append(TP)\n",
        "    tn.append(TN)\n",
        "    fp.append(FP)\n",
        "    fn.append(FN)\n",
        "    \n",
        "    \n",
        "    metrics_acc.append(acc)\n",
        "    metrics_precision.append(precision)\n",
        "    metrics_recall.append(recall)\n",
        "    metrics_f1.append(F1)\n",
        "    print (\"F1 measure: \", F1)\n",
        "\n",
        "plt.plot([0,1],[0,1],linestyle = '--',lw = 2,color = 'black')\n",
        "mean_tpr = np.mean(tprs, axis=0)\n",
        "mean_auc = auc(mean_fpr, mean_tpr)\n",
        "plt.plot(mean_fpr, mean_tpr, color='blue',\n",
        "        label=r'Mean ROC (AUC = %0.2f )' % (mean_auc),lw=2, alpha=1)\n",
        "\n",
        "plt.xlabel('False Positive Rate')\n",
        "plt.ylabel('True Positive Rate')\n",
        "plt.title('ROC')\n",
        "plt.legend(loc=\"lower right\")\n",
        "plt.show()\n",
        "\n",
        "\n",
        "    "
      ],
      "execution_count": 30,
      "outputs": [
        {
          "output_type": "stream",
          "text": [
            "k :  0\n",
            "done scaling\n",
            "train mask processing: \n",
            "test mask processing: \n",
            "val mask processing: \n",
            "graph conv1\n",
            "Epoch 1/300\n",
            "1/1 [==============================] - 1s 1s/step - loss: 0.5944 - acc: 0.5330 - val_loss: 0.0349 - val_acc: 0.6433\n",
            "Epoch 2/300\n",
            "1/1 [==============================] - 1s 1s/step - loss: 0.5455 - acc: 0.6533 - val_loss: 0.0366 - val_acc: 0.6500\n",
            "Epoch 3/300\n",
            "1/1 [==============================] - 1s 1s/step - loss: 0.5116 - acc: 0.7095 - val_loss: 0.0389 - val_acc: 0.6633\n",
            "Epoch 4/300\n",
            "1/1 [==============================] - 1s 1s/step - loss: 0.4924 - acc: 0.7381 - val_loss: 0.0414 - val_acc: 0.6667\n",
            "Epoch 5/300\n",
            "1/1 [==============================] - 1s 1s/step - loss: 0.4859 - acc: 0.7415 - val_loss: 0.0441 - val_acc: 0.6733\n",
            "Epoch 6/300\n",
            "1/1 [==============================] - 1s 1s/step - loss: 0.4835 - acc: 0.7516 - val_loss: 0.0466 - val_acc: 0.6700\n",
            "Epoch 7/300\n",
            "1/1 [==============================] - 1s 1s/step - loss: 0.4695 - acc: 0.7613 - val_loss: 0.0489 - val_acc: 0.6700\n",
            "Epoch 8/300\n",
            "1/1 [==============================] - 1s 1s/step - loss: 0.4726 - acc: 0.7564 - val_loss: 0.0510 - val_acc: 0.6800\n",
            "Epoch 9/300\n",
            "1/1 [==============================] - 1s 1s/step - loss: 0.4615 - acc: 0.7645 - val_loss: 0.0528 - val_acc: 0.6833\n",
            "Epoch 10/300\n",
            "1/1 [==============================] - 1s 1s/step - loss: 0.4673 - acc: 0.7579 - val_loss: 0.0543 - val_acc: 0.6767\n",
            "Epoch 11/300\n",
            "1/1 [==============================] - 1s 1s/step - loss: 0.4586 - acc: 0.7689 - val_loss: 0.0556 - val_acc: 0.6833\n",
            "1/1 [==============================] - 0s 2ms/step - loss: 0.1448 - acc: 0.7008\n",
            "Done.\n",
            "Test loss: 0.14484179019927979\n",
            "Test accuracy: 0.7007874250411987\n"
          ],
          "name": "stdout"
        },
        {
          "output_type": "stream",
          "text": [
            "/usr/local/lib/python3.6/dist-packages/ipykernel_launcher.py:135: DeprecationWarning: scipy.interp is deprecated and will be removed in SciPy 2.0.0, use numpy.interp instead\n",
            "/usr/local/lib/python3.6/dist-packages/ipykernel_launcher.py:166: DeprecationWarning: scipy.interp is deprecated and will be removed in SciPy 2.0.0, use numpy.interp instead\n"
          ],
          "name": "stderr"
        },
        {
          "output_type": "display_data",
          "data": {
            "image/png": "[encoded data removed]",
            "text/plain": [
              "<Figure size 432x288 with 1 Axes>"
            ]
          },
          "metadata": {
            "tags": [],
            "needs_background": "light"
          }
        },
        {
          "output_type": "display_data",
          "data": {
            "image/png": "[encoded data removed]",
            "text/plain": [
              "<Figure size 432x288 with 1 Axes>"
            ]
          },
          "metadata": {
            "tags": [],
            "needs_background": "light"
          }
        },
        {
          "output_type": "stream",
          "text": [
            "[[ 234  562]\n",
            " [ 264 1099]]\n",
            "True Positive:  [ 234 1099]\n",
            "False Positive:  [264 562]\n",
            "False Negative [562 264]\n",
            "True negative:  [1099, 234]\n",
            "Accuracy:  [0.61741547 0.61741547]\n",
            "precision:  [0.46987952 0.66164961]\n",
            "recall:  [0.29396985 0.80630961]\n",
            "F1 measure:  [0.36166924 0.72685185]\n",
            "[[ 234  562]\n",
            " [ 264 1099]]\n",
            "Precision binary: 0.662\n",
            "Precision micro: 0.617\n",
            "Precision macro: 0.566\n",
            "Recall binary: 0.806\n",
            "Recall micro: 0.617\n",
            "Recall macro: 0.550\n",
            "F-Measure: 0.727\n",
            "True Positive:  [ 234 1099]\n",
            "False Positive:  [264 562]\n",
            "False Negative [562 264]\n",
            "True negative:  [1099, 234]\n",
            "Accuracy:  [0.61741547 0.61741547]\n",
            "precision:  [0.46987952 0.66164961]\n",
            "recall:  [0.29396985 0.80630961]\n",
            "F1 measure:  [0.36166924 0.72685185]\n",
            "k :  1\n",
            "done scaling\n",
            "train mask processing: \n",
            "test mask processing: \n",
            "val mask processing: \n",
            "graph conv1\n",
            "Epoch 1/300\n",
            "1/1 [==============================] - 1s 1s/step - loss: 0.5517 - acc: 0.6471 - val_loss: 813021312.0000 - val_acc: 0.7100\n",
            "Epoch 2/300\n",
            "1/1 [==============================] - 1s 1s/step - loss: 75345608704.0000 - acc: 0.6640 - val_loss: 580744128.0000 - val_acc: 0.7133\n",
            "Epoch 3/300\n",
            "1/1 [==============================] - 1s 1s/step - loss: 0.5075 - acc: 0.7213 - val_loss: 1010216064.0000 - val_acc: 0.7167\n",
            "Epoch 4/300\n",
            "1/1 [==============================] - 1s 1s/step - loss: 0.4857 - acc: 0.7420 - val_loss: 1713372928.0000 - val_acc: 0.7200\n",
            "Epoch 5/300\n",
            "1/1 [==============================] - 1s 1s/step - loss: 177961058304.0000 - acc: 0.7556 - val_loss: 2251715072.0000 - val_acc: 0.7200\n",
            "Epoch 6/300\n",
            "1/1 [==============================] - 1s 1s/step - loss: 0.4639 - acc: 0.7504 - val_loss: 3420602880.0000 - val_acc: 0.7233\n",
            "Epoch 7/300\n",
            "1/1 [==============================] - 1s 1s/step - loss: 192471203840.0000 - acc: 0.7626 - val_loss: 2969620736.0000 - val_acc: 0.7200\n",
            "Epoch 8/300\n",
            "1/1 [==============================] - 1s 1s/step - loss: 0.4478 - acc: 0.7642 - val_loss: 2745064192.0000 - val_acc: 0.7233\n",
            "Epoch 9/300\n",
            "1/1 [==============================] - 1s 1s/step - loss: 168056832000.0000 - acc: 0.7665 - val_loss: 2045297408.0000 - val_acc: 0.7200\n",
            "Epoch 10/300\n",
            "1/1 [==============================] - 1s 1s/step - loss: 0.4445 - acc: 0.7703 - val_loss: 1503288960.0000 - val_acc: 0.7200\n",
            "Epoch 11/300\n",
            "1/1 [==============================] - 1s 1s/step - loss: 99629932544.0000 - acc: 0.7708 - val_loss: 1014266112.0000 - val_acc: 0.7233\n",
            "Epoch 12/300\n",
            "1/1 [==============================] - 1s 1s/step - loss: 0.4434 - acc: 0.7670 - val_loss: 924951104.0000 - val_acc: 0.7300\n",
            "1/1 [==============================] - 0s 1ms/step - loss: 4510752256.0000 - acc: 0.7851\n",
            "Done.\n",
            "Test loss: 4510752256.0\n",
            "Test accuracy: 0.7850856781005859\n"
          ],
          "name": "stdout"
        },
        {
          "output_type": "stream",
          "text": [
            "/usr/local/lib/python3.6/dist-packages/ipykernel_launcher.py:135: DeprecationWarning: scipy.interp is deprecated and will be removed in SciPy 2.0.0, use numpy.interp instead\n",
            "/usr/local/lib/python3.6/dist-packages/ipykernel_launcher.py:166: DeprecationWarning: scipy.interp is deprecated and will be removed in SciPy 2.0.0, use numpy.interp instead\n"
          ],
          "name": "stderr"
        },
        {
          "output_type": "display_data",
          "data": {
            "image/png": "[encoded data removed]",
            "text/plain": [
              "<Figure size 432x288 with 1 Axes>"
            ]
          },
          "metadata": {
            "tags": [],
            "needs_background": "light"
          }
        },
        {
          "output_type": "display_data",
          "data": {
            "image/png": "[encoded data removed]",
            "text/plain": [
              "<Figure size 432x288 with 1 Axes>"
            ]
          },
          "metadata": {
            "tags": [],
            "needs_background": "light"
          }
        },
        {
          "output_type": "stream",
          "text": [
            "[[ 316  387]\n",
            " [ 230 1226]]\n",
            "True Positive:  [ 316 1226]\n",
            "False Positive:  [230 387]\n",
            "False Negative [387 230]\n",
            "True negative:  [1226, 316]\n",
            "Accuracy:  [0.71421955 0.71421955]\n",
            "precision:  [0.57875458 0.7600744 ]\n",
            "recall:  [0.44950213 0.84203297]\n",
            "F1 measure:  [0.5060048  0.79895732]\n",
            "[[ 316  387]\n",
            " [ 230 1226]]\n",
            "Precision binary: 0.760\n",
            "Precision micro: 0.714\n",
            "Precision macro: 0.669\n",
            "Recall binary: 0.842\n",
            "Recall micro: 0.714\n",
            "Recall macro: 0.646\n",
            "F-Measure: 0.799\n",
            "True Positive:  [ 316 1226]\n",
            "False Positive:  [230 387]\n",
            "False Negative [387 230]\n",
            "True negative:  [1226, 316]\n",
            "Accuracy:  [0.71421955 0.71421955]\n",
            "precision:  [0.57875458 0.7600744 ]\n",
            "recall:  [0.44950213 0.84203297]\n",
            "F1 measure:  [0.5060048  0.79895732]\n",
            "k :  2\n",
            "done scaling\n",
            "train mask processing: \n",
            "test mask processing: \n",
            "val mask processing: \n",
            "graph conv1\n",
            "Epoch 1/300\n",
            "1/1 [==============================] - 1s 1s/step - loss: 0.5050 - acc: 0.7152 - val_loss: 0.0318 - val_acc: 0.7133\n",
            "Epoch 2/300\n",
            "1/1 [==============================] - 1s 1s/step - loss: 0.4909 - acc: 0.7335 - val_loss: 0.0314 - val_acc: 0.7133\n",
            "Epoch 3/300\n",
            "1/1 [==============================] - 1s 1s/step - loss: 0.4791 - acc: 0.7428 - val_loss: 0.0313 - val_acc: 0.7133\n",
            "Epoch 4/300\n",
            "1/1 [==============================] - 1s 1s/step - loss: 0.4652 - acc: 0.7570 - val_loss: 0.0316 - val_acc: 0.7100\n",
            "Epoch 5/300\n",
            "1/1 [==============================] - 1s 1s/step - loss: 0.4513 - acc: 0.7623 - val_loss: 0.0322 - val_acc: 0.7100\n",
            "Epoch 6/300\n",
            "1/1 [==============================] - 1s 1s/step - loss: 0.4462 - acc: 0.7635 - val_loss: 0.0331 - val_acc: 0.7167\n",
            "Epoch 7/300\n",
            "1/1 [==============================] - 1s 1s/step - loss: 0.4417 - acc: 0.7715 - val_loss: 0.0341 - val_acc: 0.7167\n",
            "Epoch 8/300\n",
            "1/1 [==============================] - 1s 1s/step - loss: 0.4389 - acc: 0.7713 - val_loss: 0.0354 - val_acc: 0.7133\n",
            "Epoch 9/300\n",
            "1/1 [==============================] - 1s 1s/step - loss: 0.4293 - acc: 0.7724 - val_loss: 0.0368 - val_acc: 0.7133\n",
            "Epoch 10/300\n",
            "1/1 [==============================] - 1s 1s/step - loss: 0.4307 - acc: 0.7674 - val_loss: 0.0382 - val_acc: 0.7133\n",
            "Epoch 11/300\n",
            "1/1 [==============================] - 1s 1s/step - loss: 0.4340 - acc: 0.7737 - val_loss: 0.0397 - val_acc: 0.7167\n",
            "Epoch 12/300\n",
            "1/1 [==============================] - 1s 1s/step - loss: 0.4337 - acc: 0.7773 - val_loss: 0.0411 - val_acc: 0.7133\n",
            "Epoch 13/300\n",
            "1/1 [==============================] - 1s 1s/step - loss: 0.4248 - acc: 0.7792 - val_loss: 0.0425 - val_acc: 0.7133\n",
            "1/1 [==============================] - 0s 1ms/step - loss: 0.1223 - acc: 0.7837\n",
            "Done.\n",
            "Test loss: 0.12231428176164627\n",
            "Test accuracy: 0.783696174621582\n"
          ],
          "name": "stdout"
        },
        {
          "output_type": "stream",
          "text": [
            "/usr/local/lib/python3.6/dist-packages/ipykernel_launcher.py:135: DeprecationWarning: scipy.interp is deprecated and will be removed in SciPy 2.0.0, use numpy.interp instead\n",
            "/usr/local/lib/python3.6/dist-packages/ipykernel_launcher.py:166: DeprecationWarning: scipy.interp is deprecated and will be removed in SciPy 2.0.0, use numpy.interp instead\n"
          ],
          "name": "stderr"
        },
        {
          "output_type": "display_data",
          "data": {
            "image/png": "[encoded data removed]",
            "text/plain": [
              "<Figure size 432x288 with 1 Axes>"
            ]
          },
          "metadata": {
            "tags": [],
            "needs_background": "light"
          }
        },
        {
          "output_type": "display_data",
          "data": {
            "image/png": "[encoded data removed]",
            "text/plain": [
              "<Figure size 432x288 with 1 Axes>"
            ]
          },
          "metadata": {
            "tags": [],
            "needs_background": "light"
          }
        },
        {
          "output_type": "stream",
          "text": [
            "[[ 447  328]\n",
            " [ 314 1070]]\n",
            "True Positive:  [ 447 1070]\n",
            "False Positive:  [314 328]\n",
            "False Negative [328 314]\n",
            "True negative:  [1070, 447]\n",
            "Accuracy:  [0.70264011 0.70264011]\n",
            "precision:  [0.58738502 0.76537911]\n",
            "recall:  [0.57677419 0.77312139]\n",
            "F1 measure:  [0.58203125 0.76923077]\n",
            "[[ 447  328]\n",
            " [ 314 1070]]\n",
            "Precision binary: 0.765\n",
            "Precision micro: 0.703\n",
            "Precision macro: 0.676\n",
            "Recall binary: 0.773\n",
            "Recall micro: 0.703\n",
            "Recall macro: 0.675\n",
            "F-Measure: 0.769\n",
            "True Positive:  [ 447 1070]\n",
            "False Positive:  [314 328]\n",
            "False Negative [328 314]\n",
            "True negative:  [1070, 447]\n",
            "Accuracy:  [0.70264011 0.70264011]\n",
            "precision:  [0.58738502 0.76537911]\n",
            "recall:  [0.57677419 0.77312139]\n",
            "F1 measure:  [0.58203125 0.76923077]\n",
            "k :  3\n",
            "done scaling\n",
            "train mask processing: \n",
            "test mask processing: \n",
            "val mask processing: \n",
            "graph conv1\n",
            "Epoch 1/300\n",
            "1/1 [==============================] - 1s 1s/step - loss: 0.4702 - acc: 0.7448 - val_loss: 0.0314 - val_acc: 0.7200\n",
            "Epoch 2/300\n",
            "1/1 [==============================] - 1s 1s/step - loss: 0.4612 - acc: 0.7493 - val_loss: 0.0313 - val_acc: 0.7333\n",
            "Epoch 3/300\n",
            "1/1 [==============================] - 1s 1s/step - loss: 0.4515 - acc: 0.7676 - val_loss: 0.0314 - val_acc: 0.7400\n",
            "Epoch 4/300\n",
            "1/1 [==============================] - 1s 1s/step - loss: 0.4471 - acc: 0.7672 - val_loss: 0.0318 - val_acc: 0.7367\n",
            "Epoch 5/300\n",
            "1/1 [==============================] - 1s 1s/step - loss: 0.4411 - acc: 0.7651 - val_loss: 0.0325 - val_acc: 0.7400\n",
            "Epoch 6/300\n",
            "1/1 [==============================] - 1s 1s/step - loss: 0.4382 - acc: 0.7671 - val_loss: 0.0332 - val_acc: 0.7500\n",
            "Epoch 7/300\n",
            "1/1 [==============================] - 1s 1s/step - loss: 0.4313 - acc: 0.7810 - val_loss: 0.0342 - val_acc: 0.7500\n",
            "Epoch 8/300\n",
            "1/1 [==============================] - 1s 1s/step - loss: 0.4306 - acc: 0.7771 - val_loss: 0.0352 - val_acc: 0.7600\n",
            "Epoch 9/300\n",
            "1/1 [==============================] - 1s 1s/step - loss: 0.4283 - acc: 0.7805 - val_loss: 0.0363 - val_acc: 0.7567\n",
            "Epoch 10/300\n",
            "1/1 [==============================] - 1s 1s/step - loss: 0.4191 - acc: 0.7890 - val_loss: 0.0375 - val_acc: 0.7533\n",
            "Epoch 11/300\n",
            "1/1 [==============================] - 1s 1s/step - loss: 0.4210 - acc: 0.7744 - val_loss: 0.0386 - val_acc: 0.7467\n",
            "Epoch 12/300\n",
            "1/1 [==============================] - 1s 1s/step - loss: 0.4187 - acc: 0.7826 - val_loss: 0.0397 - val_acc: 0.7467\n",
            "1/1 [==============================] - 0s 1ms/step - loss: 0.1156 - acc: 0.8044\n",
            "Done.\n",
            "Test loss: 0.11564523726701736\n",
            "Test accuracy: 0.8044485449790955\n"
          ],
          "name": "stdout"
        },
        {
          "output_type": "stream",
          "text": [
            "/usr/local/lib/python3.6/dist-packages/ipykernel_launcher.py:135: DeprecationWarning: scipy.interp is deprecated and will be removed in SciPy 2.0.0, use numpy.interp instead\n",
            "/usr/local/lib/python3.6/dist-packages/ipykernel_launcher.py:166: DeprecationWarning: scipy.interp is deprecated and will be removed in SciPy 2.0.0, use numpy.interp instead\n"
          ],
          "name": "stderr"
        },
        {
          "output_type": "display_data",
          "data": {
            "image/png": "[encoded data removed]",
            "text/plain": [
              "<Figure size 432x288 with 1 Axes>"
            ]
          },
          "metadata": {
            "tags": [],
            "needs_background": "light"
          }
        },
        {
          "output_type": "display_data",
          "data": {
            "image/png": "[encoded data removed]",
            "text/plain": [
              "<Figure size 432x288 with 1 Axes>"
            ]
          },
          "metadata": {
            "tags": [],
            "needs_background": "light"
          }
        },
        {
          "output_type": "stream",
          "text": [
            "[[ 451  305]\n",
            " [ 250 1152]]\n",
            "True Positive:  [ 451 1152]\n",
            "False Positive:  [250 305]\n",
            "False Negative [305 250]\n",
            "True negative:  [1152, 451]\n",
            "Accuracy:  [0.74281742 0.74281742]\n",
            "precision:  [0.64336662 0.79066575]\n",
            "recall:  [0.59656085 0.82168331]\n",
            "F1 measure:  [0.6190803  0.80587618]\n",
            "[[ 451  305]\n",
            " [ 250 1152]]\n",
            "Precision binary: 0.791\n",
            "Precision micro: 0.743\n",
            "Precision macro: 0.717\n",
            "Recall binary: 0.822\n",
            "Recall micro: 0.743\n",
            "Recall macro: 0.709\n",
            "F-Measure: 0.806\n",
            "True Positive:  [ 451 1152]\n",
            "False Positive:  [250 305]\n",
            "False Negative [305 250]\n",
            "True negative:  [1152, 451]\n",
            "Accuracy:  [0.74281742 0.74281742]\n",
            "precision:  [0.64336662 0.79066575]\n",
            "recall:  [0.59656085 0.82168331]\n",
            "F1 measure:  [0.6190803  0.80587618]\n",
            "k :  4\n",
            "done scaling\n",
            "train mask processing: \n",
            "test mask processing: \n",
            "val mask processing: \n",
            "graph conv1\n",
            "Epoch 1/300\n",
            "1/1 [==============================] - 1s 1s/step - loss: 0.4544 - acc: 0.7556 - val_loss: 0.0297 - val_acc: 0.7267\n",
            "Epoch 2/300\n",
            "1/1 [==============================] - 1s 1s/step - loss: 0.4464 - acc: 0.7656 - val_loss: 0.0296 - val_acc: 0.7233\n",
            "Epoch 3/300\n",
            "1/1 [==============================] - 1s 1s/step - loss: 0.4406 - acc: 0.7654 - val_loss: 0.0297 - val_acc: 0.7300\n",
            "Epoch 4/300\n",
            "1/1 [==============================] - 1s 1s/step - loss: 0.4340 - acc: 0.7748 - val_loss: 0.0300 - val_acc: 0.7367\n",
            "Epoch 5/300\n",
            "1/1 [==============================] - 1s 1s/step - loss: 0.4329 - acc: 0.7682 - val_loss: 0.0306 - val_acc: 0.7367\n",
            "Epoch 6/300\n",
            "1/1 [==============================] - 1s 1s/step - loss: 0.4304 - acc: 0.7691 - val_loss: 0.0313 - val_acc: 0.7367\n",
            "Epoch 7/300\n",
            "1/1 [==============================] - 1s 1s/step - loss: 0.4286 - acc: 0.7741 - val_loss: 0.0321 - val_acc: 0.7467\n",
            "Epoch 8/300\n",
            "1/1 [==============================] - 1s 1s/step - loss: 0.4215 - acc: 0.7817 - val_loss: 0.0330 - val_acc: 0.7467\n",
            "Epoch 9/300\n",
            "1/1 [==============================] - 1s 1s/step - loss: 0.4177 - acc: 0.7838 - val_loss: 0.0339 - val_acc: 0.7500\n",
            "Epoch 10/300\n",
            "1/1 [==============================] - 1s 1s/step - loss: 0.4212 - acc: 0.7768 - val_loss: 0.0349 - val_acc: 0.7433\n",
            "Epoch 11/300\n",
            "1/1 [==============================] - 1s 1s/step - loss: 0.4178 - acc: 0.7802 - val_loss: 0.0359 - val_acc: 0.7467\n",
            "Epoch 12/300\n",
            "1/1 [==============================] - 1s 1s/step - loss: 0.4194 - acc: 0.7797 - val_loss: 0.0369 - val_acc: 0.7567\n",
            "1/1 [==============================] - 0s 1ms/step - loss: 0.1124 - acc: 0.8188\n",
            "Done.\n",
            "Test loss: 0.11238927394151688\n",
            "Test accuracy: 0.8188137412071228\n"
          ],
          "name": "stdout"
        },
        {
          "output_type": "stream",
          "text": [
            "/usr/local/lib/python3.6/dist-packages/ipykernel_launcher.py:135: DeprecationWarning: scipy.interp is deprecated and will be removed in SciPy 2.0.0, use numpy.interp instead\n",
            "/usr/local/lib/python3.6/dist-packages/ipykernel_launcher.py:166: DeprecationWarning: scipy.interp is deprecated and will be removed in SciPy 2.0.0, use numpy.interp instead\n"
          ],
          "name": "stderr"
        },
        {
          "output_type": "display_data",
          "data": {
            "image/png": "[encoded data removed]",
            "text/plain": [
              "<Figure size 432x288 with 1 Axes>"
            ]
          },
          "metadata": {
            "tags": [],
            "needs_background": "light"
          }
        },
        {
          "output_type": "display_data",
          "data": {
            "image/png": "[encoded data removed]",
            "text/plain": [
              "<Figure size 432x288 with 1 Axes>"
            ]
          },
          "metadata": {
            "tags": [],
            "needs_background": "light"
          }
        },
        {
          "output_type": "stream",
          "text": [
            "[[ 449  313]\n",
            " [ 223 1173]]\n",
            "True Positive:  [ 449 1173]\n",
            "False Positive:  [223 313]\n",
            "False Negative [313 223]\n",
            "True negative:  [1173, 449]\n",
            "Accuracy:  [0.75162187 0.75162187]\n",
            "precision:  [0.66815476 0.78936743]\n",
            "recall:  [0.58923885 0.84025788]\n",
            "F1 measure:  [0.62622036 0.81401804]\n",
            "[[ 449  313]\n",
            " [ 223 1173]]\n",
            "Precision binary: 0.789\n",
            "Precision micro: 0.752\n",
            "Precision macro: 0.729\n",
            "Recall binary: 0.840\n",
            "Recall micro: 0.752\n",
            "Recall macro: 0.715\n",
            "F-Measure: 0.814\n",
            "True Positive:  [ 449 1173]\n",
            "False Positive:  [223 313]\n",
            "False Negative [313 223]\n",
            "True negative:  [1173, 449]\n",
            "Accuracy:  [0.75162187 0.75162187]\n",
            "precision:  [0.66815476 0.78936743]\n",
            "recall:  [0.58923885 0.84025788]\n",
            "F1 measure:  [0.62622036 0.81401804]\n"
          ],
          "name": "stdout"
        },
        {
          "output_type": "display_data",
          "data": {
            "image/png": "[encoded data removed]",
            "text/plain": [
              "<Figure size 432x288 with 1 Axes>"
            ]
          },
          "metadata": {
            "tags": [],
            "needs_background": "light"
          }
        }
      ]
    },
    {
      "cell_type": "code",
      "metadata": {
        "colab_type": "code",
        "id": "fsF-XLhAq4aW",
        "outputId": "66f91a2b-58d1-47e2-c814-45ed6439c1c7",
        "colab": {
          "base_uri": "https://localhost:8080/",
          "height": 34
        }
      },
      "source": [
        "y.shape"
      ],
      "execution_count": 31,
      "outputs": [
        {
          "output_type": "execute_result",
          "data": {
            "text/plain": [
              "(10793, 2)"
            ]
          },
          "metadata": {
            "tags": []
          },
          "execution_count": 31
        }
      ]
    },
    {
      "cell_type": "code",
      "metadata": {
        "colab_type": "code",
        "id": "ZTafXCD0C-qa",
        "outputId": "1fc5e64c-71e7-420f-acad-c42b73e88b1f",
        "colab": {
          "base_uri": "https://localhost:8080/",
          "height": 151
        }
      },
      "source": [
        "print(\"precision macro: \", np.array(pmacro).mean())\n",
        "print(\"precision micro: \", np.array(pmicro).mean())\n",
        "print(\"precision binary macro: \", np.array(pbinary).mean())\n",
        "print(\"accuracy: \", np.array(a).mean())\n",
        "print(\"recall macro: \", np.array(rmacro).mean())\n",
        "print(\"recall micro: \", np.array(rmicro).mean())\n",
        "print(\"recall binary macro: \", np.array(rbi).mean())\n",
        "print(\"f1: \", np.array(f).mean())"
      ],
      "execution_count": 32,
      "outputs": [
        {
          "output_type": "stream",
          "text": [
            "precision macro:  0.6714676795667207\n",
            "precision micro:  0.7057428846035799\n",
            "precision binary macro:  0.7534272596218246\n",
            "accuracy:  0.7057428846035799\n",
            "recall macro:  0.6589451022894492\n",
            "recall micro:  0.7057428846035799\n",
            "recall binary macro:  0.8166810309364019\n",
            "f1:  0.7829868319354663\n"
          ],
          "name": "stdout"
        }
      ]
    },
    {
      "cell_type": "code",
      "metadata": {
        "colab_type": "code",
        "id": "dXeDZQCe0xKB",
        "colab": {}
      },
      "source": [
        "import numpy\n",
        "numpy.savetxt(\"/content/drive/My Drive/ferguson_gcn_fpr_mean.csv\", mean_fpr, delimiter=\",\")\n",
        "numpy.savetxt(\"/content/drive/My Drive/ferguson_gcn_tpr_mean.csv\", mean_tpr, delimiter=\",\")\n",
        "\n",
        "df_mean_fpr = pd.DataFrame(mean_fpr)\n",
        "df_mean_fpr.to_csv('/content/drive/My Drive/ferguson_df_mean_fpr_gcn.csv')\n",
        "df_mean_tpr = pd.DataFrame(mean_tpr)\n",
        "df_mean_tpr.to_csv('/content/drive/My Drive/ferguson_df_mean_tpr_gcn.csv')"
      ],
      "execution_count": 0,
      "outputs": []
    },
    {
      "cell_type": "code",
      "metadata": {
        "colab_type": "code",
        "id": "Fo4Lz6x395A3",
        "colab": {}
      },
      "source": [
        "''' viz = metrics.plot_roc_curve(model, X[test], predict_class,\n",
        "                             name='ROC fold {}'.format(i),\n",
        "                             alpha=0.3, lw=1, ax=ax)\n",
        "    interp_tpr = interp(mean_fpr, viz.fpr, viz.tpr)\n",
        "    interp_tpr[0] = 0.0\n",
        "    tprs.append(interp_tpr)\n",
        "    aucs.append(viz.roc_auc)\n",
        "    '''\n",
        "    '''ax.plot([0, 1], [0, 1], linestyle='--', lw=2, color='r',\n",
        "            label='Chance', alpha=.8)\n",
        "\n",
        "mean_tpr = np.mean(tprs, axis=0)\n",
        "mean_tpr[-1] = 1.0\n",
        "mean_auc = auc(mean_fpr, mean_tpr)\n",
        "std_auc = np.std(aucs)\n",
        "ax.plot(mean_fpr, mean_tpr, color='b',\n",
        "        label=r'Mean ROC (AUC = %0.2f $\\pm$ %0.2f)' % (mean_auc, std_auc),\n",
        "        lw=2, alpha=.8)\n",
        "\n",
        "std_tpr = np.std(tprs, axis=0)\n",
        "tprs_upper = np.minimum(mean_tpr + std_tpr, 1)\n",
        "tprs_lower = np.maximum(mean_tpr - std_tpr, 0)\n",
        "ax.fill_between(mean_fpr, tprs_lower, tprs_upper, color='grey', alpha=.2,\n",
        "                label=r'$\\pm$ 1 std. dev.')\n",
        "\n",
        "ax.set(xlim=[-0.05, 1.05], ylim=[-0.05, 1.05],\n",
        "       title=\"Receiver operating characteristic example\")\n",
        "ax.legend(loc=\"lower right\")\n",
        "plt.show()\n"
      ],
      "execution_count": 0,
      "outputs": []
    },
    {
      "cell_type": "code",
      "metadata": {
        "colab_type": "code",
        "id": "MsgPKlfWuJQN",
        "colab": {}
      },
      "source": [
        "import pickle\n",
        "with open('/content/drive/My Drive/tp_spektral_german', 'wb') as filehandle:\n",
        "    # store the data as binary data stream\n",
        "    pickle.dump(tp, filehandle)"
      ],
      "execution_count": 0,
      "outputs": []
    },
    {
      "cell_type": "code",
      "metadata": {
        "colab_type": "code",
        "id": "vjLk5kx-938B",
        "colab": {}
      },
      "source": [
        ""
      ],
      "execution_count": 0,
      "outputs": []
    },
    {
      "cell_type": "code",
      "metadata": {
        "colab_type": "code",
        "id": "jFAE_kwTKSbf",
        "colab": {}
      },
      "source": [
        "with open('/content/drive/My Drive/tn_spektral_german', 'wb') as filehandle:\n",
        "    # store the data as binary data stream\n",
        "    pickle.dump(tn, filehandle)"
      ],
      "execution_count": 0,
      "outputs": []
    },
    {
      "cell_type": "code",
      "metadata": {
        "colab_type": "code",
        "id": "Bve-XrChKJDs",
        "colab": {}
      },
      "source": [
        "\n",
        "with open('/content/drive/My Drive/fp__spektral_german', 'wb') as filehandle:\n",
        "    # store the data as binary data stream\n",
        "    pickle.dump(fp, filehandle)"
      ],
      "execution_count": 0,
      "outputs": []
    },
    {
      "cell_type": "code",
      "metadata": {
        "colab_type": "code",
        "id": "Dpeyfn_aJ7vu",
        "colab": {}
      },
      "source": [
        "with open('/content/drive/My Drive/fn__spektral_german', 'wb') as filehandle:\n",
        "    # store the data as binary data stream\n",
        "    pickle.dump(fn, filehandle)"
      ],
      "execution_count": 0,
      "outputs": []
    },
    {
      "cell_type": "code",
      "metadata": {
        "colab_type": "code",
        "id": "JysfYQzizDL9",
        "colab": {}
      },
      "source": [
        "with open('/content/drive/My Drive/precision__spektral_german', 'wb') as filehandle:\n",
        "    # store the data as binary data stream\n",
        "    pickle.dump(metrics_precision, filehandle)"
      ],
      "execution_count": 0,
      "outputs": []
    },
    {
      "cell_type": "code",
      "metadata": {
        "colab_type": "code",
        "id": "PlJer7t-JoyB",
        "colab": {}
      },
      "source": [
        "\n",
        "with open('/content/drive/My Drive/accuracy__spektral_german', 'wb') as filehandle:\n",
        "    # store the data as binary data stream\n",
        "    pickle.dump(metrics_acc, filehandle)"
      ],
      "execution_count": 0,
      "outputs": []
    },
    {
      "cell_type": "code",
      "metadata": {
        "colab_type": "code",
        "id": "in7_dwIhJCp0",
        "colab": {}
      },
      "source": [
        "with open('/content/drive/My Drive/F1_measure__spektral_german', 'wb') as filehandle:\n",
        "    # store the data as binary data stream\n",
        "    pickle.dump(metrics_f1, filehandle)"
      ],
      "execution_count": 0,
      "outputs": []
    },
    {
      "cell_type": "code",
      "metadata": {
        "colab_type": "code",
        "id": "jw07iYlQJZbR",
        "colab": {}
      },
      "source": [
        "with open('/content/drive/My Drive/recall__spektral', 'wb') as filehandle:\n",
        "    # store the data as binary data stream\n",
        "    pickle.dump(metrics_recall, filehandle)"
      ],
      "execution_count": 0,
      "outputs": []
    },
    {
      "cell_type": "code",
      "metadata": {
        "colab_type": "code",
        "id": "Zk8cDZObuTlQ",
        "colab": {}
      },
      "source": [
        "with open('tp', 'rb') as filehandle:\n",
        "    # read the data as binary data stream\n",
        "    placesList = pickle.load(filehandle)"
      ],
      "execution_count": 0,
      "outputs": []
    },
    {
      "cell_type": "code",
      "metadata": {
        "colab_type": "code",
        "id": "BqjqQQ-lufi0",
        "outputId": "a89cb031-31df-486b-c8fc-85e6125ea7fa",
        "colab": {
          "base_uri": "https://localhost:8080/",
          "height": 101
        }
      },
      "source": [
        "tp"
      ],
      "execution_count": 0,
      "outputs": [
        {
          "output_type": "execute_result",
          "data": {
            "text/plain": [
              "[array([   0, 2775]),\n",
              " array([  23, 2737]),\n",
              " array([ 452, 1712]),\n",
              " array([   0, 2776]),\n",
              " array([   0, 2776])]"
            ]
          },
          "metadata": {
            "tags": []
          },
          "execution_count": 46
        }
      ]
    },
    {
      "cell_type": "code",
      "metadata": {
        "colab_type": "code",
        "id": "HvtDoqFobTtc",
        "colab": {}
      },
      "source": [
        "#micro-average classwise\n",
        "micro_precision_group_0 = (tp[0][0] + tp[1][0] + tp[2][0] + tp[3][0] + tp[4][0])/(tp[0][0] + tp[1][0] + tp[2][0] + tp[3][0] + \n",
        "                           tp[4][0] + fp[0][0] + fp[1][0] + fp[2][0] + fp[3][0] + fp[4][0])\n",
        "\n",
        "micro_precision_group_1 = (tp[0][1] + tp[1][1] + tp[2][1] + tp[3][1] + tp[4][1])/(tp[0][1] + tp[1][1] + tp[2][1] + tp[3][1] + \n",
        "                           tp[4][1] + fp[0][1] + fp[1][1] + fp[2][1] + fp[3][1] + fp[4][1])\n",
        "\n",
        "#micro_precision_group_2 = (tp[0][2] + tp[1][2] + tp[2][2] + tp[3][2] + tp[4][2])/(tp[0][2] + tp[1][2] + tp[2][2] + tp[3][2] + \n",
        "#                           tp[4][2] + fp[0][2] + fp[1][2] + fp[2][2] + fp[3][2] + fp[4][2])\n",
        "\n",
        "#micro_precision_group_3 = (tp[0][3] + tp[1][3] + tp[2][3] + tp[3][3] + tp[4][3])/(tp[0][3] + tp[1][3] + tp[2][3] + tp[3][3] + \n",
        "#                           tp[4][3] + fp[0][3] + fp[1][3] + fp[2][3] + fp[3][3] + fp[4][3])\n",
        "\n",
        "micro_recall_group_0 = (tp[0][0] + tp[1][0] + tp[2][0] + tp[3][0] + tp[4][0])/(tp[0][0] + tp[1][0] \n",
        "                        + tp[2][0] + tp[3][0] + tp[4][0] + fn[0][0] + fn[1][0] + fn[2][0] + fn[3][0] + fn[4][0])\n",
        "\n",
        "micro_recall_group_1 = (tp[0][1] + tp[1][1] + tp[2][1] + tp[3][1] + tp[4][1])/(tp[0][1] + tp[1][1] \n",
        "                        + tp[2][1] + tp[3][1] + tp[4][1] + fn[0][1] + fn[1][1] + fn[2][1] + fn[3][1] + fn[4][1])\n",
        "\n",
        "#micro_recall_group_2 = (tp[0][2] + tp[1][2] + tp[2][2] + tp[3][2] + tp[4][2])/(tp[0][2] + tp[1][2] \n",
        "#                        + tp[2][2] + tp[3][2] + tp[4][2] + fn[0][2] + fn[1][2] + fn[2][2] + fn[3][2] + fn[4][2])\n",
        "\n",
        "#micro_recall_group_3 = (tp[0][3] + tp[1][3] + tp[2][3] + tp[3][3] + tp[4][3])/(tp[0][3] + tp[1][3] \n",
        "#                        + tp[2][3] + tp[3][3] + tp[4][3] + fn[0][3] + fn[1][3] + fn[2][3] + fn[3][3] + fn[4][3])"
      ],
      "execution_count": 0,
      "outputs": []
    },
    {
      "cell_type": "code",
      "metadata": {
        "colab_type": "code",
        "id": "oyjn-0SQaXMM",
        "outputId": "78e1e6c3-5f20-4521-9772-95473bb2d00d",
        "colab": {
          "base_uri": "https://localhost:8080/",
          "height": 50
        }
      },
      "source": [
        "print(micro_recall_group_0)\n",
        "print(micro_recall_group_1)\n",
        "#print(micro_recall_group_2)\n",
        "#print(micro_recall_group_3)\n"
      ],
      "execution_count": 35,
      "outputs": [
        {
          "output_type": "stream",
          "text": [
            "0.4100185528756957\n",
            "0.8145827399601253\n"
          ],
          "name": "stdout"
        }
      ]
    },
    {
      "cell_type": "code",
      "metadata": {
        "colab_type": "code",
        "id": "aaQRSW4OsCJB",
        "outputId": "a862404c-90d7-477c-8ca8-900912757e25",
        "colab": {
          "base_uri": "https://localhost:8080/",
          "height": 50
        }
      },
      "source": [
        "print(micro_precision_group_0)\n",
        "print(micro_precision_group_1)\n",
        "#print(micro_precision_group_2)\n",
        "#print(micro_precision_group_3)"
      ],
      "execution_count": 36,
      "outputs": [
        {
          "output_type": "stream",
          "text": [
            "0.542997542997543\n",
            "0.7198590485779008\n"
          ],
          "name": "stdout"
        }
      ]
    },
    {
      "cell_type": "code",
      "metadata": {
        "colab_type": "code",
        "id": "_Z8XS1PHxOjo",
        "colab": {}
      },
      "source": [
        "micro_precision = []\n",
        "micro_precision.append(micro_precision_group_0)\n",
        "micro_precision.append(micro_precision_group_1)\n",
        "#micro_precision.append(micro_precision_group_2)\n",
        "#micro_precision.append(micro_precision_group_3)\n",
        "\n",
        "micro_recall = []\n",
        "micro_recall.append(micro_recall_group_0)\n",
        "micro_recall.append(micro_recall_group_1)\n",
        "#micro_recall.append(micro_recall_group_2)\n",
        "#micro_recall.append(micro_recall_group_3)\n",
        "\n"
      ],
      "execution_count": 0,
      "outputs": []
    },
    {
      "cell_type": "code",
      "metadata": {
        "colab_type": "code",
        "id": "1KASKQccacPJ",
        "colab": {}
      },
      "source": [
        " mirco_f1_group = []\n",
        "\n",
        "mirco_f1_group.append(2 * ((micro_precision_group_0 * micro_recall_group_0)/(micro_precision_group_0 \n",
        "                                                                                 + micro_recall_group_0)))\n",
        "mirco_f1_group.append(2 * ((micro_precision_group_1 * micro_recall_group_1)/(micro_precision_group_1 \n",
        "                                                                                 + micro_recall_group_1)))\n",
        "#mirco_f1_group.append(2 * ((micro_precision_group_2 * micro_recall_group_2)/(micro_precision_group_2 \n",
        "                                          #                                       + micro_recall_group_2)))\n",
        "#mirco_f1_group.append(2 * ((micro_precision_group_3 * micro_recall_group_3)/(micro_precision_group_3 \n",
        "                                           #                                      + micro_recall_group_3)))\n",
        "\n",
        "#f1_score = 2 * ((micro_precision * micro_recall)/(micro_precision + micro_recall))"
      ],
      "execution_count": 0,
      "outputs": []
    },
    {
      "cell_type": "code",
      "metadata": {
        "colab_type": "code",
        "id": "q_4GI5vwsf6C",
        "outputId": "a1605b86-99fc-4e2b-abd9-6fe4d824d0c8",
        "colab": {
          "base_uri": "https://localhost:8080/",
          "height": 67
        }
      },
      "source": [
        "print(micro_precision)\n",
        "print(micro_recall)\n",
        "print(mirco_f1_group)"
      ],
      "execution_count": 39,
      "outputs": [
        {
          "output_type": "stream",
          "text": [
            "[0.542997542997543, 0.7198590485779008]\n",
            "[0.4100185528756957, 0.8145827399601253]\n",
            "[0.46723044397463, 0.7642971672902191]\n"
          ],
          "name": "stdout"
        }
      ]
    },
    {
      "cell_type": "code",
      "metadata": {
        "colab_type": "code",
        "id": "zFw96xAksmvg",
        "colab": {}
      },
      "source": [
        "# mean accuracy classwise\n",
        "mean_accuracy = []\n",
        "for i in range(0, classes):\n",
        "    a = []\n",
        "    for j in range(0, 5): #row\n",
        "        a.append(metrics_acc[j][i])\n",
        "        n = np.array(a)\n",
        "    mean_accuracy.append(n.mean())"
      ],
      "execution_count": 0,
      "outputs": []
    },
    {
      "cell_type": "code",
      "metadata": {
        "colab_type": "code",
        "id": "oEJ6K6wlsphl",
        "outputId": "7d40bb2e-b507-49d2-da68-243efc3861d1",
        "colab": {
          "base_uri": "https://localhost:8080/",
          "height": 34
        }
      },
      "source": [
        "mean_accuracy"
      ],
      "execution_count": 41,
      "outputs": [
        {
          "output_type": "execute_result",
          "data": {
            "text/plain": [
              "[0.6731820287169986, 0.6731820287169986]"
            ]
          },
          "metadata": {
            "tags": []
          },
          "execution_count": 41
        }
      ]
    },
    {
      "cell_type": "code",
      "metadata": {
        "colab_type": "code",
        "id": "R4gR8tkGsat1",
        "outputId": "1c6643d2-1f73-4c3a-b3c9-99f93107bcfa",
        "colab": {
          "base_uri": "https://localhost:8080/",
          "height": 229
        }
      },
      "source": [
        "#macro-average classwise\n",
        "macro_precision_group_0 = (metrics_precision[0][0] + metrics_precision[1][0] + metrics_precision[2][0] + \n",
        "                           metrics_precision[3][0] + metrics_precision[4][0])/5\n",
        "macro_precision_group_1 = (metrics_precision[0][1] + metrics_precision[1][1] + metrics_precision[2][1] + \n",
        "                           metrics_precision[3][1] + metrics_precision[4][1])/5\n",
        "macro_precision_group_2 = (metrics_precision[0][2] + metrics_precision[1][2] + metrics_precision[2][2] + \n",
        "                           metrics_precision[3][2] + metrics_precision[4][2])/5\n",
        "macro_precision_group_3 = (metrics_precision[0][3] + metrics_precision[1][3] + metrics_precision[2][3] + \n",
        "                           metrics_precision[3][3] + metrics_precision[4][3])/5\n",
        "\n",
        "macro_recall_group_0 = (metrics_recall[0][0] + metrics_recall[1][0] + metrics_recall[2][0] + \n",
        "                           metrics_recall[3][0] + metrics_recall[4][0])/5\n",
        "macro_recall_group_1 = (metrics_recall[0][1] + metrics_recall[1][1] + metrics_recall[2][1] + \n",
        "                           metrics_recall[3][1] + metrics_recall[4][1])/5\n",
        "macro_recall_group_2 = (metrics_recall[0][2] + metrics_recall[1][2] + metrics_recall[2][2] + \n",
        "                           metrics_recall[3][2] + metrics_recall[4][2])/5\n",
        "macro_recall_group_3 = (metrics_recall[0][3] + metrics_recall[1][3] + metrics_recall[2][3] + \n",
        "                           metrics_recall[3][3] + metrics_recall[4][3])/5\n",
        "\n",
        "macro_f1_group_0 = 2 * ((macro_precision_group_0 * macro_recall_group_0)/(macro_precision_group_0 + macro_recall_group_0))\n",
        "\n",
        "macro_f1_group_1 = 2 * ((macro_precision_group_1 * macro_recall_group_1)/(macro_precision_group_1 + macro_recall_group_1))\n",
        "\n",
        "macro_f1_group_2 = 2 * ((macro_precision_group_2 * macro_recall_group_2)/(macro_precision_group_2 + macro_recall_group_2))\n",
        "\n",
        "macro_f1_group_3 = 2 * ((macro_precision_group_3 * macro_recall_group_3)/(macro_precision_group_3 + macro_recall_group_3))"
      ],
      "execution_count": 0,
      "outputs": [
        {
          "output_type": "error",
          "ename": "IndexError",
          "evalue": "ignored",
          "traceback": [
            "\u001b[0;31m---------------------------------------------------------------------------\u001b[0m",
            "\u001b[0;31mIndexError\u001b[0m                                Traceback (most recent call last)",
            "\u001b[0;32m<ipython-input-39-e36803e66a03>\u001b[0m in \u001b[0;36m<module>\u001b[0;34m()\u001b[0m\n\u001b[1;32m      4\u001b[0m                            metrics_precision[3][1] + metrics_precision[4][1])/5\n\u001b[1;32m      5\u001b[0m macro_precision_group_2 = (metrics_precision[0][2] + metrics_precision[1][2] + metrics_precision[2][2] + \n\u001b[0;32m----> 6\u001b[0;31m                            metrics_precision[3][2] + metrics_precision[4][2])/5\n\u001b[0m\u001b[1;32m      7\u001b[0m macro_precision_group_3 = (metrics_precision[0][3] + metrics_precision[1][3] + metrics_precision[2][3] + \n\u001b[1;32m      8\u001b[0m                            metrics_precision[3][3] + metrics_precision[4][3])/5\n",
            "\u001b[0;31mIndexError\u001b[0m: index 2 is out of bounds for axis 0 with size 2"
          ]
        }
      ]
    },
    {
      "cell_type": "code",
      "metadata": {
        "colab_type": "code",
        "id": "SsaKJZPrsj9V",
        "outputId": "393ee7ba-94d9-4c7a-8f2e-bcf8495bbc60",
        "colab": {
          "base_uri": "https://localhost:8080/",
          "height": 67
        }
      },
      "source": [
        "macro_precision = []\n",
        "macro_precision.append(macro_precision_group_0)\n",
        "macro_precision.append(macro_precision_group_1)\n",
        "macro_precision.append(macro_precision_group_2)\n",
        "macro_precision.append(macro_precision_group_3)\n",
        "\n",
        "macro_recall = []\n",
        "macro_recall.append(macro_recall_group_0)\n",
        "macro_recall.append(macro_recall_group_0)\n",
        "macro_recall.append(macro_recall_group_0)\n",
        "macro_recall.append(macro_recall_group_0)\n",
        "\n",
        "marco_f1_group = []\n",
        "\n",
        "marco_f1_group.append(2 * ((macro_precision_group_0 * macro_recall_group_0)/(macro_precision_group_0 \n",
        "                                                                                 + macro_recall_group_0)))\n",
        "marco_f1_group.append(2 * ((macro_precision_group_1 * macro_recall_group_1)/(macro_precision_group_1 \n",
        "                                                                                 + macro_recall_group_1)))\n",
        "marco_f1_group.append(2 * ((macro_precision_group_2 * macro_recall_group_2)/(macro_precision_group_2 \n",
        "                                                                                 + macro_recall_group_2)))\n",
        "marco_f1_group.append(2 * ((macro_precision_group_3 * macro_recall_group_3)/(macro_precision_group_3 \n",
        "                                                                                 + macro_recall_group_3)))\n",
        "\n",
        "#f1_score = 2 * ((micro_precision * micro_recall)/(micro_precision + micro_recall))\n",
        "\n",
        "print(macro_precision)\n",
        "print(macro_recall)\n",
        "print(marco_f1_group)"
      ],
      "execution_count": 0,
      "outputs": [
        {
          "output_type": "stream",
          "text": [
            "[0.3523932173849107, nan, 0.05173160173160174, 0.7304954151861225]\n",
            "[0.27968968065019295, 0.27968968065019295, 0.27968968065019295, 0.27968968065019295]\n",
            "[0.31186019030119677, nan, 0.02277112164447515, 0.7714543547210584]\n"
          ],
          "name": "stdout"
        }
      ]
    },
    {
      "cell_type": "code",
      "metadata": {
        "colab_type": "code",
        "id": "aKQhMRKFsrIn",
        "outputId": "3f96bceb-d75c-41b0-e4a1-a45730cdce2f",
        "colab": {
          "base_uri": "https://localhost:8080/",
          "height": 101
        }
      },
      "source": [
        "metrics_acc # verify"
      ],
      "execution_count": 0,
      "outputs": [
        {
          "output_type": "execute_result",
          "data": {
            "text/plain": [
              "[array([0.69759358, 0.99171123, 0.95695187, 0.66497326]),\n",
              " array([0.68957219, 0.99278075, 0.95748663, 0.65802139]),\n",
              " array([0.6828877 , 0.98930481, 0.94786096, 0.65      ]),\n",
              " array([0.70454545, 0.99224599, 0.95561497, 0.6684492 ]),\n",
              " array([0.67967914, 0.98796791, 0.95614973, 0.64893048])]"
            ]
          },
          "metadata": {
            "tags": []
          },
          "execution_count": 84
        }
      ]
    },
    {
      "cell_type": "code",
      "metadata": {
        "colab_type": "code",
        "id": "Cem1r1Vcssu1",
        "colab": {}
      },
      "source": [
        ""
      ],
      "execution_count": 0,
      "outputs": []
    }
  ]
}