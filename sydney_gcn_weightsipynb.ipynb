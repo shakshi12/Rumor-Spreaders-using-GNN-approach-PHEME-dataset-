{
  "nbformat": 4,
  "nbformat_minor": 0,
  "metadata": {
    "colab": {
      "name": "german gcn mean tpr fpr save.ipynb",
      "provenance": [],
      "collapsed_sections": []
    },
    "kernelspec": {
      "display_name": "Python 3",
      "language": "python",
      "name": "python3"
    },
    "language_info": {
      "codemirror_mode": {
        "name": "ipython",
        "version": 3
      },
      "file_extension": ".py",
      "mimetype": "text/x-python",
      "name": "python",
      "nbconvert_exporter": "python",
      "pygments_lexer": "ipython3",
      "version": "3.6.8"
    }
  },
  "cells": [
    {
      "cell_type": "code",
      "metadata": {
        "colab_type": "code",
        "id": "fgVJT7PRV0UR",
        "outputId": "2f56407e-1d4e-44dc-ced1-86781cce4db0",
        "colab": {
          "base_uri": "https://localhost:8080/",
          "height": 672
        }
      },
      "source": [
        "!sudo apt install graphviz libgraphviz-dev libcgraph6"
      ],
      "execution_count": 1,
      "outputs": [
        {
          "output_type": "stream",
          "text": [
            "Reading package lists... Done\n",
            "Building dependency tree       \n",
            "Reading state information... Done\n",
            "graphviz is already the newest version (2.40.1-2).\n",
            "libcgraph6 is already the newest version (2.40.1-2).\n",
            "libcgraph6 set to manually installed.\n",
            "The following NEW packages will be installed:\n",
            "  libgraphviz-dev libgvc6-plugins-gtk libxdot4\n",
            "0 upgraded, 3 newly installed, 0 to remove and 29 not upgraded.\n",
            "Need to get 91.3 kB of archives.\n",
            "After this operation, 425 kB of additional disk space will be used.\n",
            "Get:1 http://archive.ubuntu.com/ubuntu bionic/universe amd64 libxdot4 amd64 2.40.1-2 [15.7 kB]\n",
            "Get:2 http://archive.ubuntu.com/ubuntu bionic/universe amd64 libgvc6-plugins-gtk amd64 2.40.1-2 [18.2 kB]\n",
            "Get:3 http://archive.ubuntu.com/ubuntu bionic/universe amd64 libgraphviz-dev amd64 2.40.1-2 [57.3 kB]\n",
            "Fetched 91.3 kB in 1s (106 kB/s)\n",
            "debconf: unable to initialize frontend: Dialog\n",
            "debconf: (No usable dialog-like program is installed, so the dialog based frontend cannot be used. at /usr/share/perl5/Debconf/FrontEnd/Dialog.pm line 76, <> line 3.)\n",
            "debconf: falling back to frontend: Readline\n",
            "debconf: unable to initialize frontend: Readline\n",
            "debconf: (This frontend requires a controlling tty.)\n",
            "debconf: falling back to frontend: Teletype\n",
            "dpkg-preconfigure: unable to re-open stdin: \n",
            "Selecting previously unselected package libxdot4.\n",
            "(Reading database ... 144429 files and directories currently installed.)\n",
            "Preparing to unpack .../libxdot4_2.40.1-2_amd64.deb ...\n",
            "Unpacking libxdot4 (2.40.1-2) ...\n",
            "Selecting previously unselected package libgvc6-plugins-gtk.\n",
            "Preparing to unpack .../libgvc6-plugins-gtk_2.40.1-2_amd64.deb ...\n",
            "Unpacking libgvc6-plugins-gtk (2.40.1-2) ...\n",
            "Selecting previously unselected package libgraphviz-dev.\n",
            "Preparing to unpack .../libgraphviz-dev_2.40.1-2_amd64.deb ...\n",
            "Unpacking libgraphviz-dev (2.40.1-2) ...\n",
            "Setting up libxdot4 (2.40.1-2) ...\n",
            "Setting up libgvc6-plugins-gtk (2.40.1-2) ...\n",
            "Setting up libgraphviz-dev (2.40.1-2) ...\n",
            "Processing triggers for man-db (2.8.3-2ubuntu0.1) ...\n",
            "Processing triggers for libc-bin (2.27-3ubuntu1) ...\n",
            "/sbin/ldconfig.real: /usr/local/lib/python3.6/dist-packages/ideep4py/lib/libmkldnn.so.0 is not a symbolic link\n",
            "\n"
          ],
          "name": "stdout"
        }
      ]
    },
    {
      "cell_type": "code",
      "metadata": {
        "colab_type": "code",
        "id": "3vRQG-yaV3Qz",
        "outputId": "c0eabde9-e9e1-44a2-ff29-14f88323aeb5",
        "colab": {
          "base_uri": "https://localhost:8080/",
          "height": 843
        }
      },
      "source": [
        "!pip install spektral"
      ],
      "execution_count": 2,
      "outputs": [
        {
          "output_type": "stream",
          "text": [
            "Collecting spektral\n",
            "\u001b[?25l  Downloading https://files.pythonhosted.org/packages/28/d6/e0ec6c6eff220ba89ec189043dd37012014d7b54b86750677859c8a3cab0/spektral-0.5.1-py3-none-any.whl (93kB)\n",
            "\r\u001b[K     |███▌                            | 10kB 18.6MB/s eta 0:00:01\r\u001b[K     |███████                         | 20kB 3.2MB/s eta 0:00:01\r\u001b[K     |██████████▋                     | 30kB 4.2MB/s eta 0:00:01\r\u001b[K     |██████████████                  | 40kB 2.9MB/s eta 0:00:01\r\u001b[K     |█████████████████▋              | 51kB 3.3MB/s eta 0:00:01\r\u001b[K     |█████████████████████▏          | 61kB 3.9MB/s eta 0:00:01\r\u001b[K     |████████████████████████▋       | 71kB 4.1MB/s eta 0:00:01\r\u001b[K     |████████████████████████████▏   | 81kB 4.4MB/s eta 0:00:01\r\u001b[K     |███████████████████████████████▊| 92kB 4.9MB/s eta 0:00:01\r\u001b[K     |████████████████████████████████| 102kB 4.0MB/s \n",
            "\u001b[?25hRequirement already satisfied: pandas in /usr/local/lib/python3.6/dist-packages (from spektral) (1.0.3)\n",
            "Requirement already satisfied: numpy in /usr/local/lib/python3.6/dist-packages (from spektral) (1.18.3)\n",
            "Requirement already satisfied: joblib in /usr/local/lib/python3.6/dist-packages (from spektral) (0.14.1)\n",
            "Requirement already satisfied: tensorflow>=2.1.0 in /usr/local/lib/python3.6/dist-packages (from spektral) (2.2.0rc4)\n",
            "Requirement already satisfied: scipy in /usr/local/lib/python3.6/dist-packages (from spektral) (1.4.1)\n",
            "Requirement already satisfied: requests in /usr/local/lib/python3.6/dist-packages (from spektral) (2.23.0)\n",
            "Requirement already satisfied: lxml in /usr/local/lib/python3.6/dist-packages (from spektral) (4.2.6)\n",
            "Requirement already satisfied: networkx in /usr/local/lib/python3.6/dist-packages (from spektral) (2.4)\n",
            "Requirement already satisfied: scikit-learn in /usr/local/lib/python3.6/dist-packages (from spektral) (0.22.2.post1)\n",
            "Requirement already satisfied: python-dateutil>=2.6.1 in /usr/local/lib/python3.6/dist-packages (from pandas->spektral) (2.8.1)\n",
            "Requirement already satisfied: pytz>=2017.2 in /usr/local/lib/python3.6/dist-packages (from pandas->spektral) (2018.9)\n",
            "Requirement already satisfied: opt-einsum>=2.3.2 in /usr/local/lib/python3.6/dist-packages (from tensorflow>=2.1.0->spektral) (3.2.1)\n",
            "Requirement already satisfied: protobuf>=3.8.0 in /usr/local/lib/python3.6/dist-packages (from tensorflow>=2.1.0->spektral) (3.10.0)\n",
            "Requirement already satisfied: gast==0.3.3 in /usr/local/lib/python3.6/dist-packages (from tensorflow>=2.1.0->spektral) (0.3.3)\n",
            "Requirement already satisfied: tensorboard<2.3.0,>=2.2.0 in /usr/local/lib/python3.6/dist-packages (from tensorflow>=2.1.0->spektral) (2.2.1)\n",
            "Requirement already satisfied: h5py<2.11.0,>=2.10.0 in /usr/local/lib/python3.6/dist-packages (from tensorflow>=2.1.0->spektral) (2.10.0)\n",
            "Requirement already satisfied: wrapt>=1.11.1 in /usr/local/lib/python3.6/dist-packages (from tensorflow>=2.1.0->spektral) (1.12.1)\n",
            "Requirement already satisfied: tensorflow-estimator<2.3.0,>=2.2.0 in /usr/local/lib/python3.6/dist-packages (from tensorflow>=2.1.0->spektral) (2.2.0)\n",
            "Requirement already satisfied: keras-preprocessing>=1.1.0 in /usr/local/lib/python3.6/dist-packages (from tensorflow>=2.1.0->spektral) (1.1.0)\n",
            "Requirement already satisfied: google-pasta>=0.1.8 in /usr/local/lib/python3.6/dist-packages (from tensorflow>=2.1.0->spektral) (0.2.0)\n",
            "Requirement already satisfied: termcolor>=1.1.0 in /usr/local/lib/python3.6/dist-packages (from tensorflow>=2.1.0->spektral) (1.1.0)\n",
            "Requirement already satisfied: grpcio>=1.8.6 in /usr/local/lib/python3.6/dist-packages (from tensorflow>=2.1.0->spektral) (1.28.1)\n",
            "Requirement already satisfied: wheel>=0.26; python_version >= \"3\" in /usr/local/lib/python3.6/dist-packages (from tensorflow>=2.1.0->spektral) (0.34.2)\n",
            "Requirement already satisfied: absl-py>=0.7.0 in /usr/local/lib/python3.6/dist-packages (from tensorflow>=2.1.0->spektral) (0.9.0)\n",
            "Requirement already satisfied: astunparse==1.6.3 in /usr/local/lib/python3.6/dist-packages (from tensorflow>=2.1.0->spektral) (1.6.3)\n",
            "Requirement already satisfied: six>=1.12.0 in /usr/local/lib/python3.6/dist-packages (from tensorflow>=2.1.0->spektral) (1.12.0)\n",
            "Requirement already satisfied: certifi>=2017.4.17 in /usr/local/lib/python3.6/dist-packages (from requests->spektral) (2020.4.5.1)\n",
            "Requirement already satisfied: idna<3,>=2.5 in /usr/local/lib/python3.6/dist-packages (from requests->spektral) (2.9)\n",
            "Requirement already satisfied: chardet<4,>=3.0.2 in /usr/local/lib/python3.6/dist-packages (from requests->spektral) (3.0.4)\n",
            "Requirement already satisfied: urllib3!=1.25.0,!=1.25.1,<1.26,>=1.21.1 in /usr/local/lib/python3.6/dist-packages (from requests->spektral) (1.24.3)\n",
            "Requirement already satisfied: decorator>=4.3.0 in /usr/local/lib/python3.6/dist-packages (from networkx->spektral) (4.4.2)\n",
            "Requirement already satisfied: setuptools in /usr/local/lib/python3.6/dist-packages (from protobuf>=3.8.0->tensorflow>=2.1.0->spektral) (46.1.3)\n",
            "Requirement already satisfied: google-auth-oauthlib<0.5,>=0.4.1 in /usr/local/lib/python3.6/dist-packages (from tensorboard<2.3.0,>=2.2.0->tensorflow>=2.1.0->spektral) (0.4.1)\n",
            "Requirement already satisfied: tensorboard-plugin-wit>=1.6.0 in /usr/local/lib/python3.6/dist-packages (from tensorboard<2.3.0,>=2.2.0->tensorflow>=2.1.0->spektral) (1.6.0.post3)\n",
            "Requirement already satisfied: werkzeug>=0.11.15 in /usr/local/lib/python3.6/dist-packages (from tensorboard<2.3.0,>=2.2.0->tensorflow>=2.1.0->spektral) (1.0.1)\n",
            "Requirement already satisfied: google-auth<2,>=1.6.3 in /usr/local/lib/python3.6/dist-packages (from tensorboard<2.3.0,>=2.2.0->tensorflow>=2.1.0->spektral) (1.7.2)\n",
            "Requirement already satisfied: markdown>=2.6.8 in /usr/local/lib/python3.6/dist-packages (from tensorboard<2.3.0,>=2.2.0->tensorflow>=2.1.0->spektral) (3.2.1)\n",
            "Requirement already satisfied: requests-oauthlib>=0.7.0 in /usr/local/lib/python3.6/dist-packages (from google-auth-oauthlib<0.5,>=0.4.1->tensorboard<2.3.0,>=2.2.0->tensorflow>=2.1.0->spektral) (1.3.0)\n",
            "Requirement already satisfied: cachetools<3.2,>=2.0.0 in /usr/local/lib/python3.6/dist-packages (from google-auth<2,>=1.6.3->tensorboard<2.3.0,>=2.2.0->tensorflow>=2.1.0->spektral) (3.1.1)\n",
            "Requirement already satisfied: rsa<4.1,>=3.1.4 in /usr/local/lib/python3.6/dist-packages (from google-auth<2,>=1.6.3->tensorboard<2.3.0,>=2.2.0->tensorflow>=2.1.0->spektral) (4.0)\n",
            "Requirement already satisfied: pyasn1-modules>=0.2.1 in /usr/local/lib/python3.6/dist-packages (from google-auth<2,>=1.6.3->tensorboard<2.3.0,>=2.2.0->tensorflow>=2.1.0->spektral) (0.2.8)\n",
            "Requirement already satisfied: oauthlib>=3.0.0 in /usr/local/lib/python3.6/dist-packages (from requests-oauthlib>=0.7.0->google-auth-oauthlib<0.5,>=0.4.1->tensorboard<2.3.0,>=2.2.0->tensorflow>=2.1.0->spektral) (3.1.0)\n",
            "Requirement already satisfied: pyasn1>=0.1.3 in /usr/local/lib/python3.6/dist-packages (from rsa<4.1,>=3.1.4->google-auth<2,>=1.6.3->tensorboard<2.3.0,>=2.2.0->tensorflow>=2.1.0->spektral) (0.4.8)\n",
            "Installing collected packages: spektral\n",
            "Successfully installed spektral-0.5.1\n"
          ],
          "name": "stdout"
        }
      ]
    },
    {
      "cell_type": "code",
      "metadata": {
        "colab_type": "code",
        "id": "uAXc1JypWGlj",
        "outputId": "1edd0af0-bfb4-41e2-8ae1-402cd4db73fa",
        "colab": {
          "base_uri": "https://localhost:8080/",
          "height": 134
        }
      },
      "source": [
        "!git clone https://github.com/danielegrattarola/spektral.git"
      ],
      "execution_count": 3,
      "outputs": [
        {
          "output_type": "stream",
          "text": [
            "Cloning into 'spektral'...\n",
            "remote: Enumerating objects: 263, done.\u001b[K\n",
            "remote: Counting objects:   0% (1/263)\u001b[K\rremote: Counting objects:   1% (3/263)\u001b[K\rremote: Counting objects:   2% (6/263)\u001b[K\rremote: Counting objects:   3% (8/263)\u001b[K\rremote: Counting objects:   4% (11/263)\u001b[K\rremote: Counting objects:   5% (14/263)\u001b[K\rremote: Counting objects:   6% (16/263)\u001b[K\rremote: Counting objects:   7% (19/263)\u001b[K\rremote: Counting objects:   8% (22/263)\u001b[K\rremote: Counting objects:   9% (24/263)\u001b[K\rremote: Counting objects:  10% (27/263)\u001b[K\rremote: Counting objects:  11% (29/263)\u001b[K\rremote: Counting objects:  12% (32/263)\u001b[K\rremote: Counting objects:  13% (35/263)\u001b[K\rremote: Counting objects:  14% (37/263)\u001b[K\rremote: Counting objects:  15% (40/263)\u001b[K\rremote: Counting objects:  16% (43/263)\u001b[K\rremote: Counting objects:  17% (45/263)\u001b[K\rremote: Counting objects:  18% (48/263)\u001b[K\rremote: Counting objects:  19% (50/263)\u001b[K\rremote: Counting objects:  20% (53/263)\u001b[K\rremote: Counting objects:  21% (56/263)\u001b[K\rremote: Counting objects:  22% (58/263)\u001b[K\rremote: Counting objects:  23% (61/263)\u001b[K\rremote: Counting objects:  24% (64/263)\u001b[K\rremote: Counting objects:  25% (66/263)\u001b[K\rremote: Counting objects:  26% (69/263)\u001b[K\rremote: Counting objects:  27% (72/263)\u001b[K\rremote: Counting objects:  28% (74/263)\u001b[K\rremote: Counting objects:  29% (77/263)\u001b[K\rremote: Counting objects:  30% (79/263)\u001b[K\rremote: Counting objects:  31% (82/263)\u001b[K\rremote: Counting objects:  32% (85/263)\u001b[K\rremote: Counting objects:  33% (87/263)\u001b[K\rremote: Counting objects:  34% (90/263)\u001b[K\rremote: Counting objects:  35% (93/263)\u001b[K\rremote: Counting objects:  36% (95/263)\u001b[K\rremote: Counting objects:  37% (98/263)\u001b[K\rremote: Counting objects:  38% (100/263)\u001b[K\rremote: Counting objects:  39% (103/263)\u001b[K\rremote: Counting objects:  40% (106/263)\u001b[K\rremote: Counting objects:  41% (108/263)\u001b[K\rremote: Counting objects:  42% (111/263)\u001b[K\rremote: Counting objects:  43% (114/263)\u001b[K\rremote: Counting objects:  44% (116/263)\u001b[K\rremote: Counting objects:  45% (119/263)\u001b[K\rremote: Counting objects:  46% (121/263)\u001b[K\rremote: Counting objects:  47% (124/263)\u001b[K\rremote: Counting objects:  48% (127/263)\u001b[K\rremote: Counting objects:  49% (129/263)\u001b[K\rremote: Counting objects:  50% (132/263)\u001b[K\rremote: Counting objects:  51% (135/263)\u001b[K\rremote: Counting objects:  52% (137/263)\u001b[K\rremote: Counting objects:  53% (140/263)\u001b[K\rremote: Counting objects:  54% (143/263)\u001b[K\rremote: Counting objects:  55% (145/263)\u001b[K\rremote: Counting objects:  56% (148/263)\u001b[K\rremote: Counting objects:  57% (150/263)\u001b[K\rremote: Counting objects:  58% (153/263)\u001b[K\rremote: Counting objects:  59% (156/263)\u001b[K\rremote: Counting objects:  60% (158/263)\u001b[K\rremote: Counting objects:  61% (161/263)\u001b[K\rremote: Counting objects:  62% (164/263)\u001b[K\rremote: Counting objects:  63% (166/263)\u001b[K\rremote: Counting objects:  64% (169/263)\u001b[K\rremote: Counting objects:  65% (171/263)\u001b[K\rremote: Counting objects:  66% (174/263)\u001b[K\rremote: Counting objects:  67% (177/263)\u001b[K\rremote: Counting objects:  68% (179/263)\u001b[K\rremote: Counting objects:  69% (182/263)\u001b[K\rremote: Counting objects:  70% (185/263)\u001b[K\rremote: Counting objects:  71% (187/263)\u001b[K\rremote: Counting objects:  72% (190/263)\u001b[K\rremote: Counting objects:  73% (192/263)\u001b[K\rremote: Counting objects:  74% (195/263)\u001b[K\rremote: Counting objects:  75% (198/263)\u001b[K\rremote: Counting objects:  76% (200/263)\u001b[K\rremote: Counting objects:  77% (203/263)\u001b[K\rremote: Counting objects:  78% (206/263)\u001b[K\rremote: Counting objects:  79% (208/263)\u001b[K\rremote: Counting objects:  80% (211/263)\u001b[K\rremote: Counting objects:  81% (214/263)\u001b[K\rremote: Counting objects:  82% (216/263)\u001b[K\rremote: Counting objects:  83% (219/263)\u001b[K\rremote: Counting objects:  84% (221/263)\u001b[K\rremote: Counting objects:  85% (224/263)\u001b[K\rremote: Counting objects:  86% (227/263)\u001b[K\rremote: Counting objects:  87% (229/263)\u001b[K\rremote: Counting objects:  88% (232/263)\u001b[K\rremote: Counting objects:  89% (235/263)\u001b[K\rremote: Counting objects:  90% (237/263)\u001b[K\rremote: Counting objects:  91% (240/263)\u001b[K\rremote: Counting objects:  92% (242/263)\u001b[K\rremote: Counting objects:  93% (245/263)\u001b[K\rremote: Counting objects:  94% (248/263)\u001b[K\rremote: Counting objects:  95% (250/263)\u001b[K\rremote: Counting objects:  96% (253/263)\u001b[K\rremote: Counting objects:  97% (256/263)\u001b[K\rremote: Counting objects:  98% (258/263)\u001b[K\rremote: Counting objects:  99% (261/263)\u001b[K\rremote: Counting objects: 100% (263/263)\u001b[K\rremote: Counting objects: 100% (263/263), done.\u001b[K\n",
            "remote: Compressing objects: 100% (145/145), done.\u001b[K\n",
            "remote: Total 4007 (delta 153), reused 185 (delta 96), pack-reused 3744\u001b[K\n",
            "Receiving objects: 100% (4007/4007), 10.96 MiB | 13.82 MiB/s, done.\n",
            "Resolving deltas: 100% (2498/2498), done.\n"
          ],
          "name": "stdout"
        }
      ]
    },
    {
      "cell_type": "code",
      "metadata": {
        "colab_type": "code",
        "id": "DtHvfsmXWQ68",
        "outputId": "79756691-a533-4556-df07-dd3bfe2e7fc5",
        "colab": {
          "base_uri": "https://localhost:8080/",
          "height": 34
        }
      },
      "source": [
        "cd spektral"
      ],
      "execution_count": 4,
      "outputs": [
        {
          "output_type": "stream",
          "text": [
            "/content/spektral\n"
          ],
          "name": "stdout"
        }
      ]
    },
    {
      "cell_type": "code",
      "metadata": {
        "colab_type": "code",
        "id": "fhvT_HvbWTil",
        "outputId": "acf4d616-9380-4777-e19f-879cf58d71bb",
        "colab": {
          "base_uri": "https://localhost:8080/",
          "height": 1000
        }
      },
      "source": [
        "!python setup.py install"
      ],
      "execution_count": 5,
      "outputs": [
        {
          "output_type": "stream",
          "text": [
            "running install\n",
            "running bdist_egg\n",
            "running egg_info\n",
            "creating spektral.egg-info\n",
            "writing spektral.egg-info/PKG-INFO\n",
            "writing dependency_links to spektral.egg-info/dependency_links.txt\n",
            "writing requirements to spektral.egg-info/requires.txt\n",
            "writing top-level names to spektral.egg-info/top_level.txt\n",
            "writing manifest file 'spektral.egg-info/SOURCES.txt'\n",
            "writing manifest file 'spektral.egg-info/SOURCES.txt'\n",
            "installing library code to build/bdist.linux-x86_64/egg\n",
            "running install_lib\n",
            "running build_py\n",
            "creating build\n",
            "creating build/lib\n",
            "creating build/lib/tests\n",
            "copying tests/test_datasets.py -> build/lib/tests\n",
            "copying tests/__init__.py -> build/lib/tests\n",
            "copying tests/test_utils.py -> build/lib/tests\n",
            "creating build/lib/spektral\n",
            "copying spektral/chem.py -> build/lib/spektral\n",
            "copying spektral/__init__.py -> build/lib/spektral\n",
            "creating build/lib/tests/test_layers\n",
            "copying tests/test_layers/test_ops.py -> build/lib/tests/test_layers\n",
            "copying tests/test_layers/test_convolutional.py -> build/lib/tests/test_layers\n",
            "copying tests/test_layers/test_pooling.py -> build/lib/tests/test_layers\n",
            "copying tests/test_layers/__init__.py -> build/lib/tests/test_layers\n",
            "copying tests/test_layers/test_global_pooling.py -> build/lib/tests/test_layers\n",
            "creating build/lib/spektral/datasets\n",
            "copying spektral/datasets/graphsage.py -> build/lib/spektral/datasets\n",
            "copying spektral/datasets/delaunay.py -> build/lib/spektral/datasets\n",
            "copying spektral/datasets/__init__.py -> build/lib/spektral/datasets\n",
            "copying spektral/datasets/citation.py -> build/lib/spektral/datasets\n",
            "copying spektral/datasets/tud.py -> build/lib/spektral/datasets\n",
            "copying spektral/datasets/mnist.py -> build/lib/spektral/datasets\n",
            "copying spektral/datasets/qm9.py -> build/lib/spektral/datasets\n",
            "copying spektral/datasets/ogb.py -> build/lib/spektral/datasets\n",
            "creating build/lib/spektral/layers\n",
            "copying spektral/layers/__init__.py -> build/lib/spektral/layers\n",
            "copying spektral/layers/base.py -> build/lib/spektral/layers\n",
            "creating build/lib/spektral/utils\n",
            "copying spektral/utils/keras.py -> build/lib/spektral/utils\n",
            "copying spektral/utils/conversion.py -> build/lib/spektral/utils\n",
            "copying spektral/utils/convolution.py -> build/lib/spektral/utils\n",
            "copying spektral/utils/logging.py -> build/lib/spektral/utils\n",
            "copying spektral/utils/data.py -> build/lib/spektral/utils\n",
            "copying spektral/utils/__init__.py -> build/lib/spektral/utils\n",
            "copying spektral/utils/misc.py -> build/lib/spektral/utils\n",
            "copying spektral/utils/io.py -> build/lib/spektral/utils\n",
            "creating build/lib/spektral/layers/convolutional\n",
            "copying spektral/layers/convolutional/cheb_conv.py -> build/lib/spektral/layers/convolutional\n",
            "copying spektral/layers/convolutional/crystal_conv.py -> build/lib/spektral/layers/convolutional\n",
            "copying spektral/layers/convolutional/message_passing.py -> build/lib/spektral/layers/convolutional\n",
            "copying spektral/layers/convolutional/ecc_conv.py -> build/lib/spektral/layers/convolutional\n",
            "copying spektral/layers/convolutional/gin_conv.py -> build/lib/spektral/layers/convolutional\n",
            "copying spektral/layers/convolutional/graphsage_conv.py -> build/lib/spektral/layers/convolutional\n",
            "copying spektral/layers/convolutional/graph_conv_skip.py -> build/lib/spektral/layers/convolutional\n",
            "copying spektral/layers/convolutional/tag_conv.py -> build/lib/spektral/layers/convolutional\n",
            "copying spektral/layers/convolutional/__init__.py -> build/lib/spektral/layers/convolutional\n",
            "copying spektral/layers/convolutional/arma_conv.py -> build/lib/spektral/layers/convolutional\n",
            "copying spektral/layers/convolutional/appnp.py -> build/lib/spektral/layers/convolutional\n",
            "copying spektral/layers/convolutional/diffusion_conv.py -> build/lib/spektral/layers/convolutional\n",
            "copying spektral/layers/convolutional/gated_graph_conv.py -> build/lib/spektral/layers/convolutional\n",
            "copying spektral/layers/convolutional/agnn_conv.py -> build/lib/spektral/layers/convolutional\n",
            "copying spektral/layers/convolutional/graph_conv.py -> build/lib/spektral/layers/convolutional\n",
            "copying spektral/layers/convolutional/graph_attention.py -> build/lib/spektral/layers/convolutional\n",
            "copying spektral/layers/convolutional/edge_conv.py -> build/lib/spektral/layers/convolutional\n",
            "creating build/lib/spektral/layers/pooling\n",
            "copying spektral/layers/pooling/sag_pool.py -> build/lib/spektral/layers/pooling\n",
            "copying spektral/layers/pooling/mincut_pool.py -> build/lib/spektral/layers/pooling\n",
            "copying spektral/layers/pooling/__init__.py -> build/lib/spektral/layers/pooling\n",
            "copying spektral/layers/pooling/diff_pool.py -> build/lib/spektral/layers/pooling\n",
            "copying spektral/layers/pooling/global_pool.py -> build/lib/spektral/layers/pooling\n",
            "copying spektral/layers/pooling/topk_pool.py -> build/lib/spektral/layers/pooling\n",
            "creating build/lib/spektral/layers/ops\n",
            "copying spektral/layers/ops/scatter.py -> build/lib/spektral/layers/ops\n",
            "copying spektral/layers/ops/graph.py -> build/lib/spektral/layers/ops\n",
            "copying spektral/layers/ops/matmul.py -> build/lib/spektral/layers/ops\n",
            "copying spektral/layers/ops/sparse.py -> build/lib/spektral/layers/ops\n",
            "copying spektral/layers/ops/modes.py -> build/lib/spektral/layers/ops\n",
            "copying spektral/layers/ops/__init__.py -> build/lib/spektral/layers/ops\n",
            "copying spektral/layers/ops/ops.py -> build/lib/spektral/layers/ops\n",
            "creating build/bdist.linux-x86_64\n",
            "creating build/bdist.linux-x86_64/egg\n",
            "creating build/bdist.linux-x86_64/egg/tests\n",
            "copying build/lib/tests/test_datasets.py -> build/bdist.linux-x86_64/egg/tests\n",
            "copying build/lib/tests/__init__.py -> build/bdist.linux-x86_64/egg/tests\n",
            "creating build/bdist.linux-x86_64/egg/tests/test_layers\n",
            "copying build/lib/tests/test_layers/test_ops.py -> build/bdist.linux-x86_64/egg/tests/test_layers\n",
            "copying build/lib/tests/test_layers/test_convolutional.py -> build/bdist.linux-x86_64/egg/tests/test_layers\n",
            "copying build/lib/tests/test_layers/test_pooling.py -> build/bdist.linux-x86_64/egg/tests/test_layers\n",
            "copying build/lib/tests/test_layers/__init__.py -> build/bdist.linux-x86_64/egg/tests/test_layers\n",
            "copying build/lib/tests/test_layers/test_global_pooling.py -> build/bdist.linux-x86_64/egg/tests/test_layers\n",
            "copying build/lib/tests/test_utils.py -> build/bdist.linux-x86_64/egg/tests\n",
            "creating build/bdist.linux-x86_64/egg/spektral\n",
            "creating build/bdist.linux-x86_64/egg/spektral/datasets\n",
            "copying build/lib/spektral/datasets/graphsage.py -> build/bdist.linux-x86_64/egg/spektral/datasets\n",
            "copying build/lib/spektral/datasets/delaunay.py -> build/bdist.linux-x86_64/egg/spektral/datasets\n",
            "copying build/lib/spektral/datasets/__init__.py -> build/bdist.linux-x86_64/egg/spektral/datasets\n",
            "copying build/lib/spektral/datasets/citation.py -> build/bdist.linux-x86_64/egg/spektral/datasets\n",
            "copying build/lib/spektral/datasets/tud.py -> build/bdist.linux-x86_64/egg/spektral/datasets\n",
            "copying build/lib/spektral/datasets/mnist.py -> build/bdist.linux-x86_64/egg/spektral/datasets\n",
            "copying build/lib/spektral/datasets/qm9.py -> build/bdist.linux-x86_64/egg/spektral/datasets\n",
            "copying build/lib/spektral/datasets/ogb.py -> build/bdist.linux-x86_64/egg/spektral/datasets\n",
            "copying build/lib/spektral/chem.py -> build/bdist.linux-x86_64/egg/spektral\n",
            "copying build/lib/spektral/__init__.py -> build/bdist.linux-x86_64/egg/spektral\n",
            "creating build/bdist.linux-x86_64/egg/spektral/layers\n",
            "creating build/bdist.linux-x86_64/egg/spektral/layers/convolutional\n",
            "copying build/lib/spektral/layers/convolutional/cheb_conv.py -> build/bdist.linux-x86_64/egg/spektral/layers/convolutional\n",
            "copying build/lib/spektral/layers/convolutional/crystal_conv.py -> build/bdist.linux-x86_64/egg/spektral/layers/convolutional\n",
            "copying build/lib/spektral/layers/convolutional/message_passing.py -> build/bdist.linux-x86_64/egg/spektral/layers/convolutional\n",
            "copying build/lib/spektral/layers/convolutional/ecc_conv.py -> build/bdist.linux-x86_64/egg/spektral/layers/convolutional\n",
            "copying build/lib/spektral/layers/convolutional/gin_conv.py -> build/bdist.linux-x86_64/egg/spektral/layers/convolutional\n",
            "copying build/lib/spektral/layers/convolutional/graphsage_conv.py -> build/bdist.linux-x86_64/egg/spektral/layers/convolutional\n",
            "copying build/lib/spektral/layers/convolutional/graph_conv_skip.py -> build/bdist.linux-x86_64/egg/spektral/layers/convolutional\n",
            "copying build/lib/spektral/layers/convolutional/tag_conv.py -> build/bdist.linux-x86_64/egg/spektral/layers/convolutional\n",
            "copying build/lib/spektral/layers/convolutional/__init__.py -> build/bdist.linux-x86_64/egg/spektral/layers/convolutional\n",
            "copying build/lib/spektral/layers/convolutional/arma_conv.py -> build/bdist.linux-x86_64/egg/spektral/layers/convolutional\n",
            "copying build/lib/spektral/layers/convolutional/appnp.py -> build/bdist.linux-x86_64/egg/spektral/layers/convolutional\n",
            "copying build/lib/spektral/layers/convolutional/diffusion_conv.py -> build/bdist.linux-x86_64/egg/spektral/layers/convolutional\n",
            "copying build/lib/spektral/layers/convolutional/gated_graph_conv.py -> build/bdist.linux-x86_64/egg/spektral/layers/convolutional\n",
            "copying build/lib/spektral/layers/convolutional/agnn_conv.py -> build/bdist.linux-x86_64/egg/spektral/layers/convolutional\n",
            "copying build/lib/spektral/layers/convolutional/graph_conv.py -> build/bdist.linux-x86_64/egg/spektral/layers/convolutional\n",
            "copying build/lib/spektral/layers/convolutional/graph_attention.py -> build/bdist.linux-x86_64/egg/spektral/layers/convolutional\n",
            "copying build/lib/spektral/layers/convolutional/edge_conv.py -> build/bdist.linux-x86_64/egg/spektral/layers/convolutional\n",
            "creating build/bdist.linux-x86_64/egg/spektral/layers/pooling\n",
            "copying build/lib/spektral/layers/pooling/sag_pool.py -> build/bdist.linux-x86_64/egg/spektral/layers/pooling\n",
            "copying build/lib/spektral/layers/pooling/mincut_pool.py -> build/bdist.linux-x86_64/egg/spektral/layers/pooling\n",
            "copying build/lib/spektral/layers/pooling/__init__.py -> build/bdist.linux-x86_64/egg/spektral/layers/pooling\n",
            "copying build/lib/spektral/layers/pooling/diff_pool.py -> build/bdist.linux-x86_64/egg/spektral/layers/pooling\n",
            "copying build/lib/spektral/layers/pooling/global_pool.py -> build/bdist.linux-x86_64/egg/spektral/layers/pooling\n",
            "copying build/lib/spektral/layers/pooling/topk_pool.py -> build/bdist.linux-x86_64/egg/spektral/layers/pooling\n",
            "copying build/lib/spektral/layers/__init__.py -> build/bdist.linux-x86_64/egg/spektral/layers\n",
            "copying build/lib/spektral/layers/base.py -> build/bdist.linux-x86_64/egg/spektral/layers\n",
            "creating build/bdist.linux-x86_64/egg/spektral/layers/ops\n",
            "copying build/lib/spektral/layers/ops/scatter.py -> build/bdist.linux-x86_64/egg/spektral/layers/ops\n",
            "copying build/lib/spektral/layers/ops/graph.py -> build/bdist.linux-x86_64/egg/spektral/layers/ops\n",
            "copying build/lib/spektral/layers/ops/matmul.py -> build/bdist.linux-x86_64/egg/spektral/layers/ops\n",
            "copying build/lib/spektral/layers/ops/sparse.py -> build/bdist.linux-x86_64/egg/spektral/layers/ops\n",
            "copying build/lib/spektral/layers/ops/modes.py -> build/bdist.linux-x86_64/egg/spektral/layers/ops\n",
            "copying build/lib/spektral/layers/ops/__init__.py -> build/bdist.linux-x86_64/egg/spektral/layers/ops\n",
            "copying build/lib/spektral/layers/ops/ops.py -> build/bdist.linux-x86_64/egg/spektral/layers/ops\n",
            "creating build/bdist.linux-x86_64/egg/spektral/utils\n",
            "copying build/lib/spektral/utils/keras.py -> build/bdist.linux-x86_64/egg/spektral/utils\n",
            "copying build/lib/spektral/utils/conversion.py -> build/bdist.linux-x86_64/egg/spektral/utils\n",
            "copying build/lib/spektral/utils/convolution.py -> build/bdist.linux-x86_64/egg/spektral/utils\n",
            "copying build/lib/spektral/utils/logging.py -> build/bdist.linux-x86_64/egg/spektral/utils\n",
            "copying build/lib/spektral/utils/data.py -> build/bdist.linux-x86_64/egg/spektral/utils\n",
            "copying build/lib/spektral/utils/__init__.py -> build/bdist.linux-x86_64/egg/spektral/utils\n",
            "copying build/lib/spektral/utils/misc.py -> build/bdist.linux-x86_64/egg/spektral/utils\n",
            "copying build/lib/spektral/utils/io.py -> build/bdist.linux-x86_64/egg/spektral/utils\n",
            "byte-compiling build/bdist.linux-x86_64/egg/tests/test_datasets.py to test_datasets.cpython-36.pyc\n",
            "byte-compiling build/bdist.linux-x86_64/egg/tests/__init__.py to __init__.cpython-36.pyc\n",
            "byte-compiling build/bdist.linux-x86_64/egg/tests/test_layers/test_ops.py to test_ops.cpython-36.pyc\n",
            "byte-compiling build/bdist.linux-x86_64/egg/tests/test_layers/test_convolutional.py to test_convolutional.cpython-36.pyc\n",
            "byte-compiling build/bdist.linux-x86_64/egg/tests/test_layers/test_pooling.py to test_pooling.cpython-36.pyc\n",
            "byte-compiling build/bdist.linux-x86_64/egg/tests/test_layers/__init__.py to __init__.cpython-36.pyc\n",
            "byte-compiling build/bdist.linux-x86_64/egg/tests/test_layers/test_global_pooling.py to test_global_pooling.cpython-36.pyc\n",
            "byte-compiling build/bdist.linux-x86_64/egg/tests/test_utils.py to test_utils.cpython-36.pyc\n",
            "byte-compiling build/bdist.linux-x86_64/egg/spektral/datasets/graphsage.py to graphsage.cpython-36.pyc\n",
            "byte-compiling build/bdist.linux-x86_64/egg/spektral/datasets/delaunay.py to delaunay.cpython-36.pyc\n",
            "byte-compiling build/bdist.linux-x86_64/egg/spektral/datasets/__init__.py to __init__.cpython-36.pyc\n",
            "byte-compiling build/bdist.linux-x86_64/egg/spektral/datasets/citation.py to citation.cpython-36.pyc\n",
            "byte-compiling build/bdist.linux-x86_64/egg/spektral/datasets/tud.py to tud.cpython-36.pyc\n",
            "byte-compiling build/bdist.linux-x86_64/egg/spektral/datasets/mnist.py to mnist.cpython-36.pyc\n",
            "byte-compiling build/bdist.linux-x86_64/egg/spektral/datasets/qm9.py to qm9.cpython-36.pyc\n",
            "byte-compiling build/bdist.linux-x86_64/egg/spektral/datasets/ogb.py to ogb.cpython-36.pyc\n",
            "byte-compiling build/bdist.linux-x86_64/egg/spektral/chem.py to chem.cpython-36.pyc\n",
            "byte-compiling build/bdist.linux-x86_64/egg/spektral/__init__.py to __init__.cpython-36.pyc\n",
            "byte-compiling build/bdist.linux-x86_64/egg/spektral/layers/convolutional/cheb_conv.py to cheb_conv.cpython-36.pyc\n",
            "byte-compiling build/bdist.linux-x86_64/egg/spektral/layers/convolutional/crystal_conv.py to crystal_conv.cpython-36.pyc\n",
            "byte-compiling build/bdist.linux-x86_64/egg/spektral/layers/convolutional/message_passing.py to message_passing.cpython-36.pyc\n",
            "byte-compiling build/bdist.linux-x86_64/egg/spektral/layers/convolutional/ecc_conv.py to ecc_conv.cpython-36.pyc\n",
            "byte-compiling build/bdist.linux-x86_64/egg/spektral/layers/convolutional/gin_conv.py to gin_conv.cpython-36.pyc\n",
            "byte-compiling build/bdist.linux-x86_64/egg/spektral/layers/convolutional/graphsage_conv.py to graphsage_conv.cpython-36.pyc\n",
            "byte-compiling build/bdist.linux-x86_64/egg/spektral/layers/convolutional/graph_conv_skip.py to graph_conv_skip.cpython-36.pyc\n",
            "byte-compiling build/bdist.linux-x86_64/egg/spektral/layers/convolutional/tag_conv.py to tag_conv.cpython-36.pyc\n",
            "byte-compiling build/bdist.linux-x86_64/egg/spektral/layers/convolutional/__init__.py to __init__.cpython-36.pyc\n",
            "byte-compiling build/bdist.linux-x86_64/egg/spektral/layers/convolutional/arma_conv.py to arma_conv.cpython-36.pyc\n",
            "byte-compiling build/bdist.linux-x86_64/egg/spektral/layers/convolutional/appnp.py to appnp.cpython-36.pyc\n",
            "byte-compiling build/bdist.linux-x86_64/egg/spektral/layers/convolutional/diffusion_conv.py to diffusion_conv.cpython-36.pyc\n",
            "byte-compiling build/bdist.linux-x86_64/egg/spektral/layers/convolutional/gated_graph_conv.py to gated_graph_conv.cpython-36.pyc\n",
            "byte-compiling build/bdist.linux-x86_64/egg/spektral/layers/convolutional/agnn_conv.py to agnn_conv.cpython-36.pyc\n",
            "byte-compiling build/bdist.linux-x86_64/egg/spektral/layers/convolutional/graph_conv.py to graph_conv.cpython-36.pyc\n",
            "byte-compiling build/bdist.linux-x86_64/egg/spektral/layers/convolutional/graph_attention.py to graph_attention.cpython-36.pyc\n",
            "byte-compiling build/bdist.linux-x86_64/egg/spektral/layers/convolutional/edge_conv.py to edge_conv.cpython-36.pyc\n",
            "byte-compiling build/bdist.linux-x86_64/egg/spektral/layers/pooling/sag_pool.py to sag_pool.cpython-36.pyc\n",
            "byte-compiling build/bdist.linux-x86_64/egg/spektral/layers/pooling/mincut_pool.py to mincut_pool.cpython-36.pyc\n",
            "byte-compiling build/bdist.linux-x86_64/egg/spektral/layers/pooling/__init__.py to __init__.cpython-36.pyc\n",
            "byte-compiling build/bdist.linux-x86_64/egg/spektral/layers/pooling/diff_pool.py to diff_pool.cpython-36.pyc\n",
            "byte-compiling build/bdist.linux-x86_64/egg/spektral/layers/pooling/global_pool.py to global_pool.cpython-36.pyc\n",
            "byte-compiling build/bdist.linux-x86_64/egg/spektral/layers/pooling/topk_pool.py to topk_pool.cpython-36.pyc\n",
            "byte-compiling build/bdist.linux-x86_64/egg/spektral/layers/__init__.py to __init__.cpython-36.pyc\n",
            "byte-compiling build/bdist.linux-x86_64/egg/spektral/layers/base.py to base.cpython-36.pyc\n",
            "byte-compiling build/bdist.linux-x86_64/egg/spektral/layers/ops/scatter.py to scatter.cpython-36.pyc\n",
            "byte-compiling build/bdist.linux-x86_64/egg/spektral/layers/ops/graph.py to graph.cpython-36.pyc\n",
            "byte-compiling build/bdist.linux-x86_64/egg/spektral/layers/ops/matmul.py to matmul.cpython-36.pyc\n",
            "byte-compiling build/bdist.linux-x86_64/egg/spektral/layers/ops/sparse.py to sparse.cpython-36.pyc\n",
            "byte-compiling build/bdist.linux-x86_64/egg/spektral/layers/ops/modes.py to modes.cpython-36.pyc\n",
            "byte-compiling build/bdist.linux-x86_64/egg/spektral/layers/ops/__init__.py to __init__.cpython-36.pyc\n",
            "byte-compiling build/bdist.linux-x86_64/egg/spektral/layers/ops/ops.py to ops.cpython-36.pyc\n",
            "byte-compiling build/bdist.linux-x86_64/egg/spektral/utils/keras.py to keras.cpython-36.pyc\n",
            "byte-compiling build/bdist.linux-x86_64/egg/spektral/utils/conversion.py to conversion.cpython-36.pyc\n",
            "byte-compiling build/bdist.linux-x86_64/egg/spektral/utils/convolution.py to convolution.cpython-36.pyc\n",
            "byte-compiling build/bdist.linux-x86_64/egg/spektral/utils/logging.py to logging.cpython-36.pyc\n",
            "byte-compiling build/bdist.linux-x86_64/egg/spektral/utils/data.py to data.cpython-36.pyc\n",
            "byte-compiling build/bdist.linux-x86_64/egg/spektral/utils/__init__.py to __init__.cpython-36.pyc\n",
            "byte-compiling build/bdist.linux-x86_64/egg/spektral/utils/misc.py to misc.cpython-36.pyc\n",
            "byte-compiling build/bdist.linux-x86_64/egg/spektral/utils/io.py to io.cpython-36.pyc\n",
            "creating build/bdist.linux-x86_64/egg/EGG-INFO\n",
            "copying spektral.egg-info/PKG-INFO -> build/bdist.linux-x86_64/egg/EGG-INFO\n",
            "copying spektral.egg-info/SOURCES.txt -> build/bdist.linux-x86_64/egg/EGG-INFO\n",
            "copying spektral.egg-info/dependency_links.txt -> build/bdist.linux-x86_64/egg/EGG-INFO\n",
            "copying spektral.egg-info/requires.txt -> build/bdist.linux-x86_64/egg/EGG-INFO\n",
            "copying spektral.egg-info/top_level.txt -> build/bdist.linux-x86_64/egg/EGG-INFO\n",
            "zip_safe flag not set; analyzing archive contents...\n",
            "creating dist\n",
            "creating 'dist/spektral-0.5.1-py3.6.egg' and adding 'build/bdist.linux-x86_64/egg' to it\n",
            "removing 'build/bdist.linux-x86_64/egg' (and everything under it)\n",
            "Processing spektral-0.5.1-py3.6.egg\n",
            "Copying spektral-0.5.1-py3.6.egg to /usr/local/lib/python3.6/dist-packages\n",
            "Adding spektral 0.5.1 to easy-install.pth file\n",
            "\n",
            "Installed /usr/local/lib/python3.6/dist-packages/spektral-0.5.1-py3.6.egg\n",
            "Processing dependencies for spektral==0.5.1\n",
            "Searching for scikit-learn==0.22.2.post1\n",
            "Best match: scikit-learn 0.22.2.post1\n",
            "Adding scikit-learn 0.22.2.post1 to easy-install.pth file\n",
            "\n",
            "Using /usr/local/lib/python3.6/dist-packages\n",
            "Searching for requests==2.23.0\n",
            "Best match: requests 2.23.0\n",
            "Adding requests 2.23.0 to easy-install.pth file\n",
            "\n",
            "Using /usr/local/lib/python3.6/dist-packages\n",
            "Searching for scipy==1.4.1\n",
            "Best match: scipy 1.4.1\n",
            "Adding scipy 1.4.1 to easy-install.pth file\n",
            "\n",
            "Using /usr/local/lib/python3.6/dist-packages\n",
            "Searching for numpy==1.18.3\n",
            "Best match: numpy 1.18.3\n",
            "Adding numpy 1.18.3 to easy-install.pth file\n",
            "Installing f2py script to /usr/local/bin\n",
            "Installing f2py3 script to /usr/local/bin\n",
            "Installing f2py3.6 script to /usr/local/bin\n",
            "\n",
            "Using /usr/local/lib/python3.6/dist-packages\n",
            "Searching for joblib==0.14.1\n",
            "Best match: joblib 0.14.1\n",
            "Adding joblib 0.14.1 to easy-install.pth file\n",
            "\n",
            "Using /usr/local/lib/python3.6/dist-packages\n",
            "Searching for lxml==4.2.6\n",
            "Best match: lxml 4.2.6\n",
            "Adding lxml 4.2.6 to easy-install.pth file\n",
            "\n",
            "Using /usr/local/lib/python3.6/dist-packages\n",
            "Searching for pandas==1.0.3\n",
            "Best match: pandas 1.0.3\n",
            "Adding pandas 1.0.3 to easy-install.pth file\n",
            "\n",
            "Using /usr/local/lib/python3.6/dist-packages\n",
            "Searching for networkx==2.4\n",
            "Best match: networkx 2.4\n",
            "Adding networkx 2.4 to easy-install.pth file\n",
            "\n",
            "Using /usr/local/lib/python3.6/dist-packages\n",
            "Searching for tensorflow==2.2.0rc4\n",
            "Best match: tensorflow 2.2.0rc4\n",
            "Adding tensorflow 2.2.0rc4 to easy-install.pth file\n",
            "Installing estimator_ckpt_converter script to /usr/local/bin\n",
            "Installing saved_model_cli script to /usr/local/bin\n",
            "Installing tensorboard script to /usr/local/bin\n",
            "Installing tf_upgrade_v2 script to /usr/local/bin\n",
            "Installing tflite_convert script to /usr/local/bin\n",
            "Installing toco script to /usr/local/bin\n",
            "Installing toco_from_protos script to /usr/local/bin\n",
            "\n",
            "Using /usr/local/lib/python3.6/dist-packages\n",
            "Searching for chardet==3.0.4\n",
            "Best match: chardet 3.0.4\n",
            "Adding chardet 3.0.4 to easy-install.pth file\n",
            "Installing chardetect script to /usr/local/bin\n",
            "\n",
            "Using /usr/local/lib/python3.6/dist-packages\n",
            "Searching for certifi==2020.4.5.1\n",
            "Best match: certifi 2020.4.5.1\n",
            "Adding certifi 2020.4.5.1 to easy-install.pth file\n",
            "\n",
            "Using /usr/local/lib/python3.6/dist-packages\n",
            "Searching for idna==2.9\n",
            "Best match: idna 2.9\n",
            "Adding idna 2.9 to easy-install.pth file\n",
            "\n",
            "Using /usr/local/lib/python3.6/dist-packages\n",
            "Searching for urllib3==1.24.3\n",
            "Best match: urllib3 1.24.3\n",
            "Adding urllib3 1.24.3 to easy-install.pth file\n",
            "\n",
            "Using /usr/local/lib/python3.6/dist-packages\n",
            "Searching for pytz==2018.9\n",
            "Best match: pytz 2018.9\n",
            "Adding pytz 2018.9 to easy-install.pth file\n",
            "\n",
            "Using /usr/local/lib/python3.6/dist-packages\n",
            "Searching for python-dateutil==2.8.1\n",
            "Best match: python-dateutil 2.8.1\n",
            "Adding python-dateutil 2.8.1 to easy-install.pth file\n",
            "\n",
            "Using /usr/local/lib/python3.6/dist-packages\n",
            "Searching for decorator==4.4.2\n",
            "Best match: decorator 4.4.2\n",
            "Adding decorator 4.4.2 to easy-install.pth file\n",
            "\n",
            "Using /usr/local/lib/python3.6/dist-packages\n",
            "Searching for absl-py==0.9.0\n",
            "Best match: absl-py 0.9.0\n",
            "Adding absl-py 0.9.0 to easy-install.pth file\n",
            "\n",
            "Using /usr/local/lib/python3.6/dist-packages\n",
            "Searching for tensorboard==2.2.1\n",
            "Best match: tensorboard 2.2.1\n",
            "Adding tensorboard 2.2.1 to easy-install.pth file\n",
            "Installing tensorboard script to /usr/local/bin\n",
            "\n",
            "Using /usr/local/lib/python3.6/dist-packages\n",
            "Searching for wrapt==1.12.1\n",
            "Best match: wrapt 1.12.1\n",
            "Adding wrapt 1.12.1 to easy-install.pth file\n",
            "\n",
            "Using /usr/local/lib/python3.6/dist-packages\n",
            "Searching for astunparse==1.6.3\n",
            "Best match: astunparse 1.6.3\n",
            "Adding astunparse 1.6.3 to easy-install.pth file\n",
            "\n",
            "Using /usr/local/lib/python3.6/dist-packages\n",
            "Searching for grpcio==1.28.1\n",
            "Best match: grpcio 1.28.1\n",
            "Adding grpcio 1.28.1 to easy-install.pth file\n",
            "\n",
            "Using /usr/local/lib/python3.6/dist-packages\n",
            "Searching for gast==0.3.3\n",
            "Best match: gast 0.3.3\n",
            "Adding gast 0.3.3 to easy-install.pth file\n",
            "\n",
            "Using /usr/local/lib/python3.6/dist-packages\n",
            "Searching for tensorflow-estimator==2.2.0\n",
            "Best match: tensorflow-estimator 2.2.0\n",
            "Adding tensorflow-estimator 2.2.0 to easy-install.pth file\n",
            "\n",
            "Using /usr/local/lib/python3.6/dist-packages\n",
            "Searching for protobuf==3.10.0\n",
            "Best match: protobuf 3.10.0\n",
            "Adding protobuf 3.10.0 to easy-install.pth file\n",
            "\n",
            "Using /usr/local/lib/python3.6/dist-packages\n",
            "Searching for wheel==0.34.2\n",
            "Best match: wheel 0.34.2\n",
            "Adding wheel 0.34.2 to easy-install.pth file\n",
            "Installing wheel script to /usr/local/bin\n",
            "\n",
            "Using /usr/local/lib/python3.6/dist-packages\n",
            "Searching for termcolor==1.1.0\n",
            "Best match: termcolor 1.1.0\n",
            "Adding termcolor 1.1.0 to easy-install.pth file\n",
            "\n",
            "Using /usr/local/lib/python3.6/dist-packages\n",
            "Searching for opt-einsum==3.2.1\n",
            "Best match: opt-einsum 3.2.1\n",
            "Adding opt-einsum 3.2.1 to easy-install.pth file\n",
            "\n",
            "Using /usr/local/lib/python3.6/dist-packages\n",
            "Searching for google-pasta==0.2.0\n",
            "Best match: google-pasta 0.2.0\n",
            "Adding google-pasta 0.2.0 to easy-install.pth file\n",
            "\n",
            "Using /usr/local/lib/python3.6/dist-packages\n",
            "Searching for six==1.12.0\n",
            "Best match: six 1.12.0\n",
            "Adding six 1.12.0 to easy-install.pth file\n",
            "\n",
            "Using /usr/local/lib/python3.6/dist-packages\n",
            "Searching for Keras-Preprocessing==1.1.0\n",
            "Best match: Keras-Preprocessing 1.1.0\n",
            "Adding Keras-Preprocessing 1.1.0 to easy-install.pth file\n",
            "\n",
            "Using /usr/local/lib/python3.6/dist-packages\n",
            "Searching for h5py==2.10.0\n",
            "Best match: h5py 2.10.0\n",
            "Adding h5py 2.10.0 to easy-install.pth file\n",
            "\n",
            "Using /usr/local/lib/python3.6/dist-packages\n",
            "Searching for Markdown==3.2.1\n",
            "Best match: Markdown 3.2.1\n",
            "Adding Markdown 3.2.1 to easy-install.pth file\n",
            "Installing markdown_py script to /usr/local/bin\n",
            "\n",
            "Using /usr/local/lib/python3.6/dist-packages\n",
            "Searching for google-auth==1.7.2\n",
            "Best match: google-auth 1.7.2\n",
            "Adding google-auth 1.7.2 to easy-install.pth file\n",
            "\n",
            "Using /usr/local/lib/python3.6/dist-packages\n",
            "Searching for tensorboard-plugin-wit==1.6.0.post3\n",
            "Best match: tensorboard-plugin-wit 1.6.0.post3\n",
            "Adding tensorboard-plugin-wit 1.6.0.post3 to easy-install.pth file\n",
            "\n",
            "Using /usr/local/lib/python3.6/dist-packages\n",
            "Searching for Werkzeug==1.0.1\n",
            "Best match: Werkzeug 1.0.1\n",
            "Adding Werkzeug 1.0.1 to easy-install.pth file\n",
            "\n",
            "Using /usr/local/lib/python3.6/dist-packages\n",
            "Searching for google-auth-oauthlib==0.4.1\n",
            "Best match: google-auth-oauthlib 0.4.1\n",
            "Adding google-auth-oauthlib 0.4.1 to easy-install.pth file\n",
            "Installing google-oauthlib-tool script to /usr/local/bin\n",
            "\n",
            "Using /usr/local/lib/python3.6/dist-packages\n",
            "Searching for setuptools==46.1.3\n",
            "Best match: setuptools 46.1.3\n",
            "Adding setuptools 46.1.3 to easy-install.pth file\n",
            "Installing easy_install script to /usr/local/bin\n",
            "Installing easy_install-3.8 script to /usr/local/bin\n",
            "\n",
            "Using /usr/local/lib/python3.6/dist-packages\n",
            "Searching for cachetools==3.1.1\n",
            "Best match: cachetools 3.1.1\n",
            "Adding cachetools 3.1.1 to easy-install.pth file\n",
            "\n",
            "Using /usr/local/lib/python3.6/dist-packages\n",
            "Searching for rsa==4.0\n",
            "Best match: rsa 4.0\n",
            "Adding rsa 4.0 to easy-install.pth file\n",
            "Installing pyrsa-decrypt script to /usr/local/bin\n",
            "Installing pyrsa-encrypt script to /usr/local/bin\n",
            "Installing pyrsa-keygen script to /usr/local/bin\n",
            "Installing pyrsa-priv2pub script to /usr/local/bin\n",
            "Installing pyrsa-sign script to /usr/local/bin\n",
            "Installing pyrsa-verify script to /usr/local/bin\n",
            "\n",
            "Using /usr/local/lib/python3.6/dist-packages\n",
            "Searching for pyasn1-modules==0.2.8\n",
            "Best match: pyasn1-modules 0.2.8\n",
            "Adding pyasn1-modules 0.2.8 to easy-install.pth file\n",
            "\n",
            "Using /usr/local/lib/python3.6/dist-packages\n",
            "Searching for requests-oauthlib==1.3.0\n",
            "Best match: requests-oauthlib 1.3.0\n",
            "Adding requests-oauthlib 1.3.0 to easy-install.pth file\n",
            "\n",
            "Using /usr/local/lib/python3.6/dist-packages\n",
            "Searching for pyasn1==0.4.8\n",
            "Best match: pyasn1 0.4.8\n",
            "Adding pyasn1 0.4.8 to easy-install.pth file\n",
            "\n",
            "Using /usr/local/lib/python3.6/dist-packages\n",
            "Searching for oauthlib==3.1.0\n",
            "Best match: oauthlib 3.1.0\n",
            "Adding oauthlib 3.1.0 to easy-install.pth file\n",
            "\n",
            "Using /usr/local/lib/python3.6/dist-packages\n",
            "Finished processing dependencies for spektral==0.5.1\n"
          ],
          "name": "stdout"
        }
      ]
    },
    {
      "cell_type": "code",
      "metadata": {
        "colab_type": "code",
        "id": "5_Ruy5uKeEth",
        "outputId": "49310b79-49f4-42ca-df62-645ba82aff1c",
        "colab": {
          "base_uri": "https://localhost:8080/",
          "height": 121
        }
      },
      "source": [
        "from google.colab import drive\n",
        "drive.mount('/content/drive')"
      ],
      "execution_count": 6,
      "outputs": [
        {
          "output_type": "stream",
          "text": [
            "Go to this URL in a browser: https://accounts.google.com/o/oauth2/auth?client_id=947318989803-6bn6qk8qdgf4n4g3pfee6491hc0brc4i.apps.googleusercontent.com&redirect_uri=urn%3aietf%3awg%3aoauth%3a2.0%3aoob&response_type=code&scope=email%20https%3a%2f%2fwww.googleapis.com%2fauth%2fdocs.test%20https%3a%2f%2fwww.googleapis.com%2fauth%2fdrive%20https%3a%2f%2fwww.googleapis.com%2fauth%2fdrive.photos.readonly%20https%3a%2f%2fwww.googleapis.com%2fauth%2fpeopleapi.readonly\n",
            "\n",
            "Enter your authorization code:\n",
            "··········\n",
            "Mounted at /content/drive\n"
          ],
          "name": "stdout"
        }
      ]
    },
    {
      "cell_type": "code",
      "metadata": {
        "colab_type": "code",
        "id": "yiKS7cpuYUm2",
        "colab": {}
      },
      "source": [
        "import numpy as np\n",
        "import pandas as pd\n",
        "df = pd.read_csv('/content/drive/My Drive/sydney_features_user_imp_added.csv')"
      ],
      "execution_count": 0,
      "outputs": []
    },
    {
      "cell_type": "code",
      "metadata": {
        "id": "aMqGx4d4Urw7",
        "colab_type": "code",
        "colab": {
          "base_uri": "https://localhost:8080/",
          "height": 34
        },
        "outputId": "13111961-e091-45e4-fd7d-d855dd5fb3e4"
      },
      "source": [
        "df[df.target_variables == 0].count()['target_variables']"
      ],
      "execution_count": 8,
      "outputs": [
        {
          "output_type": "execute_result",
          "data": {
            "text/plain": [
              "4658"
            ]
          },
          "metadata": {
            "tags": []
          },
          "execution_count": 8
        }
      ]
    },
    {
      "cell_type": "code",
      "metadata": {
        "id": "ZQ0umkU1UrxA",
        "colab_type": "code",
        "colab": {
          "base_uri": "https://localhost:8080/",
          "height": 34
        },
        "outputId": "c063a809-5512-4ef8-e939-67c9b60ae24a"
      },
      "source": [
        "df[df.target_variables == 1].count()['target_variables']"
      ],
      "execution_count": 9,
      "outputs": [
        {
          "output_type": "execute_result",
          "data": {
            "text/plain": [
              "7545"
            ]
          },
          "metadata": {
            "tags": []
          },
          "execution_count": 9
        }
      ]
    },
    {
      "cell_type": "code",
      "metadata": {
        "colab_type": "code",
        "id": "DwSP8eDVhjJU",
        "colab": {}
      },
      "source": [
        "from sklearn.metrics import precision_score\n",
        "from sklearn.metrics import recall_score\n",
        "from sklearn.metrics import f1_score\n",
        "from sklearn.metrics import accuracy_score\n",
        "import matplotlib.pyplot as plt\n",
        "from itertools import cycle\n",
        "from sklearn.metrics import roc_curve, auc\n",
        "from scipy import interp\n",
        "from sklearn.metrics import roc_auc_score\n",
        "from sklearn import metrics"
      ],
      "execution_count": 0,
      "outputs": []
    },
    {
      "cell_type": "code",
      "metadata": {
        "colab_type": "code",
        "id": "Eu3I3gCgdYV4",
        "outputId": "86a67791-0c9a-4c46-dd9d-925f8ae192d0",
        "colab": {
          "base_uri": "https://localhost:8080/",
          "height": 261
        }
      },
      "source": [
        "df.head()"
      ],
      "execution_count": 11,
      "outputs": [
        {
          "output_type": "execute_result",
          "data": {
            "text/html": [
              "<div>\n",
              "<style scoped>\n",
              "    .dataframe tbody tr th:only-of-type {\n",
              "        vertical-align: middle;\n",
              "    }\n",
              "\n",
              "    .dataframe tbody tr th {\n",
              "        vertical-align: top;\n",
              "    }\n",
              "\n",
              "    .dataframe thead th {\n",
              "        text-align: right;\n",
              "    }\n",
              "</style>\n",
              "<table border=\"1\" class=\"dataframe\">\n",
              "  <thead>\n",
              "    <tr style=\"text-align: right;\">\n",
              "      <th></th>\n",
              "      <th>Unnamed: 0</th>\n",
              "      <th>abbot</th>\n",
              "      <th>abbott</th>\n",
              "      <th>abcnew</th>\n",
              "      <th>abid</th>\n",
              "      <th>abil</th>\n",
              "      <th>abl</th>\n",
              "      <th>aborigin</th>\n",
              "      <th>abov</th>\n",
              "      <th>absolut</th>\n",
              "      <th>absurd</th>\n",
              "      <th>abus</th>\n",
              "      <th>accept</th>\n",
              "      <th>access</th>\n",
              "      <th>accid</th>\n",
              "      <th>accompani</th>\n",
              "      <th>accord</th>\n",
              "      <th>account</th>\n",
              "      <th>accur</th>\n",
              "      <th>accus</th>\n",
              "      <th>achiev</th>\n",
              "      <th>acknowledg</th>\n",
              "      <th>across</th>\n",
              "      <th>act</th>\n",
              "      <th>action</th>\n",
              "      <th>activ</th>\n",
              "      <th>activist</th>\n",
              "      <th>actual</th>\n",
              "      <th>ad</th>\n",
              "      <th>address</th>\n",
              "      <th>adher</th>\n",
              "      <th>administr</th>\n",
              "      <th>admir</th>\n",
              "      <th>admit</th>\n",
              "      <th>adopt</th>\n",
              "      <th>advanc</th>\n",
              "      <th>advantag</th>\n",
              "      <th>advertis</th>\n",
              "      <th>advic</th>\n",
              "      <th>advis</th>\n",
              "      <th>...</th>\n",
              "      <th>workplac</th>\n",
              "      <th>workplaceviol</th>\n",
              "      <th>world</th>\n",
              "      <th>worldwid</th>\n",
              "      <th>worri</th>\n",
              "      <th>wors</th>\n",
              "      <th>worship</th>\n",
              "      <th>worst</th>\n",
              "      <th>worth</th>\n",
              "      <th>worthi</th>\n",
              "      <th>worthless</th>\n",
              "      <th>would</th>\n",
              "      <th>wouldnt</th>\n",
              "      <th>wound</th>\n",
              "      <th>wrap</th>\n",
              "      <th>write</th>\n",
              "      <th>written</th>\n",
              "      <th>wrong</th>\n",
              "      <th>wrote</th>\n",
              "      <th>xma</th>\n",
              "      <th>yeah</th>\n",
              "      <th>year</th>\n",
              "      <th>yell</th>\n",
              "      <th>yesterday</th>\n",
              "      <th>yike</th>\n",
              "      <th>young</th>\n",
              "      <th>yourselv</th>\n",
              "      <th>youth</th>\n",
              "      <th>youtub</th>\n",
              "      <th>zayn</th>\n",
              "      <th>zero</th>\n",
              "      <th>zionist</th>\n",
              "      <th>zombi</th>\n",
              "      <th>zone</th>\n",
              "      <th>user_id</th>\n",
              "      <th>favorites_count</th>\n",
              "      <th>verified</th>\n",
              "      <th>followers_count</th>\n",
              "      <th>user_imp</th>\n",
              "      <th>target_variables</th>\n",
              "    </tr>\n",
              "  </thead>\n",
              "  <tbody>\n",
              "    <tr>\n",
              "      <th>0</th>\n",
              "      <td>0</td>\n",
              "      <td>0.0</td>\n",
              "      <td>0.0</td>\n",
              "      <td>0.0</td>\n",
              "      <td>0.0</td>\n",
              "      <td>0.0</td>\n",
              "      <td>0.0</td>\n",
              "      <td>0.0</td>\n",
              "      <td>0.0</td>\n",
              "      <td>0.0</td>\n",
              "      <td>0.0</td>\n",
              "      <td>0.0</td>\n",
              "      <td>0.0</td>\n",
              "      <td>0.0</td>\n",
              "      <td>0.0</td>\n",
              "      <td>0.0</td>\n",
              "      <td>0.0</td>\n",
              "      <td>0.0</td>\n",
              "      <td>0.0</td>\n",
              "      <td>0.0</td>\n",
              "      <td>0.0</td>\n",
              "      <td>0.0</td>\n",
              "      <td>0.0</td>\n",
              "      <td>0.0</td>\n",
              "      <td>0.0</td>\n",
              "      <td>0.0</td>\n",
              "      <td>0.0</td>\n",
              "      <td>0.0</td>\n",
              "      <td>0.0</td>\n",
              "      <td>0.0</td>\n",
              "      <td>0.0</td>\n",
              "      <td>0.0</td>\n",
              "      <td>0.0</td>\n",
              "      <td>0.0</td>\n",
              "      <td>0.0</td>\n",
              "      <td>0.0</td>\n",
              "      <td>0.0</td>\n",
              "      <td>0.0</td>\n",
              "      <td>0.0</td>\n",
              "      <td>0.005186</td>\n",
              "      <td>...</td>\n",
              "      <td>0.0</td>\n",
              "      <td>0.0</td>\n",
              "      <td>0.0</td>\n",
              "      <td>0.0</td>\n",
              "      <td>0.0</td>\n",
              "      <td>0.0</td>\n",
              "      <td>0.0</td>\n",
              "      <td>0.0</td>\n",
              "      <td>0.0</td>\n",
              "      <td>0.0</td>\n",
              "      <td>0.0</td>\n",
              "      <td>0.0</td>\n",
              "      <td>0.0</td>\n",
              "      <td>0.0</td>\n",
              "      <td>0.0</td>\n",
              "      <td>0.0</td>\n",
              "      <td>0.0</td>\n",
              "      <td>0.0</td>\n",
              "      <td>0.0</td>\n",
              "      <td>0.0</td>\n",
              "      <td>0.0</td>\n",
              "      <td>0.0</td>\n",
              "      <td>0.0</td>\n",
              "      <td>0.0</td>\n",
              "      <td>0.0</td>\n",
              "      <td>0.0</td>\n",
              "      <td>0.0</td>\n",
              "      <td>0.0</td>\n",
              "      <td>0.0</td>\n",
              "      <td>0.0</td>\n",
              "      <td>0.0</td>\n",
              "      <td>0.0</td>\n",
              "      <td>0.0</td>\n",
              "      <td>0.0</td>\n",
              "      <td>23041630.0</td>\n",
              "      <td>217.0</td>\n",
              "      <td>1.0</td>\n",
              "      <td>78981.0</td>\n",
              "      <td>0.0028</td>\n",
              "      <td>0</td>\n",
              "    </tr>\n",
              "    <tr>\n",
              "      <th>1</th>\n",
              "      <td>1</td>\n",
              "      <td>0.0</td>\n",
              "      <td>0.0</td>\n",
              "      <td>0.0</td>\n",
              "      <td>0.0</td>\n",
              "      <td>0.0</td>\n",
              "      <td>0.0</td>\n",
              "      <td>0.0</td>\n",
              "      <td>0.0</td>\n",
              "      <td>0.0</td>\n",
              "      <td>0.0</td>\n",
              "      <td>0.0</td>\n",
              "      <td>0.0</td>\n",
              "      <td>0.0</td>\n",
              "      <td>0.0</td>\n",
              "      <td>0.0</td>\n",
              "      <td>0.0</td>\n",
              "      <td>0.0</td>\n",
              "      <td>0.0</td>\n",
              "      <td>0.0</td>\n",
              "      <td>0.0</td>\n",
              "      <td>0.0</td>\n",
              "      <td>0.0</td>\n",
              "      <td>0.0</td>\n",
              "      <td>0.0</td>\n",
              "      <td>0.0</td>\n",
              "      <td>0.0</td>\n",
              "      <td>0.0</td>\n",
              "      <td>0.0</td>\n",
              "      <td>0.0</td>\n",
              "      <td>0.0</td>\n",
              "      <td>0.0</td>\n",
              "      <td>0.0</td>\n",
              "      <td>0.0</td>\n",
              "      <td>0.0</td>\n",
              "      <td>0.0</td>\n",
              "      <td>0.0</td>\n",
              "      <td>0.0</td>\n",
              "      <td>0.0</td>\n",
              "      <td>0.000000</td>\n",
              "      <td>...</td>\n",
              "      <td>0.0</td>\n",
              "      <td>0.0</td>\n",
              "      <td>0.0</td>\n",
              "      <td>0.0</td>\n",
              "      <td>0.0</td>\n",
              "      <td>0.0</td>\n",
              "      <td>0.0</td>\n",
              "      <td>0.0</td>\n",
              "      <td>0.0</td>\n",
              "      <td>0.0</td>\n",
              "      <td>0.0</td>\n",
              "      <td>0.0</td>\n",
              "      <td>0.0</td>\n",
              "      <td>0.0</td>\n",
              "      <td>0.0</td>\n",
              "      <td>0.0</td>\n",
              "      <td>0.0</td>\n",
              "      <td>0.0</td>\n",
              "      <td>0.0</td>\n",
              "      <td>0.0</td>\n",
              "      <td>0.0</td>\n",
              "      <td>0.0</td>\n",
              "      <td>0.0</td>\n",
              "      <td>0.0</td>\n",
              "      <td>0.0</td>\n",
              "      <td>0.0</td>\n",
              "      <td>0.0</td>\n",
              "      <td>0.0</td>\n",
              "      <td>0.0</td>\n",
              "      <td>0.0</td>\n",
              "      <td>0.0</td>\n",
              "      <td>0.0</td>\n",
              "      <td>0.0</td>\n",
              "      <td>0.0</td>\n",
              "      <td>16215478.0</td>\n",
              "      <td>2.0</td>\n",
              "      <td>1.0</td>\n",
              "      <td>19256.0</td>\n",
              "      <td>0.0024</td>\n",
              "      <td>0</td>\n",
              "    </tr>\n",
              "    <tr>\n",
              "      <th>2</th>\n",
              "      <td>2</td>\n",
              "      <td>0.0</td>\n",
              "      <td>0.0</td>\n",
              "      <td>0.0</td>\n",
              "      <td>0.0</td>\n",
              "      <td>0.0</td>\n",
              "      <td>0.0</td>\n",
              "      <td>0.0</td>\n",
              "      <td>0.0</td>\n",
              "      <td>0.0</td>\n",
              "      <td>0.0</td>\n",
              "      <td>0.0</td>\n",
              "      <td>0.0</td>\n",
              "      <td>0.0</td>\n",
              "      <td>0.0</td>\n",
              "      <td>0.0</td>\n",
              "      <td>0.0</td>\n",
              "      <td>0.0</td>\n",
              "      <td>0.0</td>\n",
              "      <td>0.0</td>\n",
              "      <td>0.0</td>\n",
              "      <td>0.0</td>\n",
              "      <td>0.0</td>\n",
              "      <td>0.0</td>\n",
              "      <td>0.0</td>\n",
              "      <td>0.0</td>\n",
              "      <td>0.0</td>\n",
              "      <td>0.0</td>\n",
              "      <td>0.0</td>\n",
              "      <td>0.0</td>\n",
              "      <td>0.0</td>\n",
              "      <td>0.0</td>\n",
              "      <td>0.0</td>\n",
              "      <td>0.0</td>\n",
              "      <td>0.0</td>\n",
              "      <td>0.0</td>\n",
              "      <td>0.0</td>\n",
              "      <td>0.0</td>\n",
              "      <td>0.0</td>\n",
              "      <td>0.000000</td>\n",
              "      <td>...</td>\n",
              "      <td>0.0</td>\n",
              "      <td>0.0</td>\n",
              "      <td>0.0</td>\n",
              "      <td>0.0</td>\n",
              "      <td>0.0</td>\n",
              "      <td>0.0</td>\n",
              "      <td>0.0</td>\n",
              "      <td>0.0</td>\n",
              "      <td>0.0</td>\n",
              "      <td>0.0</td>\n",
              "      <td>0.0</td>\n",
              "      <td>0.0</td>\n",
              "      <td>0.0</td>\n",
              "      <td>0.0</td>\n",
              "      <td>0.0</td>\n",
              "      <td>0.0</td>\n",
              "      <td>0.0</td>\n",
              "      <td>0.0</td>\n",
              "      <td>0.0</td>\n",
              "      <td>0.0</td>\n",
              "      <td>0.0</td>\n",
              "      <td>0.0</td>\n",
              "      <td>0.0</td>\n",
              "      <td>0.0</td>\n",
              "      <td>0.0</td>\n",
              "      <td>0.0</td>\n",
              "      <td>0.0</td>\n",
              "      <td>0.0</td>\n",
              "      <td>0.0</td>\n",
              "      <td>0.0</td>\n",
              "      <td>0.0</td>\n",
              "      <td>0.0</td>\n",
              "      <td>0.0</td>\n",
              "      <td>0.0</td>\n",
              "      <td>7587032.0</td>\n",
              "      <td>1.0</td>\n",
              "      <td>1.0</td>\n",
              "      <td>1732670.0</td>\n",
              "      <td>0.0302</td>\n",
              "      <td>1</td>\n",
              "    </tr>\n",
              "    <tr>\n",
              "      <th>3</th>\n",
              "      <td>3</td>\n",
              "      <td>0.0</td>\n",
              "      <td>0.0</td>\n",
              "      <td>0.0</td>\n",
              "      <td>0.0</td>\n",
              "      <td>0.0</td>\n",
              "      <td>0.0</td>\n",
              "      <td>0.0</td>\n",
              "      <td>0.0</td>\n",
              "      <td>0.0</td>\n",
              "      <td>0.0</td>\n",
              "      <td>0.0</td>\n",
              "      <td>0.0</td>\n",
              "      <td>0.0</td>\n",
              "      <td>0.0</td>\n",
              "      <td>0.0</td>\n",
              "      <td>0.0</td>\n",
              "      <td>0.0</td>\n",
              "      <td>0.0</td>\n",
              "      <td>0.0</td>\n",
              "      <td>0.0</td>\n",
              "      <td>0.0</td>\n",
              "      <td>0.0</td>\n",
              "      <td>0.0</td>\n",
              "      <td>0.0</td>\n",
              "      <td>0.0</td>\n",
              "      <td>0.0</td>\n",
              "      <td>0.0</td>\n",
              "      <td>0.0</td>\n",
              "      <td>0.0</td>\n",
              "      <td>0.0</td>\n",
              "      <td>0.0</td>\n",
              "      <td>0.0</td>\n",
              "      <td>0.0</td>\n",
              "      <td>0.0</td>\n",
              "      <td>0.0</td>\n",
              "      <td>0.0</td>\n",
              "      <td>0.0</td>\n",
              "      <td>0.0</td>\n",
              "      <td>0.000000</td>\n",
              "      <td>...</td>\n",
              "      <td>0.0</td>\n",
              "      <td>0.0</td>\n",
              "      <td>0.0</td>\n",
              "      <td>0.0</td>\n",
              "      <td>0.0</td>\n",
              "      <td>0.0</td>\n",
              "      <td>0.0</td>\n",
              "      <td>0.0</td>\n",
              "      <td>0.0</td>\n",
              "      <td>0.0</td>\n",
              "      <td>0.0</td>\n",
              "      <td>0.0</td>\n",
              "      <td>0.0</td>\n",
              "      <td>0.0</td>\n",
              "      <td>0.0</td>\n",
              "      <td>0.0</td>\n",
              "      <td>0.0</td>\n",
              "      <td>0.0</td>\n",
              "      <td>0.0</td>\n",
              "      <td>0.0</td>\n",
              "      <td>0.0</td>\n",
              "      <td>0.0</td>\n",
              "      <td>0.0</td>\n",
              "      <td>0.0</td>\n",
              "      <td>0.0</td>\n",
              "      <td>0.0</td>\n",
              "      <td>0.0</td>\n",
              "      <td>0.0</td>\n",
              "      <td>0.0</td>\n",
              "      <td>0.0</td>\n",
              "      <td>0.0</td>\n",
              "      <td>0.0</td>\n",
              "      <td>0.0</td>\n",
              "      <td>0.0</td>\n",
              "      <td>27964284.0</td>\n",
              "      <td>146.0</td>\n",
              "      <td>1.0</td>\n",
              "      <td>219410.0</td>\n",
              "      <td>0.0011</td>\n",
              "      <td>0</td>\n",
              "    </tr>\n",
              "    <tr>\n",
              "      <th>4</th>\n",
              "      <td>4</td>\n",
              "      <td>0.0</td>\n",
              "      <td>0.0</td>\n",
              "      <td>0.0</td>\n",
              "      <td>0.0</td>\n",
              "      <td>0.0</td>\n",
              "      <td>0.0</td>\n",
              "      <td>0.0</td>\n",
              "      <td>0.0</td>\n",
              "      <td>0.0</td>\n",
              "      <td>0.0</td>\n",
              "      <td>0.0</td>\n",
              "      <td>0.0</td>\n",
              "      <td>0.0</td>\n",
              "      <td>0.0</td>\n",
              "      <td>0.0</td>\n",
              "      <td>0.0</td>\n",
              "      <td>0.0</td>\n",
              "      <td>0.0</td>\n",
              "      <td>0.0</td>\n",
              "      <td>0.0</td>\n",
              "      <td>0.0</td>\n",
              "      <td>0.0</td>\n",
              "      <td>0.0</td>\n",
              "      <td>0.0</td>\n",
              "      <td>0.0</td>\n",
              "      <td>0.0</td>\n",
              "      <td>0.0</td>\n",
              "      <td>0.0</td>\n",
              "      <td>0.0</td>\n",
              "      <td>0.0</td>\n",
              "      <td>0.0</td>\n",
              "      <td>0.0</td>\n",
              "      <td>0.0</td>\n",
              "      <td>0.0</td>\n",
              "      <td>0.0</td>\n",
              "      <td>0.0</td>\n",
              "      <td>0.0</td>\n",
              "      <td>0.0</td>\n",
              "      <td>0.000000</td>\n",
              "      <td>...</td>\n",
              "      <td>0.0</td>\n",
              "      <td>0.0</td>\n",
              "      <td>0.0</td>\n",
              "      <td>0.0</td>\n",
              "      <td>0.0</td>\n",
              "      <td>0.0</td>\n",
              "      <td>0.0</td>\n",
              "      <td>0.0</td>\n",
              "      <td>0.0</td>\n",
              "      <td>0.0</td>\n",
              "      <td>0.0</td>\n",
              "      <td>0.0</td>\n",
              "      <td>0.0</td>\n",
              "      <td>0.0</td>\n",
              "      <td>0.0</td>\n",
              "      <td>0.0</td>\n",
              "      <td>0.0</td>\n",
              "      <td>0.0</td>\n",
              "      <td>0.0</td>\n",
              "      <td>0.0</td>\n",
              "      <td>0.0</td>\n",
              "      <td>0.0</td>\n",
              "      <td>0.0</td>\n",
              "      <td>0.0</td>\n",
              "      <td>0.0</td>\n",
              "      <td>0.0</td>\n",
              "      <td>0.0</td>\n",
              "      <td>0.0</td>\n",
              "      <td>0.0</td>\n",
              "      <td>0.0</td>\n",
              "      <td>0.0</td>\n",
              "      <td>0.0</td>\n",
              "      <td>0.0</td>\n",
              "      <td>0.0</td>\n",
              "      <td>374712154.0</td>\n",
              "      <td>12235.0</td>\n",
              "      <td>1.0</td>\n",
              "      <td>93651.0</td>\n",
              "      <td>0.0065</td>\n",
              "      <td>0</td>\n",
              "    </tr>\n",
              "  </tbody>\n",
              "</table>\n",
              "<p>5 rows × 2662 columns</p>\n",
              "</div>"
            ],
            "text/plain": [
              "   Unnamed: 0  abbot  abbott  ...  followers_count  user_imp  target_variables\n",
              "0           0    0.0     0.0  ...          78981.0    0.0028                 0\n",
              "1           1    0.0     0.0  ...          19256.0    0.0024                 0\n",
              "2           2    0.0     0.0  ...        1732670.0    0.0302                 1\n",
              "3           3    0.0     0.0  ...         219410.0    0.0011                 0\n",
              "4           4    0.0     0.0  ...          93651.0    0.0065                 0\n",
              "\n",
              "[5 rows x 2662 columns]"
            ]
          },
          "metadata": {
            "tags": []
          },
          "execution_count": 11
        }
      ]
    },
    {
      "cell_type": "code",
      "metadata": {
        "colab_type": "code",
        "id": "o4XIT3ZPbTs3",
        "colab": {}
      },
      "source": [
        "df.drop('Unnamed: 0', axis = 1, inplace = True)"
      ],
      "execution_count": 0,
      "outputs": []
    },
    {
      "cell_type": "code",
      "metadata": {
        "colab_type": "code",
        "id": "6U0fqCsZbTs6",
        "outputId": "5e7a6449-bb37-40cc-ead7-f5f553d45c85",
        "colab": {
          "base_uri": "https://localhost:8080/",
          "height": 34
        }
      },
      "source": [
        "df.shape"
      ],
      "execution_count": 13,
      "outputs": [
        {
          "output_type": "execute_result",
          "data": {
            "text/plain": [
              "(12203, 2661)"
            ]
          },
          "metadata": {
            "tags": []
          },
          "execution_count": 13
        }
      ]
    },
    {
      "cell_type": "code",
      "metadata": {
        "colab_type": "code",
        "id": "X6R0aYNUufNB",
        "outputId": "c1cd8d23-d96c-4756-9fbf-c9f08f32b249",
        "colab": {
          "base_uri": "https://localhost:8080/",
          "height": 34
        }
      },
      "source": [
        "df.target_variables.nunique()"
      ],
      "execution_count": 14,
      "outputs": [
        {
          "output_type": "execute_result",
          "data": {
            "text/plain": [
              "2"
            ]
          },
          "metadata": {
            "tags": []
          },
          "execution_count": 14
        }
      ]
    },
    {
      "cell_type": "code",
      "metadata": {
        "colab_type": "code",
        "id": "g3pZCHeCbTs9",
        "colab": {}
      },
      "source": [
        "X = df.iloc[:, :-1].values #Take all the columns except last one\n",
        "y = df.iloc[:, -1].values #Take the last column as the result\n",
        "from scipy import sparse\n",
        "#X_csr = sparse.csr_matrix(X)"
      ],
      "execution_count": 0,
      "outputs": []
    },
    {
      "cell_type": "code",
      "metadata": {
        "colab_type": "code",
        "id": "iefK_CgSbTs_",
        "outputId": "82d63310-f9b3-428f-b07b-ed3eeb1ca113",
        "colab": {
          "base_uri": "https://localhost:8080/",
          "height": 34
        }
      },
      "source": [
        "y.shape"
      ],
      "execution_count": 16,
      "outputs": [
        {
          "output_type": "execute_result",
          "data": {
            "text/plain": [
              "(12203,)"
            ]
          },
          "metadata": {
            "tags": []
          },
          "execution_count": 16
        }
      ]
    },
    {
      "cell_type": "code",
      "metadata": {
        "colab_type": "code",
        "id": "vUxE1X_DbTtI",
        "colab": {}
      },
      "source": [
        "import networkx as nx"
      ],
      "execution_count": 0,
      "outputs": []
    },
    {
      "cell_type": "code",
      "metadata": {
        "colab_type": "code",
        "id": "7y0EpO_ebTtK",
        "outputId": "21426244-c8b1-49fb-dc86-dc7c1941cf7d",
        "colab": {
          "base_uri": "https://localhost:8080/",
          "height": 34
        }
      },
      "source": [
        "G = nx.read_multiline_adjlist(\"/content/drive/My Drive/sydney.adjlist\")\n",
        "A = nx.adjacency_matrix(G)\n",
        "A.shape"
      ],
      "execution_count": 18,
      "outputs": [
        {
          "output_type": "execute_result",
          "data": {
            "text/plain": [
              "(12203, 12203)"
            ]
          },
          "metadata": {
            "tags": []
          },
          "execution_count": 18
        }
      ]
    },
    {
      "cell_type": "code",
      "metadata": {
        "colab_type": "code",
        "id": "yKIh3Q9JbTtP",
        "colab": {}
      },
      "source": [
        "n1 = df['target_variables']\n",
        "classes = 2\n",
        "y = np.zeros((len(df),classes))\n",
        "#labels\n",
        "n = list(n1)\n",
        "for i in range(len(df)):\n",
        "    if (n[i] == 1):\n",
        "        y[i,1] = 1\n",
        "    elif (n[i] == 0):\n",
        "        y[i,0] = 1\n",
        "\n"
      ],
      "execution_count": 0,
      "outputs": []
    },
    {
      "cell_type": "code",
      "metadata": {
        "colab_type": "code",
        "id": "blZo1aT8bTtR",
        "colab": {}
      },
      "source": [
        "N = A.shape[0]\n",
        "F = X.shape[-1]\n",
        "n_classes = y.shape[-1]"
      ],
      "execution_count": 0,
      "outputs": []
    },
    {
      "cell_type": "code",
      "metadata": {
        "colab_type": "code",
        "id": "k408JMXXgNOt",
        "outputId": "fe46c66c-19dc-4fd7-dbf5-32e59f3a3f21",
        "colab": {
          "base_uri": "https://localhost:8080/",
          "height": 34
        }
      },
      "source": [
        "type(X)"
      ],
      "execution_count": 21,
      "outputs": [
        {
          "output_type": "execute_result",
          "data": {
            "text/plain": [
              "numpy.ndarray"
            ]
          },
          "metadata": {
            "tags": []
          },
          "execution_count": 21
        }
      ]
    },
    {
      "cell_type": "code",
      "metadata": {
        "colab_type": "code",
        "id": "DBwFHQirg4S0",
        "outputId": "b6678ef4-2b1c-4220-8639-11a3925a9f49",
        "colab": {
          "base_uri": "https://localhost:8080/",
          "height": 34
        }
      },
      "source": [
        "y.shape"
      ],
      "execution_count": 22,
      "outputs": [
        {
          "output_type": "execute_result",
          "data": {
            "text/plain": [
              "(12203, 2)"
            ]
          },
          "metadata": {
            "tags": []
          },
          "execution_count": 22
        }
      ]
    },
    {
      "cell_type": "code",
      "metadata": {
        "colab_type": "code",
        "id": "TsZSQiXaamMT",
        "colab": {}
      },
      "source": [
        "from spektral.layers import GraphConv\n",
        "from tensorflow.keras.models import Model\n",
        "from tensorflow.keras.layers import Input, Dropout\n",
        "#import tensorflow as tf\n",
        "from tensorflow.keras.models import Model\n",
        "from tensorflow.keras.layers import Input, Dropout\n",
        "from sklearn.metrics import confusion_matrix\n",
        "from sklearn.model_selection import KFold"
      ],
      "execution_count": 0,
      "outputs": []
    },
    {
      "cell_type": "code",
      "metadata": {
        "colab_type": "code",
        "id": "mWacBW8BleXY",
        "colab": {}
      },
      "source": [
        "y1 = df['target_variables']"
      ],
      "execution_count": 0,
      "outputs": []
    },
    {
      "cell_type": "code",
      "metadata": {
        "colab_type": "code",
        "id": "8DRnaRgql6el",
        "colab": {}
      },
      "source": [
        "from sklearn.preprocessing import StandardScaler"
      ],
      "execution_count": 0,
      "outputs": []
    },
    {
      "cell_type": "code",
      "metadata": {
        "colab_type": "code",
        "id": "KcUDGRPcAe2s",
        "colab": {}
      },
      "source": [
        "import matplotlib.pyplot as plt\n",
        "from itertools import cycle\n",
        "from sklearn.metrics import roc_curve, auc\n",
        "from sklearn.preprocessing import label_binarize\n",
        "from scipy import interp\n",
        "from sklearn.metrics import roc_auc_score\n",
        "from tensorflow.keras import regularizers"
      ],
      "execution_count": 0,
      "outputs": []
    },
    {
      "cell_type": "code",
      "metadata": {
        "colab_type": "code",
        "id": "B-OAHWAcdo6O",
        "colab": {}
      },
      "source": [
        "from tensorflow.keras.callbacks import EarlyStopping\n",
        "from tensorflow.keras.layers import Input, Dropout\n",
        "from tensorflow.keras.models import Model\n",
        "from tensorflow.keras.optimizers import Adam\n",
        "from tensorflow.keras.regularizers import l2\n",
        "\n",
        "from spektral.datasets import citation\n",
        "from spektral.layers import GraphConv"
      ],
      "execution_count": 0,
      "outputs": []
    },
    {
      "cell_type": "code",
      "metadata": {
        "colab_type": "code",
        "id": "Zy0BXnXudtgP",
        "colab": {}
      },
      "source": [
        "# Parameters\n",
        "channels = 32           # Number of channels in the first layer\n",
        "#N = X.shape[0]          # Number of nodes in the graph\n",
        "#F = X.shape[1]          # Original size of node features\n",
        "#n_classes = y.shape[1]  # Number of classes\n",
        "dropout = 0.5           # Dropout rate for the features\n",
        "l2_reg = 5e-4 / 2       # L2 regularization rate\n",
        "learning_rate = 1e-2    # Learning rate\n",
        "epochs = 300            # Number of training epochs\n",
        "es_patience = 10        # Patience for early stopping\n"
      ],
      "execution_count": 0,
      "outputs": []
    },
    {
      "cell_type": "code",
      "metadata": {
        "colab_type": "code",
        "id": "9F6xZdFod1OR",
        "outputId": "8b7b5729-1a05-443a-f01f-7d8c819f18d8",
        "colab": {
          "base_uri": "https://localhost:8080/",
          "height": 386
        }
      },
      "source": [
        "# Preprocessing operations\n",
        "fltr = GraphConv.preprocess(A).astype('f4')\n",
        "#X = X.toarray()\n",
        "# Model definition\n",
        "X_in = Input(shape=(F, ))\n",
        "fltr_in = Input((N, ), sparse=True)\n",
        "\n",
        "\n",
        "dropout_1 = Dropout(dropout)(X_in)\n",
        "graph_conv_1 = GraphConv(channels,\n",
        "                        activation='relu',\n",
        "                        kernel_regularizer=l2(l2_reg),\n",
        "                        use_bias=False)([dropout_1, fltr_in])\n",
        "dropout_2 = Dropout(dropout)(graph_conv_1)\n",
        "graph_conv_2 = GraphConv(n_classes,\n",
        "                        activation='sigmoid',\n",
        "                        use_bias=False)([dropout_2, fltr_in])\n",
        "\n",
        "# Build model\n",
        "model = Model(inputs=[X_in, fltr_in], outputs=graph_conv_2)\n",
        "optimizer = Adam(lr=learning_rate)\n",
        "model.compile(optimizer=optimizer,\n",
        "              loss='binary_crossentropy',\n",
        "              weighted_metrics=['acc'])\n",
        "model.summary()"
      ],
      "execution_count": 29,
      "outputs": [
        {
          "output_type": "stream",
          "text": [
            "Model: \"model\"\n",
            "__________________________________________________________________________________________________\n",
            "Layer (type)                    Output Shape         Param #     Connected to                     \n",
            "==================================================================================================\n",
            "input_1 (InputLayer)            [(None, 2660)]       0                                            \n",
            "__________________________________________________________________________________________________\n",
            "dropout (Dropout)               (None, 2660)         0           input_1[0][0]                    \n",
            "__________________________________________________________________________________________________\n",
            "input_2 (InputLayer)            [(None, 12203)]      0                                            \n",
            "__________________________________________________________________________________________________\n",
            "graph_conv (GraphConv)          (None, 32)           85120       dropout[0][0]                    \n",
            "                                                                 input_2[0][0]                    \n",
            "__________________________________________________________________________________________________\n",
            "dropout_1 (Dropout)             (None, 32)           0           graph_conv[0][0]                 \n",
            "__________________________________________________________________________________________________\n",
            "graph_conv_1 (GraphConv)        (None, 2)            64          dropout_1[0][0]                  \n",
            "                                                                 input_2[0][0]                    \n",
            "==================================================================================================\n",
            "Total params: 85,184\n",
            "Trainable params: 85,184\n",
            "Non-trainable params: 0\n",
            "__________________________________________________________________________________________________\n"
          ],
          "name": "stdout"
        }
      ]
    },
    {
      "cell_type": "code",
      "metadata": {
        "id": "En6qzg1y_nlq",
        "colab_type": "code",
        "colab": {
          "base_uri": "https://localhost:8080/",
          "height": 34
        },
        "outputId": "547e272e-883a-46a1-ea87-8deffe709069"
      },
      "source": [
        "X_in.shape"
      ],
      "execution_count": 251,
      "outputs": [
        {
          "output_type": "execute_result",
          "data": {
            "text/plain": [
              "TensorShape([None, 2660])"
            ]
          },
          "metadata": {
            "tags": []
          },
          "execution_count": 251
        }
      ]
    },
    {
      "cell_type": "code",
      "metadata": {
        "id": "34c1D3eSAEX-",
        "colab_type": "code",
        "colab": {
          "base_uri": "https://localhost:8080/",
          "height": 34
        },
        "outputId": "bacedd96-7d6c-49ef-ad55-a7f158671eb9"
      },
      "source": [
        "df.shape"
      ],
      "execution_count": 254,
      "outputs": [
        {
          "output_type": "execute_result",
          "data": {
            "text/plain": [
              "(12203, 2661)"
            ]
          },
          "metadata": {
            "tags": []
          },
          "execution_count": 254
        }
      ]
    },
    {
      "cell_type": "code",
      "metadata": {
        "colab_type": "code",
        "id": "5CRSgPebbTtZ",
        "outputId": "bd0deadd-2464-492a-cbca-09b8b36bd4de",
        "colab": {
          "base_uri": "https://localhost:8080/",
          "height": 1000
        }
      },
      "source": [
        "# define 5-fold cross validation test harness\n",
        "\n",
        "kfold = KFold(n_splits=5, shuffle=True, random_state=0)\n",
        "tp = []\n",
        "tn = []\n",
        "fp = []\n",
        "fn = []\n",
        "\n",
        "metrics_acc = []\n",
        "metrics_precision = []\n",
        "metrics_recall = []\n",
        "metrics_f1 = []\n",
        "pmacro = []\n",
        "pmicro = []\n",
        "pbinary = []\n",
        "rmacro = []\n",
        "rmicro = []\n",
        "rbi = []\n",
        "a = []\n",
        "f = []\n",
        "\n",
        "tprs = []\n",
        "aucs = []\n",
        "mean_fpr = np.linspace(0, 1, 100)\n",
        "fig, ax = plt.subplots()\n",
        "\n",
        "for k, (train, test) in enumerate(kfold.split(X, y1)):\n",
        "  \n",
        "    #plotter = tfdocs.plots.HistoryPlotter(metric = 'binary_crossentropy', smoothing_std=10)\n",
        "    #regularizer_histories = {}\n",
        "    print(\"k : \", k)\n",
        "  #standardize\n",
        "    sc_X = StandardScaler() \n",
        "    X[train] = sc_X.fit_transform(X[train]) \n",
        "    X[test] = sc_X.transform(X[test])\n",
        "    #X_csr = sparse.csr_matrix(X)\n",
        "    print(\"done scaling\")\n",
        "    \n",
        "    l = []\n",
        "    for i in range(0, len(df)):\n",
        "        l.append(False)\n",
        "    #train indices\n",
        "    train_indices = list(train)    \n",
        "    for i in train_indices:\n",
        "        l[i] = True\n",
        "\n",
        "    print(\"train mask processing: \")\n",
        "    train_mask = np.array(l)\n",
        "\n",
        "    l = []\n",
        "    for i in range(0, len(df)):\n",
        "      l.append(False)\n",
        "     #test indices           \n",
        "    test_indices = list(test)  \n",
        "    for i in test_indices:\n",
        "      l[i] = True\n",
        "    print(\"test mask processing: \")\n",
        "    test_mask = np.array(l)\n",
        "    \n",
        "    #validation indices (taken at random)\n",
        "    val = np.random.choice(2906, 300, replace = False)            \n",
        "    val_indices = list(val)    \n",
        "    l = []\n",
        "    for i in range(0, len(df)):\n",
        "      l.append(False)\n",
        "    for i in val_indices:\n",
        "      l[i] = True\n",
        "    val_mask = np.array(l)\n",
        "    print(\"val mask processing: \")\n",
        "   \n",
        "\n",
        "    # Model definition\n",
        "    #X_in = Input(shape=(F, ))  # Input layer for X\n",
        "    #A_in = Input((N, ), sparse=True)  # Input layer for A\n",
        "\n",
        "    #graph_conv_1 = GraphConv(32, activation='relu')([X_in, A_in])\n",
        "    print(\"graph conv1\")\n",
        "    #dropout = Dropout(0.5)(graph_conv_1)\n",
        "    #graph_conv_2 = GraphConv(n_classes, activation='sigmoid', \n",
        "     #                        kernel_regularizer=regularizers.l2(0.5))([dropout, A_in])\n",
        "\n",
        "    # Build model\n",
        "    #model = Model(inputs=[X_in, A_in], outputs=graph_conv_2)\n",
        "    #from spektral import utils\n",
        "    #A = utils.localpooling_filter(A)\n",
        "    #model.compile(optimizer='adam',\n",
        "     #             loss='binary_crossentropy',\n",
        "      #            weighted_metrics=['acc'])\n",
        "    # Train model\n",
        "    validation_data = ([X, fltr], y, val_mask)\n",
        "    history = model.fit([X, fltr],\n",
        "              y,\n",
        "              sample_weight=train_mask,\n",
        "              epochs=epochs,\n",
        "              batch_size=N,\n",
        "              validation_data=validation_data,\n",
        "              shuffle=False,\n",
        "              callbacks=[\n",
        "              EarlyStopping(patience=es_patience,  restore_best_weights=True)\n",
        "          ])  # Shuffling data means shuffling the whole graph\n",
        "\n",
        "    # Evaluate model\n",
        "    eval_results = model.evaluate([X, fltr],\n",
        "                                  y,\n",
        "                                  sample_weight=test_mask,\n",
        "                                  batch_size=N)\n",
        "    print('Done.\\n'\n",
        "          'Test loss: {}\\n'\n",
        "          'Test accuracy: {}'.format(*eval_results))\n",
        "    \n",
        "    import scipy\n",
        "    A1 = scipy.sparse.csr_matrix.todense(fltr)\n",
        "    A1 = pd.DataFrame(A1)\n",
        "    A1 = A1.loc[test_indices,test_indices]\n",
        "    A2 = sparse.csr_matrix(A1)\n",
        "    #A2.shape\n",
        "  \n",
        "    #google\n",
        "    y_pred = model.predict(\n",
        "        [X[test], A2], batch_size=N, verbose=0, steps=None, callbacks=None, max_queue_size=10,\n",
        "        workers=1, use_multiprocessing=False\n",
        "    )\n",
        "\n",
        "    \n",
        "    \n",
        "    predict_class = np.argmax(y_pred, axis=1)\n",
        "    y2 = np.zeros((len(test),classes))\n",
        "    for i in range(len(test)):\n",
        "        if (predict_class[i] == 1):\n",
        "            y2[i,1] = 1\n",
        "        elif (predict_class[i] == 0):\n",
        "            y2[i,0] = 1\n",
        "\n",
        "    \n",
        "    fpr, tpr, t = roc_curve(y1[test], predict_class)\n",
        "    tprs.append(interp(mean_fpr, fpr, tpr))\n",
        "    roc_auc = auc(fpr, tpr)\n",
        "    aucs.append(roc_auc)\n",
        "    plt.plot(fpr, tpr, lw=2, alpha=0.3, label='ROC fold %d (AUC = %0.2f)' % (k, roc_auc))\n",
        "      \n",
        "    '''viz = metrics.plot_roc_curve(history, X[test], y1[test],\n",
        "                             name='ROC fold {}'.format(i),\n",
        "                             alpha=0.3, lw=1, ax=ax)\n",
        "    interp_tpr = interp(mean_fpr, viz.fpr, viz.tpr)\n",
        "    interp_tpr[0] = 0.0\n",
        "    tprs.append(interp_tpr)\n",
        "    aucs.append(viz.roc_auc)\n",
        "    \n",
        "'''\n",
        "    fpr = dict()\n",
        "    tpr = dict()\n",
        "    roc_auc = dict()\n",
        "    for i in range(n_classes):\n",
        "        fpr[i], tpr[i], _ = roc_curve(y[test, i], y2[:, i])\n",
        "        roc_auc[i] = auc(fpr[i], tpr[i])\n",
        "\n",
        "    # Compute micro-average ROC curve and ROC area\n",
        "    fpr[\"micro\"], tpr[\"micro\"], _ = roc_curve(y[test].ravel(), y2.ravel())\n",
        "    roc_auc[\"micro\"] = auc(fpr[\"micro\"], tpr[\"micro\"])\n",
        "\n",
        "    # First aggregate all false positive rates\n",
        "    all_fpr = np.unique(np.concatenate([fpr[i] for i in range(n_classes)]))\n",
        "\n",
        "    # Then interpolate all ROC curves at this points\n",
        "    mean_tpr = np.zeros_like(all_fpr)\n",
        "    for i in range(n_classes):\n",
        "        mean_tpr += interp(all_fpr, fpr[i], tpr[i])\n",
        "\n",
        "    # Finally average it and compute AUC\n",
        "    mean_tpr /= n_classes\n",
        "    lw = 2\n",
        "    fpr[\"macro\"] = all_fpr\n",
        "    tpr[\"macro\"] = mean_tpr\n",
        "    roc_auc[\"macro\"] = auc(fpr[\"macro\"], tpr[\"macro\"])\n",
        "\n",
        "    # Plot all ROC curves\n",
        "    plt.figure()\n",
        "    plt.plot(fpr[\"micro\"], tpr[\"micro\"],\n",
        "            label='micro-average ROC curve (area = {0:0.2f})'\n",
        "                  ''.format(roc_auc[\"micro\"]),\n",
        "            color='deeppink', linestyle=':', linewidth=4)\n",
        "\n",
        "    plt.plot([0, 1], [0, 1], 'k--', lw=lw)\n",
        "    plt.xlim([0.0, 1.0])\n",
        "    plt.ylim([0.0, 1.05])\n",
        "    plt.xlabel('False Positive Rate')\n",
        "    plt.ylabel('True Positive Rate')\n",
        "    plt.title('Receiver operating characteristic')\n",
        "    plt.legend(loc=\"lower right\")\n",
        "    plt.show()\n",
        "  \n",
        "    #print(predict_class)\n",
        "    conf_mat = confusion_matrix(y1[test], predict_class)\n",
        "    \n",
        "    print(conf_mat)\n",
        "    \n",
        "    #Evaluation Measures\n",
        "    TP = np.diag(conf_mat)\n",
        "    print(\"True Positive: \", TP)\n",
        "    FP = np.sum(conf_mat, axis=0) - TP\n",
        "    print(\"False Positive: \", FP)\n",
        "    FN = np.sum(conf_mat, axis=1) - TP\n",
        "    print(\"False Negative\", FN)\n",
        "    num_classes = classes\n",
        "    TN = []\n",
        "    for i in range(num_classes):\n",
        "        temp = np.delete(conf_mat, i, 0)    # delete ith row\n",
        "        temp = np.delete(temp, i, 1)  # delete ith column\n",
        "        TN.append(sum(sum(temp)))\n",
        "    print(\"True negative: \", TN)\n",
        "\n",
        "    acc = (TP+TN)/(TP+TN+FP+FN)\n",
        "    precision = TP/(TP+FP)\n",
        "    recall = TP/(TP+FN)\n",
        "    \n",
        "    print(\"Accuracy: \", acc)\n",
        "\n",
        "    print(\"precision: \", precision)\n",
        "    print(\"recall: \", recall)\n",
        "    F1 = 2 * ((precision * recall)/(precision + recall))\n",
        "    tp.append(TP)\n",
        "    tn.append(TN)\n",
        "    fp.append(FP)\n",
        "    fn.append(FN)\n",
        "    \n",
        "    \n",
        "    metrics_acc.append(acc)\n",
        "    metrics_precision.append(precision)\n",
        "    metrics_recall.append(recall)\n",
        "    metrics_f1.append(F1)\n",
        "    print (\"F1 measure: \", F1)\n",
        "\n",
        "\n",
        "\n",
        "  \n",
        "    #print(predict_class)\n",
        "    conf_mat = confusion_matrix(y1[test], predict_class)\n",
        "    \n",
        "    print(conf_mat)\n",
        "    p = precision_score(y1[test], predict_class, average='binary')\n",
        "    print('Precision binary: %.3f' % p)\n",
        "    pbinary.append(p)\n",
        "    p1 = precision_score(y1[test], predict_class, average='micro')\n",
        "    print('Precision micro: %.3f' % p1)\n",
        "    pmicro.append(p1)\n",
        "    p2 = precision_score(y1[test], predict_class, average='macro')\n",
        "    print('Precision macro: %.3f' % p2)\n",
        "    pmacro.append(p2)\n",
        "    r = recall_score(y1[test], predict_class, average='binary')\n",
        "    print('Recall binary: %.3f' % r)\n",
        "    rbi.append(r)\n",
        "    r1 = recall_score(y1[test], predict_class, average='micro')\n",
        "    print('Recall micro: %.3f' % r1)\n",
        "    rmicro.append(r1)\n",
        "    r2 = recall_score(y1[test], predict_class, average='macro')\n",
        "    print('Recall macro: %.3f' % r2)\n",
        "    rmacro.append(r2)\n",
        "    s = f1_score(y1[test], predict_class, average='binary')\n",
        "    print('F-Measure: %.3f' % s)\n",
        "    f.append(s)\n",
        "\n",
        "    ac = accuracy_score(y1[test], predict_class)\n",
        "    a.append(ac)\n",
        "    #Evaluation Measures\n",
        "    TP = np.diag(conf_mat)\n",
        "    print(\"True Positive: \", TP)\n",
        "    FP = np.sum(conf_mat, axis=0) - TP\n",
        "    print(\"False Positive: \", FP)\n",
        "    FN = np.sum(conf_mat, axis=1) - TP\n",
        "    print(\"False Negative\", FN)\n",
        "    num_classes = classes\n",
        "    TN = []\n",
        "    for i in range(num_classes):\n",
        "        temp = np.delete(conf_mat, i, 0)    # delete ith row\n",
        "        temp = np.delete(temp, i, 1)  # delete ith column\n",
        "        TN.append(sum(sum(temp)))\n",
        "    print(\"True negative: \", TN)\n",
        "\n",
        "    acc = (TP+TN)/(TP+TN+FP+FN)\n",
        "    precision = TP/(TP+FP)\n",
        "    recall = TP/(TP+FN)\n",
        "    \n",
        "    print(\"Accuracy: \", acc)\n",
        "\n",
        "    print(\"precision: \", precision)\n",
        "    print(\"recall: \", recall)\n",
        "    F1 = 2 * ((precision * recall)/(precision + recall))\n",
        "    tp.append(TP)\n",
        "    tn.append(TN)\n",
        "    fp.append(FP)\n",
        "    fn.append(FN)\n",
        "    \n",
        "    \n",
        "    metrics_acc.append(acc)\n",
        "    metrics_precision.append(precision)\n",
        "    metrics_recall.append(recall)\n",
        "    metrics_f1.append(F1)\n",
        "    print (\"F1 measure: \", F1)\n",
        "\n",
        "plt.plot([0,1],[0,1],linestyle = '--',lw = 2,color = 'black')\n",
        "mean_tpr = np.mean(tprs, axis=0)\n",
        "mean_auc = auc(mean_fpr, mean_tpr)\n",
        "plt.plot(mean_fpr, mean_tpr, color='blue',\n",
        "        label=r'Mean ROC (AUC = %0.2f )' % (mean_auc),lw=2, alpha=1)\n",
        "\n",
        "plt.xlabel('False Positive Rate')\n",
        "plt.ylabel('True Positive Rate')\n",
        "plt.title('ROC')\n",
        "plt.legend(loc=\"lower right\")\n",
        "plt.show()\n",
        "\n",
        "\n",
        "    "
      ],
      "execution_count": 30,
      "outputs": [
        {
          "output_type": "stream",
          "text": [
            "k :  0\n",
            "done scaling\n",
            "train mask processing: \n",
            "test mask processing: \n",
            "val mask processing: \n",
            "graph conv1\n",
            "Epoch 1/300\n",
            "1/1 [==============================] - 1s 1s/step - loss: 0.6241 - acc: 0.5142 - val_loss: 0.0321 - val_acc: 0.7700\n",
            "Epoch 2/300\n",
            "1/1 [==============================] - 1s 1s/step - loss: 0.5596 - acc: 0.6483 - val_loss: 0.0323 - val_acc: 0.8033\n",
            "Epoch 3/300\n",
            "1/1 [==============================] - 1s 1s/step - loss: 0.5214 - acc: 0.7291 - val_loss: 0.0334 - val_acc: 0.8100\n",
            "Epoch 4/300\n",
            "1/1 [==============================] - 1s 1s/step - loss: 0.4937 - acc: 0.7517 - val_loss: 0.0349 - val_acc: 0.8367\n",
            "Epoch 5/300\n",
            "1/1 [==============================] - 1s 1s/step - loss: 0.4803 - acc: 0.7698 - val_loss: 0.0366 - val_acc: 0.8600\n",
            "Epoch 6/300\n",
            "1/1 [==============================] - 1s 1s/step - loss: 0.4624 - acc: 0.7812 - val_loss: 0.0385 - val_acc: 0.8667\n",
            "Epoch 7/300\n",
            "1/1 [==============================] - 1s 1s/step - loss: 0.4539 - acc: 0.7826 - val_loss: 0.0405 - val_acc: 0.8600\n",
            "Epoch 8/300\n",
            "1/1 [==============================] - 1s 1s/step - loss: 0.4450 - acc: 0.7862 - val_loss: 0.0425 - val_acc: 0.8600\n",
            "Epoch 9/300\n",
            "1/1 [==============================] - 1s 1s/step - loss: 0.4345 - acc: 0.7973 - val_loss: 0.0446 - val_acc: 0.8600\n",
            "Epoch 10/300\n",
            "1/1 [==============================] - 1s 1s/step - loss: 0.4373 - acc: 0.7954 - val_loss: 0.0464 - val_acc: 0.8633\n",
            "Epoch 11/300\n",
            "1/1 [==============================] - 1s 1s/step - loss: 0.4329 - acc: 0.7994 - val_loss: 0.0482 - val_acc: 0.8600\n",
            "1/1 [==============================] - 0s 1ms/step - loss: 0.1485 - acc: 0.6817\n",
            "Done.\n",
            "Test loss: 0.14849801361560822\n",
            "Test accuracy: 0.6816878318786621\n"
          ],
          "name": "stdout"
        },
        {
          "output_type": "stream",
          "text": [
            "/usr/local/lib/python3.6/dist-packages/ipykernel_launcher.py:135: DeprecationWarning: scipy.interp is deprecated and will be removed in SciPy 2.0.0, use numpy.interp instead\n",
            "/usr/local/lib/python3.6/dist-packages/ipykernel_launcher.py:166: DeprecationWarning: scipy.interp is deprecated and will be removed in SciPy 2.0.0, use numpy.interp instead\n"
          ],
          "name": "stderr"
        },
        {
          "output_type": "display_data",
          "data": {
            "image/png": "[encoded data removed]",
            "text/plain": [
              "<Figure size 432x288 with 1 Axes>"
            ]
          },
          "metadata": {
            "tags": [],
            "needs_background": "light"
          }
        },
        {
          "output_type": "display_data",
          "data": {
            "image/png": "[encoded data removed]",
            "text/plain": [
              "<Figure size 432x288 with 1 Axes>"
            ]
          },
          "metadata": {
            "tags": [],
            "needs_background": "light"
          }
        },
        {
          "output_type": "stream",
          "text": [
            "[[582 379]\n",
            " [783 697]]\n",
            "True Positive:  [582 697]\n",
            "False Positive:  [783 379]\n",
            "False Negative [379 783]\n",
            "True negative:  [697, 582]\n",
            "Accuracy:  [0.52396559 0.52396559]\n",
            "precision:  [0.42637363 0.64776952]\n",
            "recall:  [0.60561915 0.47094595]\n",
            "F1 measure:  [0.50042992 0.54538341]\n",
            "[[582 379]\n",
            " [783 697]]\n",
            "Precision binary: 0.648\n",
            "Precision micro: 0.524\n",
            "Precision macro: 0.537\n",
            "Recall binary: 0.471\n",
            "Recall micro: 0.524\n",
            "Recall macro: 0.538\n",
            "F-Measure: 0.545\n",
            "True Positive:  [582 697]\n",
            "False Positive:  [783 379]\n",
            "False Negative [379 783]\n",
            "True negative:  [697, 582]\n",
            "Accuracy:  [0.52396559 0.52396559]\n",
            "precision:  [0.42637363 0.64776952]\n",
            "recall:  [0.60561915 0.47094595]\n",
            "F1 measure:  [0.50042992 0.54538341]\n",
            "k :  1\n",
            "done scaling\n",
            "train mask processing: \n",
            "test mask processing: \n",
            "val mask processing: \n",
            "graph conv1\n",
            "Epoch 1/300\n",
            "1/1 [==============================] - 1s 1s/step - loss: 0.5644 - acc: 0.6349 - val_loss: 0.0305 - val_acc: 0.8033\n",
            "Epoch 2/300\n",
            "1/1 [==============================] - 1s 1s/step - loss: 0.5396 - acc: 0.6793 - val_loss: 0.0293 - val_acc: 0.8367\n",
            "Epoch 3/300\n",
            "1/1 [==============================] - 1s 1s/step - loss: 0.5084 - acc: 0.7334 - val_loss: 0.0285 - val_acc: 0.8533\n",
            "Epoch 4/300\n",
            "1/1 [==============================] - 1s 1s/step - loss: 0.4873 - acc: 0.7588 - val_loss: 0.0283 - val_acc: 0.8567\n",
            "Epoch 5/300\n",
            "1/1 [==============================] - 1s 1s/step - loss: 0.4619 - acc: 0.7796 - val_loss: 0.0286 - val_acc: 0.8600\n",
            "Epoch 6/300\n",
            "1/1 [==============================] - 2s 2s/step - loss: 0.4442 - acc: 0.7948 - val_loss: 0.0294 - val_acc: 0.8600\n",
            "Epoch 7/300\n",
            "1/1 [==============================] - 2s 2s/step - loss: 0.4278 - acc: 0.7985 - val_loss: 0.0305 - val_acc: 0.8667\n",
            "Epoch 8/300\n",
            "1/1 [==============================] - 1s 1s/step - loss: 0.4175 - acc: 0.8043 - val_loss: 0.0320 - val_acc: 0.8667\n",
            "Epoch 9/300\n",
            "1/1 [==============================] - 1s 1s/step - loss: 0.4090 - acc: 0.8081 - val_loss: 0.0336 - val_acc: 0.8733\n",
            "Epoch 10/300\n",
            "1/1 [==============================] - 1s 1s/step - loss: 0.4050 - acc: 0.8097 - val_loss: 0.0354 - val_acc: 0.8767\n",
            "Epoch 11/300\n",
            "1/1 [==============================] - 1s 1s/step - loss: 0.4050 - acc: 0.8111 - val_loss: 0.0372 - val_acc: 0.8767\n",
            "Epoch 12/300\n",
            "1/1 [==============================] - 1s 1s/step - loss: 0.4058 - acc: 0.8056 - val_loss: 0.0390 - val_acc: 0.8833\n",
            "Epoch 13/300\n",
            "1/1 [==============================] - 1s 1s/step - loss: 0.3973 - acc: 0.8129 - val_loss: 0.0407 - val_acc: 0.8833\n",
            "Epoch 14/300\n",
            "1/1 [==============================] - 1s 1s/step - loss: 0.4010 - acc: 0.8186 - val_loss: 0.0423 - val_acc: 0.8867\n",
            "1/1 [==============================] - 0s 1ms/step - loss: 0.1223 - acc: 0.8202\n",
            "Done.\n",
            "Test loss: 0.12233880162239075\n",
            "Test accuracy: 0.820155680179596\n"
          ],
          "name": "stdout"
        },
        {
          "output_type": "stream",
          "text": [
            "/usr/local/lib/python3.6/dist-packages/ipykernel_launcher.py:135: DeprecationWarning: scipy.interp is deprecated and will be removed in SciPy 2.0.0, use numpy.interp instead\n",
            "/usr/local/lib/python3.6/dist-packages/ipykernel_launcher.py:166: DeprecationWarning: scipy.interp is deprecated and will be removed in SciPy 2.0.0, use numpy.interp instead\n"
          ],
          "name": "stderr"
        },
        {
          "output_type": "display_data",
          "data": {
            "image/png": "[encoded data removed]",
            "text/plain": [
              "<Figure size 432x288 with 1 Axes>"
            ]
          },
          "metadata": {
            "tags": [],
            "needs_background": "light"
          }
        },
        {
          "output_type": "display_data",
          "data": {
            "image/png": "[encoded data removed]",
            "text/plain": [
              "<Figure size 432x288 with 1 Axes>"
            ]
          },
          "metadata": {
            "tags": [],
            "needs_background": "light"
          }
        },
        {
          "output_type": "stream",
          "text": [
            "[[653 304]\n",
            " [491 993]]\n",
            "True Positive:  [653 993]\n",
            "False Positive:  [491 304]\n",
            "False Negative [304 491]\n",
            "True negative:  [993, 653]\n",
            "Accuracy:  [0.67431381 0.67431381]\n",
            "precision:  [0.5708042  0.76561295]\n",
            "recall:  [0.68234065 0.66913747]\n",
            "F1 measure:  [0.62160876 0.71413161]\n",
            "[[653 304]\n",
            " [491 993]]\n",
            "Precision binary: 0.766\n",
            "Precision micro: 0.674\n",
            "Precision macro: 0.668\n",
            "Recall binary: 0.669\n",
            "Recall micro: 0.674\n",
            "Recall macro: 0.676\n",
            "F-Measure: 0.714\n",
            "True Positive:  [653 993]\n",
            "False Positive:  [491 304]\n",
            "False Negative [304 491]\n",
            "True negative:  [993, 653]\n",
            "Accuracy:  [0.67431381 0.67431381]\n",
            "precision:  [0.5708042  0.76561295]\n",
            "recall:  [0.68234065 0.66913747]\n",
            "F1 measure:  [0.62160876 0.71413161]\n",
            "k :  2\n",
            "done scaling\n",
            "train mask processing: \n",
            "test mask processing: \n",
            "val mask processing: \n",
            "graph conv1\n",
            "Epoch 1/300\n",
            "1/1 [==============================] - 1s 1s/step - loss: 0.4718 - acc: 0.7756 - val_loss: 0.0275 - val_acc: 0.8467\n",
            "Epoch 2/300\n",
            "1/1 [==============================] - 1s 1s/step - loss: 0.4529 - acc: 0.7912 - val_loss: 0.0271 - val_acc: 0.8533\n",
            "Epoch 3/300\n",
            "1/1 [==============================] - 1s 1s/step - loss: 0.4421 - acc: 0.7891 - val_loss: 0.0272 - val_acc: 0.8567\n",
            "Epoch 4/300\n",
            "1/1 [==============================] - 1s 1s/step - loss: 0.4302 - acc: 0.7954 - val_loss: 0.0275 - val_acc: 0.8667\n",
            "Epoch 5/300\n",
            "1/1 [==============================] - 1s 1s/step - loss: 0.4175 - acc: 0.8107 - val_loss: 0.0281 - val_acc: 0.8633\n",
            "Epoch 6/300\n",
            "1/1 [==============================] - 1s 1s/step - loss: 0.4162 - acc: 0.8076 - val_loss: 0.0291 - val_acc: 0.8700\n",
            "Epoch 7/300\n",
            "1/1 [==============================] - 1s 1s/step - loss: 0.3970 - acc: 0.8191 - val_loss: 0.0303 - val_acc: 0.8700\n",
            "Epoch 8/300\n",
            "1/1 [==============================] - 1s 1s/step - loss: 0.3907 - acc: 0.8138 - val_loss: 0.0316 - val_acc: 0.8700\n",
            "Epoch 9/300\n",
            "1/1 [==============================] - 1s 1s/step - loss: 0.3913 - acc: 0.8168 - val_loss: 0.0331 - val_acc: 0.8733\n",
            "Epoch 10/300\n",
            "1/1 [==============================] - 1s 1s/step - loss: 0.3840 - acc: 0.8210 - val_loss: 0.0345 - val_acc: 0.8733\n",
            "Epoch 11/300\n",
            "1/1 [==============================] - 1s 1s/step - loss: 0.3795 - acc: 0.8193 - val_loss: 0.0360 - val_acc: 0.8733\n",
            "Epoch 12/300\n",
            "1/1 [==============================] - 1s 1s/step - loss: 0.3821 - acc: 0.8230 - val_loss: 0.0375 - val_acc: 0.8733\n",
            "1/1 [==============================] - 0s 1ms/step - loss: 0.1117 - acc: 0.8525\n",
            "Done.\n",
            "Test loss: 0.11166813969612122\n",
            "Test accuracy: 0.8525194525718689\n"
          ],
          "name": "stdout"
        },
        {
          "output_type": "stream",
          "text": [
            "/usr/local/lib/python3.6/dist-packages/ipykernel_launcher.py:135: DeprecationWarning: scipy.interp is deprecated and will be removed in SciPy 2.0.0, use numpy.interp instead\n",
            "/usr/local/lib/python3.6/dist-packages/ipykernel_launcher.py:166: DeprecationWarning: scipy.interp is deprecated and will be removed in SciPy 2.0.0, use numpy.interp instead\n"
          ],
          "name": "stderr"
        },
        {
          "output_type": "display_data",
          "data": {
            "image/png": "[encoded data removed]",
            "text/plain": [
              "<Figure size 432x288 with 1 Axes>"
            ]
          },
          "metadata": {
            "tags": [],
            "needs_background": "light"
          }
        },
        {
          "output_type": "display_data",
          "data": {
            "image/png": "[encoded data removed]",
            "text/plain": [
              "<Figure size 432x288 with 1 Axes>"
            ]
          },
          "metadata": {
            "tags": [],
            "needs_background": "light"
          }
        },
        {
          "output_type": "stream",
          "text": [
            "[[ 652  253]\n",
            " [ 521 1015]]\n",
            "True Positive:  [ 652 1015]\n",
            "False Positive:  [521 253]\n",
            "False Negative [253 521]\n",
            "True negative:  [1015, 652]\n",
            "Accuracy:  [0.68291684 0.68291684]\n",
            "precision:  [0.55583973 0.80047319]\n",
            "recall:  [0.72044199 0.66080729]\n",
            "F1 measure:  [0.62752647 0.72396576]\n",
            "[[ 652  253]\n",
            " [ 521 1015]]\n",
            "Precision binary: 0.800\n",
            "Precision micro: 0.683\n",
            "Precision macro: 0.678\n",
            "Recall binary: 0.661\n",
            "Recall micro: 0.683\n",
            "Recall macro: 0.691\n",
            "F-Measure: 0.724\n",
            "True Positive:  [ 652 1015]\n",
            "False Positive:  [521 253]\n",
            "False Negative [253 521]\n",
            "True negative:  [1015, 652]\n",
            "Accuracy:  [0.68291684 0.68291684]\n",
            "precision:  [0.55583973 0.80047319]\n",
            "recall:  [0.72044199 0.66080729]\n",
            "F1 measure:  [0.62752647 0.72396576]\n",
            "k :  3\n",
            "done scaling\n",
            "train mask processing: \n",
            "test mask processing: \n",
            "val mask processing: \n",
            "graph conv1\n",
            "Epoch 1/300\n",
            "1/1 [==============================] - 1s 1s/step - loss: 0.4404 - acc: 0.7951 - val_loss: 0.0288 - val_acc: 0.8333\n",
            "Epoch 2/300\n",
            "1/1 [==============================] - 1s 1s/step - loss: 0.4255 - acc: 0.8064 - val_loss: 0.0288 - val_acc: 0.8467\n",
            "Epoch 3/300\n",
            "1/1 [==============================] - 1s 1s/step - loss: 0.4171 - acc: 0.8079 - val_loss: 0.0290 - val_acc: 0.8467\n",
            "Epoch 4/300\n",
            "1/1 [==============================] - 1s 1s/step - loss: 0.4140 - acc: 0.8104 - val_loss: 0.0295 - val_acc: 0.8467\n",
            "Epoch 5/300\n",
            "1/1 [==============================] - 1s 1s/step - loss: 0.3971 - acc: 0.8169 - val_loss: 0.0304 - val_acc: 0.8600\n",
            "Epoch 6/300\n",
            "1/1 [==============================] - 1s 1s/step - loss: 0.3918 - acc: 0.8204 - val_loss: 0.0315 - val_acc: 0.8667\n",
            "Epoch 7/300\n",
            "1/1 [==============================] - 1s 1s/step - loss: 0.3821 - acc: 0.8246 - val_loss: 0.0327 - val_acc: 0.8633\n",
            "Epoch 8/300\n",
            "1/1 [==============================] - 1s 1s/step - loss: 0.3856 - acc: 0.8213 - val_loss: 0.0342 - val_acc: 0.8633\n",
            "Epoch 9/300\n",
            "1/1 [==============================] - 1s 1s/step - loss: 0.3755 - acc: 0.8250 - val_loss: 0.0357 - val_acc: 0.8667\n",
            "Epoch 10/300\n",
            "1/1 [==============================] - 1s 1s/step - loss: 0.3724 - acc: 0.8292 - val_loss: 0.0372 - val_acc: 0.8667\n",
            "Epoch 11/300\n",
            "1/1 [==============================] - 1s 1s/step - loss: 0.3752 - acc: 0.8305 - val_loss: 0.0386 - val_acc: 0.8667\n",
            "Epoch 12/300\n",
            "1/1 [==============================] - 1s 1s/step - loss: 0.3728 - acc: 0.8261 - val_loss: 0.0400 - val_acc: 0.8667\n",
            "1/1 [==============================] - 0s 1ms/step - loss: 0.1063 - acc: 0.8533\n",
            "Done.\n",
            "Test loss: 0.10631933808326721\n",
            "Test accuracy: 0.8532786965370178\n"
          ],
          "name": "stdout"
        },
        {
          "output_type": "stream",
          "text": [
            "/usr/local/lib/python3.6/dist-packages/ipykernel_launcher.py:135: DeprecationWarning: scipy.interp is deprecated and will be removed in SciPy 2.0.0, use numpy.interp instead\n",
            "/usr/local/lib/python3.6/dist-packages/ipykernel_launcher.py:166: DeprecationWarning: scipy.interp is deprecated and will be removed in SciPy 2.0.0, use numpy.interp instead\n"
          ],
          "name": "stderr"
        },
        {
          "output_type": "display_data",
          "data": {
            "image/png": "[encoded data removed]",
            "text/plain": [
              "<Figure size 432x288 with 1 Axes>"
            ]
          },
          "metadata": {
            "tags": [],
            "needs_background": "light"
          }
        },
        {
          "output_type": "display_data",
          "data": {
            "image/png": "[encoded data removed]",
            "text/plain": [
              "<Figure size 432x288 with 1 Axes>"
            ]
          },
          "metadata": {
            "tags": [],
            "needs_background": "light"
          }
        },
        {
          "output_type": "stream",
          "text": [
            "[[ 667  255]\n",
            " [ 490 1028]]\n",
            "True Positive:  [ 667 1028]\n",
            "False Positive:  [490 255]\n",
            "False Negative [255 490]\n",
            "True negative:  [1028, 667]\n",
            "Accuracy:  [0.69467213 0.69467213]\n",
            "precision:  [0.57649092 0.80124708]\n",
            "recall:  [0.72342733 0.67720685]\n",
            "F1 measure:  [0.64165464 0.73402356]\n",
            "[[ 667  255]\n",
            " [ 490 1028]]\n",
            "Precision binary: 0.801\n",
            "Precision micro: 0.695\n",
            "Precision macro: 0.689\n",
            "Recall binary: 0.677\n",
            "Recall micro: 0.695\n",
            "Recall macro: 0.700\n",
            "F-Measure: 0.734\n",
            "True Positive:  [ 667 1028]\n",
            "False Positive:  [490 255]\n",
            "False Negative [255 490]\n",
            "True negative:  [1028, 667]\n",
            "Accuracy:  [0.69467213 0.69467213]\n",
            "precision:  [0.57649092 0.80124708]\n",
            "recall:  [0.72342733 0.67720685]\n",
            "F1 measure:  [0.64165464 0.73402356]\n",
            "k :  4\n",
            "done scaling\n",
            "train mask processing: \n",
            "test mask processing: \n",
            "val mask processing: \n",
            "graph conv1\n",
            "Epoch 1/300\n",
            "1/1 [==============================] - 1s 1s/step - loss: 0.4150 - acc: 0.8090 - val_loss: 0.0262 - val_acc: 0.8667\n",
            "Epoch 2/300\n",
            "1/1 [==============================] - 1s 1s/step - loss: 0.4184 - acc: 0.8046 - val_loss: 0.0261 - val_acc: 0.8700\n",
            "Epoch 3/300\n",
            "1/1 [==============================] - 1s 1s/step - loss: 0.4067 - acc: 0.8133 - val_loss: 0.0262 - val_acc: 0.8767\n",
            "Epoch 4/300\n",
            "1/1 [==============================] - 1s 1s/step - loss: 0.3993 - acc: 0.8131 - val_loss: 0.0265 - val_acc: 0.8867\n",
            "Epoch 5/300\n",
            "1/1 [==============================] - 1s 1s/step - loss: 0.3910 - acc: 0.8194 - val_loss: 0.0270 - val_acc: 0.8900\n",
            "Epoch 6/300\n",
            "1/1 [==============================] - 1s 1s/step - loss: 0.3903 - acc: 0.8163 - val_loss: 0.0277 - val_acc: 0.8900\n",
            "Epoch 7/300\n",
            "1/1 [==============================] - 1s 1s/step - loss: 0.3791 - acc: 0.8241 - val_loss: 0.0286 - val_acc: 0.8867\n",
            "Epoch 8/300\n",
            "1/1 [==============================] - 1s 1s/step - loss: 0.3763 - acc: 0.8284 - val_loss: 0.0295 - val_acc: 0.8900\n",
            "Epoch 9/300\n",
            "1/1 [==============================] - 1s 1s/step - loss: 0.3787 - acc: 0.8238 - val_loss: 0.0306 - val_acc: 0.8933\n",
            "Epoch 10/300\n",
            "1/1 [==============================] - 1s 1s/step - loss: 0.3736 - acc: 0.8252 - val_loss: 0.0316 - val_acc: 0.8967\n",
            "Epoch 11/300\n",
            "1/1 [==============================] - 1s 1s/step - loss: 0.3751 - acc: 0.8240 - val_loss: 0.0327 - val_acc: 0.8967\n",
            "Epoch 12/300\n",
            "1/1 [==============================] - 1s 1s/step - loss: 0.3737 - acc: 0.8263 - val_loss: 0.0338 - val_acc: 0.9000\n",
            "1/1 [==============================] - 0s 1ms/step - loss: 0.0998 - acc: 0.8750\n",
            "Done.\n",
            "Test loss: 0.09984048455953598\n",
            "Test accuracy: 0.875\n"
          ],
          "name": "stdout"
        },
        {
          "output_type": "stream",
          "text": [
            "/usr/local/lib/python3.6/dist-packages/ipykernel_launcher.py:135: DeprecationWarning: scipy.interp is deprecated and will be removed in SciPy 2.0.0, use numpy.interp instead\n",
            "/usr/local/lib/python3.6/dist-packages/ipykernel_launcher.py:166: DeprecationWarning: scipy.interp is deprecated and will be removed in SciPy 2.0.0, use numpy.interp instead\n"
          ],
          "name": "stderr"
        },
        {
          "output_type": "display_data",
          "data": {
            "image/png": "[encoded data removed]",
            "text/plain": [
              "<Figure size 432x288 with 1 Axes>"
            ]
          },
          "metadata": {
            "tags": [],
            "needs_background": "light"
          }
        },
        {
          "output_type": "display_data",
          "data": {
            "image/png": "[encoded data removed]",
            "text/plain": [
              "<Figure size 432x288 with 1 Axes>"
            ]
          },
          "metadata": {
            "tags": [],
            "needs_background": "light"
          }
        },
        {
          "output_type": "stream",
          "text": [
            "[[ 710  203]\n",
            " [ 519 1008]]\n",
            "True Positive:  [ 710 1008]\n",
            "False Positive:  [519 203]\n",
            "False Negative [203 519]\n",
            "True negative:  [1008, 710]\n",
            "Accuracy:  [0.70409836 0.70409836]\n",
            "precision:  [0.57770545 0.83236994]\n",
            "recall:  [0.77765608 0.66011788]\n",
            "F1 measure:  [0.66293184 0.73630387]\n",
            "[[ 710  203]\n",
            " [ 519 1008]]\n",
            "Precision binary: 0.832\n",
            "Precision micro: 0.704\n",
            "Precision macro: 0.705\n",
            "Recall binary: 0.660\n",
            "Recall micro: 0.704\n",
            "Recall macro: 0.719\n",
            "F-Measure: 0.736\n",
            "True Positive:  [ 710 1008]\n",
            "False Positive:  [519 203]\n",
            "False Negative [203 519]\n",
            "True negative:  [1008, 710]\n",
            "Accuracy:  [0.70409836 0.70409836]\n",
            "precision:  [0.57770545 0.83236994]\n",
            "recall:  [0.77765608 0.66011788]\n",
            "F1 measure:  [0.66293184 0.73630387]\n"
          ],
          "name": "stdout"
        },
        {
          "output_type": "display_data",
          "data": {
            "image/png": "[encoded data removed]",
            "text/plain": [
              "<Figure size 432x288 with 1 Axes>"
            ]
          },
          "metadata": {
            "tags": [],
            "needs_background": "light"
          }
        }
      ]
    },
    {
      "cell_type": "code",
      "metadata": {
        "colab_type": "code",
        "id": "fsF-XLhAq4aW",
        "outputId": "d5c8b2a1-9bfc-4b22-9e6f-6874b0252092",
        "colab": {
          "base_uri": "https://localhost:8080/",
          "height": 34
        }
      },
      "source": [
        "y.shape"
      ],
      "execution_count": 31,
      "outputs": [
        {
          "output_type": "execute_result",
          "data": {
            "text/plain": [
              "(12203, 2)"
            ]
          },
          "metadata": {
            "tags": []
          },
          "execution_count": 31
        }
      ]
    },
    {
      "cell_type": "code",
      "metadata": {
        "colab_type": "code",
        "id": "ZTafXCD0C-qa",
        "outputId": "61550f61-91cd-47cd-f0a1-2ae98f47a074",
        "colab": {
          "base_uri": "https://localhost:8080/",
          "height": 151
        }
      },
      "source": [
        "print(\"precision macro: \", np.array(pmacro).mean())\n",
        "print(\"precision micro: \", np.array(pmicro).mean())\n",
        "print(\"precision binary macro: \", np.array(pbinary).mean())\n",
        "print(\"accuracy: \", np.array(a).mean())\n",
        "print(\"recall macro: \", np.array(rmacro).mean())\n",
        "print(\"recall micro: \", np.array(rmicro).mean())\n",
        "print(\"recall binary macro: \", np.array(rbi).mean())\n",
        "print(\"f1: \", np.array(f).mean())"
      ],
      "execution_count": 32,
      "outputs": [
        {
          "output_type": "stream",
          "text": [
            "precision macro:  0.6554686600941555\n",
            "precision micro:  0.6559933445712252\n",
            "precision binary macro:  0.7694945350352638\n",
            "accuracy:  0.6559933445712252\n",
            "recall macro:  0.664770062751075\n",
            "recall micro:  0.6559933445712252\n",
            "recall binary macro:  0.6276430866464638\n",
            "f1:  0.6907616433127474\n"
          ],
          "name": "stdout"
        }
      ]
    },
    {
      "cell_type": "code",
      "metadata": {
        "id": "FuZ6R0F6xfDx",
        "colab_type": "code",
        "colab": {}
      },
      "source": [
        "w = model.weights"
      ],
      "execution_count": 0,
      "outputs": []
    },
    {
      "cell_type": "code",
      "metadata": {
        "id": "jVE7-qT5xzvX",
        "colab_type": "code",
        "colab": {
          "base_uri": "https://localhost:8080/",
          "height": 252
        },
        "outputId": "d1fedd9d-eb3c-4a63-b411-a7e47fa9d726"
      },
      "source": [
        "w[0]"
      ],
      "execution_count": 101,
      "outputs": [
        {
          "output_type": "execute_result",
          "data": {
            "text/plain": [
              "<tf.Variable 'graph_conv/kernel:0' shape=(2660, 32) dtype=float32, numpy=\n",
              "array([[ 2.9314283e-02, -6.5416191e-03, -4.3002162e-02, ...,\n",
              "        -3.2480188e-02, -3.4869242e-02,  8.4702601e-04],\n",
              "       [ 1.8721899e-02, -1.7274206e-03, -2.8204840e-02, ...,\n",
              "        -4.1791238e-05,  8.6214721e-02,  4.5573637e-02],\n",
              "       [ 1.6290720e-03, -1.5042456e-02,  2.7056156e-02, ...,\n",
              "        -7.6563358e-02, -1.8277068e-02,  1.2833060e-03],\n",
              "       ...,\n",
              "       [ 4.2585901e-04, -7.9333724e-05,  5.9821684e-04, ...,\n",
              "         8.6803976e-03,  8.6172614e-03,  8.8938773e-03],\n",
              "       [-2.0750737e-02,  4.8641339e-02, -6.2008016e-02, ...,\n",
              "        -6.3860662e-02, -6.5700538e-02, -5.9619710e-02],\n",
              "       [-9.2663161e-02,  1.0677910e-02, -3.7426498e-02, ...,\n",
              "        -2.0755026e-02, -8.1430532e-02, -6.7958675e-02]], dtype=float32)>"
            ]
          },
          "metadata": {
            "tags": []
          },
          "execution_count": 101
        }
      ]
    },
    {
      "cell_type": "code",
      "metadata": {
        "id": "VNlAs6CNx74f",
        "colab_type": "code",
        "colab": {}
      },
      "source": [
        "weights = np.array(w[1])"
      ],
      "execution_count": 0,
      "outputs": []
    },
    {
      "cell_type": "code",
      "metadata": {
        "id": "hbjtcKPizHMW",
        "colab_type": "code",
        "colab": {}
      },
      "source": [
        "weights = w[0].numpy()"
      ],
      "execution_count": 0,
      "outputs": []
    },
    {
      "cell_type": "code",
      "metadata": {
        "id": "fsj_Rl15zZUq",
        "colab_type": "code",
        "colab": {
          "base_uri": "https://localhost:8080/",
          "height": 34
        },
        "outputId": "871b1952-7c1a-41df-ba34-6b49669e764b"
      },
      "source": [
        "weights.shape"
      ],
      "execution_count": 228,
      "outputs": [
        {
          "output_type": "execute_result",
          "data": {
            "text/plain": [
              "(2660, 32)"
            ]
          },
          "metadata": {
            "tags": []
          },
          "execution_count": 228
        }
      ]
    },
    {
      "cell_type": "code",
      "metadata": {
        "id": "o_s2hDQ7-9dw",
        "colab_type": "code",
        "colab": {
          "base_uri": "https://localhost:8080/",
          "height": 34
        },
        "outputId": "49c6afe6-21a9-43b0-d00c-3dcab79d65e0"
      },
      "source": [
        "len(train_indices)"
      ],
      "execution_count": 247,
      "outputs": [
        {
          "output_type": "execute_result",
          "data": {
            "text/plain": [
              "9763"
            ]
          },
          "metadata": {
            "tags": []
          },
          "execution_count": 247
        }
      ]
    },
    {
      "cell_type": "code",
      "metadata": {
        "id": "NHsnhXmNY9jm",
        "colab_type": "code",
        "colab": {}
      },
      "source": [
        "from sklearn.decomposition import PCA\n",
        "pca = PCA(n_components=2)\n",
        "principalComponents = pca.fit_transform(weights)\n",
        "principalDf = pd.DataFrame(data = principalComponents\n",
        "             , columns = ['principal component 1', 'principal component 2'])"
      ],
      "execution_count": 0,
      "outputs": []
    },
    {
      "cell_type": "code",
      "metadata": {
        "id": "7k7edUrn3QK8",
        "colab_type": "code",
        "colab": {}
      },
      "source": [
        "s = pd.DataFrame(df.loc[:2659]['target_variables'])"
      ],
      "execution_count": 0,
      "outputs": []
    },
    {
      "cell_type": "code",
      "metadata": {
        "id": "jU9oOgRa4Yr_",
        "colab_type": "code",
        "colab": {
          "base_uri": "https://localhost:8080/",
          "height": 34
        },
        "outputId": "df6fb96d-ae81-43ce-cbe6-a70103b63062"
      },
      "source": [
        "type(s)"
      ],
      "execution_count": 239,
      "outputs": [
        {
          "output_type": "execute_result",
          "data": {
            "text/plain": [
              "pandas.core.frame.DataFrame"
            ]
          },
          "metadata": {
            "tags": []
          },
          "execution_count": 239
        }
      ]
    },
    {
      "cell_type": "code",
      "metadata": {
        "id": "9-9_SMqlblAf",
        "colab_type": "code",
        "colab": {}
      },
      "source": [
        "finalDf = pd.concat([principalDf, s], axis = 1)"
      ],
      "execution_count": 0,
      "outputs": []
    },
    {
      "cell_type": "code",
      "metadata": {
        "id": "7no5yhaGcLCO",
        "colab_type": "code",
        "colab": {
          "base_uri": "https://localhost:8080/",
          "height": 195
        },
        "outputId": "57f3717b-e9c9-41b5-9798-0f6537b7a583"
      },
      "source": [
        "finalDf.tail()"
      ],
      "execution_count": 241,
      "outputs": [
        {
          "output_type": "execute_result",
          "data": {
            "text/html": [
              "<div>\n",
              "<style scoped>\n",
              "    .dataframe tbody tr th:only-of-type {\n",
              "        vertical-align: middle;\n",
              "    }\n",
              "\n",
              "    .dataframe tbody tr th {\n",
              "        vertical-align: top;\n",
              "    }\n",
              "\n",
              "    .dataframe thead th {\n",
              "        text-align: right;\n",
              "    }\n",
              "</style>\n",
              "<table border=\"1\" class=\"dataframe\">\n",
              "  <thead>\n",
              "    <tr style=\"text-align: right;\">\n",
              "      <th></th>\n",
              "      <th>principal component 1</th>\n",
              "      <th>principal component 2</th>\n",
              "      <th>target_variables</th>\n",
              "    </tr>\n",
              "  </thead>\n",
              "  <tbody>\n",
              "    <tr>\n",
              "      <th>2655</th>\n",
              "      <td>0.208990</td>\n",
              "      <td>0.027026</td>\n",
              "      <td>1</td>\n",
              "    </tr>\n",
              "    <tr>\n",
              "      <th>2656</th>\n",
              "      <td>0.180343</td>\n",
              "      <td>0.021678</td>\n",
              "      <td>1</td>\n",
              "    </tr>\n",
              "    <tr>\n",
              "      <th>2657</th>\n",
              "      <td>-0.001605</td>\n",
              "      <td>-0.002851</td>\n",
              "      <td>1</td>\n",
              "    </tr>\n",
              "    <tr>\n",
              "      <th>2658</th>\n",
              "      <td>-0.153240</td>\n",
              "      <td>0.072256</td>\n",
              "      <td>1</td>\n",
              "    </tr>\n",
              "    <tr>\n",
              "      <th>2659</th>\n",
              "      <td>-0.219251</td>\n",
              "      <td>0.049589</td>\n",
              "      <td>1</td>\n",
              "    </tr>\n",
              "  </tbody>\n",
              "</table>\n",
              "</div>"
            ],
            "text/plain": [
              "      principal component 1  principal component 2  target_variables\n",
              "2655               0.208990               0.027026                 1\n",
              "2656               0.180343               0.021678                 1\n",
              "2657              -0.001605              -0.002851                 1\n",
              "2658              -0.153240               0.072256                 1\n",
              "2659              -0.219251               0.049589                 1"
            ]
          },
          "metadata": {
            "tags": []
          },
          "execution_count": 241
        }
      ]
    },
    {
      "cell_type": "code",
      "metadata": {
        "id": "35gKHRH4bsFk",
        "colab_type": "code",
        "colab": {
          "base_uri": "https://localhost:8080/",
          "height": 540
        },
        "outputId": "13b29b77-d609-4d4a-e520-bfc7930e1740"
      },
      "source": [
        "fig = plt.figure(figsize = (8,8))\n",
        "ax = fig.add_subplot(1,1,1) \n",
        "ax.set_xlabel('Principal Component 1', fontsize = 15)\n",
        "ax.set_ylabel('Principal Component 2', fontsize = 15)\n",
        "ax.set_title('2 component PCA', fontsize = 20)\n",
        "targets = [0, 1]\n",
        "colors = ['r', 'g']\n",
        "for target, color in zip(targets,colors):\n",
        "  indicesToKeep = []\n",
        "  for j in range(0, len(finalDf)):\n",
        "    if(finalDf.loc[j]['target_variables'] == target):\n",
        "      indicesToKeep.append(j)\n",
        "  ax.scatter(finalDf.loc[indicesToKeep, 'principal component 1']\n",
        "               , finalDf.loc[indicesToKeep, 'principal component 2']\n",
        "               , c = color\n",
        "               , s = 50)\n",
        "ax.legend(targets)"
      ],
      "execution_count": 242,
      "outputs": [
        {
          "output_type": "execute_result",
          "data": {
            "text/plain": [
              "<matplotlib.legend.Legend at 0x7fdf4de0a978>"
            ]
          },
          "metadata": {
            "tags": []
          },
          "execution_count": 242
        },
        {
          "output_type": "display_data",
          "data": {
            "image/png": "[encoded data removed]",
            "text/plain": [
              "<Figure size 576x576 with 1 Axes>"
            ]
          },
          "metadata": {
            "tags": [],
            "needs_background": "light"
          }
        }
      ]
    },
    {
      "cell_type": "code",
      "metadata": {
        "id": "QZrZPY9a5s0G",
        "colab_type": "code",
        "colab": {
          "base_uri": "https://localhost:8080/",
          "height": 218
        },
        "outputId": "46162188-23c8-41b2-b253-c0f8d3f9d4e9"
      },
      "source": [
        "finalDf['target_variables']"
      ],
      "execution_count": 187,
      "outputs": [
        {
          "output_type": "execute_result",
          "data": {
            "text/plain": [
              "0       0\n",
              "1       0\n",
              "2       1\n",
              "3       0\n",
              "4       0\n",
              "       ..\n",
              "2656    1\n",
              "2657    1\n",
              "2658    1\n",
              "2659    1\n",
              "2660    1\n",
              "Name: target_variables, Length: 2661, dtype: int64"
            ]
          },
          "metadata": {
            "tags": []
          },
          "execution_count": 187
        }
      ]
    },
    {
      "cell_type": "code",
      "metadata": {
        "colab_type": "code",
        "id": "dXeDZQCe0xKB",
        "colab": {}
      },
      "source": [
        "import numpy\n",
        "numpy.savetxt(\"/content/drive/My Drive/sydney_gcn_fpr_mean.csv\", mean_fpr, delimiter=\",\")\n",
        "numpy.savetxt(\"/content/drive/My Drive/sydney_gcn_tpr_mean.csv\", mean_tpr, delimiter=\",\")\n",
        "\n",
        "df_mean_fpr = pd.DataFrame(mean_fpr)\n",
        "df_mean_fpr.to_csv('/content/drive/My Drive/sydney_df_mean_fpr_gcn.csv')\n",
        "df_mean_tpr = pd.DataFrame(mean_tpr)\n",
        "df_mean_tpr.to_csv('/content/drive/My Drive/sydney_df_mean_tpr_gcn.csv')"
      ],
      "execution_count": 0,
      "outputs": []
    },
    {
      "cell_type": "code",
      "metadata": {
        "colab_type": "code",
        "id": "Fo4Lz6x395A3",
        "colab": {}
      },
      "source": [
        "''' viz = metrics.plot_roc_curve(model, X[test], predict_class,\n",
        "                             name='ROC fold {}'.format(i),\n",
        "                             alpha=0.3, lw=1, ax=ax)\n",
        "    interp_tpr = interp(mean_fpr, viz.fpr, viz.tpr)\n",
        "    interp_tpr[0] = 0.0\n",
        "    tprs.append(interp_tpr)\n",
        "    aucs.append(viz.roc_auc)\n",
        "    '''\n",
        "    '''ax.plot([0, 1], [0, 1], linestyle='--', lw=2, color='r',\n",
        "            label='Chance', alpha=.8)\n",
        "\n",
        "mean_tpr = np.mean(tprs, axis=0)\n",
        "mean_tpr[-1] = 1.0\n",
        "mean_auc = auc(mean_fpr, mean_tpr)\n",
        "std_auc = np.std(aucs)\n",
        "ax.plot(mean_fpr, mean_tpr, color='b',\n",
        "        label=r'Mean ROC (AUC = %0.2f $\\pm$ %0.2f)' % (mean_auc, std_auc),\n",
        "        lw=2, alpha=.8)\n",
        "\n",
        "std_tpr = np.std(tprs, axis=0)\n",
        "tprs_upper = np.minimum(mean_tpr + std_tpr, 1)\n",
        "tprs_lower = np.maximum(mean_tpr - std_tpr, 0)\n",
        "ax.fill_between(mean_fpr, tprs_lower, tprs_upper, color='grey', alpha=.2,\n",
        "                label=r'$\\pm$ 1 std. dev.')\n",
        "\n",
        "ax.set(xlim=[-0.05, 1.05], ylim=[-0.05, 1.05],\n",
        "       title=\"Receiver operating characteristic example\")\n",
        "ax.legend(loc=\"lower right\")\n",
        "plt.show()\n"
      ],
      "execution_count": 0,
      "outputs": []
    },
    {
      "cell_type": "code",
      "metadata": {
        "colab_type": "code",
        "id": "MsgPKlfWuJQN",
        "colab": {}
      },
      "source": [
        "import pickle\n",
        "with open('/content/drive/My Drive/tp_spektral_german', 'wb') as filehandle:\n",
        "    # store the data as binary data stream\n",
        "    pickle.dump(tp, filehandle)"
      ],
      "execution_count": 0,
      "outputs": []
    },
    {
      "cell_type": "code",
      "metadata": {
        "colab_type": "code",
        "id": "vjLk5kx-938B",
        "colab": {}
      },
      "source": [
        ""
      ],
      "execution_count": 0,
      "outputs": []
    },
    {
      "cell_type": "code",
      "metadata": {
        "colab_type": "code",
        "id": "jFAE_kwTKSbf",
        "colab": {}
      },
      "source": [
        "with open('/content/drive/My Drive/tn_spektral_german', 'wb') as filehandle:\n",
        "    # store the data as binary data stream\n",
        "    pickle.dump(tn, filehandle)"
      ],
      "execution_count": 0,
      "outputs": []
    },
    {
      "cell_type": "code",
      "metadata": {
        "colab_type": "code",
        "id": "Bve-XrChKJDs",
        "colab": {}
      },
      "source": [
        "\n",
        "with open('/content/drive/My Drive/fp__spektral_german', 'wb') as filehandle:\n",
        "    # store the data as binary data stream\n",
        "    pickle.dump(fp, filehandle)"
      ],
      "execution_count": 0,
      "outputs": []
    },
    {
      "cell_type": "code",
      "metadata": {
        "colab_type": "code",
        "id": "Dpeyfn_aJ7vu",
        "colab": {}
      },
      "source": [
        "with open('/content/drive/My Drive/fn__spektral_german', 'wb') as filehandle:\n",
        "    # store the data as binary data stream\n",
        "    pickle.dump(fn, filehandle)"
      ],
      "execution_count": 0,
      "outputs": []
    },
    {
      "cell_type": "code",
      "metadata": {
        "colab_type": "code",
        "id": "JysfYQzizDL9",
        "colab": {}
      },
      "source": [
        "with open('/content/drive/My Drive/precision__spektral_german', 'wb') as filehandle:\n",
        "    # store the data as binary data stream\n",
        "    pickle.dump(metrics_precision, filehandle)"
      ],
      "execution_count": 0,
      "outputs": []
    },
    {
      "cell_type": "code",
      "metadata": {
        "colab_type": "code",
        "id": "PlJer7t-JoyB",
        "colab": {}
      },
      "source": [
        "\n",
        "with open('/content/drive/My Drive/accuracy__spektral_german', 'wb') as filehandle:\n",
        "    # store the data as binary data stream\n",
        "    pickle.dump(metrics_acc, filehandle)"
      ],
      "execution_count": 0,
      "outputs": []
    },
    {
      "cell_type": "code",
      "metadata": {
        "colab_type": "code",
        "id": "in7_dwIhJCp0",
        "colab": {}
      },
      "source": [
        "with open('/content/drive/My Drive/F1_measure__spektral_german', 'wb') as filehandle:\n",
        "    # store the data as binary data stream\n",
        "    pickle.dump(metrics_f1, filehandle)"
      ],
      "execution_count": 0,
      "outputs": []
    },
    {
      "cell_type": "code",
      "metadata": {
        "colab_type": "code",
        "id": "jw07iYlQJZbR",
        "colab": {}
      },
      "source": [
        "with open('/content/drive/My Drive/recall__spektral', 'wb') as filehandle:\n",
        "    # store the data as binary data stream\n",
        "    pickle.dump(metrics_recall, filehandle)"
      ],
      "execution_count": 0,
      "outputs": []
    },
    {
      "cell_type": "code",
      "metadata": {
        "colab_type": "code",
        "id": "Zk8cDZObuTlQ",
        "colab": {}
      },
      "source": [
        "with open('tp', 'rb') as filehandle:\n",
        "    # read the data as binary data stream\n",
        "    placesList = pickle.load(filehandle)"
      ],
      "execution_count": 0,
      "outputs": []
    },
    {
      "cell_type": "code",
      "metadata": {
        "colab_type": "code",
        "id": "BqjqQQ-lufi0",
        "outputId": "a89cb031-31df-486b-c8fc-85e6125ea7fa",
        "colab": {
          "base_uri": "https://localhost:8080/",
          "height": 101
        }
      },
      "source": [
        "tp"
      ],
      "execution_count": 0,
      "outputs": [
        {
          "output_type": "execute_result",
          "data": {
            "text/plain": [
              "[array([   0, 2775]),\n",
              " array([  23, 2737]),\n",
              " array([ 452, 1712]),\n",
              " array([   0, 2776]),\n",
              " array([   0, 2776])]"
            ]
          },
          "metadata": {
            "tags": []
          },
          "execution_count": 46
        }
      ]
    },
    {
      "cell_type": "code",
      "metadata": {
        "colab_type": "code",
        "id": "HvtDoqFobTtc",
        "colab": {}
      },
      "source": [
        "#micro-average classwise\n",
        "micro_precision_group_0 = (tp[0][0] + tp[1][0] + tp[2][0] + tp[3][0] + tp[4][0])/(tp[0][0] + tp[1][0] + tp[2][0] + tp[3][0] + \n",
        "                           tp[4][0] + fp[0][0] + fp[1][0] + fp[2][0] + fp[3][0] + fp[4][0])\n",
        "\n",
        "micro_precision_group_1 = (tp[0][1] + tp[1][1] + tp[2][1] + tp[3][1] + tp[4][1])/(tp[0][1] + tp[1][1] + tp[2][1] + tp[3][1] + \n",
        "                           tp[4][1] + fp[0][1] + fp[1][1] + fp[2][1] + fp[3][1] + fp[4][1])\n",
        "\n",
        "#micro_precision_group_2 = (tp[0][2] + tp[1][2] + tp[2][2] + tp[3][2] + tp[4][2])/(tp[0][2] + tp[1][2] + tp[2][2] + tp[3][2] + \n",
        "#                           tp[4][2] + fp[0][2] + fp[1][2] + fp[2][2] + fp[3][2] + fp[4][2])\n",
        "\n",
        "#micro_precision_group_3 = (tp[0][3] + tp[1][3] + tp[2][3] + tp[3][3] + tp[4][3])/(tp[0][3] + tp[1][3] + tp[2][3] + tp[3][3] + \n",
        "#                           tp[4][3] + fp[0][3] + fp[1][3] + fp[2][3] + fp[3][3] + fp[4][3])\n",
        "\n",
        "micro_recall_group_0 = (tp[0][0] + tp[1][0] + tp[2][0] + tp[3][0] + tp[4][0])/(tp[0][0] + tp[1][0] \n",
        "                        + tp[2][0] + tp[3][0] + tp[4][0] + fn[0][0] + fn[1][0] + fn[2][0] + fn[3][0] + fn[4][0])\n",
        "\n",
        "micro_recall_group_1 = (tp[0][1] + tp[1][1] + tp[2][1] + tp[3][1] + tp[4][1])/(tp[0][1] + tp[1][1] \n",
        "                        + tp[2][1] + tp[3][1] + tp[4][1] + fn[0][1] + fn[1][1] + fn[2][1] + fn[3][1] + fn[4][1])\n",
        "\n",
        "#micro_recall_group_2 = (tp[0][2] + tp[1][2] + tp[2][2] + tp[3][2] + tp[4][2])/(tp[0][2] + tp[1][2] \n",
        "#                        + tp[2][2] + tp[3][2] + tp[4][2] + fn[0][2] + fn[1][2] + fn[2][2] + fn[3][2] + fn[4][2])\n",
        "\n",
        "#micro_recall_group_3 = (tp[0][3] + tp[1][3] + tp[2][3] + tp[3][3] + tp[4][3])/(tp[0][3] + tp[1][3] \n",
        "#                        + tp[2][3] + tp[3][3] + tp[4][3] + fn[0][3] + fn[1][3] + fn[2][3] + fn[3][3] + fn[4][3])"
      ],
      "execution_count": 0,
      "outputs": []
    },
    {
      "cell_type": "code",
      "metadata": {
        "colab_type": "code",
        "id": "oyjn-0SQaXMM",
        "outputId": "97e3ba56-8f88-4073-e198-5948f3b4835f",
        "colab": {
          "base_uri": "https://localhost:8080/",
          "height": 50
        }
      },
      "source": [
        "print(micro_recall_group_0)\n",
        "print(micro_recall_group_1)\n",
        "#print(micro_recall_group_2)\n",
        "#print(micro_recall_group_3)\n"
      ],
      "execution_count": 35,
      "outputs": [
        {
          "output_type": "stream",
          "text": [
            "0.6585108626871968\n",
            "0.5888263665594855\n"
          ],
          "name": "stdout"
        }
      ]
    },
    {
      "cell_type": "code",
      "metadata": {
        "colab_type": "code",
        "id": "aaQRSW4OsCJB",
        "outputId": "d30235ce-fe15-4a43-c24b-34e6a0fb867c",
        "colab": {
          "base_uri": "https://localhost:8080/",
          "height": 50
        }
      },
      "source": [
        "print(micro_precision_group_0)\n",
        "print(micro_precision_group_1)\n",
        "#print(micro_precision_group_2)\n",
        "#print(micro_precision_group_3)"
      ],
      "execution_count": 36,
      "outputs": [
        {
          "output_type": "stream",
          "text": [
            "0.504280407042481\n",
            "0.7307948121050881\n"
          ],
          "name": "stdout"
        }
      ]
    },
    {
      "cell_type": "code",
      "metadata": {
        "colab_type": "code",
        "id": "_Z8XS1PHxOjo",
        "colab": {}
      },
      "source": [
        "micro_precision = []\n",
        "micro_precision.append(micro_precision_group_0)\n",
        "micro_precision.append(micro_precision_group_1)\n",
        "#micro_precision.append(micro_precision_group_2)\n",
        "#micro_precision.append(micro_precision_group_3)\n",
        "\n",
        "micro_recall = []\n",
        "micro_recall.append(micro_recall_group_0)\n",
        "micro_recall.append(micro_recall_group_1)\n",
        "#micro_recall.append(micro_recall_group_2)\n",
        "#micro_recall.append(micro_recall_group_3)\n",
        "\n"
      ],
      "execution_count": 0,
      "outputs": []
    },
    {
      "cell_type": "code",
      "metadata": {
        "colab_type": "code",
        "id": "1KASKQccacPJ",
        "colab": {}
      },
      "source": [
        " mirco_f1_group = []\n",
        "\n",
        "mirco_f1_group.append(2 * ((micro_precision_group_0 * micro_recall_group_0)/(micro_precision_group_0 \n",
        "                                                                                 + micro_recall_group_0)))\n",
        "mirco_f1_group.append(2 * ((micro_precision_group_1 * micro_recall_group_1)/(micro_precision_group_1 \n",
        "                                                                                 + micro_recall_group_1)))\n",
        "#mirco_f1_group.append(2 * ((micro_precision_group_2 * micro_recall_group_2)/(micro_precision_group_2 \n",
        "                                          #                                       + micro_recall_group_2)))\n",
        "#mirco_f1_group.append(2 * ((micro_precision_group_3 * micro_recall_group_3)/(micro_precision_group_3 \n",
        "                                           #                                      + micro_recall_group_3)))\n",
        "\n",
        "#f1_score = 2 * ((micro_precision * micro_recall)/(micro_precision + micro_recall))"
      ],
      "execution_count": 0,
      "outputs": []
    },
    {
      "cell_type": "code",
      "metadata": {
        "colab_type": "code",
        "id": "q_4GI5vwsf6C",
        "outputId": "2e703581-6663-4d07-ecbb-7e7a8ee7def0",
        "colab": {
          "base_uri": "https://localhost:8080/",
          "height": 67
        }
      },
      "source": [
        "print(micro_precision)\n",
        "print(micro_recall)\n",
        "print(mirco_f1_group)"
      ],
      "execution_count": 39,
      "outputs": [
        {
          "output_type": "stream",
          "text": [
            "[0.504280407042481, 0.7307948121050881]\n",
            "[0.6585108626871968, 0.5888263665594855]\n",
            "[0.5711672155140871, 0.6521739130434783]\n"
          ],
          "name": "stdout"
        }
      ]
    },
    {
      "cell_type": "code",
      "metadata": {
        "colab_type": "code",
        "id": "zFw96xAksmvg",
        "colab": {}
      },
      "source": [
        "# mean accuracy classwise\n",
        "mean_accuracy = []\n",
        "for i in range(0, classes):\n",
        "    a = []\n",
        "    for j in range(0, 5): #row\n",
        "        a.append(metrics_acc[j][i])\n",
        "        n = np.array(a)\n",
        "    mean_accuracy.append(n.mean())"
      ],
      "execution_count": 0,
      "outputs": []
    },
    {
      "cell_type": "code",
      "metadata": {
        "colab_type": "code",
        "id": "oEJ6K6wlsphl",
        "outputId": "d1f46b8c-a655-4148-eda9-acdfeaea1add",
        "colab": {
          "base_uri": "https://localhost:8080/",
          "height": 34
        }
      },
      "source": [
        "mean_accuracy"
      ],
      "execution_count": 72,
      "outputs": [
        {
          "output_type": "execute_result",
          "data": {
            "text/plain": [
              "[0.6158951249487915, 0.6158951249487915]"
            ]
          },
          "metadata": {
            "tags": []
          },
          "execution_count": 72
        }
      ]
    },
    {
      "cell_type": "code",
      "metadata": {
        "colab_type": "code",
        "id": "R4gR8tkGsat1",
        "outputId": "1c6643d2-1f73-4c3a-b3c9-99f93107bcfa",
        "colab": {
          "base_uri": "https://localhost:8080/",
          "height": 229
        }
      },
      "source": [
        "#macro-average classwise\n",
        "macro_precision_group_0 = (metrics_precision[0][0] + metrics_precision[1][0] + metrics_precision[2][0] + \n",
        "                           metrics_precision[3][0] + metrics_precision[4][0])/5\n",
        "macro_precision_group_1 = (metrics_precision[0][1] + metrics_precision[1][1] + metrics_precision[2][1] + \n",
        "                           metrics_precision[3][1] + metrics_precision[4][1])/5\n",
        "macro_precision_group_2 = (metrics_precision[0][2] + metrics_precision[1][2] + metrics_precision[2][2] + \n",
        "                           metrics_precision[3][2] + metrics_precision[4][2])/5\n",
        "macro_precision_group_3 = (metrics_precision[0][3] + metrics_precision[1][3] + metrics_precision[2][3] + \n",
        "                           metrics_precision[3][3] + metrics_precision[4][3])/5\n",
        "\n",
        "macro_recall_group_0 = (metrics_recall[0][0] + metrics_recall[1][0] + metrics_recall[2][0] + \n",
        "                           metrics_recall[3][0] + metrics_recall[4][0])/5\n",
        "macro_recall_group_1 = (metrics_recall[0][1] + metrics_recall[1][1] + metrics_recall[2][1] + \n",
        "                           metrics_recall[3][1] + metrics_recall[4][1])/5\n",
        "macro_recall_group_2 = (metrics_recall[0][2] + metrics_recall[1][2] + metrics_recall[2][2] + \n",
        "                           metrics_recall[3][2] + metrics_recall[4][2])/5\n",
        "macro_recall_group_3 = (metrics_recall[0][3] + metrics_recall[1][3] + metrics_recall[2][3] + \n",
        "                           metrics_recall[3][3] + metrics_recall[4][3])/5\n",
        "\n",
        "macro_f1_group_0 = 2 * ((macro_precision_group_0 * macro_recall_group_0)/(macro_precision_group_0 + macro_recall_group_0))\n",
        "\n",
        "macro_f1_group_1 = 2 * ((macro_precision_group_1 * macro_recall_group_1)/(macro_precision_group_1 + macro_recall_group_1))\n",
        "\n",
        "macro_f1_group_2 = 2 * ((macro_precision_group_2 * macro_recall_group_2)/(macro_precision_group_2 + macro_recall_group_2))\n",
        "\n",
        "macro_f1_group_3 = 2 * ((macro_precision_group_3 * macro_recall_group_3)/(macro_precision_group_3 + macro_recall_group_3))"
      ],
      "execution_count": 0,
      "outputs": [
        {
          "output_type": "error",
          "ename": "IndexError",
          "evalue": "ignored",
          "traceback": [
            "\u001b[0;31m---------------------------------------------------------------------------\u001b[0m",
            "\u001b[0;31mIndexError\u001b[0m                                Traceback (most recent call last)",
            "\u001b[0;32m<ipython-input-39-e36803e66a03>\u001b[0m in \u001b[0;36m<module>\u001b[0;34m()\u001b[0m\n\u001b[1;32m      4\u001b[0m                            metrics_precision[3][1] + metrics_precision[4][1])/5\n\u001b[1;32m      5\u001b[0m macro_precision_group_2 = (metrics_precision[0][2] + metrics_precision[1][2] + metrics_precision[2][2] + \n\u001b[0;32m----> 6\u001b[0;31m                            metrics_precision[3][2] + metrics_precision[4][2])/5\n\u001b[0m\u001b[1;32m      7\u001b[0m macro_precision_group_3 = (metrics_precision[0][3] + metrics_precision[1][3] + metrics_precision[2][3] + \n\u001b[1;32m      8\u001b[0m                            metrics_precision[3][3] + metrics_precision[4][3])/5\n",
            "\u001b[0;31mIndexError\u001b[0m: index 2 is out of bounds for axis 0 with size 2"
          ]
        }
      ]
    },
    {
      "cell_type": "code",
      "metadata": {
        "colab_type": "code",
        "id": "SsaKJZPrsj9V",
        "outputId": "393ee7ba-94d9-4c7a-8f2e-bcf8495bbc60",
        "colab": {
          "base_uri": "https://localhost:8080/",
          "height": 67
        }
      },
      "source": [
        "macro_precision = []\n",
        "macro_precision.append(macro_precision_group_0)\n",
        "macro_precision.append(macro_precision_group_1)\n",
        "macro_precision.append(macro_precision_group_2)\n",
        "macro_precision.append(macro_precision_group_3)\n",
        "\n",
        "macro_recall = []\n",
        "macro_recall.append(macro_recall_group_0)\n",
        "macro_recall.append(macro_recall_group_0)\n",
        "macro_recall.append(macro_recall_group_0)\n",
        "macro_recall.append(macro_recall_group_0)\n",
        "\n",
        "marco_f1_group = []\n",
        "\n",
        "marco_f1_group.append(2 * ((macro_precision_group_0 * macro_recall_group_0)/(macro_precision_group_0 \n",
        "                                                                                 + macro_recall_group_0)))\n",
        "marco_f1_group.append(2 * ((macro_precision_group_1 * macro_recall_group_1)/(macro_precision_group_1 \n",
        "                                                                                 + macro_recall_group_1)))\n",
        "marco_f1_group.append(2 * ((macro_precision_group_2 * macro_recall_group_2)/(macro_precision_group_2 \n",
        "                                                                                 + macro_recall_group_2)))\n",
        "marco_f1_group.append(2 * ((macro_precision_group_3 * macro_recall_group_3)/(macro_precision_group_3 \n",
        "                                                                                 + macro_recall_group_3)))\n",
        "\n",
        "#f1_score = 2 * ((micro_precision * micro_recall)/(micro_precision + micro_recall))\n",
        "\n",
        "print(macro_precision)\n",
        "print(macro_recall)\n",
        "print(marco_f1_group)"
      ],
      "execution_count": 0,
      "outputs": [
        {
          "output_type": "stream",
          "text": [
            "[0.3523932173849107, nan, 0.05173160173160174, 0.7304954151861225]\n",
            "[0.27968968065019295, 0.27968968065019295, 0.27968968065019295, 0.27968968065019295]\n",
            "[0.31186019030119677, nan, 0.02277112164447515, 0.7714543547210584]\n"
          ],
          "name": "stdout"
        }
      ]
    },
    {
      "cell_type": "code",
      "metadata": {
        "colab_type": "code",
        "id": "aKQhMRKFsrIn",
        "outputId": "3f96bceb-d75c-41b0-e4a1-a45730cdce2f",
        "colab": {
          "base_uri": "https://localhost:8080/",
          "height": 101
        }
      },
      "source": [
        "metrics_acc # verify"
      ],
      "execution_count": 0,
      "outputs": [
        {
          "output_type": "execute_result",
          "data": {
            "text/plain": [
              "[array([0.69759358, 0.99171123, 0.95695187, 0.66497326]),\n",
              " array([0.68957219, 0.99278075, 0.95748663, 0.65802139]),\n",
              " array([0.6828877 , 0.98930481, 0.94786096, 0.65      ]),\n",
              " array([0.70454545, 0.99224599, 0.95561497, 0.6684492 ]),\n",
              " array([0.67967914, 0.98796791, 0.95614973, 0.64893048])]"
            ]
          },
          "metadata": {
            "tags": []
          },
          "execution_count": 84
        }
      ]
    },
    {
      "cell_type": "code",
      "metadata": {
        "colab_type": "code",
        "id": "Cem1r1Vcssu1",
        "colab": {}
      },
      "source": [
        ""
      ],
      "execution_count": 0,
      "outputs": []
    }
  ]
}