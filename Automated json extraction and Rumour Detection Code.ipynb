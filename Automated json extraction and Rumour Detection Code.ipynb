{
 "cells": [
  {
   "cell_type": "markdown",
   "metadata": {},
   "source": [
    "## Automated Code"
   ]
  },
  {
   "cell_type": "code",
   "execution_count": 1,
   "metadata": {
    "scrolled": true
   },
   "outputs": [
    {
     "name": "stdout",
     "output_type": "stream",
     "text": [
      "['521346721226711040', '521360486387175424']\n"
     ]
    }
   ],
   "source": [
    "import os\n",
    "import numpy as np\n",
    "import pandas as pd\n",
    "path_to_json = r'C:\\Users\\shakshi\\Desktop\\phemerumourschemedataset\\pheme-rumour-scheme-dataset\\threads\\en\\ebola-essien/'\n",
    "\n",
    "folders = [pos_json for pos_json in os.listdir(path_to_json) ]\n",
    "print(folders)  # for me this prints ['foo.json']"
   ]
  },
  {
   "cell_type": "code",
   "execution_count": 2,
   "metadata": {},
   "outputs": [],
   "source": [
    "#folders[0]\n",
    "import json\n",
    "import csv"
   ]
  },
  {
   "cell_type": "code",
   "execution_count": 3,
   "metadata": {},
   "outputs": [],
   "source": [
    "base = r'C:\\Users\\shakshi\\Desktop\\phemerumourschemedataset\\pheme-rumour-scheme-dataset\\threads\\en\\ebola-essien'"
   ]
  },
  {
   "cell_type": "code",
   "execution_count": 4,
   "metadata": {},
   "outputs": [],
   "source": [
    "# to display full text\n",
    "pd.set_option('display.max_colwidth', -1)"
   ]
  },
  {
   "cell_type": "markdown",
   "metadata": {},
   "source": [
    "## Extract features from json and write to csv file on disk"
   ]
  },
  {
   "cell_type": "code",
   "execution_count": 5,
   "metadata": {},
   "outputs": [
    {
     "name": "stdout",
     "output_type": "stream",
     "text": [
      "C:\\Users\\shakshi\\Desktop\\phemerumourschemedataset\\pheme-rumour-scheme-dataset\\threads\\en\\ebola-essien\\521346721226711040\n",
      "C:\\Users\\shakshi\\Desktop\\phemerumourschemedataset\\pheme-rumour-scheme-dataset\\threads\\en\\ebola-essien\\521346721226711040\\source-tweets\\521346721226711040.json\n",
      "C:\\Users\\shakshi\\Desktop\\phemerumourschemedataset\\pheme-rumour-scheme-dataset\\threads\\en\\ebola-essien\\521360486387175424\n",
      "C:\\Users\\shakshi\\Desktop\\phemerumourschemedataset\\pheme-rumour-scheme-dataset\\threads\\en\\ebola-essien\\521360486387175424\\source-tweets\\521360486387175424.json\n",
      "C:\\Users\\shakshi\\Desktop\\phemerumourschemedataset\\pheme-rumour-scheme-dataset\\threads\\en\\ebola-essien\\521360486387175424\n"
     ]
    }
   ],
   "source": [
    "for folder in folders:\n",
    "    counter = 0\n",
    "    data = []\n",
    "    within_tweetid = os.path.join(base, folder)\n",
    "    print(within_tweetid)\n",
    "    json_files = [pos for pos in os.listdir(within_tweetid) if pos.endswith('.json')]\n",
    "    #print(json_files)\n",
    "    for jsons in json_files:\n",
    "        if jsons == 'annotation.json':\n",
    "            path = os.path.join(within_tweetid, json_files[0])\n",
    "            with open(path,'r') as f:\n",
    "                annot_json = json.load(f)\n",
    "            annotations_df = pd.DataFrame(annot_json)\n",
    "            #print(annotations_df)\n",
    "            annotations_df_slice = pd.DataFrame(annotations_df['is_rumour'])\n",
    "            annot = annotations_df_slice.iloc[0,:]\n",
    "            annot = annot.reset_index()\n",
    "            annot.drop(\"index\", axis = 1, inplace = True)\n",
    "            s = list(str(annot).split())\n",
    "                    #data = \",\".join(map(str, retweet_df))\n",
    "            for i in s:\n",
    "                data.append(i)\n",
    "                    \n",
    "            #data.append(annotations_df_slice.iloc[0])\n",
    "    \n",
    "        '''elif jsons == 'retweets.json':\n",
    "            \n",
    "            retweets = []\n",
    "            path = os.path.join(within_tweetid, json_files[1])\n",
    "            for line in open(path, 'r'):\n",
    "                retweets.append(json.loads(line))\n",
    "                for retweet in retweets:\n",
    "                    retweet_df = pd.DataFrame(retweet)\n",
    "                    retweet['user']['friends_count']\n",
    "                    retweet_df['verified'] = retweet_df.loc['verified']['user']\n",
    "                    retweet_df['friends_count'] = retweet_df.loc['friends_count']['user']\n",
    "                    retweet_df['favourites_count'] = retweet_df.loc['favourites_count']['user']\n",
    "                    retweet_df['location'] = retweet_df.loc['location']['user']\n",
    "                    retweet_df['followers_count'] = retweet_df.loc['followers_count']['user']\n",
    "                    #retweet_df = retweet_df[['text','id','retweet_count','verified','followers_count','favourites_count','friends_count','location']]\n",
    "                    retweet_df = retweet_df['text']\n",
    "                    retweet_df = retweet_df.reset_index()\n",
    "                    retweet_df.drop(['index'], axis = 1, inplace = True)\n",
    "                    retweet_df = retweet_df.iloc[0,:]\n",
    "                    retweet_df = retweet_df.reset_index()\n",
    "                    retweet_df.drop(\"index\", axis = 1, inplace = True)\n",
    "                    #s = list(str(retweet_df).split())\n",
    "                    #data = \",\".join(map(str, retweet_df))\n",
    "                    #for i in s:\n",
    "                     #   data.append(i)\n",
    "                    data.append(retweet_df)'''\n",
    "                    #print (data)\n",
    "    \n",
    "            \n",
    "    inner_folders = [pos for pos in os.listdir(within_tweetid)]\n",
    "    #print(inner_folders)\n",
    "    for inner in inner_folders:\n",
    "        if inner == 'source-tweets':\n",
    "            \n",
    "            within_source_tweets = os.path.join(within_tweetid, inner)\n",
    "            json_files = [pos for pos in os.listdir(within_source_tweets) if pos.endswith('.json')]\n",
    "            for json_file in json_files:\n",
    "                path = os.path.join(within_source_tweets, json_file)\n",
    "                print(path)\n",
    "                with open(path,'r') as f:\n",
    "                    src_json = json.load(f)\n",
    "                src_df = pd.DataFrame(src_json)\n",
    "                '''src_json['user']['friends_count']\n",
    "                src_df['verified'] = src_df.loc['verified']['user']\n",
    "                src_df['friends_count'] = src_df.loc['friends_count']['user']\n",
    "                src_df['favourites_count'] = src_df.loc['favourites_count']['user']\n",
    "                src_df['location'] = src_df.loc['location']['user']\n",
    "                src_df['followers_count'] = src_df.loc['followers_count']['user']'''\n",
    "                #src_df = src_df[['text','id','retweet_count','verified','followers_count','favourites_count','friends_count','location']]\n",
    "                src_df = src_df['text']\n",
    "                src_df = src_df.reset_index()\n",
    "                src_df.drop(['index'], axis = 1, inplace = True)\n",
    "                src_df = src_df.iloc[0,:]\n",
    "                src_df = src_df.reset_index()\n",
    "                src_df.drop(\"index\", axis = 1, inplace = True)\n",
    "                #s = list(str(src_df).split())\n",
    "                #for i in s:\n",
    "                 #   data.append(i)\n",
    "                    \n",
    "                data.append(src_df.iloc[:1,:])\n",
    "    \n",
    "            #print(json_files)\n",
    "            \n",
    "        '''elif inner == 'reactions':\n",
    "             \n",
    "             within_reactions_tweets = os.path.join(within_tweetid, inner)\n",
    "             json_files = [pos for pos in os.listdir(within_reactions_tweets) if pos.endswith('.json')]\n",
    "             #print(json_files)\n",
    "             for json_file in json_files:\n",
    "                path = os.path.join(within_reactions_tweets, json_file)\n",
    "                with open(path,'r') as f:\n",
    "                    reactions_json = json.load(f)\n",
    "                reactions = pd.DataFrame(reactions_json)\n",
    "                reactions_json['user']['friends_count']\n",
    "                reactions['verified'] = reactions.loc['verified']['user']\n",
    "                reactions['friends_count'] = reactions.loc['friends_count']['user']\n",
    "                reactions['favourites_count'] = reactions.loc['favourites_count']['user']\n",
    "                reactions['location'] = reactions.loc['location']['user']\n",
    "                reactions['followers_count'] = reactions.loc['followers_count']['user']\n",
    "                #reactions = reactions[['text','id','retweet_count','verified','followers_count','favourites_count','friends_count','location']]\n",
    "                reactions = reactions['text']\n",
    "                reactions = reactions.reset_index()\n",
    "                reactions.drop(['index'], axis = 1, inplace = True)\n",
    "                reactions = reactions.iloc[0,:]\n",
    "                reactions = reactions.reset_index()\n",
    "                reactions.drop(\"index\", axis = 1, inplace = True)\n",
    "                #s = list(str(reactions).split())\n",
    "                #for i in s:\n",
    "                 #   data.append(i)\n",
    "                \n",
    "                data.append(reactions.iloc[:1,:])'''\n",
    "    if counter == 0:\n",
    "        with open(r'C:\\Users\\shakshi\\Desktop\\phemerumourschemedataset\\pheme-rumour-scheme-dataset\\threads\\en\\dump_ebola_feature.csv', 'a', encoding = 'utf-8') as csvFile:\n",
    "            writer = csv.writer(csvFile)\n",
    "            writer.writerow(data)\n",
    "        csvFile.close()\n",
    "    else:\n",
    "        with open(r'C:\\Users\\shakshi\\Desktop\\phemerumourschemedataset\\pheme-rumour-scheme-dataset\\threads\\en\\dump_ebola_feature.csv', 'a', newline = '',encoding = 'utf-8') as csvFile:\n",
    "            writer = csv.writer(csvFile)\n",
    "            writer.writerow(data)\n",
    "        csvFile.close()\n",
    "    counter = counter + 1\n",
    "    \n",
    "    import gc\n",
    "    gc.collect()\n",
    "    \n",
    "print(within_tweetid)"
   ]
  },
  {
   "cell_type": "markdown",
   "metadata": {},
   "source": [
    "## Load csv file where data is written"
   ]
  },
  {
   "cell_type": "code",
   "execution_count": 12,
   "metadata": {},
   "outputs": [],
   "source": [
    "df = pd.read_csv(r'C:\\Users\\shakshi\\Desktop\\phemerumourschemedataset\\pheme-rumour-scheme-dataset\\threads\\en\\dump_ebola_feature.csv', encoding = 'utf-8')"
   ]
  },
  {
   "cell_type": "code",
   "execution_count": 13,
   "metadata": {},
   "outputs": [
    {
     "data": {
      "text/html": [
       "<div>\n",
       "<style scoped>\n",
       "    .dataframe tbody tr th:only-of-type {\n",
       "        vertical-align: middle;\n",
       "    }\n",
       "\n",
       "    .dataframe tbody tr th {\n",
       "        vertical-align: top;\n",
       "    }\n",
       "\n",
       "    .dataframe thead th {\n",
       "        text-align: right;\n",
       "    }\n",
       "</style>\n",
       "<table border=\"1\" class=\"dataframe\">\n",
       "  <thead>\n",
       "    <tr style=\"text-align: right;\">\n",
       "      <th></th>\n",
       "      <th>label</th>\n",
       "      <th>text</th>\n",
       "    </tr>\n",
       "  </thead>\n",
       "  <tbody>\n",
       "    <tr>\n",
       "      <th>0</th>\n",
       "      <td>rumour</td>\n",
       "      <td>Unconfirmed reports claim that Michael Essien has contracted Ebola. http://t.co/VASQrZdLhH</td>\n",
       "    </tr>\n",
       "    <tr>\n",
       "      <th>1</th>\n",
       "      <td>NaN</td>\n",
       "      <td>NaN</td>\n",
       "    </tr>\n",
       "    <tr>\n",
       "      <th>2</th>\n",
       "      <td>rumour</td>\n",
       "      <td>AC Milan midfielder Michael Essien has been diagnosed with Ebola. Get well soon Michael. [Daily Times] http://t.co/r6y8d9HMAw</td>\n",
       "    </tr>\n",
       "  </tbody>\n",
       "</table>\n",
       "</div>"
      ],
      "text/plain": [
       "    label  \\\n",
       "0  rumour   \n",
       "1  NaN      \n",
       "2  rumour   \n",
       "\n",
       "                                                                                                                            text  \n",
       "0  Unconfirmed reports claim that Michael Essien has contracted Ebola. http://t.co/VASQrZdLhH                                     \n",
       "1  NaN                                                                                                                            \n",
       "2  AC Milan midfielder Michael Essien has been diagnosed with Ebola. Get well soon Michael. [Daily Times] http://t.co/r6y8d9HMAw  "
      ]
     },
     "execution_count": 13,
     "metadata": {},
     "output_type": "execute_result"
    }
   ],
   "source": [
    "df.head()"
   ]
  },
  {
   "cell_type": "code",
   "execution_count": 14,
   "metadata": {},
   "outputs": [],
   "source": [
    "df = df.iloc[[0,2],:]"
   ]
  },
  {
   "cell_type": "code",
   "execution_count": 15,
   "metadata": {},
   "outputs": [
    {
     "data": {
      "text/html": [
       "<div>\n",
       "<style scoped>\n",
       "    .dataframe tbody tr th:only-of-type {\n",
       "        vertical-align: middle;\n",
       "    }\n",
       "\n",
       "    .dataframe tbody tr th {\n",
       "        vertical-align: top;\n",
       "    }\n",
       "\n",
       "    .dataframe thead th {\n",
       "        text-align: right;\n",
       "    }\n",
       "</style>\n",
       "<table border=\"1\" class=\"dataframe\">\n",
       "  <thead>\n",
       "    <tr style=\"text-align: right;\">\n",
       "      <th></th>\n",
       "      <th>label</th>\n",
       "      <th>text</th>\n",
       "    </tr>\n",
       "  </thead>\n",
       "  <tbody>\n",
       "    <tr>\n",
       "      <th>0</th>\n",
       "      <td>rumour</td>\n",
       "      <td>Unconfirmed reports claim that Michael Essien has contracted Ebola. http://t.co/VASQrZdLhH</td>\n",
       "    </tr>\n",
       "    <tr>\n",
       "      <th>2</th>\n",
       "      <td>rumour</td>\n",
       "      <td>AC Milan midfielder Michael Essien has been diagnosed with Ebola. Get well soon Michael. [Daily Times] http://t.co/r6y8d9HMAw</td>\n",
       "    </tr>\n",
       "  </tbody>\n",
       "</table>\n",
       "</div>"
      ],
      "text/plain": [
       "    label  \\\n",
       "0  rumour   \n",
       "2  rumour   \n",
       "\n",
       "                                                                                                                            text  \n",
       "0  Unconfirmed reports claim that Michael Essien has contracted Ebola. http://t.co/VASQrZdLhH                                     \n",
       "2  AC Milan midfielder Michael Essien has been diagnosed with Ebola. Get well soon Michael. [Daily Times] http://t.co/r6y8d9HMAw  "
      ]
     },
     "execution_count": 15,
     "metadata": {},
     "output_type": "execute_result"
    }
   ],
   "source": [
    "df"
   ]
  },
  {
   "cell_type": "code",
   "execution_count": 37,
   "metadata": {},
   "outputs": [],
   "source": [
    "from tensorflow.python.keras.preprocessing.text import Tokenizer"
   ]
  },
  {
   "cell_type": "code",
   "execution_count": 38,
   "metadata": {},
   "outputs": [],
   "source": [
    "from tensorflow.python.keras.preprocessing.sequence import pad_sequences"
   ]
  },
  {
   "cell_type": "code",
   "execution_count": 39,
   "metadata": {},
   "outputs": [],
   "source": [
    "token = Tokenizer()"
   ]
  },
  {
   "cell_type": "code",
   "execution_count": 40,
   "metadata": {},
   "outputs": [],
   "source": [
    "#tweets = X_train + X_test"
   ]
  },
  {
   "cell_type": "code",
   "execution_count": 41,
   "metadata": {},
   "outputs": [],
   "source": [
    "#token.fit_on_texts(tweets)"
   ]
  },
  {
   "cell_type": "code",
   "execution_count": 42,
   "metadata": {},
   "outputs": [],
   "source": [
    "max_len = max([len(tweet.split()) for tweet in tweets])"
   ]
  },
  {
   "cell_type": "code",
   "execution_count": 31,
   "metadata": {},
   "outputs": [],
   "source": [
    "#vocab = len(token.word_index) + 1"
   ]
  },
  {
   "cell_type": "code",
   "execution_count": 32,
   "metadata": {},
   "outputs": [],
   "source": [
    "#X_train_token = token.texts_to_sequences(X_train)\n",
    "#X_test_token = token.texts_to_sequences(X_test)\n",
    "#X_train_p = pad_sequences(X_train_token, maxlen = max_len, padding = 'post')\n",
    "#X_test_p = pad_sequences(X_test_token, maxlen = max_len, padding = 'post')"
   ]
  },
  {
   "cell_type": "markdown",
   "metadata": {},
   "source": [
    "## NLP stuff"
   ]
  },
  {
   "cell_type": "code",
   "execution_count": 19,
   "metadata": {},
   "outputs": [],
   "source": [
    "import string\n",
    "from nltk.tokenize import word_tokenize\n",
    "from nltk.corpus import stopwords\n",
    "text = list()\n",
    "line = df['text'].values.tolist()\n",
    "for l in line:\n",
    "    token = word_tokenize(l)\n",
    "    token = [t.lower() for t in token]\n",
    "    punct = str.maketrans('','',string.punctuation)\n",
    "    translate = [t.translate(punct) for t in token]\n",
    "    words = [word for word in translate if word.isalpha()]\n",
    "    stop = set(stopwords.words('english'))\n",
    "    words = [t for t in words if not t in stop]\n",
    "    text.append(words)"
   ]
  },
  {
   "cell_type": "code",
   "execution_count": 20,
   "metadata": {},
   "outputs": [
    {
     "data": {
      "text/plain": [
       "2"
      ]
     },
     "execution_count": 20,
     "metadata": {},
     "output_type": "execute_result"
    }
   ],
   "source": [
    "len(text)"
   ]
  },
  {
   "cell_type": "code",
   "execution_count": 21,
   "metadata": {},
   "outputs": [
    {
     "data": {
      "text/plain": [
       "[['unconfirmed',\n",
       "  'reports',\n",
       "  'claim',\n",
       "  'michael',\n",
       "  'essien',\n",
       "  'contracted',\n",
       "  'ebola',\n",
       "  'http',\n",
       "  'tcovasqrzdlhh'],\n",
       " ['ac',\n",
       "  'milan',\n",
       "  'midfielder',\n",
       "  'michael',\n",
       "  'essien',\n",
       "  'diagnosed',\n",
       "  'ebola',\n",
       "  'get',\n",
       "  'well',\n",
       "  'soon',\n",
       "  'michael',\n",
       "  'daily',\n",
       "  'times',\n",
       "  'http']]"
      ]
     },
     "execution_count": 21,
     "metadata": {},
     "output_type": "execute_result"
    }
   ],
   "source": [
    "text"
   ]
  },
  {
   "cell_type": "markdown",
   "metadata": {},
   "source": [
    "## Word Embeddings using gensim"
   ]
  },
  {
   "cell_type": "code",
   "execution_count": 22,
   "metadata": {},
   "outputs": [],
   "source": [
    "import gensim"
   ]
  },
  {
   "cell_type": "code",
   "execution_count": 23,
   "metadata": {},
   "outputs": [],
   "source": [
    "model = gensim.models.Word2Vec(sentences = text, size = 100, window = 2, workers = 3, min_count = 1)"
   ]
  },
  {
   "cell_type": "code",
   "execution_count": 24,
   "metadata": {},
   "outputs": [
    {
     "name": "stdout",
     "output_type": "stream",
     "text": [
      "Vocab size 18\n"
     ]
    }
   ],
   "source": [
    "words = list(model.wv.vocab)\n",
    "print('Vocab size', len(words))"
   ]
  },
  {
   "cell_type": "code",
   "execution_count": 72,
   "metadata": {},
   "outputs": [
    {
     "data": {
      "text/plain": [
       "['unconfirmed',\n",
       " 'reports',\n",
       " 'claim',\n",
       " 'michael',\n",
       " 'essien',\n",
       " 'contracted',\n",
       " 'ebola',\n",
       " 'http',\n",
       " 'tcovasqrzdlhh',\n",
       " 'ac',\n",
       " 'milan',\n",
       " 'midfielder',\n",
       " 'diagnosed',\n",
       " 'get',\n",
       " 'well',\n",
       " 'soon',\n",
       " 'daily',\n",
       " 'times']"
      ]
     },
     "execution_count": 72,
     "metadata": {},
     "output_type": "execute_result"
    }
   ],
   "source": [
    "words"
   ]
  },
  {
   "cell_type": "markdown",
   "metadata": {},
   "source": [
    "## Most Similar Words"
   ]
  },
  {
   "cell_type": "code",
   "execution_count": 25,
   "metadata": {},
   "outputs": [
    {
     "data": {
      "text/plain": [
       "[('milan', 0.2648314833641052),\n",
       " ('midfielder', 0.11276337504386902),\n",
       " ('soon', 0.110157310962677),\n",
       " ('claim', 0.10047351568937302),\n",
       " ('well', 0.08471009880304337),\n",
       " ('essien', 0.07918926328420639),\n",
       " ('diagnosed', 0.04718385264277458),\n",
       " ('unconfirmed', 0.04239392280578613),\n",
       " ('ebola', 0.03168824687600136),\n",
       " ('tcovasqrzdlhh', 0.01942703127861023)]"
      ]
     },
     "execution_count": 25,
     "metadata": {},
     "output_type": "execute_result"
    }
   ],
   "source": [
    "model.wv.most_similar('daily')"
   ]
  },
  {
   "cell_type": "markdown",
   "metadata": {},
   "source": [
    "## Save vectors"
   ]
  },
  {
   "cell_type": "code",
   "execution_count": 26,
   "metadata": {},
   "outputs": [],
   "source": [
    "file = 'twitter_rumour_detection.txt'"
   ]
  },
  {
   "cell_type": "code",
   "execution_count": 27,
   "metadata": {},
   "outputs": [
    {
     "name": "stderr",
     "output_type": "stream",
     "text": [
      "C:\\ProgramData\\Anaconda3\\lib\\site-packages\\smart_open\\smart_open_lib.py:398: UserWarning: This function is deprecated, use smart_open.open instead. See the migration notes for details: https://github.com/RaRe-Technologies/smart_open/blob/master/README.rst#migrating-to-the-new-open-function\n",
      "  'See the migration notes for details: %s' % _MIGRATION_NOTES_URL\n"
     ]
    }
   ],
   "source": [
    "model.wv.save_word2vec_format(file,binary = False)"
   ]
  },
  {
   "cell_type": "code",
   "execution_count": 28,
   "metadata": {},
   "outputs": [],
   "source": [
    "import os\n",
    "emb = {}\n",
    "f = open(os.path.join('', 'twitter_rumour_detection.txt'), encoding = 'utf-8')\n",
    "for line in f:\n",
    "    values = line.split()\n",
    "    word = values[0]\n",
    "    value = np.asarray(values[1:])\n",
    "    emb[word] = value\n",
    "f.close()"
   ]
  },
  {
   "cell_type": "code",
   "execution_count": 65,
   "metadata": {},
   "outputs": [
    {
     "data": {
      "text/plain": [
       "array(['-0.0036656035', '-0.0034933717', '0.0027291046', '0.0029694631',\n",
       "       '0.0006821127', '-0.0043849368', '-0.001904691', '-0.000556154',\n",
       "       '-0.0010438744', '0.00046008776', '-0.0024303119', '-0.0026369696',\n",
       "       '0.0032461344', '-0.0016403194', '-0.0031485362', '0.0006363612',\n",
       "       '-0.003169945', '-0.0033661874', '-0.0019860577', '0.0025595203',\n",
       "       '-0.0017074316', '0.0011097589', '-0.0022978699', '-0.0005399402',\n",
       "       '-0.003990801', '0.004013372', '0.0040589618', '-0.0037553948',\n",
       "       '0.0013157821', '-0.00348445', '0.0025532125', '-0.0034674297',\n",
       "       '-0.00471611', '-0.002833595', '0.0033768222', '-0.00075920235',\n",
       "       '-0.0014081079', '-0.0015646215', '0.0028387476', '-0.004411316',\n",
       "       '-0.004718894', '-0.00048095922', '-0.0017334935', '-0.00422342',\n",
       "       '-0.003252598', '0.0029053865', '-0.00057052984', '-0.0047646845',\n",
       "       '0.0038434963', '0.00046754754', '0.0034490882', '0.0030214111',\n",
       "       '-0.0020159918', '0.0007333915', '-0.0048030936', '0.0025801621',\n",
       "       '0.003499795', '0.004739667', '0.001066625', '0.0005624649',\n",
       "       '0.0031213614', '-0.0010984904', '0.00014957755', '0.0016858501',\n",
       "       '0.0022309425', '0.0012746891', '0.0049320133', '0.00035670857',\n",
       "       '0.0010517483', '0.0034079405', '-0.00059060135', '-0.0038566755',\n",
       "       '-0.0034697321', '0.0014293889', '0.00063042814', '0.0025572686',\n",
       "       '-0.003024688', '-0.0043881536', '0.0017648307', '-0.0016102243',\n",
       "       '0.0042600036', '0.0023729398', '-0.00090559793', '0.00392815',\n",
       "       '-0.0038526221', '0.002685885', '-0.0015811042', '0.0029270863',\n",
       "       '-0.00044258038', '-0.0026365772', '0.0048512924', '-0.0011157601',\n",
       "       '0.00032937835', '0.0020177853', '-0.00050502934', '-0.0039127613',\n",
       "       '0.0025558693', '0.0016962268', '-0.0031702989', '-0.00069533894'],\n",
       "      dtype='<U14')"
      ]
     },
     "execution_count": 65,
     "metadata": {},
     "output_type": "execute_result"
    }
   ],
   "source": [
    "emb['well']"
   ]
  },
  {
   "cell_type": "code",
   "execution_count": 43,
   "metadata": {},
   "outputs": [
    {
     "name": "stdout",
     "output_type": "stream",
     "text": [
      "unique no of tokens  {'michael': 1, 'essien': 2, 'ebola': 3, 'http': 4, 'unconfirmed': 5, 'reports': 6, 'claim': 7, 'contracted': 8, 'tcovasqrzdlhh': 9, 'ac': 10, 'milan': 11, 'midfielder': 12, 'diagnosed': 13, 'get': 14, 'well': 15, 'soon': 16, 'daily': 17, 'times': 18}\n",
      "Shape of tweet  (2, 26)\n",
      "Shape of rumour  (2,)\n"
     ]
    }
   ],
   "source": [
    "token = Tokenizer()\n",
    "token.fit_on_texts(text)\n",
    "seq = token.texts_to_sequences(text)\n",
    "index = token.word_index\n",
    "print('unique no of tokens ', index)\n",
    "padding = pad_sequences(seq, maxlen = max_len)\n",
    "rumour = df['label'].values\n",
    "print('Shape of tweet ',padding.shape)\n",
    "print('Shape of rumour ', rumour.shape)"
   ]
  },
  {
   "cell_type": "code",
   "execution_count": 71,
   "metadata": {},
   "outputs": [
    {
     "data": {
      "text/plain": [
       "[[5, 6, 7, 1, 2, 8, 3, 4, 9],\n",
       " [10, 11, 12, 1, 2, 13, 3, 14, 15, 16, 1, 17, 18, 4]]"
      ]
     },
     "execution_count": 71,
     "metadata": {},
     "output_type": "execute_result"
    }
   ],
   "source": [
    "seq"
   ]
  },
  {
   "cell_type": "code",
   "execution_count": 66,
   "metadata": {},
   "outputs": [
    {
     "data": {
      "text/plain": [
       "array([[ 0,  0,  0,  0,  0,  0,  0,  0,  0,  0,  0,  0,  0,  0,  0,  0,\n",
       "         0,  5,  6,  7,  1,  2,  8,  3,  4,  9],\n",
       "       [ 0,  0,  0,  0,  0,  0,  0,  0,  0,  0,  0,  0, 10, 11, 12,  1,\n",
       "         2, 13,  3, 14, 15, 16,  1, 17, 18,  4]])"
      ]
     },
     "execution_count": 66,
     "metadata": {},
     "output_type": "execute_result"
    }
   ],
   "source": [
    "padding"
   ]
  },
  {
   "cell_type": "code",
   "execution_count": 67,
   "metadata": {},
   "outputs": [
    {
     "data": {
      "text/plain": [
       "array(['rumour', 'rumour'], dtype=object)"
      ]
     },
     "execution_count": 67,
     "metadata": {},
     "output_type": "execute_result"
    }
   ],
   "source": [
    "rumour"
   ]
  },
  {
   "cell_type": "code",
   "execution_count": 56,
   "metadata": {},
   "outputs": [
    {
     "name": "stdout",
     "output_type": "stream",
     "text": [
      "michael 1\n",
      "essien 2\n",
      "ebola 3\n",
      "http 4\n",
      "unconfirmed 5\n",
      "reports 6\n",
      "claim 7\n",
      "contracted 8\n",
      "tcovasqrzdlhh 9\n",
      "ac 10\n",
      "milan 11\n",
      "midfielder 12\n",
      "diagnosed 13\n",
      "get 14\n",
      "well 15\n",
      "soon 16\n",
      "daily 17\n",
      "times 18\n",
      "19\n"
     ]
    }
   ],
   "source": [
    "n = len(index) + 1\n",
    "embed_mat = np.zeros((n, 100))\n",
    "for s,values in index.items():\n",
    "    print(s,values)\n",
    "    if values>n:\n",
    "        continue\n",
    "    embed_vec = emb.get(s)\n",
    "    if embed_vec is not None:\n",
    "        embed_mat[values] = embed_vec\n",
    "print(n)"
   ]
  },
  {
   "cell_type": "code",
   "execution_count": 113,
   "metadata": {},
   "outputs": [
    {
     "name": "stdout",
     "output_type": "stream",
     "text": [
      "['ac', 'claim', 'contracted', 'daily', 'diagnosed', 'ebola', 'essien', 'get', 'http', 'michael', 'midfielder', 'milan', 'reports', 'soon', 'tcovasqrzdlhh', 'times', 'unconfirmed', 'well']\n"
     ]
    }
   ],
   "source": [
    "sorted_words = sorted(index)\n",
    "print(sorted_words)"
   ]
  },
  {
   "cell_type": "code",
   "execution_count": 120,
   "metadata": {},
   "outputs": [
    {
     "data": {
      "text/plain": [
       "dict_keys(['michael', 'essien', 'ebola', 'http', 'unconfirmed', 'reports', 'claim', 'contracted', 'tcovasqrzdlhh', 'ac', 'milan', 'midfielder', 'diagnosed', 'get', 'well', 'soon', 'daily', 'times'])"
      ]
     },
     "execution_count": 120,
     "metadata": {},
     "output_type": "execute_result"
    }
   ],
   "source": [
    "index.keys()"
   ]
  },
  {
   "cell_type": "markdown",
   "metadata": {},
   "source": [
    "## Map words with their vectors"
   ]
  },
  {
   "cell_type": "code",
   "execution_count": 122,
   "metadata": {},
   "outputs": [],
   "source": [
    "features = {}"
   ]
  },
  {
   "cell_type": "code",
   "execution_count": 207,
   "metadata": {},
   "outputs": [
    {
     "name": "stdout",
     "output_type": "stream",
     "text": [
      "Empty DataFrame\n",
      "Columns: [ac, claim, contracted, daily, diagnosed, ebola, essien, get, http, michael, midfielder, milan, reports, soon, tcovasqrzdlhh, times, unconfirmed, well]\n",
      "Index: []\n"
     ]
    }
   ],
   "source": [
    "feat_df = pd.DataFrame(columns = sorted_words)\n",
    "print(feat_df)"
   ]
  },
  {
   "cell_type": "code",
   "execution_count": 209,
   "metadata": {},
   "outputs": [],
   "source": [
    "for number in padding[0]:\n",
    "    for key,value in index.items():\n",
    "        if number == value:\n",
    "            feat_df[key] = embed_mat[number]          "
   ]
  },
  {
   "cell_type": "code",
   "execution_count": 210,
   "metadata": {},
   "outputs": [],
   "source": [
    "feat_df=feat_df.fillna(0)"
   ]
  },
  {
   "cell_type": "code",
   "execution_count": 211,
   "metadata": {},
   "outputs": [
    {
     "data": {
      "text/html": [
       "<div>\n",
       "<style scoped>\n",
       "    .dataframe tbody tr th:only-of-type {\n",
       "        vertical-align: middle;\n",
       "    }\n",
       "\n",
       "    .dataframe tbody tr th {\n",
       "        vertical-align: top;\n",
       "    }\n",
       "\n",
       "    .dataframe thead th {\n",
       "        text-align: right;\n",
       "    }\n",
       "</style>\n",
       "<table border=\"1\" class=\"dataframe\">\n",
       "  <thead>\n",
       "    <tr style=\"text-align: right;\">\n",
       "      <th></th>\n",
       "      <th>ac</th>\n",
       "      <th>claim</th>\n",
       "      <th>contracted</th>\n",
       "      <th>daily</th>\n",
       "      <th>diagnosed</th>\n",
       "      <th>ebola</th>\n",
       "      <th>essien</th>\n",
       "      <th>get</th>\n",
       "      <th>http</th>\n",
       "      <th>michael</th>\n",
       "      <th>midfielder</th>\n",
       "      <th>milan</th>\n",
       "      <th>reports</th>\n",
       "      <th>soon</th>\n",
       "      <th>tcovasqrzdlhh</th>\n",
       "      <th>times</th>\n",
       "      <th>unconfirmed</th>\n",
       "      <th>well</th>\n",
       "    </tr>\n",
       "  </thead>\n",
       "  <tbody>\n",
       "    <tr>\n",
       "      <th>0</th>\n",
       "      <td>0</td>\n",
       "      <td>-0.003940</td>\n",
       "      <td>-0.002268</td>\n",
       "      <td>0</td>\n",
       "      <td>0</td>\n",
       "      <td>0.000158</td>\n",
       "      <td>-0.000928</td>\n",
       "      <td>0</td>\n",
       "      <td>0.002865</td>\n",
       "      <td>0.001830</td>\n",
       "      <td>0</td>\n",
       "      <td>0</td>\n",
       "      <td>-0.002758</td>\n",
       "      <td>0</td>\n",
       "      <td>-0.003814</td>\n",
       "      <td>0</td>\n",
       "      <td>0.002857</td>\n",
       "      <td>0</td>\n",
       "    </tr>\n",
       "    <tr>\n",
       "      <th>1</th>\n",
       "      <td>0</td>\n",
       "      <td>-0.004180</td>\n",
       "      <td>-0.003963</td>\n",
       "      <td>0</td>\n",
       "      <td>0</td>\n",
       "      <td>0.004262</td>\n",
       "      <td>-0.004889</td>\n",
       "      <td>0</td>\n",
       "      <td>-0.000580</td>\n",
       "      <td>0.003706</td>\n",
       "      <td>0</td>\n",
       "      <td>0</td>\n",
       "      <td>-0.002485</td>\n",
       "      <td>0</td>\n",
       "      <td>0.004780</td>\n",
       "      <td>0</td>\n",
       "      <td>0.000822</td>\n",
       "      <td>0</td>\n",
       "    </tr>\n",
       "    <tr>\n",
       "      <th>2</th>\n",
       "      <td>0</td>\n",
       "      <td>0.000170</td>\n",
       "      <td>-0.004759</td>\n",
       "      <td>0</td>\n",
       "      <td>0</td>\n",
       "      <td>-0.001484</td>\n",
       "      <td>-0.000519</td>\n",
       "      <td>0</td>\n",
       "      <td>0.001385</td>\n",
       "      <td>0.001853</td>\n",
       "      <td>0</td>\n",
       "      <td>0</td>\n",
       "      <td>-0.000143</td>\n",
       "      <td>0</td>\n",
       "      <td>-0.004753</td>\n",
       "      <td>0</td>\n",
       "      <td>-0.004903</td>\n",
       "      <td>0</td>\n",
       "    </tr>\n",
       "    <tr>\n",
       "      <th>3</th>\n",
       "      <td>0</td>\n",
       "      <td>0.001252</td>\n",
       "      <td>-0.004510</td>\n",
       "      <td>0</td>\n",
       "      <td>0</td>\n",
       "      <td>0.002361</td>\n",
       "      <td>0.000553</td>\n",
       "      <td>0</td>\n",
       "      <td>-0.002964</td>\n",
       "      <td>-0.000812</td>\n",
       "      <td>0</td>\n",
       "      <td>0</td>\n",
       "      <td>0.002594</td>\n",
       "      <td>0</td>\n",
       "      <td>-0.001630</td>\n",
       "      <td>0</td>\n",
       "      <td>0.003649</td>\n",
       "      <td>0</td>\n",
       "    </tr>\n",
       "    <tr>\n",
       "      <th>4</th>\n",
       "      <td>0</td>\n",
       "      <td>-0.000376</td>\n",
       "      <td>-0.001853</td>\n",
       "      <td>0</td>\n",
       "      <td>0</td>\n",
       "      <td>0.000477</td>\n",
       "      <td>-0.000296</td>\n",
       "      <td>0</td>\n",
       "      <td>-0.000269</td>\n",
       "      <td>-0.000979</td>\n",
       "      <td>0</td>\n",
       "      <td>0</td>\n",
       "      <td>-0.001486</td>\n",
       "      <td>0</td>\n",
       "      <td>-0.003212</td>\n",
       "      <td>0</td>\n",
       "      <td>0.001430</td>\n",
       "      <td>0</td>\n",
       "    </tr>\n",
       "  </tbody>\n",
       "</table>\n",
       "</div>"
      ],
      "text/plain": [
       "   ac     claim  contracted  daily  diagnosed     ebola    essien  get  \\\n",
       "0  0  -0.003940 -0.002268    0      0          0.000158 -0.000928  0     \n",
       "1  0  -0.004180 -0.003963    0      0          0.004262 -0.004889  0     \n",
       "2  0   0.000170 -0.004759    0      0         -0.001484 -0.000519  0     \n",
       "3  0   0.001252 -0.004510    0      0          0.002361  0.000553  0     \n",
       "4  0  -0.000376 -0.001853    0      0          0.000477 -0.000296  0     \n",
       "\n",
       "       http   michael  midfielder  milan   reports  soon  tcovasqrzdlhh  \\\n",
       "0  0.002865  0.001830  0           0     -0.002758  0    -0.003814        \n",
       "1 -0.000580  0.003706  0           0     -0.002485  0     0.004780        \n",
       "2  0.001385  0.001853  0           0     -0.000143  0    -0.004753        \n",
       "3 -0.002964 -0.000812  0           0      0.002594  0    -0.001630        \n",
       "4 -0.000269 -0.000979  0           0     -0.001486  0    -0.003212        \n",
       "\n",
       "   times  unconfirmed  well  \n",
       "0  0      0.002857     0     \n",
       "1  0      0.000822     0     \n",
       "2  0     -0.004903     0     \n",
       "3  0      0.003649     0     \n",
       "4  0      0.001430     0     "
      ]
     },
     "execution_count": 211,
     "metadata": {},
     "output_type": "execute_result"
    }
   ],
   "source": [
    "feat_df.head()"
   ]
  },
  {
   "cell_type": "code",
   "execution_count": 212,
   "metadata": {},
   "outputs": [],
   "source": [
    "feat_df2 = pd.DataFrame(columns = sorted_words)\n",
    "for number in padding[1]:\n",
    "    for key,value in index.items():\n",
    "        if number == value:\n",
    "            feat_df2[key] = embed_mat[number]"
   ]
  },
  {
   "cell_type": "code",
   "execution_count": 214,
   "metadata": {},
   "outputs": [
    {
     "data": {
      "text/html": [
       "<div>\n",
       "<style scoped>\n",
       "    .dataframe tbody tr th:only-of-type {\n",
       "        vertical-align: middle;\n",
       "    }\n",
       "\n",
       "    .dataframe tbody tr th {\n",
       "        vertical-align: top;\n",
       "    }\n",
       "\n",
       "    .dataframe thead th {\n",
       "        text-align: right;\n",
       "    }\n",
       "</style>\n",
       "<table border=\"1\" class=\"dataframe\">\n",
       "  <thead>\n",
       "    <tr style=\"text-align: right;\">\n",
       "      <th></th>\n",
       "      <th>ac</th>\n",
       "      <th>claim</th>\n",
       "      <th>contracted</th>\n",
       "      <th>daily</th>\n",
       "      <th>diagnosed</th>\n",
       "      <th>ebola</th>\n",
       "      <th>essien</th>\n",
       "      <th>get</th>\n",
       "      <th>http</th>\n",
       "      <th>michael</th>\n",
       "      <th>midfielder</th>\n",
       "      <th>milan</th>\n",
       "      <th>reports</th>\n",
       "      <th>soon</th>\n",
       "      <th>tcovasqrzdlhh</th>\n",
       "      <th>times</th>\n",
       "      <th>unconfirmed</th>\n",
       "      <th>well</th>\n",
       "    </tr>\n",
       "  </thead>\n",
       "  <tbody>\n",
       "    <tr>\n",
       "      <th>0</th>\n",
       "      <td>-0.000201</td>\n",
       "      <td>0</td>\n",
       "      <td>0</td>\n",
       "      <td>0.003977</td>\n",
       "      <td>-0.002617</td>\n",
       "      <td>0.000158</td>\n",
       "      <td>-0.000928</td>\n",
       "      <td>0.004802</td>\n",
       "      <td>0.002865</td>\n",
       "      <td>0.001830</td>\n",
       "      <td>0.001428</td>\n",
       "      <td>-0.000641</td>\n",
       "      <td>0</td>\n",
       "      <td>-0.000731</td>\n",
       "      <td>0</td>\n",
       "      <td>0.001316</td>\n",
       "      <td>0</td>\n",
       "      <td>-0.003666</td>\n",
       "    </tr>\n",
       "    <tr>\n",
       "      <th>1</th>\n",
       "      <td>0.001994</td>\n",
       "      <td>0</td>\n",
       "      <td>0</td>\n",
       "      <td>-0.002627</td>\n",
       "      <td>0.003199</td>\n",
       "      <td>0.004262</td>\n",
       "      <td>-0.004889</td>\n",
       "      <td>0.002610</td>\n",
       "      <td>-0.000580</td>\n",
       "      <td>0.003706</td>\n",
       "      <td>-0.001335</td>\n",
       "      <td>-0.001172</td>\n",
       "      <td>0</td>\n",
       "      <td>-0.002690</td>\n",
       "      <td>0</td>\n",
       "      <td>-0.000392</td>\n",
       "      <td>0</td>\n",
       "      <td>-0.003493</td>\n",
       "    </tr>\n",
       "    <tr>\n",
       "      <th>2</th>\n",
       "      <td>-0.000635</td>\n",
       "      <td>0</td>\n",
       "      <td>0</td>\n",
       "      <td>-0.003224</td>\n",
       "      <td>-0.003082</td>\n",
       "      <td>-0.001484</td>\n",
       "      <td>-0.000519</td>\n",
       "      <td>0.004060</td>\n",
       "      <td>0.001385</td>\n",
       "      <td>0.001853</td>\n",
       "      <td>-0.000303</td>\n",
       "      <td>-0.002724</td>\n",
       "      <td>0</td>\n",
       "      <td>0.001109</td>\n",
       "      <td>0</td>\n",
       "      <td>0.004700</td>\n",
       "      <td>0</td>\n",
       "      <td>0.002729</td>\n",
       "    </tr>\n",
       "    <tr>\n",
       "      <th>3</th>\n",
       "      <td>-0.002786</td>\n",
       "      <td>0</td>\n",
       "      <td>0</td>\n",
       "      <td>0.000482</td>\n",
       "      <td>0.001658</td>\n",
       "      <td>0.002361</td>\n",
       "      <td>0.000553</td>\n",
       "      <td>-0.004065</td>\n",
       "      <td>-0.002964</td>\n",
       "      <td>-0.000812</td>\n",
       "      <td>0.004470</td>\n",
       "      <td>-0.001948</td>\n",
       "      <td>0</td>\n",
       "      <td>-0.002944</td>\n",
       "      <td>0</td>\n",
       "      <td>0.004073</td>\n",
       "      <td>0</td>\n",
       "      <td>0.002969</td>\n",
       "    </tr>\n",
       "    <tr>\n",
       "      <th>4</th>\n",
       "      <td>-0.001580</td>\n",
       "      <td>0</td>\n",
       "      <td>0</td>\n",
       "      <td>0.001554</td>\n",
       "      <td>-0.004154</td>\n",
       "      <td>0.000477</td>\n",
       "      <td>-0.000296</td>\n",
       "      <td>0.003022</td>\n",
       "      <td>-0.000269</td>\n",
       "      <td>-0.000979</td>\n",
       "      <td>-0.003026</td>\n",
       "      <td>-0.004038</td>\n",
       "      <td>0</td>\n",
       "      <td>0.000644</td>\n",
       "      <td>0</td>\n",
       "      <td>-0.004475</td>\n",
       "      <td>0</td>\n",
       "      <td>0.000682</td>\n",
       "    </tr>\n",
       "  </tbody>\n",
       "</table>\n",
       "</div>"
      ],
      "text/plain": [
       "         ac  claim  contracted     daily  diagnosed     ebola    essien  \\\n",
       "0 -0.000201  0      0           0.003977 -0.002617   0.000158 -0.000928   \n",
       "1  0.001994  0      0          -0.002627  0.003199   0.004262 -0.004889   \n",
       "2 -0.000635  0      0          -0.003224 -0.003082  -0.001484 -0.000519   \n",
       "3 -0.002786  0      0           0.000482  0.001658   0.002361  0.000553   \n",
       "4 -0.001580  0      0           0.001554 -0.004154   0.000477 -0.000296   \n",
       "\n",
       "        get      http   michael  midfielder     milan  reports      soon  \\\n",
       "0  0.004802  0.002865  0.001830  0.001428   -0.000641  0       -0.000731   \n",
       "1  0.002610 -0.000580  0.003706 -0.001335   -0.001172  0       -0.002690   \n",
       "2  0.004060  0.001385  0.001853 -0.000303   -0.002724  0        0.001109   \n",
       "3 -0.004065 -0.002964 -0.000812  0.004470   -0.001948  0       -0.002944   \n",
       "4  0.003022 -0.000269 -0.000979 -0.003026   -0.004038  0        0.000644   \n",
       "\n",
       "   tcovasqrzdlhh     times  unconfirmed      well  \n",
       "0  0              0.001316  0           -0.003666  \n",
       "1  0             -0.000392  0           -0.003493  \n",
       "2  0              0.004700  0            0.002729  \n",
       "3  0              0.004073  0            0.002969  \n",
       "4  0             -0.004475  0            0.000682  "
      ]
     },
     "execution_count": 214,
     "metadata": {},
     "output_type": "execute_result"
    }
   ],
   "source": [
    "feat_df2=feat_df2.fillna(0)\n",
    "feat_df2.head()"
   ]
  },
  {
   "cell_type": "markdown",
   "metadata": {},
   "source": [
    "## Combining Features into 1 dataframe"
   ]
  },
  {
   "cell_type": "code",
   "execution_count": 215,
   "metadata": {},
   "outputs": [],
   "source": [
    "features_matrix = pd.DataFrame()"
   ]
  },
  {
   "cell_type": "code",
   "execution_count": 216,
   "metadata": {},
   "outputs": [],
   "source": [
    "# Sum of 100 dimensions of 1 word\n",
    "feature_1 = feat_df.sum(axis=0)"
   ]
  },
  {
   "cell_type": "code",
   "execution_count": 217,
   "metadata": {},
   "outputs": [
    {
     "data": {
      "text/plain": [
       "ac               0.000000\n",
       "claim            0.045397\n",
       "contracted      -0.011764\n",
       "daily            0.000000\n",
       "diagnosed        0.000000\n",
       "ebola           -0.013614\n",
       "essien          -0.000930\n",
       "get              0.000000\n",
       "http             0.000203\n",
       "michael          0.003598\n",
       "midfielder       0.000000\n",
       "milan            0.000000\n",
       "reports          0.030638\n",
       "soon             0.000000\n",
       "tcovasqrzdlhh    0.037160\n",
       "times            0.000000\n",
       "unconfirmed      0.003274\n",
       "well             0.000000\n",
       "dtype: float64"
      ]
     },
     "execution_count": 217,
     "metadata": {},
     "output_type": "execute_result"
    }
   ],
   "source": [
    "feature_1"
   ]
  },
  {
   "cell_type": "code",
   "execution_count": 218,
   "metadata": {},
   "outputs": [],
   "source": [
    "feature_2 = feat_df2.sum(axis = 0)"
   ]
  },
  {
   "cell_type": "code",
   "execution_count": 219,
   "metadata": {},
   "outputs": [],
   "source": [
    "temp = [feature_1, feature_2]"
   ]
  },
  {
   "cell_type": "code",
   "execution_count": 220,
   "metadata": {},
   "outputs": [],
   "source": [
    "features_matrix = pd.concat(temp, axis = 1)"
   ]
  },
  {
   "cell_type": "code",
   "execution_count": 221,
   "metadata": {},
   "outputs": [
    {
     "data": {
      "text/html": [
       "<div>\n",
       "<style scoped>\n",
       "    .dataframe tbody tr th:only-of-type {\n",
       "        vertical-align: middle;\n",
       "    }\n",
       "\n",
       "    .dataframe tbody tr th {\n",
       "        vertical-align: top;\n",
       "    }\n",
       "\n",
       "    .dataframe thead th {\n",
       "        text-align: right;\n",
       "    }\n",
       "</style>\n",
       "<table border=\"1\" class=\"dataframe\">\n",
       "  <thead>\n",
       "    <tr style=\"text-align: right;\">\n",
       "      <th></th>\n",
       "      <th>0</th>\n",
       "      <th>1</th>\n",
       "    </tr>\n",
       "  </thead>\n",
       "  <tbody>\n",
       "    <tr>\n",
       "      <th>ac</th>\n",
       "      <td>0.000000</td>\n",
       "      <td>-0.019648</td>\n",
       "    </tr>\n",
       "    <tr>\n",
       "      <th>claim</th>\n",
       "      <td>0.045397</td>\n",
       "      <td>0.000000</td>\n",
       "    </tr>\n",
       "    <tr>\n",
       "      <th>contracted</th>\n",
       "      <td>-0.011764</td>\n",
       "      <td>0.000000</td>\n",
       "    </tr>\n",
       "    <tr>\n",
       "      <th>daily</th>\n",
       "      <td>0.000000</td>\n",
       "      <td>0.010852</td>\n",
       "    </tr>\n",
       "    <tr>\n",
       "      <th>diagnosed</th>\n",
       "      <td>0.000000</td>\n",
       "      <td>-0.036406</td>\n",
       "    </tr>\n",
       "    <tr>\n",
       "      <th>ebola</th>\n",
       "      <td>-0.013614</td>\n",
       "      <td>-0.013614</td>\n",
       "    </tr>\n",
       "    <tr>\n",
       "      <th>essien</th>\n",
       "      <td>-0.000930</td>\n",
       "      <td>-0.000930</td>\n",
       "    </tr>\n",
       "    <tr>\n",
       "      <th>get</th>\n",
       "      <td>0.000000</td>\n",
       "      <td>0.028336</td>\n",
       "    </tr>\n",
       "    <tr>\n",
       "      <th>http</th>\n",
       "      <td>0.000203</td>\n",
       "      <td>0.000203</td>\n",
       "    </tr>\n",
       "    <tr>\n",
       "      <th>michael</th>\n",
       "      <td>0.003598</td>\n",
       "      <td>0.003598</td>\n",
       "    </tr>\n",
       "    <tr>\n",
       "      <th>midfielder</th>\n",
       "      <td>0.000000</td>\n",
       "      <td>-0.004573</td>\n",
       "    </tr>\n",
       "    <tr>\n",
       "      <th>milan</th>\n",
       "      <td>0.000000</td>\n",
       "      <td>-0.001921</td>\n",
       "    </tr>\n",
       "    <tr>\n",
       "      <th>reports</th>\n",
       "      <td>0.030638</td>\n",
       "      <td>0.000000</td>\n",
       "    </tr>\n",
       "    <tr>\n",
       "      <th>soon</th>\n",
       "      <td>0.000000</td>\n",
       "      <td>-0.016163</td>\n",
       "    </tr>\n",
       "    <tr>\n",
       "      <th>tcovasqrzdlhh</th>\n",
       "      <td>0.037160</td>\n",
       "      <td>0.000000</td>\n",
       "    </tr>\n",
       "    <tr>\n",
       "      <th>times</th>\n",
       "      <td>0.000000</td>\n",
       "      <td>0.051274</td>\n",
       "    </tr>\n",
       "    <tr>\n",
       "      <th>unconfirmed</th>\n",
       "      <td>0.003274</td>\n",
       "      <td>0.000000</td>\n",
       "    </tr>\n",
       "    <tr>\n",
       "      <th>well</th>\n",
       "      <td>0.000000</td>\n",
       "      <td>-0.020147</td>\n",
       "    </tr>\n",
       "  </tbody>\n",
       "</table>\n",
       "</div>"
      ],
      "text/plain": [
       "                      0         1\n",
       "ac             0.000000 -0.019648\n",
       "claim          0.045397  0.000000\n",
       "contracted    -0.011764  0.000000\n",
       "daily          0.000000  0.010852\n",
       "diagnosed      0.000000 -0.036406\n",
       "ebola         -0.013614 -0.013614\n",
       "essien        -0.000930 -0.000930\n",
       "get            0.000000  0.028336\n",
       "http           0.000203  0.000203\n",
       "michael        0.003598  0.003598\n",
       "midfielder     0.000000 -0.004573\n",
       "milan          0.000000 -0.001921\n",
       "reports        0.030638  0.000000\n",
       "soon           0.000000 -0.016163\n",
       "tcovasqrzdlhh  0.037160  0.000000\n",
       "times          0.000000  0.051274\n",
       "unconfirmed    0.003274  0.000000\n",
       "well           0.000000 -0.020147"
      ]
     },
     "execution_count": 221,
     "metadata": {},
     "output_type": "execute_result"
    }
   ],
   "source": [
    "features_matrix"
   ]
  },
  {
   "cell_type": "code",
   "execution_count": 272,
   "metadata": {},
   "outputs": [],
   "source": [
    "features_matrix2 = pd.DataFrame(data = features_matrix)"
   ]
  },
  {
   "cell_type": "code",
   "execution_count": 273,
   "metadata": {},
   "outputs": [],
   "source": [
    "features_matrix2 = features_matrix2.transpose()"
   ]
  },
  {
   "cell_type": "code",
   "execution_count": 274,
   "metadata": {},
   "outputs": [],
   "source": [
    "features_matrix2['rumour'] = 1"
   ]
  },
  {
   "cell_type": "code",
   "execution_count": 275,
   "metadata": {},
   "outputs": [
    {
     "data": {
      "text/html": [
       "<div>\n",
       "<style scoped>\n",
       "    .dataframe tbody tr th:only-of-type {\n",
       "        vertical-align: middle;\n",
       "    }\n",
       "\n",
       "    .dataframe tbody tr th {\n",
       "        vertical-align: top;\n",
       "    }\n",
       "\n",
       "    .dataframe thead th {\n",
       "        text-align: right;\n",
       "    }\n",
       "</style>\n",
       "<table border=\"1\" class=\"dataframe\">\n",
       "  <thead>\n",
       "    <tr style=\"text-align: right;\">\n",
       "      <th></th>\n",
       "      <th>ac</th>\n",
       "      <th>claim</th>\n",
       "      <th>contracted</th>\n",
       "      <th>daily</th>\n",
       "      <th>diagnosed</th>\n",
       "      <th>ebola</th>\n",
       "      <th>essien</th>\n",
       "      <th>get</th>\n",
       "      <th>http</th>\n",
       "      <th>michael</th>\n",
       "      <th>midfielder</th>\n",
       "      <th>milan</th>\n",
       "      <th>reports</th>\n",
       "      <th>soon</th>\n",
       "      <th>tcovasqrzdlhh</th>\n",
       "      <th>times</th>\n",
       "      <th>unconfirmed</th>\n",
       "      <th>well</th>\n",
       "      <th>rumour</th>\n",
       "    </tr>\n",
       "  </thead>\n",
       "  <tbody>\n",
       "    <tr>\n",
       "      <th>0</th>\n",
       "      <td>0.000000</td>\n",
       "      <td>0.045397</td>\n",
       "      <td>-0.011764</td>\n",
       "      <td>0.000000</td>\n",
       "      <td>0.000000</td>\n",
       "      <td>-0.013614</td>\n",
       "      <td>-0.00093</td>\n",
       "      <td>0.000000</td>\n",
       "      <td>0.000203</td>\n",
       "      <td>0.003598</td>\n",
       "      <td>0.000000</td>\n",
       "      <td>0.000000</td>\n",
       "      <td>0.030638</td>\n",
       "      <td>0.000000</td>\n",
       "      <td>0.03716</td>\n",
       "      <td>0.000000</td>\n",
       "      <td>0.003274</td>\n",
       "      <td>0.000000</td>\n",
       "      <td>1</td>\n",
       "    </tr>\n",
       "    <tr>\n",
       "      <th>1</th>\n",
       "      <td>-0.019648</td>\n",
       "      <td>0.000000</td>\n",
       "      <td>0.000000</td>\n",
       "      <td>0.010852</td>\n",
       "      <td>-0.036406</td>\n",
       "      <td>-0.013614</td>\n",
       "      <td>-0.00093</td>\n",
       "      <td>0.028336</td>\n",
       "      <td>0.000203</td>\n",
       "      <td>0.003598</td>\n",
       "      <td>-0.004573</td>\n",
       "      <td>-0.001921</td>\n",
       "      <td>0.000000</td>\n",
       "      <td>-0.016163</td>\n",
       "      <td>0.00000</td>\n",
       "      <td>0.051274</td>\n",
       "      <td>0.000000</td>\n",
       "      <td>-0.020147</td>\n",
       "      <td>1</td>\n",
       "    </tr>\n",
       "  </tbody>\n",
       "</table>\n",
       "</div>"
      ],
      "text/plain": [
       "         ac     claim  contracted     daily  diagnosed     ebola   essien  \\\n",
       "0  0.000000  0.045397 -0.011764    0.000000  0.000000  -0.013614 -0.00093   \n",
       "1 -0.019648  0.000000  0.000000    0.010852 -0.036406  -0.013614 -0.00093   \n",
       "\n",
       "        get      http   michael  midfielder     milan   reports      soon  \\\n",
       "0  0.000000  0.000203  0.003598  0.000000    0.000000  0.030638  0.000000   \n",
       "1  0.028336  0.000203  0.003598 -0.004573   -0.001921  0.000000 -0.016163   \n",
       "\n",
       "   tcovasqrzdlhh     times  unconfirmed      well  rumour  \n",
       "0  0.03716        0.000000  0.003274     0.000000  1       \n",
       "1  0.00000        0.051274  0.000000    -0.020147  1       "
      ]
     },
     "execution_count": 275,
     "metadata": {},
     "output_type": "execute_result"
    }
   ],
   "source": [
    "features_matrix2"
   ]
  },
  {
   "cell_type": "code",
   "execution_count": 286,
   "metadata": {},
   "outputs": [],
   "source": [
    "features_matrix2.iloc[0,-1] = 0"
   ]
  },
  {
   "cell_type": "code",
   "execution_count": 287,
   "metadata": {},
   "outputs": [
    {
     "data": {
      "text/html": [
       "<div>\n",
       "<style scoped>\n",
       "    .dataframe tbody tr th:only-of-type {\n",
       "        vertical-align: middle;\n",
       "    }\n",
       "\n",
       "    .dataframe tbody tr th {\n",
       "        vertical-align: top;\n",
       "    }\n",
       "\n",
       "    .dataframe thead th {\n",
       "        text-align: right;\n",
       "    }\n",
       "</style>\n",
       "<table border=\"1\" class=\"dataframe\">\n",
       "  <thead>\n",
       "    <tr style=\"text-align: right;\">\n",
       "      <th></th>\n",
       "      <th>ac</th>\n",
       "      <th>claim</th>\n",
       "      <th>contracted</th>\n",
       "      <th>daily</th>\n",
       "      <th>diagnosed</th>\n",
       "      <th>ebola</th>\n",
       "      <th>essien</th>\n",
       "      <th>get</th>\n",
       "      <th>http</th>\n",
       "      <th>michael</th>\n",
       "      <th>midfielder</th>\n",
       "      <th>milan</th>\n",
       "      <th>reports</th>\n",
       "      <th>soon</th>\n",
       "      <th>tcovasqrzdlhh</th>\n",
       "      <th>times</th>\n",
       "      <th>unconfirmed</th>\n",
       "      <th>well</th>\n",
       "      <th>rumour</th>\n",
       "    </tr>\n",
       "  </thead>\n",
       "  <tbody>\n",
       "    <tr>\n",
       "      <th>0</th>\n",
       "      <td>0.000000</td>\n",
       "      <td>0.045397</td>\n",
       "      <td>-0.011764</td>\n",
       "      <td>0.000000</td>\n",
       "      <td>0.000000</td>\n",
       "      <td>-0.013614</td>\n",
       "      <td>-0.00093</td>\n",
       "      <td>0.000000</td>\n",
       "      <td>0.000203</td>\n",
       "      <td>0.003598</td>\n",
       "      <td>0.000000</td>\n",
       "      <td>0.000000</td>\n",
       "      <td>0.030638</td>\n",
       "      <td>0.000000</td>\n",
       "      <td>0.03716</td>\n",
       "      <td>0.000000</td>\n",
       "      <td>0.003274</td>\n",
       "      <td>0.000000</td>\n",
       "      <td>0</td>\n",
       "    </tr>\n",
       "    <tr>\n",
       "      <th>1</th>\n",
       "      <td>-0.019648</td>\n",
       "      <td>0.000000</td>\n",
       "      <td>0.000000</td>\n",
       "      <td>0.010852</td>\n",
       "      <td>-0.036406</td>\n",
       "      <td>-0.013614</td>\n",
       "      <td>-0.00093</td>\n",
       "      <td>0.028336</td>\n",
       "      <td>0.000203</td>\n",
       "      <td>0.003598</td>\n",
       "      <td>-0.004573</td>\n",
       "      <td>-0.001921</td>\n",
       "      <td>0.000000</td>\n",
       "      <td>-0.016163</td>\n",
       "      <td>0.00000</td>\n",
       "      <td>0.051274</td>\n",
       "      <td>0.000000</td>\n",
       "      <td>-0.020147</td>\n",
       "      <td>1</td>\n",
       "    </tr>\n",
       "  </tbody>\n",
       "</table>\n",
       "</div>"
      ],
      "text/plain": [
       "         ac     claim  contracted     daily  diagnosed     ebola   essien  \\\n",
       "0  0.000000  0.045397 -0.011764    0.000000  0.000000  -0.013614 -0.00093   \n",
       "1 -0.019648  0.000000  0.000000    0.010852 -0.036406  -0.013614 -0.00093   \n",
       "\n",
       "        get      http   michael  midfielder     milan   reports      soon  \\\n",
       "0  0.000000  0.000203  0.003598  0.000000    0.000000  0.030638  0.000000   \n",
       "1  0.028336  0.000203  0.003598 -0.004573   -0.001921  0.000000 -0.016163   \n",
       "\n",
       "   tcovasqrzdlhh     times  unconfirmed      well  rumour  \n",
       "0  0.03716        0.000000  0.003274     0.000000  0       \n",
       "1  0.00000        0.051274  0.000000    -0.020147  1       "
      ]
     },
     "execution_count": 287,
     "metadata": {},
     "output_type": "execute_result"
    }
   ],
   "source": [
    "features_matrix2"
   ]
  },
  {
   "cell_type": "markdown",
   "metadata": {},
   "source": [
    "## Split Data into training and testing"
   ]
  },
  {
   "cell_type": "code",
   "execution_count": 288,
   "metadata": {},
   "outputs": [],
   "source": [
    "X_train = features_matrix2.iloc[:,:-1].values\n",
    "y_train = features_matrix2.iloc[:,-1].values\n",
    "X_test = features_matrix2.iloc[:,:-1].values\n",
    "y_test = features_matrix2.iloc[::,-1].values"
   ]
  },
  {
   "cell_type": "markdown",
   "metadata": {},
   "source": [
    "## Classifier - Logistic Regression"
   ]
  },
  {
   "cell_type": "code",
   "execution_count": 289,
   "metadata": {},
   "outputs": [],
   "source": [
    "from sklearn.linear_model import LogisticRegression"
   ]
  },
  {
   "cell_type": "code",
   "execution_count": 290,
   "metadata": {},
   "outputs": [
    {
     "name": "stderr",
     "output_type": "stream",
     "text": [
      "C:\\ProgramData\\Anaconda3\\lib\\site-packages\\sklearn\\linear_model\\logistic.py:433: FutureWarning: Default solver will be changed to 'lbfgs' in 0.22. Specify a solver to silence this warning.\n",
      "  FutureWarning)\n"
     ]
    }
   ],
   "source": [
    "clf = LogisticRegression(random_state=0).fit(X_train, y_train)"
   ]
  },
  {
   "cell_type": "code",
   "execution_count": 345,
   "metadata": {},
   "outputs": [],
   "source": [
    "y_pred = clf.predict(X_test[:2, :])"
   ]
  },
  {
   "cell_type": "markdown",
   "metadata": {},
   "source": [
    "## Accuracy"
   ]
  },
  {
   "cell_type": "code",
   "execution_count": 346,
   "metadata": {},
   "outputs": [
    {
     "data": {
      "text/plain": [
       "1.0"
      ]
     },
     "execution_count": 346,
     "metadata": {},
     "output_type": "execute_result"
    }
   ],
   "source": [
    "clf.score(X_test, y_test)"
   ]
  },
  {
   "cell_type": "markdown",
   "metadata": {},
   "source": [
    "## Evaluating Results"
   ]
  },
  {
   "cell_type": "code",
   "execution_count": 349,
   "metadata": {},
   "outputs": [
    {
     "name": "stdout",
     "output_type": "stream",
     "text": [
      "              precision    recall  f1-score   support\n",
      "\n",
      "           0       1.00      1.00      1.00         1\n",
      "           1       1.00      1.00      1.00         1\n",
      "\n",
      "   micro avg       1.00      1.00      1.00         2\n",
      "   macro avg       1.00      1.00      1.00         2\n",
      "weighted avg       1.00      1.00      1.00         2\n",
      "\n",
      "Confusion matrix \n",
      "    0  1\n",
      "0  1  0\n",
      "1  0  1\n"
     ]
    }
   ],
   "source": [
    "from sklearn.metrics import precision_recall_fscore_support\n",
    "recall_logistic = precision_recall_fscore_support(y_test, y_pred)\n",
    "\n",
    "from sklearn.metrics import classification_report\n",
    "\n",
    "print(classification_report(y_test, y_pred))\n",
    "\n",
    "from sklearn.metrics import confusion_matrix\n",
    "confusion_mat = pd.DataFrame(confusion_matrix(y_test, y_pred))\n",
    "\n",
    "print('Confusion matrix \\n',confusion_mat)"
   ]
  },
  {
   "cell_type": "markdown",
   "metadata": {},
   "source": [
    "## Visualization"
   ]
  },
  {
   "cell_type": "code",
   "execution_count": 322,
   "metadata": {},
   "outputs": [],
   "source": [
    "df2 = df.apply(lambda x: ','.join(x.astype(str)), axis=1)"
   ]
  },
  {
   "cell_type": "code",
   "execution_count": 323,
   "metadata": {},
   "outputs": [
    {
     "data": {
      "text/plain": [
       "0    Unconfirmed reports claim that Michael Essien has contracted Ebola. http://t.co/VASQrZdLhH                                   \n",
       "2    AC Milan midfielder Michael Essien has been diagnosed with Ebola. Get well soon Michael. [Daily Times] http://t.co/r6y8d9HMAw\n",
       "dtype: object"
      ]
     },
     "execution_count": 323,
     "metadata": {},
     "output_type": "execute_result"
    }
   ],
   "source": [
    "df2.head()"
   ]
  },
  {
   "cell_type": "code",
   "execution_count": 324,
   "metadata": {},
   "outputs": [],
   "source": [
    "clean = pd.DataFrame({'clean': df2})"
   ]
  },
  {
   "cell_type": "code",
   "execution_count": 325,
   "metadata": {},
   "outputs": [
    {
     "data": {
      "text/html": [
       "<div>\n",
       "<style scoped>\n",
       "    .dataframe tbody tr th:only-of-type {\n",
       "        vertical-align: middle;\n",
       "    }\n",
       "\n",
       "    .dataframe tbody tr th {\n",
       "        vertical-align: top;\n",
       "    }\n",
       "\n",
       "    .dataframe thead th {\n",
       "        text-align: right;\n",
       "    }\n",
       "</style>\n",
       "<table border=\"1\" class=\"dataframe\">\n",
       "  <thead>\n",
       "    <tr style=\"text-align: right;\">\n",
       "      <th></th>\n",
       "      <th>clean</th>\n",
       "    </tr>\n",
       "  </thead>\n",
       "  <tbody>\n",
       "    <tr>\n",
       "      <th>0</th>\n",
       "      <td>Unconfirmed reports claim that Michael Essien has contracted Ebola. http://t.co/VASQrZdLhH</td>\n",
       "    </tr>\n",
       "    <tr>\n",
       "      <th>2</th>\n",
       "      <td>AC Milan midfielder Michael Essien has been diagnosed with Ebola. Get well soon Michael. [Daily Times] http://t.co/r6y8d9HMAw</td>\n",
       "    </tr>\n",
       "  </tbody>\n",
       "</table>\n",
       "</div>"
      ],
      "text/plain": [
       "                                                                                                                           clean\n",
       "0  Unconfirmed reports claim that Michael Essien has contracted Ebola. http://t.co/VASQrZdLhH                                   \n",
       "2  AC Milan midfielder Michael Essien has been diagnosed with Ebola. Get well soon Michael. [Daily Times] http://t.co/r6y8d9HMAw"
      ]
     },
     "execution_count": 325,
     "metadata": {},
     "output_type": "execute_result"
    }
   ],
   "source": [
    "clean.head()"
   ]
  },
  {
   "cell_type": "code",
   "execution_count": 326,
   "metadata": {},
   "outputs": [],
   "source": [
    "sentences = [row.split() for row in clean['clean']]"
   ]
  },
  {
   "cell_type": "code",
   "execution_count": 328,
   "metadata": {},
   "outputs": [
    {
     "data": {
      "text/plain": [
       "['AC',\n",
       " 'Milan',\n",
       " 'midfielder',\n",
       " 'Michael',\n",
       " 'Essien',\n",
       " 'has',\n",
       " 'been',\n",
       " 'diagnosed',\n",
       " 'with',\n",
       " 'Ebola.',\n",
       " 'Get',\n",
       " 'well',\n",
       " 'soon',\n",
       " 'Michael.',\n",
       " '[Daily',\n",
       " 'Times]',\n",
       " 'http://t.co/r6y8d9HMAw']"
      ]
     },
     "execution_count": 328,
     "metadata": {},
     "output_type": "execute_result"
    }
   ],
   "source": [
    "sentences[1]"
   ]
  },
  {
   "cell_type": "code",
   "execution_count": 329,
   "metadata": {},
   "outputs": [],
   "source": [
    "from gensim.models import Word2Vec"
   ]
  },
  {
   "cell_type": "code",
   "execution_count": 330,
   "metadata": {},
   "outputs": [],
   "source": [
    "model = Word2Vec(sentences, min_count=1,size= 50,workers=3, window =3, sg = 1)"
   ]
  },
  {
   "cell_type": "code",
   "execution_count": 333,
   "metadata": {},
   "outputs": [
    {
     "name": "stderr",
     "output_type": "stream",
     "text": [
      "C:\\ProgramData\\Anaconda3\\lib\\site-packages\\ipykernel_launcher.py:1: DeprecationWarning: Call to deprecated `__getitem__` (Method will be removed in 4.0.0, use self.wv.__getitem__() instead).\n",
      "  \"\"\"Entry point for launching an IPython kernel.\n"
     ]
    },
    {
     "data": {
      "text/plain": [
       "array([-0.00788122, -0.00835993,  0.00034104,  0.00250654, -0.00075239,\n",
       "        0.00781546, -0.00023437, -0.00582905, -0.0031588 , -0.000184  ,\n",
       "        0.00532991, -0.0037102 , -0.00566395,  0.00891069,  0.00978824,\n",
       "        0.00438428, -0.00871994,  0.00575956,  0.0045688 ,  0.00845949,\n",
       "        0.00513881, -0.00397249,  0.00705167,  0.00171233, -0.00014406,\n",
       "        0.0023822 ,  0.00013113,  0.00979489, -0.00429694,  0.00393549,\n",
       "        0.00640579, -0.00409115, -0.00704814, -0.00326314,  0.00453377,\n",
       "       -0.00657399,  0.0024477 , -0.00633929, -0.00599381,  0.00764022,\n",
       "       -0.00309808,  0.00719237,  0.00803396, -0.00187958,  0.00553839,\n",
       "        0.00794358, -0.00456717,  0.00137549,  0.00570483, -0.00960855],\n",
       "      dtype=float32)"
      ]
     },
     "execution_count": 333,
     "metadata": {},
     "output_type": "execute_result"
    }
   ],
   "source": [
    "model['claim']"
   ]
  },
  {
   "cell_type": "code",
   "execution_count": 334,
   "metadata": {},
   "outputs": [],
   "source": [
    "import matplotlib.pyplot as plt"
   ]
  },
  {
   "cell_type": "code",
   "execution_count": 335,
   "metadata": {},
   "outputs": [],
   "source": [
    "from sklearn.manifold import TSNE"
   ]
  },
  {
   "cell_type": "code",
   "execution_count": 337,
   "metadata": {},
   "outputs": [
    {
     "name": "stderr",
     "output_type": "stream",
     "text": [
      "C:\\ProgramData\\Anaconda3\\lib\\site-packages\\ipykernel_launcher.py:6: DeprecationWarning: Call to deprecated `similar_by_word` (Method will be removed in 4.0.0, use self.wv.similar_by_word() instead).\n",
      "  \n",
      "C:\\ProgramData\\Anaconda3\\lib\\site-packages\\ipykernel_launcher.py:7: DeprecationWarning: Call to deprecated `__getitem__` (Method will be removed in 4.0.0, use self.wv.__getitem__() instead).\n",
      "  import sys\n",
      "C:\\ProgramData\\Anaconda3\\lib\\site-packages\\ipykernel_launcher.py:9: DeprecationWarning: Call to deprecated `__getitem__` (Method will be removed in 4.0.0, use self.wv.__getitem__() instead).\n",
      "  if __name__ == '__main__':\n"
     ]
    },
    {
     "data": {
      "image/png": "[encoded data removed]",
      "text/plain": [
       "<Figure size 432x288 with 1 Axes>"
      ]
     },
     "metadata": {
      "needs_background": "light"
     },
     "output_type": "display_data"
    },
    {
     "data": {
      "image/png": "[encoded data removed]",
      "text/plain": [
       "<Figure size 432x288 with 1 Axes>"
      ]
     },
     "metadata": {
      "needs_background": "light"
     },
     "output_type": "display_data"
    },
    {
     "data": {
      "image/png": "[encoded data removed]",
      "text/plain": [
       "<Figure size 432x288 with 1 Axes>"
      ]
     },
     "metadata": {
      "needs_background": "light"
     },
     "output_type": "display_data"
    },
    {
     "data": {
      "image/png": "[encoded data removed]",
      "text/plain": [
       "<Figure size 432x288 with 1 Axes>"
      ]
     },
     "metadata": {
      "needs_background": "light"
     },
     "output_type": "display_data"
    },
    {
     "data": {
      "image/png": "[encoded data removed]",
      "text/plain": [
       "<Figure size 432x288 with 1 Axes>"
      ]
     },
     "metadata": {
      "needs_background": "light"
     },
     "output_type": "display_data"
    },
    {
     "data": {
      "image/png": "[encoded data removed]",
      "text/plain": [
       "<Figure size 432x288 with 1 Axes>"
      ]
     },
     "metadata": {
      "needs_background": "light"
     },
     "output_type": "display_data"
    },
    {
     "data": {
      "image/png": "[encoded data removed]",
      "text/plain": [
       "<Figure size 432x288 with 1 Axes>"
      ]
     },
     "metadata": {
      "needs_background": "light"
     },
     "output_type": "display_data"
    },
    {
     "data": {
      "image/png": "[encoded data removed]",
      "text/plain": [
       "<Figure size 432x288 with 1 Axes>"
      ]
     },
     "metadata": {
      "needs_background": "light"
     },
     "output_type": "display_data"
    },
    {
     "data": {
      "image/png": "[encoded data removed]",
      "text/plain": [
       "<Figure size 432x288 with 1 Axes>"
      ]
     },
     "metadata": {
      "needs_background": "light"
     },
     "output_type": "display_data"
    },
    {
     "data": {
      "image/png": "[encoded data removed]",
      "text/plain": [
       "<Figure size 432x288 with 1 Axes>"
      ]
     },
     "metadata": {
      "needs_background": "light"
     },
     "output_type": "display_data"
    },
    {
     "data": {
      "image/png": "[encoded data removed]",
      "text/plain": [
       "<Figure size 432x288 with 1 Axes>"
      ]
     },
     "metadata": {
      "needs_background": "light"
     },
     "output_type": "display_data"
    }
   ],
   "source": [
    "\n",
    "def display_closestwords_tsnescatterplot(model, word, size):\n",
    "    \n",
    "    arr = np.empty((0,size), dtype='f')\n",
    "    word_labels = [word]\n",
    "    close_words = model.similar_by_word(word)\n",
    "    arr = np.append(arr, np.array([model[word]]), axis=0)\n",
    "    for wrd_score in close_words:\n",
    "        wrd_vector = model[wrd_score[0]]\n",
    "        word_labels.append(wrd_score[0])\n",
    "        arr = np.append(arr, np.array([wrd_vector]), axis=0)\n",
    "        \n",
    "    tsne = TSNE(n_components=2, random_state=0)\n",
    "    np.set_printoptions(suppress=True)\n",
    "    Y = tsne.fit_transform(arr)\n",
    "    x_coords = Y[:, 0]\n",
    "    y_coords = Y[:, 1]\n",
    "    plt.scatter(x_coords, y_coords)\n",
    "    for label, x, y in zip(word_labels, x_coords, y_coords):\n",
    "        plt.annotate(label, xy=(x, y), xytext=(0, 0), textcoords='offset points')\n",
    "        plt.xlim(x_coords.min()+0.00005, x_coords.max()+0.00005)\n",
    "        plt.ylim(y_coords.min()+0.00005, y_coords.max()+0.00005)\n",
    "        plt.show()\n",
    "display_closestwords_tsnescatterplot(model, 'claim', 50) \n"
   ]
  },
  {
   "cell_type": "code",
   "execution_count": 338,
   "metadata": {},
   "outputs": [
    {
     "name": "stdout",
     "output_type": "stream",
     "text": [
      "Word2Vec(vocab=23, size=50, alpha=0.025)\n"
     ]
    }
   ],
   "source": [
    "print(model)"
   ]
  },
  {
   "cell_type": "code",
   "execution_count": 339,
   "metadata": {},
   "outputs": [
    {
     "name": "stdout",
     "output_type": "stream",
     "text": [
      "['Unconfirmed', 'reports', 'claim', 'that', 'Michael']\n"
     ]
    }
   ],
   "source": [
    "words = list(model.wv.vocab)\n",
    "print(words[0:5])"
   ]
  },
  {
   "cell_type": "code",
   "execution_count": 340,
   "metadata": {},
   "outputs": [
    {
     "name": "stderr",
     "output_type": "stream",
     "text": [
      "C:\\ProgramData\\Anaconda3\\lib\\site-packages\\ipykernel_launcher.py:2: DeprecationWarning: Call to deprecated `__getitem__` (Method will be removed in 4.0.0, use self.wv.__getitem__() instead).\n",
      "  \n"
     ]
    },
    {
     "data": {
      "image/png": "[encoded data removed]",
      "text/plain": [
       "<Figure size 432x288 with 1 Axes>"
      ]
     },
     "metadata": {
      "needs_background": "light"
     },
     "output_type": "display_data"
    }
   ],
   "source": [
    "from sklearn.decomposition import PCA\n",
    "X = model[model.wv.vocab]\n",
    "pca = PCA(n_components=2)\n",
    "result = pca.fit_transform(X)\n",
    "# create a plot of the projection\n",
    "fig, ax = plt.subplots()\n",
    "ax.plot(result[:, 0], result[:, 1], 'o')\n",
    "ax.set_title('Tweets')\n",
    "plt.show()"
   ]
  },
  {
   "cell_type": "code",
   "execution_count": 341,
   "metadata": {},
   "outputs": [],
   "source": [
    "#Y = TSNE(X, 2, 50, 30.0)\n",
    "Y = TSNE(n_components=2).fit_transform(X)"
   ]
  },
  {
   "cell_type": "code",
   "execution_count": 342,
   "metadata": {},
   "outputs": [
    {
     "data": {
      "image/png": "[encoded data removed]",
      "text/plain": [
       "<Figure size 432x288 with 1 Axes>"
      ]
     },
     "metadata": {
      "needs_background": "light"
     },
     "output_type": "display_data"
    }
   ],
   "source": [
    "#Plot the t-SNE output\n",
    "fig, ax = plt.subplots()\n",
    "ax.plot(Y[:, 0], Y[:, 1], 'o')\n",
    "ax.set_title('Tweets')\n",
    "ax.set_yticklabels([]) #Hide ticks\n",
    "ax.set_xticklabels([]) #Hide ticks\n",
    "plt.show()"
   ]
  },
  {
   "cell_type": "code",
   "execution_count": 343,
   "metadata": {},
   "outputs": [
    {
     "data": {
      "image/png": "[encoded data removed]",
      "text/plain": [
       "<Figure size 1152x1152 with 1 Axes>"
      ]
     },
     "metadata": {
      "needs_background": "light"
     },
     "output_type": "display_data"
    }
   ],
   "source": [
    "fig, ax = plt.subplots(figsize = (16,16))\n",
    "ax.plot(Y[:, 0], Y[:, 1], 'o')\n",
    "ax.set_title('Tweets')\n",
    "ax.set_yticklabels([]) #Hide ticks\n",
    "ax.set_xticklabels([]) #Hide ticks\n",
    "\n",
    "words = list(model.wv.vocab)\n",
    "for i, word in enumerate(words):\n",
    "\tplt.annotate(word, xy=(Y[i, 0], Y[i, 1]))\n",
    "plt.show()"
   ]
  }
 ],
 "metadata": {
  "kernelspec": {
   "display_name": "Python 3",
   "language": "python",
   "name": "python3"
  },
  "language_info": {
   "codemirror_mode": {
    "name": "ipython",
    "version": 3
   },
   "file_extension": ".py",
   "mimetype": "text/x-python",
   "name": "python",
   "nbconvert_exporter": "python",
   "pygments_lexer": "ipython3",
   "version": "3.6.8"
  }
 },
 "nbformat": 4,
 "nbformat_minor": 2
}
