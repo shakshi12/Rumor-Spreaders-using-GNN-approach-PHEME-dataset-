{
  "nbformat": 4,
  "nbformat_minor": 0,
  "metadata": {
    "colab": {
      "name": "Charliehebdo_gcn_Copy1_spektral_german.ipynb",
      "provenance": [],
      "collapsed_sections": []
    },
    "kernelspec": {
      "display_name": "Python 3",
      "language": "python",
      "name": "python3"
    },
    "language_info": {
      "codemirror_mode": {
        "name": "ipython",
        "version": 3
      },
      "file_extension": ".py",
      "mimetype": "text/x-python",
      "name": "python",
      "nbconvert_exporter": "python",
      "pygments_lexer": "ipython3",
      "version": "3.6.8"
    }
  },
  "cells": [
    {
      "cell_type": "code",
      "metadata": {
        "colab_type": "code",
        "id": "fgVJT7PRV0UR",
        "outputId": "64cd9619-ed28-4276-faf7-674db8f70f60",
        "colab": {
          "base_uri": "https://localhost:8080/",
          "height": 692
        }
      },
      "source": [
        "!sudo apt install graphviz libgraphviz-dev libcgraph6"
      ],
      "execution_count": 1,
      "outputs": [
        {
          "output_type": "stream",
          "text": [
            "\rReading package lists... 0%\r\rReading package lists... 0%\r\rReading package lists... 0%\r\rReading package lists... 6%\r\rReading package lists... 6%\r\rReading package lists... 7%\r\rReading package lists... 7%\r\rReading package lists... 62%\r\rReading package lists... 64%\r\rReading package lists... 64%\r\rReading package lists... 64%\r\rReading package lists... 64%\r\rReading package lists... 72%\r\rReading package lists... 72%\r\rReading package lists... 72%\r\rReading package lists... 72%\r\rReading package lists... 81%\r\rReading package lists... 81%\r\rReading package lists... 81%\r\rReading package lists... 81%\r\rReading package lists... 81%\r\rReading package lists... 81%\r\rReading package lists... 81%\r\rReading package lists... 81%\r\rReading package lists... 87%\r\rReading package lists... 87%\r\rReading package lists... 87%\r\rReading package lists... 87%\r\rReading package lists... 93%\r\rReading package lists... 93%\r\rReading package lists... 93%\r\rReading package lists... 93%\r\rReading package lists... 93%\r\rReading package lists... 93%\r\rReading package lists... 94%\r\rReading package lists... 94%\r\rReading package lists... 95%\r\rReading package lists... 95%\r\rReading package lists... 98%\r\rReading package lists... 98%\r\rReading package lists... 98%\r\rReading package lists... 98%\r\rReading package lists... Done\r\n",
            "\rBuilding dependency tree... 0%\r\rBuilding dependency tree... 0%\r\rBuilding dependency tree... 50%\r\rBuilding dependency tree... 50%\r\rBuilding dependency tree       \r\n",
            "\rReading state information... 0%\r\rReading state information... 0%\r\rReading state information... Done\r\n",
            "graphviz is already the newest version (2.40.1-2).\n",
            "libcgraph6 is already the newest version (2.40.1-2).\n",
            "libcgraph6 set to manually installed.\n",
            "The following NEW packages will be installed:\n",
            "  libgraphviz-dev libgvc6-plugins-gtk libxdot4\n",
            "0 upgraded, 3 newly installed, 0 to remove and 25 not upgraded.\n",
            "Need to get 91.3 kB of archives.\n",
            "After this operation, 425 kB of additional disk space will be used.\n",
            "Get:1 http://archive.ubuntu.com/ubuntu bionic/universe amd64 libxdot4 amd64 2.40.1-2 [15.7 kB]\n",
            "Get:2 http://archive.ubuntu.com/ubuntu bionic/universe amd64 libgvc6-plugins-gtk amd64 2.40.1-2 [18.2 kB]\n",
            "Get:3 http://archive.ubuntu.com/ubuntu bionic/universe amd64 libgraphviz-dev amd64 2.40.1-2 [57.3 kB]\n",
            "Fetched 91.3 kB in 2s (50.9 kB/s)\n",
            "debconf: unable to initialize frontend: Dialog\n",
            "debconf: (No usable dialog-like program is installed, so the dialog based frontend cannot be used. at /usr/share/perl5/Debconf/FrontEnd/Dialog.pm line 76, <> line 3.)\n",
            "debconf: falling back to frontend: Readline\n",
            "debconf: unable to initialize frontend: Readline\n",
            "debconf: (This frontend requires a controlling tty.)\n",
            "debconf: falling back to frontend: Teletype\n",
            "dpkg-preconfigure: unable to re-open stdin: \n",
            "Selecting previously unselected package libxdot4.\n",
            "(Reading database ... 144568 files and directories currently installed.)\n",
            "Preparing to unpack .../libxdot4_2.40.1-2_amd64.deb ...\n",
            "Unpacking libxdot4 (2.40.1-2) ...\n",
            "Selecting previously unselected package libgvc6-plugins-gtk.\n",
            "Preparing to unpack .../libgvc6-plugins-gtk_2.40.1-2_amd64.deb ...\n",
            "Unpacking libgvc6-plugins-gtk (2.40.1-2) ...\n",
            "Selecting previously unselected package libgraphviz-dev.\n",
            "Preparing to unpack .../libgraphviz-dev_2.40.1-2_amd64.deb ...\n",
            "Unpacking libgraphviz-dev (2.40.1-2) ...\n",
            "Setting up libxdot4 (2.40.1-2) ...\n",
            "Setting up libgvc6-plugins-gtk (2.40.1-2) ...\n",
            "Setting up libgraphviz-dev (2.40.1-2) ...\n",
            "Processing triggers for man-db (2.8.3-2ubuntu0.1) ...\n",
            "Processing triggers for libc-bin (2.27-3ubuntu1) ...\n",
            "/sbin/ldconfig.real: /usr/local/lib/python3.6/dist-packages/ideep4py/lib/libmkldnn.so.0 is not a symbolic link\n",
            "\n"
          ],
          "name": "stdout"
        }
      ]
    },
    {
      "cell_type": "code",
      "metadata": {
        "colab_type": "code",
        "id": "3vRQG-yaV3Qz",
        "outputId": "f58b775f-f718-41a8-b919-8e3acf879446",
        "colab": {
          "base_uri": "https://localhost:8080/",
          "height": 978
        }
      },
      "source": [
        "!pip install spektral"
      ],
      "execution_count": 2,
      "outputs": [
        {
          "output_type": "stream",
          "text": [
            "Collecting spektral\n",
            "\u001b[?25l  Downloading https://files.pythonhosted.org/packages/5c/1e/ff672abdf656c40e17bbec876f4c6c417777f36411b0046855a9562a6e40/spektral-0.4.0-py3-none-any.whl (78kB)\n",
            "\r\u001b[K     |████▏                           | 10kB 15.0MB/s eta 0:00:01\r\u001b[K     |████████▍                       | 20kB 1.7MB/s eta 0:00:01\r\u001b[K     |████████████▌                   | 30kB 2.1MB/s eta 0:00:01\r\u001b[K     |████████████████▊               | 40kB 2.3MB/s eta 0:00:01\r\u001b[K     |████████████████████▉           | 51kB 2.0MB/s eta 0:00:01\r\u001b[K     |█████████████████████████       | 61kB 2.2MB/s eta 0:00:01\r\u001b[K     |█████████████████████████████▎  | 71kB 2.4MB/s eta 0:00:01\r\u001b[K     |████████████████████████████████| 81kB 2.1MB/s \n",
            "\u001b[?25hRequirement already satisfied: lxml in /usr/local/lib/python3.6/dist-packages (from spektral) (4.2.6)\n",
            "Requirement already satisfied: scipy in /usr/local/lib/python3.6/dist-packages (from spektral) (1.4.1)\n",
            "Requirement already satisfied: tensorflow>=2.1.0 in /usr/local/lib/python3.6/dist-packages (from spektral) (2.2.0rc3)\n",
            "Requirement already satisfied: scikit-learn in /usr/local/lib/python3.6/dist-packages (from spektral) (0.22.2.post1)\n",
            "Requirement already satisfied: numpy in /usr/local/lib/python3.6/dist-packages (from spektral) (1.18.2)\n",
            "Requirement already satisfied: networkx in /usr/local/lib/python3.6/dist-packages (from spektral) (2.4)\n",
            "Requirement already satisfied: requests in /usr/local/lib/python3.6/dist-packages (from spektral) (2.21.0)\n",
            "Collecting pygraphviz\n",
            "\u001b[?25l  Downloading https://files.pythonhosted.org/packages/7e/b1/d6d849ddaf6f11036f9980d433f383d4c13d1ebcfc3cd09bc845bda7e433/pygraphviz-1.5.zip (117kB)\n",
            "\r\u001b[K     |██▉                             | 10kB 19.2MB/s eta 0:00:01\r\u001b[K     |█████▋                          | 20kB 25.6MB/s eta 0:00:01\r\u001b[K     |████████▍                       | 30kB 27.7MB/s eta 0:00:01\r\u001b[K     |███████████▏                    | 40kB 19.4MB/s eta 0:00:01\r\u001b[K     |██████████████                  | 51kB 12.7MB/s eta 0:00:01\r\u001b[K     |████████████████▊               | 61kB 12.5MB/s eta 0:00:01\r\u001b[K     |███████████████████▌            | 71kB 12.0MB/s eta 0:00:01\r\u001b[K     |██████████████████████▎         | 81kB 11.9MB/s eta 0:00:01\r\u001b[K     |█████████████████████████       | 92kB 7.7MB/s eta 0:00:01\r\u001b[K     |███████████████████████████▉    | 102kB 8.3MB/s eta 0:00:01\r\u001b[K     |██████████████████████████████▋ | 112kB 8.3MB/s eta 0:00:01\r\u001b[K     |████████████████████████████████| 122kB 8.3MB/s \n",
            "\u001b[?25hRequirement already satisfied: joblib in /usr/local/lib/python3.6/dist-packages (from spektral) (0.14.1)\n",
            "Requirement already satisfied: pandas in /usr/local/lib/python3.6/dist-packages (from spektral) (1.0.3)\n",
            "Requirement already satisfied: astunparse==1.6.3 in /usr/local/lib/python3.6/dist-packages (from tensorflow>=2.1.0->spektral) (1.6.3)\n",
            "Requirement already satisfied: absl-py>=0.7.0 in /usr/local/lib/python3.6/dist-packages (from tensorflow>=2.1.0->spektral) (0.9.0)\n",
            "Requirement already satisfied: wrapt>=1.11.1 in /usr/local/lib/python3.6/dist-packages (from tensorflow>=2.1.0->spektral) (1.12.1)\n",
            "Requirement already satisfied: h5py<2.11.0,>=2.10.0 in /usr/local/lib/python3.6/dist-packages (from tensorflow>=2.1.0->spektral) (2.10.0)\n",
            "Requirement already satisfied: six>=1.12.0 in /usr/local/lib/python3.6/dist-packages (from tensorflow>=2.1.0->spektral) (1.12.0)\n",
            "Requirement already satisfied: grpcio>=1.8.6 in /usr/local/lib/python3.6/dist-packages (from tensorflow>=2.1.0->spektral) (1.28.1)\n",
            "Requirement already satisfied: tensorflow-estimator<2.3.0,>=2.2.0rc0 in /usr/local/lib/python3.6/dist-packages (from tensorflow>=2.1.0->spektral) (2.2.0rc0)\n",
            "Requirement already satisfied: termcolor>=1.1.0 in /usr/local/lib/python3.6/dist-packages (from tensorflow>=2.1.0->spektral) (1.1.0)\n",
            "Requirement already satisfied: google-pasta>=0.1.8 in /usr/local/lib/python3.6/dist-packages (from tensorflow>=2.1.0->spektral) (0.2.0)\n",
            "Requirement already satisfied: keras-preprocessing>=1.1.0 in /usr/local/lib/python3.6/dist-packages (from tensorflow>=2.1.0->spektral) (1.1.0)\n",
            "Requirement already satisfied: gast==0.3.3 in /usr/local/lib/python3.6/dist-packages (from tensorflow>=2.1.0->spektral) (0.3.3)\n",
            "Requirement already satisfied: opt-einsum>=2.3.2 in /usr/local/lib/python3.6/dist-packages (from tensorflow>=2.1.0->spektral) (3.2.0)\n",
            "Requirement already satisfied: tensorboard<2.3.0,>=2.2.0 in /usr/local/lib/python3.6/dist-packages (from tensorflow>=2.1.0->spektral) (2.2.0)\n",
            "Requirement already satisfied: protobuf>=3.8.0 in /usr/local/lib/python3.6/dist-packages (from tensorflow>=2.1.0->spektral) (3.10.0)\n",
            "Requirement already satisfied: wheel>=0.26; python_version >= \"3\" in /usr/local/lib/python3.6/dist-packages (from tensorflow>=2.1.0->spektral) (0.34.2)\n",
            "Requirement already satisfied: decorator>=4.3.0 in /usr/local/lib/python3.6/dist-packages (from networkx->spektral) (4.4.2)\n",
            "Requirement already satisfied: idna<2.9,>=2.5 in /usr/local/lib/python3.6/dist-packages (from requests->spektral) (2.8)\n",
            "Requirement already satisfied: certifi>=2017.4.17 in /usr/local/lib/python3.6/dist-packages (from requests->spektral) (2020.4.5.1)\n",
            "Requirement already satisfied: chardet<3.1.0,>=3.0.2 in /usr/local/lib/python3.6/dist-packages (from requests->spektral) (3.0.4)\n",
            "Requirement already satisfied: urllib3<1.25,>=1.21.1 in /usr/local/lib/python3.6/dist-packages (from requests->spektral) (1.24.3)\n",
            "Requirement already satisfied: pytz>=2017.2 in /usr/local/lib/python3.6/dist-packages (from pandas->spektral) (2018.9)\n",
            "Requirement already satisfied: python-dateutil>=2.6.1 in /usr/local/lib/python3.6/dist-packages (from pandas->spektral) (2.8.1)\n",
            "Requirement already satisfied: google-auth-oauthlib<0.5,>=0.4.1 in /usr/local/lib/python3.6/dist-packages (from tensorboard<2.3.0,>=2.2.0->tensorflow>=2.1.0->spektral) (0.4.1)\n",
            "Requirement already satisfied: tensorboard-plugin-wit>=1.6.0 in /usr/local/lib/python3.6/dist-packages (from tensorboard<2.3.0,>=2.2.0->tensorflow>=2.1.0->spektral) (1.6.0.post3)\n",
            "Requirement already satisfied: markdown>=2.6.8 in /usr/local/lib/python3.6/dist-packages (from tensorboard<2.3.0,>=2.2.0->tensorflow>=2.1.0->spektral) (3.2.1)\n",
            "Requirement already satisfied: google-auth<2,>=1.6.3 in /usr/local/lib/python3.6/dist-packages (from tensorboard<2.3.0,>=2.2.0->tensorflow>=2.1.0->spektral) (1.7.2)\n",
            "Requirement already satisfied: setuptools>=41.0.0 in /usr/local/lib/python3.6/dist-packages (from tensorboard<2.3.0,>=2.2.0->tensorflow>=2.1.0->spektral) (46.1.3)\n",
            "Requirement already satisfied: werkzeug>=0.11.15 in /usr/local/lib/python3.6/dist-packages (from tensorboard<2.3.0,>=2.2.0->tensorflow>=2.1.0->spektral) (1.0.1)\n",
            "Requirement already satisfied: requests-oauthlib>=0.7.0 in /usr/local/lib/python3.6/dist-packages (from google-auth-oauthlib<0.5,>=0.4.1->tensorboard<2.3.0,>=2.2.0->tensorflow>=2.1.0->spektral) (1.3.0)\n",
            "Requirement already satisfied: cachetools<3.2,>=2.0.0 in /usr/local/lib/python3.6/dist-packages (from google-auth<2,>=1.6.3->tensorboard<2.3.0,>=2.2.0->tensorflow>=2.1.0->spektral) (3.1.1)\n",
            "Requirement already satisfied: rsa<4.1,>=3.1.4 in /usr/local/lib/python3.6/dist-packages (from google-auth<2,>=1.6.3->tensorboard<2.3.0,>=2.2.0->tensorflow>=2.1.0->spektral) (4.0)\n",
            "Requirement already satisfied: pyasn1-modules>=0.2.1 in /usr/local/lib/python3.6/dist-packages (from google-auth<2,>=1.6.3->tensorboard<2.3.0,>=2.2.0->tensorflow>=2.1.0->spektral) (0.2.8)\n",
            "Requirement already satisfied: oauthlib>=3.0.0 in /usr/local/lib/python3.6/dist-packages (from requests-oauthlib>=0.7.0->google-auth-oauthlib<0.5,>=0.4.1->tensorboard<2.3.0,>=2.2.0->tensorflow>=2.1.0->spektral) (3.1.0)\n",
            "Requirement already satisfied: pyasn1>=0.1.3 in /usr/local/lib/python3.6/dist-packages (from rsa<4.1,>=3.1.4->google-auth<2,>=1.6.3->tensorboard<2.3.0,>=2.2.0->tensorflow>=2.1.0->spektral) (0.4.8)\n",
            "Building wheels for collected packages: pygraphviz\n",
            "  Building wheel for pygraphviz (setup.py) ... \u001b[?25l\u001b[?25hdone\n",
            "  Created wheel for pygraphviz: filename=pygraphviz-1.5-cp36-cp36m-linux_x86_64.whl size=157588 sha256=6c9d5e5e40ed5fe038d8993c4c338559072f7143912389a131f01a5193d9a7d7\n",
            "  Stored in directory: /root/.cache/pip/wheels/65/54/69/1aee9e66ab19916293208d4c9de0d3898adebe6b2eeff6476b\n",
            "Successfully built pygraphviz\n",
            "Installing collected packages: pygraphviz, spektral\n",
            "Successfully installed pygraphviz-1.5 spektral-0.4.0\n"
          ],
          "name": "stdout"
        }
      ]
    },
    {
      "cell_type": "code",
      "metadata": {
        "colab_type": "code",
        "id": "uAXc1JypWGlj",
        "outputId": "e7b3e4f4-d336-4e20-ad5a-c8c73aa11135",
        "colab": {
          "base_uri": "https://localhost:8080/",
          "height": 134
        }
      },
      "source": [
        "!git clone https://github.com/danielegrattarola/spektral.git"
      ],
      "execution_count": 3,
      "outputs": [
        {
          "output_type": "stream",
          "text": [
            "Cloning into 'spektral'...\n",
            "remote: Enumerating objects: 532, done.\u001b[K\n",
            "remote: Counting objects:   0% (1/532)\u001b[K\rremote: Counting objects:   1% (6/532)\u001b[K\rremote: Counting objects:   2% (11/532)\u001b[K\rremote: Counting objects:   3% (16/532)\u001b[K\rremote: Counting objects:   4% (22/532)\u001b[K\rremote: Counting objects:   5% (27/532)\u001b[K\rremote: Counting objects:   6% (32/532)\u001b[K\rremote: Counting objects:   7% (38/532)\u001b[K\rremote: Counting objects:   8% (43/532)\u001b[K\rremote: Counting objects:   9% (48/532)\u001b[K\rremote: Counting objects:  10% (54/532)\u001b[K\rremote: Counting objects:  11% (59/532)\u001b[K\rremote: Counting objects:  12% (64/532)\u001b[K\rremote: Counting objects:  13% (70/532)\u001b[K\rremote: Counting objects:  14% (75/532)\u001b[K\rremote: Counting objects:  15% (80/532)\u001b[K\rremote: Counting objects:  16% (86/532)\u001b[K\rremote: Counting objects:  17% (91/532)\u001b[K\rremote: Counting objects:  18% (96/532)\u001b[K\rremote: Counting objects:  19% (102/532)\rremote: Counting objects:  20% (107/532)\u001b[K\rremote: Counting objects:  21% (112/532)\u001b[K\rremote: Counting objects:  22% (118/532)\u001b[K\rremote: Counting objects:  23% (123/532)\u001b[K\rremote: Counting objects:  24% (128/532)\u001b[K\rremote: Counting objects:  25% (133/532)\u001b[K\rremote: Counting objects:  26% (139/532)\u001b[K\rremote: Counting objects:  27% (144/532)\u001b[K\rremote: Counting objects:  28% (149/532)\u001b[K\rremote: Counting objects:  29% (155/532)\u001b[K\rremote: Counting objects:  30% (160/532)\u001b[K\rremote: Counting objects:  31% (165/532)\u001b[K\rremote: Counting objects:  32% (171/532)\u001b[K\rremote: Counting objects:  33% (176/532)\u001b[K\rremote: Counting objects:  34% (181/532)\u001b[K\rremote: Counting objects:  35% (187/532)\u001b[K\rremote: Counting objects:  36% (192/532)\u001b[K\rremote: Counting objects:  37% (197/532)\u001b[K\rremote: Counting objects:  38% (203/532)\u001b[K\rremote: Counting objects:  39% (208/532)\u001b[K\rremote: Counting objects:  40% (213/532)\u001b[K\rremote: Counting objects:  41% (219/532)\u001b[K\rremote: Counting objects:  42% (224/532)\u001b[K\rremote: Counting objects:  43% (229/532)\u001b[K\rremote: Counting objects:  44% (235/532)\u001b[K\rremote: Counting objects:  45% (240/532)\u001b[K\rremote: Counting objects:  46% (245/532)\u001b[K\rremote: Counting objects:  47% (251/532)\u001b[K\rremote: Counting objects:  48% (256/532)\u001b[K\rremote: Counting objects:  49% (261/532)\u001b[K\rremote: Counting objects:  50% (266/532)\u001b[K\rremote: Counting objects:  51% (272/532)\u001b[K\rremote: Counting objects:  52% (277/532)\u001b[K\rremote: Counting objects:  53% (282/532)\u001b[K\rremote: Counting objects:  54% (288/532)\u001b[K\rremote: Counting objects:  55% (293/532)\u001b[K\rremote: Counting objects:  56% (298/532)\u001b[K\rremote: Counting objects:  57% (304/532)\u001b[K\rremote: Counting objects:  58% (309/532)\u001b[K\rremote: Counting objects:  59% (314/532)\u001b[K\rremote: Counting objects:  60% (320/532)\u001b[K\rremote: Counting objects:  61% (325/532)\u001b[K\rremote: Counting objects:  62% (330/532)\u001b[K\rremote: Counting objects:  63% (336/532)\u001b[K\rremote: Counting objects:  64% (341/532)\u001b[K\rremote: Counting objects:  65% (346/532)\u001b[K\rremote: Counting objects:  66% (352/532)\u001b[K\rremote: Counting objects:  67% (357/532)\u001b[K\rremote: Counting objects:  68% (362/532)\u001b[K\rremote: Counting objects:  69% (368/532)\u001b[K\rremote: Counting objects:  70% (373/532)\u001b[K\rremote: Counting objects:  71% (378/532)\u001b[K\rremote: Counting objects:  72% (384/532)\u001b[K\rremote: Counting objects:  73% (389/532)\u001b[K\rremote: Counting objects:  74% (394/532)\u001b[K\rremote: Counting objects:  75% (399/532)\u001b[K\rremote: Counting objects:  76% (405/532)\u001b[K\rremote: Counting objects:  77% (410/532)\u001b[K\rremote: Counting objects:  78% (415/532)\u001b[K\rremote: Counting objects:  79% (421/532)\u001b[K\rremote: Counting objects:  80% (426/532)\u001b[K\rremote: Counting objects:  81% (431/532)\u001b[K\rremote: Counting objects:  82% (437/532)\u001b[K\rremote: Counting objects:  83% (442/532)\u001b[K\rremote: Counting objects:  84% (447/532)\u001b[K\rremote: Counting objects:  85% (453/532)\u001b[K\rremote: Counting objects:  86% (458/532)\u001b[K\rremote: Counting objects:  87% (463/532)\u001b[K\rremote: Counting objects:  88% (469/532)\u001b[K\rremote: Counting objects:  89% (474/532)\u001b[K\rremote: Counting objects:  90% (479/532)\u001b[K\rremote: Counting objects:  91% (485/532)\u001b[K\rremote: Counting objects:  92% (490/532)\u001b[K\rremote: Counting objects:  93% (495/532)\u001b[K\rremote: Counting objects:  94% (501/532)\u001b[K\rremote: Counting objects:  95% (506/532)\u001b[K\rremote: Counting objects:  96% (511/532)\u001b[K\rremote: Counting objects:  97% (517/532)\u001b[K\rremote: Counting objects:  98% (522/532)\u001b[K\rremote: Counting objects:  99% (527/532)\u001b[K\rremote: Counting objects: 100% (532/532)\u001b[K\rremote: Counting objects: 100% (532/532), done.\u001b[K\n",
            "remote: Compressing objects: 100% (291/291), done.\u001b[K\n",
            "remote: Total 3483 (delta 308), reused 383 (delta 188), pack-reused 2951\u001b[K\n",
            "Receiving objects: 100% (3483/3483), 5.65 MiB | 4.11 MiB/s, done.\n",
            "Resolving deltas: 100% (2132/2132), done.\n"
          ],
          "name": "stdout"
        }
      ]
    },
    {
      "cell_type": "code",
      "metadata": {
        "colab_type": "code",
        "id": "DtHvfsmXWQ68",
        "outputId": "f4f51027-853a-4c75-8995-fabb4db39794",
        "colab": {
          "base_uri": "https://localhost:8080/",
          "height": 34
        }
      },
      "source": [
        "cd spektral"
      ],
      "execution_count": 4,
      "outputs": [
        {
          "output_type": "stream",
          "text": [
            "/content/spektral\n"
          ],
          "name": "stdout"
        }
      ]
    },
    {
      "cell_type": "code",
      "metadata": {
        "colab_type": "code",
        "id": "fhvT_HvbWTil",
        "outputId": "4cc21531-0af6-4ba2-cd22-76894d3e0a30",
        "colab": {
          "base_uri": "https://localhost:8080/",
          "height": 1000
        }
      },
      "source": [
        "!python setup.py install"
      ],
      "execution_count": 5,
      "outputs": [
        {
          "output_type": "stream",
          "text": [
            "running install\n",
            "running bdist_egg\n",
            "running egg_info\n",
            "creating spektral.egg-info\n",
            "writing spektral.egg-info/PKG-INFO\n",
            "writing dependency_links to spektral.egg-info/dependency_links.txt\n",
            "writing requirements to spektral.egg-info/requires.txt\n",
            "writing top-level names to spektral.egg-info/top_level.txt\n",
            "writing manifest file 'spektral.egg-info/SOURCES.txt'\n",
            "writing manifest file 'spektral.egg-info/SOURCES.txt'\n",
            "installing library code to build/bdist.linux-x86_64/egg\n",
            "running install_lib\n",
            "running build_py\n",
            "creating build\n",
            "creating build/lib\n",
            "creating build/lib/tests\n",
            "copying tests/__init__.py -> build/lib/tests\n",
            "copying tests/test_datasets.py -> build/lib/tests\n",
            "creating build/lib/spektral\n",
            "copying spektral/__init__.py -> build/lib/spektral\n",
            "copying spektral/chem.py -> build/lib/spektral\n",
            "creating build/lib/tests/test_layers\n",
            "copying tests/test_layers/__init__.py -> build/lib/tests/test_layers\n",
            "copying tests/test_layers/test_global_pooling.py -> build/lib/tests/test_layers\n",
            "copying tests/test_layers/test_ops.py -> build/lib/tests/test_layers\n",
            "copying tests/test_layers/test_pooling.py -> build/lib/tests/test_layers\n",
            "copying tests/test_layers/test_convolutional.py -> build/lib/tests/test_layers\n",
            "creating build/lib/spektral/utils\n",
            "copying spektral/utils/__init__.py -> build/lib/spektral/utils\n",
            "copying spektral/utils/logging.py -> build/lib/spektral/utils\n",
            "copying spektral/utils/conversion.py -> build/lib/spektral/utils\n",
            "copying spektral/utils/data.py -> build/lib/spektral/utils\n",
            "copying spektral/utils/convolution.py -> build/lib/spektral/utils\n",
            "copying spektral/utils/io.py -> build/lib/spektral/utils\n",
            "copying spektral/utils/plotting.py -> build/lib/spektral/utils\n",
            "copying spektral/utils/misc.py -> build/lib/spektral/utils\n",
            "creating build/lib/spektral/datasets\n",
            "copying spektral/datasets/qm9.py -> build/lib/spektral/datasets\n",
            "copying spektral/datasets/__init__.py -> build/lib/spektral/datasets\n",
            "copying spektral/datasets/mnist.py -> build/lib/spektral/datasets\n",
            "copying spektral/datasets/graphsage.py -> build/lib/spektral/datasets\n",
            "copying spektral/datasets/delaunay.py -> build/lib/spektral/datasets\n",
            "copying spektral/datasets/citation.py -> build/lib/spektral/datasets\n",
            "copying spektral/datasets/ogb.py -> build/lib/spektral/datasets\n",
            "copying spektral/datasets/tud.py -> build/lib/spektral/datasets\n",
            "creating build/lib/spektral/layers\n",
            "copying spektral/layers/__init__.py -> build/lib/spektral/layers\n",
            "copying spektral/layers/base.py -> build/lib/spektral/layers\n",
            "creating build/lib/spektral/layers/ops\n",
            "copying spektral/layers/ops/__init__.py -> build/lib/spektral/layers/ops\n",
            "copying spektral/layers/ops/graph.py -> build/lib/spektral/layers/ops\n",
            "copying spektral/layers/ops/modes.py -> build/lib/spektral/layers/ops\n",
            "copying spektral/layers/ops/scatter.py -> build/lib/spektral/layers/ops\n",
            "copying spektral/layers/ops/matmul.py -> build/lib/spektral/layers/ops\n",
            "copying spektral/layers/ops/sparse.py -> build/lib/spektral/layers/ops\n",
            "copying spektral/layers/ops/ops.py -> build/lib/spektral/layers/ops\n",
            "creating build/lib/spektral/layers/convolutional\n",
            "copying spektral/layers/convolutional/__init__.py -> build/lib/spektral/layers/convolutional\n",
            "copying spektral/layers/convolutional/cheby.py -> build/lib/spektral/layers/convolutional\n",
            "copying spektral/layers/convolutional/gcn.py -> build/lib/spektral/layers/convolutional\n",
            "copying spektral/layers/convolutional/appnp.py -> build/lib/spektral/layers/convolutional\n",
            "copying spektral/layers/convolutional/gcs.py -> build/lib/spektral/layers/convolutional\n",
            "copying spektral/layers/convolutional/graphsage.py -> build/lib/spektral/layers/convolutional\n",
            "copying spektral/layers/convolutional/gat.py -> build/lib/spektral/layers/convolutional\n",
            "copying spektral/layers/convolutional/ecc.py -> build/lib/spektral/layers/convolutional\n",
            "copying spektral/layers/convolutional/arma.py -> build/lib/spektral/layers/convolutional\n",
            "copying spektral/layers/convolutional/gin.py -> build/lib/spektral/layers/convolutional\n",
            "creating build/lib/spektral/layers/pooling\n",
            "copying spektral/layers/pooling/__init__.py -> build/lib/spektral/layers/pooling\n",
            "copying spektral/layers/pooling/sagpool.py -> build/lib/spektral/layers/pooling\n",
            "copying spektral/layers/pooling/globalpool.py -> build/lib/spektral/layers/pooling\n",
            "copying spektral/layers/pooling/mincut.py -> build/lib/spektral/layers/pooling\n",
            "copying spektral/layers/pooling/topk.py -> build/lib/spektral/layers/pooling\n",
            "copying spektral/layers/pooling/diffpool.py -> build/lib/spektral/layers/pooling\n",
            "creating build/bdist.linux-x86_64\n",
            "creating build/bdist.linux-x86_64/egg\n",
            "creating build/bdist.linux-x86_64/egg/tests\n",
            "copying build/lib/tests/__init__.py -> build/bdist.linux-x86_64/egg/tests\n",
            "creating build/bdist.linux-x86_64/egg/tests/test_layers\n",
            "copying build/lib/tests/test_layers/__init__.py -> build/bdist.linux-x86_64/egg/tests/test_layers\n",
            "copying build/lib/tests/test_layers/test_global_pooling.py -> build/bdist.linux-x86_64/egg/tests/test_layers\n",
            "copying build/lib/tests/test_layers/test_ops.py -> build/bdist.linux-x86_64/egg/tests/test_layers\n",
            "copying build/lib/tests/test_layers/test_pooling.py -> build/bdist.linux-x86_64/egg/tests/test_layers\n",
            "copying build/lib/tests/test_layers/test_convolutional.py -> build/bdist.linux-x86_64/egg/tests/test_layers\n",
            "copying build/lib/tests/test_datasets.py -> build/bdist.linux-x86_64/egg/tests\n",
            "creating build/bdist.linux-x86_64/egg/spektral\n",
            "copying build/lib/spektral/__init__.py -> build/bdist.linux-x86_64/egg/spektral\n",
            "creating build/bdist.linux-x86_64/egg/spektral/utils\n",
            "copying build/lib/spektral/utils/__init__.py -> build/bdist.linux-x86_64/egg/spektral/utils\n",
            "copying build/lib/spektral/utils/logging.py -> build/bdist.linux-x86_64/egg/spektral/utils\n",
            "copying build/lib/spektral/utils/conversion.py -> build/bdist.linux-x86_64/egg/spektral/utils\n",
            "copying build/lib/spektral/utils/data.py -> build/bdist.linux-x86_64/egg/spektral/utils\n",
            "copying build/lib/spektral/utils/convolution.py -> build/bdist.linux-x86_64/egg/spektral/utils\n",
            "copying build/lib/spektral/utils/io.py -> build/bdist.linux-x86_64/egg/spektral/utils\n",
            "copying build/lib/spektral/utils/plotting.py -> build/bdist.linux-x86_64/egg/spektral/utils\n",
            "copying build/lib/spektral/utils/misc.py -> build/bdist.linux-x86_64/egg/spektral/utils\n",
            "copying build/lib/spektral/chem.py -> build/bdist.linux-x86_64/egg/spektral\n",
            "creating build/bdist.linux-x86_64/egg/spektral/datasets\n",
            "copying build/lib/spektral/datasets/qm9.py -> build/bdist.linux-x86_64/egg/spektral/datasets\n",
            "copying build/lib/spektral/datasets/__init__.py -> build/bdist.linux-x86_64/egg/spektral/datasets\n",
            "copying build/lib/spektral/datasets/mnist.py -> build/bdist.linux-x86_64/egg/spektral/datasets\n",
            "copying build/lib/spektral/datasets/graphsage.py -> build/bdist.linux-x86_64/egg/spektral/datasets\n",
            "copying build/lib/spektral/datasets/delaunay.py -> build/bdist.linux-x86_64/egg/spektral/datasets\n",
            "copying build/lib/spektral/datasets/citation.py -> build/bdist.linux-x86_64/egg/spektral/datasets\n",
            "copying build/lib/spektral/datasets/ogb.py -> build/bdist.linux-x86_64/egg/spektral/datasets\n",
            "copying build/lib/spektral/datasets/tud.py -> build/bdist.linux-x86_64/egg/spektral/datasets\n",
            "creating build/bdist.linux-x86_64/egg/spektral/layers\n",
            "copying build/lib/spektral/layers/__init__.py -> build/bdist.linux-x86_64/egg/spektral/layers\n",
            "creating build/bdist.linux-x86_64/egg/spektral/layers/ops\n",
            "copying build/lib/spektral/layers/ops/__init__.py -> build/bdist.linux-x86_64/egg/spektral/layers/ops\n",
            "copying build/lib/spektral/layers/ops/graph.py -> build/bdist.linux-x86_64/egg/spektral/layers/ops\n",
            "copying build/lib/spektral/layers/ops/modes.py -> build/bdist.linux-x86_64/egg/spektral/layers/ops\n",
            "copying build/lib/spektral/layers/ops/scatter.py -> build/bdist.linux-x86_64/egg/spektral/layers/ops\n",
            "copying build/lib/spektral/layers/ops/matmul.py -> build/bdist.linux-x86_64/egg/spektral/layers/ops\n",
            "copying build/lib/spektral/layers/ops/sparse.py -> build/bdist.linux-x86_64/egg/spektral/layers/ops\n",
            "copying build/lib/spektral/layers/ops/ops.py -> build/bdist.linux-x86_64/egg/spektral/layers/ops\n",
            "copying build/lib/spektral/layers/base.py -> build/bdist.linux-x86_64/egg/spektral/layers\n",
            "creating build/bdist.linux-x86_64/egg/spektral/layers/convolutional\n",
            "copying build/lib/spektral/layers/convolutional/__init__.py -> build/bdist.linux-x86_64/egg/spektral/layers/convolutional\n",
            "copying build/lib/spektral/layers/convolutional/cheby.py -> build/bdist.linux-x86_64/egg/spektral/layers/convolutional\n",
            "copying build/lib/spektral/layers/convolutional/gcn.py -> build/bdist.linux-x86_64/egg/spektral/layers/convolutional\n",
            "copying build/lib/spektral/layers/convolutional/appnp.py -> build/bdist.linux-x86_64/egg/spektral/layers/convolutional\n",
            "copying build/lib/spektral/layers/convolutional/gcs.py -> build/bdist.linux-x86_64/egg/spektral/layers/convolutional\n",
            "copying build/lib/spektral/layers/convolutional/graphsage.py -> build/bdist.linux-x86_64/egg/spektral/layers/convolutional\n",
            "copying build/lib/spektral/layers/convolutional/gat.py -> build/bdist.linux-x86_64/egg/spektral/layers/convolutional\n",
            "copying build/lib/spektral/layers/convolutional/ecc.py -> build/bdist.linux-x86_64/egg/spektral/layers/convolutional\n",
            "copying build/lib/spektral/layers/convolutional/arma.py -> build/bdist.linux-x86_64/egg/spektral/layers/convolutional\n",
            "copying build/lib/spektral/layers/convolutional/gin.py -> build/bdist.linux-x86_64/egg/spektral/layers/convolutional\n",
            "creating build/bdist.linux-x86_64/egg/spektral/layers/pooling\n",
            "copying build/lib/spektral/layers/pooling/__init__.py -> build/bdist.linux-x86_64/egg/spektral/layers/pooling\n",
            "copying build/lib/spektral/layers/pooling/sagpool.py -> build/bdist.linux-x86_64/egg/spektral/layers/pooling\n",
            "copying build/lib/spektral/layers/pooling/globalpool.py -> build/bdist.linux-x86_64/egg/spektral/layers/pooling\n",
            "copying build/lib/spektral/layers/pooling/mincut.py -> build/bdist.linux-x86_64/egg/spektral/layers/pooling\n",
            "copying build/lib/spektral/layers/pooling/topk.py -> build/bdist.linux-x86_64/egg/spektral/layers/pooling\n",
            "copying build/lib/spektral/layers/pooling/diffpool.py -> build/bdist.linux-x86_64/egg/spektral/layers/pooling\n",
            "byte-compiling build/bdist.linux-x86_64/egg/tests/__init__.py to __init__.cpython-36.pyc\n",
            "byte-compiling build/bdist.linux-x86_64/egg/tests/test_layers/__init__.py to __init__.cpython-36.pyc\n",
            "byte-compiling build/bdist.linux-x86_64/egg/tests/test_layers/test_global_pooling.py to test_global_pooling.cpython-36.pyc\n",
            "byte-compiling build/bdist.linux-x86_64/egg/tests/test_layers/test_ops.py to test_ops.cpython-36.pyc\n",
            "byte-compiling build/bdist.linux-x86_64/egg/tests/test_layers/test_pooling.py to test_pooling.cpython-36.pyc\n",
            "byte-compiling build/bdist.linux-x86_64/egg/tests/test_layers/test_convolutional.py to test_convolutional.cpython-36.pyc\n",
            "byte-compiling build/bdist.linux-x86_64/egg/tests/test_datasets.py to test_datasets.cpython-36.pyc\n",
            "byte-compiling build/bdist.linux-x86_64/egg/spektral/__init__.py to __init__.cpython-36.pyc\n",
            "byte-compiling build/bdist.linux-x86_64/egg/spektral/utils/__init__.py to __init__.cpython-36.pyc\n",
            "byte-compiling build/bdist.linux-x86_64/egg/spektral/utils/logging.py to logging.cpython-36.pyc\n",
            "byte-compiling build/bdist.linux-x86_64/egg/spektral/utils/conversion.py to conversion.cpython-36.pyc\n",
            "byte-compiling build/bdist.linux-x86_64/egg/spektral/utils/data.py to data.cpython-36.pyc\n",
            "byte-compiling build/bdist.linux-x86_64/egg/spektral/utils/convolution.py to convolution.cpython-36.pyc\n",
            "byte-compiling build/bdist.linux-x86_64/egg/spektral/utils/io.py to io.cpython-36.pyc\n",
            "byte-compiling build/bdist.linux-x86_64/egg/spektral/utils/plotting.py to plotting.cpython-36.pyc\n",
            "byte-compiling build/bdist.linux-x86_64/egg/spektral/utils/misc.py to misc.cpython-36.pyc\n",
            "byte-compiling build/bdist.linux-x86_64/egg/spektral/chem.py to chem.cpython-36.pyc\n",
            "byte-compiling build/bdist.linux-x86_64/egg/spektral/datasets/qm9.py to qm9.cpython-36.pyc\n",
            "byte-compiling build/bdist.linux-x86_64/egg/spektral/datasets/__init__.py to __init__.cpython-36.pyc\n",
            "byte-compiling build/bdist.linux-x86_64/egg/spektral/datasets/mnist.py to mnist.cpython-36.pyc\n",
            "byte-compiling build/bdist.linux-x86_64/egg/spektral/datasets/graphsage.py to graphsage.cpython-36.pyc\n",
            "byte-compiling build/bdist.linux-x86_64/egg/spektral/datasets/delaunay.py to delaunay.cpython-36.pyc\n",
            "byte-compiling build/bdist.linux-x86_64/egg/spektral/datasets/citation.py to citation.cpython-36.pyc\n",
            "byte-compiling build/bdist.linux-x86_64/egg/spektral/datasets/ogb.py to ogb.cpython-36.pyc\n",
            "byte-compiling build/bdist.linux-x86_64/egg/spektral/datasets/tud.py to tud.cpython-36.pyc\n",
            "byte-compiling build/bdist.linux-x86_64/egg/spektral/layers/__init__.py to __init__.cpython-36.pyc\n",
            "byte-compiling build/bdist.linux-x86_64/egg/spektral/layers/ops/__init__.py to __init__.cpython-36.pyc\n",
            "byte-compiling build/bdist.linux-x86_64/egg/spektral/layers/ops/graph.py to graph.cpython-36.pyc\n",
            "byte-compiling build/bdist.linux-x86_64/egg/spektral/layers/ops/modes.py to modes.cpython-36.pyc\n",
            "byte-compiling build/bdist.linux-x86_64/egg/spektral/layers/ops/scatter.py to scatter.cpython-36.pyc\n",
            "byte-compiling build/bdist.linux-x86_64/egg/spektral/layers/ops/matmul.py to matmul.cpython-36.pyc\n",
            "byte-compiling build/bdist.linux-x86_64/egg/spektral/layers/ops/sparse.py to sparse.cpython-36.pyc\n",
            "byte-compiling build/bdist.linux-x86_64/egg/spektral/layers/ops/ops.py to ops.cpython-36.pyc\n",
            "byte-compiling build/bdist.linux-x86_64/egg/spektral/layers/base.py to base.cpython-36.pyc\n",
            "byte-compiling build/bdist.linux-x86_64/egg/spektral/layers/convolutional/__init__.py to __init__.cpython-36.pyc\n",
            "byte-compiling build/bdist.linux-x86_64/egg/spektral/layers/convolutional/cheby.py to cheby.cpython-36.pyc\n",
            "byte-compiling build/bdist.linux-x86_64/egg/spektral/layers/convolutional/gcn.py to gcn.cpython-36.pyc\n",
            "byte-compiling build/bdist.linux-x86_64/egg/spektral/layers/convolutional/appnp.py to appnp.cpython-36.pyc\n",
            "byte-compiling build/bdist.linux-x86_64/egg/spektral/layers/convolutional/gcs.py to gcs.cpython-36.pyc\n",
            "byte-compiling build/bdist.linux-x86_64/egg/spektral/layers/convolutional/graphsage.py to graphsage.cpython-36.pyc\n",
            "byte-compiling build/bdist.linux-x86_64/egg/spektral/layers/convolutional/gat.py to gat.cpython-36.pyc\n",
            "byte-compiling build/bdist.linux-x86_64/egg/spektral/layers/convolutional/ecc.py to ecc.cpython-36.pyc\n",
            "byte-compiling build/bdist.linux-x86_64/egg/spektral/layers/convolutional/arma.py to arma.cpython-36.pyc\n",
            "byte-compiling build/bdist.linux-x86_64/egg/spektral/layers/convolutional/gin.py to gin.cpython-36.pyc\n",
            "byte-compiling build/bdist.linux-x86_64/egg/spektral/layers/pooling/__init__.py to __init__.cpython-36.pyc\n",
            "byte-compiling build/bdist.linux-x86_64/egg/spektral/layers/pooling/sagpool.py to sagpool.cpython-36.pyc\n",
            "byte-compiling build/bdist.linux-x86_64/egg/spektral/layers/pooling/globalpool.py to globalpool.cpython-36.pyc\n",
            "byte-compiling build/bdist.linux-x86_64/egg/spektral/layers/pooling/mincut.py to mincut.cpython-36.pyc\n",
            "byte-compiling build/bdist.linux-x86_64/egg/spektral/layers/pooling/topk.py to topk.cpython-36.pyc\n",
            "byte-compiling build/bdist.linux-x86_64/egg/spektral/layers/pooling/diffpool.py to diffpool.cpython-36.pyc\n",
            "creating build/bdist.linux-x86_64/egg/EGG-INFO\n",
            "copying spektral.egg-info/PKG-INFO -> build/bdist.linux-x86_64/egg/EGG-INFO\n",
            "copying spektral.egg-info/SOURCES.txt -> build/bdist.linux-x86_64/egg/EGG-INFO\n",
            "copying spektral.egg-info/dependency_links.txt -> build/bdist.linux-x86_64/egg/EGG-INFO\n",
            "copying spektral.egg-info/requires.txt -> build/bdist.linux-x86_64/egg/EGG-INFO\n",
            "copying spektral.egg-info/top_level.txt -> build/bdist.linux-x86_64/egg/EGG-INFO\n",
            "zip_safe flag not set; analyzing archive contents...\n",
            "creating dist\n",
            "creating 'dist/spektral-0.4.0-py3.6.egg' and adding 'build/bdist.linux-x86_64/egg' to it\n",
            "removing 'build/bdist.linux-x86_64/egg' (and everything under it)\n",
            "Processing spektral-0.4.0-py3.6.egg\n",
            "Copying spektral-0.4.0-py3.6.egg to /usr/local/lib/python3.6/dist-packages\n",
            "Adding spektral 0.4.0 to easy-install.pth file\n",
            "\n",
            "Installed /usr/local/lib/python3.6/dist-packages/spektral-0.4.0-py3.6.egg\n",
            "Processing dependencies for spektral==0.4.0\n",
            "Searching for scikit-learn==0.22.2.post1\n",
            "Best match: scikit-learn 0.22.2.post1\n",
            "Adding scikit-learn 0.22.2.post1 to easy-install.pth file\n",
            "\n",
            "Using /usr/local/lib/python3.6/dist-packages\n",
            "Searching for requests==2.21.0\n",
            "Best match: requests 2.21.0\n",
            "Adding requests 2.21.0 to easy-install.pth file\n",
            "\n",
            "Using /usr/local/lib/python3.6/dist-packages\n",
            "Searching for scipy==1.4.1\n",
            "Best match: scipy 1.4.1\n",
            "Adding scipy 1.4.1 to easy-install.pth file\n",
            "\n",
            "Using /usr/local/lib/python3.6/dist-packages\n",
            "Searching for numpy==1.18.2\n",
            "Best match: numpy 1.18.2\n",
            "Adding numpy 1.18.2 to easy-install.pth file\n",
            "Installing f2py script to /usr/local/bin\n",
            "Installing f2py3 script to /usr/local/bin\n",
            "Installing f2py3.6 script to /usr/local/bin\n",
            "\n",
            "Using /usr/local/lib/python3.6/dist-packages\n",
            "Searching for pygraphviz==1.5\n",
            "Best match: pygraphviz 1.5\n",
            "Adding pygraphviz 1.5 to easy-install.pth file\n",
            "\n",
            "Using /usr/local/lib/python3.6/dist-packages\n",
            "Searching for joblib==0.14.1\n",
            "Best match: joblib 0.14.1\n",
            "Adding joblib 0.14.1 to easy-install.pth file\n",
            "\n",
            "Using /usr/local/lib/python3.6/dist-packages\n",
            "Searching for lxml==4.2.6\n",
            "Best match: lxml 4.2.6\n",
            "Adding lxml 4.2.6 to easy-install.pth file\n",
            "\n",
            "Using /usr/local/lib/python3.6/dist-packages\n",
            "Searching for pandas==1.0.3\n",
            "Best match: pandas 1.0.3\n",
            "Adding pandas 1.0.3 to easy-install.pth file\n",
            "\n",
            "Using /usr/local/lib/python3.6/dist-packages\n",
            "Searching for networkx==2.4\n",
            "Best match: networkx 2.4\n",
            "Adding networkx 2.4 to easy-install.pth file\n",
            "\n",
            "Using /usr/local/lib/python3.6/dist-packages\n",
            "Searching for tensorflow==2.2.0rc3\n",
            "Best match: tensorflow 2.2.0rc3\n",
            "Adding tensorflow 2.2.0rc3 to easy-install.pth file\n",
            "Installing estimator_ckpt_converter script to /usr/local/bin\n",
            "Installing saved_model_cli script to /usr/local/bin\n",
            "Installing tensorboard script to /usr/local/bin\n",
            "Installing tf_upgrade_v2 script to /usr/local/bin\n",
            "Installing tflite_convert script to /usr/local/bin\n",
            "Installing toco script to /usr/local/bin\n",
            "Installing toco_from_protos script to /usr/local/bin\n",
            "\n",
            "Using /usr/local/lib/python3.6/dist-packages\n",
            "Searching for certifi==2020.4.5.1\n",
            "Best match: certifi 2020.4.5.1\n",
            "Adding certifi 2020.4.5.1 to easy-install.pth file\n",
            "\n",
            "Using /usr/local/lib/python3.6/dist-packages\n",
            "Searching for urllib3==1.24.3\n",
            "Best match: urllib3 1.24.3\n",
            "Adding urllib3 1.24.3 to easy-install.pth file\n",
            "\n",
            "Using /usr/local/lib/python3.6/dist-packages\n",
            "Searching for idna==2.8\n",
            "Best match: idna 2.8\n",
            "Adding idna 2.8 to easy-install.pth file\n",
            "\n",
            "Using /usr/local/lib/python3.6/dist-packages\n",
            "Searching for chardet==3.0.4\n",
            "Best match: chardet 3.0.4\n",
            "Adding chardet 3.0.4 to easy-install.pth file\n",
            "Installing chardetect script to /usr/local/bin\n",
            "\n",
            "Using /usr/local/lib/python3.6/dist-packages\n",
            "Searching for pytz==2018.9\n",
            "Best match: pytz 2018.9\n",
            "Adding pytz 2018.9 to easy-install.pth file\n",
            "\n",
            "Using /usr/local/lib/python3.6/dist-packages\n",
            "Searching for python-dateutil==2.8.1\n",
            "Best match: python-dateutil 2.8.1\n",
            "Adding python-dateutil 2.8.1 to easy-install.pth file\n",
            "\n",
            "Using /usr/local/lib/python3.6/dist-packages\n",
            "Searching for decorator==4.4.2\n",
            "Best match: decorator 4.4.2\n",
            "Adding decorator 4.4.2 to easy-install.pth file\n",
            "\n",
            "Using /usr/local/lib/python3.6/dist-packages\n",
            "Searching for opt-einsum==3.2.0\n",
            "Best match: opt-einsum 3.2.0\n",
            "Adding opt-einsum 3.2.0 to easy-install.pth file\n",
            "\n",
            "Using /usr/local/lib/python3.6/dist-packages\n",
            "Searching for google-pasta==0.2.0\n",
            "Best match: google-pasta 0.2.0\n",
            "Adding google-pasta 0.2.0 to easy-install.pth file\n",
            "\n",
            "Using /usr/local/lib/python3.6/dist-packages\n",
            "Searching for protobuf==3.10.0\n",
            "Best match: protobuf 3.10.0\n",
            "Adding protobuf 3.10.0 to easy-install.pth file\n",
            "\n",
            "Using /usr/local/lib/python3.6/dist-packages\n",
            "Searching for wheel==0.34.2\n",
            "Best match: wheel 0.34.2\n",
            "Adding wheel 0.34.2 to easy-install.pth file\n",
            "Installing wheel script to /usr/local/bin\n",
            "\n",
            "Using /usr/local/lib/python3.6/dist-packages\n",
            "Searching for astunparse==1.6.3\n",
            "Best match: astunparse 1.6.3\n",
            "Adding astunparse 1.6.3 to easy-install.pth file\n",
            "\n",
            "Using /usr/local/lib/python3.6/dist-packages\n",
            "Searching for six==1.12.0\n",
            "Best match: six 1.12.0\n",
            "Adding six 1.12.0 to easy-install.pth file\n",
            "\n",
            "Using /usr/local/lib/python3.6/dist-packages\n",
            "Searching for tensorflow-estimator==2.2.0rc0\n",
            "Best match: tensorflow-estimator 2.2.0rc0\n",
            "Adding tensorflow-estimator 2.2.0rc0 to easy-install.pth file\n",
            "\n",
            "Using /usr/local/lib/python3.6/dist-packages\n",
            "Searching for gast==0.3.3\n",
            "Best match: gast 0.3.3\n",
            "Adding gast 0.3.3 to easy-install.pth file\n",
            "\n",
            "Using /usr/local/lib/python3.6/dist-packages\n",
            "Searching for Keras-Preprocessing==1.1.0\n",
            "Best match: Keras-Preprocessing 1.1.0\n",
            "Adding Keras-Preprocessing 1.1.0 to easy-install.pth file\n",
            "\n",
            "Using /usr/local/lib/python3.6/dist-packages\n",
            "Searching for termcolor==1.1.0\n",
            "Best match: termcolor 1.1.0\n",
            "Adding termcolor 1.1.0 to easy-install.pth file\n",
            "\n",
            "Using /usr/local/lib/python3.6/dist-packages\n",
            "Searching for absl-py==0.9.0\n",
            "Best match: absl-py 0.9.0\n",
            "Adding absl-py 0.9.0 to easy-install.pth file\n",
            "\n",
            "Using /usr/local/lib/python3.6/dist-packages\n",
            "Searching for grpcio==1.28.1\n",
            "Best match: grpcio 1.28.1\n",
            "Adding grpcio 1.28.1 to easy-install.pth file\n",
            "\n",
            "Using /usr/local/lib/python3.6/dist-packages\n",
            "Searching for wrapt==1.12.1\n",
            "Best match: wrapt 1.12.1\n",
            "Adding wrapt 1.12.1 to easy-install.pth file\n",
            "\n",
            "Using /usr/local/lib/python3.6/dist-packages\n",
            "Searching for h5py==2.10.0\n",
            "Best match: h5py 2.10.0\n",
            "Adding h5py 2.10.0 to easy-install.pth file\n",
            "\n",
            "Using /usr/local/lib/python3.6/dist-packages\n",
            "Searching for tensorboard==2.2.0\n",
            "Best match: tensorboard 2.2.0\n",
            "Adding tensorboard 2.2.0 to easy-install.pth file\n",
            "Installing tensorboard script to /usr/local/bin\n",
            "\n",
            "Using /usr/local/lib/python3.6/dist-packages\n",
            "Searching for setuptools==46.1.3\n",
            "Best match: setuptools 46.1.3\n",
            "Adding setuptools 46.1.3 to easy-install.pth file\n",
            "Installing easy_install script to /usr/local/bin\n",
            "Installing easy_install-3.8 script to /usr/local/bin\n",
            "\n",
            "Using /usr/local/lib/python3.6/dist-packages\n",
            "Searching for Markdown==3.2.1\n",
            "Best match: Markdown 3.2.1\n",
            "Adding Markdown 3.2.1 to easy-install.pth file\n",
            "Installing markdown_py script to /usr/local/bin\n",
            "\n",
            "Using /usr/local/lib/python3.6/dist-packages\n",
            "Searching for google-auth==1.7.2\n",
            "Best match: google-auth 1.7.2\n",
            "Adding google-auth 1.7.2 to easy-install.pth file\n",
            "\n",
            "Using /usr/local/lib/python3.6/dist-packages\n",
            "Searching for Werkzeug==1.0.1\n",
            "Best match: Werkzeug 1.0.1\n",
            "Adding Werkzeug 1.0.1 to easy-install.pth file\n",
            "\n",
            "Using /usr/local/lib/python3.6/dist-packages\n",
            "Searching for tensorboard-plugin-wit==1.6.0.post3\n",
            "Best match: tensorboard-plugin-wit 1.6.0.post3\n",
            "Adding tensorboard-plugin-wit 1.6.0.post3 to easy-install.pth file\n",
            "\n",
            "Using /usr/local/lib/python3.6/dist-packages\n",
            "Searching for google-auth-oauthlib==0.4.1\n",
            "Best match: google-auth-oauthlib 0.4.1\n",
            "Adding google-auth-oauthlib 0.4.1 to easy-install.pth file\n",
            "Installing google-oauthlib-tool script to /usr/local/bin\n",
            "\n",
            "Using /usr/local/lib/python3.6/dist-packages\n",
            "Searching for cachetools==3.1.1\n",
            "Best match: cachetools 3.1.1\n",
            "Adding cachetools 3.1.1 to easy-install.pth file\n",
            "\n",
            "Using /usr/local/lib/python3.6/dist-packages\n",
            "Searching for rsa==4.0\n",
            "Best match: rsa 4.0\n",
            "Adding rsa 4.0 to easy-install.pth file\n",
            "Installing pyrsa-decrypt script to /usr/local/bin\n",
            "Installing pyrsa-encrypt script to /usr/local/bin\n",
            "Installing pyrsa-keygen script to /usr/local/bin\n",
            "Installing pyrsa-priv2pub script to /usr/local/bin\n",
            "Installing pyrsa-sign script to /usr/local/bin\n",
            "Installing pyrsa-verify script to /usr/local/bin\n",
            "\n",
            "Using /usr/local/lib/python3.6/dist-packages\n",
            "Searching for pyasn1-modules==0.2.8\n",
            "Best match: pyasn1-modules 0.2.8\n",
            "Adding pyasn1-modules 0.2.8 to easy-install.pth file\n",
            "\n",
            "Using /usr/local/lib/python3.6/dist-packages\n",
            "Searching for requests-oauthlib==1.3.0\n",
            "Best match: requests-oauthlib 1.3.0\n",
            "Adding requests-oauthlib 1.3.0 to easy-install.pth file\n",
            "\n",
            "Using /usr/local/lib/python3.6/dist-packages\n",
            "Searching for pyasn1==0.4.8\n",
            "Best match: pyasn1 0.4.8\n",
            "Adding pyasn1 0.4.8 to easy-install.pth file\n",
            "\n",
            "Using /usr/local/lib/python3.6/dist-packages\n",
            "Searching for oauthlib==3.1.0\n",
            "Best match: oauthlib 3.1.0\n",
            "Adding oauthlib 3.1.0 to easy-install.pth file\n",
            "\n",
            "Using /usr/local/lib/python3.6/dist-packages\n",
            "Finished processing dependencies for spektral==0.4.0\n"
          ],
          "name": "stdout"
        }
      ]
    },
    {
      "cell_type": "code",
      "metadata": {
        "id": "5_Ruy5uKeEth",
        "colab_type": "code",
        "outputId": "a77200ee-b34b-4bef-b326-0ba4c511acf5",
        "colab": {
          "base_uri": "https://localhost:8080/",
          "height": 121
        }
      },
      "source": [
        "from google.colab import drive\n",
        "drive.mount('/content/drive')"
      ],
      "execution_count": 6,
      "outputs": [
        {
          "output_type": "stream",
          "text": [
            "Go to this URL in a browser: https://accounts.google.com/o/oauth2/auth?client_id=947318989803-6bn6qk8qdgf4n4g3pfee6491hc0brc4i.apps.googleusercontent.com&redirect_uri=urn%3aietf%3awg%3aoauth%3a2.0%3aoob&response_type=code&scope=email%20https%3a%2f%2fwww.googleapis.com%2fauth%2fdocs.test%20https%3a%2f%2fwww.googleapis.com%2fauth%2fdrive%20https%3a%2f%2fwww.googleapis.com%2fauth%2fdrive.photos.readonly%20https%3a%2f%2fwww.googleapis.com%2fauth%2fpeopleapi.readonly\n",
            "\n",
            "Enter your authorization code:\n",
            "··········\n",
            "Mounted at /content/drive\n"
          ],
          "name": "stdout"
        }
      ]
    },
    {
      "cell_type": "code",
      "metadata": {
        "colab_type": "code",
        "id": "yiKS7cpuYUm2",
        "colab": {}
      },
      "source": [
        "import numpy as np\n",
        "import pandas as pd\n",
        "df = pd.read_csv('/content/drive/My Drive/features_user_imp_added_german.csv')"
      ],
      "execution_count": 0,
      "outputs": []
    },
    {
      "cell_type": "code",
      "metadata": {
        "id": "DwSP8eDVhjJU",
        "colab_type": "code",
        "colab": {}
      },
      "source": [
        "from sklearn.metrics import precision_score\n",
        "from sklearn.metrics import recall_score\n",
        "from sklearn.metrics import f1_score\n",
        "from sklearn.metrics import accuracy_score\n",
        "import matplotlib.pyplot as plt\n",
        "from itertools import cycle\n",
        "from sklearn.metrics import roc_curve, auc\n",
        "from scipy import interp\n",
        "from sklearn.metrics import roc_auc_score\n",
        "from sklearn import metrics"
      ],
      "execution_count": 0,
      "outputs": []
    },
    {
      "cell_type": "code",
      "metadata": {
        "id": "Eu3I3gCgdYV4",
        "colab_type": "code",
        "outputId": "fa81d856-0145-4c50-b855-63b13fd79774",
        "colab": {
          "base_uri": "https://localhost:8080/",
          "height": 261
        }
      },
      "source": [
        "df.head()"
      ],
      "execution_count": 9,
      "outputs": [
        {
          "output_type": "execute_result",
          "data": {
            "text/html": [
              "<div>\n",
              "<style scoped>\n",
              "    .dataframe tbody tr th:only-of-type {\n",
              "        vertical-align: middle;\n",
              "    }\n",
              "\n",
              "    .dataframe tbody tr th {\n",
              "        vertical-align: top;\n",
              "    }\n",
              "\n",
              "    .dataframe thead th {\n",
              "        text-align: right;\n",
              "    }\n",
              "</style>\n",
              "<table border=\"1\" class=\"dataframe\">\n",
              "  <thead>\n",
              "    <tr style=\"text-align: right;\">\n",
              "      <th></th>\n",
              "      <th>Unnamed: 0</th>\n",
              "      <th>abl</th>\n",
              "      <th>aboard</th>\n",
              "      <th>abov</th>\n",
              "      <th>absolut</th>\n",
              "      <th>accid</th>\n",
              "      <th>accord</th>\n",
              "      <th>account</th>\n",
              "      <th>action</th>\n",
              "      <th>actual</th>\n",
              "      <th>affect</th>\n",
              "      <th>agre</th>\n",
              "      <th>ahead</th>\n",
              "      <th>aipx</th>\n",
              "      <th>airbu</th>\n",
              "      <th>airbusa</th>\n",
              "      <th>aircraft</th>\n",
              "      <th>airlin</th>\n",
              "      <th>airplan</th>\n",
              "      <th>airport</th>\n",
              "      <th>allah</th>\n",
              "      <th>allen</th>\n",
              "      <th>allow</th>\n",
              "      <th>almost</th>\n",
              "      <th>alp</th>\n",
              "      <th>alreadi</th>\n",
              "      <th>also</th>\n",
              "      <th>altitud</th>\n",
              "      <th>alway</th>\n",
              "      <th>american</th>\n",
              "      <th>among</th>\n",
              "      <th>andrea</th>\n",
              "      <th>andreaslubitz</th>\n",
              "      <th>angeh</th>\n",
              "      <th>angela</th>\n",
              "      <th>anoth</th>\n",
              "      <th>answer</th>\n",
              "      <th>anymor</th>\n",
              "      <th>anyon</th>\n",
              "      <th>anyth</th>\n",
              "      <th>...</th>\n",
              "      <th>vuelo</th>\n",
              "      <th>wait</th>\n",
              "      <th>wake</th>\n",
              "      <th>wakeupamerica</th>\n",
              "      <th>want</th>\n",
              "      <th>watch</th>\n",
              "      <th>weather</th>\n",
              "      <th>websit</th>\n",
              "      <th>week</th>\n",
              "      <th>weird</th>\n",
              "      <th>well</th>\n",
              "      <th>went</th>\n",
              "      <th>whether</th>\n",
              "      <th>white</th>\n",
              "      <th>whole</th>\n",
              "      <th>wind</th>\n",
              "      <th>wing</th>\n",
              "      <th>wish</th>\n",
              "      <th>within</th>\n",
              "      <th>without</th>\n",
              "      <th>wonder</th>\n",
              "      <th>word</th>\n",
              "      <th>work</th>\n",
              "      <th>worker</th>\n",
              "      <th>world</th>\n",
              "      <th>wors</th>\n",
              "      <th>worst</th>\n",
              "      <th>would</th>\n",
              "      <th>write</th>\n",
              "      <th>wrong</th>\n",
              "      <th>yeah</th>\n",
              "      <th>year</th>\n",
              "      <th>yesterday</th>\n",
              "      <th>young</th>\n",
              "      <th>user_id</th>\n",
              "      <th>favorites_count</th>\n",
              "      <th>verified</th>\n",
              "      <th>followers_count</th>\n",
              "      <th>user_imp</th>\n",
              "      <th>target_variables</th>\n",
              "    </tr>\n",
              "  </thead>\n",
              "  <tbody>\n",
              "    <tr>\n",
              "      <th>0</th>\n",
              "      <td>0</td>\n",
              "      <td>0.0</td>\n",
              "      <td>0.0</td>\n",
              "      <td>0.0</td>\n",
              "      <td>0.0</td>\n",
              "      <td>0.0</td>\n",
              "      <td>0.0</td>\n",
              "      <td>0.0</td>\n",
              "      <td>0.0</td>\n",
              "      <td>0.0</td>\n",
              "      <td>0.0</td>\n",
              "      <td>0.0</td>\n",
              "      <td>0.0</td>\n",
              "      <td>0.0</td>\n",
              "      <td>0.000000</td>\n",
              "      <td>0.0</td>\n",
              "      <td>0.0</td>\n",
              "      <td>0.0</td>\n",
              "      <td>0.0</td>\n",
              "      <td>0.0</td>\n",
              "      <td>0.0</td>\n",
              "      <td>0.0</td>\n",
              "      <td>0.0</td>\n",
              "      <td>0.0</td>\n",
              "      <td>0.0</td>\n",
              "      <td>0.0</td>\n",
              "      <td>0.0</td>\n",
              "      <td>0.0</td>\n",
              "      <td>0.0</td>\n",
              "      <td>0.0</td>\n",
              "      <td>0.0</td>\n",
              "      <td>0.0</td>\n",
              "      <td>0.0</td>\n",
              "      <td>0.0</td>\n",
              "      <td>0.0</td>\n",
              "      <td>0.0</td>\n",
              "      <td>0.0</td>\n",
              "      <td>0.0</td>\n",
              "      <td>0.0</td>\n",
              "      <td>0.0</td>\n",
              "      <td>...</td>\n",
              "      <td>0.0</td>\n",
              "      <td>0.0</td>\n",
              "      <td>0.0</td>\n",
              "      <td>0.0</td>\n",
              "      <td>0.0</td>\n",
              "      <td>0.0</td>\n",
              "      <td>0.0</td>\n",
              "      <td>0.0</td>\n",
              "      <td>0.0</td>\n",
              "      <td>0.0</td>\n",
              "      <td>0.0</td>\n",
              "      <td>0.0</td>\n",
              "      <td>0.0</td>\n",
              "      <td>0.0</td>\n",
              "      <td>0.0</td>\n",
              "      <td>0.0</td>\n",
              "      <td>0.0</td>\n",
              "      <td>0.0</td>\n",
              "      <td>0.0</td>\n",
              "      <td>0.0</td>\n",
              "      <td>0.0</td>\n",
              "      <td>0.0</td>\n",
              "      <td>0.0</td>\n",
              "      <td>0.0</td>\n",
              "      <td>0.0</td>\n",
              "      <td>0.0</td>\n",
              "      <td>0.0</td>\n",
              "      <td>0.0</td>\n",
              "      <td>0.0</td>\n",
              "      <td>0.0</td>\n",
              "      <td>0.0</td>\n",
              "      <td>0.0</td>\n",
              "      <td>0.0</td>\n",
              "      <td>0.0</td>\n",
              "      <td>8.330472e+06</td>\n",
              "      <td>15.0</td>\n",
              "      <td>1.0</td>\n",
              "      <td>179430.0</td>\n",
              "      <td>0.0007</td>\n",
              "      <td>0</td>\n",
              "    </tr>\n",
              "    <tr>\n",
              "      <th>1</th>\n",
              "      <td>1</td>\n",
              "      <td>0.0</td>\n",
              "      <td>0.0</td>\n",
              "      <td>0.0</td>\n",
              "      <td>0.0</td>\n",
              "      <td>0.0</td>\n",
              "      <td>0.0</td>\n",
              "      <td>0.0</td>\n",
              "      <td>0.0</td>\n",
              "      <td>0.0</td>\n",
              "      <td>0.0</td>\n",
              "      <td>0.0</td>\n",
              "      <td>0.0</td>\n",
              "      <td>0.0</td>\n",
              "      <td>0.000000</td>\n",
              "      <td>0.0</td>\n",
              "      <td>0.0</td>\n",
              "      <td>0.0</td>\n",
              "      <td>0.0</td>\n",
              "      <td>0.0</td>\n",
              "      <td>0.0</td>\n",
              "      <td>0.0</td>\n",
              "      <td>0.0</td>\n",
              "      <td>0.0</td>\n",
              "      <td>0.0</td>\n",
              "      <td>0.0</td>\n",
              "      <td>0.0</td>\n",
              "      <td>0.0</td>\n",
              "      <td>0.0</td>\n",
              "      <td>0.0</td>\n",
              "      <td>0.0</td>\n",
              "      <td>0.0</td>\n",
              "      <td>0.0</td>\n",
              "      <td>0.0</td>\n",
              "      <td>0.0</td>\n",
              "      <td>0.0</td>\n",
              "      <td>0.0</td>\n",
              "      <td>0.0</td>\n",
              "      <td>0.0</td>\n",
              "      <td>0.0</td>\n",
              "      <td>...</td>\n",
              "      <td>0.0</td>\n",
              "      <td>0.0</td>\n",
              "      <td>0.0</td>\n",
              "      <td>0.0</td>\n",
              "      <td>0.0</td>\n",
              "      <td>0.0</td>\n",
              "      <td>0.0</td>\n",
              "      <td>0.0</td>\n",
              "      <td>0.0</td>\n",
              "      <td>0.0</td>\n",
              "      <td>0.0</td>\n",
              "      <td>0.0</td>\n",
              "      <td>0.0</td>\n",
              "      <td>0.0</td>\n",
              "      <td>0.0</td>\n",
              "      <td>0.0</td>\n",
              "      <td>0.0</td>\n",
              "      <td>0.0</td>\n",
              "      <td>0.0</td>\n",
              "      <td>0.0</td>\n",
              "      <td>0.0</td>\n",
              "      <td>0.0</td>\n",
              "      <td>0.0</td>\n",
              "      <td>0.0</td>\n",
              "      <td>0.0</td>\n",
              "      <td>0.0</td>\n",
              "      <td>0.0</td>\n",
              "      <td>0.0</td>\n",
              "      <td>0.0</td>\n",
              "      <td>0.0</td>\n",
              "      <td>0.0</td>\n",
              "      <td>0.0</td>\n",
              "      <td>0.0</td>\n",
              "      <td>0.0</td>\n",
              "      <td>9.277131e+07</td>\n",
              "      <td>22.0</td>\n",
              "      <td>1.0</td>\n",
              "      <td>20839.0</td>\n",
              "      <td>0.0033</td>\n",
              "      <td>0</td>\n",
              "    </tr>\n",
              "    <tr>\n",
              "      <th>2</th>\n",
              "      <td>2</td>\n",
              "      <td>0.0</td>\n",
              "      <td>0.0</td>\n",
              "      <td>0.0</td>\n",
              "      <td>0.0</td>\n",
              "      <td>0.0</td>\n",
              "      <td>0.0</td>\n",
              "      <td>0.0</td>\n",
              "      <td>0.0</td>\n",
              "      <td>0.0</td>\n",
              "      <td>0.0</td>\n",
              "      <td>0.0</td>\n",
              "      <td>0.0</td>\n",
              "      <td>0.0</td>\n",
              "      <td>0.000000</td>\n",
              "      <td>0.0</td>\n",
              "      <td>0.0</td>\n",
              "      <td>0.0</td>\n",
              "      <td>0.0</td>\n",
              "      <td>0.0</td>\n",
              "      <td>0.0</td>\n",
              "      <td>0.0</td>\n",
              "      <td>0.0</td>\n",
              "      <td>0.0</td>\n",
              "      <td>0.0</td>\n",
              "      <td>0.0</td>\n",
              "      <td>0.0</td>\n",
              "      <td>0.0</td>\n",
              "      <td>0.0</td>\n",
              "      <td>0.0</td>\n",
              "      <td>0.0</td>\n",
              "      <td>0.0</td>\n",
              "      <td>0.0</td>\n",
              "      <td>0.0</td>\n",
              "      <td>0.0</td>\n",
              "      <td>0.0</td>\n",
              "      <td>0.0</td>\n",
              "      <td>0.0</td>\n",
              "      <td>0.0</td>\n",
              "      <td>0.0</td>\n",
              "      <td>...</td>\n",
              "      <td>0.0</td>\n",
              "      <td>0.0</td>\n",
              "      <td>0.0</td>\n",
              "      <td>0.0</td>\n",
              "      <td>0.0</td>\n",
              "      <td>0.0</td>\n",
              "      <td>0.0</td>\n",
              "      <td>0.0</td>\n",
              "      <td>0.0</td>\n",
              "      <td>0.0</td>\n",
              "      <td>0.0</td>\n",
              "      <td>0.0</td>\n",
              "      <td>0.0</td>\n",
              "      <td>0.0</td>\n",
              "      <td>0.0</td>\n",
              "      <td>0.0</td>\n",
              "      <td>0.0</td>\n",
              "      <td>0.0</td>\n",
              "      <td>0.0</td>\n",
              "      <td>0.0</td>\n",
              "      <td>0.0</td>\n",
              "      <td>0.0</td>\n",
              "      <td>0.0</td>\n",
              "      <td>0.0</td>\n",
              "      <td>0.0</td>\n",
              "      <td>0.0</td>\n",
              "      <td>0.0</td>\n",
              "      <td>0.0</td>\n",
              "      <td>0.0</td>\n",
              "      <td>0.0</td>\n",
              "      <td>0.0</td>\n",
              "      <td>0.0</td>\n",
              "      <td>0.0</td>\n",
              "      <td>0.0</td>\n",
              "      <td>3.660893e+08</td>\n",
              "      <td>2619.0</td>\n",
              "      <td>1.0</td>\n",
              "      <td>3237.0</td>\n",
              "      <td>0.0004</td>\n",
              "      <td>0</td>\n",
              "    </tr>\n",
              "    <tr>\n",
              "      <th>3</th>\n",
              "      <td>3</td>\n",
              "      <td>0.0</td>\n",
              "      <td>0.0</td>\n",
              "      <td>0.0</td>\n",
              "      <td>0.0</td>\n",
              "      <td>0.0</td>\n",
              "      <td>0.0</td>\n",
              "      <td>0.0</td>\n",
              "      <td>0.0</td>\n",
              "      <td>0.0</td>\n",
              "      <td>0.0</td>\n",
              "      <td>0.0</td>\n",
              "      <td>0.0</td>\n",
              "      <td>0.0</td>\n",
              "      <td>-0.014178</td>\n",
              "      <td>0.0</td>\n",
              "      <td>0.0</td>\n",
              "      <td>0.0</td>\n",
              "      <td>0.0</td>\n",
              "      <td>0.0</td>\n",
              "      <td>0.0</td>\n",
              "      <td>0.0</td>\n",
              "      <td>0.0</td>\n",
              "      <td>0.0</td>\n",
              "      <td>0.0</td>\n",
              "      <td>0.0</td>\n",
              "      <td>0.0</td>\n",
              "      <td>0.0</td>\n",
              "      <td>0.0</td>\n",
              "      <td>0.0</td>\n",
              "      <td>0.0</td>\n",
              "      <td>0.0</td>\n",
              "      <td>0.0</td>\n",
              "      <td>0.0</td>\n",
              "      <td>0.0</td>\n",
              "      <td>0.0</td>\n",
              "      <td>0.0</td>\n",
              "      <td>0.0</td>\n",
              "      <td>0.0</td>\n",
              "      <td>0.0</td>\n",
              "      <td>...</td>\n",
              "      <td>0.0</td>\n",
              "      <td>0.0</td>\n",
              "      <td>0.0</td>\n",
              "      <td>0.0</td>\n",
              "      <td>0.0</td>\n",
              "      <td>0.0</td>\n",
              "      <td>0.0</td>\n",
              "      <td>0.0</td>\n",
              "      <td>0.0</td>\n",
              "      <td>0.0</td>\n",
              "      <td>0.0</td>\n",
              "      <td>0.0</td>\n",
              "      <td>0.0</td>\n",
              "      <td>0.0</td>\n",
              "      <td>0.0</td>\n",
              "      <td>0.0</td>\n",
              "      <td>0.0</td>\n",
              "      <td>0.0</td>\n",
              "      <td>0.0</td>\n",
              "      <td>0.0</td>\n",
              "      <td>0.0</td>\n",
              "      <td>0.0</td>\n",
              "      <td>0.0</td>\n",
              "      <td>0.0</td>\n",
              "      <td>0.0</td>\n",
              "      <td>0.0</td>\n",
              "      <td>0.0</td>\n",
              "      <td>0.0</td>\n",
              "      <td>0.0</td>\n",
              "      <td>0.0</td>\n",
              "      <td>0.0</td>\n",
              "      <td>0.0</td>\n",
              "      <td>0.0</td>\n",
              "      <td>0.0</td>\n",
              "      <td>1.621157e+07</td>\n",
              "      <td>61700.0</td>\n",
              "      <td>1.0</td>\n",
              "      <td>11982.0</td>\n",
              "      <td>0.0011</td>\n",
              "      <td>0</td>\n",
              "    </tr>\n",
              "    <tr>\n",
              "      <th>4</th>\n",
              "      <td>4</td>\n",
              "      <td>0.0</td>\n",
              "      <td>0.0</td>\n",
              "      <td>0.0</td>\n",
              "      <td>0.0</td>\n",
              "      <td>0.0</td>\n",
              "      <td>0.0</td>\n",
              "      <td>0.0</td>\n",
              "      <td>0.0</td>\n",
              "      <td>0.0</td>\n",
              "      <td>0.0</td>\n",
              "      <td>0.0</td>\n",
              "      <td>0.0</td>\n",
              "      <td>0.0</td>\n",
              "      <td>0.000000</td>\n",
              "      <td>0.0</td>\n",
              "      <td>0.0</td>\n",
              "      <td>0.0</td>\n",
              "      <td>0.0</td>\n",
              "      <td>0.0</td>\n",
              "      <td>0.0</td>\n",
              "      <td>0.0</td>\n",
              "      <td>0.0</td>\n",
              "      <td>0.0</td>\n",
              "      <td>0.0</td>\n",
              "      <td>0.0</td>\n",
              "      <td>0.0</td>\n",
              "      <td>0.0</td>\n",
              "      <td>0.0</td>\n",
              "      <td>0.0</td>\n",
              "      <td>0.0</td>\n",
              "      <td>0.0</td>\n",
              "      <td>0.0</td>\n",
              "      <td>0.0</td>\n",
              "      <td>0.0</td>\n",
              "      <td>0.0</td>\n",
              "      <td>0.0</td>\n",
              "      <td>0.0</td>\n",
              "      <td>0.0</td>\n",
              "      <td>0.0</td>\n",
              "      <td>...</td>\n",
              "      <td>0.0</td>\n",
              "      <td>0.0</td>\n",
              "      <td>0.0</td>\n",
              "      <td>0.0</td>\n",
              "      <td>0.0</td>\n",
              "      <td>0.0</td>\n",
              "      <td>0.0</td>\n",
              "      <td>0.0</td>\n",
              "      <td>0.0</td>\n",
              "      <td>0.0</td>\n",
              "      <td>0.0</td>\n",
              "      <td>0.0</td>\n",
              "      <td>0.0</td>\n",
              "      <td>0.0</td>\n",
              "      <td>0.0</td>\n",
              "      <td>0.0</td>\n",
              "      <td>0.0</td>\n",
              "      <td>0.0</td>\n",
              "      <td>0.0</td>\n",
              "      <td>0.0</td>\n",
              "      <td>0.0</td>\n",
              "      <td>0.0</td>\n",
              "      <td>0.0</td>\n",
              "      <td>0.0</td>\n",
              "      <td>0.0</td>\n",
              "      <td>0.0</td>\n",
              "      <td>0.0</td>\n",
              "      <td>0.0</td>\n",
              "      <td>0.0</td>\n",
              "      <td>0.0</td>\n",
              "      <td>0.0</td>\n",
              "      <td>0.0</td>\n",
              "      <td>0.0</td>\n",
              "      <td>0.0</td>\n",
              "      <td>2.566535e+09</td>\n",
              "      <td>6204.0</td>\n",
              "      <td>1.0</td>\n",
              "      <td>35880.0</td>\n",
              "      <td>0.0091</td>\n",
              "      <td>1</td>\n",
              "    </tr>\n",
              "  </tbody>\n",
              "</table>\n",
              "<p>5 rows × 768 columns</p>\n",
              "</div>"
            ],
            "text/plain": [
              "   Unnamed: 0  abl  aboard  ...  followers_count  user_imp  target_variables\n",
              "0           0  0.0     0.0  ...         179430.0    0.0007                 0\n",
              "1           1  0.0     0.0  ...          20839.0    0.0033                 0\n",
              "2           2  0.0     0.0  ...           3237.0    0.0004                 0\n",
              "3           3  0.0     0.0  ...          11982.0    0.0011                 0\n",
              "4           4  0.0     0.0  ...          35880.0    0.0091                 1\n",
              "\n",
              "[5 rows x 768 columns]"
            ]
          },
          "metadata": {
            "tags": []
          },
          "execution_count": 9
        }
      ]
    },
    {
      "cell_type": "code",
      "metadata": {
        "id": "o4XIT3ZPbTs3",
        "colab_type": "code",
        "colab": {}
      },
      "source": [
        "df.drop('Unnamed: 0', axis = 1, inplace = True)"
      ],
      "execution_count": 0,
      "outputs": []
    },
    {
      "cell_type": "code",
      "metadata": {
        "id": "6U0fqCsZbTs6",
        "colab_type": "code",
        "outputId": "5cca863f-63b9-4833-e5d4-3def71933141",
        "colab": {
          "base_uri": "https://localhost:8080/",
          "height": 34
        }
      },
      "source": [
        "df.shape"
      ],
      "execution_count": 11,
      "outputs": [
        {
          "output_type": "execute_result",
          "data": {
            "text/plain": [
              "(2906, 767)"
            ]
          },
          "metadata": {
            "tags": []
          },
          "execution_count": 11
        }
      ]
    },
    {
      "cell_type": "code",
      "metadata": {
        "id": "X6R0aYNUufNB",
        "colab_type": "code",
        "outputId": "9ba7d15d-4dc3-4a1b-e4f6-f964b6cf7cb9",
        "colab": {
          "base_uri": "https://localhost:8080/",
          "height": 34
        }
      },
      "source": [
        "df.target_variables.nunique()"
      ],
      "execution_count": 12,
      "outputs": [
        {
          "output_type": "execute_result",
          "data": {
            "text/plain": [
              "2"
            ]
          },
          "metadata": {
            "tags": []
          },
          "execution_count": 12
        }
      ]
    },
    {
      "cell_type": "code",
      "metadata": {
        "id": "g3pZCHeCbTs9",
        "colab_type": "code",
        "colab": {}
      },
      "source": [
        "X = df.iloc[:, :-1].values #Take all the columns except last one\n",
        "y = df.iloc[:, -1].values #Take the last column as the result\n",
        "from scipy import sparse\n",
        "#X_csr = sparse.csr_matrix(X)"
      ],
      "execution_count": 0,
      "outputs": []
    },
    {
      "cell_type": "code",
      "metadata": {
        "id": "iefK_CgSbTs_",
        "colab_type": "code",
        "outputId": "8370a107-69f8-47fc-8bf2-eb9becb23d99",
        "colab": {
          "base_uri": "https://localhost:8080/",
          "height": 34
        }
      },
      "source": [
        "y.shape"
      ],
      "execution_count": 14,
      "outputs": [
        {
          "output_type": "execute_result",
          "data": {
            "text/plain": [
              "(2906,)"
            ]
          },
          "metadata": {
            "tags": []
          },
          "execution_count": 14
        }
      ]
    },
    {
      "cell_type": "code",
      "metadata": {
        "id": "vUxE1X_DbTtI",
        "colab_type": "code",
        "colab": {}
      },
      "source": [
        "import networkx as nx"
      ],
      "execution_count": 0,
      "outputs": []
    },
    {
      "cell_type": "code",
      "metadata": {
        "id": "7y0EpO_ebTtK",
        "colab_type": "code",
        "outputId": "30a654c3-f49f-4648-c5cc-22243ef59de1",
        "colab": {
          "base_uri": "https://localhost:8080/",
          "height": 34
        }
      },
      "source": [
        "G = nx.read_multiline_adjlist(\"/content/drive/My Drive/test_german.adjlist\")\n",
        "A = nx.adjacency_matrix(G)\n",
        "A.shape"
      ],
      "execution_count": 16,
      "outputs": [
        {
          "output_type": "execute_result",
          "data": {
            "text/plain": [
              "(2906, 2906)"
            ]
          },
          "metadata": {
            "tags": []
          },
          "execution_count": 16
        }
      ]
    },
    {
      "cell_type": "code",
      "metadata": {
        "id": "yKIh3Q9JbTtP",
        "colab_type": "code",
        "colab": {}
      },
      "source": [
        "n1 = df['target_variables']\n",
        "classes = 2\n",
        "y = np.zeros((len(df),classes))\n",
        "#labels\n",
        "n = list(n1)\n",
        "for i in range(len(df)):\n",
        "    if (n[i] == 1):\n",
        "        y[i,1] = 1\n",
        "    elif (n[i] == 0):\n",
        "        y[i,0] = 1\n",
        "\n"
      ],
      "execution_count": 0,
      "outputs": []
    },
    {
      "cell_type": "code",
      "metadata": {
        "id": "blZo1aT8bTtR",
        "colab_type": "code",
        "colab": {}
      },
      "source": [
        "N = A.shape[0]\n",
        "F = X.shape[-1]\n",
        "n_classes = y.shape[-1]"
      ],
      "execution_count": 0,
      "outputs": []
    },
    {
      "cell_type": "code",
      "metadata": {
        "id": "k408JMXXgNOt",
        "colab_type": "code",
        "outputId": "7848d63a-5ff5-4f9c-89ba-bfac7d0c64a7",
        "colab": {
          "base_uri": "https://localhost:8080/",
          "height": 34
        }
      },
      "source": [
        "type(X)"
      ],
      "execution_count": 19,
      "outputs": [
        {
          "output_type": "execute_result",
          "data": {
            "text/plain": [
              "numpy.ndarray"
            ]
          },
          "metadata": {
            "tags": []
          },
          "execution_count": 19
        }
      ]
    },
    {
      "cell_type": "code",
      "metadata": {
        "id": "DBwFHQirg4S0",
        "colab_type": "code",
        "outputId": "ef30ab02-78c9-4d2e-ad6b-2de6bcd0161e",
        "colab": {
          "base_uri": "https://localhost:8080/",
          "height": 34
        }
      },
      "source": [
        "y.shape"
      ],
      "execution_count": 20,
      "outputs": [
        {
          "output_type": "execute_result",
          "data": {
            "text/plain": [
              "(2906, 2)"
            ]
          },
          "metadata": {
            "tags": []
          },
          "execution_count": 20
        }
      ]
    },
    {
      "cell_type": "code",
      "metadata": {
        "colab_type": "code",
        "id": "TsZSQiXaamMT",
        "colab": {}
      },
      "source": [
        "from spektral.layers import GraphConv\n",
        "from tensorflow.keras.models import Model\n",
        "from tensorflow.keras.layers import Input, Dropout\n",
        "#import tensorflow as tf\n",
        "from tensorflow.keras.models import Model\n",
        "from tensorflow.keras.layers import Input, Dropout\n",
        "from sklearn.metrics import confusion_matrix\n",
        "from sklearn.model_selection import KFold"
      ],
      "execution_count": 0,
      "outputs": []
    },
    {
      "cell_type": "code",
      "metadata": {
        "id": "mWacBW8BleXY",
        "colab_type": "code",
        "colab": {}
      },
      "source": [
        "y1 = df['target_variables']"
      ],
      "execution_count": 0,
      "outputs": []
    },
    {
      "cell_type": "code",
      "metadata": {
        "id": "8DRnaRgql6el",
        "colab_type": "code",
        "colab": {}
      },
      "source": [
        "from sklearn.preprocessing import StandardScaler"
      ],
      "execution_count": 0,
      "outputs": []
    },
    {
      "cell_type": "code",
      "metadata": {
        "id": "KcUDGRPcAe2s",
        "colab_type": "code",
        "colab": {}
      },
      "source": [
        "import matplotlib.pyplot as plt\n",
        "from itertools import cycle\n",
        "from sklearn.metrics import roc_curve, auc\n",
        "from sklearn.preprocessing import label_binarize\n",
        "from scipy import interp\n",
        "from sklearn.metrics import roc_auc_score\n",
        "from tensorflow.keras import regularizers"
      ],
      "execution_count": 0,
      "outputs": []
    },
    {
      "cell_type": "code",
      "metadata": {
        "id": "B-OAHWAcdo6O",
        "colab_type": "code",
        "colab": {}
      },
      "source": [
        "from tensorflow.keras.callbacks import EarlyStopping\n",
        "from tensorflow.keras.layers import Input, Dropout\n",
        "from tensorflow.keras.models import Model\n",
        "from tensorflow.keras.optimizers import Adam\n",
        "from tensorflow.keras.regularizers import l2\n",
        "\n",
        "from spektral.datasets import citation\n",
        "from spektral.layers import GraphConv"
      ],
      "execution_count": 0,
      "outputs": []
    },
    {
      "cell_type": "code",
      "metadata": {
        "id": "Zy0BXnXudtgP",
        "colab_type": "code",
        "colab": {}
      },
      "source": [
        "# Parameters\n",
        "channels = 32           # Number of channels in the first layer\n",
        "#N = X.shape[0]          # Number of nodes in the graph\n",
        "#F = X.shape[1]          # Original size of node features\n",
        "#n_classes = y.shape[1]  # Number of classes\n",
        "dropout = 0.5           # Dropout rate for the features\n",
        "l2_reg = 5e-4 / 2       # L2 regularization rate\n",
        "learning_rate = 1e-2    # Learning rate\n",
        "epochs = 300            # Number of training epochs\n",
        "es_patience = 10        # Patience for early stopping\n"
      ],
      "execution_count": 0,
      "outputs": []
    },
    {
      "cell_type": "code",
      "metadata": {
        "id": "9F6xZdFod1OR",
        "colab_type": "code",
        "outputId": "4f1ca2a5-5542-42ed-cf09-86257490ac4a",
        "colab": {
          "base_uri": "https://localhost:8080/",
          "height": 386
        }
      },
      "source": [
        "# Preprocessing operations\n",
        "fltr = GraphConv.preprocess(A).astype('f4')\n",
        "#X = X.toarray()\n",
        "# Model definition\n",
        "X_in = Input(shape=(F, ))\n",
        "fltr_in = Input((N, ), sparse=True)\n",
        "\n",
        "\n",
        "dropout_1 = Dropout(dropout)(X_in)\n",
        "graph_conv_1 = GraphConv(channels,\n",
        "                        activation='relu',\n",
        "                        kernel_regularizer=l2(l2_reg),\n",
        "                        use_bias=False)([dropout_1, fltr_in])\n",
        "dropout_2 = Dropout(dropout)(graph_conv_1)\n",
        "graph_conv_2 = GraphConv(n_classes,\n",
        "                        activation='sigmoid',\n",
        "                        use_bias=False)([dropout_2, fltr_in])\n",
        "\n",
        "# Build model\n",
        "model = Model(inputs=[X_in, fltr_in], outputs=graph_conv_2)\n",
        "optimizer = Adam(lr=learning_rate)\n",
        "model.compile(optimizer=optimizer,\n",
        "              loss='binary_crossentropy',\n",
        "              weighted_metrics=['acc'])\n",
        "model.summary()"
      ],
      "execution_count": 28,
      "outputs": [
        {
          "output_type": "stream",
          "text": [
            "Model: \"model\"\n",
            "__________________________________________________________________________________________________\n",
            "Layer (type)                    Output Shape         Param #     Connected to                     \n",
            "==================================================================================================\n",
            "input_1 (InputLayer)            [(None, 766)]        0                                            \n",
            "__________________________________________________________________________________________________\n",
            "dropout (Dropout)               (None, 766)          0           input_1[0][0]                    \n",
            "__________________________________________________________________________________________________\n",
            "input_2 (InputLayer)            [(None, 2906)]       0                                            \n",
            "__________________________________________________________________________________________________\n",
            "graph_conv (GraphConv)          (None, 32)           24512       dropout[0][0]                    \n",
            "                                                                 input_2[0][0]                    \n",
            "__________________________________________________________________________________________________\n",
            "dropout_1 (Dropout)             (None, 32)           0           graph_conv[0][0]                 \n",
            "__________________________________________________________________________________________________\n",
            "graph_conv_1 (GraphConv)        (None, 2)            64          dropout_1[0][0]                  \n",
            "                                                                 input_2[0][0]                    \n",
            "==================================================================================================\n",
            "Total params: 24,576\n",
            "Trainable params: 24,576\n",
            "Non-trainable params: 0\n",
            "__________________________________________________________________________________________________\n"
          ],
          "name": "stdout"
        }
      ]
    },
    {
      "cell_type": "code",
      "metadata": {
        "id": "5CRSgPebbTtZ",
        "colab_type": "code",
        "outputId": "0592e2eb-87d5-4770-cc35-3e9390d890cb",
        "colab": {
          "base_uri": "https://localhost:8080/",
          "height": 1000
        }
      },
      "source": [
        "# define 5-fold cross validation test harness\n",
        "\n",
        "kfold = KFold(n_splits=5, shuffle=True, random_state=0)\n",
        "tp = []\n",
        "tn = []\n",
        "fp = []\n",
        "fn = []\n",
        "\n",
        "metrics_acc = []\n",
        "metrics_precision = []\n",
        "metrics_recall = []\n",
        "metrics_f1 = []\n",
        "pmacro = []\n",
        "pmicro = []\n",
        "pbinary = []\n",
        "rmacro = []\n",
        "rmicro = []\n",
        "rbi = []\n",
        "a = []\n",
        "f = []\n",
        "\n",
        "for k, (train, test) in enumerate(kfold.split(X, y1)):\n",
        "  \n",
        "    #plotter = tfdocs.plots.HistoryPlotter(metric = 'binary_crossentropy', smoothing_std=10)\n",
        "    #regularizer_histories = {}\n",
        "    print(\"k : \", k)\n",
        "  #standardize\n",
        "    sc_X = StandardScaler() \n",
        "    X[train] = sc_X.fit_transform(X[train]) \n",
        "    X[test] = sc_X.transform(X[test])\n",
        "    #X_csr = sparse.csr_matrix(X)\n",
        "    print(\"done scaling\")\n",
        "    \n",
        "    l = []\n",
        "    for i in range(0, len(df)):\n",
        "        l.append(False)\n",
        "    #train indices\n",
        "    train_indices = list(train)    \n",
        "    for i in train_indices:\n",
        "        l[i] = True\n",
        "\n",
        "    print(\"train mask processing: \")\n",
        "    train_mask = np.array(l)\n",
        "\n",
        "    l = []\n",
        "    for i in range(0, len(df)):\n",
        "      l.append(False)\n",
        "     #test indices           \n",
        "    test_indices = list(test)  \n",
        "    for i in test_indices:\n",
        "      l[i] = True\n",
        "    print(\"test mask processing: \")\n",
        "    test_mask = np.array(l)\n",
        "    \n",
        "    #validation indices (taken at random)\n",
        "    val = np.random.choice(2906, 300, replace = False)            \n",
        "    val_indices = list(val)    \n",
        "    l = []\n",
        "    for i in range(0, len(df)):\n",
        "      l.append(False)\n",
        "    for i in val_indices:\n",
        "      l[i] = True\n",
        "    val_mask = np.array(l)\n",
        "    print(\"val mask processing: \")\n",
        "   \n",
        "\n",
        "    # Model definition\n",
        "    #X_in = Input(shape=(F, ))  # Input layer for X\n",
        "    #A_in = Input((N, ), sparse=True)  # Input layer for A\n",
        "\n",
        "    #graph_conv_1 = GraphConv(32, activation='relu')([X_in, A_in])\n",
        "    print(\"graph conv1\")\n",
        "    #dropout = Dropout(0.5)(graph_conv_1)\n",
        "    #graph_conv_2 = GraphConv(n_classes, activation='sigmoid', \n",
        "     #                        kernel_regularizer=regularizers.l2(0.5))([dropout, A_in])\n",
        "\n",
        "    # Build model\n",
        "    #model = Model(inputs=[X_in, A_in], outputs=graph_conv_2)\n",
        "    #from spektral import utils\n",
        "    #A = utils.localpooling_filter(A)\n",
        "    #model.compile(optimizer='adam',\n",
        "     #             loss='binary_crossentropy',\n",
        "      #            weighted_metrics=['acc'])\n",
        "    # Train model\n",
        "    validation_data = ([X, fltr], y, val_mask)\n",
        "    history = model.fit([X, fltr],\n",
        "              y,\n",
        "              sample_weight=train_mask,\n",
        "              epochs=epochs,\n",
        "              batch_size=N,\n",
        "              validation_data=validation_data,\n",
        "              shuffle=False,\n",
        "              callbacks=[\n",
        "              EarlyStopping(patience=es_patience,  restore_best_weights=True)\n",
        "          ])  # Shuffling data means shuffling the whole graph\n",
        "\n",
        "      \n",
        "    \n",
        "    # Evaluate model\n",
        "    eval_results = model.evaluate([X, fltr],\n",
        "                                  y,\n",
        "                                  sample_weight=test_mask,\n",
        "                                  batch_size=N)\n",
        "    print('Done.\\n'\n",
        "          'Test loss: {}\\n'\n",
        "          'Test accuracy: {}'.format(*eval_results))\n",
        "    \n",
        "    import scipy\n",
        "    A1 = scipy.sparse.csr_matrix.todense(fltr)\n",
        "    A1 = pd.DataFrame(A1)\n",
        "    A1 = A1.loc[test_indices,test_indices]\n",
        "    A2 = sparse.csr_matrix(A1)\n",
        "    #A2.shape\n",
        "  \n",
        "    #google\n",
        "    y_pred = model.predict(\n",
        "        [X[test], A2], batch_size=N, verbose=0, steps=None, callbacks=None, max_queue_size=10,\n",
        "        workers=1, use_multiprocessing=False\n",
        "    )\n",
        "\n",
        "    \n",
        "    \n",
        "    predict_class = np.argmax(y_pred, axis=1)\n",
        "    y2 = np.zeros((len(test),classes))\n",
        "    for i in range(len(test)):\n",
        "        if (predict_class[i] == 1):\n",
        "            y2[i,1] = 1\n",
        "        elif (predict_class[i] == 0):\n",
        "            y2[i,0] = 1\n",
        "\n",
        "    fpr = dict()\n",
        "    tpr = dict()\n",
        "    roc_auc = dict()\n",
        "    for i in range(n_classes):\n",
        "        fpr[i], tpr[i], _ = roc_curve(y[test, i], y2[:, i])\n",
        "        roc_auc[i] = auc(fpr[i], tpr[i])\n",
        "\n",
        "    # Compute micro-average ROC curve and ROC area\n",
        "    fpr[\"micro\"], tpr[\"micro\"], _ = roc_curve(y[test].ravel(), y2.ravel())\n",
        "    roc_auc[\"micro\"] = auc(fpr[\"micro\"], tpr[\"micro\"])\n",
        "\n",
        "    # First aggregate all false positive rates\n",
        "    all_fpr = np.unique(np.concatenate([fpr[i] for i in range(n_classes)]))\n",
        "\n",
        "    # Then interpolate all ROC curves at this points\n",
        "    mean_tpr = np.zeros_like(all_fpr)\n",
        "    for i in range(n_classes):\n",
        "        mean_tpr += interp(all_fpr, fpr[i], tpr[i])\n",
        "\n",
        "    # Finally average it and compute AUC\n",
        "    mean_tpr /= n_classes\n",
        "    lw = 2\n",
        "    fpr[\"macro\"] = all_fpr\n",
        "    tpr[\"macro\"] = mean_tpr\n",
        "    roc_auc[\"macro\"] = auc(fpr[\"macro\"], tpr[\"macro\"])\n",
        "\n",
        "    # Plot all ROC curves\n",
        "    plt.figure()\n",
        "    plt.plot(fpr[\"micro\"], tpr[\"micro\"],\n",
        "            label='micro-average ROC curve (area = {0:0.2f})'\n",
        "                  ''.format(roc_auc[\"micro\"]),\n",
        "            color='deeppink', linestyle=':', linewidth=4)\n",
        "\n",
        "    plt.plot([0, 1], [0, 1], 'k--', lw=lw)\n",
        "    plt.xlim([0.0, 1.0])\n",
        "    plt.ylim([0.0, 1.05])\n",
        "    plt.xlabel('False Positive Rate')\n",
        "    plt.ylabel('True Positive Rate')\n",
        "    plt.title('Receiver operating characteristic')\n",
        "    plt.legend(loc=\"lower right\")\n",
        "    plt.show()\n",
        "  \n",
        "    #print(predict_class)\n",
        "    conf_mat = confusion_matrix(y1[test], predict_class)\n",
        "    \n",
        "    print(conf_mat)\n",
        "    \n",
        "    #Evaluation Measures\n",
        "    TP = np.diag(conf_mat)\n",
        "    print(\"True Positive: \", TP)\n",
        "    FP = np.sum(conf_mat, axis=0) - TP\n",
        "    print(\"False Positive: \", FP)\n",
        "    FN = np.sum(conf_mat, axis=1) - TP\n",
        "    print(\"False Negative\", FN)\n",
        "    num_classes = classes\n",
        "    TN = []\n",
        "    for i in range(num_classes):\n",
        "        temp = np.delete(conf_mat, i, 0)    # delete ith row\n",
        "        temp = np.delete(temp, i, 1)  # delete ith column\n",
        "        TN.append(sum(sum(temp)))\n",
        "    print(\"True negative: \", TN)\n",
        "\n",
        "    acc = (TP+TN)/(TP+TN+FP+FN)\n",
        "    precision = TP/(TP+FP)\n",
        "    recall = TP/(TP+FN)\n",
        "    \n",
        "    print(\"Accuracy: \", acc)\n",
        "\n",
        "    print(\"precision: \", precision)\n",
        "    print(\"recall: \", recall)\n",
        "    F1 = 2 * ((precision * recall)/(precision + recall))\n",
        "    tp.append(TP)\n",
        "    tn.append(TN)\n",
        "    fp.append(FP)\n",
        "    fn.append(FN)\n",
        "    \n",
        "    \n",
        "    metrics_acc.append(acc)\n",
        "    metrics_precision.append(precision)\n",
        "    metrics_recall.append(recall)\n",
        "    metrics_f1.append(F1)\n",
        "    print (\"F1 measure: \", F1)\n",
        "\n",
        "\n",
        "\n",
        "  \n",
        "    #print(predict_class)\n",
        "    conf_mat = confusion_matrix(y1[test], predict_class)\n",
        "    \n",
        "    print(conf_mat)\n",
        "    p = precision_score(y1[test], predict_class, average='binary')\n",
        "    print('Precision binary: %.3f' % p)\n",
        "    pbinary.append(p)\n",
        "    p1 = precision_score(y1[test], predict_class, average='micro')\n",
        "    print('Precision micro: %.3f' % p1)\n",
        "    pmicro.append(p1)\n",
        "    p2 = precision_score(y1[test], predict_class, average='macro')\n",
        "    print('Precision macro: %.3f' % p2)\n",
        "    pmacro.append(p2)\n",
        "    r = recall_score(y1[test], predict_class, average='binary')\n",
        "    print('Recall binary: %.3f' % r)\n",
        "    rbi.append(r)\n",
        "    r1 = recall_score(y1[test], predict_class, average='micro')\n",
        "    print('Recall micro: %.3f' % r1)\n",
        "    rmicro.append(r1)\n",
        "    r2 = recall_score(y1[test], predict_class, average='macro')\n",
        "    print('Recall macro: %.3f' % r2)\n",
        "    rmacro.append(r2)\n",
        "    s = f1_score(y1[test], predict_class, average='binary')\n",
        "    print('F-Measure: %.3f' % s)\n",
        "    f.append(s)\n",
        "\n",
        "    ac = accuracy_score(y1[test], predict_class)\n",
        "    a.append(ac)\n",
        "    #Evaluation Measures\n",
        "    TP = np.diag(conf_mat)\n",
        "    print(\"True Positive: \", TP)\n",
        "    FP = np.sum(conf_mat, axis=0) - TP\n",
        "    print(\"False Positive: \", FP)\n",
        "    FN = np.sum(conf_mat, axis=1) - TP\n",
        "    print(\"False Negative\", FN)\n",
        "    num_classes = classes\n",
        "    TN = []\n",
        "    for i in range(num_classes):\n",
        "        temp = np.delete(conf_mat, i, 0)    # delete ith row\n",
        "        temp = np.delete(temp, i, 1)  # delete ith column\n",
        "        TN.append(sum(sum(temp)))\n",
        "    print(\"True negative: \", TN)\n",
        "\n",
        "    acc = (TP+TN)/(TP+TN+FP+FN)\n",
        "    precision = TP/(TP+FP)\n",
        "    recall = TP/(TP+FN)\n",
        "    \n",
        "    print(\"Accuracy: \", acc)\n",
        "\n",
        "    print(\"precision: \", precision)\n",
        "    print(\"recall: \", recall)\n",
        "    F1 = 2 * ((precision * recall)/(precision + recall))\n",
        "    tp.append(TP)\n",
        "    tn.append(TN)\n",
        "    fp.append(FP)\n",
        "    fn.append(FN)\n",
        "    \n",
        "    \n",
        "    metrics_acc.append(acc)\n",
        "    metrics_precision.append(precision)\n",
        "    metrics_recall.append(recall)\n",
        "    metrics_f1.append(F1)\n",
        "    print (\"F1 measure: \", F1)\n",
        "\n",
        "    "
      ],
      "execution_count": 46,
      "outputs": [
        {
          "output_type": "stream",
          "text": [
            "k :  0\n",
            "done scaling\n",
            "train mask processing: \n",
            "test mask processing: \n",
            "val mask processing: \n",
            "graph conv1\n",
            "Epoch 1/300\n",
            "1/1 [==============================] - 0s 352ms/step - loss: 0.3467 - acc: 0.8270 - val_loss: 0.0595 - val_acc: 0.8533\n",
            "Epoch 2/300\n",
            "1/1 [==============================] - 0s 348ms/step - loss: 0.3293 - acc: 0.8485 - val_loss: 0.0594 - val_acc: 0.8533\n",
            "Epoch 3/300\n",
            "1/1 [==============================] - 0s 339ms/step - loss: 0.3422 - acc: 0.8356 - val_loss: 0.0594 - val_acc: 0.8533\n",
            "Epoch 4/300\n",
            "1/1 [==============================] - 0s 365ms/step - loss: 0.3220 - acc: 0.8477 - val_loss: 0.0596 - val_acc: 0.8500\n",
            "Epoch 5/300\n",
            "1/1 [==============================] - 0s 345ms/step - loss: 0.3310 - acc: 0.8404 - val_loss: 0.0598 - val_acc: 0.8467\n",
            "Epoch 6/300\n",
            "1/1 [==============================] - 0s 366ms/step - loss: 0.3358 - acc: 0.8429 - val_loss: 0.0602 - val_acc: 0.8467\n",
            "Epoch 7/300\n",
            "1/1 [==============================] - 0s 387ms/step - loss: 0.3385 - acc: 0.8378 - val_loss: 0.0607 - val_acc: 0.8467\n",
            "Epoch 8/300\n",
            "1/1 [==============================] - 0s 360ms/step - loss: 0.3287 - acc: 0.8477 - val_loss: 0.0612 - val_acc: 0.8433\n",
            "Epoch 9/300\n",
            "1/1 [==============================] - 0s 385ms/step - loss: 0.3444 - acc: 0.8326 - val_loss: 0.0618 - val_acc: 0.8433\n",
            "Epoch 10/300\n",
            "1/1 [==============================] - 0s 371ms/step - loss: 0.3493 - acc: 0.8391 - val_loss: 0.0622 - val_acc: 0.8433\n",
            "Epoch 11/300\n",
            "1/1 [==============================] - 0s 383ms/step - loss: 0.3409 - acc: 0.8378 - val_loss: 0.0627 - val_acc: 0.8433\n",
            "Epoch 12/300\n",
            "1/1 [==============================] - 0s 391ms/step - loss: 0.3348 - acc: 0.8361 - val_loss: 0.0632 - val_acc: 0.8400\n",
            "1/1 [==============================] - 0s 2ms/step - loss: 0.0933 - acc: 0.8643\n",
            "Done.\n",
            "Test loss: 0.0933300331234932\n",
            "Test accuracy: 0.8642611503601074\n"
          ],
          "name": "stdout"
        },
        {
          "output_type": "stream",
          "text": [
            "/usr/local/lib/python3.6/dist-packages/ipykernel_launcher.py:147: DeprecationWarning: scipy.interp is deprecated and will be removed in SciPy 2.0.0, use numpy.interp instead\n"
          ],
          "name": "stderr"
        },
        {
          "output_type": "display_data",
          "data": {
            "image/png": "[encoded data removed]",
            "text/plain": [
              "<Figure size 432x288 with 1 Axes>"
            ]
          },
          "metadata": {
            "tags": [],
            "needs_background": "light"
          }
        },
        {
          "output_type": "stream",
          "text": [
            "[[227  54]\n",
            " [ 99 202]]\n",
            "True Positive:  [227 202]\n",
            "False Positive:  [99 54]\n",
            "False Negative [54 99]\n",
            "True negative:  [202, 227]\n",
            "Accuracy:  [0.7371134 0.7371134]\n",
            "precision:  [0.69631902 0.7890625 ]\n",
            "recall:  [0.80782918 0.67109635]\n",
            "F1 measure:  [0.74794069 0.72531418]\n",
            "[[227  54]\n",
            " [ 99 202]]\n",
            "Precision binary: 0.789\n",
            "Precision micro: 0.737\n",
            "Precision macro: 0.743\n",
            "Recall binary: 0.671\n",
            "Recall micro: 0.737\n",
            "Recall macro: 0.739\n",
            "F-Measure: 0.725\n",
            "True Positive:  [227 202]\n",
            "False Positive:  [99 54]\n",
            "False Negative [54 99]\n",
            "True negative:  [202, 227]\n",
            "Accuracy:  [0.7371134 0.7371134]\n",
            "precision:  [0.69631902 0.7890625 ]\n",
            "recall:  [0.80782918 0.67109635]\n",
            "F1 measure:  [0.74794069 0.72531418]\n",
            "k :  1\n",
            "done scaling\n",
            "train mask processing: \n",
            "test mask processing: \n",
            "val mask processing: \n",
            "graph conv1\n",
            "Epoch 1/300\n",
            "1/1 [==============================] - 0s 367ms/step - loss: 0.3559 - acc: 0.8198 - val_loss: 0.0593 - val_acc: 0.8733\n",
            "Epoch 2/300\n",
            "1/1 [==============================] - 0s 364ms/step - loss: 0.3561 - acc: 0.8275 - val_loss: 0.0593 - val_acc: 0.8733\n",
            "Epoch 3/300\n",
            "1/1 [==============================] - 0s 359ms/step - loss: 0.3559 - acc: 0.8249 - val_loss: 0.0593 - val_acc: 0.8700\n",
            "Epoch 4/300\n",
            "1/1 [==============================] - 0s 367ms/step - loss: 0.3410 - acc: 0.8409 - val_loss: 0.0593 - val_acc: 0.8700\n",
            "Epoch 5/300\n",
            "1/1 [==============================] - 0s 363ms/step - loss: 0.3403 - acc: 0.8327 - val_loss: 0.0595 - val_acc: 0.8733\n",
            "Epoch 6/300\n",
            "1/1 [==============================] - 0s 369ms/step - loss: 0.3371 - acc: 0.8353 - val_loss: 0.0597 - val_acc: 0.8700\n",
            "Epoch 7/300\n",
            "1/1 [==============================] - 0s 377ms/step - loss: 0.3576 - acc: 0.8211 - val_loss: 0.0598 - val_acc: 0.8733\n",
            "Epoch 8/300\n",
            "1/1 [==============================] - 0s 361ms/step - loss: 0.3541 - acc: 0.8159 - val_loss: 0.0600 - val_acc: 0.8733\n",
            "Epoch 9/300\n",
            "1/1 [==============================] - 0s 351ms/step - loss: 0.3489 - acc: 0.8262 - val_loss: 0.0602 - val_acc: 0.8633\n",
            "Epoch 10/300\n",
            "1/1 [==============================] - 0s 354ms/step - loss: 0.3510 - acc: 0.8305 - val_loss: 0.0605 - val_acc: 0.8600\n",
            "Epoch 11/300\n",
            "1/1 [==============================] - 0s 363ms/step - loss: 0.3424 - acc: 0.8245 - val_loss: 0.0607 - val_acc: 0.8600\n",
            "Epoch 12/300\n",
            "1/1 [==============================] - 0s 358ms/step - loss: 0.3492 - acc: 0.8383 - val_loss: 0.0609 - val_acc: 0.8500\n",
            "Epoch 13/300\n",
            "1/1 [==============================] - 0s 369ms/step - loss: 0.3458 - acc: 0.8353 - val_loss: 0.0612 - val_acc: 0.8433\n",
            "1/1 [==============================] - 0s 2ms/step - loss: 0.0845 - acc: 0.8778\n",
            "Done.\n",
            "Test loss: 0.08451221883296967\n",
            "Test accuracy: 0.8777968883514404\n"
          ],
          "name": "stdout"
        },
        {
          "output_type": "stream",
          "text": [
            "/usr/local/lib/python3.6/dist-packages/ipykernel_launcher.py:147: DeprecationWarning: scipy.interp is deprecated and will be removed in SciPy 2.0.0, use numpy.interp instead\n"
          ],
          "name": "stderr"
        },
        {
          "output_type": "display_data",
          "data": {
            "image/png": "[encoded data removed]",
            "text/plain": [
              "<Figure size 432x288 with 1 Axes>"
            ]
          },
          "metadata": {
            "tags": [],
            "needs_background": "light"
          }
        },
        {
          "output_type": "stream",
          "text": [
            "[[245  37]\n",
            " [110 189]]\n",
            "True Positive:  [245 189]\n",
            "False Positive:  [110  37]\n",
            "False Negative [ 37 110]\n",
            "True negative:  [189, 245]\n",
            "Accuracy:  [0.74698795 0.74698795]\n",
            "precision:  [0.69014085 0.83628319]\n",
            "recall:  [0.86879433 0.63210702]\n",
            "F1 measure:  [0.76923077 0.72      ]\n",
            "[[245  37]\n",
            " [110 189]]\n",
            "Precision binary: 0.836\n",
            "Precision micro: 0.747\n",
            "Precision macro: 0.763\n",
            "Recall binary: 0.632\n",
            "Recall micro: 0.747\n",
            "Recall macro: 0.750\n",
            "F-Measure: 0.720\n",
            "True Positive:  [245 189]\n",
            "False Positive:  [110  37]\n",
            "False Negative [ 37 110]\n",
            "True negative:  [189, 245]\n",
            "Accuracy:  [0.74698795 0.74698795]\n",
            "precision:  [0.69014085 0.83628319]\n",
            "recall:  [0.86879433 0.63210702]\n",
            "F1 measure:  [0.76923077 0.72      ]\n",
            "k :  2\n",
            "done scaling\n",
            "train mask processing: \n",
            "test mask processing: \n",
            "val mask processing: \n",
            "graph conv1\n",
            "Epoch 1/300\n",
            "1/1 [==============================] - 0s 344ms/step - loss: 19005798400.0000 - acc: 0.8099 - val_loss: 2793717760.0000 - val_acc: 0.8967\n",
            "Epoch 2/300\n",
            "1/1 [==============================] - 0s 358ms/step - loss: 30381785088.0000 - acc: 0.8310 - val_loss: 2236021248.0000 - val_acc: 0.8933\n",
            "Epoch 3/300\n",
            "1/1 [==============================] - 0s 354ms/step - loss: 23557799936.0000 - acc: 0.8237 - val_loss: 1426374784.0000 - val_acc: 0.8900\n",
            "Epoch 4/300\n",
            "1/1 [==============================] - 0s 355ms/step - loss: 0.3420 - acc: 0.8391 - val_loss: 779286656.0000 - val_acc: 0.8867\n",
            "Epoch 5/300\n",
            "1/1 [==============================] - 0s 372ms/step - loss: 0.3546 - acc: 0.8254 - val_loss: 473636832.0000 - val_acc: 0.8900\n",
            "Epoch 6/300\n",
            "1/1 [==============================] - 0s 356ms/step - loss: 3207827200.0000 - acc: 0.8258 - val_loss: 222496544.0000 - val_acc: 0.8900\n",
            "Epoch 7/300\n",
            "1/1 [==============================] - 0s 345ms/step - loss: 0.3557 - acc: 0.8237 - val_loss: 152995296.0000 - val_acc: 0.8867\n",
            "Epoch 8/300\n",
            "1/1 [==============================] - 0s 339ms/step - loss: 1929345536.0000 - acc: 0.8271 - val_loss: 108046040.0000 - val_acc: 0.8900\n",
            "Epoch 9/300\n",
            "1/1 [==============================] - 0s 351ms/step - loss: 0.3365 - acc: 0.8387 - val_loss: 74262320.0000 - val_acc: 0.8900\n",
            "Epoch 10/300\n",
            "1/1 [==============================] - 0s 358ms/step - loss: 726553280.0000 - acc: 0.8267 - val_loss: 19135216.0000 - val_acc: 0.8900\n",
            "Epoch 11/300\n",
            "1/1 [==============================] - 0s 353ms/step - loss: 3551142.7500 - acc: 0.8267 - val_loss: 4590572.5000 - val_acc: 0.8933\n",
            "Epoch 12/300\n",
            "1/1 [==============================] - 0s 371ms/step - loss: 69377920.0000 - acc: 0.8374 - val_loss: 0.0554 - val_acc: 0.8933\n",
            "Epoch 13/300\n",
            "1/1 [==============================] - 0s 346ms/step - loss: 0.3600 - acc: 0.8224 - val_loss: 0.0556 - val_acc: 0.8900\n",
            "Epoch 14/300\n",
            "1/1 [==============================] - 0s 345ms/step - loss: 0.3519 - acc: 0.8335 - val_loss: 0.0560 - val_acc: 0.8933\n",
            "Epoch 15/300\n",
            "1/1 [==============================] - 0s 350ms/step - loss: 0.3596 - acc: 0.8215 - val_loss: 0.0562 - val_acc: 0.8867\n",
            "Epoch 16/300\n",
            "1/1 [==============================] - 0s 368ms/step - loss: 0.3436 - acc: 0.8327 - val_loss: 0.0564 - val_acc: 0.8900\n",
            "Epoch 17/300\n",
            "1/1 [==============================] - 0s 352ms/step - loss: 0.3449 - acc: 0.8370 - val_loss: 0.0568 - val_acc: 0.8833\n",
            "Epoch 18/300\n",
            "1/1 [==============================] - 0s 334ms/step - loss: 0.3494 - acc: 0.8318 - val_loss: 0.0572 - val_acc: 0.8800\n",
            "Epoch 19/300\n",
            "1/1 [==============================] - 0s 360ms/step - loss: 0.3459 - acc: 0.8202 - val_loss: 0.0576 - val_acc: 0.8767\n",
            "Epoch 20/300\n",
            "1/1 [==============================] - 0s 346ms/step - loss: 0.3435 - acc: 0.8391 - val_loss: 0.0581 - val_acc: 0.8767\n",
            "Epoch 21/300\n",
            "1/1 [==============================] - 0s 352ms/step - loss: 0.3494 - acc: 0.8198 - val_loss: 0.0584 - val_acc: 0.8767\n",
            "Epoch 22/300\n",
            "1/1 [==============================] - 0s 352ms/step - loss: 0.3441 - acc: 0.8353 - val_loss: 0.0587 - val_acc: 0.8733\n",
            "1/1 [==============================] - 0s 1ms/step - loss: 0.1028 - acc: 0.8365\n",
            "Done.\n",
            "Test loss: 0.10280554741621017\n",
            "Test accuracy: 0.8364887833595276\n"
          ],
          "name": "stdout"
        },
        {
          "output_type": "stream",
          "text": [
            "/usr/local/lib/python3.6/dist-packages/ipykernel_launcher.py:147: DeprecationWarning: scipy.interp is deprecated and will be removed in SciPy 2.0.0, use numpy.interp instead\n"
          ],
          "name": "stderr"
        },
        {
          "output_type": "display_data",
          "data": {
            "image/png": "[encoded data removed]",
            "text/plain": [
              "<Figure size 432x288 with 1 Axes>"
            ]
          },
          "metadata": {
            "tags": [],
            "needs_background": "light"
          }
        },
        {
          "output_type": "stream",
          "text": [
            "[[247  48]\n",
            " [112 174]]\n",
            "True Positive:  [247 174]\n",
            "False Positive:  [112  48]\n",
            "False Negative [ 48 112]\n",
            "True negative:  [174, 247]\n",
            "Accuracy:  [0.72461274 0.72461274]\n",
            "precision:  [0.68802228 0.78378378]\n",
            "recall:  [0.83728814 0.60839161]\n",
            "F1 measure:  [0.75535168 0.68503937]\n",
            "[[247  48]\n",
            " [112 174]]\n",
            "Precision binary: 0.784\n",
            "Precision micro: 0.725\n",
            "Precision macro: 0.736\n",
            "Recall binary: 0.608\n",
            "Recall micro: 0.725\n",
            "Recall macro: 0.723\n",
            "F-Measure: 0.685\n",
            "True Positive:  [247 174]\n",
            "False Positive:  [112  48]\n",
            "False Negative [ 48 112]\n",
            "True negative:  [174, 247]\n",
            "Accuracy:  [0.72461274 0.72461274]\n",
            "precision:  [0.68802228 0.78378378]\n",
            "recall:  [0.83728814 0.60839161]\n",
            "F1 measure:  [0.75535168 0.68503937]\n",
            "k :  3\n",
            "done scaling\n",
            "train mask processing: \n",
            "test mask processing: \n",
            "val mask processing: \n",
            "graph conv1\n",
            "Epoch 1/300\n",
            "1/1 [==============================] - 0s 350ms/step - loss: 0.3663 - acc: 0.8181 - val_loss: 0.0556 - val_acc: 0.8867\n",
            "Epoch 2/300\n",
            "1/1 [==============================] - 0s 346ms/step - loss: 0.3712 - acc: 0.8198 - val_loss: 0.0552 - val_acc: 0.8867\n",
            "Epoch 3/300\n",
            "1/1 [==============================] - 0s 343ms/step - loss: 0.3506 - acc: 0.8280 - val_loss: 0.0551 - val_acc: 0.8867\n",
            "Epoch 4/300\n",
            "1/1 [==============================] - 0s 347ms/step - loss: 0.3544 - acc: 0.8297 - val_loss: 0.0552 - val_acc: 0.8933\n",
            "Epoch 5/300\n",
            "1/1 [==============================] - 0s 369ms/step - loss: 0.3507 - acc: 0.8297 - val_loss: 0.0556 - val_acc: 0.8867\n",
            "Epoch 6/300\n",
            "1/1 [==============================] - 0s 348ms/step - loss: 0.3419 - acc: 0.8331 - val_loss: 0.0559 - val_acc: 0.8833\n",
            "Epoch 7/300\n",
            "1/1 [==============================] - 0s 349ms/step - loss: 0.3431 - acc: 0.8366 - val_loss: 0.0563 - val_acc: 0.8833\n",
            "Epoch 8/300\n",
            "1/1 [==============================] - 0s 341ms/step - loss: 0.3412 - acc: 0.8370 - val_loss: 0.0567 - val_acc: 0.8833\n",
            "Epoch 9/300\n",
            "1/1 [==============================] - 0s 355ms/step - loss: 0.3475 - acc: 0.8353 - val_loss: 0.0570 - val_acc: 0.8767\n",
            "Epoch 10/300\n",
            "1/1 [==============================] - 0s 353ms/step - loss: 0.3480 - acc: 0.8181 - val_loss: 0.0572 - val_acc: 0.8833\n",
            "Epoch 11/300\n",
            "1/1 [==============================] - 0s 373ms/step - loss: 0.3502 - acc: 0.8245 - val_loss: 0.0574 - val_acc: 0.8867\n",
            "Epoch 12/300\n",
            "1/1 [==============================] - 0s 368ms/step - loss: 0.3397 - acc: 0.8331 - val_loss: 0.0576 - val_acc: 0.8900\n",
            "Epoch 13/300\n",
            "1/1 [==============================] - 0s 351ms/step - loss: 0.3477 - acc: 0.8241 - val_loss: 0.0577 - val_acc: 0.8933\n",
            "1/1 [==============================] - 0s 1ms/step - loss: 0.0911 - acc: 0.8657\n",
            "Done.\n",
            "Test loss: 0.09110892564058304\n",
            "Test accuracy: 0.8657487034797668\n"
          ],
          "name": "stdout"
        },
        {
          "output_type": "stream",
          "text": [
            "/usr/local/lib/python3.6/dist-packages/ipykernel_launcher.py:147: DeprecationWarning: scipy.interp is deprecated and will be removed in SciPy 2.0.0, use numpy.interp instead\n"
          ],
          "name": "stderr"
        },
        {
          "output_type": "display_data",
          "data": {
            "image/png": "[encoded data removed]",
            "text/plain": [
              "<Figure size 432x288 with 1 Axes>"
            ]
          },
          "metadata": {
            "tags": [],
            "needs_background": "light"
          }
        },
        {
          "output_type": "stream",
          "text": [
            "[[246  56]\n",
            " [ 74 205]]\n",
            "True Positive:  [246 205]\n",
            "False Positive:  [74 56]\n",
            "False Negative [56 74]\n",
            "True negative:  [205, 246]\n",
            "Accuracy:  [0.77624785 0.77624785]\n",
            "precision:  [0.76875    0.78544061]\n",
            "recall:  [0.81456954 0.73476703]\n",
            "F1 measure:  [0.79099678 0.75925926]\n",
            "[[246  56]\n",
            " [ 74 205]]\n",
            "Precision binary: 0.785\n",
            "Precision micro: 0.776\n",
            "Precision macro: 0.777\n",
            "Recall binary: 0.735\n",
            "Recall micro: 0.776\n",
            "Recall macro: 0.775\n",
            "F-Measure: 0.759\n",
            "True Positive:  [246 205]\n",
            "False Positive:  [74 56]\n",
            "False Negative [56 74]\n",
            "True negative:  [205, 246]\n",
            "Accuracy:  [0.77624785 0.77624785]\n",
            "precision:  [0.76875    0.78544061]\n",
            "recall:  [0.81456954 0.73476703]\n",
            "F1 measure:  [0.79099678 0.75925926]\n",
            "k :  4\n",
            "done scaling\n",
            "train mask processing: \n",
            "test mask processing: \n",
            "val mask processing: \n",
            "graph conv1\n",
            "Epoch 1/300\n",
            "1/1 [==============================] - 0s 359ms/step - loss: 0.3638 - acc: 0.8194 - val_loss: 0.0595 - val_acc: 0.8600\n",
            "Epoch 2/300\n",
            "1/1 [==============================] - 0s 350ms/step - loss: 0.3532 - acc: 0.8297 - val_loss: 0.0594 - val_acc: 0.8600\n",
            "Epoch 3/300\n",
            "1/1 [==============================] - 0s 354ms/step - loss: 0.3538 - acc: 0.8280 - val_loss: 0.0595 - val_acc: 0.8667\n",
            "Epoch 4/300\n",
            "1/1 [==============================] - 0s 373ms/step - loss: 0.3588 - acc: 0.8228 - val_loss: 0.0596 - val_acc: 0.8700\n",
            "Epoch 5/300\n",
            "1/1 [==============================] - 0s 341ms/step - loss: 0.3422 - acc: 0.8378 - val_loss: 0.0597 - val_acc: 0.8700\n",
            "Epoch 6/300\n",
            "1/1 [==============================] - 0s 348ms/step - loss: 0.3441 - acc: 0.8383 - val_loss: 0.0599 - val_acc: 0.8700\n",
            "Epoch 7/300\n",
            "1/1 [==============================] - 0s 349ms/step - loss: 0.3425 - acc: 0.8219 - val_loss: 0.0601 - val_acc: 0.8733\n",
            "Epoch 8/300\n",
            "1/1 [==============================] - 0s 347ms/step - loss: 0.3515 - acc: 0.8331 - val_loss: 0.0601 - val_acc: 0.8700\n",
            "Epoch 9/300\n",
            "1/1 [==============================] - 0s 340ms/step - loss: 0.3545 - acc: 0.8245 - val_loss: 0.0602 - val_acc: 0.8667\n",
            "Epoch 10/300\n",
            "1/1 [==============================] - 0s 342ms/step - loss: 0.3485 - acc: 0.8262 - val_loss: 0.0604 - val_acc: 0.8700\n",
            "Epoch 11/300\n",
            "1/1 [==============================] - 0s 352ms/step - loss: 0.3486 - acc: 0.8284 - val_loss: 0.0605 - val_acc: 0.8667\n",
            "Epoch 12/300\n",
            "1/1 [==============================] - 0s 352ms/step - loss: 0.3517 - acc: 0.8310 - val_loss: 0.0606 - val_acc: 0.8600\n",
            "1/1 [==============================] - 0s 1ms/step - loss: 0.0848 - acc: 0.8967\n",
            "Done.\n",
            "Test loss: 0.08479644358158112\n",
            "Test accuracy: 0.8967297673225403\n"
          ],
          "name": "stdout"
        },
        {
          "output_type": "stream",
          "text": [
            "/usr/local/lib/python3.6/dist-packages/ipykernel_launcher.py:147: DeprecationWarning: scipy.interp is deprecated and will be removed in SciPy 2.0.0, use numpy.interp instead\n"
          ],
          "name": "stderr"
        },
        {
          "output_type": "display_data",
          "data": {
            "image/png": "[encoded data removed]",
            "text/plain": [
              "<Figure size 432x288 with 1 Axes>"
            ]
          },
          "metadata": {
            "tags": [],
            "needs_background": "light"
          }
        },
        {
          "output_type": "stream",
          "text": [
            "[[235  47]\n",
            " [ 79 220]]\n",
            "True Positive:  [235 220]\n",
            "False Positive:  [79 47]\n",
            "False Negative [47 79]\n",
            "True negative:  [220, 235]\n",
            "Accuracy:  [0.78313253 0.78313253]\n",
            "precision:  [0.74840764 0.82397004]\n",
            "recall:  [0.83333333 0.73578595]\n",
            "F1 measure:  [0.7885906  0.77738516]\n",
            "[[235  47]\n",
            " [ 79 220]]\n",
            "Precision binary: 0.824\n",
            "Precision micro: 0.783\n",
            "Precision macro: 0.786\n",
            "Recall binary: 0.736\n",
            "Recall micro: 0.783\n",
            "Recall macro: 0.785\n",
            "F-Measure: 0.777\n",
            "True Positive:  [235 220]\n",
            "False Positive:  [79 47]\n",
            "False Negative [47 79]\n",
            "True negative:  [220, 235]\n",
            "Accuracy:  [0.78313253 0.78313253]\n",
            "precision:  [0.74840764 0.82397004]\n",
            "recall:  [0.83333333 0.73578595]\n",
            "F1 measure:  [0.7885906  0.77738516]\n"
          ],
          "name": "stdout"
        }
      ]
    },
    {
      "cell_type": "code",
      "metadata": {
        "id": "tUiIJSwDCQDS",
        "colab_type": "code",
        "colab": {}
      },
      "source": [
        "pmacro = []\n",
        "pmicro = []\n",
        "pbinary = []\n",
        "rmacro = []\n",
        "rmicro = []\n",
        "rbi = []\n",
        "a = []\n",
        "f = []\n"
      ],
      "execution_count": 0,
      "outputs": []
    },
    {
      "cell_type": "code",
      "metadata": {
        "id": "sSCV-qR1ComT",
        "colab_type": "code",
        "colab": {
          "base_uri": "https://localhost:8080/",
          "height": 101
        },
        "outputId": "da5f2076-d89e-41dd-aa91-cbdb4272e8ae"
      },
      "source": [
        "a"
      ],
      "execution_count": 45,
      "outputs": [
        {
          "output_type": "execute_result",
          "data": {
            "text/plain": [
              "[0.7319587628865979,\n",
              " 0.7538726333907056,\n",
              " 0.8055077452667814,\n",
              " 0.76592082616179,\n",
              " 0.7762478485370051]"
            ]
          },
          "metadata": {
            "tags": []
          },
          "execution_count": 45
        }
      ]
    },
    {
      "cell_type": "code",
      "metadata": {
        "id": "ZTafXCD0C-qa",
        "colab_type": "code",
        "colab": {
          "base_uri": "https://localhost:8080/",
          "height": 151
        },
        "outputId": "4294c2a9-e704-4607-ab17-447e64e77f61"
      },
      "source": [
        "print(\"precision macro: \", np.array(pmacro).mean())\n",
        "print(\"precision micro: \", np.array(pmicro).mean())\n",
        "print(\"precision binary macro: \", np.array(pbinary).mean())\n",
        "print(\"accuracy: \", np.array(a).mean())\n",
        "print(\"recall macro: \", np.array(rmacro).mean())\n",
        "print(\"recall micro: \", np.array(rmicro).mean())\n",
        "print(\"recall binary macro: \", np.array(rbi).mean())\n",
        "print(\"f1: \", np.array(f).mean())"
      ],
      "execution_count": 47,
      "outputs": [
        {
          "output_type": "stream",
          "text": [
            "precision macro:  0.761017991101449\n",
            "precision micro:  0.7536188938375002\n",
            "precision binary macro:  0.803708024020899\n",
            "accuracy:  0.7536188938375002\n",
            "recall macro:  0.7543962468670984\n",
            "recall micro:  0.7536188938375002\n",
            "recall binary macro:  0.6764295911169586\n",
            "f1:  0.7333995942944957\n"
          ],
          "name": "stdout"
        }
      ]
    },
    {
      "cell_type": "code",
      "metadata": {
        "id": "Fo4Lz6x395A3",
        "colab_type": "code",
        "colab": {}
      },
      "source": [
        "''' viz = metrics.plot_roc_curve(model, X[test], predict_class,\n",
        "                             name='ROC fold {}'.format(i),\n",
        "                             alpha=0.3, lw=1, ax=ax)\n",
        "    interp_tpr = interp(mean_fpr, viz.fpr, viz.tpr)\n",
        "    interp_tpr[0] = 0.0\n",
        "    tprs.append(interp_tpr)\n",
        "    aucs.append(viz.roc_auc)\n",
        "    '''\n",
        "    '''ax.plot([0, 1], [0, 1], linestyle='--', lw=2, color='r',\n",
        "            label='Chance', alpha=.8)\n",
        "\n",
        "mean_tpr = np.mean(tprs, axis=0)\n",
        "mean_tpr[-1] = 1.0\n",
        "mean_auc = auc(mean_fpr, mean_tpr)\n",
        "std_auc = np.std(aucs)\n",
        "ax.plot(mean_fpr, mean_tpr, color='b',\n",
        "        label=r'Mean ROC (AUC = %0.2f $\\pm$ %0.2f)' % (mean_auc, std_auc),\n",
        "        lw=2, alpha=.8)\n",
        "\n",
        "std_tpr = np.std(tprs, axis=0)\n",
        "tprs_upper = np.minimum(mean_tpr + std_tpr, 1)\n",
        "tprs_lower = np.maximum(mean_tpr - std_tpr, 0)\n",
        "ax.fill_between(mean_fpr, tprs_lower, tprs_upper, color='grey', alpha=.2,\n",
        "                label=r'$\\pm$ 1 std. dev.')\n",
        "\n",
        "ax.set(xlim=[-0.05, 1.05], ylim=[-0.05, 1.05],\n",
        "       title=\"Receiver operating characteristic example\")\n",
        "ax.legend(loc=\"lower right\")\n",
        "plt.show()\n"
      ],
      "execution_count": 0,
      "outputs": []
    },
    {
      "cell_type": "code",
      "metadata": {
        "id": "MsgPKlfWuJQN",
        "colab_type": "code",
        "colab": {}
      },
      "source": [
        "import pickle\n",
        "with open('/content/drive/My Drive/tp_spektral_german', 'wb') as filehandle:\n",
        "    # store the data as binary data stream\n",
        "    pickle.dump(tp, filehandle)"
      ],
      "execution_count": 0,
      "outputs": []
    },
    {
      "cell_type": "code",
      "metadata": {
        "id": "vjLk5kx-938B",
        "colab_type": "code",
        "colab": {}
      },
      "source": [
        ""
      ],
      "execution_count": 0,
      "outputs": []
    },
    {
      "cell_type": "code",
      "metadata": {
        "id": "jFAE_kwTKSbf",
        "colab_type": "code",
        "colab": {}
      },
      "source": [
        "with open('/content/drive/My Drive/tn_spektral_german', 'wb') as filehandle:\n",
        "    # store the data as binary data stream\n",
        "    pickle.dump(tn, filehandle)"
      ],
      "execution_count": 0,
      "outputs": []
    },
    {
      "cell_type": "code",
      "metadata": {
        "id": "Bve-XrChKJDs",
        "colab_type": "code",
        "colab": {}
      },
      "source": [
        "\n",
        "with open('/content/drive/My Drive/fp__spektral_german', 'wb') as filehandle:\n",
        "    # store the data as binary data stream\n",
        "    pickle.dump(fp, filehandle)"
      ],
      "execution_count": 0,
      "outputs": []
    },
    {
      "cell_type": "code",
      "metadata": {
        "id": "Dpeyfn_aJ7vu",
        "colab_type": "code",
        "colab": {}
      },
      "source": [
        "with open('/content/drive/My Drive/fn__spektral_german', 'wb') as filehandle:\n",
        "    # store the data as binary data stream\n",
        "    pickle.dump(fn, filehandle)"
      ],
      "execution_count": 0,
      "outputs": []
    },
    {
      "cell_type": "code",
      "metadata": {
        "id": "JysfYQzizDL9",
        "colab_type": "code",
        "colab": {}
      },
      "source": [
        "with open('/content/drive/My Drive/precision__spektral_german', 'wb') as filehandle:\n",
        "    # store the data as binary data stream\n",
        "    pickle.dump(metrics_precision, filehandle)"
      ],
      "execution_count": 0,
      "outputs": []
    },
    {
      "cell_type": "code",
      "metadata": {
        "id": "PlJer7t-JoyB",
        "colab_type": "code",
        "colab": {}
      },
      "source": [
        "\n",
        "with open('/content/drive/My Drive/accuracy__spektral_german', 'wb') as filehandle:\n",
        "    # store the data as binary data stream\n",
        "    pickle.dump(metrics_acc, filehandle)"
      ],
      "execution_count": 0,
      "outputs": []
    },
    {
      "cell_type": "code",
      "metadata": {
        "id": "in7_dwIhJCp0",
        "colab_type": "code",
        "colab": {}
      },
      "source": [
        "with open('/content/drive/My Drive/F1_measure__spektral_german', 'wb') as filehandle:\n",
        "    # store the data as binary data stream\n",
        "    pickle.dump(metrics_f1, filehandle)"
      ],
      "execution_count": 0,
      "outputs": []
    },
    {
      "cell_type": "code",
      "metadata": {
        "id": "jw07iYlQJZbR",
        "colab_type": "code",
        "colab": {}
      },
      "source": [
        "with open('/content/drive/My Drive/recall__spektral', 'wb') as filehandle:\n",
        "    # store the data as binary data stream\n",
        "    pickle.dump(metrics_recall, filehandle)"
      ],
      "execution_count": 0,
      "outputs": []
    },
    {
      "cell_type": "code",
      "metadata": {
        "id": "Zk8cDZObuTlQ",
        "colab_type": "code",
        "colab": {}
      },
      "source": [
        "with open('tp', 'rb') as filehandle:\n",
        "    # read the data as binary data stream\n",
        "    placesList = pickle.load(filehandle)"
      ],
      "execution_count": 0,
      "outputs": []
    },
    {
      "cell_type": "code",
      "metadata": {
        "id": "BqjqQQ-lufi0",
        "colab_type": "code",
        "outputId": "a89cb031-31df-486b-c8fc-85e6125ea7fa",
        "colab": {
          "base_uri": "https://localhost:8080/",
          "height": 101
        }
      },
      "source": [
        "tp"
      ],
      "execution_count": 0,
      "outputs": [
        {
          "output_type": "execute_result",
          "data": {
            "text/plain": [
              "[array([   0, 2775]),\n",
              " array([  23, 2737]),\n",
              " array([ 452, 1712]),\n",
              " array([   0, 2776]),\n",
              " array([   0, 2776])]"
            ]
          },
          "metadata": {
            "tags": []
          },
          "execution_count": 46
        }
      ]
    },
    {
      "cell_type": "code",
      "metadata": {
        "id": "HvtDoqFobTtc",
        "colab_type": "code",
        "colab": {}
      },
      "source": [
        "#micro-average classwise\n",
        "micro_precision_group_0 = (tp[0][0] + tp[1][0] + tp[2][0] + tp[3][0] + tp[4][0])/(tp[0][0] + tp[1][0] + tp[2][0] + tp[3][0] + \n",
        "                           tp[4][0] + fp[0][0] + fp[1][0] + fp[2][0] + fp[3][0] + fp[4][0])\n",
        "\n",
        "micro_precision_group_1 = (tp[0][1] + tp[1][1] + tp[2][1] + tp[3][1] + tp[4][1])/(tp[0][1] + tp[1][1] + tp[2][1] + tp[3][1] + \n",
        "                           tp[4][1] + fp[0][1] + fp[1][1] + fp[2][1] + fp[3][1] + fp[4][1])\n",
        "\n",
        "#micro_precision_group_2 = (tp[0][2] + tp[1][2] + tp[2][2] + tp[3][2] + tp[4][2])/(tp[0][2] + tp[1][2] + tp[2][2] + tp[3][2] + \n",
        "#                           tp[4][2] + fp[0][2] + fp[1][2] + fp[2][2] + fp[3][2] + fp[4][2])\n",
        "\n",
        "#micro_precision_group_3 = (tp[0][3] + tp[1][3] + tp[2][3] + tp[3][3] + tp[4][3])/(tp[0][3] + tp[1][3] + tp[2][3] + tp[3][3] + \n",
        "#                           tp[4][3] + fp[0][3] + fp[1][3] + fp[2][3] + fp[3][3] + fp[4][3])\n",
        "\n",
        "micro_recall_group_0 = (tp[0][0] + tp[1][0] + tp[2][0] + tp[3][0] + tp[4][0])/(tp[0][0] + tp[1][0] \n",
        "                        + tp[2][0] + tp[3][0] + tp[4][0] + fn[0][0] + fn[1][0] + fn[2][0] + fn[3][0] + fn[4][0])\n",
        "\n",
        "micro_recall_group_1 = (tp[0][1] + tp[1][1] + tp[2][1] + tp[3][1] + tp[4][1])/(tp[0][1] + tp[1][1] \n",
        "                        + tp[2][1] + tp[3][1] + tp[4][1] + fn[0][1] + fn[1][1] + fn[2][1] + fn[3][1] + fn[4][1])\n",
        "\n",
        "#micro_recall_group_2 = (tp[0][2] + tp[1][2] + tp[2][2] + tp[3][2] + tp[4][2])/(tp[0][2] + tp[1][2] \n",
        "#                        + tp[2][2] + tp[3][2] + tp[4][2] + fn[0][2] + fn[1][2] + fn[2][2] + fn[3][2] + fn[4][2])\n",
        "\n",
        "#micro_recall_group_3 = (tp[0][3] + tp[1][3] + tp[2][3] + tp[3][3] + tp[4][3])/(tp[0][3] + tp[1][3] \n",
        "#                        + tp[2][3] + tp[3][3] + tp[4][3] + fn[0][3] + fn[1][3] + fn[2][3] + fn[3][3] + fn[4][3])"
      ],
      "execution_count": 0,
      "outputs": []
    },
    {
      "cell_type": "code",
      "metadata": {
        "id": "oyjn-0SQaXMM",
        "colab_type": "code",
        "outputId": "e2d91452-84b5-48c3-8c1c-164d25d1d8c0",
        "colab": {
          "base_uri": "https://localhost:8080/",
          "height": 50
        }
      },
      "source": [
        "print(micro_recall_group_0)\n",
        "print(micro_recall_group_1)\n",
        "#print(micro_recall_group_2)\n",
        "#print(micro_recall_group_3)\n"
      ],
      "execution_count": 0,
      "outputs": [
        {
          "output_type": "stream",
          "text": [
            "0.7427184466019418\n",
            "0.6721311475409836\n"
          ],
          "name": "stdout"
        }
      ]
    },
    {
      "cell_type": "code",
      "metadata": {
        "id": "aaQRSW4OsCJB",
        "colab_type": "code",
        "outputId": "75a2d703-3cae-42b7-a028-20b5ffb72116",
        "colab": {
          "base_uri": "https://localhost:8080/",
          "height": 50
        }
      },
      "source": [
        "print(micro_precision_group_0)\n",
        "print(micro_precision_group_1)\n",
        "#print(micro_precision_group_2)\n",
        "#print(micro_precision_group_3)"
      ],
      "execution_count": 0,
      "outputs": [
        {
          "output_type": "stream",
          "text": [
            "0.690522243713733\n",
            "0.72619926199262\n"
          ],
          "name": "stdout"
        }
      ]
    },
    {
      "cell_type": "code",
      "metadata": {
        "colab_type": "code",
        "id": "_Z8XS1PHxOjo",
        "colab": {}
      },
      "source": [
        "micro_precision = []\n",
        "micro_precision.append(micro_precision_group_0)\n",
        "micro_precision.append(micro_precision_group_1)\n",
        "#micro_precision.append(micro_precision_group_2)\n",
        "#micro_precision.append(micro_precision_group_3)\n",
        "\n",
        "micro_recall = []\n",
        "micro_recall.append(micro_recall_group_0)\n",
        "micro_recall.append(micro_recall_group_1)\n",
        "#micro_recall.append(micro_recall_group_2)\n",
        "#micro_recall.append(micro_recall_group_3)\n",
        "\n"
      ],
      "execution_count": 0,
      "outputs": []
    },
    {
      "cell_type": "code",
      "metadata": {
        "id": "1KASKQccacPJ",
        "colab_type": "code",
        "colab": {}
      },
      "source": [
        " mirco_f1_group = []\n",
        "\n",
        "mirco_f1_group.append(2 * ((micro_precision_group_0 * micro_recall_group_0)/(micro_precision_group_0 \n",
        "                                                                                 + micro_recall_group_0)))\n",
        "mirco_f1_group.append(2 * ((micro_precision_group_1 * micro_recall_group_1)/(micro_precision_group_1 \n",
        "                                                                                 + micro_recall_group_1)))\n",
        "#mirco_f1_group.append(2 * ((micro_precision_group_2 * micro_recall_group_2)/(micro_precision_group_2 \n",
        "                                          #                                       + micro_recall_group_2)))\n",
        "#mirco_f1_group.append(2 * ((micro_precision_group_3 * micro_recall_group_3)/(micro_precision_group_3 \n",
        "                                           #                                      + micro_recall_group_3)))\n",
        "\n",
        "#f1_score = 2 * ((micro_precision * micro_recall)/(micro_precision + micro_recall))"
      ],
      "execution_count": 0,
      "outputs": []
    },
    {
      "cell_type": "code",
      "metadata": {
        "id": "q_4GI5vwsf6C",
        "colab_type": "code",
        "outputId": "cd1bbb47-3280-487f-9d12-0195349b0448",
        "colab": {
          "base_uri": "https://localhost:8080/",
          "height": 67
        }
      },
      "source": [
        "print(micro_precision)\n",
        "print(micro_recall)\n",
        "print(mirco_f1_group)"
      ],
      "execution_count": 0,
      "outputs": [
        {
          "output_type": "stream",
          "text": [
            "[0.690522243713733, 0.72619926199262]\n",
            "[0.7427184466019418, 0.6721311475409836]\n",
            "[0.7156698964249915, 0.6981199006739979]\n"
          ],
          "name": "stdout"
        }
      ]
    },
    {
      "cell_type": "code",
      "metadata": {
        "id": "zFw96xAksmvg",
        "colab_type": "code",
        "colab": {}
      },
      "source": [
        "# mean accuracy classwise\n",
        "mean_accuracy = []\n",
        "for i in range(0, classes):\n",
        "    a = []\n",
        "    for j in range(0, 5): #row\n",
        "        a.append(metrics_acc[j][i])\n",
        "        n = np.array(a)\n",
        "    mean_accuracy.append(n.mean())"
      ],
      "execution_count": 0,
      "outputs": []
    },
    {
      "cell_type": "code",
      "metadata": {
        "id": "oEJ6K6wlsphl",
        "colab_type": "code",
        "outputId": "6696db30-4f04-4c68-81b6-f9d7eee1fd1f",
        "colab": {
          "base_uri": "https://localhost:8080/",
          "height": 34
        }
      },
      "source": [
        "mean_accuracy"
      ],
      "execution_count": 0,
      "outputs": [
        {
          "output_type": "execute_result",
          "data": {
            "text/plain": [
              "[0.7071780494585116, 0.7071780494585116]"
            ]
          },
          "metadata": {
            "tags": []
          },
          "execution_count": 45
        }
      ]
    },
    {
      "cell_type": "code",
      "metadata": {
        "id": "R4gR8tkGsat1",
        "colab_type": "code",
        "outputId": "1c6643d2-1f73-4c3a-b3c9-99f93107bcfa",
        "colab": {
          "base_uri": "https://localhost:8080/",
          "height": 229
        }
      },
      "source": [
        "#macro-average classwise\n",
        "macro_precision_group_0 = (metrics_precision[0][0] + metrics_precision[1][0] + metrics_precision[2][0] + \n",
        "                           metrics_precision[3][0] + metrics_precision[4][0])/5\n",
        "macro_precision_group_1 = (metrics_precision[0][1] + metrics_precision[1][1] + metrics_precision[2][1] + \n",
        "                           metrics_precision[3][1] + metrics_precision[4][1])/5\n",
        "macro_precision_group_2 = (metrics_precision[0][2] + metrics_precision[1][2] + metrics_precision[2][2] + \n",
        "                           metrics_precision[3][2] + metrics_precision[4][2])/5\n",
        "macro_precision_group_3 = (metrics_precision[0][3] + metrics_precision[1][3] + metrics_precision[2][3] + \n",
        "                           metrics_precision[3][3] + metrics_precision[4][3])/5\n",
        "\n",
        "macro_recall_group_0 = (metrics_recall[0][0] + metrics_recall[1][0] + metrics_recall[2][0] + \n",
        "                           metrics_recall[3][0] + metrics_recall[4][0])/5\n",
        "macro_recall_group_1 = (metrics_recall[0][1] + metrics_recall[1][1] + metrics_recall[2][1] + \n",
        "                           metrics_recall[3][1] + metrics_recall[4][1])/5\n",
        "macro_recall_group_2 = (metrics_recall[0][2] + metrics_recall[1][2] + metrics_recall[2][2] + \n",
        "                           metrics_recall[3][2] + metrics_recall[4][2])/5\n",
        "macro_recall_group_3 = (metrics_recall[0][3] + metrics_recall[1][3] + metrics_recall[2][3] + \n",
        "                           metrics_recall[3][3] + metrics_recall[4][3])/5\n",
        "\n",
        "macro_f1_group_0 = 2 * ((macro_precision_group_0 * macro_recall_group_0)/(macro_precision_group_0 + macro_recall_group_0))\n",
        "\n",
        "macro_f1_group_1 = 2 * ((macro_precision_group_1 * macro_recall_group_1)/(macro_precision_group_1 + macro_recall_group_1))\n",
        "\n",
        "macro_f1_group_2 = 2 * ((macro_precision_group_2 * macro_recall_group_2)/(macro_precision_group_2 + macro_recall_group_2))\n",
        "\n",
        "macro_f1_group_3 = 2 * ((macro_precision_group_3 * macro_recall_group_3)/(macro_precision_group_3 + macro_recall_group_3))"
      ],
      "execution_count": 0,
      "outputs": [
        {
          "output_type": "error",
          "ename": "IndexError",
          "evalue": "ignored",
          "traceback": [
            "\u001b[0;31m---------------------------------------------------------------------------\u001b[0m",
            "\u001b[0;31mIndexError\u001b[0m                                Traceback (most recent call last)",
            "\u001b[0;32m<ipython-input-39-e36803e66a03>\u001b[0m in \u001b[0;36m<module>\u001b[0;34m()\u001b[0m\n\u001b[1;32m      4\u001b[0m                            metrics_precision[3][1] + metrics_precision[4][1])/5\n\u001b[1;32m      5\u001b[0m macro_precision_group_2 = (metrics_precision[0][2] + metrics_precision[1][2] + metrics_precision[2][2] + \n\u001b[0;32m----> 6\u001b[0;31m                            metrics_precision[3][2] + metrics_precision[4][2])/5\n\u001b[0m\u001b[1;32m      7\u001b[0m macro_precision_group_3 = (metrics_precision[0][3] + metrics_precision[1][3] + metrics_precision[2][3] + \n\u001b[1;32m      8\u001b[0m                            metrics_precision[3][3] + metrics_precision[4][3])/5\n",
            "\u001b[0;31mIndexError\u001b[0m: index 2 is out of bounds for axis 0 with size 2"
          ]
        }
      ]
    },
    {
      "cell_type": "code",
      "metadata": {
        "id": "SsaKJZPrsj9V",
        "colab_type": "code",
        "outputId": "393ee7ba-94d9-4c7a-8f2e-bcf8495bbc60",
        "colab": {
          "base_uri": "https://localhost:8080/",
          "height": 67
        }
      },
      "source": [
        "macro_precision = []\n",
        "macro_precision.append(macro_precision_group_0)\n",
        "macro_precision.append(macro_precision_group_1)\n",
        "macro_precision.append(macro_precision_group_2)\n",
        "macro_precision.append(macro_precision_group_3)\n",
        "\n",
        "macro_recall = []\n",
        "macro_recall.append(macro_recall_group_0)\n",
        "macro_recall.append(macro_recall_group_0)\n",
        "macro_recall.append(macro_recall_group_0)\n",
        "macro_recall.append(macro_recall_group_0)\n",
        "\n",
        "marco_f1_group = []\n",
        "\n",
        "marco_f1_group.append(2 * ((macro_precision_group_0 * macro_recall_group_0)/(macro_precision_group_0 \n",
        "                                                                                 + macro_recall_group_0)))\n",
        "marco_f1_group.append(2 * ((macro_precision_group_1 * macro_recall_group_1)/(macro_precision_group_1 \n",
        "                                                                                 + macro_recall_group_1)))\n",
        "marco_f1_group.append(2 * ((macro_precision_group_2 * macro_recall_group_2)/(macro_precision_group_2 \n",
        "                                                                                 + macro_recall_group_2)))\n",
        "marco_f1_group.append(2 * ((macro_precision_group_3 * macro_recall_group_3)/(macro_precision_group_3 \n",
        "                                                                                 + macro_recall_group_3)))\n",
        "\n",
        "#f1_score = 2 * ((micro_precision * micro_recall)/(micro_precision + micro_recall))\n",
        "\n",
        "print(macro_precision)\n",
        "print(macro_recall)\n",
        "print(marco_f1_group)"
      ],
      "execution_count": 0,
      "outputs": [
        {
          "output_type": "stream",
          "text": [
            "[0.3523932173849107, nan, 0.05173160173160174, 0.7304954151861225]\n",
            "[0.27968968065019295, 0.27968968065019295, 0.27968968065019295, 0.27968968065019295]\n",
            "[0.31186019030119677, nan, 0.02277112164447515, 0.7714543547210584]\n"
          ],
          "name": "stdout"
        }
      ]
    },
    {
      "cell_type": "code",
      "metadata": {
        "id": "aKQhMRKFsrIn",
        "colab_type": "code",
        "outputId": "3f96bceb-d75c-41b0-e4a1-a45730cdce2f",
        "colab": {
          "base_uri": "https://localhost:8080/",
          "height": 101
        }
      },
      "source": [
        "metrics_acc # verify"
      ],
      "execution_count": 0,
      "outputs": [
        {
          "output_type": "execute_result",
          "data": {
            "text/plain": [
              "[array([0.69759358, 0.99171123, 0.95695187, 0.66497326]),\n",
              " array([0.68957219, 0.99278075, 0.95748663, 0.65802139]),\n",
              " array([0.6828877 , 0.98930481, 0.94786096, 0.65      ]),\n",
              " array([0.70454545, 0.99224599, 0.95561497, 0.6684492 ]),\n",
              " array([0.67967914, 0.98796791, 0.95614973, 0.64893048])]"
            ]
          },
          "metadata": {
            "tags": []
          },
          "execution_count": 84
        }
      ]
    },
    {
      "cell_type": "code",
      "metadata": {
        "id": "Cem1r1Vcssu1",
        "colab_type": "code",
        "colab": {}
      },
      "source": [
        ""
      ],
      "execution_count": 0,
      "outputs": []
    }
  ]
}