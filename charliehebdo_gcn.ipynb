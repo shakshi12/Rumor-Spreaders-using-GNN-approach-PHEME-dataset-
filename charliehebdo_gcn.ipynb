{
  "nbformat": 4,
  "nbformat_minor": 0,
  "metadata": {
    "colab": {
      "name": "charliehebdo_gcn",
      "provenance": [],
      "collapsed_sections": [],
      "authorship_tag": "ABX9TyNazpvKKrOmLXJU9n8v3Z+f",
      "include_colab_link": true
    },
    "kernelspec": {
      "name": "python3",
      "display_name": "Python 3"
    }
  },
  "cells": [
    {
      "cell_type": "markdown",
      "metadata": {
        "id": "view-in-github",
        "colab_type": "text"
      },
      "source": [
        "<a href=\"https://colab.research.google.com/github/shakshi12/RumourGNN/blob/master/charliehebdo_gcn.ipynb\" target=\"_parent\"><img src=\"https://colab.research.google.com/assets/colab-badge.svg\" alt=\"Open In Colab\"/></a>"
      ]
    },
    {
      "cell_type": "code",
      "metadata": {
        "id": "fgVJT7PRV0UR",
        "colab_type": "code",
        "colab": {
          "base_uri": "https://localhost:8080/",
          "height": 709
        },
        "outputId": "418794f7-a386-487e-87a3-5ad1e5110922"
      },
      "source": [
        "!sudo apt install graphviz libgraphviz-dev libcgraph6"
      ],
      "execution_count": 1,
      "outputs": [
        {
          "output_type": "stream",
          "text": [
            "Reading package lists... Done\n",
            "Building dependency tree       \n",
            "Reading state information... Done\n",
            "graphviz is already the newest version (2.40.1-2).\n",
            "libcgraph6 is already the newest version (2.40.1-2).\n",
            "libcgraph6 set to manually installed.\n",
            "The following package was automatically installed and is no longer required:\n",
            "  libnvidia-common-430\n",
            "Use 'sudo apt autoremove' to remove it.\n",
            "The following NEW packages will be installed:\n",
            "  libgraphviz-dev libgvc6-plugins-gtk libxdot4\n",
            "0 upgraded, 3 newly installed, 0 to remove and 7 not upgraded.\n",
            "Need to get 91.3 kB of archives.\n",
            "After this operation, 425 kB of additional disk space will be used.\n",
            "Get:1 http://archive.ubuntu.com/ubuntu bionic/universe amd64 libxdot4 amd64 2.40.1-2 [15.7 kB]\n",
            "Get:2 http://archive.ubuntu.com/ubuntu bionic/universe amd64 libgvc6-plugins-gtk amd64 2.40.1-2 [18.2 kB]\n",
            "Get:3 http://archive.ubuntu.com/ubuntu bionic/universe amd64 libgraphviz-dev amd64 2.40.1-2 [57.3 kB]\n",
            "Fetched 91.3 kB in 0s (1,111 kB/s)\n",
            "debconf: unable to initialize frontend: Dialog\n",
            "debconf: (No usable dialog-like program is installed, so the dialog based frontend cannot be used. at /usr/share/perl5/Debconf/FrontEnd/Dialog.pm line 76, <> line 3.)\n",
            "debconf: falling back to frontend: Readline\n",
            "debconf: unable to initialize frontend: Readline\n",
            "debconf: (This frontend requires a controlling tty.)\n",
            "debconf: falling back to frontend: Teletype\n",
            "dpkg-preconfigure: unable to re-open stdin: \n",
            "Selecting previously unselected package libxdot4.\n",
            "(Reading database ... 135004 files and directories currently installed.)\n",
            "Preparing to unpack .../libxdot4_2.40.1-2_amd64.deb ...\n",
            "Unpacking libxdot4 (2.40.1-2) ...\n",
            "Selecting previously unselected package libgvc6-plugins-gtk.\n",
            "Preparing to unpack .../libgvc6-plugins-gtk_2.40.1-2_amd64.deb ...\n",
            "Unpacking libgvc6-plugins-gtk (2.40.1-2) ...\n",
            "Selecting previously unselected package libgraphviz-dev.\n",
            "Preparing to unpack .../libgraphviz-dev_2.40.1-2_amd64.deb ...\n",
            "Unpacking libgraphviz-dev (2.40.1-2) ...\n",
            "Setting up libxdot4 (2.40.1-2) ...\n",
            "Setting up libgvc6-plugins-gtk (2.40.1-2) ...\n",
            "Setting up libgraphviz-dev (2.40.1-2) ...\n",
            "Processing triggers for man-db (2.8.3-2ubuntu0.1) ...\n",
            "Processing triggers for libc-bin (2.27-3ubuntu1) ...\n"
          ],
          "name": "stdout"
        }
      ]
    },
    {
      "cell_type": "code",
      "metadata": {
        "id": "3vRQG-yaV3Qz",
        "colab_type": "code",
        "colab": {
          "base_uri": "https://localhost:8080/",
          "height": 877
        },
        "outputId": "5ab3845f-6720-4a0b-f0cb-536e44b2dd37"
      },
      "source": [
        "!pip install spektral"
      ],
      "execution_count": 2,
      "outputs": [
        {
          "output_type": "stream",
          "text": [
            "Collecting spektral\n",
            "\u001b[?25l  Downloading https://files.pythonhosted.org/packages/c8/80/49a5a57886b7d21234a570e87720f51af9e67ada9dc863d4d22efae7fe31/spektral-0.1.2-py3-none-any.whl (62kB)\n",
            "\r\u001b[K     |█████▎                          | 10kB 19.7MB/s eta 0:00:01\r\u001b[K     |██████████▌                     | 20kB 6.4MB/s eta 0:00:01\r\u001b[K     |███████████████▊                | 30kB 7.7MB/s eta 0:00:01\r\u001b[K     |█████████████████████           | 40kB 5.8MB/s eta 0:00:01\r\u001b[K     |██████████████████████████▏     | 51kB 6.4MB/s eta 0:00:01\r\u001b[K     |███████████████████████████████▌| 61kB 7.5MB/s eta 0:00:01\r\u001b[K     |████████████████████████████████| 71kB 5.1MB/s \n",
            "\u001b[?25hRequirement already satisfied: tensorflow<2.0.0 in /usr/local/lib/python3.6/dist-packages (from spektral) (1.15.0)\n",
            "Requirement already satisfied: numpy in /usr/local/lib/python3.6/dist-packages (from spektral) (1.17.5)\n",
            "Requirement already satisfied: networkx in /usr/local/lib/python3.6/dist-packages (from spektral) (2.4)\n",
            "Collecting pygraphviz\n",
            "\u001b[?25l  Downloading https://files.pythonhosted.org/packages/7e/b1/d6d849ddaf6f11036f9980d433f383d4c13d1ebcfc3cd09bc845bda7e433/pygraphviz-1.5.zip (117kB)\n",
            "\u001b[K     |████████████████████████████████| 122kB 11.7MB/s \n",
            "\u001b[?25hRequirement already satisfied: requests in /usr/local/lib/python3.6/dist-packages (from spektral) (2.21.0)\n",
            "Requirement already satisfied: joblib in /usr/local/lib/python3.6/dist-packages (from spektral) (0.14.1)\n",
            "Requirement already satisfied: scikit-learn in /usr/local/lib/python3.6/dist-packages (from spektral) (0.22.1)\n",
            "Requirement already satisfied: pandas in /usr/local/lib/python3.6/dist-packages (from spektral) (0.25.3)\n",
            "Requirement already satisfied: scipy in /usr/local/lib/python3.6/dist-packages (from spektral) (1.4.1)\n",
            "Requirement already satisfied: lxml in /usr/local/lib/python3.6/dist-packages (from spektral) (4.2.6)\n",
            "Requirement already satisfied: keras<2.3 in /usr/local/lib/python3.6/dist-packages (from spektral) (2.2.5)\n",
            "Requirement already satisfied: tensorboard<1.16.0,>=1.15.0 in /usr/local/lib/python3.6/dist-packages (from tensorflow<2.0.0->spektral) (1.15.0)\n",
            "Requirement already satisfied: protobuf>=3.6.1 in /usr/local/lib/python3.6/dist-packages (from tensorflow<2.0.0->spektral) (3.10.0)\n",
            "Requirement already satisfied: wrapt>=1.11.1 in /usr/local/lib/python3.6/dist-packages (from tensorflow<2.0.0->spektral) (1.11.2)\n",
            "Requirement already satisfied: termcolor>=1.1.0 in /usr/local/lib/python3.6/dist-packages (from tensorflow<2.0.0->spektral) (1.1.0)\n",
            "Requirement already satisfied: keras-applications>=1.0.8 in /usr/local/lib/python3.6/dist-packages (from tensorflow<2.0.0->spektral) (1.0.8)\n",
            "Requirement already satisfied: gast==0.2.2 in /usr/local/lib/python3.6/dist-packages (from tensorflow<2.0.0->spektral) (0.2.2)\n",
            "Requirement already satisfied: google-pasta>=0.1.6 in /usr/local/lib/python3.6/dist-packages (from tensorflow<2.0.0->spektral) (0.1.8)\n",
            "Requirement already satisfied: absl-py>=0.7.0 in /usr/local/lib/python3.6/dist-packages (from tensorflow<2.0.0->spektral) (0.9.0)\n",
            "Requirement already satisfied: astor>=0.6.0 in /usr/local/lib/python3.6/dist-packages (from tensorflow<2.0.0->spektral) (0.8.1)\n",
            "Requirement already satisfied: tensorflow-estimator==1.15.1 in /usr/local/lib/python3.6/dist-packages (from tensorflow<2.0.0->spektral) (1.15.1)\n",
            "Requirement already satisfied: opt-einsum>=2.3.2 in /usr/local/lib/python3.6/dist-packages (from tensorflow<2.0.0->spektral) (3.1.0)\n",
            "Requirement already satisfied: six>=1.10.0 in /usr/local/lib/python3.6/dist-packages (from tensorflow<2.0.0->spektral) (1.12.0)\n",
            "Requirement already satisfied: grpcio>=1.8.6 in /usr/local/lib/python3.6/dist-packages (from tensorflow<2.0.0->spektral) (1.15.0)\n",
            "Requirement already satisfied: wheel>=0.26 in /usr/local/lib/python3.6/dist-packages (from tensorflow<2.0.0->spektral) (0.33.6)\n",
            "Requirement already satisfied: keras-preprocessing>=1.0.5 in /usr/local/lib/python3.6/dist-packages (from tensorflow<2.0.0->spektral) (1.1.0)\n",
            "Requirement already satisfied: decorator>=4.3.0 in /usr/local/lib/python3.6/dist-packages (from networkx->spektral) (4.4.1)\n",
            "Requirement already satisfied: idna<2.9,>=2.5 in /usr/local/lib/python3.6/dist-packages (from requests->spektral) (2.8)\n",
            "Requirement already satisfied: urllib3<1.25,>=1.21.1 in /usr/local/lib/python3.6/dist-packages (from requests->spektral) (1.24.3)\n",
            "Requirement already satisfied: chardet<3.1.0,>=3.0.2 in /usr/local/lib/python3.6/dist-packages (from requests->spektral) (3.0.4)\n",
            "Requirement already satisfied: certifi>=2017.4.17 in /usr/local/lib/python3.6/dist-packages (from requests->spektral) (2019.11.28)\n",
            "Requirement already satisfied: python-dateutil>=2.6.1 in /usr/local/lib/python3.6/dist-packages (from pandas->spektral) (2.6.1)\n",
            "Requirement already satisfied: pytz>=2017.2 in /usr/local/lib/python3.6/dist-packages (from pandas->spektral) (2018.9)\n",
            "Requirement already satisfied: h5py in /usr/local/lib/python3.6/dist-packages (from keras<2.3->spektral) (2.8.0)\n",
            "Requirement already satisfied: pyyaml in /usr/local/lib/python3.6/dist-packages (from keras<2.3->spektral) (3.13)\n",
            "Requirement already satisfied: werkzeug>=0.11.15 in /usr/local/lib/python3.6/dist-packages (from tensorboard<1.16.0,>=1.15.0->tensorflow<2.0.0->spektral) (0.16.0)\n",
            "Requirement already satisfied: markdown>=2.6.8 in /usr/local/lib/python3.6/dist-packages (from tensorboard<1.16.0,>=1.15.0->tensorflow<2.0.0->spektral) (3.1.1)\n",
            "Requirement already satisfied: setuptools>=41.0.0 in /usr/local/lib/python3.6/dist-packages (from tensorboard<1.16.0,>=1.15.0->tensorflow<2.0.0->spektral) (42.0.2)\n",
            "Building wheels for collected packages: pygraphviz\n",
            "  Building wheel for pygraphviz (setup.py) ... \u001b[?25l\u001b[?25hdone\n",
            "  Created wheel for pygraphviz: filename=pygraphviz-1.5-cp36-cp36m-linux_x86_64.whl size=157579 sha256=a9847b9246038106723d4bd8ec483a6ad49624a87f5d34e1b3a23497498411de\n",
            "  Stored in directory: /root/.cache/pip/wheels/65/54/69/1aee9e66ab19916293208d4c9de0d3898adebe6b2eeff6476b\n",
            "Successfully built pygraphviz\n",
            "Installing collected packages: pygraphviz, spektral\n",
            "Successfully installed pygraphviz-1.5 spektral-0.1.2\n"
          ],
          "name": "stdout"
        }
      ]
    },
    {
      "cell_type": "code",
      "metadata": {
        "id": "uAXc1JypWGlj",
        "colab_type": "code",
        "colab": {
          "base_uri": "https://localhost:8080/",
          "height": 134
        },
        "outputId": "7770da85-0e26-4818-bda0-ac5c348cb6b5"
      },
      "source": [
        "!git clone https://github.com/danielegrattarola/spektral.git"
      ],
      "execution_count": 3,
      "outputs": [
        {
          "output_type": "stream",
          "text": [
            "Cloning into 'spektral'...\n",
            "remote: Enumerating objects: 102, done.\u001b[K\n",
            "remote: Counting objects: 100% (102/102), done.\u001b[K\n",
            "remote: Compressing objects: 100% (69/69), done.\u001b[K\n",
            "remote: Total 2714 (delta 54), reused 68 (delta 33), pack-reused 2612\u001b[K\n",
            "Receiving objects: 100% (2714/2714), 2.56 MiB | 4.29 MiB/s, done.\n",
            "Resolving deltas: 100% (1644/1644), done.\n"
          ],
          "name": "stdout"
        }
      ]
    },
    {
      "cell_type": "code",
      "metadata": {
        "id": "DtHvfsmXWQ68",
        "colab_type": "code",
        "colab": {
          "base_uri": "https://localhost:8080/",
          "height": 34
        },
        "outputId": "290acd58-6ffb-4ac2-b25f-fcf00a02ca61"
      },
      "source": [
        "cd spektral"
      ],
      "execution_count": 4,
      "outputs": [
        {
          "output_type": "stream",
          "text": [
            "/content/spektral\n"
          ],
          "name": "stdout"
        }
      ]
    },
    {
      "cell_type": "code",
      "metadata": {
        "id": "fhvT_HvbWTil",
        "colab_type": "code",
        "colab": {
          "base_uri": "https://localhost:8080/",
          "height": 1000
        },
        "outputId": "6684fd04-007b-4b83-e106-cfaed8db7407"
      },
      "source": [
        "!python setup.py install"
      ],
      "execution_count": 5,
      "outputs": [
        {
          "output_type": "stream",
          "text": [
            "running install\n",
            "running bdist_egg\n",
            "running egg_info\n",
            "creating spektral.egg-info\n",
            "writing spektral.egg-info/PKG-INFO\n",
            "writing dependency_links to spektral.egg-info/dependency_links.txt\n",
            "writing requirements to spektral.egg-info/requires.txt\n",
            "writing top-level names to spektral.egg-info/top_level.txt\n",
            "writing manifest file 'spektral.egg-info/SOURCES.txt'\n",
            "writing manifest file 'spektral.egg-info/SOURCES.txt'\n",
            "installing library code to build/bdist.linux-x86_64/egg\n",
            "running install_lib\n",
            "running build_py\n",
            "creating build\n",
            "creating build/lib\n",
            "creating build/lib/tests\n",
            "copying tests/test_datasets.py -> build/lib/tests\n",
            "copying tests/__init__.py -> build/lib/tests\n",
            "creating build/lib/spektral\n",
            "copying spektral/brain.py -> build/lib/spektral\n",
            "copying spektral/chem.py -> build/lib/spektral\n",
            "copying spektral/__init__.py -> build/lib/spektral\n",
            "creating build/lib/tests/test_layers\n",
            "copying tests/test_layers/test_ops.py -> build/lib/tests/test_layers\n",
            "copying tests/test_layers/test_global_pooling.py -> build/lib/tests/test_layers\n",
            "copying tests/test_layers/test_pooling.py -> build/lib/tests/test_layers\n",
            "copying tests/test_layers/test_convolutional.py -> build/lib/tests/test_layers\n",
            "copying tests/test_layers/__init__.py -> build/lib/tests/test_layers\n",
            "creating build/lib/spektral/layers\n",
            "copying spektral/layers/base.py -> build/lib/spektral/layers\n",
            "copying spektral/layers/ops.py -> build/lib/spektral/layers\n",
            "copying spektral/layers/pooling.py -> build/lib/spektral/layers\n",
            "copying spektral/layers/__init__.py -> build/lib/spektral/layers\n",
            "copying spektral/layers/convolutional.py -> build/lib/spektral/layers\n",
            "creating build/lib/spektral/utils\n",
            "copying spektral/utils/logging.py -> build/lib/spektral/utils\n",
            "copying spektral/utils/conversion.py -> build/lib/spektral/utils\n",
            "copying spektral/utils/convolution.py -> build/lib/spektral/utils\n",
            "copying spektral/utils/plotting.py -> build/lib/spektral/utils\n",
            "copying spektral/utils/misc.py -> build/lib/spektral/utils\n",
            "copying spektral/utils/data.py -> build/lib/spektral/utils\n",
            "copying spektral/utils/__init__.py -> build/lib/spektral/utils\n",
            "copying spektral/utils/io.py -> build/lib/spektral/utils\n",
            "creating build/lib/spektral/datasets\n",
            "copying spektral/datasets/mnist.py -> build/lib/spektral/datasets\n",
            "copying spektral/datasets/tud.py -> build/lib/spektral/datasets\n",
            "copying spektral/datasets/citation.py -> build/lib/spektral/datasets\n",
            "copying spektral/datasets/delaunay.py -> build/lib/spektral/datasets\n",
            "copying spektral/datasets/graphsage.py -> build/lib/spektral/datasets\n",
            "copying spektral/datasets/qm9.py -> build/lib/spektral/datasets\n",
            "copying spektral/datasets/__init__.py -> build/lib/spektral/datasets\n",
            "creating build/bdist.linux-x86_64\n",
            "creating build/bdist.linux-x86_64/egg\n",
            "creating build/bdist.linux-x86_64/egg/tests\n",
            "creating build/bdist.linux-x86_64/egg/tests/test_layers\n",
            "copying build/lib/tests/test_layers/test_ops.py -> build/bdist.linux-x86_64/egg/tests/test_layers\n",
            "copying build/lib/tests/test_layers/test_global_pooling.py -> build/bdist.linux-x86_64/egg/tests/test_layers\n",
            "copying build/lib/tests/test_layers/test_pooling.py -> build/bdist.linux-x86_64/egg/tests/test_layers\n",
            "copying build/lib/tests/test_layers/test_convolutional.py -> build/bdist.linux-x86_64/egg/tests/test_layers\n",
            "copying build/lib/tests/test_layers/__init__.py -> build/bdist.linux-x86_64/egg/tests/test_layers\n",
            "copying build/lib/tests/test_datasets.py -> build/bdist.linux-x86_64/egg/tests\n",
            "copying build/lib/tests/__init__.py -> build/bdist.linux-x86_64/egg/tests\n",
            "creating build/bdist.linux-x86_64/egg/spektral\n",
            "creating build/bdist.linux-x86_64/egg/spektral/layers\n",
            "copying build/lib/spektral/layers/base.py -> build/bdist.linux-x86_64/egg/spektral/layers\n",
            "copying build/lib/spektral/layers/ops.py -> build/bdist.linux-x86_64/egg/spektral/layers\n",
            "copying build/lib/spektral/layers/pooling.py -> build/bdist.linux-x86_64/egg/spektral/layers\n",
            "copying build/lib/spektral/layers/__init__.py -> build/bdist.linux-x86_64/egg/spektral/layers\n",
            "copying build/lib/spektral/layers/convolutional.py -> build/bdist.linux-x86_64/egg/spektral/layers\n",
            "copying build/lib/spektral/brain.py -> build/bdist.linux-x86_64/egg/spektral\n",
            "creating build/bdist.linux-x86_64/egg/spektral/utils\n",
            "copying build/lib/spektral/utils/logging.py -> build/bdist.linux-x86_64/egg/spektral/utils\n",
            "copying build/lib/spektral/utils/conversion.py -> build/bdist.linux-x86_64/egg/spektral/utils\n",
            "copying build/lib/spektral/utils/convolution.py -> build/bdist.linux-x86_64/egg/spektral/utils\n",
            "copying build/lib/spektral/utils/plotting.py -> build/bdist.linux-x86_64/egg/spektral/utils\n",
            "copying build/lib/spektral/utils/misc.py -> build/bdist.linux-x86_64/egg/spektral/utils\n",
            "copying build/lib/spektral/utils/data.py -> build/bdist.linux-x86_64/egg/spektral/utils\n",
            "copying build/lib/spektral/utils/__init__.py -> build/bdist.linux-x86_64/egg/spektral/utils\n",
            "copying build/lib/spektral/utils/io.py -> build/bdist.linux-x86_64/egg/spektral/utils\n",
            "copying build/lib/spektral/chem.py -> build/bdist.linux-x86_64/egg/spektral\n",
            "copying build/lib/spektral/__init__.py -> build/bdist.linux-x86_64/egg/spektral\n",
            "creating build/bdist.linux-x86_64/egg/spektral/datasets\n",
            "copying build/lib/spektral/datasets/mnist.py -> build/bdist.linux-x86_64/egg/spektral/datasets\n",
            "copying build/lib/spektral/datasets/tud.py -> build/bdist.linux-x86_64/egg/spektral/datasets\n",
            "copying build/lib/spektral/datasets/citation.py -> build/bdist.linux-x86_64/egg/spektral/datasets\n",
            "copying build/lib/spektral/datasets/delaunay.py -> build/bdist.linux-x86_64/egg/spektral/datasets\n",
            "copying build/lib/spektral/datasets/graphsage.py -> build/bdist.linux-x86_64/egg/spektral/datasets\n",
            "copying build/lib/spektral/datasets/qm9.py -> build/bdist.linux-x86_64/egg/spektral/datasets\n",
            "copying build/lib/spektral/datasets/__init__.py -> build/bdist.linux-x86_64/egg/spektral/datasets\n",
            "byte-compiling build/bdist.linux-x86_64/egg/tests/test_layers/test_ops.py to test_ops.cpython-36.pyc\n",
            "byte-compiling build/bdist.linux-x86_64/egg/tests/test_layers/test_global_pooling.py to test_global_pooling.cpython-36.pyc\n",
            "byte-compiling build/bdist.linux-x86_64/egg/tests/test_layers/test_pooling.py to test_pooling.cpython-36.pyc\n",
            "byte-compiling build/bdist.linux-x86_64/egg/tests/test_layers/test_convolutional.py to test_convolutional.cpython-36.pyc\n",
            "byte-compiling build/bdist.linux-x86_64/egg/tests/test_layers/__init__.py to __init__.cpython-36.pyc\n",
            "byte-compiling build/bdist.linux-x86_64/egg/tests/test_datasets.py to test_datasets.cpython-36.pyc\n",
            "byte-compiling build/bdist.linux-x86_64/egg/tests/__init__.py to __init__.cpython-36.pyc\n",
            "byte-compiling build/bdist.linux-x86_64/egg/spektral/layers/base.py to base.cpython-36.pyc\n",
            "byte-compiling build/bdist.linux-x86_64/egg/spektral/layers/ops.py to ops.cpython-36.pyc\n",
            "byte-compiling build/bdist.linux-x86_64/egg/spektral/layers/pooling.py to pooling.cpython-36.pyc\n",
            "byte-compiling build/bdist.linux-x86_64/egg/spektral/layers/__init__.py to __init__.cpython-36.pyc\n",
            "byte-compiling build/bdist.linux-x86_64/egg/spektral/layers/convolutional.py to convolutional.cpython-36.pyc\n",
            "byte-compiling build/bdist.linux-x86_64/egg/spektral/brain.py to brain.cpython-36.pyc\n",
            "byte-compiling build/bdist.linux-x86_64/egg/spektral/utils/logging.py to logging.cpython-36.pyc\n",
            "byte-compiling build/bdist.linux-x86_64/egg/spektral/utils/conversion.py to conversion.cpython-36.pyc\n",
            "byte-compiling build/bdist.linux-x86_64/egg/spektral/utils/convolution.py to convolution.cpython-36.pyc\n",
            "byte-compiling build/bdist.linux-x86_64/egg/spektral/utils/plotting.py to plotting.cpython-36.pyc\n",
            "byte-compiling build/bdist.linux-x86_64/egg/spektral/utils/misc.py to misc.cpython-36.pyc\n",
            "byte-compiling build/bdist.linux-x86_64/egg/spektral/utils/data.py to data.cpython-36.pyc\n",
            "byte-compiling build/bdist.linux-x86_64/egg/spektral/utils/__init__.py to __init__.cpython-36.pyc\n",
            "byte-compiling build/bdist.linux-x86_64/egg/spektral/utils/io.py to io.cpython-36.pyc\n",
            "byte-compiling build/bdist.linux-x86_64/egg/spektral/chem.py to chem.cpython-36.pyc\n",
            "byte-compiling build/bdist.linux-x86_64/egg/spektral/__init__.py to __init__.cpython-36.pyc\n",
            "byte-compiling build/bdist.linux-x86_64/egg/spektral/datasets/mnist.py to mnist.cpython-36.pyc\n",
            "byte-compiling build/bdist.linux-x86_64/egg/spektral/datasets/tud.py to tud.cpython-36.pyc\n",
            "byte-compiling build/bdist.linux-x86_64/egg/spektral/datasets/citation.py to citation.cpython-36.pyc\n",
            "byte-compiling build/bdist.linux-x86_64/egg/spektral/datasets/delaunay.py to delaunay.cpython-36.pyc\n",
            "byte-compiling build/bdist.linux-x86_64/egg/spektral/datasets/graphsage.py to graphsage.cpython-36.pyc\n",
            "byte-compiling build/bdist.linux-x86_64/egg/spektral/datasets/qm9.py to qm9.cpython-36.pyc\n",
            "byte-compiling build/bdist.linux-x86_64/egg/spektral/datasets/__init__.py to __init__.cpython-36.pyc\n",
            "creating build/bdist.linux-x86_64/egg/EGG-INFO\n",
            "copying spektral.egg-info/PKG-INFO -> build/bdist.linux-x86_64/egg/EGG-INFO\n",
            "copying spektral.egg-info/SOURCES.txt -> build/bdist.linux-x86_64/egg/EGG-INFO\n",
            "copying spektral.egg-info/dependency_links.txt -> build/bdist.linux-x86_64/egg/EGG-INFO\n",
            "copying spektral.egg-info/requires.txt -> build/bdist.linux-x86_64/egg/EGG-INFO\n",
            "copying spektral.egg-info/top_level.txt -> build/bdist.linux-x86_64/egg/EGG-INFO\n",
            "zip_safe flag not set; analyzing archive contents...\n",
            "creating dist\n",
            "creating 'dist/spektral-0.1.2-py3.6.egg' and adding 'build/bdist.linux-x86_64/egg' to it\n",
            "removing 'build/bdist.linux-x86_64/egg' (and everything under it)\n",
            "Processing spektral-0.1.2-py3.6.egg\n",
            "Copying spektral-0.1.2-py3.6.egg to /usr/local/lib/python3.6/dist-packages\n",
            "Adding spektral 0.1.2 to easy-install.pth file\n",
            "\n",
            "Installed /usr/local/lib/python3.6/dist-packages/spektral-0.1.2-py3.6.egg\n",
            "Processing dependencies for spektral==0.1.2\n",
            "Searching for scikit-learn==0.22.1\n",
            "Best match: scikit-learn 0.22.1\n",
            "Adding scikit-learn 0.22.1 to easy-install.pth file\n",
            "\n",
            "Using /usr/local/lib/python3.6/dist-packages\n",
            "Searching for requests==2.21.0\n",
            "Best match: requests 2.21.0\n",
            "Adding requests 2.21.0 to easy-install.pth file\n",
            "\n",
            "Using /usr/local/lib/python3.6/dist-packages\n",
            "Searching for scipy==1.4.1\n",
            "Best match: scipy 1.4.1\n",
            "Adding scipy 1.4.1 to easy-install.pth file\n",
            "\n",
            "Using /usr/local/lib/python3.6/dist-packages\n",
            "Searching for numpy==1.17.5\n",
            "Best match: numpy 1.17.5\n",
            "Adding numpy 1.17.5 to easy-install.pth file\n",
            "Installing f2py script to /usr/local/bin\n",
            "Installing f2py3 script to /usr/local/bin\n",
            "Installing f2py3.6 script to /usr/local/bin\n",
            "\n",
            "Using /usr/local/lib/python3.6/dist-packages\n",
            "Searching for pygraphviz==1.5\n",
            "Best match: pygraphviz 1.5\n",
            "Adding pygraphviz 1.5 to easy-install.pth file\n",
            "\n",
            "Using /usr/local/lib/python3.6/dist-packages\n",
            "Searching for joblib==0.14.1\n",
            "Best match: joblib 0.14.1\n",
            "Adding joblib 0.14.1 to easy-install.pth file\n",
            "\n",
            "Using /usr/local/lib/python3.6/dist-packages\n",
            "Searching for lxml==4.2.6\n",
            "Best match: lxml 4.2.6\n",
            "Adding lxml 4.2.6 to easy-install.pth file\n",
            "\n",
            "Using /usr/local/lib/python3.6/dist-packages\n",
            "Searching for pandas==0.25.3\n",
            "Best match: pandas 0.25.3\n",
            "Adding pandas 0.25.3 to easy-install.pth file\n",
            "\n",
            "Using /usr/local/lib/python3.6/dist-packages\n",
            "Searching for networkx==2.4\n",
            "Best match: networkx 2.4\n",
            "Adding networkx 2.4 to easy-install.pth file\n",
            "\n",
            "Using /usr/local/lib/python3.6/dist-packages\n",
            "Searching for tensorflow==1.15.0\n",
            "Best match: tensorflow 1.15.0\n",
            "Adding tensorflow 1.15.0 to easy-install.pth file\n",
            "Installing estimator_ckpt_converter script to /usr/local/bin\n",
            "Installing freeze_graph script to /usr/local/bin\n",
            "Installing saved_model_cli script to /usr/local/bin\n",
            "Installing tensorboard script to /usr/local/bin\n",
            "Installing tf_upgrade_v2 script to /usr/local/bin\n",
            "Installing tflite_convert script to /usr/local/bin\n",
            "Installing toco script to /usr/local/bin\n",
            "Installing toco_from_protos script to /usr/local/bin\n",
            "\n",
            "Using /usr/local/lib/python3.6/dist-packages\n",
            "Searching for Keras==2.2.5\n",
            "Best match: Keras 2.2.5\n",
            "Adding Keras 2.2.5 to easy-install.pth file\n",
            "\n",
            "Using /usr/local/lib/python3.6/dist-packages\n",
            "Searching for urllib3==1.24.3\n",
            "Best match: urllib3 1.24.3\n",
            "Adding urllib3 1.24.3 to easy-install.pth file\n",
            "\n",
            "Using /usr/local/lib/python3.6/dist-packages\n",
            "Searching for chardet==3.0.4\n",
            "Best match: chardet 3.0.4\n",
            "Adding chardet 3.0.4 to easy-install.pth file\n",
            "Installing chardetect script to /usr/local/bin\n",
            "\n",
            "Using /usr/local/lib/python3.6/dist-packages\n",
            "Searching for certifi==2019.11.28\n",
            "Best match: certifi 2019.11.28\n",
            "Adding certifi 2019.11.28 to easy-install.pth file\n",
            "\n",
            "Using /usr/local/lib/python3.6/dist-packages\n",
            "Searching for idna==2.8\n",
            "Best match: idna 2.8\n",
            "Adding idna 2.8 to easy-install.pth file\n",
            "\n",
            "Using /usr/local/lib/python3.6/dist-packages\n",
            "Searching for python-dateutil==2.6.1\n",
            "Best match: python-dateutil 2.6.1\n",
            "Adding python-dateutil 2.6.1 to easy-install.pth file\n",
            "\n",
            "Using /usr/local/lib/python3.6/dist-packages\n",
            "Searching for pytz==2018.9\n",
            "Best match: pytz 2018.9\n",
            "Adding pytz 2018.9 to easy-install.pth file\n",
            "\n",
            "Using /usr/local/lib/python3.6/dist-packages\n",
            "Searching for decorator==4.4.1\n",
            "Best match: decorator 4.4.1\n",
            "Adding decorator 4.4.1 to easy-install.pth file\n",
            "\n",
            "Using /usr/local/lib/python3.6/dist-packages\n",
            "Searching for gast==0.2.2\n",
            "Best match: gast 0.2.2\n",
            "Adding gast 0.2.2 to easy-install.pth file\n",
            "\n",
            "Using /usr/local/lib/python3.6/dist-packages\n",
            "Searching for tensorflow-estimator==1.15.1\n",
            "Best match: tensorflow-estimator 1.15.1\n",
            "Adding tensorflow-estimator 1.15.1 to easy-install.pth file\n",
            "\n",
            "Using /usr/local/lib/python3.6/dist-packages\n",
            "Searching for wheel==0.33.6\n",
            "Best match: wheel 0.33.6\n",
            "Adding wheel 0.33.6 to easy-install.pth file\n",
            "Installing wheel script to /usr/local/bin\n",
            "\n",
            "Using /usr/local/lib/python3.6/dist-packages\n",
            "Searching for Keras-Applications==1.0.8\n",
            "Best match: Keras-Applications 1.0.8\n",
            "Adding Keras-Applications 1.0.8 to easy-install.pth file\n",
            "\n",
            "Using /usr/local/lib/python3.6/dist-packages\n",
            "Searching for Keras-Preprocessing==1.1.0\n",
            "Best match: Keras-Preprocessing 1.1.0\n",
            "Adding Keras-Preprocessing 1.1.0 to easy-install.pth file\n",
            "\n",
            "Using /usr/local/lib/python3.6/dist-packages\n",
            "Searching for tensorboard==1.15.0\n",
            "Best match: tensorboard 1.15.0\n",
            "Adding tensorboard 1.15.0 to easy-install.pth file\n",
            "Installing tensorboard script to /usr/local/bin\n",
            "\n",
            "Using /usr/local/lib/python3.6/dist-packages\n",
            "Searching for termcolor==1.1.0\n",
            "Best match: termcolor 1.1.0\n",
            "Adding termcolor 1.1.0 to easy-install.pth file\n",
            "\n",
            "Using /usr/local/lib/python3.6/dist-packages\n",
            "Searching for protobuf==3.10.0\n",
            "Best match: protobuf 3.10.0\n",
            "Adding protobuf 3.10.0 to easy-install.pth file\n",
            "\n",
            "Using /usr/local/lib/python3.6/dist-packages\n",
            "Searching for absl-py==0.9.0\n",
            "Best match: absl-py 0.9.0\n",
            "Adding absl-py 0.9.0 to easy-install.pth file\n",
            "\n",
            "Using /usr/local/lib/python3.6/dist-packages\n",
            "Searching for grpcio==1.15.0\n",
            "Best match: grpcio 1.15.0\n",
            "Adding grpcio 1.15.0 to easy-install.pth file\n",
            "\n",
            "Using /usr/local/lib/python3.6/dist-packages\n",
            "Searching for opt-einsum==3.1.0\n",
            "Best match: opt-einsum 3.1.0\n",
            "Adding opt-einsum 3.1.0 to easy-install.pth file\n",
            "\n",
            "Using /usr/local/lib/python3.6/dist-packages\n",
            "Searching for wrapt==1.11.2\n",
            "Best match: wrapt 1.11.2\n",
            "Adding wrapt 1.11.2 to easy-install.pth file\n",
            "\n",
            "Using /usr/local/lib/python3.6/dist-packages\n",
            "Searching for google-pasta==0.1.8\n",
            "Best match: google-pasta 0.1.8\n",
            "Adding google-pasta 0.1.8 to easy-install.pth file\n",
            "\n",
            "Using /usr/local/lib/python3.6/dist-packages\n",
            "Searching for six==1.12.0\n",
            "Best match: six 1.12.0\n",
            "Adding six 1.12.0 to easy-install.pth file\n",
            "\n",
            "Using /usr/local/lib/python3.6/dist-packages\n",
            "Searching for astor==0.8.1\n",
            "Best match: astor 0.8.1\n",
            "Adding astor 0.8.1 to easy-install.pth file\n",
            "\n",
            "Using /usr/local/lib/python3.6/dist-packages\n",
            "Searching for h5py==2.8.0\n",
            "Best match: h5py 2.8.0\n",
            "Adding h5py 2.8.0 to easy-install.pth file\n",
            "\n",
            "Using /usr/local/lib/python3.6/dist-packages\n",
            "Searching for PyYAML==3.13\n",
            "Best match: PyYAML 3.13\n",
            "Adding PyYAML 3.13 to easy-install.pth file\n",
            "\n",
            "Using /usr/local/lib/python3.6/dist-packages\n",
            "Searching for Werkzeug==0.16.0\n",
            "Best match: Werkzeug 0.16.0\n",
            "Adding Werkzeug 0.16.0 to easy-install.pth file\n",
            "\n",
            "Using /usr/local/lib/python3.6/dist-packages\n",
            "Searching for Markdown==3.1.1\n",
            "Best match: Markdown 3.1.1\n",
            "Adding Markdown 3.1.1 to easy-install.pth file\n",
            "Installing markdown_py script to /usr/local/bin\n",
            "\n",
            "Using /usr/local/lib/python3.6/dist-packages\n",
            "Searching for setuptools==42.0.2\n",
            "Best match: setuptools 42.0.2\n",
            "Adding setuptools 42.0.2 to easy-install.pth file\n",
            "Installing easy_install script to /usr/local/bin\n",
            "Installing easy_install-3.8 script to /usr/local/bin\n",
            "\n",
            "Using /usr/local/lib/python3.6/dist-packages\n",
            "Finished processing dependencies for spektral==0.1.2\n"
          ],
          "name": "stdout"
        }
      ]
    },
    {
      "cell_type": "code",
      "metadata": {
        "id": "l_h_TknwWX06",
        "colab_type": "code",
        "colab": {
          "base_uri": "https://localhost:8080/",
          "height": 130
        },
        "outputId": "f0bc21ac-d453-4428-c7e3-bb1947e16ae9"
      },
      "source": [
        "from spektral.datasets import citation\n",
        "data = citation.load_data('cora')\n",
        "A, X, y, train_mask, val_mask, test_mask = data\n",
        "\n",
        "\n",
        "N = A.shape[0]\n",
        "F = X.shape[-1]\n",
        "n_classes = y.shape[-1]"
      ],
      "execution_count": 6,
      "outputs": [
        {
          "output_type": "stream",
          "text": [
            "Using TensorFlow backend.\n"
          ],
          "name": "stderr"
        },
        {
          "output_type": "display_data",
          "data": {
            "text/html": [
              "<p style=\"color: red;\">\n",
              "The default version of TensorFlow in Colab will soon switch to TensorFlow 2.x.<br>\n",
              "We recommend you <a href=\"https://www.tensorflow.org/guide/migrate\" target=\"_blank\">upgrade</a> now \n",
              "or ensure your notebook will continue to use TensorFlow 1.x via the <code>%tensorflow_version 1.x</code> magic:\n",
              "<a href=\"https://colab.research.google.com/notebooks/tensorflow_version.ipynb\" target=\"_blank\">more info</a>.</p>\n"
            ],
            "text/plain": [
              "<IPython.core.display.HTML object>"
            ]
          },
          "metadata": {
            "tags": []
          }
        },
        {
          "output_type": "stream",
          "text": [
            "Downloading corafrom https://github.com/tkipf/gcn/raw/master/gcn/data/\n",
            "Loading cora dataset\n",
            "Pre-processing node features\n"
          ],
          "name": "stdout"
        }
      ]
    },
    {
      "cell_type": "code",
      "metadata": {
        "id": "KEz_z3_ZYUUk",
        "colab_type": "code",
        "colab": {}
      },
      "source": [
        ""
      ],
      "execution_count": 0,
      "outputs": []
    },
    {
      "cell_type": "code",
      "metadata": {
        "id": "2UoMlnu2Yq2j",
        "colab_type": "code",
        "colab": {
          "base_uri": "https://localhost:8080/",
          "height": 121
        },
        "outputId": "31e0eaa0-4f12-4b23-fec4-5db2dc499df7"
      },
      "source": [
        "from google.colab import drive\n",
        "drive.mount('/content/drive')"
      ],
      "execution_count": 9,
      "outputs": [
        {
          "output_type": "stream",
          "text": [
            "Go to this URL in a browser: https://accounts.google.com/o/oauth2/auth?client_id=947318989803-6bn6qk8qdgf4n4g3pfee6491hc0brc4i.apps.googleusercontent.com&redirect_uri=urn%3aietf%3awg%3aoauth%3a2.0%3aoob&response_type=code&scope=email%20https%3a%2f%2fwww.googleapis.com%2fauth%2fdocs.test%20https%3a%2f%2fwww.googleapis.com%2fauth%2fdrive%20https%3a%2f%2fwww.googleapis.com%2fauth%2fdrive.photos.readonly%20https%3a%2f%2fwww.googleapis.com%2fauth%2fpeopleapi.readonly\n",
            "\n",
            "Enter your authorization code:\n",
            "··········\n",
            "Mounted at /content/drive\n"
          ],
          "name": "stdout"
        }
      ]
    },
    {
      "cell_type": "code",
      "metadata": {
        "id": "KsZ8G5paYUfx",
        "colab_type": "code",
        "colab": {
          "resources": {
            "http://localhost:8080/nbextensions/google.colab/files.js": {
              "data": "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",
              "ok": true,
              "headers": [
                [
                  "content-type",
                  "application/javascript"
                ]
              ],
              "status": 200,
              "status_text": ""
            }
          },
          "base_uri": "https://localhost:8080/",
          "height": 74
        },
        "outputId": "c485741f-355f-469c-d412-afd4298362c5"
      },
      "source": [
        "from google.colab import files\n",
        "uploaded = files.upload()"
      ],
      "execution_count": 14,
      "outputs": [
        {
          "output_type": "display_data",
          "data": {
            "text/html": [
              "\n",
              "     <input type=\"file\" id=\"files-0677f542-b1cd-4f4d-b502-b605488758eb\" name=\"files[]\" multiple disabled />\n",
              "     <output id=\"result-0677f542-b1cd-4f4d-b502-b605488758eb\">\n",
              "      Upload widget is only available when the cell has been executed in the\n",
              "      current browser session. Please rerun this cell to enable.\n",
              "      </output>\n",
              "      <script src=\"/nbextensions/google.colab/files.js\"></script> "
            ],
            "text/plain": [
              "<IPython.core.display.HTML object>"
            ]
          },
          "metadata": {
            "tags": []
          }
        },
        {
          "output_type": "stream",
          "text": [
            "Saving dump_charliehebdo.csv to dump_charliehebdo.csv\n"
          ],
          "name": "stdout"
        }
      ]
    },
    {
      "cell_type": "code",
      "metadata": {
        "id": "e3rNzA7GZux4",
        "colab_type": "code",
        "colab": {
          "base_uri": "https://localhost:8080/",
          "height": 34
        },
        "outputId": "12ac97a0-3449-4dfd-e19e-39def17e76ff"
      },
      "source": [
        "pwd"
      ],
      "execution_count": 15,
      "outputs": [
        {
          "output_type": "execute_result",
          "data": {
            "text/plain": [
              "'/content/spektral'"
            ]
          },
          "metadata": {
            "tags": []
          },
          "execution_count": 15
        }
      ]
    },
    {
      "cell_type": "code",
      "metadata": {
        "id": "yiKS7cpuYUm2",
        "colab_type": "code",
        "colab": {}
      },
      "source": [
        "import io\n",
        "import pandas as pd\n",
        "df = pd.read_csv('/content/spektral/charliehebdo.csv', header = None)\n",
        "#df = pd.read_csv(io.BytesIO(uploaded['dump_charliehebdo.csv']), header = None)\n",
        "#df.to_csv('/content/drive/My Drive/charliehebdo.csv')\n",
        "df = df.loc[:,[0,1,5,6,10]]\n",
        "df.columns = ['src_id','src_text','reply_id','reply_text','labels']\n",
        "y = df['labels']\n",
        "X = pd.read_csv('/content/drive/My Drive/X.csv')\n",
        "from scipy import sparse\n",
        "X_csr = sparse.csr_matrix(X)"
      ],
      "execution_count": 0,
      "outputs": []
    },
    {
      "cell_type": "code",
      "metadata": {
        "id": "8WySz4UilFi-",
        "colab_type": "code",
        "colab": {}
      },
      "source": [
        "\n",
        "X1 = X[:21073]"
      ],
      "execution_count": 0,
      "outputs": []
    },
    {
      "cell_type": "code",
      "metadata": {
        "id": "cfbaM2kTlZDg",
        "colab_type": "code",
        "colab": {
          "base_uri": "https://localhost:8080/",
          "height": 34
        },
        "outputId": "3c96d807-54a4-4e2b-cd81-b73d15166dba"
      },
      "source": [
        "X1.shape"
      ],
      "execution_count": 9,
      "outputs": [
        {
          "output_type": "execute_result",
          "data": {
            "text/plain": [
              "(21073, 4501)"
            ]
          },
          "metadata": {
            "tags": []
          },
          "execution_count": 9
        }
      ]
    },
    {
      "cell_type": "code",
      "metadata": {
        "id": "ZDsDmTcmlwAE",
        "colab_type": "code",
        "colab": {}
      },
      "source": [
        "X = X1"
      ],
      "execution_count": 0,
      "outputs": []
    },
    {
      "cell_type": "code",
      "metadata": {
        "id": "DmVwAVuIl4tr",
        "colab_type": "code",
        "colab": {}
      },
      "source": [
        "from scipy import sparse\n",
        "X_csr = sparse.csr_matrix(X)"
      ],
      "execution_count": 0,
      "outputs": []
    },
    {
      "cell_type": "code",
      "metadata": {
        "id": "vLTJsZHzYUph",
        "colab_type": "code",
        "colab": {}
      },
      "source": [
        "import networkx as nx\n",
        "short_graph = df\n",
        "short_graph = short_graph[0:20000]\n",
        "G = nx.from_pandas_edgelist(df=short_graph, source='src_id', target='reply_id')\n",
        "nodes = list(short_graph.src_id)\n",
        "nodes1 = list(short_graph.reply_id)\n",
        "nodes.extend(nodes1)\n",
        "G.add_nodes_from(nodes_for_adding=nodes)\n",
        "A = nx.adjacency_matrix(G)"
      ],
      "execution_count": 0,
      "outputs": []
    },
    {
      "cell_type": "code",
      "metadata": {
        "id": "0H4S8lgTcPR0",
        "colab_type": "code",
        "colab": {}
      },
      "source": [
        "A1 = A.todense()"
      ],
      "execution_count": 0,
      "outputs": []
    },
    {
      "cell_type": "code",
      "metadata": {
        "id": "7etyUaCAcdHz",
        "colab_type": "code",
        "colab": {
          "base_uri": "https://localhost:8080/",
          "height": 34
        },
        "outputId": "b315d1ea-57ee-49c8-9b0c-0424abcb6ced"
      },
      "source": [
        "A.shape"
      ],
      "execution_count": 12,
      "outputs": [
        {
          "output_type": "execute_result",
          "data": {
            "text/plain": [
              "(21073, 21073)"
            ]
          },
          "metadata": {
            "tags": []
          },
          "execution_count": 12
        }
      ]
    },
    {
      "cell_type": "code",
      "metadata": {
        "id": "Kz_zl4z0mKI3",
        "colab_type": "code",
        "colab": {}
      },
      "source": [
        "df1 = df[:21073]"
      ],
      "execution_count": 0,
      "outputs": []
    },
    {
      "cell_type": "code",
      "metadata": {
        "id": "FfOUnueFalad",
        "colab_type": "code",
        "colab": {}
      },
      "source": [
        "#from spektral.datasets import citation\n",
        "#data = citation.load_data('cora')\n",
        "#A, X, y, train_mask, val_mask, test_mask = data\n",
        "\n",
        "X = X_csr\n",
        "l = []\n",
        "import numpy as np\n",
        "for i in range(360):\n",
        "  l.append(True)\n",
        "for i in range (20713):\n",
        "  l.append(False)\n",
        "train_mask = np.array(l)\n",
        "l1 = []\n",
        "for i in range(360):\n",
        "  l1.append(False)\n",
        "for i in range(829):\n",
        "  l1.append(True)\n",
        "for i in range(19884):\n",
        "  l1.append(False)\n",
        "val_mask = np.array(l1)\n",
        "l2 = []\n",
        "for i in range(15884):\n",
        "  l2.append(False)\n",
        "for i in range(5189):\n",
        "  l2.append(True)\n",
        "test_mask = np.array(l2)\n",
        "y = np.zeros((21073,2))\n",
        "n1 = df1['labels']\n",
        "n = list(n1)\n",
        "for i in range(21073):\n",
        "  if (n[i] == 1):\n",
        "    y[i,1] = 1\n",
        "  elif (n[i] == 0):\n",
        "    y[i,0] = 1\n",
        "\n",
        "\n",
        "\n",
        "N = A.shape[0]\n",
        "F = X.shape[-1]\n",
        "n_classes = y.shape[-1]"
      ],
      "execution_count": 0,
      "outputs": []
    },
    {
      "cell_type": "code",
      "metadata": {
        "id": "TsZSQiXaamMT",
        "colab_type": "code",
        "colab": {}
      },
      "source": [
        "from spektral.layers import GraphConv\n",
        "from keras.models import Model\n",
        "from keras.layers import Input, Dropout"
      ],
      "execution_count": 0,
      "outputs": []
    },
    {
      "cell_type": "code",
      "metadata": {
        "id": "0U3tsfINYUsY",
        "colab_type": "code",
        "colab": {}
      },
      "source": [
        "# Model definition\n",
        "X_in = Input(shape=(F, ))  # Input layer for X\n",
        "A_in = Input((N, ), sparse=True)  # Input layer for A\n",
        "\n",
        "graph_conv_1 = GraphConv(16, activation='relu')([X_in, A_in])\n",
        "dropout = Dropout(0.5)(graph_conv_1)\n",
        "graph_conv_2 = GraphConv(n_classes, activation='softmax')([dropout, A_in])\n",
        "\n",
        "# Build model\n",
        "model = Model(inputs=[X_in, A_in], outputs=graph_conv_2)"
      ],
      "execution_count": 0,
      "outputs": []
    },
    {
      "cell_type": "code",
      "metadata": {
        "id": "FxCc0ckGWsMT",
        "colab_type": "code",
        "colab": {}
      },
      "source": [
        "from spektral import utils\n",
        "A = utils.localpooling_filter(A)"
      ],
      "execution_count": 0,
      "outputs": []
    },
    {
      "cell_type": "code",
      "metadata": {
        "id": "p74NkA3nbxH-",
        "colab_type": "code",
        "colab": {
          "base_uri": "https://localhost:8080/",
          "height": 353
        },
        "outputId": "9d160eaa-6dbe-4ce0-c5ac-0f7f54839a50"
      },
      "source": [
        "model.compile(optimizer='adam',\n",
        "              loss='categorical_crossentropy',\n",
        "              weighted_metrics=['acc'])\n",
        "model.summary()"
      ],
      "execution_count": 25,
      "outputs": [
        {
          "output_type": "stream",
          "text": [
            "Model: \"model_2\"\n",
            "__________________________________________________________________________________________________\n",
            "Layer (type)                    Output Shape         Param #     Connected to                     \n",
            "==================================================================================================\n",
            "input_3 (InputLayer)            (None, 4501)         0                                            \n",
            "__________________________________________________________________________________________________\n",
            "input_4 (InputLayer)            (None, 21073)        0                                            \n",
            "__________________________________________________________________________________________________\n",
            "graph_conv_3 (GraphConv)        (None, 16)           72032       input_3[0][0]                    \n",
            "                                                                 input_4[0][0]                    \n",
            "__________________________________________________________________________________________________\n",
            "dropout_2 (Dropout)             (None, 16)           0           graph_conv_3[0][0]               \n",
            "__________________________________________________________________________________________________\n",
            "graph_conv_4 (GraphConv)        (None, 2)            34          dropout_2[0][0]                  \n",
            "                                                                 input_4[0][0]                    \n",
            "==================================================================================================\n",
            "Total params: 72,066\n",
            "Trainable params: 72,066\n",
            "Non-trainable params: 0\n",
            "__________________________________________________________________________________________________\n"
          ],
          "name": "stdout"
        }
      ]
    },
    {
      "cell_type": "code",
      "metadata": {
        "id": "UxMYh-_7bzjI",
        "colab_type": "code",
        "colab": {
          "base_uri": "https://localhost:8080/",
          "height": 1000
        },
        "outputId": "6767fe38-f26e-4c14-af7e-67543e4955da"
      },
      "source": [
        "# Train model\n",
        "validation_data = ([X, A], y, val_mask)\n",
        "model.fit([X, A],\n",
        "          y,\n",
        "          sample_weight=train_mask,\n",
        "          epochs=100,\n",
        "          batch_size=N,\n",
        "          validation_data=validation_data,\n",
        "          shuffle=False)  # Shuffling data means shuffling the whole graph"
      ],
      "execution_count": 26,
      "outputs": [
        {
          "output_type": "stream",
          "text": [
            "WARNING:tensorflow:From /usr/local/lib/python3.6/dist-packages/tensorflow_core/python/ops/math_grad.py:1424: where (from tensorflow.python.ops.array_ops) is deprecated and will be removed in a future version.\n",
            "Instructions for updating:\n",
            "Use tf.where in 2.0, which has the same broadcast rule as np.where\n",
            "WARNING:tensorflow:From /usr/local/lib/python3.6/dist-packages/keras/backend/tensorflow_backend.py:1033: The name tf.assign_add is deprecated. Please use tf.compat.v1.assign_add instead.\n",
            "\n",
            "WARNING:tensorflow:From /usr/local/lib/python3.6/dist-packages/keras/backend/tensorflow_backend.py:1020: The name tf.assign is deprecated. Please use tf.compat.v1.assign instead.\n",
            "\n",
            "WARNING:tensorflow:From /usr/local/lib/python3.6/dist-packages/keras/backend/tensorflow_backend.py:3005: The name tf.Session is deprecated. Please use tf.compat.v1.Session instead.\n",
            "\n",
            "Train on 21073 samples, validate on 21073 samples\n",
            "Epoch 1/100\n",
            "WARNING:tensorflow:From /usr/local/lib/python3.6/dist-packages/keras/backend/tensorflow_backend.py:190: The name tf.get_default_session is deprecated. Please use tf.compat.v1.get_default_session instead.\n",
            "\n",
            "WARNING:tensorflow:From /usr/local/lib/python3.6/dist-packages/keras/backend/tensorflow_backend.py:197: The name tf.ConfigProto is deprecated. Please use tf.compat.v1.ConfigProto instead.\n",
            "\n",
            "WARNING:tensorflow:From /usr/local/lib/python3.6/dist-packages/keras/backend/tensorflow_backend.py:207: The name tf.global_variables is deprecated. Please use tf.compat.v1.global_variables instead.\n",
            "\n",
            "WARNING:tensorflow:From /usr/local/lib/python3.6/dist-packages/keras/backend/tensorflow_backend.py:216: The name tf.is_variable_initialized is deprecated. Please use tf.compat.v1.is_variable_initialized instead.\n",
            "\n",
            "WARNING:tensorflow:From /usr/local/lib/python3.6/dist-packages/keras/backend/tensorflow_backend.py:223: The name tf.variables_initializer is deprecated. Please use tf.compat.v1.variables_initializer instead.\n",
            "\n",
            "21073/21073 [==============================] - 2s 99us/step - loss: 0.0000e+00 - weighted_acc: 0.5500 - val_loss: 3.1231e-04 - val_weighted_acc: 1.0000\n",
            "Epoch 2/100\n",
            "21073/21073 [==============================] - 1s 47us/step - loss: 0.0000e+00 - weighted_acc: 0.5111 - val_loss: 3.1231e-04 - val_weighted_acc: 1.0000\n",
            "Epoch 3/100\n",
            "21073/21073 [==============================] - 1s 47us/step - loss: 0.0000e+00 - weighted_acc: 0.5639 - val_loss: 3.1231e-04 - val_weighted_acc: 1.0000\n",
            "Epoch 4/100\n",
            "21073/21073 [==============================] - 1s 47us/step - loss: 0.0000e+00 - weighted_acc: 0.5139 - val_loss: 3.1231e-04 - val_weighted_acc: 1.0000\n",
            "Epoch 5/100\n",
            "21073/21073 [==============================] - 1s 49us/step - loss: 0.0000e+00 - weighted_acc: 0.5139 - val_loss: 3.1231e-04 - val_weighted_acc: 1.0000\n",
            "Epoch 6/100\n",
            "21073/21073 [==============================] - 1s 49us/step - loss: 0.0000e+00 - weighted_acc: 0.5556 - val_loss: 3.1231e-04 - val_weighted_acc: 1.0000\n",
            "Epoch 7/100\n",
            "21073/21073 [==============================] - 1s 49us/step - loss: 0.0000e+00 - weighted_acc: 0.4944 - val_loss: 3.1231e-04 - val_weighted_acc: 1.0000\n",
            "Epoch 8/100\n",
            "21073/21073 [==============================] - 1s 47us/step - loss: 0.0000e+00 - weighted_acc: 0.4944 - val_loss: 3.1231e-04 - val_weighted_acc: 1.0000\n",
            "Epoch 9/100\n",
            "21073/21073 [==============================] - 1s 48us/step - loss: 0.0000e+00 - weighted_acc: 0.5278 - val_loss: 3.1231e-04 - val_weighted_acc: 1.0000\n",
            "Epoch 10/100\n",
            "21073/21073 [==============================] - 1s 49us/step - loss: 0.0000e+00 - weighted_acc: 0.5583 - val_loss: 3.1231e-04 - val_weighted_acc: 1.0000\n",
            "Epoch 11/100\n",
            "21073/21073 [==============================] - 1s 48us/step - loss: 0.0000e+00 - weighted_acc: 0.6306 - val_loss: 3.1231e-04 - val_weighted_acc: 1.0000\n",
            "Epoch 12/100\n",
            "21073/21073 [==============================] - 1s 48us/step - loss: 0.0000e+00 - weighted_acc: 0.5417 - val_loss: 3.1231e-04 - val_weighted_acc: 1.0000\n",
            "Epoch 13/100\n",
            "21073/21073 [==============================] - 1s 48us/step - loss: 0.0000e+00 - weighted_acc: 0.5722 - val_loss: 3.1231e-04 - val_weighted_acc: 1.0000\n",
            "Epoch 14/100\n",
            "21073/21073 [==============================] - 1s 47us/step - loss: 0.0000e+00 - weighted_acc: 0.5389 - val_loss: 3.1231e-04 - val_weighted_acc: 1.0000\n",
            "Epoch 15/100\n",
            "21073/21073 [==============================] - 1s 47us/step - loss: 0.0000e+00 - weighted_acc: 0.5139 - val_loss: 3.1231e-04 - val_weighted_acc: 1.0000\n",
            "Epoch 16/100\n",
            "21073/21073 [==============================] - 1s 48us/step - loss: 0.0000e+00 - weighted_acc: 0.5694 - val_loss: 3.1231e-04 - val_weighted_acc: 1.0000\n",
            "Epoch 17/100\n",
            "21073/21073 [==============================] - 1s 48us/step - loss: 0.0000e+00 - weighted_acc: 0.5694 - val_loss: 3.1231e-04 - val_weighted_acc: 1.0000\n",
            "Epoch 18/100\n",
            "21073/21073 [==============================] - 1s 48us/step - loss: 0.0000e+00 - weighted_acc: 0.6111 - val_loss: 3.1231e-04 - val_weighted_acc: 1.0000\n",
            "Epoch 19/100\n",
            "21073/21073 [==============================] - 1s 48us/step - loss: 0.0000e+00 - weighted_acc: 0.5389 - val_loss: 3.1231e-04 - val_weighted_acc: 1.0000\n",
            "Epoch 20/100\n",
            "21073/21073 [==============================] - 1s 48us/step - loss: 0.0000e+00 - weighted_acc: 0.5278 - val_loss: 3.1231e-04 - val_weighted_acc: 1.0000\n",
            "Epoch 21/100\n",
            "21073/21073 [==============================] - 1s 47us/step - loss: 0.0000e+00 - weighted_acc: 0.5444 - val_loss: 3.1231e-04 - val_weighted_acc: 1.0000\n",
            "Epoch 22/100\n",
            "21073/21073 [==============================] - 1s 47us/step - loss: 0.0000e+00 - weighted_acc: 0.5972 - val_loss: 3.1231e-04 - val_weighted_acc: 1.0000\n",
            "Epoch 23/100\n",
            "21073/21073 [==============================] - 1s 47us/step - loss: 0.0000e+00 - weighted_acc: 0.5528 - val_loss: 3.1231e-04 - val_weighted_acc: 1.0000\n",
            "Epoch 24/100\n",
            "21073/21073 [==============================] - 1s 47us/step - loss: 0.0000e+00 - weighted_acc: 0.5250 - val_loss: 3.1231e-04 - val_weighted_acc: 1.0000\n",
            "Epoch 25/100\n",
            "21073/21073 [==============================] - 1s 49us/step - loss: 0.0000e+00 - weighted_acc: 0.5528 - val_loss: 3.1231e-04 - val_weighted_acc: 1.0000\n",
            "Epoch 26/100\n",
            "21073/21073 [==============================] - 1s 48us/step - loss: 0.0000e+00 - weighted_acc: 0.5278 - val_loss: 3.1231e-04 - val_weighted_acc: 1.0000\n",
            "Epoch 27/100\n",
            "21073/21073 [==============================] - 1s 48us/step - loss: 0.0000e+00 - weighted_acc: 0.5722 - val_loss: 3.1231e-04 - val_weighted_acc: 1.0000\n",
            "Epoch 28/100\n",
            "21073/21073 [==============================] - 1s 48us/step - loss: 0.0000e+00 - weighted_acc: 0.5833 - val_loss: 3.1231e-04 - val_weighted_acc: 1.0000\n",
            "Epoch 29/100\n",
            "21073/21073 [==============================] - 1s 48us/step - loss: 0.0000e+00 - weighted_acc: 0.5528 - val_loss: 3.1231e-04 - val_weighted_acc: 1.0000\n",
            "Epoch 30/100\n",
            "21073/21073 [==============================] - 1s 48us/step - loss: 0.0000e+00 - weighted_acc: 0.5722 - val_loss: 3.1231e-04 - val_weighted_acc: 1.0000\n",
            "Epoch 31/100\n",
            "21073/21073 [==============================] - 1s 47us/step - loss: 0.0000e+00 - weighted_acc: 0.5083 - val_loss: 3.1231e-04 - val_weighted_acc: 1.0000\n",
            "Epoch 32/100\n",
            "21073/21073 [==============================] - 1s 47us/step - loss: 0.0000e+00 - weighted_acc: 0.5139 - val_loss: 3.1231e-04 - val_weighted_acc: 1.0000\n",
            "Epoch 33/100\n",
            "21073/21073 [==============================] - 1s 48us/step - loss: 0.0000e+00 - weighted_acc: 0.5389 - val_loss: 3.1231e-04 - val_weighted_acc: 1.0000\n",
            "Epoch 34/100\n",
            "21073/21073 [==============================] - 1s 47us/step - loss: 0.0000e+00 - weighted_acc: 0.5306 - val_loss: 3.1231e-04 - val_weighted_acc: 1.0000\n",
            "Epoch 35/100\n",
            "21073/21073 [==============================] - 1s 47us/step - loss: 0.0000e+00 - weighted_acc: 0.5528 - val_loss: 3.1231e-04 - val_weighted_acc: 1.0000\n",
            "Epoch 36/100\n",
            "21073/21073 [==============================] - 1s 47us/step - loss: 0.0000e+00 - weighted_acc: 0.5611 - val_loss: 3.1231e-04 - val_weighted_acc: 1.0000\n",
            "Epoch 37/100\n",
            "21073/21073 [==============================] - 1s 47us/step - loss: 0.0000e+00 - weighted_acc: 0.5556 - val_loss: 3.1231e-04 - val_weighted_acc: 1.0000\n",
            "Epoch 38/100\n",
            "21073/21073 [==============================] - 1s 48us/step - loss: 0.0000e+00 - weighted_acc: 0.5583 - val_loss: 3.1231e-04 - val_weighted_acc: 1.0000\n",
            "Epoch 39/100\n",
            "21073/21073 [==============================] - 1s 49us/step - loss: 0.0000e+00 - weighted_acc: 0.6056 - val_loss: 3.1231e-04 - val_weighted_acc: 1.0000\n",
            "Epoch 40/100\n",
            "21073/21073 [==============================] - 1s 48us/step - loss: 0.0000e+00 - weighted_acc: 0.5139 - val_loss: 3.1231e-04 - val_weighted_acc: 1.0000\n",
            "Epoch 41/100\n",
            "21073/21073 [==============================] - 1s 48us/step - loss: 0.0000e+00 - weighted_acc: 0.5556 - val_loss: 3.1231e-04 - val_weighted_acc: 1.0000\n",
            "Epoch 42/100\n",
            "21073/21073 [==============================] - 1s 48us/step - loss: 0.0000e+00 - weighted_acc: 0.5444 - val_loss: 3.1231e-04 - val_weighted_acc: 1.0000\n",
            "Epoch 43/100\n",
            "21073/21073 [==============================] - 1s 48us/step - loss: 0.0000e+00 - weighted_acc: 0.5444 - val_loss: 3.1231e-04 - val_weighted_acc: 1.0000\n",
            "Epoch 44/100\n",
            "21073/21073 [==============================] - 1s 49us/step - loss: 0.0000e+00 - weighted_acc: 0.5472 - val_loss: 3.1231e-04 - val_weighted_acc: 1.0000\n",
            "Epoch 45/100\n",
            "21073/21073 [==============================] - 1s 47us/step - loss: 0.0000e+00 - weighted_acc: 0.5222 - val_loss: 3.1231e-04 - val_weighted_acc: 1.0000\n",
            "Epoch 46/100\n",
            "21073/21073 [==============================] - 1s 48us/step - loss: 0.0000e+00 - weighted_acc: 0.5306 - val_loss: 3.1231e-04 - val_weighted_acc: 1.0000\n",
            "Epoch 47/100\n",
            "21073/21073 [==============================] - 1s 48us/step - loss: 0.0000e+00 - weighted_acc: 0.5333 - val_loss: 3.1231e-04 - val_weighted_acc: 1.0000\n",
            "Epoch 48/100\n",
            "21073/21073 [==============================] - 1s 48us/step - loss: 0.0000e+00 - weighted_acc: 0.5250 - val_loss: 3.1231e-04 - val_weighted_acc: 1.0000\n",
            "Epoch 49/100\n",
            "21073/21073 [==============================] - 1s 47us/step - loss: 0.0000e+00 - weighted_acc: 0.5972 - val_loss: 3.1231e-04 - val_weighted_acc: 1.0000\n",
            "Epoch 50/100\n",
            "21073/21073 [==============================] - 1s 47us/step - loss: 0.0000e+00 - weighted_acc: 0.5528 - val_loss: 3.1231e-04 - val_weighted_acc: 1.0000\n",
            "Epoch 51/100\n",
            "21073/21073 [==============================] - 1s 49us/step - loss: 0.0000e+00 - weighted_acc: 0.5167 - val_loss: 3.1231e-04 - val_weighted_acc: 1.0000\n",
            "Epoch 52/100\n",
            "21073/21073 [==============================] - 1s 49us/step - loss: 0.0000e+00 - weighted_acc: 0.5333 - val_loss: 3.1231e-04 - val_weighted_acc: 1.0000\n",
            "Epoch 53/100\n",
            "21073/21073 [==============================] - 1s 49us/step - loss: 0.0000e+00 - weighted_acc: 0.5806 - val_loss: 3.1231e-04 - val_weighted_acc: 1.0000\n",
            "Epoch 54/100\n",
            "21073/21073 [==============================] - 1s 48us/step - loss: 0.0000e+00 - weighted_acc: 0.5389 - val_loss: 3.1231e-04 - val_weighted_acc: 1.0000\n",
            "Epoch 55/100\n",
            "21073/21073 [==============================] - 1s 48us/step - loss: 0.0000e+00 - weighted_acc: 0.5750 - val_loss: 3.1231e-04 - val_weighted_acc: 1.0000\n",
            "Epoch 56/100\n",
            "21073/21073 [==============================] - 1s 48us/step - loss: 0.0000e+00 - weighted_acc: 0.5611 - val_loss: 3.1231e-04 - val_weighted_acc: 1.0000\n",
            "Epoch 57/100\n",
            "21073/21073 [==============================] - 1s 47us/step - loss: 0.0000e+00 - weighted_acc: 0.6083 - val_loss: 3.1231e-04 - val_weighted_acc: 1.0000\n",
            "Epoch 58/100\n",
            "21073/21073 [==============================] - 1s 48us/step - loss: 0.0000e+00 - weighted_acc: 0.5167 - val_loss: 3.1231e-04 - val_weighted_acc: 1.0000\n",
            "Epoch 59/100\n",
            "21073/21073 [==============================] - 1s 47us/step - loss: 0.0000e+00 - weighted_acc: 0.4944 - val_loss: 3.1231e-04 - val_weighted_acc: 1.0000\n",
            "Epoch 60/100\n",
            "21073/21073 [==============================] - 1s 47us/step - loss: 0.0000e+00 - weighted_acc: 0.5361 - val_loss: 3.1231e-04 - val_weighted_acc: 1.0000\n",
            "Epoch 61/100\n",
            "21073/21073 [==============================] - 1s 47us/step - loss: 0.0000e+00 - weighted_acc: 0.5306 - val_loss: 3.1231e-04 - val_weighted_acc: 1.0000\n",
            "Epoch 62/100\n",
            "21073/21073 [==============================] - 1s 47us/step - loss: 0.0000e+00 - weighted_acc: 0.4944 - val_loss: 3.1231e-04 - val_weighted_acc: 1.0000\n",
            "Epoch 63/100\n",
            "21073/21073 [==============================] - 1s 47us/step - loss: 0.0000e+00 - weighted_acc: 0.5917 - val_loss: 3.1231e-04 - val_weighted_acc: 1.0000\n",
            "Epoch 64/100\n",
            "21073/21073 [==============================] - 1s 48us/step - loss: 0.0000e+00 - weighted_acc: 0.5222 - val_loss: 3.1231e-04 - val_weighted_acc: 1.0000\n",
            "Epoch 65/100\n",
            "21073/21073 [==============================] - 1s 48us/step - loss: 0.0000e+00 - weighted_acc: 0.5750 - val_loss: 3.1231e-04 - val_weighted_acc: 1.0000\n",
            "Epoch 66/100\n",
            "21073/21073 [==============================] - 1s 49us/step - loss: 0.0000e+00 - weighted_acc: 0.5444 - val_loss: 3.1231e-04 - val_weighted_acc: 1.0000\n",
            "Epoch 67/100\n",
            "21073/21073 [==============================] - 1s 49us/step - loss: 0.0000e+00 - weighted_acc: 0.5083 - val_loss: 3.1231e-04 - val_weighted_acc: 1.0000\n",
            "Epoch 68/100\n",
            "21073/21073 [==============================] - 1s 48us/step - loss: 0.0000e+00 - weighted_acc: 0.5306 - val_loss: 3.1231e-04 - val_weighted_acc: 1.0000\n",
            "Epoch 69/100\n",
            "21073/21073 [==============================] - 1s 49us/step - loss: 0.0000e+00 - weighted_acc: 0.6417 - val_loss: 3.1231e-04 - val_weighted_acc: 1.0000\n",
            "Epoch 70/100\n",
            "21073/21073 [==============================] - 1s 49us/step - loss: 0.0000e+00 - weighted_acc: 0.5167 - val_loss: 3.1231e-04 - val_weighted_acc: 1.0000\n",
            "Epoch 71/100\n",
            "21073/21073 [==============================] - 1s 51us/step - loss: 0.0000e+00 - weighted_acc: 0.5194 - val_loss: 3.1231e-04 - val_weighted_acc: 1.0000\n",
            "Epoch 72/100\n",
            "21073/21073 [==============================] - 1s 48us/step - loss: 0.0000e+00 - weighted_acc: 0.5694 - val_loss: 3.1231e-04 - val_weighted_acc: 1.0000\n",
            "Epoch 73/100\n",
            "21073/21073 [==============================] - 1s 47us/step - loss: 0.0000e+00 - weighted_acc: 0.5889 - val_loss: 3.1231e-04 - val_weighted_acc: 1.0000\n",
            "Epoch 74/100\n",
            "21073/21073 [==============================] - 1s 47us/step - loss: 0.0000e+00 - weighted_acc: 0.5833 - val_loss: 3.1231e-04 - val_weighted_acc: 1.0000\n",
            "Epoch 75/100\n",
            "21073/21073 [==============================] - 1s 47us/step - loss: 0.0000e+00 - weighted_acc: 0.5444 - val_loss: 3.1231e-04 - val_weighted_acc: 1.0000\n",
            "Epoch 76/100\n",
            "21073/21073 [==============================] - 1s 48us/step - loss: 0.0000e+00 - weighted_acc: 0.5278 - val_loss: 3.1231e-04 - val_weighted_acc: 1.0000\n",
            "Epoch 77/100\n",
            "21073/21073 [==============================] - 1s 48us/step - loss: 0.0000e+00 - weighted_acc: 0.5500 - val_loss: 3.1231e-04 - val_weighted_acc: 1.0000\n",
            "Epoch 78/100\n",
            "21073/21073 [==============================] - 1s 48us/step - loss: 0.0000e+00 - weighted_acc: 0.5472 - val_loss: 3.1231e-04 - val_weighted_acc: 1.0000\n",
            "Epoch 79/100\n",
            "21073/21073 [==============================] - 1s 47us/step - loss: 0.0000e+00 - weighted_acc: 0.5500 - val_loss: 3.1231e-04 - val_weighted_acc: 1.0000\n",
            "Epoch 80/100\n",
            "21073/21073 [==============================] - 1s 47us/step - loss: 0.0000e+00 - weighted_acc: 0.5694 - val_loss: 3.1231e-04 - val_weighted_acc: 1.0000\n",
            "Epoch 81/100\n",
            "21073/21073 [==============================] - 1s 46us/step - loss: 0.0000e+00 - weighted_acc: 0.5472 - val_loss: 3.1231e-04 - val_weighted_acc: 1.0000\n",
            "Epoch 82/100\n",
            "21073/21073 [==============================] - 1s 47us/step - loss: 0.0000e+00 - weighted_acc: 0.5111 - val_loss: 3.1231e-04 - val_weighted_acc: 1.0000\n",
            "Epoch 83/100\n",
            "21073/21073 [==============================] - 1s 47us/step - loss: 0.0000e+00 - weighted_acc: 0.5389 - val_loss: 3.1231e-04 - val_weighted_acc: 1.0000\n",
            "Epoch 84/100\n",
            "21073/21073 [==============================] - 1s 48us/step - loss: 0.0000e+00 - weighted_acc: 0.5444 - val_loss: 3.1231e-04 - val_weighted_acc: 1.0000\n",
            "Epoch 85/100\n",
            "21073/21073 [==============================] - 1s 48us/step - loss: 0.0000e+00 - weighted_acc: 0.5167 - val_loss: 3.1231e-04 - val_weighted_acc: 1.0000\n",
            "Epoch 86/100\n",
            "21073/21073 [==============================] - 1s 48us/step - loss: 0.0000e+00 - weighted_acc: 0.5222 - val_loss: 3.1231e-04 - val_weighted_acc: 1.0000\n",
            "Epoch 87/100\n",
            "21073/21073 [==============================] - 1s 48us/step - loss: 0.0000e+00 - weighted_acc: 0.5139 - val_loss: 3.1231e-04 - val_weighted_acc: 1.0000\n",
            "Epoch 88/100\n",
            "21073/21073 [==============================] - 1s 48us/step - loss: 0.0000e+00 - weighted_acc: 0.5556 - val_loss: 3.1231e-04 - val_weighted_acc: 1.0000\n",
            "Epoch 89/100\n",
            "21073/21073 [==============================] - 1s 48us/step - loss: 0.0000e+00 - weighted_acc: 0.5583 - val_loss: 3.1231e-04 - val_weighted_acc: 1.0000\n",
            "Epoch 90/100\n",
            "21073/21073 [==============================] - 1s 48us/step - loss: 0.0000e+00 - weighted_acc: 0.5500 - val_loss: 3.1231e-04 - val_weighted_acc: 1.0000\n",
            "Epoch 91/100\n",
            "21073/21073 [==============================] - 1s 47us/step - loss: 0.0000e+00 - weighted_acc: 0.5667 - val_loss: 3.1231e-04 - val_weighted_acc: 1.0000\n",
            "Epoch 92/100\n",
            "21073/21073 [==============================] - 1s 47us/step - loss: 0.0000e+00 - weighted_acc: 0.5583 - val_loss: 3.1231e-04 - val_weighted_acc: 1.0000\n",
            "Epoch 93/100\n",
            "21073/21073 [==============================] - 1s 48us/step - loss: 0.0000e+00 - weighted_acc: 0.5444 - val_loss: 3.1231e-04 - val_weighted_acc: 1.0000\n",
            "Epoch 94/100\n",
            "21073/21073 [==============================] - 1s 47us/step - loss: 0.0000e+00 - weighted_acc: 0.5806 - val_loss: 3.1231e-04 - val_weighted_acc: 1.0000\n",
            "Epoch 95/100\n",
            "21073/21073 [==============================] - 1s 46us/step - loss: 0.0000e+00 - weighted_acc: 0.5250 - val_loss: 3.1231e-04 - val_weighted_acc: 1.0000\n",
            "Epoch 96/100\n",
            "21073/21073 [==============================] - 1s 46us/step - loss: 0.0000e+00 - weighted_acc: 0.5028 - val_loss: 3.1231e-04 - val_weighted_acc: 1.0000\n",
            "Epoch 97/100\n",
            "21073/21073 [==============================] - 1s 48us/step - loss: 0.0000e+00 - weighted_acc: 0.5000 - val_loss: 3.1231e-04 - val_weighted_acc: 1.0000\n",
            "Epoch 98/100\n",
            "21073/21073 [==============================] - 1s 49us/step - loss: 0.0000e+00 - weighted_acc: 0.5611 - val_loss: 3.1231e-04 - val_weighted_acc: 1.0000\n",
            "Epoch 99/100\n",
            "21073/21073 [==============================] - 1s 48us/step - loss: 0.0000e+00 - weighted_acc: 0.5639 - val_loss: 3.1231e-04 - val_weighted_acc: 1.0000\n",
            "Epoch 100/100\n",
            "21073/21073 [==============================] - 1s 48us/step - loss: 0.0000e+00 - weighted_acc: 0.5694 - val_loss: 3.1231e-04 - val_weighted_acc: 1.0000\n"
          ],
          "name": "stdout"
        },
        {
          "output_type": "execute_result",
          "data": {
            "text/plain": [
              "<keras.callbacks.History at 0x7f8a8a803748>"
            ]
          },
          "metadata": {
            "tags": []
          },
          "execution_count": 26
        }
      ]
    },
    {
      "cell_type": "code",
      "metadata": {
        "id": "HFtXmhvUb3SV",
        "colab_type": "code",
        "colab": {
          "base_uri": "https://localhost:8080/",
          "height": 84
        },
        "outputId": "f77b663b-ec4a-4523-f3b8-0d3fced513ad"
      },
      "source": [
        "# Evaluate model\n",
        "eval_results = model.evaluate([X, A],\n",
        "                              y,\n",
        "                              sample_weight=test_mask,\n",
        "                              batch_size=N)\n",
        "print('Done.\\n'\n",
        "      'Test loss: {}\\n'\n",
        "      'Test accuracy: {}'.format(*eval_results))"
      ],
      "execution_count": 27,
      "outputs": [
        {
          "output_type": "stream",
          "text": [
            "\r21073/21073 [==============================] - 0s 24us/step\n",
            "Done.\n",
            "Test loss: 0.037274450063705444\n",
            "Test accuracy: 0.9976794719696045\n"
          ],
          "name": "stdout"
        }
      ]
    },
    {
      "cell_type": "code",
      "metadata": {
        "id": "_Z8XS1PHxOjo",
        "colab_type": "code",
        "colab": {}
      },
      "source": [
        ""
      ],
      "execution_count": 0,
      "outputs": []
    }
  ]
}